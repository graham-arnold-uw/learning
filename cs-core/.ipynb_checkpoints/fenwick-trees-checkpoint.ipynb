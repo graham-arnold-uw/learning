{
 "cells": [
  {
   "cell_type": "markdown",
   "metadata": {},
   "source": [
    "https://leetcode.com/articles/a-recursive-approach-to-segment-trees-range-sum-queries-lazy-propagation/"
   ]
  },
  {
   "cell_type": "markdown",
   "metadata": {},
   "source": [
    "# Binary Index Tree (Fenwick Tree)"
   ]
  },
  {
   "cell_type": "code",
   "execution_count": 38,
   "metadata": {},
   "outputs": [],
   "source": [
    "class Fenwick:\n",
    "    \n",
    "    def __init__(self, data):\n",
    "        self.tree = [0] + data.copy()\n",
    "        self.data_len = len(self.tree)\n",
    "        #self.tree = [0 for i in range(self.data_len)]\n",
    "        self.build_tree()\n",
    "    \n",
    "    def build_tree(self):\n",
    "        for i in range(1,self.data_len):\n",
    "            p_idx = i + (i  & -i) #parent index of current index\n",
    "            if p_idx < self.data_len:\n",
    "                self.tree[p_idx] = self.tree[p_idx] + self.tree[i] #add child value to immediate parent\n",
    "    \n",
    "    def interval_sum(self, i, j):\n",
    "        return self.query(j) - self.query(i - 1)\n",
    "    \n",
    "    def query(self, i):\n",
    "        curr_sum = 0\n",
    "        while i > 0:\n",
    "            curr_sum += self.tree[i]\n",
    "            i -= i & - i\n",
    "        return curr_sum\n",
    "    \n",
    "    def add(self, i, k):\n",
    "        while i < self.data_len:\n",
    "            self.tree[i] += k\n",
    "            i += i & -i\n",
    "            \n",
    "    def standard_prefix(self, data):\n",
    "        n = len(data)\n",
    "        res = [0 for j in range(n + 1)]\n",
    "        \n",
    "        for i in range(n):\n",
    "            if i == 0:\n",
    "                res[i + 1] = data[i]\n",
    "            else:\n",
    "                res[i + 1]= res[i] + data[i]\n",
    "        return res\n",
    "        \n",
    "            \n",
    "        "
   ]
  },
  {
   "cell_type": "code",
   "execution_count": 39,
   "metadata": {},
   "outputs": [
    {
     "name": "stdout",
     "output_type": "stream",
     "text": [
      "[0, 5, 7, 9, 13, 5, 25, 10, 41, 2, 5, -4, 1, -2, 13, 5]\n",
      "7\n",
      "38\n",
      "interval sum is 31\n",
      "\n",
      "[0, 5, 7, 16, 13, 18, 38, 48, 41, 43, 46, 42, 42, 40, 55, 60]\n",
      "standard interval sum is 31\n",
      "\n",
      "testing built in solver: 31\n"
     ]
    }
   ],
   "source": [
    "data_in = [5, 2, 9, -3, 5, 20 ,10, -7, 2, 3, -4, 0, -2, 15, 5]\n",
    "ftree = Fenwick(data_in)\n",
    "print(ftree.tree)\n",
    "print(ftree.query(2))\n",
    "print(ftree.query(6))\n",
    "print(f\"interval sum is {ftree.query(6) - ftree.query(2)}\")\n",
    "print()\n",
    "test_prefix = ftree.standard_prefix(data_in)\n",
    "print(test_prefix)\n",
    "print(f\"standard interval sum is {test_prefix[6] - test_prefix[2]}\")\n",
    "print()\n",
    "print(f\"testing built in solver: {ftree.interval_sum(3,6)}\")"
   ]
  },
  {
   "cell_type": "markdown",
   "metadata": {},
   "source": [
    "# 2D BIT"
   ]
  },
  {
   "cell_type": "code",
   "execution_count": 64,
   "metadata": {},
   "outputs": [],
   "source": [
    "import copy\n",
    "class Fenwick2D:\n",
    "    \n",
    "    def __init__(self, matrix):\n",
    "        self.m = len(matrix)\n",
    "        self.n = len(matrix[0])\n",
    "        self.matrix = matrix\n",
    "        self.tree_mat = [[0 for j in range(self.n + 1)] for i in range(self.m + 1)]\n",
    "        #for row in range(self.m):\n",
    "            #for col in range(self.n):\n",
    "                #self.tree_mat[row + 1][col + 1] = matrix[row][col]\n",
    "                \n",
    "        self.build_tree_mat()\n",
    "    \n",
    "    '''\n",
    "    def build_tree_mat(self):\n",
    "        for r in range(1,self.m):\n",
    "            pr = r + (r  & -r)\n",
    "            for c in range(1, self.n):\n",
    "                pc = c + (c & -c)\n",
    "                if pr < self.m and pc < self.n:\n",
    "                    self.tree_mat[pr][pc] = self.tree_mat[pr][pc] + self.tree_mat[r][c] #add child value to immediate parent\n",
    "    '''\n",
    "    def build_tree_mat(self):\n",
    "        for i in range(1, self.m + 1):\n",
    "            for j in range(1,self.n + 1):\n",
    "                val = self.matrix[i - 1][j - 1]\n",
    "                self.update(i, j, val)\n",
    "                \n",
    "    def area_sum(self, r1, c1, r2, c2):\n",
    "        a = self.query(r2, c2)\n",
    "        b = self.query(r1 - 1, c1 - 1)\n",
    "        c = self.query(r2, c1 - 1)\n",
    "        d = self.query(r1 - 1, c2)\n",
    "        return (a + b) - (c + d)\n",
    "    \n",
    "    def query(self, row, col):\n",
    "        curr_sum = 0\n",
    "        while row > 0:\n",
    "            col_cp = col\n",
    "            while col_cp > 0:\n",
    "                curr_sum += self.tree_mat[row][col_cp]\n",
    "                col_cp -= col_cp & -col_cp\n",
    "            row -= row & -row\n",
    "        return curr_sum\n",
    "    \n",
    "    def update(self, i, j, k):\n",
    "        while i <= self.m:\n",
    "            c = j\n",
    "            while c <= self.n:\n",
    "                self.tree_mat[i][c] += k\n",
    "                c += c & -c\n",
    "            i += i & - 1\n",
    "            \n",
    "\n",
    "def nice_array_print(mat):\n",
    "        m = len(mat)\n",
    "        n = len(mat[0])\n",
    "        \n",
    "        for i in range(m):\n",
    "            print(mat[i][:])\n",
    "        print()"
   ]
  },
  {
   "cell_type": "code",
   "execution_count": 66,
   "metadata": {},
   "outputs": [
    {
     "name": "stdout",
     "output_type": "stream",
     "text": [
      "[0, 0, 0, 0, 0, 0]\n",
      "[0, 3, 3, 1, 8, 2]\n",
      "[0, 8, 14, 4, 24, 3]\n",
      "[0, 1, 3, 0, 4, 5]\n",
      "[0, 12, 19, 4, 30, 10]\n",
      "[0, 1, 1, 3, 4, 5]\n",
      "\n",
      "11\n"
     ]
    }
   ],
   "source": [
    "data_mat = [[3, 0, 1, 4, 2], [5, 6, 3, 2, 1], [1, 2, 0, 1, 5], [4, 1, 0, 1, 7], [1, 0, 3, 0, 5]]\n",
    "fmat = Fenwick2D(data_mat)\n",
    "nice_array_print(fmat.tree_mat)\n",
    "print(fmat.area_sum(2,2,3,3))"
   ]
  },
  {
   "cell_type": "code",
   "execution_count": 54,
   "metadata": {},
   "outputs": [
    {
     "data": {
      "text/plain": [
       "2"
      ]
     },
     "execution_count": 54,
     "metadata": {},
     "output_type": "execute_result"
    }
   ],
   "source": [
    "2&-2"
   ]
  },
  {
   "cell_type": "code",
   "execution_count": null,
   "metadata": {},
   "outputs": [],
   "source": []
  }
 ],
 "metadata": {
  "kernelspec": {
   "display_name": "Python 3",
   "language": "python",
   "name": "python3"
  },
  "language_info": {
   "codemirror_mode": {
    "name": "ipython",
    "version": 3
   },
   "file_extension": ".py",
   "mimetype": "text/x-python",
   "name": "python",
   "nbconvert_exporter": "python",
   "pygments_lexer": "ipython3",
   "version": "3.6.9"
  }
 },
 "nbformat": 4,
 "nbformat_minor": 4
}
