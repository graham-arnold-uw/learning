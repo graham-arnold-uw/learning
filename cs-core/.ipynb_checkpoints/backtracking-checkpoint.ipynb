{
 "cells": [
  {
   "cell_type": "markdown",
   "metadata": {},
   "source": [
    "# General backtracking framework"
   ]
  },
  {
   "cell_type": "code",
   "execution_count": 101,
   "metadata": {},
   "outputs": [],
   "source": [
    "MAXCANDIDATES = 50\n",
    "\n",
    "\n",
    "finished = False\n",
    "\n",
    "#indate can be used to pass general information to the routine\n",
    "#for example it can be used to pass n - the size of the target solution\n",
    "#this can be used for permutations or finding subsets\n",
    "#other types of indata might be needed for variable-sized solutions like games\n",
    "def backtrack(a, k, indata):\n",
    "\n",
    "    if(is_a_solution(a,k,indata)):\n",
    "        process_solution(a,k,indata)\n",
    "        \n",
    "    else:\n",
    "        k = k + 1\n",
    "        c = construct_candidates(a,k,indata)\n",
    "        num_candidates = len(c)\n",
    "        #print(num_candidates)\n",
    "        for i in range(num_candidates):\n",
    "            #print(c)\n",
    "            \n",
    "            a[k] = c[i]\n",
    "            make_move(a,k,indata)\n",
    "            backtrack(a,k,indata)\n",
    "            unmake_move(a,k,indata)\n",
    "            if finished:\n",
    "                return\n",
    "\n"
   ]
  },
  {
   "cell_type": "code",
   "execution_count": 10,
   "metadata": {},
   "outputs": [],
   "source": [
    "# Boolean function tests whether first k elements of a complete the problem        \n",
    "def is_a_solution(a,k,indata):\n",
    "    pass\n",
    "\n",
    "#return a list c containing all the possible candidates for kth position of a,\n",
    "#given the contents of the first k-1 positions \n",
    "def construct_candidates(a,k,indata):\n",
    "    pass\n",
    "\n",
    "#print or counts or do whatever to complete solution\n",
    "def process_solution(a,k,indata):\n",
    "    pass\n",
    "\n",
    "#modify a data structure in response to latest move\n",
    "def make_move(a,k,indata):\n",
    "    pass\n",
    "\n",
    "#clear up data structure if we decide to take back that move\n",
    "def unmake_move(a,k,indata):\n",
    "    pass\n"
   ]
  },
  {
   "cell_type": "markdown",
   "metadata": {},
   "source": [
    "# Constructing All Subsets"
   ]
  },
  {
   "cell_type": "code",
   "execution_count": 44,
   "metadata": {},
   "outputs": [],
   "source": [
    "# Boolean function tests whether first k elements of a complete the problem        \n",
    "def is_a_solution(a,k,n):\n",
    "    return k == n\n",
    "\n",
    "#return a list c containing all the possible candidates for kth position of a,\n",
    "#given the contents of the first k-1 positions \n",
    "def construct_candidates(a,k,indata):\n",
    "    c = [True, False]\n",
    "    return c\n",
    "\n",
    "#print or counts or do whatever to complete solution\n",
    "def process_solution(a,k,indata):\n",
    "    print('{', end='')\n",
    "    for i in range(1,k+1):\n",
    "        if a[i] == True:\n",
    "            print(str(i), end='')\n",
    "    \n",
    "    print('}')\n",
    "    \n",
    "\n",
    "#modify a data structure in response to latest move\n",
    "def make_move(a,k,indata):\n",
    "    pass\n",
    "\n",
    "#clear up data structure if we decide to take back that move\n",
    "def unmake_move(a,k,indata):\n",
    "    pass\n",
    "\n",
    "\n",
    "def generate_subsets(n):\n",
    "    a = [False for i in range(n+1)]\n",
    "    \n",
    "    \n",
    "    backtrack(a,0,n)\n",
    "    "
   ]
  },
  {
   "cell_type": "code",
   "execution_count": 49,
   "metadata": {},
   "outputs": [
    {
     "name": "stdout",
     "output_type": "stream",
     "text": [
      "{12}\n",
      "{1}\n",
      "{2}\n",
      "{}\n"
     ]
    }
   ],
   "source": [
    "generate_subsets(2)"
   ]
  },
  {
   "cell_type": "markdown",
   "metadata": {},
   "source": [
    "# Construct All Permutations"
   ]
  },
  {
   "cell_type": "code",
   "execution_count": 66,
   "metadata": {},
   "outputs": [],
   "source": [
    "# Boolean function tests whether first k elements of a complete the problem        \n",
    "def is_a_solution(a,k,indata):\n",
    "    return k == indata\n",
    "\n",
    "#return a list c containing all the possible candidates for kth position of a,\n",
    "#given the contents of the first k-1 positions \n",
    "def construct_candidates(a,k,indata):\n",
    "    in_perm = [False for i in range(len(a))]\n",
    "    \n",
    "    for i in range(k):\n",
    "        in_perm[a[i]] = True\n",
    "    c = []\n",
    "    \n",
    "    for i in range(1, len(in_perm)):\n",
    "        if (in_perm[i] == False):\n",
    "            c.append(i)\n",
    "    return c\n",
    "        \n",
    "\n",
    "#print or counts or do whatever to complete solution\n",
    "def process_solution(a,k,indata):\n",
    "    for i in range(1,k+1):\n",
    "        print(a[i], end='')\n",
    "    print()\n",
    "\n",
    "#modify a data structure in response to latest move\n",
    "def make_move(a,k,indata):\n",
    "    pass\n",
    "\n",
    "#clear up data structure if we decide to take back that move\n",
    "def unmake_move(a,k,indata):\n",
    "    pass\n",
    "\n",
    "def generate_permutations(n):\n",
    "    a = [0 for i in range(n+1)]\n",
    "    \n",
    "    backtrack(a,0,n)"
   ]
  },
  {
   "cell_type": "code",
   "execution_count": 71,
   "metadata": {},
   "outputs": [
    {
     "name": "stdout",
     "output_type": "stream",
     "text": [
      "1234\n",
      "1243\n",
      "1324\n",
      "1342\n",
      "1423\n",
      "1432\n",
      "2134\n",
      "2143\n",
      "2314\n",
      "2341\n",
      "2413\n",
      "2431\n",
      "3124\n",
      "3142\n",
      "3214\n",
      "3241\n",
      "3412\n",
      "3421\n",
      "4123\n",
      "4132\n",
      "4213\n",
      "4231\n",
      "4312\n",
      "4321\n"
     ]
    }
   ],
   "source": [
    "generate_permutations(4)"
   ]
  },
  {
   "cell_type": "markdown",
   "metadata": {},
   "source": [
    "# Constructing all paths in a graph"
   ]
  },
  {
   "cell_type": "code",
   "execution_count": 79,
   "metadata": {},
   "outputs": [],
   "source": [
    "class Node:\n",
    "    \n",
    "    def __init__(self, val, nxt = None):\n",
    "        self.val = val\n",
    "        self.next = nxt\n",
    "\n",
    "#undirected graph representation\n",
    "class Graph:\n",
    "    \n",
    "    def __init__(self, num_vertices):\n",
    "        self.num_vertices = num_vertices + 1\n",
    "        self.edges = [None] * (self.num_vertices)\n",
    "    \n",
    "    \n",
    "    def add_edge(self,src,dest):\n",
    "        \n",
    "        new_node = Node(dest)\n",
    "        new_node.next = self.edges[src]\n",
    "        self.edges[src] = new_node\n",
    "        \n",
    "        #add other direction\n",
    "        new_node = Node(src)\n",
    "        new_node.next = self.edges[dest]\n",
    "        self.edges[dest] = new_node\n",
    "    \n",
    "    def print_graph(self):\n",
    "        for i in range(self.num_vertices):\n",
    "            temp = self.edges[i]\n",
    "            print(i, end='')\n",
    "            while temp: \n",
    "                print(\" -> {}\".format(temp.val), end=\"\") \n",
    "                temp = temp.next\n",
    "            print(\" \\n\")"
   ]
  },
  {
   "cell_type": "code",
   "execution_count": 80,
   "metadata": {},
   "outputs": [
    {
     "name": "stdout",
     "output_type": "stream",
     "text": [
      "0 \n",
      "\n",
      "1 -> 5 -> 4 -> 3 -> 2 \n",
      "\n",
      "2 -> 6 -> 1 \n",
      "\n",
      "3 -> 4 -> 6 -> 1 \n",
      "\n",
      "4 -> 6 -> 3 -> 1 \n",
      "\n",
      "5 -> 6 -> 1 \n",
      "\n",
      "6 -> 5 -> 4 -> 3 -> 2 \n",
      "\n"
     ]
    }
   ],
   "source": [
    "V = 6\n",
    "graph = Graph(V) \n",
    "\n",
    "graph.add_edge(1, 2) \n",
    "graph.add_edge(1, 3) \n",
    "graph.add_edge(1, 4)\n",
    "graph.add_edge(1, 5)\n",
    "graph.add_edge(2, 6) \n",
    "graph.add_edge(3, 6)\n",
    "graph.add_edge(3, 4)\n",
    "graph.add_edge(4, 6)\n",
    "graph.add_edge(5, 6) \n",
    "\n",
    "graph.print_graph() "
   ]
  },
  {
   "cell_type": "code",
   "execution_count": 102,
   "metadata": {},
   "outputs": [],
   "source": [
    "NMAX = 50\n",
    "\n",
    "# Boolean function tests whether first k elements of a complete the problem\n",
    "#here indata is the target node\n",
    "def is_a_solution(a,k,indata):\n",
    "    return a[k] == indata\n",
    "\n",
    "#return a list c containing all the possible candidates for kth position of a,\n",
    "#given the contents of the first k-1 positions \n",
    "def construct_candidates(a,k,indata):\n",
    "    seen = [False for i in range(1,NMAX)]\n",
    "    for i in range(1,k):\n",
    "        seen[a[i]] = True\n",
    "        \n",
    "    c = []\n",
    "    #print(seen)\n",
    "    if k == 1:\n",
    "        c.append(1)\n",
    "        return c\n",
    "    \n",
    "    else:    \n",
    "        last = a[k-1]\n",
    "        p_adj = graph.edges[last]\n",
    "\n",
    "        while p_adj != None:\n",
    "            if seen[p_adj.val] == False:\n",
    "                c.append(p_adj.val)\n",
    "            p_adj = p_adj.next\n",
    "    return c\n",
    "\n",
    "\n",
    "\n",
    "#print or counts or do whatever to complete solution\n",
    "def process_solution(a,k,indata):\n",
    "    for i  in range(1,k+1):\n",
    "        print(a[i], end='')\n",
    "        \n",
    "    print()\n",
    "\n",
    "#modify a data structure in response to latest move\n",
    "def make_move(a,k,indata):\n",
    "    pass\n",
    "\n",
    "#clear up data structure if we decide to take back that move\n",
    "def unmake_move(a,k,indata):\n",
    "    pass\n",
    "\n",
    "def generate_graph_paths(tar):\n",
    "    \n",
    "    a = [None] * NMAX\n",
    "    \n",
    "    backtrack(a,0,tar)"
   ]
  },
  {
   "cell_type": "code",
   "execution_count": 103,
   "metadata": {},
   "outputs": [
    {
     "name": "stdout",
     "output_type": "stream",
     "text": [
      "15643\n",
      "1563\n",
      "1463\n",
      "143\n",
      "13\n",
      "12643\n",
      "1263\n"
     ]
    }
   ],
   "source": [
    "generate_graph_paths(3)"
   ]
  },
  {
   "cell_type": "code",
   "execution_count": null,
   "metadata": {},
   "outputs": [],
   "source": []
  }
 ],
 "metadata": {
  "kernelspec": {
   "display_name": "Python 3",
   "language": "python",
   "name": "python3"
  },
  "language_info": {
   "codemirror_mode": {
    "name": "ipython",
    "version": 3
   },
   "file_extension": ".py",
   "mimetype": "text/x-python",
   "name": "python",
   "nbconvert_exporter": "python",
   "pygments_lexer": "ipython3",
   "version": "3.6.9"
  }
 },
 "nbformat": 4,
 "nbformat_minor": 4
}
