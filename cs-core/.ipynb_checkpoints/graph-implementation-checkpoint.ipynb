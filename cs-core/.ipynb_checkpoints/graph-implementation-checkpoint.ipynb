{
 "cells": [
  {
   "cell_type": "code",
   "execution_count": 3,
   "metadata": {},
   "outputs": [],
   "source": [
    "class Node:\n",
    "    \n",
    "    def __init__(self, val, nxt = None):\n",
    "        self.val = val\n",
    "        self.next = nxt"
   ]
  },
  {
   "cell_type": "markdown",
   "metadata": {},
   "source": [
    "# Adjacency List Graph"
   ]
  },
  {
   "cell_type": "code",
   "execution_count": 1,
   "metadata": {},
   "outputs": [],
   "source": [
    "#undirected graph representation\n",
    "class Graph:\n",
    "    \n",
    "    def __init__(self, num_vertices):\n",
    "        self.num_vertices = num_vertices + 1\n",
    "        self.edges = [None] * (self.num_vertices)\n",
    "    \n",
    "    \n",
    "    def add_edge(self,src,dest):\n",
    "        \n",
    "        new_node = Node(dest)\n",
    "        new_node.next = self.edges[src]\n",
    "        self.edges[src] = new_node\n",
    "        \n",
    "        #add other direction\n",
    "        new_node = Node(src)\n",
    "        new_node.next = self.edges[dest]\n",
    "        self.edges[dest] = new_node\n",
    "    \n",
    "    def print_graph(self):\n",
    "        for i in range(self.num_vertices):\n",
    "            temp = self.edges[i]\n",
    "            print(i, end='')\n",
    "            while temp: \n",
    "                print(\" -> {}\".format(temp.val), end=\"\") \n",
    "                temp = temp.next\n",
    "            print(\" \\n\")"
   ]
  },
  {
   "cell_type": "code",
   "execution_count": 4,
   "metadata": {},
   "outputs": [
    {
     "name": "stdout",
     "output_type": "stream",
     "text": [
      "0 \n",
      "\n",
      "1 -> 4 -> 3 -> 2 \n",
      "\n",
      "2 -> 3 -> 1 \n",
      "\n",
      "3 -> 4 -> 2 -> 1 \n",
      "\n",
      "4 -> 3 -> 1 \n",
      "\n",
      "5 \n",
      "\n"
     ]
    }
   ],
   "source": [
    "V = 5\n",
    "graph = Graph(V) \n",
    "\n",
    "graph.add_edge(1, 2) \n",
    "graph.add_edge(1, 3) \n",
    "graph.add_edge(1, 4) \n",
    "graph.add_edge(2, 3) \n",
    "graph.add_edge(3, 4) \n",
    "\n",
    "graph.print_graph() "
   ]
  },
  {
   "cell_type": "markdown",
   "metadata": {},
   "source": [
    "# Simple Dictionary implementation"
   ]
  },
  {
   "cell_type": "code",
   "execution_count": 5,
   "metadata": {},
   "outputs": [],
   "source": [
    "#simple graph is represented as a dictionary with an adjacency list\n",
    "graph  = {'A' : ['B', 'C'],\n",
    "          'B' : ['C', 'D'],\n",
    "          'C' : ['D'],\n",
    "          'D' : ['C'], \n",
    "          'E' : ['F'], \n",
    "          'F' : ['C']}"
   ]
  },
  {
   "cell_type": "code",
   "execution_count": null,
   "metadata": {},
   "outputs": [],
   "source": [
    "def find_path(graph, start, end, path=[]):\n",
    "    path = path + [start]\n",
    "    \n",
    "    if start == end:\n",
    "        return path\n",
    "    \n",
    "    if not graph.has_key(start):\n",
    "        return None\n",
    "    \n",
    "    for node in graph[start]:\n",
    "        if node not in path:\n",
    "            newpath = find_path(graph, node, end, path)\n",
    "            if newpath:\n",
    "                return newpath\n",
    "    return None"
   ]
  },
  {
   "cell_type": "markdown",
   "metadata": {},
   "source": [
    "# Skiena Graph Converted to Python"
   ]
  },
  {
   "cell_type": "code",
   "execution_count": 31,
   "metadata": {},
   "outputs": [],
   "source": [
    "'''\n",
    "This graph implementation is from Skiena Algorithm Design Manual. Converted from the original C implementation\n",
    "Found in Chapter 5\n",
    "\n",
    "'''\n",
    "\n",
    "\n",
    "from collections import deque \n",
    "MAXV = 1000\n",
    "\n",
    "class SkienaNode:\n",
    "    \n",
    "     def __init__(self, value, nxt = None, weight = None):\n",
    "            self.y = value\n",
    "            self.weight = weight\n",
    "            self.nxt = nxt\n",
    "            \n",
    "\n",
    "class SkienaGraph:\n",
    "    \n",
    "    def __init__(self, directed):\n",
    "        self.num_vertices = 0\n",
    "        self.directed = directed\n",
    "        self.nedges = 0\n",
    "        self.edges = [None]*(MAXV+1)\n",
    "        self.degree = [0]*(MAXV+1)\n",
    "        \n",
    "    def read_from_file(self, filename):\n",
    "        \n",
    "        with open(filename) as f:\n",
    "            line = f.readline()\n",
    "            num_vert, num_edge = self.process_line(line)\n",
    "            self.num_vertices, self.nedges = num_vert, num_edge\n",
    "            for line in f:\n",
    "                v1,v2 = self.process_line(line)\n",
    "                self.insert_edge(v1,v2)\n",
    "                \n",
    "    def insert_edge(self, x, y):\n",
    "        new_edge = SkienaNode(y)\n",
    "        \n",
    "        new_edge.nxt = self.edges[x]\n",
    "        self.edges[x] = new_edge\n",
    "        self.degree[x] += 1\n",
    "        \n",
    "        if self.directed == False:\n",
    "            self.insert_edge(y,x)\n",
    "        else:\n",
    "            self.nedges += 1\n",
    "            \n",
    "            \n",
    "    def print_graph(self):\n",
    "        \n",
    "        for i in range(1,self.num_vertices+1):\n",
    "            print(str(i) + \": \", end='')\n",
    "            neighbors = self.edges[i]\n",
    "            while neighbors != None:\n",
    "                print(str(neighbors.y) + ' ', end ='')\n",
    "                neighbors = neighbors.nxt\n",
    "            \n",
    "            print()\n",
    "            \n",
    "            \n",
    "    def process_line(self, line):\n",
    "        vals = line.split(' ')\n",
    "        num_vert, num_edge = [int(v) for v in vals]\n",
    "        return num_vert, num_edge\n",
    "    \n",
    "#for disconnected graph\n",
    "#ensures all branches are searched\n",
    "def BFS_wrapper(graph):\n",
    "    processed = [False for i in range(MAXV+1)]\n",
    "    discovered = [False for i in range(MAXV+1)]\n",
    "    parent = [-1 for i in range(MAXV+1)]\n",
    "    \n",
    "    for u in range(MAXV+1):\n",
    "        if discovered[u] == False:\n",
    "            skiena_bfs_disconnected(graph, u, discovered, processed, parent)\n",
    "    \n",
    "def skiena_bfs_connected(graph, start):\n",
    "    \n",
    "    processed = [False for i in range(MAXV+1)]\n",
    "    discovered = [False for i in range(MAXV+1)]\n",
    "    parent = [-1 for i in range(MAXV+1)]\n",
    "    \n",
    "    q = deque()\n",
    "    \n",
    "    q.append(start)\n",
    "    discovered[start] = True \n",
    "    \n",
    "    while len(q) > 0:\n",
    "        v = q.popleft()\n",
    "        process_vertex_early(v)\n",
    "        processed[v] = True\n",
    "        p = graph.edges[v]\n",
    "        while p != None:\n",
    "            y = p.y\n",
    "            if (processed[y] == False or graph.directed):\n",
    "                process_edge(v,y)\n",
    "            if (discovered[y] == False):\n",
    "                q.append(y)\n",
    "                discovered[y] = True\n",
    "                parent[y] = v\n",
    "            \n",
    "            p = p.nxt\n",
    "        process_vertex_late(v)\n",
    "        \n",
    "def skiena_bfs_disconnected(graph, start, discovered, processed, parent):\n",
    "    \n",
    "    q = deque()\n",
    "    \n",
    "    q.append(start)\n",
    "    discovered[start] = True \n",
    "    \n",
    "    while len(q) > 0:\n",
    "        v = q.popleft()\n",
    "        p = graph.edges[v]\n",
    "        processed[v] = True\n",
    "        \n",
    "        if p != None:\n",
    "            process_vertex_early(v)\n",
    "        \n",
    "        while p != None:\n",
    "            y = p.y\n",
    "            if (processed[y] == False or graph.directed):\n",
    "                process_edge(v,y)\n",
    "            if (discovered[y] == False):\n",
    "                q.append(y)\n",
    "                discovered[y] = True\n",
    "                parent[y] = v\n",
    "            \n",
    "            p = p.nxt\n",
    "        process_vertex_late(v)\n",
    "\n",
    "def process_vertex_early(v):\n",
    "    print(f\"processed vertex {v}\")\n",
    "\n",
    "def process_edge(v,y):\n",
    "    print(f\"processed edge {v} to {y}\")\n",
    "\n",
    "def process_vertex_late(v):\n",
    "    pass\n",
    "\n",
    "dfs_finished = False\n",
    "\n",
    "dfs_processed = [False for i in range(MAXV+1)]\n",
    "dfs_discovered = [False for i in range(MAXV+1)]\n",
    "dfs_parent = [-1 for i in range(MAXV+1)]\n",
    "dfs_entry_time = [-1 for i in range(MAXV+1)]\n",
    "dfs_exit_time = [-1 for i in range(MAXV+1)]\n",
    "time = 0\n",
    "\n",
    "def skiena_dfs(graph, v):\n",
    "    global time\n",
    "    global dfs_processed\n",
    "    global dfs_discovered \n",
    "    global dfs_parent\n",
    "    global dfs_entry_time\n",
    "    global dfs_exit_time\n",
    "    \n",
    "    if dfs_finished:\n",
    "        return\n",
    "    \n",
    "    dfs_discovered[v] = True\n",
    "    time += 1\n",
    "    dfs_entry_time[v] = time\n",
    "    \n",
    "    dfs_process_vertex_early(v)\n",
    "    \n",
    "    p = graph.edges[v]\n",
    "    while p != None:\n",
    "        y = p.y\n",
    "        if (dfs_discovered[y] == False):\n",
    "            parent[y] = v\n",
    "            dfs_process_edge(v,y)\n",
    "            dfs(g,y)\n",
    "        elif (not dfs_processed[y] or graph.directed):\n",
    "            dfs_process_edge(v,y)\n",
    "        \n",
    "        if dfs_finished:\n",
    "            return\n",
    "        p = p.nxt\n",
    "    \n",
    "    dfs_process_vertex_late(v)\n",
    "    \n",
    "    ttime += 1\n",
    "    dfs_exit_time[v] = time\n",
    "    \n",
    "    dfs_processed[v] = True\n",
    "    \n",
    "def dfs_process_vertex_early(v):\n",
    "    pass\n",
    "\n",
    "def dfs_process_edge(v,y):\n",
    "    print(f\"processed edge {v} to {y}\")\n",
    "\n",
    "def dfs_process_vertex_late(v):\n",
    "    pass\n",
    "\n",
    "#for disconnected graph\n",
    "#ensures all branches are searched\n",
    "def dfs_wrapper(graph):\n",
    "   \n",
    "    for u in range(MAXV+1):\n",
    "        if dfs_discovered[u] == False:\n",
    "            skiena_dfs(graph,u)"
   ]
  },
  {
   "cell_type": "code",
   "execution_count": 32,
   "metadata": {},
   "outputs": [
    {
     "name": "stdout",
     "output_type": "stream",
     "text": [
      "1: 2 \n",
      "2: 4 3 \n",
      "3: 1 \n",
      "4: \n",
      "\n",
      "1: 2 \n",
      "2: 3 \n",
      "3: 1 \n",
      "4: 2 \n"
     ]
    }
   ],
   "source": [
    "directed = True\n",
    "g = SkienaGraph(True)\n",
    "g.read_from_file('./input_files/graph1.txt')\n",
    "g.print_graph()\n",
    "\n",
    "print()\n",
    "#directed = True\n",
    "g2 = SkienaGraph(True)\n",
    "g2.read_from_file('./input_files/graph2.txt')\n",
    "g2.print_graph()"
   ]
  },
  {
   "cell_type": "code",
   "execution_count": 9,
   "metadata": {},
   "outputs": [
    {
     "name": "stdout",
     "output_type": "stream",
     "text": [
      "processed vertex 1\n",
      "processed edge 1 to 2\n",
      "processed vertex 2\n",
      "processed edge 2 to 4\n",
      "processed edge 2 to 3\n",
      "processed vertex 4\n",
      "processed vertex 3\n",
      "processed edge 3 to 1\n"
     ]
    }
   ],
   "source": [
    "skiena_bfs_connected(g,1)"
   ]
  },
  {
   "cell_type": "code",
   "execution_count": 10,
   "metadata": {},
   "outputs": [
    {
     "name": "stdout",
     "output_type": "stream",
     "text": [
      "processed vertex 1\n",
      "processed edge 1 to 2\n",
      "processed vertex 2\n",
      "processed edge 2 to 3\n",
      "processed vertex 3\n",
      "processed edge 3 to 1\n",
      "processed vertex 4\n",
      "processed edge 4 to 2\n"
     ]
    }
   ],
   "source": [
    "BFS_wrapper(g2)"
   ]
  },
  {
   "cell_type": "code",
   "execution_count": 25,
   "metadata": {},
   "outputs": [
    {
     "ename": "UnboundLocalError",
     "evalue": "local variable 'ttime' referenced before assignment",
     "output_type": "error",
     "traceback": [
      "\u001b[0;31m---------------------------------------------------------------------------\u001b[0m",
      "\u001b[0;31mUnboundLocalError\u001b[0m                         Traceback (most recent call last)",
      "\u001b[0;32m<ipython-input-25-237ee6c0ebea>\u001b[0m in \u001b[0;36m<module>\u001b[0;34m\u001b[0m\n\u001b[0;32m----> 1\u001b[0;31m \u001b[0mdfs_wrapper\u001b[0m\u001b[0;34m(\u001b[0m\u001b[0mg\u001b[0m\u001b[0;34m)\u001b[0m\u001b[0;34m\u001b[0m\u001b[0;34m\u001b[0m\u001b[0m\n\u001b[0m",
      "\u001b[0;32m<ipython-input-24-1dc36e47eceb>\u001b[0m in \u001b[0;36mdfs_wrapper\u001b[0;34m(graph)\u001b[0m\n\u001b[1;32m    197\u001b[0m     \u001b[0;32mfor\u001b[0m \u001b[0mu\u001b[0m \u001b[0;32min\u001b[0m \u001b[0mrange\u001b[0m\u001b[0;34m(\u001b[0m\u001b[0mMAXV\u001b[0m\u001b[0;34m+\u001b[0m\u001b[0;36m1\u001b[0m\u001b[0;34m)\u001b[0m\u001b[0;34m:\u001b[0m\u001b[0;34m\u001b[0m\u001b[0;34m\u001b[0m\u001b[0m\n\u001b[1;32m    198\u001b[0m         \u001b[0;32mif\u001b[0m \u001b[0mdfs_discovered\u001b[0m\u001b[0;34m[\u001b[0m\u001b[0mu\u001b[0m\u001b[0;34m]\u001b[0m \u001b[0;34m==\u001b[0m \u001b[0;32mFalse\u001b[0m\u001b[0;34m:\u001b[0m\u001b[0;34m\u001b[0m\u001b[0;34m\u001b[0m\u001b[0m\n\u001b[0;32m--> 199\u001b[0;31m             \u001b[0mskiena_dfs\u001b[0m\u001b[0;34m(\u001b[0m\u001b[0mgraph\u001b[0m\u001b[0;34m,\u001b[0m\u001b[0mu\u001b[0m\u001b[0;34m)\u001b[0m\u001b[0;34m\u001b[0m\u001b[0;34m\u001b[0m\u001b[0m\n\u001b[0m",
      "\u001b[0;32m<ipython-input-24-1dc36e47eceb>\u001b[0m in \u001b[0;36mskiena_dfs\u001b[0;34m(graph, v)\u001b[0m\n\u001b[1;32m    156\u001b[0m \u001b[0;34m\u001b[0m\u001b[0m\n\u001b[1;32m    157\u001b[0m     \u001b[0mdfs_discovered\u001b[0m\u001b[0;34m[\u001b[0m\u001b[0mv\u001b[0m\u001b[0;34m]\u001b[0m \u001b[0;34m=\u001b[0m \u001b[0;32mTrue\u001b[0m\u001b[0;34m\u001b[0m\u001b[0;34m\u001b[0m\u001b[0m\n\u001b[0;32m--> 158\u001b[0;31m     \u001b[0mttime\u001b[0m \u001b[0;34m+=\u001b[0m \u001b[0;36m1\u001b[0m\u001b[0;34m\u001b[0m\u001b[0;34m\u001b[0m\u001b[0m\n\u001b[0m\u001b[1;32m    159\u001b[0m     \u001b[0mdfs_entry_time\u001b[0m\u001b[0;34m[\u001b[0m\u001b[0mv\u001b[0m\u001b[0;34m]\u001b[0m \u001b[0;34m=\u001b[0m \u001b[0mttime\u001b[0m\u001b[0;34m\u001b[0m\u001b[0;34m\u001b[0m\u001b[0m\n\u001b[1;32m    160\u001b[0m \u001b[0;34m\u001b[0m\u001b[0m\n",
      "\u001b[0;31mUnboundLocalError\u001b[0m: local variable 'ttime' referenced before assignment"
     ]
    }
   ],
   "source": [
    "dfs_wrapper(g)"
   ]
  },
  {
   "cell_type": "code",
   "execution_count": 35,
   "metadata": {},
   "outputs": [],
   "source": [
    "test = [1,2,3]\n",
    "def ptest():\n",
    "    test[2] = 4\n"
   ]
  },
  {
   "cell_type": "code",
   "execution_count": 36,
   "metadata": {},
   "outputs": [],
   "source": [
    "ptest()"
   ]
  },
  {
   "cell_type": "code",
   "execution_count": null,
   "metadata": {},
   "outputs": [],
   "source": []
  }
 ],
 "metadata": {
  "kernelspec": {
   "display_name": "Python 3",
   "language": "python",
   "name": "python3"
  },
  "language_info": {
   "codemirror_mode": {
    "name": "ipython",
    "version": 3
   },
   "file_extension": ".py",
   "mimetype": "text/x-python",
   "name": "python",
   "nbconvert_exporter": "python",
   "pygments_lexer": "ipython3",
   "version": "3.6.9"
  }
 },
 "nbformat": 4,
 "nbformat_minor": 4
}
