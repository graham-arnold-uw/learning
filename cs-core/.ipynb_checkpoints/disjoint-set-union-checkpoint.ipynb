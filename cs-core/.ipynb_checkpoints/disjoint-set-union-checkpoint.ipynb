{
 "cells": [
  {
   "cell_type": "code",
   "execution_count": 3,
   "metadata": {},
   "outputs": [],
   "source": [
    "class DSU:\n",
    "    \n",
    "    def __init__(self, size):\n",
    "        self.size = size\n",
    "        self.sizes = [1 for i in range(self.size)]\n",
    "        self.representatives = [i for i in range(self.size)]\n",
    "        \n",
    "    \n",
    "    def find(self, element_id):\n",
    "        if element_id == self.representatives[element_id]:\n",
    "            return element_id\n",
    "        self.representatives[element_id] = self.find(self.representatives[element_id])\n",
    "        return self.representatives[element_id]\n",
    "    \n",
    "    def union(self, id1, id2):\n",
    "        \n",
    "        r1 = self.find(id1)\n",
    "        r2 = self.find(id2)\n",
    "        \n",
    "        if r1 == r2:\n",
    "            return\n",
    "        \n",
    "        if self.sizes[r1] >= self.sizes[r2]:\n",
    "            self.sizes[r1] += self.sizes[r2]\n",
    "            self.representatives[r2] = r1\n",
    "        else:\n",
    "            self.sizes[r2]  += self.sizes[r1]\n",
    "            self.representatives[r1] = r2\n",
    "        \n",
    "        "
   ]
  },
  {
   "cell_type": "code",
   "execution_count": 6,
   "metadata": {},
   "outputs": [
    {
     "name": "stdout",
     "output_type": "stream",
     "text": [
      "1\n"
     ]
    }
   ],
   "source": [
    "test = DSU(10)\n",
    "test.union(1,2)\n",
    "test.union(1,7)\n",
    "test.union(7,9)\n",
    "print(test.find(9))"
   ]
  },
  {
   "cell_type": "code",
   "execution_count": 12,
   "metadata": {},
   "outputs": [
    {
     "name": "stdout",
     "output_type": "stream",
     "text": [
      "['0', '0', '1', '0', '1', '0', '1', '0']\n"
     ]
    }
   ],
   "source": [
    "s = '00101010'\n",
    "print(list(s))"
   ]
  },
  {
   "cell_type": "code",
   "execution_count": null,
   "metadata": {},
   "outputs": [],
   "source": []
  }
 ],
 "metadata": {
  "kernelspec": {
   "display_name": "Python 3",
   "language": "python",
   "name": "python3"
  },
  "language_info": {
   "codemirror_mode": {
    "name": "ipython",
    "version": 3
   },
   "file_extension": ".py",
   "mimetype": "text/x-python",
   "name": "python",
   "nbconvert_exporter": "python",
   "pygments_lexer": "ipython3",
   "version": "3.6.9"
  }
 },
 "nbformat": 4,
 "nbformat_minor": 4
}
