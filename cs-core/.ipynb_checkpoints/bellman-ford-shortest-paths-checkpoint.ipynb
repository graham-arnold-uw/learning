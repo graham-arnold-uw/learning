{
 "cells": [
  {
   "cell_type": "markdown",
   "metadata": {},
   "source": [
    "https://www.youtube.com/watch?v=lyw4FaxrwHg"
   ]
  },
  {
   "cell_type": "code",
   "execution_count": 18,
   "metadata": {},
   "outputs": [],
   "source": [
    "def bellman_ford_shortest_paths(graph, src):\n",
    "    \n",
    "    num_vertices = len(graph)\n",
    "    distances = [float('inf') for i in range(num_vertices)]\n",
    "    distances[src] = 0\n",
    "    \n",
    "    for i in range(num_vertices - 1):\n",
    "        for u, edges in graph.items():\n",
    "            for e in edges: \n",
    "                v, w = e\n",
    "                if distances[u] + w < distances[v]:\n",
    "                    distances[v] = distances[u] + w\n",
    "    \n",
    "    for i in range(num_vertices - 1):\n",
    "        for u, edges in graph.items():\n",
    "            for e in edges:\n",
    "                v, w = e\n",
    "                if distances[u] + w < distances[v]:\n",
    "                    distances[v] = float('-inf')\n",
    "    \n",
    "    return distances\n",
    "                "
   ]
  },
  {
   "cell_type": "code",
   "execution_count": 19,
   "metadata": {},
   "outputs": [
    {
     "name": "stdout",
     "output_type": "stream",
     "text": [
      "dict_items([(0, [[1, 5]]), (1, [[6, 60], [2, 20], [5, 30]]), (2, [[3, 10], [4, 75]]), (3, [[2, -15]]), (4, [[9, 100]]), (5, [[6, 5], [8, 50], [4, 25]]), (6, [[7, -50]]), (7, [[8, -10]]), (8, []), (9, [])])\n"
     ]
    }
   ],
   "source": [
    "graph = {}\n",
    "graph[0] = [[1, 5]]\n",
    "graph[1] = [[6,60], [2, 20], [5, 30]]\n",
    "graph[2] = [[3,10], [4, 75]]\n",
    "graph[3] = [[2, -15]]\n",
    "graph[4] = [[9, 100]]\n",
    "graph[5] = [[6, 5], [8, 50], [4, 25]]\n",
    "graph[6] = [[7, -50]]\n",
    "graph[7] = [[8, -10]]\n",
    "graph[8] = []\n",
    "graph[9] = []\n",
    "print(graph.items())"
   ]
  },
  {
   "cell_type": "code",
   "execution_count": 20,
   "metadata": {},
   "outputs": [
    {
     "name": "stdout",
     "output_type": "stream",
     "text": [
      "[0, 5, -inf, -inf, -inf, 35, 40, -10, -20, -inf]\n"
     ]
    }
   ],
   "source": [
    "d = bellman_ford_shortest_paths(graph, 0)\n",
    "print(d)"
   ]
  },
  {
   "cell_type": "code",
   "execution_count": null,
   "metadata": {},
   "outputs": [],
   "source": []
  }
 ],
 "metadata": {
  "kernelspec": {
   "display_name": "Python 3",
   "language": "python",
   "name": "python3"
  },
  "language_info": {
   "codemirror_mode": {
    "name": "ipython",
    "version": 3
   },
   "file_extension": ".py",
   "mimetype": "text/x-python",
   "name": "python",
   "nbconvert_exporter": "python",
   "pygments_lexer": "ipython3",
   "version": "3.6.9"
  }
 },
 "nbformat": 4,
 "nbformat_minor": 4
}
