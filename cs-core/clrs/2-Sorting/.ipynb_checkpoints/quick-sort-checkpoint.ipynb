{
 "cells": [
  {
   "cell_type": "code",
   "execution_count": 9,
   "metadata": {},
   "outputs": [],
   "source": [
    "def quick_sort(A,p,r):\n",
    "    if p < r:\n",
    "        q = partition(A, p, r)\n",
    "        quick_sort(A, p, q-1)\n",
    "        quick_sort(A, q+1, q)\n",
    "\n",
    "def partition(A,p,r):\n",
    "    x = A[r]\n",
    "    i = p - 1\n",
    "    for j in range(p, r):\n",
    "        if A[j] <= x:\n",
    "            i += 1\n",
    "            A[i], A[j] = A[j], A[i]\n",
    "    A[i+1], A[r] = A[r], A[i+1]\n",
    "    return i + 1\n",
    "\n",
    "def randomized_partition(A, p, r):\n",
    "    i = random.randint(p,r)\n",
    "    A[r], A[i] = A[i], A[r]\n",
    "    return partition(A,p,r)\n",
    "\n",
    "def randomized_quick_sort(A, p, r):\n",
    "    if p < r:\n",
    "        q = randomized_partition(A, p, r)\n",
    "        randomized_quick_sort(A, p, q - 1)\n",
    "        randomized_quick_sort(A, q + 1, r)\n"
   ]
  },
  {
   "cell_type": "code",
   "execution_count": 10,
   "metadata": {},
   "outputs": [
    {
     "name": "stdout",
     "output_type": "stream",
     "text": [
      "[9, 15, 11, 3, 16, 8, 2, 17]\n",
      "[2, 15, 11, 3, 16, 8, 9, 17]\n",
      "\n",
      "[7, 2, 3, 15, 19, 14, 16, 13]\n",
      "[2, 3, 7, 13, 14, 15, 16, 19]\n"
     ]
    }
   ],
   "source": [
    "import random\n",
    "test_quick_sort = random.sample(range(1,20),8)\n",
    "print(test_quick_sort)\n",
    "quick_sort(test_quick_sort, 0, len(test_quick_sort) - 1)\n",
    "print(test_quick_sort)\n",
    "print()\n",
    "test_quick_sort = random.sample(range(1,20),8)\n",
    "print(test_quick_sort)\n",
    "randomized_quick_sort(test_quick_sort, 0, len(test_quick_sort) - 1)\n",
    "print(test_quick_sort)\n",
    "\n"
   ]
  },
  {
   "cell_type": "code",
   "execution_count": null,
   "metadata": {},
   "outputs": [],
   "source": []
  }
 ],
 "metadata": {
  "kernelspec": {
   "display_name": "Python 3",
   "language": "python",
   "name": "python3"
  },
  "language_info": {
   "codemirror_mode": {
    "name": "ipython",
    "version": 3
   },
   "file_extension": ".py",
   "mimetype": "text/x-python",
   "name": "python",
   "nbconvert_exporter": "python",
   "pygments_lexer": "ipython3",
   "version": "3.6.9"
  }
 },
 "nbformat": 4,
 "nbformat_minor": 4
}
