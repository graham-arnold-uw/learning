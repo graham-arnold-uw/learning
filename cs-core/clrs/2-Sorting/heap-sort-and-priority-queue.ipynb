{
 "cells": [
  {
   "cell_type": "code",
   "execution_count": 12,
   "metadata": {},
   "outputs": [],
   "source": [
    "#Utility Functions\n",
    "\n",
    "def parent(i):\n",
    "    return i // 2\n",
    "\n",
    "def left(i):\n",
    "    return 2*i\n",
    "\n",
    "def right(i):\n",
    "    return 2*i+1\n",
    "\n",
    "heap_size = 0\n",
    "\n",
    "#Heap Sort Functions\n",
    "\n",
    "def max_heapify(A,i):\n",
    "    l = left(i)\n",
    "    r = right(i)\n",
    "    \n",
    "    if l <= heap_size and A[l] > A[i]:\n",
    "        largest = l\n",
    "    else:\n",
    "        largest = i\n",
    "        \n",
    "    if r <= heap_size and A[r] > A[largest]:\n",
    "        largest = r\n",
    "    \n",
    "    if largest != i: \n",
    "        temp = A[i]\n",
    "        A[i] = A[largest]\n",
    "        A[largest] = temp\n",
    "        max_heapify(A, largest)\n",
    "    \n",
    "\n",
    "def build_max_heap(A):\n",
    "    global heap_size\n",
    "    heap_size = len(A) - 1\n",
    "    for i in range((len(A) - 1) // 2, 0, -1):\n",
    "        max_heapify(A,i)\n",
    "        \n",
    "        \n",
    "def heap_sort(A):\n",
    "    global heap_size\n",
    "    build_max_heap(A)\n",
    "    for i in range((len(A)-1), 1, -1):\n",
    "        A[1], A[i] = A[i], A[1]\n",
    "        heap_size -= 1\n",
    "        max_heapify(A,1)\n",
    "        \n",
    "        \n",
    "#Priority Queue Functions\n",
    "\n",
    "def heap_maximum(A):\n",
    "    return A[1]\n",
    "\n",
    "def heap_extract_max(A):\n",
    "    global heap_size\n",
    "    if heap_size < 1:\n",
    "        raise Exception(\"heap underflow\")\n",
    "    \n",
    "    maxval = A[1]\n",
    "    A[1] = A[heap_size]\n",
    "    heap_size -= 1\n",
    "    max_heapify(A,1)\n",
    "    return maxval\n",
    "\n",
    "def heap_increase_key(A,i,key):\n",
    "    if key < A[i]:\n",
    "        raise Exception('new key is smaller than current key')\n",
    "    A[i]= key\n",
    "    while i > 1 and A[parent(i)] < A[i]:\n",
    "        A[i], A[parent(i)] = A[parent(i)], A[i]\n",
    "        i = parent(i)\n",
    "        \n",
    "\n",
    "def max_heap_insert(A,key):\n",
    "    global heap_size\n",
    "    heap_size += 1\n",
    "    A[heap_size] = float('-inf')\n",
    "    heap_increase_key(A, heap_size, key)\n",
    "    "
   ]
  },
  {
   "cell_type": "code",
   "execution_count": 10,
   "metadata": {},
   "outputs": [
    {
     "name": "stdout",
     "output_type": "stream",
     "text": [
      "[0, 16, 14, 10, 8, 7, 9, 3, 2, 4, 1]\n"
     ]
    }
   ],
   "source": [
    "test_max_heapify = [0, 16, 4, 10, 14, 7, 9, 3, 2, 8, 1]\n",
    "heap_size = len(test_max_heapify)\n",
    "max_heapify(test_max_heapify, 2)\n",
    "print(test_max_heapify)"
   ]
  },
  {
   "cell_type": "code",
   "execution_count": 15,
   "metadata": {},
   "outputs": [
    {
     "name": "stdout",
     "output_type": "stream",
     "text": [
      "[inf, 10, 5, 9, 1, 12, 11, 6]\n",
      "[inf, 12, 10, 11, 1, 5, 9, 6]\n",
      "\n",
      "[inf, 6, 8, 3, 7, 12, 4, 13]\n",
      "[inf, 3, 4, 6, 7, 8, 12, 13]\n"
     ]
    }
   ],
   "source": [
    "import random\n",
    "\n",
    "test_build_heap = random.sample(range(1,15),8)\n",
    "test_build_heap[0] = float('inf')\n",
    "print(test_build_heap)\n",
    "build_max_heap(test_build_heap)\n",
    "print(test_build_heap)\n",
    "print()\n",
    "test_build_heap2 = random.sample(range(1,15),8)\n",
    "test_build_heap2[0] = float('inf')\n",
    "print(test_build_heap2)\n",
    "heap_sort(test_build_heap2)\n",
    "print(test_build_heap2)\n"
   ]
  },
  {
   "cell_type": "code",
   "execution_count": null,
   "metadata": {},
   "outputs": [],
   "source": []
  },
  {
   "cell_type": "code",
   "execution_count": null,
   "metadata": {},
   "outputs": [],
   "source": []
  }
 ],
 "metadata": {
  "kernelspec": {
   "display_name": "Python 3",
   "language": "python",
   "name": "python3"
  },
  "language_info": {
   "codemirror_mode": {
    "name": "ipython",
    "version": 3
   },
   "file_extension": ".py",
   "mimetype": "text/x-python",
   "name": "python",
   "nbconvert_exporter": "python",
   "pygments_lexer": "ipython3",
   "version": "3.6.9"
  }
 },
 "nbformat": 4,
 "nbformat_minor": 4
}
