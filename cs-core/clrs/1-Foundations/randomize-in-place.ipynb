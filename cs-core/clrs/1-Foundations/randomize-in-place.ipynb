{
 "cells": [
  {
   "cell_type": "code",
   "execution_count": 1,
   "metadata": {},
   "outputs": [],
   "source": [
    "import random\n",
    "\n",
    "def randomize_in_place(A):\n",
    "    n = len(A)\n",
    "    \n",
    "    for i in range(n):\n",
    "        temp = A[i]\n",
    "        \n",
    "        dest_idx = random.randint(i, n-1)\n",
    "        A[i] = A[dest_idx]\n",
    "        A[dest_idx] = temp\n",
    "    \n"
   ]
  },
  {
   "cell_type": "code",
   "execution_count": 8,
   "metadata": {},
   "outputs": [
    {
     "name": "stdout",
     "output_type": "stream",
     "text": [
      "[3, 4, 5, 6, 2, 1]\n"
     ]
    }
   ],
   "source": [
    "T = [1,2,3,4,5,6]\n",
    "randomize_in_place(T)\n",
    "print(T)"
   ]
  },
  {
   "cell_type": "code",
   "execution_count": null,
   "metadata": {},
   "outputs": [],
   "source": []
  }
 ],
 "metadata": {
  "kernelspec": {
   "display_name": "Python 3",
   "language": "python",
   "name": "python3"
  },
  "language_info": {
   "codemirror_mode": {
    "name": "ipython",
    "version": 3
   },
   "file_extension": ".py",
   "mimetype": "text/x-python",
   "name": "python",
   "nbconvert_exporter": "python",
   "pygments_lexer": "ipython3",
   "version": "3.6.9"
  }
 },
 "nbformat": 4,
 "nbformat_minor": 4
}
