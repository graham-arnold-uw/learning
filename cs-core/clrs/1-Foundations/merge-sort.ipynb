{
 "cells": [
  {
   "cell_type": "markdown",
   "metadata": {},
   "source": [
    "# Merge Sort"
   ]
  },
  {
   "cell_type": "code",
   "execution_count": 8,
   "metadata": {},
   "outputs": [],
   "source": [
    "def merge(A, p, q, r):\n",
    "    n1 = q - p + 1\n",
    "    n2 = r - q\n",
    "    L = []\n",
    "    R = []\n",
    "    \n",
    "    for i in range(n1):\n",
    "        L.append(A[p + i])\n",
    "    for j in range(1, n2 + 1):\n",
    "        R.append(A[q + j])\n",
    "   \n",
    "    L.append(float('inf'))\n",
    "    R.append(float('inf'))\n",
    "    \n",
    "    i = j = 0\n",
    "    \n",
    "    for k in range(p, r + 1):\n",
    "        if L[i] < R[j]:\n",
    "            A[k] = L[i]\n",
    "            i += 1\n",
    "        else:\n",
    "            A[k] = R[j]\n",
    "            j += 1\n",
    "            \n",
    "def merge_sort(A,p,r):\n",
    "    if p < r:\n",
    "        q = (p + r) // 2\n",
    "        merge_sort(A,p,q)\n",
    "        merge_sort(A,q + 1,r)\n",
    "        merge(A,p,q,r)\n",
    "        "
   ]
  },
  {
   "cell_type": "code",
   "execution_count": 9,
   "metadata": {},
   "outputs": [
    {
     "name": "stdout",
     "output_type": "stream",
     "text": [
      "[1, 2, 4, 5, 6, 8]\n",
      "[4, 16, 5, 15, 6, 8, 10, 18]\n",
      "[4, 5, 6, 8, 10, 15, 16, 18]\n"
     ]
    }
   ],
   "source": [
    "import random\n",
    "\n",
    "test_merge = [1,5,8,2,4,6]\n",
    "merge(test_merge,0,2,5)\n",
    "print(test_merge)\n",
    "\n",
    "test_sort = random.sample(range(1,20),8)\n",
    "print(test_sort)\n",
    "merge_sort(test_sort,0,len(test_sort)-1)\n",
    "print(test_sort)"
   ]
  },
  {
   "cell_type": "code",
   "execution_count": null,
   "metadata": {},
   "outputs": [],
   "source": [
    "def "
   ]
  }
 ],
 "metadata": {
  "kernelspec": {
   "display_name": "Python 3",
   "language": "python",
   "name": "python3"
  },
  "language_info": {
   "codemirror_mode": {
    "name": "ipython",
    "version": 3
   },
   "file_extension": ".py",
   "mimetype": "text/x-python",
   "name": "python",
   "nbconvert_exporter": "python",
   "pygments_lexer": "ipython3",
   "version": "3.6.9"
  }
 },
 "nbformat": 4,
 "nbformat_minor": 4
}
