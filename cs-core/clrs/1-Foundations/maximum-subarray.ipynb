{
 "cells": [
  {
   "cell_type": "markdown",
   "metadata": {},
   "source": [
    "# Maximum Sub-Array Problem"
   ]
  },
  {
   "cell_type": "code",
   "execution_count": 3,
   "metadata": {},
   "outputs": [],
   "source": [
    "def find_max_crossing_subarray(A, low, mid, high):\n",
    "    left_sum = float('-inf')\n",
    "    curr_sum = 0\n",
    "    \n",
    "    for i in range(mid, low - 1, -1):\n",
    "        curr_sum += A[i]\n",
    "        if curr_sum > left_sum:\n",
    "            left_sum= curr_sum\n",
    "            max_left = i\n",
    "        \n",
    "    right_sum = float('-inf')\n",
    "    curr_sum = 0\n",
    "    \n",
    "    for i in range(mid + 1, high + 1):\n",
    "        curr_sum += A[i]\n",
    "        if curr_sum > right_sum:\n",
    "            right_sum= curr_sum\n",
    "            max_right = i\n",
    "    return max_left, max_right, left_sum + right_sum\n",
    "\n",
    "\n",
    "def find_max_subarray(A,low,high):\n",
    "    if high == low:\n",
    "        return low, high, A[low]\n",
    "    \n",
    "    else:\n",
    "        mid = (low + high) // 2\n",
    "        left_low, left_high, left_sum = find_max_subarray(A, low, mid)\n",
    "        right_low, right_high, right_sum = find_max_subarray(A, mid + 1, high)\n",
    "        cross_low, cross_high, cross_sum = find_max_crossing_subarray(A, low, mid, high)\n",
    "        \n",
    "        if left_sum >= right_sum and left_sum >= cross_sum:\n",
    "            return left_low, left_high, left_sum\n",
    "        elif right_sum >= left_sum and right_sum >= cross_sum:\n",
    "            return right_low, right_high, right_sum\n",
    "        else:\n",
    "            return cross_low, cross_high, cross_sum\n"
   ]
  },
  {
   "cell_type": "code",
   "execution_count": 6,
   "metadata": {},
   "outputs": [
    {
     "name": "stdout",
     "output_type": "stream",
     "text": [
      "0 3 11\n",
      "2 5 16\n"
     ]
    }
   ],
   "source": [
    "test_crossing = [4, -2, 3, 6, -6, 1]\n",
    "test_crossing2 = [4, -2, 3, -3, -6, 1]\n",
    "test_crossing3 = [-4, -2, 3, 6, 6, 1]\n",
    "ml, mr, sm = find_max_crossing_subarray(test_crossing,0, 2, 5)\n",
    "print(f\"{ml} {mr} {sm}\")\n",
    "\n",
    "rl, rr, rm = find_max_subarray(test_crossing3, 0, len(test_crossing3) - 1)\n",
    "print(f\"{rl} {rr} {rm}\")"
   ]
  },
  {
   "cell_type": "code",
   "execution_count": null,
   "metadata": {},
   "outputs": [],
   "source": []
  }
 ],
 "metadata": {
  "kernelspec": {
   "display_name": "Python 3",
   "language": "python",
   "name": "python3"
  },
  "language_info": {
   "codemirror_mode": {
    "name": "ipython",
    "version": 3
   },
   "file_extension": ".py",
   "mimetype": "text/x-python",
   "name": "python",
   "nbconvert_exporter": "python",
   "pygments_lexer": "ipython3",
   "version": "3.6.9"
  }
 },
 "nbformat": 4,
 "nbformat_minor": 4
}
