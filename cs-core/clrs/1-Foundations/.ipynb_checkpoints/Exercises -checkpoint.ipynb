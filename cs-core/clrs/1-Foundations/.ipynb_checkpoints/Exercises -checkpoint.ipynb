{
 "cells": [
  {
   "cell_type": "markdown",
   "metadata": {},
   "source": [
    "# 2.1-4 Binary Array Addition"
   ]
  },
  {
   "cell_type": "code",
   "execution_count": 13,
   "metadata": {},
   "outputs": [],
   "source": [
    "def add_binary(n1, n2):\n",
    "    dec1 = bin2dec(n1)\n",
    "    dec2 = bin2dec(n2)\n",
    "    sum_out = dec1 + dec2\n",
    "    bin_sum_out = dec2bin(sum_out)\n",
    "    return bin_sum_out\n",
    "\n",
    "\n",
    "def bin2dec(n1):\n",
    "    l = len(n1)\n",
    "    summ = 0\n",
    "    for idx, el in enumerate(n1):\n",
    "        summ += el * pow(2, idx)\n",
    "    return summ\n",
    "\n",
    "def dec2bin(dec):\n",
    "    out = []\n",
    "    while dec > 0:\n",
    "        if dec % 2 == 1:\n",
    "            out.append(1)\n",
    "        else:\n",
    "            out.append(0)\n",
    "        dec = dec // 2\n",
    "    out.reverse()\n",
    "    return out"
   ]
  },
  {
   "cell_type": "code",
   "execution_count": 18,
   "metadata": {},
   "outputs": [
    {
     "name": "stdout",
     "output_type": "stream",
     "text": [
      "15\n",
      "[1, 1, 1, 1, 0]\n"
     ]
    }
   ],
   "source": [
    "test_dec = 30 \n",
    "test_bin = [1,1,1,1,0]\n",
    "\n",
    "r1 = bin2dec(test_bin)\n",
    "r2 = dec2bin(test_dec)\n",
    "\n",
    "print(r1)\n",
    "print(r2)"
   ]
  },
  {
   "cell_type": "code",
   "execution_count": 16,
   "metadata": {},
   "outputs": [
    {
     "name": "stdout",
     "output_type": "stream",
     "text": [
      "43\n",
      "[1, 0, 1, 1, 0, 1]\n"
     ]
    }
   ],
   "source": [
    "test_dec2 = 45\n",
    "test_bin2 = [1,1,0,1,0,1]\n",
    "\n",
    "r3 = bin2dec(test_bin2)\n",
    "r4 = dec2bin(test_dec2)\n",
    "\n",
    "print(r3)\n",
    "print(r4)"
   ]
  },
  {
   "cell_type": "code",
   "execution_count": 19,
   "metadata": {},
   "outputs": [
    {
     "name": "stdout",
     "output_type": "stream",
     "text": [
      "[1, 0, 1, 0, 1, 1, 0]\n"
     ]
    }
   ],
   "source": [
    "n1 = [1,1,0,1,0,1]\n",
    "n2 = [1,1,0,1,0,1]\n",
    "res1 = add_binary(n1,n2)\n",
    "print(res1)"
   ]
  },
  {
   "cell_type": "code",
   "execution_count": 22,
   "metadata": {},
   "outputs": [
    {
     "name": "stdout",
     "output_type": "stream",
     "text": [
      "10 0\n",
      "9 1\n",
      "8 2\n",
      "7 3\n",
      "6 4\n",
      "5 5\n",
      "4 6\n",
      "3 7\n",
      "2 8\n",
      "1 9\n",
      "0 10\n"
     ]
    }
   ],
   "source": [
    "for idx, i in enumerate(range(10, -1, -1)):\n",
    "    print(i, end='')\n",
    "    print(f' {idx}')"
   ]
  },
  {
   "cell_type": "code",
   "execution_count": null,
   "metadata": {},
   "outputs": [],
   "source": []
  }
 ],
 "metadata": {
  "kernelspec": {
   "display_name": "Python 3",
   "language": "python",
   "name": "python3"
  },
  "language_info": {
   "codemirror_mode": {
    "name": "ipython",
    "version": 3
   },
   "file_extension": ".py",
   "mimetype": "text/x-python",
   "name": "python",
   "nbconvert_exporter": "python",
   "pygments_lexer": "ipython3",
   "version": "3.6.9"
  }
 },
 "nbformat": 4,
 "nbformat_minor": 4
}
