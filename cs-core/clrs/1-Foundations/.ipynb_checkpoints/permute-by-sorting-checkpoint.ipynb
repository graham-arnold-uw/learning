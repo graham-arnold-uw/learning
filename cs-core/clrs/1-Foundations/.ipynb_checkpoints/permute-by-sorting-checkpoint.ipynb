{
 "cells": [
  {
   "cell_type": "code",
   "execution_count": 8,
   "metadata": {},
   "outputs": [],
   "source": [
    "import random\n",
    "\n",
    "def permute_by_sorting(A):\n",
    "    n = len(A)\n",
    "    P = [0 for i in range(n)]\n",
    "    idx_map = {}\n",
    "    \n",
    "    for i in range(n):\n",
    "        r = random.randint(1,pow(n,3))\n",
    "        P[i] = r\n",
    "        idx_map[r] = i\n",
    "        \n",
    "    \n",
    "    P.sort()\n",
    "    \n",
    "    for j in range(n):\n",
    "        el = P[j]\n",
    "        og_idx = idx_map[el]\n",
    "        P[j] = A[og_idx]\n",
    "    \n",
    "    return P\n",
    "        "
   ]
  },
  {
   "cell_type": "code",
   "execution_count": 15,
   "metadata": {},
   "outputs": [
    {
     "name": "stdout",
     "output_type": "stream",
     "text": [
      "[3, 2, 1, 5, 4, 6]\n"
     ]
    }
   ],
   "source": [
    "T = [1,2,3,4,5,6]\n",
    "res = permute_by_sorting(T)\n",
    "print(res)\n"
   ]
  },
  {
   "cell_type": "code",
   "execution_count": null,
   "metadata": {},
   "outputs": [],
   "source": []
  }
 ],
 "metadata": {
  "kernelspec": {
   "display_name": "Python 3",
   "language": "python",
   "name": "python3"
  },
  "language_info": {
   "codemirror_mode": {
    "name": "ipython",
    "version": 3
   },
   "file_extension": ".py",
   "mimetype": "text/x-python",
   "name": "python",
   "nbconvert_exporter": "python",
   "pygments_lexer": "ipython3",
   "version": "3.6.9"
  }
 },
 "nbformat": 4,
 "nbformat_minor": 4
}
