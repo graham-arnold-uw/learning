{
 "cells": [
  {
   "cell_type": "code",
   "execution_count": 6,
   "metadata": {},
   "outputs": [],
   "source": [
    "class Node:\n",
    "    \n",
    "    def __init__(self, val, nxt = None):\n",
    "        self.val = val\n",
    "        self.next = nxt"
   ]
  },
  {
   "cell_type": "markdown",
   "metadata": {},
   "source": [
    "# Adjacency List Graph"
   ]
  },
  {
   "cell_type": "code",
   "execution_count": 16,
   "metadata": {},
   "outputs": [],
   "source": [
    "#undirected graph representation\n",
    "class Graph:\n",
    "    \n",
    "    def __init__(self, num_vertices):\n",
    "        self.num_vertices = num_vertices + 1\n",
    "        self.edges = [None] * (self.num_vertices)\n",
    "    \n",
    "    \n",
    "    def add_edge(self,src,dest):\n",
    "        \n",
    "        new_node = Node(dest)\n",
    "        new_node.next = self.edges[src]\n",
    "        self.edges[src] = new_node\n",
    "        \n",
    "        #add other direction\n",
    "        new_node = Node(src)\n",
    "        new_node.next = self.edges[dest]\n",
    "        self.edges[dest] = new_node\n",
    "    \n",
    "    def print_graph(self):\n",
    "        for i in range(self.num_vertices):\n",
    "            temp = self.edges[i]\n",
    "            print(i, end='')\n",
    "            while temp: \n",
    "                print(\" -> {}\".format(temp.val), end=\"\") \n",
    "                temp = temp.next\n",
    "            print(\" \\n\")"
   ]
  },
  {
   "cell_type": "code",
   "execution_count": 17,
   "metadata": {},
   "outputs": [
    {
     "name": "stdout",
     "output_type": "stream",
     "text": [
      "0 \n",
      "\n",
      "1 -> 4 -> 3 -> 2 \n",
      "\n",
      "2 -> 3 -> 1 \n",
      "\n",
      "3 -> 4 -> 2 -> 1 \n",
      "\n",
      "4 -> 3 -> 1 \n",
      "\n",
      "5 \n",
      "\n"
     ]
    }
   ],
   "source": [
    "V = 5\n",
    "graph = Graph(V) \n",
    "\n",
    "graph.add_edge(1, 2) \n",
    "graph.add_edge(1, 3) \n",
    "graph.add_edge(1, 4) \n",
    "graph.add_edge(2, 3) \n",
    "graph.add_edge(3, 4) \n",
    "\n",
    "graph.print_graph() "
   ]
  },
  {
   "cell_type": "code",
   "execution_count": null,
   "metadata": {},
   "outputs": [],
   "source": []
  }
 ],
 "metadata": {
  "kernelspec": {
   "display_name": "Python 3",
   "language": "python",
   "name": "python3"
  },
  "language_info": {
   "codemirror_mode": {
    "name": "ipython",
    "version": 3
   },
   "file_extension": ".py",
   "mimetype": "text/x-python",
   "name": "python",
   "nbconvert_exporter": "python",
   "pygments_lexer": "ipython3",
   "version": "3.6.9"
  }
 },
 "nbformat": 4,
 "nbformat_minor": 4
}
