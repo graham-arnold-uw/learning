{
 "cells": [
  {
   "cell_type": "markdown",
   "metadata": {},
   "source": [
    "# Build tree level order"
   ]
  },
  {
   "cell_type": "code",
   "execution_count": 58,
   "metadata": {},
   "outputs": [],
   "source": [
    "from collections import deque\n",
    "\n",
    "def next_line(func):\n",
    "    def wrapper(*args,**kwargs):\n",
    "        func(*args, **kwargs)\n",
    "        print()\n",
    "    return wrapper\n",
    "\n",
    "class Node: \n",
    "    def __init__(self, data): \n",
    "        self.data = data  \n",
    "        self.left = self.right = None\n",
    "        \n",
    "    def __repr__(self):\n",
    "        return str(self.data)\n",
    "  \n",
    "# Function to insert nodes in level order  \n",
    "def insert_level_order(arr, root, i, n): \n",
    "      \n",
    "    # Base case for recursion  \n",
    "    if i < n: \n",
    "        temp = Node(arr[i])  \n",
    "        root = temp  \n",
    "  \n",
    "        # insert left child  \n",
    "        root.left = insert_level_order(arr, root.left, \n",
    "                                     2 * i + 1, n)  \n",
    "  \n",
    "        # insert right child  \n",
    "        root.right = insert_level_order(arr, root.right, \n",
    "                                      2 * i + 2, n) \n",
    "    return root \n",
    "  \n",
    "# Function to print tree nodes in  \n",
    "# InOrder fashion\n",
    "\n",
    "def post_order_helper(root):\n",
    "    if root != None:\n",
    "        post_order_helper(root.left)\n",
    "        post_order_helper(root.right)\n",
    "        print(root.data, end=' ')\n",
    "\n",
    "def in_order_helper(root): \n",
    "    if root != None: \n",
    "        in_order_helper(root.left)  \n",
    "        print(root.data,end=\" \")  \n",
    "        in_order_helper(root.right)\n",
    "\n",
    "        \n",
    "def in_order(root):\n",
    "    in_order_helper(root)\n",
    "    print()\n",
    "        \n",
    "# Function to print tree nodes in  \n",
    "# InOrder fashion\n",
    "def pre_order(root):\n",
    "    pre_order_helper(root)\n",
    "    print()\n",
    "\n",
    "def pre_order_helper(root): \n",
    "    if root != None: \n",
    "        print(root.data,end=\" \")\n",
    "        pre_order_helper(root.left)    \n",
    "        pre_order_helper(root.right)         \n",
    "  \n"
   ]
  },
  {
   "cell_type": "markdown",
   "metadata": {},
   "source": [
    "# Level order traversal functions"
   ]
  },
  {
   "cell_type": "code",
   "execution_count": 55,
   "metadata": {},
   "outputs": [],
   "source": [
    "\n",
    "#print a specific level from a tree\n",
    "def print_tree_level(root, level):\n",
    "    print_tree_level_helper(root, level, 0) \n",
    "\n",
    "def print_tree_level_helper(root,level,curr_depth):\n",
    "    if root is None:\n",
    "        return\n",
    "    if curr_depth == level:\n",
    "        print(root.data, end=' ')\n",
    "    elif curr_depth < level:\n",
    "        print_tree_level_helper(root.left,level,curr_depth+1)\n",
    "        print_tree_level_helper(root.right,level,curr_depth+1)\n",
    "        \n",
    "def get_height(root):\n",
    "    if root is None:\n",
    "        return 0\n",
    "    else:\n",
    "        lheight = get_height(root.left)\n",
    "        rheight = get_height(root.right)\n",
    "        \n",
    "        if lheight > rheight:\n",
    "            return lheight + 1\n",
    "        else:\n",
    "            return rheight + 1\n",
    "            \n",
    "    \n",
    "def print_tree_level_order(root):\n",
    "    h = get_height(root)\n",
    "    \n",
    "    for i in range(h):\n",
    "        print_tree_level(root, i)\n",
    "    print()\n",
    "    #for each level print level\n",
    "    \n",
    "def print_tree_level_order_q(root):\n",
    "    if root is None:\n",
    "        return\n",
    "    \n",
    "    q = deque()\n",
    "\n",
    "    q.append(root)\n",
    "\n",
    "    while len(q) > 0:\n",
    "        curr_el = q.popleft()\n",
    "        print(curr_el.data, end=' ')\n",
    "        if curr_el.left is not None:\n",
    "            q.append(curr_el.left)\n",
    "        if curr_el.right is not None:\n",
    "            q.append(curr_el.right)\n",
    "    print()\n"
   ]
  },
  {
   "cell_type": "markdown",
   "metadata": {},
   "source": [
    "# Driver Code"
   ]
  },
  {
   "cell_type": "code",
   "execution_count": 57,
   "metadata": {},
   "outputs": [
    {
     "name": "stdout",
     "output_type": "stream",
     "text": [
      "preorder traveral\n",
      "1 2 4 5 3 \n",
      "level order traversal recursive\n",
      "1 2 3 4 5 \n",
      "level order traversal iterative\n",
      "1 2 3 4 5 \n"
     ]
    }
   ],
   "source": [
    "arr = [1,2,3,4,5]\n",
    "n = len(arr)\n",
    "root = None\n",
    "root = insert_level_order(arr,root,0,n)\n",
    "print('preorder traveral')\n",
    "pre_order(root)\n",
    "print('level order traversal recursive')\n",
    "print_tree_level_order(root)\n",
    "print('level order traversal iterative')\n",
    "print_tree_level_order_q(root)"
   ]
  }
 ],
 "metadata": {
  "kernelspec": {
   "display_name": "Python 3",
   "language": "python",
   "name": "python3"
  },
  "language_info": {
   "codemirror_mode": {
    "name": "ipython",
    "version": 3
   },
   "file_extension": ".py",
   "mimetype": "text/x-python",
   "name": "python",
   "nbconvert_exporter": "python",
   "pygments_lexer": "ipython3",
   "version": "3.6.9"
  }
 },
 "nbformat": 4,
 "nbformat_minor": 4
}
