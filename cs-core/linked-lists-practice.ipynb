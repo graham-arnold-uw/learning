{
 "cells": [
  {
   "cell_type": "code",
   "execution_count": 22,
   "metadata": {},
   "outputs": [],
   "source": [
    "class Node:\n",
    "    \n",
    "    def __init__(self, val):\n",
    "        self.val = val\n",
    "        self.next = None\n",
    "        \n",
    "\n",
    "def add_node(h, v):\n",
    "    new_node = Node(v)\n",
    "    if h == None:\n",
    "        return new_node\n",
    "    p = h\n",
    "    while p.next != None:\n",
    "        p = p.next\n",
    "    \n",
    "    p.next = new_node\n",
    "    \n",
    "    return h\n",
    "\n",
    "def print_list(h):\n",
    "    c = h\n",
    "    print(\"h -> \", end='')\n",
    "    if c == None:\n",
    "        print(\"empty list\", end='')\n",
    "    while c != None:\n",
    "        print(f\"{c.val} -> \", end='')\n",
    "        c = c.next\n",
    "    print(\"null\", end='')\n",
    "    print()\n",
    "    \n",
    "def reverse_list_itr(h):\n",
    "    if h == None:\n",
    "        return None\n",
    "    if h.next == None:\n",
    "        return h\n",
    "    \n",
    "    prev = None\n",
    "    curr = h\n",
    "    \n",
    "    while curr != None:\n",
    "        temp = curr.next\n",
    "        curr.next = prev\n",
    "        prev = curr\n",
    "        curr = temp\n",
    "    return prev\n",
    "    \n",
    "def reverse_list_rec(h):\n",
    "    if h == None:\n",
    "        return None\n",
    "    if h.next == None:\n",
    "        return h\n",
    "    \n",
    "    new_head = reverse_list_rec(h.next)\n",
    "    h.next.next = h\n",
    "    h.next = None\n",
    "    \n",
    "    return new_head\n",
    "\n",
    "def reverse_list_k(h, k):\n",
    "    if h == None:\n",
    "        return None\n",
    "    if h.next == None:\n",
    "        return h\n",
    "    \n",
    "    prev = None\n",
    "    curr = h\n",
    "    i = 1\n",
    "    while i <= k:\n",
    "        temp = curr.next\n",
    "        curr.next = prev\n",
    "        prev = curr\n",
    "        curr = temp\n",
    "        i += 1\n",
    "    h.next = curr\n",
    "    return prev, curr"
   ]
  },
  {
   "cell_type": "code",
   "execution_count": 23,
   "metadata": {},
   "outputs": [
    {
     "name": "stdout",
     "output_type": "stream",
     "text": [
      "h -> 1 -> 2 -> 3 -> 4 -> 5 -> null\n",
      "h -> 2 -> 1 -> 3 -> 4 -> 5 -> null\n",
      "h -> 3 -> 4 -> 5 -> null\n"
     ]
    }
   ],
   "source": [
    "h = None\n",
    "h = add_node(h ,1)\n",
    "h = add_node(h, 2)\n",
    "h = add_node(h ,3)\n",
    "h = add_node(h, 4)\n",
    "h = add_node(h, 5)\n",
    "print_list(h)\n",
    "#rh = reverse_list_itr(h)\n",
    "#print_list(rk)\n",
    "#rh = reverse_list_rec(h)\n",
    "#print_list(rk)\n",
    "rk, nxt = reverse_list_k(h, 2)\n",
    "print_list(rk)\n",
    "print_list(nxt)\n"
   ]
  },
  {
   "cell_type": "code",
   "execution_count": null,
   "metadata": {},
   "outputs": [],
   "source": []
  }
 ],
 "metadata": {
  "kernelspec": {
   "display_name": "Python 3",
   "language": "python",
   "name": "python3"
  },
  "language_info": {
   "codemirror_mode": {
    "name": "ipython",
    "version": 3
   },
   "file_extension": ".py",
   "mimetype": "text/x-python",
   "name": "python",
   "nbconvert_exporter": "python",
   "pygments_lexer": "ipython3",
   "version": "3.6.9"
  }
 },
 "nbformat": 4,
 "nbformat_minor": 4
}
