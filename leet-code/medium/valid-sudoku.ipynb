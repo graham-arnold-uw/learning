{
 "cells": [
  {
   "cell_type": "markdown",
   "metadata": {},
   "source": [
    "https://leetcode.com/problems/valid-sudoku/submissions/"
   ]
  },
  {
   "cell_type": "code",
   "execution_count": null,
   "metadata": {},
   "outputs": [],
   "source": [
    "class Solution:\n",
    "    def isValidSudoku(self, board: List[List[str]]) -> bool:\n",
    "        #3 checks needed\n",
    "        #check col\n",
    "        #check row\n",
    "        #check square\n",
    "        \n",
    "        n = len(board) #9\n",
    "        \n",
    "        for i in range(n):\n",
    "            for j in range(n):\n",
    "                if board[i][j] != '.':\n",
    "                    if not self.check_constraints(board, i, j, n):\n",
    "                        return False\n",
    "        return True\n",
    "    \n",
    "    \n",
    "    def check_constraints(self, board, i, j, n): # 0, 0, 9\n",
    "        curr = board[i][j] # '5'\n",
    "        \n",
    "        count = 0\n",
    "        #check row:\n",
    "        for k in range(n):\n",
    "            if board[k][j] == curr:\n",
    "                count += 1\n",
    "            if count == 2:\n",
    "                return False\n",
    "        \n",
    "        count = 0\n",
    "        #check col\n",
    "        for k in range(n):\n",
    "            if board[i][k] == curr:\n",
    "                count += 1\n",
    "            if count == 2:\n",
    "                return False\n",
    "        \n",
    "        #check square\n",
    "        count = 0\n",
    "        offset_i = i % 3 #0\n",
    "        offset_j = j % 3 #1\n",
    "        si = i - offset_i # 0 - 0 = 0\n",
    "        sj = j - offset_j #3 - 0 = 3\n",
    "        for k in range(si,si + 3): # (0, 3)\n",
    "            for l in range(sj, sj + 3): # (0, 3)\n",
    "                if board[k][l] == curr:\n",
    "                    count += 1\n",
    "                if count == 2:\n",
    "                    return False\n",
    "        \n",
    "        return True"
   ]
  }
 ],
 "metadata": {
  "kernelspec": {
   "display_name": "Python 3",
   "language": "python",
   "name": "python3"
  },
  "language_info": {
   "codemirror_mode": {
    "name": "ipython",
    "version": 3
   },
   "file_extension": ".py",
   "mimetype": "text/x-python",
   "name": "python",
   "nbconvert_exporter": "python",
   "pygments_lexer": "ipython3",
   "version": "3.6.9"
  }
 },
 "nbformat": 4,
 "nbformat_minor": 4
}
