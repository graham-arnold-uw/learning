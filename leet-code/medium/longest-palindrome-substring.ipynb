{
 "cells": [
  {
   "cell_type": "markdown",
   "metadata": {},
   "source": [
    "https://leetcode.com/problems/longest-palindromic-substring/"
   ]
  },
  {
   "cell_type": "code",
   "execution_count": 39,
   "metadata": {},
   "outputs": [],
   "source": [
    "def longestPalindrome(s):\n",
    "    if len(s) == 0:\n",
    "        return ''\n",
    "    \n",
    "    if len(s) == 1:\n",
    "        return s\n",
    "    \n",
    "    i = 0\n",
    "    max_len = 0\n",
    "    max_str = ''\n",
    "    max_s = 0\n",
    "    max_e = 0\n",
    "    \n",
    "    wl = 0\n",
    "    wr = 1\n",
    "    \n",
    "    #this loop is finding longest palindrome rooted at current search idx\n",
    "    while wr < len(s):\n",
    "        idx_start = wl\n",
    "        idx_end = wl + 1\n",
    "        \n",
    "        curr_l_e = idx_end\n",
    "        curr_l = 0\n",
    "        #check all future sub strings to see if they are a palindrome\n",
    "        #if palindrome found want to record it then skip root idx to after it\n",
    "        while idx_end <= len(s):\n",
    "            curr_str = s[idx_start:idx_end]\n",
    "            #curr_l = 0\n",
    "            #curr_l_e = idx_start\n",
    "            \n",
    "            if curr_str == curr_str[::-1]:\n",
    "                #print(curr_str)\n",
    "                if idx_end - idx_start > max_len:\n",
    "                    max_len = idx_end-idx_start\n",
    "                    max_s = idx_start\n",
    "                    max_e = idx_end\n",
    "                if idx_end - idx_start > curr_l:\n",
    "                    curr_l = idx_end - idx_start\n",
    "                    curr_l_e = idx_end\n",
    "                    \n",
    "            \n",
    "            idx_end += 1\n",
    "            \n",
    "        \n",
    "        i += 1\n",
    "        print(i)\n",
    "    \n",
    "    return s[max_s:max_e]\n",
    "    \n",
    "            \n",
    "            \n",
    "                "
   ]
  },
  {
   "cell_type": "code",
   "execution_count": 40,
   "metadata": {},
   "outputs": [
    {
     "name": "stdout",
     "output_type": "stream",
     "text": [
      "3\n",
      "4\n",
      "5\n",
      "6\n",
      "aba\n"
     ]
    }
   ],
   "source": [
    "s = \"abacab\"\n",
    "res = longestPalindrome(s)\n",
    "print(res)"
   ]
  },
  {
   "cell_type": "code",
   "execution_count": 45,
   "metadata": {},
   "outputs": [],
   "source": [
    "def longest_palindrome(s):\n",
    "    \n",
    "    if len(s) == 0:\n",
    "        return ''\n",
    "    \n",
    "    \n",
    "    wl = 0\n",
    "    wr = 1\n",
    "    \n",
    "    ml = 0\n",
    "    mr = 1\n",
    "    max_seen = 0\n",
    "    \n",
    "    while wr <= len(s):\n",
    "        \n",
    "        si = wr\n",
    "        \n",
    "        while si <= len(s):\n",
    "            curr_str = s[wl:si]\n",
    "            \n",
    "            if curr_str == curr_str[::-1]:\n",
    "                wr = si\n",
    "                \n",
    "                if wr-wl > max_seen:\n",
    "                    ml = wl\n",
    "                    mr = wr\n",
    "                    max_seen = wr-wl\n",
    "            \n",
    "            si += 1\n",
    "        \n",
    "        wl += 1\n",
    "        wr += 1\n",
    "            \n",
    "    return s[ml:mr]"
   ]
  },
  {
   "cell_type": "code",
   "execution_count": 47,
   "metadata": {},
   "outputs": [
    {
     "name": "stdout",
     "output_type": "stream",
     "text": [
      "bab\n"
     ]
    }
   ],
   "source": [
    "s = \"babad\"\n",
    "res = longest_palindrome(s)\n",
    "print(res)"
   ]
  },
  {
   "cell_type": "code",
   "execution_count": 110,
   "metadata": {},
   "outputs": [],
   "source": [
    "def longest_palindrome_dp(s):\n",
    "    n = len(s)\n",
    "    maxi = maxj = 0\n",
    "    max_seen = 1\n",
    "    res = [[0 for i in range(n)] for j in range(n)]\n",
    "    \n",
    "    for i in range(n):\n",
    "        for j in range(i, n):\n",
    "            if i == j:\n",
    "                #print('h')\n",
    "                res[i][j] = True\n",
    "                #print(res)\n",
    "            \n",
    "            elif j-i == 1:\n",
    "                res[i][j] = s[i] == s[j]\n",
    "                res[j][i] = s[i] == s[j]\n",
    "                if s[i] == s[j]:\n",
    "                    if j-i+1 > max_seen:\n",
    "                        maxi = i\n",
    "                        maxj = j\n",
    "                        max_seen = j-i+1\n",
    "            else:\n",
    "                res[i][j] = -1\n",
    "                res[j][i] = -1\n",
    "    \n",
    "   \n",
    "    \n",
    "    for i in range(n-1, -1, -1):\n",
    "        for j in range(n-1,i-1, -1):\n",
    "            #print(i)\n",
    "            #print(j)\n",
    "            if res[i][j] == -1:\n",
    "                \n",
    "                res[i][j] = res[i+1][j-1] and s[i] == s[j]\n",
    "                res[j][i] = res[i][j]\n",
    "                if res[i][j]:\n",
    "                    if j-i+1 > max_seen:\n",
    "                        maxi = i\n",
    "                        maxj = j\n",
    "                        max_seen = j-i+1\n",
    "                        #print(i)\n",
    "                        #print(j)\n",
    "          \n",
    "    \n",
    "    \n",
    "    return s[maxi:maxj+1]\n",
    "\n",
    "    \n",
    "    \n",
    "    \n",
    "    \n",
    "    \n",
    "    \n",
    "    \n",
    "\n"
   ]
  },
  {
   "cell_type": "code",
   "execution_count": 114,
   "metadata": {},
   "outputs": [
    {
     "name": "stdout",
     "output_type": "stream",
     "text": [
      "elle\n"
     ]
    }
   ],
   "source": [
    "s = \"elle\"\n",
    "res = longest_palindrome_dp(s)\n",
    "print(res)"
   ]
  },
  {
   "cell_type": "code",
   "execution_count": 54,
   "metadata": {},
   "outputs": [
    {
     "name": "stdout",
     "output_type": "stream",
     "text": [
      "True\n"
     ]
    }
   ],
   "source": [
    "t = s[0]\n",
    "t2 = s[2]\n",
    "q = t == t2\n",
    "print(q)"
   ]
  },
  {
   "cell_type": "code",
   "execution_count": 98,
   "metadata": {},
   "outputs": [
    {
     "name": "stdout",
     "output_type": "stream",
     "text": [
      "True\n"
     ]
    }
   ],
   "source": [
    "t = -1 and True\n",
    "print(t)"
   ]
  },
  {
   "cell_type": "code",
   "execution_count": 101,
   "metadata": {},
   "outputs": [
    {
     "name": "stdout",
     "output_type": "stream",
     "text": [
      "5\n",
      "4\n",
      "3\n",
      "2\n",
      "1\n"
     ]
    }
   ],
   "source": [
    "for i in range(5,0,-1):\n",
    "    print(i)"
   ]
  },
  {
   "cell_type": "code",
   "execution_count": null,
   "metadata": {},
   "outputs": [],
   "source": []
  },
  {
   "cell_type": "code",
   "execution_count": null,
   "metadata": {},
   "outputs": [],
   "source": []
  }
 ],
 "metadata": {
  "kernelspec": {
   "display_name": "Python 3",
   "language": "python",
   "name": "python3"
  },
  "language_info": {
   "codemirror_mode": {
    "name": "ipython",
    "version": 3
   },
   "file_extension": ".py",
   "mimetype": "text/x-python",
   "name": "python",
   "nbconvert_exporter": "python",
   "pygments_lexer": "ipython3",
   "version": "3.6.9"
  }
 },
 "nbformat": 4,
 "nbformat_minor": 4
}
