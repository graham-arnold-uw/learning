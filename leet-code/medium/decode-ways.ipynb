{
 "cells": [
  {
   "cell_type": "markdown",
   "metadata": {},
   "source": [
    "https://leetcode.com/problems/decode-ways/"
   ]
  },
  {
   "cell_type": "code",
   "execution_count": null,
   "metadata": {},
   "outputs": [],
   "source": [
    "class Solution:\n",
    "    def numDecodings(self, s: str) -> int:\n",
    "        n = len(s)\n",
    "        \n",
    "        memo = {}\n",
    "        num_way = self.decode_helper(s, 0, n, memo)\n",
    "    \n",
    "        \n",
    "        return num_way\n",
    "    \n",
    "    def decode_helper(self, s, i, n, memo):\n",
    "        if i >= n:\n",
    "            return 1\n",
    "        \n",
    "        if s[i] == '0':\n",
    "            return 0\n",
    "        \n",
    "        if i in memo:\n",
    "            return memo[i]\n",
    "        \n",
    "        ways = 0\n",
    "        \n",
    "        val1 = s[i]\n",
    "        way_next = self.decode_helper(s, i + 1, n,memo)\n",
    "        #if way_next != -1:\n",
    "        ways += way_next\n",
    "        \n",
    "        if i < n - 1:\n",
    "            val2 = s[i + 1]\n",
    "            snum = val1+val2\n",
    "            if 0 < int(snum) < 27:\n",
    "                way_next2 = self.decode_helper(s, i + 2, n,memo)\n",
    "                #if way_next2 != -1:\n",
    "                ways += way_next2\n",
    "        \n",
    "        memo[i] = ways\n",
    "        return ways"
   ]
  },
  {
   "cell_type": "code",
   "execution_count": 1,
   "metadata": {},
   "outputs": [
    {
     "name": "stdout",
     "output_type": "stream",
     "text": [
      "helloworl\n"
     ]
    }
   ],
   "source": [
    "s = 'helloworld'\n",
    "print(s[:-1])"
   ]
  },
  {
   "cell_type": "code",
   "execution_count": null,
   "metadata": {},
   "outputs": [],
   "source": []
  }
 ],
 "metadata": {
  "kernelspec": {
   "display_name": "Python 3",
   "language": "python",
   "name": "python3"
  },
  "language_info": {
   "codemirror_mode": {
    "name": "ipython",
    "version": 3
   },
   "file_extension": ".py",
   "mimetype": "text/x-python",
   "name": "python",
   "nbconvert_exporter": "python",
   "pygments_lexer": "ipython3",
   "version": "3.6.9"
  }
 },
 "nbformat": 4,
 "nbformat_minor": 4
}
