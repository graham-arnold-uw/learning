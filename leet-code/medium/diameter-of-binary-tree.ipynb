{
 "cells": [
  {
   "cell_type": "markdown",
   "metadata": {},
   "source": [
    "https://leetcode.com/explore/interview/card/amazon/78/trees-and-graphs/2985/"
   ]
  },
  {
   "cell_type": "code",
   "execution_count": null,
   "metadata": {},
   "outputs": [],
   "source": [
    "# Definition for a binary tree node.\n",
    "# class TreeNode:\n",
    "#     def __init__(self, val=0, left=None, right=None):\n",
    "#         self.val = val\n",
    "#         self.left = left\n",
    "#         self.right = right\n",
    "class Solution:\n",
    "    def diameterOfBinaryTree(self, root: Optional[TreeNode]) -> int:\n",
    "        \n",
    "        global_max = 0\n",
    "        \n",
    "        \n",
    "        def diameter_helper(root):\n",
    "            nonlocal global_max\n",
    "            if root == None:\n",
    "                return 0\n",
    "            \n",
    "            left_d = 0\n",
    "            right_d = 0\n",
    "            if root.left != None:\n",
    "                left_d = diameter_helper(root.left)\n",
    "            \n",
    "            if root.right != None:\n",
    "                right_d = diameter_helper(root.right)\n",
    "                \n",
    "            max_rooted_here = left_d + right_d\n",
    "            if max_rooted_here > global_max:\n",
    "                global_max = max_rooted_here\n",
    "            \n",
    "            max_ret = 1 + max(left_d, right_d)\n",
    "            return max_ret\n",
    "        \n",
    "        diameter_helper(root)\n",
    "        return global_max\n",
    "    "
   ]
  }
 ],
 "metadata": {
  "kernelspec": {
   "display_name": "Python 3",
   "language": "python",
   "name": "python3"
  },
  "language_info": {
   "codemirror_mode": {
    "name": "ipython",
    "version": 3
   },
   "file_extension": ".py",
   "mimetype": "text/x-python",
   "name": "python",
   "nbconvert_exporter": "python",
   "pygments_lexer": "ipython3",
   "version": "3.6.9"
  }
 },
 "nbformat": 4,
 "nbformat_minor": 4
}
