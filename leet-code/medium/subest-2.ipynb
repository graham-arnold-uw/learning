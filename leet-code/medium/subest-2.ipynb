{
 "cells": [
  {
   "cell_type": "markdown",
   "metadata": {},
   "source": [
    "https://leetcode.com/problems/subsets-ii/"
   ]
  },
  {
   "cell_type": "code",
   "execution_count": null,
   "metadata": {},
   "outputs": [],
   "source": [
    "class Solution:\n",
    "    def subsetsWithDup(self, nums: List[int]) -> List[List[int]]:\n",
    "        \n",
    "        \n",
    "        def subsets_recursive(nums, i, n, path):\n",
    "            #print(f\"i = {i} base path = {path}\")\n",
    "            for j in range(i, n):\n",
    "                    path.append(nums[j])\n",
    "                    #path_s = tuple(sorted(path))\n",
    "                    path_s = tuple(path)\n",
    "                    if path_s not in global_set:\n",
    "                        #print(f\"j = {j} path = {path}\")\n",
    "                        #seen_set.add(path_s)\n",
    "                        global_set.add(path_s)\n",
    "                        subsets_recursive(nums, j + 1, n, path)\n",
    "                      \n",
    "                    path.pop()\n",
    "                    \n",
    "        \n",
    "        global_set = set()\n",
    "        n = len(nums)\n",
    "        nums = sorted(nums)\n",
    "        curr_path = []\n",
    "        subsets_recursive(nums, 0, n, curr_path)\n",
    "    \n",
    "        res = [list(el) for el in global_set]\n",
    "        res.append([])                           \n",
    "        return res\n",
    "        "
   ]
  }
 ],
 "metadata": {
  "kernelspec": {
   "display_name": "Python 3",
   "language": "python",
   "name": "python3"
  },
  "language_info": {
   "codemirror_mode": {
    "name": "ipython",
    "version": 3
   },
   "file_extension": ".py",
   "mimetype": "text/x-python",
   "name": "python",
   "nbconvert_exporter": "python",
   "pygments_lexer": "ipython3",
   "version": "3.6.9"
  }
 },
 "nbformat": 4,
 "nbformat_minor": 4
}
