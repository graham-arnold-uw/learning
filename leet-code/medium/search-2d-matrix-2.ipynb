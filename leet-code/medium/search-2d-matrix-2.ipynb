{
 "cells": [
  {
   "cell_type": "markdown",
   "metadata": {},
   "source": [
    "https://leetcode.com/problems/search-a-2d-matrix-ii/submissions/"
   ]
  },
  {
   "cell_type": "code",
   "execution_count": null,
   "metadata": {},
   "outputs": [],
   "source": [
    "class Solution:\n",
    "    def searchMatrix(self, matrix: List[List[int]], target: int) -> bool:\n",
    "        m = len(matrix)\n",
    "        n = len(matrix[0])\n",
    "        \n",
    "        if target > matrix[m - 1][n - 1] or target < matrix[0][0]:\n",
    "            return False\n",
    "        \n",
    "        col_end = self.find_column_boundary(matrix, m, n, target)\n",
    "        row_end = self.find_row_boundary(matrix, m, n, target)\n",
    "        \n",
    "        while row_end >= 0 and col_end >= 0:\n",
    "            res = self.check_L(matrix, target, col_end, row_end)\n",
    "            if res:\n",
    "                return True\n",
    "            else:\n",
    "                row_end -= 1\n",
    "                col_end -= 1\n",
    "        \n",
    "        return False\n",
    "                \n",
    "    \n",
    "    \n",
    "    def find_column_boundary(self, matrix, m, n, target):\n",
    "        curr_col = n - 1\n",
    "        \n",
    "        while target < matrix[0][curr_col] and target > matrix[m - 1][curr_col]:\n",
    "            curr_col -= 1\n",
    "        \n",
    "        return curr_col\n",
    "    \n",
    "    def find_row_boundary(self, matrix, m, n, target):\n",
    "        curr_row = m - 1\n",
    "        \n",
    "        while target < matrix[curr_row][0] and target > matrix[curr_row][n - 1]:\n",
    "            curr_row -= 1\n",
    "        \n",
    "        return curr_row\n",
    "    \n",
    "    def check_L(self, matrix, target, col_end, row_end):\n",
    "        \n",
    "        #check row\n",
    "        for j in range(col_end + 1):\n",
    "            if matrix[row_end][j] == target:\n",
    "                return True\n",
    "        #check column\n",
    "        for i in range(row_end + 1):\n",
    "            if matrix[i][col_end] == target:\n",
    "                return True\n",
    "        return False\n",
    "        \n",
    "        \n",
    "            "
   ]
  }
 ],
 "metadata": {
  "kernelspec": {
   "display_name": "Python 3",
   "language": "python",
   "name": "python3"
  },
  "language_info": {
   "codemirror_mode": {
    "name": "ipython",
    "version": 3
   },
   "file_extension": ".py",
   "mimetype": "text/x-python",
   "name": "python",
   "nbconvert_exporter": "python",
   "pygments_lexer": "ipython3",
   "version": "3.6.9"
  }
 },
 "nbformat": 4,
 "nbformat_minor": 4
}
