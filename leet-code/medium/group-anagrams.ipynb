{
 "cells": [
  {
   "cell_type": "markdown",
   "metadata": {},
   "source": [
    "https://leetcode.com/problems/group-anagrams/"
   ]
  },
  {
   "cell_type": "code",
   "execution_count": 1,
   "metadata": {},
   "outputs": [],
   "source": [
    "from collections import Counter, defaultdict"
   ]
  },
  {
   "cell_type": "markdown",
   "metadata": {},
   "source": [
    "# Naive solution O(n^2)"
   ]
  },
  {
   "cell_type": "code",
   "execution_count": null,
   "metadata": {},
   "outputs": [],
   "source": [
    "def group_anagrams(strs):\n",
    "    \n",
    "    temp = strs.copy()\n",
    "    \n",
    "    res = []\n",
    "    \n",
    "    while len(temp) > 0:\n",
    "        #curr_base = temp[0]\n",
    "        \n",
    "        curr_group = find_matches(temp)\n",
    "        \n",
    "        res.append(curr_group)\n",
    "    \n",
    "    return res\n",
    "\n",
    "def find_matches(anagrams):\n",
    "    \n",
    "    if len(anagrams) == 0:\n",
    "        return []\n",
    "    \n",
    "    curr_base = anagrams[0]\n",
    "    del anagrams[0]\n",
    "    ct_base = Counter(curr_base)\n",
    "    res = [curr_base]\n",
    "    \n",
    "    i = 0\n",
    "    \n",
    "    while i < len(anagrams):\n",
    "        ct_curr = Counter(anagrams[i])\n",
    "        \n",
    "        if ct_curr == ct_base:\n",
    "            res.append(anagrams[i])\n",
    "            del anagrams[i]\n",
    "        else:\n",
    "            i += 1\n",
    "    \n",
    "    return res"
   ]
  },
  {
   "cell_type": "code",
   "execution_count": null,
   "metadata": {},
   "outputs": [],
   "source": [
    "s = [\"eat\",\"tea\",\"tan\",\"ate\",\"nat\",\"bat\"]\n",
    "s2 = ['', '']\n",
    "s3 = ['a']\n",
    "s4 = ['cat','zebra','dog']\n",
    "r = group_anagrams(s)\n",
    "print(r)"
   ]
  },
  {
   "cell_type": "code",
   "execution_count": null,
   "metadata": {},
   "outputs": [],
   "source": [
    "t1 = ord('e') + ord('a') + ord('t')\n",
    "t2 = ord('t') + ord('e') + ord('a')\n",
    "t1 == t2\n",
    "\n",
    "from collections import defaultdict\n",
    "\n",
    "d = defaultdict(list)\n",
    "\n"
   ]
  },
  {
   "cell_type": "markdown",
   "metadata": {},
   "source": [
    "# Improved solution w/ Hashing"
   ]
  },
  {
   "cell_type": "code",
   "execution_count": 2,
   "metadata": {},
   "outputs": [],
   "source": [
    "\n",
    "\n",
    "def group_anagrams_optimal(strs):\n",
    "    groups = defaultdict(list)\n",
    "    \n",
    "    for i in range(len(strs)):\n",
    "        curr_str = strs[i]\n",
    "        \n",
    "        curr_hash = get_hash(curr_str)\n",
    "        groups[curr_hash].append(curr_str)\n",
    "    \n",
    "    return list(groups.values())\n",
    "        \n",
    "        \n",
    "\n",
    "        \n",
    "def get_hash(s):\n",
    "    res = 0\n",
    "    \n",
    "    for c in s:\n",
    "        res += ord(c)\n",
    "    \n",
    "    return res\n",
    "        \n",
    "        \n",
    "        "
   ]
  },
  {
   "cell_type": "code",
   "execution_count": 4,
   "metadata": {},
   "outputs": [
    {
     "name": "stdout",
     "output_type": "stream",
     "text": [
      "[['cat'], ['zebra'], ['dog']]\n"
     ]
    }
   ],
   "source": [
    "s = [\"eat\",\"tea\",\"tan\",\"ate\",\"nat\",\"bat\"]\n",
    "s2 = ['', '']\n",
    "s3 = ['a']\n",
    "s4 = ['cat','zebra','dog']\n",
    "r = group_anagrams_optimal(s4)\n",
    "print(r)"
   ]
  },
  {
   "cell_type": "code",
   "execution_count": null,
   "metadata": {},
   "outputs": [],
   "source": []
  }
 ],
 "metadata": {
  "kernelspec": {
   "display_name": "Python 3",
   "language": "python",
   "name": "python3"
  },
  "language_info": {
   "codemirror_mode": {
    "name": "ipython",
    "version": 3
   },
   "file_extension": ".py",
   "mimetype": "text/x-python",
   "name": "python",
   "nbconvert_exporter": "python",
   "pygments_lexer": "ipython3",
   "version": "3.6.9"
  }
 },
 "nbformat": 4,
 "nbformat_minor": 4
}
