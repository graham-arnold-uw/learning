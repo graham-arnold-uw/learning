{
 "cells": [
  {
   "cell_type": "markdown",
   "metadata": {},
   "source": [
    "https://leetcode.com/problems/minesweeper/"
   ]
  },
  {
   "cell_type": "code",
   "execution_count": null,
   "metadata": {},
   "outputs": [],
   "source": [
    "class Solution:\n",
    "    def updateBoard(self, board: List[List[str]], click: List[int]) -> List[List[str]]:\n",
    "        \n",
    "        m = len(board)\n",
    "        n = len(board[0])\n",
    "        #neigh_counts = self.get_neighbor_counts(board, m, n)\n",
    "        dirs = [(-1, 0), (1, 0), (0, -1), (0, 1), (-1, -1), (-1, 1), (1, -1), (1, 1)]\n",
    "        \n",
    "        ci, cj = click\n",
    "        \n",
    "        choice = board[ci][cj]\n",
    "        \n",
    "        if choice == 'M':\n",
    "            board[ci][cj] = 'X'\n",
    "            return board\n",
    "        \n",
    "        else: #choice == 'E' empty unrevealed\n",
    "            self.reveal_recursive(board, ci, cj, m, n, dirs)\n",
    "            return board\n",
    "    \n",
    "    \n",
    "    def reveal_recursive(self, board, i, j, m, n, dirs):\n",
    "        \n",
    "        if i < 0 or i >= m or j < 0 or j >= n or board[i][j] != 'E':\n",
    "            return\n",
    "        \n",
    "        neigh_count = self.get_neighbor_count(board, i, j, m, n, dirs)\n",
    "        \n",
    "        if neigh_count > 0:\n",
    "            board[i][j] = str(neigh_count)\n",
    "            return\n",
    "        else:\n",
    "            board[i][j] = 'B'\n",
    "            for di, dj in dirs:\n",
    "                ni, nj = i + di, j + dj\n",
    "                self.reveal_recursive(board, ni, nj, m, n, dirs)\n",
    "        \n",
    "  \n",
    "    \n",
    "    def get_neighbor_count(self, board, i, j, m, n, dirs):\n",
    "        \n",
    "        \n",
    "        count = 0    \n",
    "\n",
    "        #count neighbor mines in all directions if valid coordinates\n",
    "        for di,dj in dirs:\n",
    "            ni, nj = i + di, j + dj\n",
    "\n",
    "            if ni >= 0 and ni < m and nj >= 0 and nj < n:\n",
    "                if board[ni][nj] == 'M':\n",
    "                    count += 1\n",
    "\n",
    "        return count\n",
    "                        \n",
    "    "
   ]
  }
 ],
 "metadata": {
  "kernelspec": {
   "display_name": "Python 3",
   "language": "python",
   "name": "python3"
  },
  "language_info": {
   "codemirror_mode": {
    "name": "ipython",
    "version": 3
   },
   "file_extension": ".py",
   "mimetype": "text/x-python",
   "name": "python",
   "nbconvert_exporter": "python",
   "pygments_lexer": "ipython3",
   "version": "3.6.9"
  }
 },
 "nbformat": 4,
 "nbformat_minor": 4
}
