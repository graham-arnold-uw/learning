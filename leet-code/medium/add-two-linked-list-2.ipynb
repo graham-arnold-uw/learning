{
 "cells": [
  {
   "cell_type": "markdown",
   "metadata": {},
   "source": [
    "https://leetcode.com/problems/add-two-numbers-ii/"
   ]
  },
  {
   "cell_type": "code",
   "execution_count": null,
   "metadata": {},
   "outputs": [],
   "source": [
    "# Definition for singly-linked list.\n",
    "# class ListNode:\n",
    "#     def __init__(self, val=0, next=None):\n",
    "#         self.val = val\n",
    "#         self.next = next\n",
    "class Solution:\n",
    "    def addTwoNumbers(self, l1: Optional[ListNode], l2: Optional[ListNode]) -> Optional[ListNode]:\n",
    "        \n",
    "        r1 = self.reverse_list(l1)\n",
    "        r2 = self.reverse_list(l2)\n",
    "        new = ListNode()\n",
    "        pn = new\n",
    "        \n",
    "        p1, p2 = r1, r2\n",
    "        carry = 0\n",
    "        \n",
    "        while p1 != None and p2 != None:\n",
    "            s = p1.val + p2.val + carry\n",
    "            if s >= 10:\n",
    "                s = s % 10\n",
    "                carry = 1\n",
    "            else:\n",
    "                carry = 0\n",
    "            \n",
    "            pn.next = ListNode(s)\n",
    "            pn = pn.next\n",
    "            p1 = p1.next\n",
    "            p2 = p2.next\n",
    "        \n",
    "        while p1 != None:\n",
    "            s = p1.val + carry\n",
    "            if s >= 10:\n",
    "                s = s % 10\n",
    "                carry = 1\n",
    "            else:\n",
    "                carry = 0\n",
    "            pn.next = ListNode(s)\n",
    "            pn = pn.next\n",
    "            p1 = p1.next\n",
    "        \n",
    "        while p2 != None:\n",
    "            s = p2.val + carry\n",
    "            if s >= 10:\n",
    "                s = s % 10\n",
    "                carry = 1\n",
    "            else:\n",
    "                carry = 0\n",
    "            pn.next = ListNode(s)\n",
    "            pn = pn.next\n",
    "            p2 = p2.next\n",
    "            \n",
    "        if carry == 1:\n",
    "            pn.next = ListNode(1)\n",
    "            \n",
    "            \n",
    "        res = self.reverse_list(new.next)\n",
    "        return res\n",
    "            \n",
    "        \n",
    "    def reverse_list(self, head):\n",
    "        if head.next == None:\n",
    "            return head\n",
    "        \n",
    "        rev = self.reverse_list(head.next)\n",
    "        head.next.next = head\n",
    "        head.next = None\n",
    "        \n",
    "        return rev"
   ]
  }
 ],
 "metadata": {
  "kernelspec": {
   "display_name": "Python 3",
   "language": "python",
   "name": "python3"
  },
  "language_info": {
   "codemirror_mode": {
    "name": "ipython",
    "version": 3
   },
   "file_extension": ".py",
   "mimetype": "text/x-python",
   "name": "python",
   "nbconvert_exporter": "python",
   "pygments_lexer": "ipython3",
   "version": "3.6.9"
  }
 },
 "nbformat": 4,
 "nbformat_minor": 4
}
