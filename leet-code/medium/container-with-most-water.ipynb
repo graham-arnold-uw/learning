{
 "cells": [
  {
   "cell_type": "markdown",
   "metadata": {},
   "source": [
    "https://leetcode.com/problems/container-with-most-water/"
   ]
  },
  {
   "cell_type": "code",
   "execution_count": null,
   "metadata": {},
   "outputs": [],
   "source": [
    "class Solution:\n",
    "    def maxArea(self, height: List[int]) -> int:\n",
    "        \n",
    "        max_seen = 0\n",
    "        \n",
    "        n = len(height)\n",
    "        \n",
    "        ws = 0\n",
    "        we = n - 1\n",
    "        \n",
    "        while ws != we:\n",
    "            left_h = height[ws]\n",
    "            right_h = height[we]\n",
    "            \n",
    "            curr_area = min(left_h,right_h) * (we - ws)\n",
    "            max_seen = max(curr_area, max_seen)\n",
    "            \n",
    "            if left_h <= right_h:\n",
    "                ws += 1\n",
    "            else:\n",
    "                we -= 1\n",
    "        \n",
    "        return max_seen"
   ]
  },
  {
   "cell_type": "code",
   "execution_count": 1,
   "metadata": {},
   "outputs": [],
   "source": [
    "from collections import defaultdict\n",
    "\n",
    "test = defaultdict(set)\n"
   ]
  },
  {
   "cell_type": "code",
   "execution_count": 3,
   "metadata": {},
   "outputs": [
    {
     "name": "stdout",
     "output_type": "stream",
     "text": [
      "defaultdict(<class 'set'>, {'a': {'t'}})\n"
     ]
    }
   ],
   "source": [
    "test['a'].add('t')\n",
    "print(test)"
   ]
  },
  {
   "cell_type": "code",
   "execution_count": null,
   "metadata": {},
   "outputs": [],
   "source": []
  }
 ],
 "metadata": {
  "kernelspec": {
   "display_name": "Python 3",
   "language": "python",
   "name": "python3"
  },
  "language_info": {
   "codemirror_mode": {
    "name": "ipython",
    "version": 3
   },
   "file_extension": ".py",
   "mimetype": "text/x-python",
   "name": "python",
   "nbconvert_exporter": "python",
   "pygments_lexer": "ipython3",
   "version": "3.6.9"
  }
 },
 "nbformat": 4,
 "nbformat_minor": 4
}
