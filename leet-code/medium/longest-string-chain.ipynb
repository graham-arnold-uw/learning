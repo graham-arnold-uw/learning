{
 "cells": [
  {
   "cell_type": "markdown",
   "metadata": {},
   "source": [
    "https://leetcode.com/problems/longest-string-chain/"
   ]
  },
  {
   "cell_type": "markdown",
   "metadata": {},
   "source": [
    "# Passes -  a little on the slow side"
   ]
  },
  {
   "cell_type": "code",
   "execution_count": null,
   "metadata": {},
   "outputs": [],
   "source": [
    "class Solution:\n",
    "    def longestStrChain(self, words: List[str]) -> int:\n",
    "        n = len(words)\n",
    "        if n == 1:\n",
    "            #print('h')\n",
    "            return 1\n",
    "\n",
    "        successors = {}\n",
    "        memo = {}\n",
    "        for word in words:\n",
    "            word_successors = self.find_successors(words, word)\n",
    "            successors[word] = word_successors\n",
    "        longest = 0\n",
    "        for i in range(n):\n",
    "            curr_word = words[i]\n",
    "            #ext_set = avail_words - {curr_word}\n",
    "            word_longest = self.chain_recursive(curr_word, successors, memo)\n",
    "            longest = max(word_longest, longest)\n",
    "        return longest\n",
    "    \n",
    "    def chain_recursive(self, word, successors, memo):\n",
    "        if len(successors[word]) == 0:\n",
    "            #print(f\"{word} successors are zero\")\n",
    "            return 1\n",
    "        \n",
    "        if word in memo:\n",
    "            return memo[word]\n",
    "        \n",
    "        candidate_successors = successors[word]\n",
    "        #print(\"currently processing:\")\n",
    "        #print(f\"word: {word} candidates: {candidate_successors}\")\n",
    "        #print()\n",
    "        \n",
    "        longest_here = 0\n",
    "        for candidate in candidate_successors:\n",
    "            cand_res = self.chain_recursive(candidate, successors, memo)\n",
    "            longest_here = max(longest_here, cand_res)\n",
    "            \n",
    "        res = longest_here + 1\n",
    "        memo[word] = res\n",
    "        return res\n",
    "    \n",
    "    def find_successors(self, words, base):\n",
    "        blen = len(base)\n",
    "        successors = []\n",
    "        for w in words:\n",
    "            if len(w) == blen + 1:\n",
    "                delta_location = self.find_delta_location(w, base)\n",
    "                if delta_location == len(base):\n",
    "                    successors.append(w)\n",
    "                elif w[delta_location + 1:] == base[delta_location:]:\n",
    "                    successors.append(w)\n",
    "        return successors\n",
    "                \n",
    "                \n",
    "    def find_delta_location(self, w, base):\n",
    "        wlen = len(w)\n",
    "        blen = len(base)\n",
    "        \n",
    "        i = 0\n",
    "        \n",
    "        while i < blen:\n",
    "            if w[i] != base[i]:\n",
    "                break\n",
    "            i += 1\n",
    "        return i\n",
    "        "
   ]
  },
  {
   "cell_type": "code",
   "execution_count": null,
   "metadata": {},
   "outputs": [],
   "source": []
  }
 ],
 "metadata": {
  "kernelspec": {
   "display_name": "Python 3",
   "language": "python",
   "name": "python3"
  },
  "language_info": {
   "codemirror_mode": {
    "name": "ipython",
    "version": 3
   },
   "file_extension": ".py",
   "mimetype": "text/x-python",
   "name": "python",
   "nbconvert_exporter": "python",
   "pygments_lexer": "ipython3",
   "version": "3.6.9"
  }
 },
 "nbformat": 4,
 "nbformat_minor": 4
}
