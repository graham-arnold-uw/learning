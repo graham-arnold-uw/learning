{
 "cells": [
  {
   "cell_type": "markdown",
   "metadata": {},
   "source": [
    "https://leetcode.com/problems/plus-one/"
   ]
  },
  {
   "cell_type": "code",
   "execution_count": null,
   "metadata": {},
   "outputs": [],
   "source": [
    "class Solution:\n",
    "    def plusOne(self, digits: List[int]) -> List[int]:\n",
    "        n = len(digits)\n",
    "        \n",
    "        i = n - 1\n",
    "        carry = 0\n",
    "        while i >= 0:\n",
    "            dig = digits[i]\n",
    "            next_dig = (dig + 1) % 10\n",
    "            digits[i] = next_dig\n",
    "            \n",
    "            if next_dig != 0:\n",
    "                break\n",
    "            \n",
    "            i -= 1\n",
    "        \n",
    "        if i == -1:\n",
    "            digits = [1] + digits\n",
    "        \n",
    "        return digits"
   ]
  }
 ],
 "metadata": {
  "kernelspec": {
   "display_name": "Python 3",
   "language": "python",
   "name": "python3"
  },
  "language_info": {
   "codemirror_mode": {
    "name": "ipython",
    "version": 3
   },
   "file_extension": ".py",
   "mimetype": "text/x-python",
   "name": "python",
   "nbconvert_exporter": "python",
   "pygments_lexer": "ipython3",
   "version": "3.6.9"
  }
 },
 "nbformat": 4,
 "nbformat_minor": 4
}
