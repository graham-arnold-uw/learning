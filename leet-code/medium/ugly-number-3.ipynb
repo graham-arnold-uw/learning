{
 "cells": [
  {
   "cell_type": "markdown",
   "metadata": {},
   "source": [
    "https://leetcode.com/problems/ugly-number-iii/"
   ]
  },
  {
   "cell_type": "code",
   "execution_count": null,
   "metadata": {},
   "outputs": [],
   "source": [
    "class Solution:\n",
    "    def nthUglyNumber(self, n: int, a: int, b: int, c: int) -> int:\n",
    "        \n",
    "        def enough(x):\n",
    "            ka = x // a\n",
    "            kb = x // b\n",
    "            kc = x // c\n",
    "            count = ka + kb + kc - x // ab - x // ac - x // bc + x // abc\n",
    "            return count >= n\n",
    "        \n",
    "        left, right = 1, 2 * pow(10, 9)\n",
    "        \n",
    "        \n",
    "        ab = a * b // math.gcd(a, b)\n",
    "        ac = a * c // math.gcd(a, c)\n",
    "        bc = b * c // math.gcd(b, c)\n",
    "        abc = a * bc // math.gcd(a, bc)\n",
    "        \n",
    "        while left < right:\n",
    "            mid = (left + right) // 2\n",
    "            if enough(mid):\n",
    "                right = mid\n",
    "            else:\n",
    "                left = mid + 1\n",
    "        \n",
    "        return left"
   ]
  }
 ],
 "metadata": {
  "kernelspec": {
   "display_name": "Python 3",
   "language": "python",
   "name": "python3"
  },
  "language_info": {
   "codemirror_mode": {
    "name": "ipython",
    "version": 3
   },
   "file_extension": ".py",
   "mimetype": "text/x-python",
   "name": "python",
   "nbconvert_exporter": "python",
   "pygments_lexer": "ipython3",
   "version": "3.6.9"
  }
 },
 "nbformat": 4,
 "nbformat_minor": 4
}
