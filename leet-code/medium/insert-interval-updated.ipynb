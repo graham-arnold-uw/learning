{
 "cells": [
  {
   "cell_type": "markdown",
   "metadata": {},
   "source": [
    "https://leetcode.com/explore/interview/card/google/63/sorting-and-searching-4/445/"
   ]
  },
  {
   "cell_type": "code",
   "execution_count": null,
   "metadata": {},
   "outputs": [],
   "source": [
    "class Solution:\n",
    "    def insert(self, intervals: List[List[int]], newInterval: List[int]) -> List[List[int]]:\n",
    "            \n",
    "        def check_overlap(interval1, interval2):\n",
    "            s1, e1 = interval1\n",
    "            s2, e2 = interval2\n",
    "            \n",
    "            if s2 <= e1 and e2 >= s1:\n",
    "                return True\n",
    "            return False\n",
    "        \n",
    "        n = len(intervals)\n",
    "        if n == 0:\n",
    "            return [newInterval]\n",
    "       \n",
    "        \n",
    "        min_idx = min_s = float('inf')\n",
    "        max_idx = max_e = float('-inf')\n",
    "        \n",
    "        for i in range(n):\n",
    "            is_overlapping = check_overlap(intervals[i], newInterval)\n",
    "            if is_overlapping:\n",
    "                if i < min_idx:\n",
    "                    min_idx = i\n",
    "                    min_s = min(newInterval[0], intervals[i][0])\n",
    "                \n",
    "                if i > max_idx:\n",
    "                    max_idx = i\n",
    "                    max_e = max(newInterval[1], intervals[i][1])\n",
    "            \n",
    "        if min_idx == float('inf') and max_idx == float('-inf'):\n",
    "            #find insertion poin5\n",
    "            j = 0\n",
    "            while j < n and newInterval[0] > intervals[j][1]:\n",
    "                j += 1\n",
    "            intervals.insert(j, newInterval)\n",
    "            return intervals\n",
    "            #insert\n",
    "            #return\n",
    "        \n",
    "        left_half = intervals[:min_idx]\n",
    "        if max_idx >= n - 1:\n",
    "            right_half = []\n",
    "        else:\n",
    "            right_half = intervals[max_idx + 1:]\n",
    "        \n",
    "        res = left_half + [[min_s, max_e]] + right_half\n",
    "        \n",
    "        return res\n",
    "    \n",
    "                \n",
    "        \n",
    "\n",
    "        \n",
    "        "
   ]
  },
  {
   "cell_type": "code",
   "execution_count": 1,
   "metadata": {},
   "outputs": [
    {
     "name": "stdout",
     "output_type": "stream",
     "text": [
      "h\n"
     ]
    }
   ],
   "source": [
    "output = []\n",
    "if not output:\n",
    "    print('h')"
   ]
  },
  {
   "cell_type": "code",
   "execution_count": null,
   "metadata": {},
   "outputs": [],
   "source": []
  }
 ],
 "metadata": {
  "kernelspec": {
   "display_name": "Python 3",
   "language": "python",
   "name": "python3"
  },
  "language_info": {
   "codemirror_mode": {
    "name": "ipython",
    "version": 3
   },
   "file_extension": ".py",
   "mimetype": "text/x-python",
   "name": "python",
   "nbconvert_exporter": "python",
   "pygments_lexer": "ipython3",
   "version": "3.6.9"
  }
 },
 "nbformat": 4,
 "nbformat_minor": 4
}
