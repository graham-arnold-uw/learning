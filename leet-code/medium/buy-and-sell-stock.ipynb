{
 "cells": [
  {
   "cell_type": "markdown",
   "metadata": {},
   "source": [
    "https://leetcode.com/problems/best-time-to-buy-and-sell-stock/"
   ]
  },
  {
   "cell_type": "code",
   "execution_count": null,
   "metadata": {},
   "outputs": [],
   "source": [
    "class Solution:\n",
    "    def maxProfit(self, prices: List[int]) -> int:\n",
    "        n = len(prices)\n",
    "        future_prices = [0 for i in range(n + 1)]\n",
    "        \n",
    "        for i in range(n - 1, -1, -1):\n",
    "            if i == n - 1:\n",
    "                future_prices[i] = prices[i]\n",
    "            \n",
    "            else:\n",
    "                future_prices[i] = max(prices[i], future_prices[i + 1])\n",
    "        \n",
    "        max_profit = 0\n",
    "        \n",
    "        for i in range(n):\n",
    "            curr_profit = future_prices[i] - prices[i]\n",
    "            max_profit = max(max_profit, curr_profit)\n",
    "        \n",
    "        return max_profit"
   ]
  }
 ],
 "metadata": {
  "kernelspec": {
   "display_name": "Python 3",
   "language": "python",
   "name": "python3"
  },
  "language_info": {
   "codemirror_mode": {
    "name": "ipython",
    "version": 3
   },
   "file_extension": ".py",
   "mimetype": "text/x-python",
   "name": "python",
   "nbconvert_exporter": "python",
   "pygments_lexer": "ipython3",
   "version": "3.6.9"
  }
 },
 "nbformat": 4,
 "nbformat_minor": 4
}
