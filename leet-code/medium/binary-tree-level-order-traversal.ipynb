{
 "cells": [
  {
   "cell_type": "markdown",
   "metadata": {},
   "source": [
    "https://leetcode.com/problems/binary-tree-level-order-traversal/submissions/"
   ]
  },
  {
   "cell_type": "markdown",
   "metadata": {},
   "source": [
    "# First submission - not optimal"
   ]
  },
  {
   "cell_type": "code",
   "execution_count": 3,
   "metadata": {},
   "outputs": [
    {
     "data": {
      "text/plain": [
       "[1, 2]"
      ]
     },
     "execution_count": 3,
     "metadata": {},
     "output_type": "execute_result"
    }
   ],
   "source": [
    "# Definition for a binary tree node.\n",
    "# class TreeNode:\n",
    "#     def __init__(self, val=0, left=None, right=None):\n",
    "#         self.val = val\n",
    "#         self.left = left\n",
    "#         self.right = right\n",
    "\n",
    "from collections import deque\n",
    "class Solution:\n",
    "    def levelOrder(self, root: TreeNode) -> List[List[int]]:\n",
    "        \n",
    "        h = self.get_height(root)\n",
    "        \n",
    "        res = []\n",
    "        \n",
    "        for i in range(h):\n",
    "            lev = self.get_level(root, i)\n",
    "            res.append(lev)\n",
    "        return res\n",
    "    \n",
    "    \n",
    "    def get_height(self, root):\n",
    "        \n",
    "        if root == None:\n",
    "            return 0\n",
    "        \n",
    "        lh = self.get_height(root.left)\n",
    "        rh = self.get_height(root.right)\n",
    "        \n",
    "        if lh > rh:\n",
    "            return lh + 1\n",
    "        else:\n",
    "            return rh + 1\n",
    "        \n",
    "        \n",
    "    def get_level(self, root, tar):\n",
    "        \n",
    "        if root == None:\n",
    "            return None\n",
    "        \n",
    "        if tar == 0:\n",
    "            lvl_node = [root.val]\n",
    "            return lvl_node\n",
    "        \n",
    "    \n",
    "        res_l = self.get_level(root.left, tar-1)\n",
    "        res_r = self.get_level(root.right, tar-1)\n",
    "        \n",
    "        lvl = []\n",
    "        \n",
    "        if res_l != None:\n",
    "            lvl.extend(res_l)\n",
    "        \n",
    "        if res_r != None:\n",
    "            lvl.extend(res_r)\n",
    "            \n",
    "        if len(lvl) > 0:\n",
    "            return lvl\n",
    "        else:\n",
    "            return None"
   ]
  },
  {
   "cell_type": "markdown",
   "metadata": {},
   "source": [
    "# Second submission - optimal"
   ]
  },
  {
   "cell_type": "code",
   "execution_count": null,
   "metadata": {},
   "outputs": [],
   "source": [
    "# Definition for a binary tree node.\n",
    "# class TreeNode:\n",
    "#     def __init__(self, val=0, left=None, right=None):\n",
    "#         self.val = val\n",
    "#         self.left = left\n",
    "#         self.right = right\n",
    "\n",
    "from collections import deque\n",
    "class Solution:\n",
    "    def levelOrder(self, root: TreeNode) -> List[List[int]]:\n",
    "        \n",
    "        if root == None:\n",
    "            return []\n",
    "        \n",
    "        curr_lvl = 0\n",
    "        res_encoding = []\n",
    "        \n",
    "        root_el = (root, curr_lvl)\n",
    "        \n",
    "        q = deque()\n",
    "        \n",
    "        q.append(root_el)\n",
    "        \n",
    "        while len(q) > 0:\n",
    "            \n",
    "            curr_el = q.popleft()\n",
    "            curr_node, curr_lvl = curr_el\n",
    "            res_encoding.append((curr_node.val, curr_lvl))\n",
    "            \n",
    "            if curr_node.left != None:\n",
    "                left_el = (curr_node.left, curr_lvl + 1)\n",
    "                q.append(left_el)\n",
    "        \n",
    "            if curr_node.right != None:\n",
    "                right_el = (curr_node.right, curr_lvl + 1)\n",
    "                q.append(right_el)\n",
    "                \n",
    "        \n",
    "        #print(res_encoding)\n",
    "        res = self.process_encoding(res_encoding)\n",
    "        return res\n",
    "    \n",
    "    def process_encoding(self, tree_encoding):\n",
    "        h = tree_encoding[-1][1]\n",
    "        \n",
    "        res = [[] for i in range(h+1)]\n",
    "        \n",
    "        for el_val, el_idx in tree_encoding:\n",
    "            #print(el_val)\n",
    "            res[el_idx].append(el_val)\n",
    "            \n",
    "        return res\n",
    "            \n",
    "        "
   ]
  }
 ],
 "metadata": {
  "kernelspec": {
   "display_name": "Python 3",
   "language": "python",
   "name": "python3"
  },
  "language_info": {
   "codemirror_mode": {
    "name": "ipython",
    "version": 3
   },
   "file_extension": ".py",
   "mimetype": "text/x-python",
   "name": "python",
   "nbconvert_exporter": "python",
   "pygments_lexer": "ipython3",
   "version": "3.6.9"
  }
 },
 "nbformat": 4,
 "nbformat_minor": 4
}
