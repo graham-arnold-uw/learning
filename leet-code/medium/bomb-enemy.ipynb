{
 "cells": [
  {
   "cell_type": "markdown",
   "metadata": {},
   "source": [
    "https://leetcode.com/problems/bomb-enemy/"
   ]
  },
  {
   "cell_type": "markdown",
   "metadata": {},
   "source": [
    "# Time limit exceeded solution (Not DP)"
   ]
  },
  {
   "cell_type": "code",
   "execution_count": null,
   "metadata": {},
   "outputs": [],
   "source": [
    "class Solution:\n",
    "    def maxKilledEnemies(self, grid: List[List[str]]) -> int:\n",
    "        \n",
    "        m = len(grid)\n",
    "        n = len(grid[0])\n",
    "        \n",
    "        max_kill = 0\n",
    "        \n",
    "        for i in range(m):\n",
    "            for j in range(n):\n",
    "                if grid[i][j] == '0':\n",
    "                    kill_count = self.get_kill_count(grid, i, j, m, n)\n",
    "                    \n",
    "                    max_kill = max(max_kill, kill_count)\n",
    "        \n",
    "        return max_kill\n",
    "    \n",
    "    \n",
    "    def get_kill_count(self, grid, i, j, m, n):\n",
    "        \n",
    "        count = 0\n",
    "        \n",
    "        #search up\n",
    "        k = i\n",
    "        while k >= 0 and grid[k][j] != 'W':\n",
    "            if grid[k][j] == 'E':\n",
    "                count += 1\n",
    "            k -= 1\n",
    "        \n",
    "        #search down\n",
    "        k = i\n",
    "        while k < m and grid[k][j] != 'W':\n",
    "            if grid[k][j] == 'E':\n",
    "                count += 1\n",
    "            k += 1\n",
    "            \n",
    "        #search left\n",
    "        k = j\n",
    "        while k >= 0 and grid[i][k] != 'W':\n",
    "            if grid[i][k] == 'E':\n",
    "                count += 1\n",
    "            k -= 1\n",
    "            \n",
    "        #search right\n",
    "        k = j\n",
    "        while k < n and grid[i][k] != 'W':\n",
    "            if grid[i][k] == 'E':\n",
    "                count += 1\n",
    "            k += 1\n",
    "        \n",
    "        return count"
   ]
  }
 ],
 "metadata": {
  "kernelspec": {
   "display_name": "Python 3",
   "language": "python",
   "name": "python3"
  },
  "language_info": {
   "codemirror_mode": {
    "name": "ipython",
    "version": 3
   },
   "file_extension": ".py",
   "mimetype": "text/x-python",
   "name": "python",
   "nbconvert_exporter": "python",
   "pygments_lexer": "ipython3",
   "version": "3.6.9"
  }
 },
 "nbformat": 4,
 "nbformat_minor": 4
}
