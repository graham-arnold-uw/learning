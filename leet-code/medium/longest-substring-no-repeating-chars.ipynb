{
 "cells": [
  {
   "cell_type": "markdown",
   "metadata": {},
   "source": [
    "https://leetcode.com/problems/longest-substring-without-repeating-characters/"
   ]
  },
  {
   "cell_type": "code",
   "execution_count": 45,
   "metadata": {},
   "outputs": [],
   "source": [
    "def len_longest_substring(s):\n",
    "    \n",
    "    if len(s) == 0:\n",
    "        return 0\n",
    "    \n",
    "    used_chars = set()\n",
    "    used_chars.add(s[0])\n",
    "    \n",
    "    #curr_ss = ''\n",
    "    char_count = 1\n",
    "    max_seen = 1\n",
    "    \n",
    "    for i in range(1,len(s)):\n",
    "        curr_char = s[i]\n",
    "        char_count += 1\n",
    "        \n",
    "        if curr_char in used_chars:\n",
    "            \n",
    "            used_chars = search_left(s,i)\n",
    "            char_count = len(used_chars)\n",
    "            \n",
    "            if char_count > max_seen:\n",
    "                max_seen = char_count\n",
    "            continue\n",
    "            \n",
    "        if char_count > max_seen:\n",
    "            max_seen = char_count\n",
    "            \n",
    "        used_chars.add(curr_char)\n",
    "        \n",
    "    \n",
    "    return max_seen\n",
    "\n",
    " \n",
    "def search_left(s,i):\n",
    "    c = s[i]\n",
    "    \n",
    "    res = set()\n",
    "    \n",
    "    res.add(c)\n",
    "    \n",
    "    idx = i - 1\n",
    "    \n",
    "    while idx >= 0 and s[idx] not in res:\n",
    "        res.add(s[idx])\n",
    "        idx -= 1\n",
    "    \n",
    "    return res\n",
    "\n",
    "\n",
    "def len_longest_sub_optimal(s):\n",
    "    \n",
    "    if len(s) == 0:\n",
    "        return 0\n",
    "    \n",
    "    max_seen = 0\n",
    "    run_len = 0\n",
    "    \n",
    "    char_dict = {}\n",
    "    \n",
    "    for i in range(len(s)):\n",
    "        curr_char = s[i]\n",
    "        \n",
    "        if curr_char in char_dict.keys():\n",
    "            idx = char_dict[curr_char]\n",
    "            run_len = i - idx - 1\n",
    "            #char_dict[curr_char] = i\n",
    "            char_dict = {k : v for k,v in char_dict.items() if v > idx}\n",
    "        \n",
    "        run_len += 1\n",
    "        char_dict[curr_char] = i\n",
    "        \n",
    "        if run_len > max_seen:\n",
    "            max_seen = run_len\n",
    "    \n",
    "    return max_seen\n",
    "        "
   ]
  },
  {
   "cell_type": "code",
   "execution_count": 48,
   "metadata": {},
   "outputs": [
    {
     "name": "stdout",
     "output_type": "stream",
     "text": [
      "3\n"
     ]
    }
   ],
   "source": [
    "s1 = \"abcabcbb\"\n",
    "s2 = \"bbbbb\"\n",
    "s3 = \"pwwkew\"\n",
    "s4 = 'bb'\n",
    "\n",
    "res1 = len_longest_sub_optimal(s1)\n",
    "print(res1)"
   ]
  },
  {
   "cell_type": "code",
   "execution_count": 20,
   "metadata": {},
   "outputs": [
    {
     "name": "stdout",
     "output_type": "stream",
     "text": [
      "h\n"
     ]
    }
   ],
   "source": [
    "for i in range(1,2):\n",
    "    print('h')"
   ]
  },
  {
   "cell_type": "code",
   "execution_count": 10,
   "metadata": {},
   "outputs": [],
   "source": [
    "t = 5-1"
   ]
  },
  {
   "cell_type": "code",
   "execution_count": 43,
   "metadata": {},
   "outputs": [
    {
     "name": "stdout",
     "output_type": "stream",
     "text": [
      "a0\n",
      "b1\n",
      "c2\n"
     ]
    }
   ],
   "source": [
    "d = {'a':0, 'b':1, 'c': 2}\n",
    "\n",
    "for k,v in d.items():\n",
    "    print(k, end='')\n",
    "    print(v)"
   ]
  },
  {
   "cell_type": "code",
   "execution_count": null,
   "metadata": {},
   "outputs": [],
   "source": []
  }
 ],
 "metadata": {
  "kernelspec": {
   "display_name": "Python 3",
   "language": "python",
   "name": "python3"
  },
  "language_info": {
   "codemirror_mode": {
    "name": "ipython",
    "version": 3
   },
   "file_extension": ".py",
   "mimetype": "text/x-python",
   "name": "python",
   "nbconvert_exporter": "python",
   "pygments_lexer": "ipython3",
   "version": "3.6.9"
  }
 },
 "nbformat": 4,
 "nbformat_minor": 4
}
