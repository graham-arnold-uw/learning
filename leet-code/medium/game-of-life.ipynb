{
 "cells": [
  {
   "cell_type": "markdown",
   "metadata": {},
   "source": [
    "https://leetcode.com/problems/game-of-life/"
   ]
  },
  {
   "cell_type": "code",
   "execution_count": null,
   "metadata": {},
   "outputs": [],
   "source": [
    "class Solution:\n",
    "    def gameOfLife(self, board: List[List[int]]) -> None:\n",
    "        \"\"\"\n",
    "        Do not return anything, modify board in-place instead.\n",
    "        \"\"\"\n",
    "        m = len(board)\n",
    "        n = len(board[0])\n",
    "        \n",
    "        count_matrix = [[0 for j in range(n)] for i in range(m)]\n",
    "        \n",
    "        for i in range(m):\n",
    "            for j in range(n):\n",
    "                count_matrix[i][j] = self.count_neighbors(board, m, n, i, j)\n",
    "        \n",
    "        \n",
    "        for i in range(m):\n",
    "            for j in range(n):\n",
    "                if board[i][j] == 1:\n",
    "                    #cell is currently alive\n",
    "                    if count_matrix[i][j] < 2 or count_matrix[i][j] > 3:\n",
    "                        board[i][j] = 0\n",
    "                else:\n",
    "                    #cell is currently dead\n",
    "                    if count_matrix[i][j] == 3:\n",
    "                        board[i][j] = 1\n",
    "        \n",
    "                \n",
    "                \n",
    "                    \n",
    "                \n",
    "        \n",
    "        \n",
    "    \n",
    "    def count_neighbors(self, board, m, n, i, j):\n",
    "        \n",
    "        dirs = [(-1, 0), (1, 0), (0, -1), (0, 1), (-1, -1), (-1, 1), (1, -1), (1, 1)]\n",
    "        \n",
    "        alive_count = 0\n",
    "        \n",
    "        for di, dj in dirs:\n",
    "            ni, nj = i + di, j + dj\n",
    "            \n",
    "            if ni >= 0 and ni < m and nj >= 0 and nj < n and board[ni][nj] == 1:\n",
    "                alive_count += 1\n",
    "        \n",
    "        return alive_count\n",
    "        "
   ]
  }
 ],
 "metadata": {
  "kernelspec": {
   "display_name": "Python 3",
   "language": "python",
   "name": "python3"
  },
  "language_info": {
   "codemirror_mode": {
    "name": "ipython",
    "version": 3
   },
   "file_extension": ".py",
   "mimetype": "text/x-python",
   "name": "python",
   "nbconvert_exporter": "python",
   "pygments_lexer": "ipython3",
   "version": "3.6.9"
  }
 },
 "nbformat": 4,
 "nbformat_minor": 4
}
