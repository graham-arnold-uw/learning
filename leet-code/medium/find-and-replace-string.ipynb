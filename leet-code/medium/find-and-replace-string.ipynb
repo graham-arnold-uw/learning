{
 "cells": [
  {
   "cell_type": "markdown",
   "metadata": {},
   "source": [
    "https://leetcode.com/explore/featured/card/google/59/array-and-strings/3057/"
   ]
  },
  {
   "cell_type": "code",
   "execution_count": null,
   "metadata": {},
   "outputs": [],
   "source": [
    "class Solution:\n",
    "    def findReplaceString(self, s: str, indices: List[int], sources: List[str], targets: List[str]) -> str:\n",
    "        ind_set = set(indices)\n",
    "        num_iter = len(indices)\n",
    "        ind_tups = []\n",
    "        for i in range(num_iter):\n",
    "            ind_tups.append((indices[i], sources[i], targets[i]))\n",
    "        \n",
    "        ind_sorted = sorted(ind_tups, key = lambda x : x[0])\n",
    "        buf = []\n",
    "        n = len(s)\n",
    "        k = 0\n",
    "        i = 0\n",
    "        \n",
    "        while i < n:\n",
    "            if i in indices:\n",
    "                cand = ind_sorted[k][1]\n",
    "                c_len = len(cand)\n",
    "                #print(f\"candidate = {cand} string section = {s[i:c_len]}\")\n",
    "                #print()\n",
    "                if s[i:i+c_len] == cand:\n",
    "                    buf.append(ind_sorted[k][2])\n",
    "                    i += (len(cand) - 1)\n",
    "                else:\n",
    "                    buf.append(s[i])\n",
    "                #check if substr is present\n",
    "                #if so - write match to buffer -> jump i ahead by len(source) - 1\n",
    "                #else just write single char to buffer\n",
    "                k += 1\n",
    "            else:\n",
    "                buf.append(s[i])\n",
    "                #just write single char to buffer\n",
    "            i += 1 \n",
    "        \n",
    "        res = \"\".join(buf)\n",
    "        return res"
   ]
  },
  {
   "cell_type": "code",
   "execution_count": 1,
   "metadata": {},
   "outputs": [
    {
     "name": "stdout",
     "output_type": "stream",
     "text": [
      "inf\n"
     ]
    }
   ],
   "source": [
    "s = float('inf') + 1\n",
    "print(s)"
   ]
  },
  {
   "cell_type": "code",
   "execution_count": null,
   "metadata": {},
   "outputs": [],
   "source": []
  }
 ],
 "metadata": {
  "kernelspec": {
   "display_name": "Python 3",
   "language": "python",
   "name": "python3"
  },
  "language_info": {
   "codemirror_mode": {
    "name": "ipython",
    "version": 3
   },
   "file_extension": ".py",
   "mimetype": "text/x-python",
   "name": "python",
   "nbconvert_exporter": "python",
   "pygments_lexer": "ipython3",
   "version": "3.6.9"
  }
 },
 "nbformat": 4,
 "nbformat_minor": 4
}
