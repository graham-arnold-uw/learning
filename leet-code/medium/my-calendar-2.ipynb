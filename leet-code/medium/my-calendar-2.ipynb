{
 "cells": [
  {
   "cell_type": "markdown",
   "metadata": {},
   "source": [
    "https://leetcode.com/problems/my-calendar-ii/"
   ]
  },
  {
   "cell_type": "code",
   "execution_count": null,
   "metadata": {},
   "outputs": [],
   "source": [
    "class MyCalendarTwo:\n",
    "\n",
    "    def __init__(self):\n",
    "        self.booked_intervals = []\n",
    "        self.num_booked = 0\n",
    "\n",
    "    def book(self, start: int, end: int) -> bool:\n",
    "        overlap_count = 0\n",
    "        #print(f\"requested booking = {start} to {end}\")\n",
    "        #print(f\"current calendar = {self.booked_intervals}\")\n",
    "        #print()\n",
    "        overlap_used = False\n",
    "        oe = float('-inf')\n",
    "        os = float('inf')\n",
    "        for i in range(self.num_booked):\n",
    "            bs,be = self.booked_intervals[i]\n",
    "            #print(f\"currently double booked range {oe} {os}\")\n",
    "            #if booked starts after requested ends no need to look further\n",
    "            if bs >= end:\n",
    "                break\n",
    "                \n",
    "            if not overlap_used:\n",
    "            #check if booked interval and requested overlap\n",
    "                if start < be and end > bs:\n",
    "                    overlap_used = True\n",
    "                    os = max(start, bs)\n",
    "                    oe = min(end, be)\n",
    "            else:\n",
    "                if bs < oe and be > os:\n",
    "                    return False\n",
    "                else:\n",
    "                    if start < be and end > bs:\n",
    "                        overlap_used = True\n",
    "                        os = max(start, bs)\n",
    "                        oe = min(end, be)\n",
    "                    \n",
    "                    \n",
    "        self.booked_intervals.append((start,end))\n",
    "        self.num_booked += 1\n",
    "        self.booked_intervals.sort()\n",
    "        return True\n",
    "\n",
    "\n",
    "# Your MyCalendarTwo object will be instantiated and called as such:\n",
    "# obj = MyCalendarTwo()\n",
    "# param_1 = obj.book(start,end)"
   ]
  }
 ],
 "metadata": {
  "kernelspec": {
   "display_name": "Python 3",
   "language": "python",
   "name": "python3"
  },
  "language_info": {
   "codemirror_mode": {
    "name": "ipython",
    "version": 3
   },
   "file_extension": ".py",
   "mimetype": "text/x-python",
   "name": "python",
   "nbconvert_exporter": "python",
   "pygments_lexer": "ipython3",
   "version": "3.6.9"
  }
 },
 "nbformat": 4,
 "nbformat_minor": 4
}
