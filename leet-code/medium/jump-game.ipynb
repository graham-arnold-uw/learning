{
 "cells": [
  {
   "cell_type": "markdown",
   "metadata": {},
   "source": [
    "https://leetcode.com/problems/jump-game/"
   ]
  },
  {
   "cell_type": "code",
   "execution_count": null,
   "metadata": {},
   "outputs": [],
   "source": [
    "class Solution:\n",
    "    def canJump(self, nums: List[int]) -> bool:\n",
    "        n = len(nums)\n",
    "        curr_max_reachable = 0\n",
    "        for i in range(n):\n",
    "            if curr_max_reachable < i:\n",
    "                return False\n",
    "            elif curr_max_reachable >= n - 1:\n",
    "                return True\n",
    "            \n",
    "            reachable_from_here = nums[i] + i\n",
    "            if reachable_from_here > curr_max_reachable:\n",
    "                curr_max_reachable = reachable_from_here\n",
    "        \n",
    "        return false\n",
    "            "
   ]
  },
  {
   "cell_type": "code",
   "execution_count": null,
   "metadata": {},
   "outputs": [],
   "source": []
  }
 ],
 "metadata": {
  "kernelspec": {
   "display_name": "Python 3",
   "language": "python",
   "name": "python3"
  },
  "language_info": {
   "codemirror_mode": {
    "name": "ipython",
    "version": 3
   },
   "file_extension": ".py",
   "mimetype": "text/x-python",
   "name": "python",
   "nbconvert_exporter": "python",
   "pygments_lexer": "ipython3",
   "version": "3.6.9"
  }
 },
 "nbformat": 4,
 "nbformat_minor": 4
}
