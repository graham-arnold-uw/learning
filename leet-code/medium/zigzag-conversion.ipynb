{
 "cells": [
  {
   "cell_type": "markdown",
   "metadata": {},
   "source": [
    "https://leetcode.com/problems/zigzag-conversion/"
   ]
  },
  {
   "cell_type": "code",
   "execution_count": null,
   "metadata": {},
   "outputs": [],
   "source": [
    "class Solution:\n",
    "    def convert(self, s: str, numRows: int) -> str:\n",
    "        n = len(s)\n",
    "        print(s)\n",
    "        if len(s) == 1 or numRows == 1:\n",
    "            return s\n",
    "        \n",
    "        direction = 0\n",
    "        deltas = [(1,0), (-1,1)]\n",
    "        char_pos = []\n",
    "        si = 0\n",
    "        \n",
    "        curr_row = 0\n",
    "        curr_col = 0\n",
    "        \n",
    "        while si < n:\n",
    "            if curr_row == 0:\n",
    "                direction = 0\n",
    "            elif curr_row == numRows - 1:\n",
    "                direction = 1\n",
    "                \n",
    "            char_pos.append((s[si], curr_row, curr_col))\n",
    "            si += 1\n",
    "            di, dj = deltas[direction]\n",
    "            \n",
    "            curr_row += di\n",
    "            curr_col += dj\n",
    "            \n",
    "        \n",
    "        char_pos_sorted = sorted(char_pos, key= lambda x : (x[1], x[2]))\n",
    "        out_char = [x[0] for x in char_pos_sorted]\n",
    "        out_str = \"\".join(out_char)\n",
    "        return out_str\n",
    "                \n",
    "                \n",
    "        \n",
    "        "
   ]
  }
 ],
 "metadata": {
  "kernelspec": {
   "display_name": "Python 3",
   "language": "python",
   "name": "python3"
  },
  "language_info": {
   "codemirror_mode": {
    "name": "ipython",
    "version": 3
   },
   "file_extension": ".py",
   "mimetype": "text/x-python",
   "name": "python",
   "nbconvert_exporter": "python",
   "pygments_lexer": "ipython3",
   "version": "3.6.9"
  }
 },
 "nbformat": 4,
 "nbformat_minor": 4
}
