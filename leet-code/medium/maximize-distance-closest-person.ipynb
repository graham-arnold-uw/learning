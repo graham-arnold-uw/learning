{
 "cells": [
  {
   "cell_type": "markdown",
   "metadata": {},
   "source": [
    "https://leetcode.com/explore/featured/card/google/59/array-and-strings/3058/"
   ]
  },
  {
   "cell_type": "code",
   "execution_count": null,
   "metadata": {},
   "outputs": [],
   "source": [
    "class Solution:\n",
    "    def maxDistToClosest(self, seats: List[int]) -> int:\n",
    "        distance_to_left = self.get_distance(seats, 'left')\n",
    "        distance_to_right = self.get_distance(seats, 'right')\n",
    "        n = len(seats)\n",
    "        max_distance = 0\n",
    "        for i in range(n):\n",
    "            max_left = distance_to_left[i]\n",
    "            max_right = distance_to_right[i]\n",
    "            max_here = min(max_left,max_right)\n",
    "            max_distance = max(max_here, max_distance)\n",
    "        \n",
    "        return max_distance\n",
    "        \n",
    "    def get_distance(self, seats, direction):\n",
    "        n = len(seats)\n",
    "        res = [0 for i in range(n)]\n",
    "        \n",
    "        if direction == 'left':\n",
    "            if seats[0] == 0:\n",
    "                res[0] = float('inf')\n",
    "            for i in range(1,n):\n",
    "                if seats[i] == 0:\n",
    "                    res[i] = res[i-1] + 1\n",
    "                else:\n",
    "                    res[i] = 0\n",
    "        else:\n",
    "            if seats[-1] == 0:\n",
    "                res[-1] = float('inf')\n",
    "            for i in range(n-2,-1,-1):\n",
    "                if seats[i] == 0:\n",
    "                    res[i] = res[i+1] + 1\n",
    "                else:\n",
    "                    res[i] = 0\n",
    "        return res"
   ]
  },
  {
   "cell_type": "code",
   "execution_count": 1,
   "metadata": {},
   "outputs": [
    {
     "ename": "IndexError",
     "evalue": "pop from an empty deque",
     "output_type": "error",
     "traceback": [
      "\u001b[0;31m---------------------------------------------------------------------------\u001b[0m",
      "\u001b[0;31mIndexError\u001b[0m                                Traceback (most recent call last)",
      "\u001b[0;32m<ipython-input-1-48edc58742b7>\u001b[0m in \u001b[0;36m<module>\u001b[0;34m\u001b[0m\n\u001b[1;32m      4\u001b[0m \u001b[0ms\u001b[0m\u001b[0;34m.\u001b[0m\u001b[0mappend\u001b[0m\u001b[0;34m(\u001b[0m\u001b[0;36m1\u001b[0m\u001b[0;34m)\u001b[0m\u001b[0;34m\u001b[0m\u001b[0;34m\u001b[0m\u001b[0m\n\u001b[1;32m      5\u001b[0m \u001b[0mp1\u001b[0m \u001b[0;34m=\u001b[0m \u001b[0ms\u001b[0m\u001b[0;34m.\u001b[0m\u001b[0mpop\u001b[0m\u001b[0;34m(\u001b[0m\u001b[0;34m)\u001b[0m\u001b[0;34m\u001b[0m\u001b[0;34m\u001b[0m\u001b[0m\n\u001b[0;32m----> 6\u001b[0;31m \u001b[0mp2\u001b[0m \u001b[0;34m=\u001b[0m \u001b[0ms\u001b[0m\u001b[0;34m.\u001b[0m\u001b[0mpop\u001b[0m\u001b[0;34m(\u001b[0m\u001b[0;34m)\u001b[0m\u001b[0;34m\u001b[0m\u001b[0;34m\u001b[0m\u001b[0m\n\u001b[0m",
      "\u001b[0;31mIndexError\u001b[0m: pop from an empty deque"
     ]
    }
   ],
   "source": [
    "from collections import deque\n",
    "\n",
    "s = deque()\n",
    "s.append(1)\n",
    "p1 = s.pop()\n",
    "p2 = s.pop()"
   ]
  },
  {
   "cell_type": "code",
   "execution_count": null,
   "metadata": {},
   "outputs": [],
   "source": []
  }
 ],
 "metadata": {
  "kernelspec": {
   "display_name": "Python 3",
   "language": "python",
   "name": "python3"
  },
  "language_info": {
   "codemirror_mode": {
    "name": "ipython",
    "version": 3
   },
   "file_extension": ".py",
   "mimetype": "text/x-python",
   "name": "python",
   "nbconvert_exporter": "python",
   "pygments_lexer": "ipython3",
   "version": "3.6.9"
  }
 },
 "nbformat": 4,
 "nbformat_minor": 4
}
