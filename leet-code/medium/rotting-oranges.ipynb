{
 "cells": [
  {
   "cell_type": "markdown",
   "metadata": {},
   "source": [
    "https://leetcode.com/problems/rotting-oranges/"
   ]
  },
  {
   "cell_type": "code",
   "execution_count": null,
   "metadata": {},
   "outputs": [],
   "source": [
    "from collections import deque\n",
    "\n",
    "class Solution:\n",
    "    def orangesRotting(self, grid: List[List[int]]) -> int:\n",
    "        m = len(grid)\n",
    "        n = len(grid[0])\n",
    "        visited = [[0 for j in range(n)] for i in range(m)]\n",
    "        dirs = [(-1, 0), (1, 0), (0, -1), (0, 1)]\n",
    "        \n",
    "        fresh_pos, dead_pos = self.orange_counts(grid, m, n)\n",
    "        \n",
    "        fresh_ct = len(fresh_pos)\n",
    "        if len(fresh_pos) == 0:\n",
    "            return 0\n",
    "        \n",
    "        q = deque()\n",
    "        \n",
    "        for di,dj in dead_pos:\n",
    "            q.append((di,dj))\n",
    "            visited[di][dj] = 1\n",
    "            \n",
    "        mins = 0\n",
    "        while len(q) > 0 and fresh_ct > 0:\n",
    "            round_size = len(q)\n",
    "            \n",
    "            for k in range(round_size):\n",
    "                \n",
    "                oi, oj = q.popleft()\n",
    "\n",
    "                for di, dj in dirs:\n",
    "                    ni, nj = oi + di, oj + dj\n",
    "                    \n",
    "                    if ni >= 0 and ni < m and nj >= 0 and nj < n and not visited[ni][nj] and grid[ni][nj] == 1:\n",
    "                        grid[ni][nj] = 2\n",
    "                        visited[ni][nj] = 1\n",
    "                        fresh_ct -= 1\n",
    "                        q.append((ni,nj))\n",
    "            \n",
    "            mins += 1\n",
    "            \n",
    "        \n",
    "        return mins if fresh_ct == 0 else -1\n",
    "   \n",
    "    def orange_counts(self, grid, m, n):\n",
    "        fresh_pos = []\n",
    "        dead_pos = []\n",
    "        \n",
    "        for i in range(m):\n",
    "            for j in range(n):\n",
    "                if grid[i][j] == 1:\n",
    "                    fresh_pos.append((i,j))\n",
    "                elif grid[i][j] == 2:\n",
    "                    dead_pos.append((i,j))\n",
    "                    \n",
    "        \n",
    "        return fresh_pos, dead_pos"
   ]
  }
 ],
 "metadata": {
  "kernelspec": {
   "display_name": "Python 3",
   "language": "python",
   "name": "python3"
  },
  "language_info": {
   "codemirror_mode": {
    "name": "ipython",
    "version": 3
   },
   "file_extension": ".py",
   "mimetype": "text/x-python",
   "name": "python",
   "nbconvert_exporter": "python",
   "pygments_lexer": "ipython3",
   "version": "3.6.9"
  }
 },
 "nbformat": 4,
 "nbformat_minor": 4
}
