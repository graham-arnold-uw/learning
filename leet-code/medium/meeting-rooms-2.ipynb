{
 "cells": [
  {
   "cell_type": "markdown",
   "metadata": {},
   "source": [
    "https://leetcode.com/problems/meeting-rooms-ii/submissions/"
   ]
  },
  {
   "cell_type": "code",
   "execution_count": null,
   "metadata": {},
   "outputs": [],
   "source": [
    "import heapq \n",
    "class Solution:\n",
    "    def minMeetingRooms(self, intervals: List[List[int]]) -> int:\n",
    "        \n",
    "        mheap = []\n",
    "        \n",
    "        l = len(intervals)\n",
    "        if l == 0:\n",
    "            return 0\n",
    "        intervals = sorted(intervals)\n",
    "        \n",
    "        heapq.heappush(mheap,intervals[0][1])\n",
    "        max_size = len(mheap)\n",
    "        \n",
    "        i = 1\n",
    "        \n",
    "        while i < l:\n",
    "            curr_start = intervals[i][0]\n",
    "            min_end = mheap[0]\n",
    "            \n",
    "            if curr_start < min_end:\n",
    "                heapq.heappush(mheap,intervals[i][1])\n",
    "            else:\n",
    "                _ = heapq.heappop(mheap)\n",
    "                heapq.heappush(mheap,intervals[i][1])\n",
    "            \n",
    "            if len(mheap) > max_size:\n",
    "                max_size = len(mheap)\n",
    "            \n",
    "            i += 1\n",
    "        \n",
    "        return max_size"
   ]
  }
 ],
 "metadata": {
  "kernelspec": {
   "display_name": "Python 3",
   "language": "python",
   "name": "python3"
  },
  "language_info": {
   "codemirror_mode": {
    "name": "ipython",
    "version": 3
   },
   "file_extension": ".py",
   "mimetype": "text/x-python",
   "name": "python",
   "nbconvert_exporter": "python",
   "pygments_lexer": "ipython3",
   "version": "3.6.9"
  }
 },
 "nbformat": 4,
 "nbformat_minor": 4
}
