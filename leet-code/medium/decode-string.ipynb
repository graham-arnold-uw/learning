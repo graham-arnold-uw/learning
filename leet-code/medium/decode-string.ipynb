{
 "cells": [
  {
   "cell_type": "markdown",
   "metadata": {},
   "source": [
    "https://leetcode.com/explore/featured/card/google/61/trees-and-graphs/3073/"
   ]
  },
  {
   "cell_type": "code",
   "execution_count": null,
   "metadata": {},
   "outputs": [],
   "source": [
    "from collections import deque\n",
    "class Solution:\n",
    "    def decodeString(self, s: str) -> str:\n",
    "        n = len(s)  \n",
    "        stack = deque()\n",
    "        i = 0  \n",
    "        \n",
    "        while i < n:\n",
    "            curr_char = s[i]\n",
    "            \n",
    "            if curr_char == ']':\n",
    "                sub_str = ''\n",
    "                #print(stack)\n",
    "                #print(i)\n",
    "                #print()\n",
    "                while stack[-1] != '[':\n",
    "                    sub_str = stack.pop() + sub_str\n",
    "                _ = stack.pop()\n",
    "                mult = 0\n",
    "                p = 0\n",
    "                while len(stack) > 0 and stack[-1].isnumeric():\n",
    "                    mult += int(stack.pop()) * pow(10,p)\n",
    "                    p += 1\n",
    "                #mult = int(stack.pop())\n",
    "                sub_list = []\n",
    "                for k in range(mult):\n",
    "                    sub_list.append(sub_str)\n",
    "                sub_str = \"\".join(sub_list)\n",
    "                stack.append(sub_str)\n",
    "            else:\n",
    "                stack.append(curr_char)\n",
    "            \n",
    "            i += 1\n",
    "        \n",
    "        res_str = []\n",
    "        while len(stack) > 0:\n",
    "            res_str.append(stack.pop())\n",
    "        \n",
    "        res_str = \"\".join(res_str[::-1])\n",
    "        return res_str\n",
    "            \n",
    "        \n",
    "       "
   ]
  }
 ],
 "metadata": {
  "kernelspec": {
   "display_name": "Python 3",
   "language": "python",
   "name": "python3"
  },
  "language_info": {
   "codemirror_mode": {
    "name": "ipython",
    "version": 3
   },
   "file_extension": ".py",
   "mimetype": "text/x-python",
   "name": "python",
   "nbconvert_exporter": "python",
   "pygments_lexer": "ipython3",
   "version": "3.6.9"
  }
 },
 "nbformat": 4,
 "nbformat_minor": 4
}
