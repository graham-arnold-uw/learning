{
 "cells": [
  {
   "cell_type": "markdown",
   "metadata": {},
   "source": [
    "https://leetcode.com/problems/shortest-word-distance-ii/"
   ]
  },
  {
   "cell_type": "code",
   "execution_count": null,
   "metadata": {},
   "outputs": [],
   "source": [
    "from collections import defaultdict\n",
    "class WordDistance:\n",
    "\n",
    "    def __init__(self, wordsDict: List[str]):\n",
    "        self.words = wordsDict\n",
    "        self.word_indexes = defaultdict(list)\n",
    "        \n",
    "        for i, w in enumerate(self.words):\n",
    "            self.word_indexes[w].append(i)\n",
    "\n",
    "    def shortest(self, word1: str, word2: str) -> int:\n",
    "        w1_indexes = self.word_indexes[word1]\n",
    "        w2_indexes = self.word_indexes[word2]\n",
    "        \n",
    "        min_dist = float('inf')\n",
    "        for idx1 in w1_indexes:\n",
    "            for idx2 in w2_indexes:\n",
    "                curr_dist = abs(idx1 - idx2)\n",
    "                min_dist = min(min_dist, curr_dist)\n",
    "        return min_dist\n",
    "\n",
    "\n",
    "# Your WordDistance object will be instantiated and called as such:\n",
    "# obj = WordDistance(wordsDict)\n",
    "# param_1 = obj.shortest(word1,word2)"
   ]
  },
  {
   "cell_type": "code",
   "execution_count": 1,
   "metadata": {},
   "outputs": [
    {
     "name": "stdout",
     "output_type": "stream",
     "text": [
      "hello     world\n"
     ]
    }
   ],
   "source": [
    "t = ['hello', '     ', 'world']\n",
    "s= \"\".join(t)\n",
    "print(s)"
   ]
  },
  {
   "cell_type": "code",
   "execution_count": 3,
   "metadata": {},
   "outputs": [
    {
     "name": "stdout",
     "output_type": "stream",
     "text": [
      "[('word1', '  '), ('word2', '  ')]\n"
     ]
    }
   ],
   "source": [
    "t = ['word1', 'word2','word3']\n",
    "s = ['  ', '  ']\n",
    "test = zip(t,s)\n",
    "print(list(test))"
   ]
  },
  {
   "cell_type": "code",
   "execution_count": null,
   "metadata": {},
   "outputs": [],
   "source": []
  }
 ],
 "metadata": {
  "kernelspec": {
   "display_name": "Python 3",
   "language": "python",
   "name": "python3"
  },
  "language_info": {
   "codemirror_mode": {
    "name": "ipython",
    "version": 3
   },
   "file_extension": ".py",
   "mimetype": "text/x-python",
   "name": "python",
   "nbconvert_exporter": "python",
   "pygments_lexer": "ipython3",
   "version": "3.6.9"
  }
 },
 "nbformat": 4,
 "nbformat_minor": 4
}
