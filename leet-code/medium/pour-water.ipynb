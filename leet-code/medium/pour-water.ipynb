{
 "cells": [
  {
   "cell_type": "markdown",
   "metadata": {},
   "source": [
    "https://leetcode.com/problems/pour-water/"
   ]
  },
  {
   "cell_type": "code",
   "execution_count": 1,
   "metadata": {},
   "outputs": [
    {
     "ename": "SyntaxError",
     "evalue": "invalid syntax (<ipython-input-1-25f96b53c2f9>, line 38)",
     "output_type": "error",
     "traceback": [
      "\u001b[0;36m  File \u001b[0;32m\"<ipython-input-1-25f96b53c2f9>\"\u001b[0;36m, line \u001b[0;32m38\u001b[0m\n\u001b[0;31m    def update_position(self, heights, left_tars, right_tars, curr_idx)\u001b[0m\n\u001b[0m                                                                       ^\u001b[0m\n\u001b[0;31mSyntaxError\u001b[0m\u001b[0;31m:\u001b[0m invalid syntax\n"
     ]
    }
   ],
   "source": [
    "class Solution:\n",
    "    def pourWater(self, heights: List[int], volume: int, k: int) -> List[int]:\n",
    "        n = len(heights)\n",
    "        \n",
    "        if n == 1:\n",
    "            heights[k] = heights[k] + volume\n",
    "            return heights\n",
    "        \n",
    "        vol_left = volume\n",
    "        #print([0, 1, 2, 3, 4, 5, 6, 7, 8, 9, 10, 11, 12])\n",
    "        \n",
    "        left_tars = self.target_left(heights, k, n)\n",
    "        right_tars = self.target_right(heights, k, n)\n",
    "        \n",
    "        while vol_left != 0:\n",
    "            curr_idx = k\n",
    "            lt = left_tars[curr_idx]\n",
    "            while curr_idx > 0 and curr_idx != lt:\n",
    "                curr_idx -= 1\n",
    "                lt = left_tars[curr_idx]\n",
    "            \n",
    "            if curr_idx != k:\n",
    "                self.update_position(heights, left_tars, right_tars, curr_idx)\n",
    "                vol_left -= 1\n",
    "            else:\n",
    "                curr_idx = k\n",
    "                rt = right_tars[curr_idx]\n",
    "                while curr_idx < n - 1 and curr_idx != rt:\n",
    "                    curr_idx += 1\n",
    "                    rt = right_tars[curr_idx]\n",
    "                \n",
    "                if curr_idx != k:\n",
    "                    self.update_position(heights, left_tars, right_tars, curr_idx)\n",
    "                    vol_left -= 1  \n",
    "                else:\n",
    "                    self.update_position(heights, left_tars, right_tars, k)\n",
    "    \n",
    "    def update_position(self, heights, left_tars, right_tars, curr_idx):\n",
    "            heights[curr_idx] += 1\n",
    "            left_idx = curr_idx - 1\n",
    "            right_idx = curr_idx + 1\n",
    "            vol_left -= 1\n",
    "            if left_idx < 0:\n",
    "                left_tars[curr_idx] = curr_idx\n",
    "                self.update_tar(right_tars, heights,'right' curr_idx)\n",
    "                self.update_tar(left_tars, heights, 'left', right_idx)\n",
    "            elif right_idx >= n:\n",
    "                right_tars[curr_idx] = curr_idx\n",
    "                self.update_tar(left_tars, heights,'left' curr_idx)\n",
    "                self.update_tar(right_tars, heights, 'right', left_idx)\n",
    "            else:\n",
    "                self.update_tar(left_tars, heights,'left' curr_idx)\n",
    "                self.update_tar(right_tars, heights, 'right', curr_idx)\n",
    "                self.update_tar(left_tars, heights, 'left', right_idx)\n",
    "                self.update_tar(right_tars, heights, 'right', left_idx)\n",
    "                #try left        \n",
    "\n",
    "    def update_tar(self, x_tars, heights, side, i):\n",
    "        if side == 'left':\n",
    "            if heights[i - 1] < heights[i]:\n",
    "                x_tars[i] = i - 1\n",
    "            else:\n",
    "                x_tars[i] = i\n",
    "        else:\n",
    "            if heights[i + 1] < heights[i]:\n",
    "                x_tars[i] = i + 1\n",
    "            else:\n",
    "                x_tars[i] = i\n",
    "    \n",
    "    def target_left(self, heights, n):\n",
    "        res = [0 for i in range(n)]\n",
    "        tar_idx = 0\n",
    "        res[0] = 0\n",
    "        for i in range(1, n):\n",
    "            if heights[i] > heights[i - 1]:\n",
    "                res[i] = i-1\n",
    "            elif heights[i] <= heights[i - 1]:\n",
    "                res[i] = i\n",
    "        return res\n",
    "    \n",
    "    def target_right(self, heights, n):\n",
    "        res = [0 for i in range(n)]\n",
    "        res[-1] = n - 1\n",
    "        for i in range(n-2, -1, -1):\n",
    "            if heights[i] > heights[i + 1]:\n",
    "                res[i] = i + 1\n",
    "            elif heights[i] <= heights[i + 1]:\n",
    "                res[i] = i\n",
    "        return res\n",
    "        "
   ]
  },
  {
   "cell_type": "code",
   "execution_count": 11,
   "metadata": {},
   "outputs": [],
   "source": [
    "def target_left(heights, n):\n",
    "        res = [0 for i in range(n)]\n",
    "        tar_idx = 0\n",
    "        res[0] = 0\n",
    "        for i in range(1, n):\n",
    "            if heights[i] > heights[i - 1]:\n",
    "                res[i] = i-1\n",
    "            elif heights[i] <= heights[i - 1]:\n",
    "                res[i] = i\n",
    "        return res\n",
    "    \n",
    "def target_right(heights, n):\n",
    "    res = [0 for i in range(n)]\n",
    "    res[-1] = n - 1\n",
    "    for i in range(n-2, -1, -1):\n",
    "        if heights[i] > heights[i + 1]:\n",
    "            res[i] = i + 1\n",
    "        elif heights[i] <= heights[i + 1]:\n",
    "            res[i] = i\n",
    "    return res"
   ]
  },
  {
   "cell_type": "code",
   "execution_count": 12,
   "metadata": {},
   "outputs": [
    {
     "name": "stdout",
     "output_type": "stream",
     "text": [
      "[0, 1, 2, 3, 3, 5, 5, 7]\n",
      "[1, 2, 3, 3, 5, 5, 7, 7]\n"
     ]
    }
   ],
   "source": [
    "h_test = [4, 3, 2, 1, 4, 1, 2, 1]\n",
    "hl = len(h_test)\n",
    "l_tars = target_left(h_test, hl)\n",
    "r_tars = target_right(h_test, hl)\n",
    "print(l_tars)\n",
    "print(r_tars)"
   ]
  },
  {
   "cell_type": "code",
   "execution_count": null,
   "metadata": {},
   "outputs": [],
   "source": []
  }
 ],
 "metadata": {
  "kernelspec": {
   "display_name": "Python 3",
   "language": "python",
   "name": "python3"
  },
  "language_info": {
   "codemirror_mode": {
    "name": "ipython",
    "version": 3
   },
   "file_extension": ".py",
   "mimetype": "text/x-python",
   "name": "python",
   "nbconvert_exporter": "python",
   "pygments_lexer": "ipython3",
   "version": "3.6.9"
  }
 },
 "nbformat": 4,
 "nbformat_minor": 4
}
