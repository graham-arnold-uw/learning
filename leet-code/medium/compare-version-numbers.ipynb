{
 "cells": [
  {
   "cell_type": "markdown",
   "metadata": {},
   "source": [
    "https://leetcode.com/problems/compare-version-numbers/"
   ]
  },
  {
   "cell_type": "code",
   "execution_count": null,
   "metadata": {},
   "outputs": [],
   "source": [
    "class Solution:\n",
    "    def compareVersion(self, version1: str, version2: str) -> int:\n",
    "        v1_list = version1.split(\".\")\n",
    "        v2_list = version2.split(\".\")\n",
    "        \n",
    "        v1_nums = [int(v1_el) for v1_el in v1_list]\n",
    "        v2_nums = [int(v2_el) for v2_el in v2_list]\n",
    "        v1_len = len(v1_nums)\n",
    "        v2_len = len(v2_nums)\n",
    "        \n",
    "        p1 = p2 = 0\n",
    "        \n",
    "        while p1 < v1_len and p2 < v2_len:\n",
    "            if v1_nums[p1] != v2_nums[p2]:\n",
    "                if v1_nums[p1] < v2_nums[p2]:\n",
    "                    return -1\n",
    "                elif v1_nums[p1] > v2_nums[p2]:\n",
    "                    return 1\n",
    "            p1 += 1\n",
    "            p2 += 1\n",
    "        \n",
    "        while p1 < v1_len:\n",
    "            if v1_nums[p1] != 0:\n",
    "                return 1\n",
    "            p1 += 1\n",
    "        \n",
    "        while p2 < v2_len:\n",
    "            if v2_nums[p2] != 0:\n",
    "                return -1\n",
    "            p2 += 1\n",
    "        \n",
    "        return 0"
   ]
  },
  {
   "cell_type": "code",
   "execution_count": 2,
   "metadata": {},
   "outputs": [
    {
     "name": "stdout",
     "output_type": "stream",
     "text": [
      "inf\n"
     ]
    }
   ],
   "source": [
    "from collections import defaultdict, Counter\n",
    "\n",
    "t = defaultdict(lambda : float('inf'))\n",
    "print(t['a'])"
   ]
  },
  {
   "cell_type": "code",
   "execution_count": 6,
   "metadata": {},
   "outputs": [
    {
     "name": "stdout",
     "output_type": "stream",
     "text": [
      "['hello', 'world', 'today']\n"
     ]
    }
   ],
   "source": [
    "h = 'hello  world   today'\n",
    "print(h.split())"
   ]
  },
  {
   "cell_type": "code",
   "execution_count": null,
   "metadata": {},
   "outputs": [],
   "source": []
  }
 ],
 "metadata": {
  "kernelspec": {
   "display_name": "Python 3",
   "language": "python",
   "name": "python3"
  },
  "language_info": {
   "codemirror_mode": {
    "name": "ipython",
    "version": 3
   },
   "file_extension": ".py",
   "mimetype": "text/x-python",
   "name": "python",
   "nbconvert_exporter": "python",
   "pygments_lexer": "ipython3",
   "version": "3.6.9"
  }
 },
 "nbformat": 4,
 "nbformat_minor": 4
}
