{
 "cells": [
  {
   "cell_type": "markdown",
   "metadata": {},
   "source": [
    "https://leetcode.com/explore/featured/card/google/60/linked-list-5/3063/"
   ]
  },
  {
   "cell_type": "code",
   "execution_count": null,
   "metadata": {},
   "outputs": [],
   "source": [
    "# Definition for singly-linked list.\n",
    "# class ListNode:\n",
    "#     def __init__(self, val=0, next=None):\n",
    "#         self.val = val\n",
    "#         self.next = next\n",
    "class Solution:\n",
    "    def addTwoNumbers(self, l1: Optional[ListNode], l2: Optional[ListNode]) -> Optional[ListNode]:\n",
    "        \n",
    "        pwr = 0\n",
    "        total = 0\n",
    "        \n",
    "        while l1 != None and l2 != None:\n",
    "            total += l1.val * pow(10,pwr)\n",
    "            total += l2.val * pow(10,pwr)\n",
    "            \n",
    "            pwr += 1\n",
    "            l1 = l1.next\n",
    "            l2 = l2.next\n",
    "            \n",
    "        while l1 != None:\n",
    "            total += l1.val * pow(10,pwr)\n",
    "            pwr += 1\n",
    "            l1 = l1.next\n",
    "        while l2 != None:\n",
    "            total += l2.val * pow(10,pwr)\n",
    "            pwr += 1\n",
    "            l2 = l2.next\n",
    "            \n",
    "        \n",
    "        res = self.build_list(total)\n",
    "        return res\n",
    "    \n",
    "    \n",
    "    def build_list(self, total):\n",
    "        if total == 0:\n",
    "            return ListNode(val=0)\n",
    "        \n",
    "        dig = total % 10\n",
    "        total = total // 10\n",
    "        head = ListNode(val = dig)\n",
    "        temp = head\n",
    "        while total > 0:\n",
    "            dig = total % 10\n",
    "            total = total // 10\n",
    "            temp.next = ListNode(val = dig)\n",
    "            temp = temp.next\n",
    "        return head\n",
    "            \n",
    "    \n",
    "    \n",
    "    \n",
    "    \n",
    "    \n",
    "    \n",
    "    \n",
    "    \n",
    "    "
   ]
  }
 ],
 "metadata": {
  "kernelspec": {
   "display_name": "Python 3",
   "language": "python",
   "name": "python3"
  },
  "language_info": {
   "codemirror_mode": {
    "name": "ipython",
    "version": 3
   },
   "file_extension": ".py",
   "mimetype": "text/x-python",
   "name": "python",
   "nbconvert_exporter": "python",
   "pygments_lexer": "ipython3",
   "version": "3.6.9"
  }
 },
 "nbformat": 4,
 "nbformat_minor": 4
}
