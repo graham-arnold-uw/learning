{
 "cells": [
  {
   "cell_type": "markdown",
   "metadata": {},
   "source": [
    "https://leetcode.com/problems/set-matrix-zeroes/"
   ]
  },
  {
   "cell_type": "markdown",
   "metadata": {},
   "source": [
    "# O(M+N) Solution [not best]"
   ]
  },
  {
   "cell_type": "code",
   "execution_count": null,
   "metadata": {},
   "outputs": [],
   "source": [
    "\n",
    "\n",
    "class Solution:\n",
    "    def setZeroes(self, matrix: List[List[int]]) -> None:\n",
    "        \"\"\"\n",
    "        Do not return anything, modify matrix in-place instead.\n",
    "        \"\"\"\n",
    "        m = len(matrix)\n",
    "        n = len(matrix[0])\n",
    "        \n",
    "        iset = set()\n",
    "        jset = set()\n",
    "        \n",
    "        for i in range(m):\n",
    "            for j in range(n):\n",
    "                if matrix[i][j] == 0:\n",
    "                    iset.add(i)\n",
    "                    jset.add(j)\n",
    "        \n",
    "        \n",
    "        for i in range(m):\n",
    "            for j in range(n):\n",
    "                if i in iset or j in jset:\n",
    "                    matrix[i][j] = 0"
   ]
  },
  {
   "cell_type": "markdown",
   "metadata": {},
   "source": [
    "# Intermediate value solution (too slow :( ) "
   ]
  },
  {
   "cell_type": "code",
   "execution_count": null,
   "metadata": {},
   "outputs": [],
   "source": [
    "class Solution:\n",
    "    def setZeroes(self, matrix: List[List[int]]) -> None:\n",
    "        \"\"\"\n",
    "        Do not return anything, modify matrix in-place instead.\n",
    "        \"\"\"\n",
    "        m = len(matrix)\n",
    "        n = len(matrix[0])\n",
    "        \n",
    "        for i in range(m):\n",
    "            for j in range(n):\n",
    "                if matrix[i][j] == 0:\n",
    "                    self.set_intermediate(matrix, i, j)\n",
    "                    \n",
    "        \n",
    "        \n",
    "        for i in range(m):\n",
    "            for j in range(n):\n",
    "                if matrix[i][j] == float('inf'):\n",
    "                    matrix[i][j] = 0\n",
    "                    \n",
    "                    \n",
    "                    \n",
    "    def set_intermediate(self,matrix,itar,jtar):\n",
    "        \n",
    "        m = len(matrix)\n",
    "        n = len(matrix[0])\n",
    "        \n",
    "        for i in range(m):\n",
    "            for j in range(n):\n",
    "                if (i == itar or j == jtar) and matrix[i][j] != 0:\n",
    "                    matrix[i][j] = float('inf')"
   ]
  },
  {
   "cell_type": "markdown",
   "metadata": {},
   "source": [
    "# More optimal space solution with beginning of row/col flags"
   ]
  },
  {
   "cell_type": "code",
   "execution_count": 1,
   "metadata": {},
   "outputs": [],
   "source": [
    "class Solution:\n",
    "    def setZeroes(self, matrix: List[List[int]]) -> None:\n",
    "        \"\"\"\n",
    "        Do not return anything, modify matrix in-place instead.\n",
    "        \"\"\"\n",
    "        m = len(matrix)\n",
    "        n = len(matrix[0])\n",
    "        #print(matrix)\n",
    "        \n",
    "        kill_f_col = False\n",
    "        kill_f_row = False\n",
    "        for i in range(m):\n",
    "            for j in range(n):\n",
    "                if matrix[i][j] == 0:\n",
    "                    #print(str(i) + ' ' + str(j))\n",
    "                    if i == 0:\n",
    "                        kill_f_row = True\n",
    "                    if j == 0:\n",
    "                        kill_f_col = True\n",
    "                    self.set_flag(matrix,i,j)\n",
    "        \n",
    "        #print(matrix)\n",
    "        for i in range(1,m):\n",
    "            if matrix[i][0] == 0:\n",
    "                #matrix[0][0] = 0\n",
    "                \n",
    "                for j in range(1,n):\n",
    "                    matrix[i][j] = 0\n",
    "        \n",
    "        \n",
    "        for j in range(1,n):\n",
    "            if matrix[0][j] == 0:\n",
    "                #matrix[0][0] = 0\n",
    "                \n",
    "                for i in range(1,m):\n",
    "                    matrix[i][j] = 0  \n",
    "                    \n",
    "        if kill_f_row:\n",
    "            for j in range(n):\n",
    "                matrix[0][j] = 0\n",
    "        \n",
    "        if kill_f_col:\n",
    "            for i in range(m):\n",
    "                matrix[i][0] = 0\n",
    "            \n",
    "                    \n",
    "                    \n",
    "                    \n",
    "    def set_flag(self, matrix,i,j):\n",
    "        \n",
    "        matrix[i][0] = 0\n",
    "        matrix[0][j] = 0\n",
    "        "
   ]
  }
 ],
 "metadata": {
  "kernelspec": {
   "display_name": "Python 3",
   "language": "python",
   "name": "python3"
  },
  "language_info": {
   "codemirror_mode": {
    "name": "ipython",
    "version": 3
   },
   "file_extension": ".py",
   "mimetype": "text/x-python",
   "name": "python",
   "nbconvert_exporter": "python",
   "pygments_lexer": "ipython3",
   "version": "3.6.9"
  }
 },
 "nbformat": 4,
 "nbformat_minor": 4
}
