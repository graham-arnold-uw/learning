{
 "cells": [
  {
   "cell_type": "markdown",
   "metadata": {},
   "source": [
    "https://leetcode.com/problems/set-matrix-zeroes/"
   ]
  },
  {
   "cell_type": "markdown",
   "metadata": {},
   "source": [
    "# O(M+N) Solution [not best]"
   ]
  },
  {
   "cell_type": "code",
   "execution_count": null,
   "metadata": {},
   "outputs": [],
   "source": [
    "\n",
    "\n",
    "class Solution:\n",
    "    def setZeroes(self, matrix: List[List[int]]) -> None:\n",
    "        \"\"\"\n",
    "        Do not return anything, modify matrix in-place instead.\n",
    "        \"\"\"\n",
    "        m = len(matrix)\n",
    "        n = len(matrix[0])\n",
    "        \n",
    "        iset = set()\n",
    "        jset = set()\n",
    "        \n",
    "        for i in range(m):\n",
    "            for j in range(n):\n",
    "                if matrix[i][j] == 0:\n",
    "                    iset.add(i)\n",
    "                    jset.add(j)\n",
    "        \n",
    "        \n",
    "        for i in range(m):\n",
    "            for j in range(n):\n",
    "                if i in iset or j in jset:\n",
    "                    matrix[i][j] = 0"
   ]
  },
  {
   "cell_type": "markdown",
   "metadata": {},
   "source": [
    "# Intermediate value solution (too slow :( ) "
   ]
  },
  {
   "cell_type": "code",
   "execution_count": null,
   "metadata": {},
   "outputs": [],
   "source": [
    "class Solution:\n",
    "    def setZeroes(self, matrix: List[List[int]]) -> None:\n",
    "        \"\"\"\n",
    "        Do not return anything, modify matrix in-place instead.\n",
    "        \"\"\"\n",
    "        m = len(matrix)\n",
    "        n = len(matrix[0])\n",
    "        \n",
    "        for i in range(m):\n",
    "            for j in range(n):\n",
    "                if matrix[i][j] == 0:\n",
    "                    self.set_intermediate(matrix, i, j)\n",
    "                    \n",
    "        \n",
    "        \n",
    "        for i in range(m):\n",
    "            for j in range(n):\n",
    "                if matrix[i][j] == float('inf'):\n",
    "                    matrix[i][j] = 0\n",
    "                    \n",
    "                    \n",
    "                    \n",
    "    def set_intermediate(self,matrix,itar,jtar):\n",
    "        \n",
    "        m = len(matrix)\n",
    "        n = len(matrix[0])\n",
    "        \n",
    "        for i in range(m):\n",
    "            for j in range(n):\n",
    "                if (i == itar or j == jtar) and matrix[i][j] != 0:\n",
    "                    matrix[i][j] = float('inf')"
   ]
  },
  {
   "cell_type": "markdown",
   "metadata": {},
   "source": [
    "# More optimal space solution with beginning of row/col flags"
   ]
  },
  {
   "cell_type": "code",
   "execution_count": 1,
   "metadata": {},
   "outputs": [
    {
     "ename": "NameError",
     "evalue": "name 'List' is not defined",
     "output_type": "error",
     "traceback": [
      "\u001b[0;31m---------------------------------------------------------------------------\u001b[0m",
      "\u001b[0;31mNameError\u001b[0m                                 Traceback (most recent call last)",
      "\u001b[0;32m<ipython-input-1-d3e6e43b80a7>\u001b[0m in \u001b[0;36m<module>\u001b[0;34m\u001b[0m\n\u001b[0;32m----> 1\u001b[0;31m \u001b[0;32mclass\u001b[0m \u001b[0mSolution\u001b[0m\u001b[0;34m:\u001b[0m\u001b[0;34m\u001b[0m\u001b[0;34m\u001b[0m\u001b[0m\n\u001b[0m\u001b[1;32m      2\u001b[0m     \u001b[0;32mdef\u001b[0m \u001b[0msetZeroes\u001b[0m\u001b[0;34m(\u001b[0m\u001b[0mself\u001b[0m\u001b[0;34m,\u001b[0m \u001b[0mmatrix\u001b[0m\u001b[0;34m:\u001b[0m \u001b[0mList\u001b[0m\u001b[0;34m[\u001b[0m\u001b[0mList\u001b[0m\u001b[0;34m[\u001b[0m\u001b[0mint\u001b[0m\u001b[0;34m]\u001b[0m\u001b[0;34m]\u001b[0m\u001b[0;34m)\u001b[0m \u001b[0;34m->\u001b[0m \u001b[0;32mNone\u001b[0m\u001b[0;34m:\u001b[0m\u001b[0;34m\u001b[0m\u001b[0;34m\u001b[0m\u001b[0m\n\u001b[1;32m      3\u001b[0m         \"\"\"\n\u001b[1;32m      4\u001b[0m         \u001b[0mDo\u001b[0m \u001b[0;32mnot\u001b[0m \u001b[0;32mreturn\u001b[0m \u001b[0manything\u001b[0m\u001b[0;34m,\u001b[0m \u001b[0mmodify\u001b[0m \u001b[0mmatrix\u001b[0m \u001b[0;32min\u001b[0m\u001b[0;34m-\u001b[0m\u001b[0mplace\u001b[0m \u001b[0minstead\u001b[0m\u001b[0;34m.\u001b[0m\u001b[0;34m\u001b[0m\u001b[0;34m\u001b[0m\u001b[0m\n\u001b[1;32m      5\u001b[0m         \"\"\"\n",
      "\u001b[0;32m<ipython-input-1-d3e6e43b80a7>\u001b[0m in \u001b[0;36mSolution\u001b[0;34m()\u001b[0m\n\u001b[1;32m      1\u001b[0m \u001b[0;32mclass\u001b[0m \u001b[0mSolution\u001b[0m\u001b[0;34m:\u001b[0m\u001b[0;34m\u001b[0m\u001b[0;34m\u001b[0m\u001b[0m\n\u001b[0;32m----> 2\u001b[0;31m     \u001b[0;32mdef\u001b[0m \u001b[0msetZeroes\u001b[0m\u001b[0;34m(\u001b[0m\u001b[0mself\u001b[0m\u001b[0;34m,\u001b[0m \u001b[0mmatrix\u001b[0m\u001b[0;34m:\u001b[0m \u001b[0mList\u001b[0m\u001b[0;34m[\u001b[0m\u001b[0mList\u001b[0m\u001b[0;34m[\u001b[0m\u001b[0mint\u001b[0m\u001b[0;34m]\u001b[0m\u001b[0;34m]\u001b[0m\u001b[0;34m)\u001b[0m \u001b[0;34m->\u001b[0m \u001b[0;32mNone\u001b[0m\u001b[0;34m:\u001b[0m\u001b[0;34m\u001b[0m\u001b[0;34m\u001b[0m\u001b[0m\n\u001b[0m\u001b[1;32m      3\u001b[0m         \"\"\"\n\u001b[1;32m      4\u001b[0m         \u001b[0mDo\u001b[0m \u001b[0;32mnot\u001b[0m \u001b[0;32mreturn\u001b[0m \u001b[0manything\u001b[0m\u001b[0;34m,\u001b[0m \u001b[0mmodify\u001b[0m \u001b[0mmatrix\u001b[0m \u001b[0;32min\u001b[0m\u001b[0;34m-\u001b[0m\u001b[0mplace\u001b[0m \u001b[0minstead\u001b[0m\u001b[0;34m.\u001b[0m\u001b[0;34m\u001b[0m\u001b[0;34m\u001b[0m\u001b[0m\n\u001b[1;32m      5\u001b[0m         \"\"\"\n",
      "\u001b[0;31mNameError\u001b[0m: name 'List' is not defined"
     ]
    }
   ],
   "source": [
    "class Solution:\n",
    "    def setZeroes(self, matrix: List[List[int]]) -> None:\n",
    "        \"\"\"\n",
    "        Do not return anything, modify matrix in-place instead.\n",
    "        \"\"\"\n",
    "        m = len(matrix)\n",
    "        n = len(matrix[0])\n",
    "        #print(matrix)\n",
    "        \n",
    "        kill_f_col = False\n",
    "        kill_f_row = False\n",
    "        for i in range(m):\n",
    "            for j in range(n):\n",
    "                if matrix[i][j] == 0:\n",
    "                    #print(str(i) + ' ' + str(j))\n",
    "                    if i == 0:\n",
    "                        kill_f_row = True\n",
    "                    if j == 0:\n",
    "                        kill_f_col = True\n",
    "                    self.set_flag(matrix,i,j)\n",
    "        \n",
    "        #print(matrix)\n",
    "        for i in range(1,m):\n",
    "            if matrix[i][0] == 0:\n",
    "                #matrix[0][0] = 0\n",
    "                \n",
    "                for j in range(1,n):\n",
    "                    matrix[i][j] = 0\n",
    "        \n",
    "        \n",
    "        for j in range(1,n):\n",
    "            if matrix[0][j] == 0:\n",
    "                #matrix[0][0] = 0\n",
    "                \n",
    "                for i in range(1,m):\n",
    "                    matrix[i][j] = 0  \n",
    "                    \n",
    "        if kill_f_row:\n",
    "            for j in range(n):\n",
    "                matrix[0][j] = 0\n",
    "        \n",
    "        if kill_f_col:\n",
    "            for i in range(m):\n",
    "                matrix[i][0] = 0\n",
    "            \n",
    "                    \n",
    "                    \n",
    "                    \n",
    "    def set_flag(self, matrix,i,j):\n",
    "        \n",
    "        matrix[i][0] = 0\n",
    "        matrix[0][j] = 0\n",
    "        "
   ]
  },
  {
   "cell_type": "markdown",
   "metadata": {},
   "source": [
    "# New solution 1/8/2022"
   ]
  },
  {
   "cell_type": "code",
   "execution_count": null,
   "metadata": {},
   "outputs": [],
   "source": [
    "class Solution:\n",
    "    #function to set matrix rows and columns to zero if zero occupies that row/col\n",
    "    #INPUT:\n",
    "    # matrix: m x n matrix of numbers\n",
    "    def setZeroes(self, matrix: List[List[int]]) -> None:\n",
    "        m = len(matrix)\n",
    "        n = len(matrix[0])\n",
    "\n",
    "        act_rows = [1 for i in range(m)]\n",
    "        act_cols = [1 for j in range(n)]\n",
    "\n",
    "        #get locations of each zero\n",
    "        self.find_zeroes(matrix, m, n, act_rows, act_cols)\n",
    "\n",
    "        #for each row and col that is not active -> set all elements to zero\n",
    "        for r, stat in enumerate(act_rows):\n",
    "            if stat == 0:\n",
    "                self.deactivate(matrix, m, n, r, 'row')\n",
    "\n",
    "        for c, stat in enumerate(act_cols):\n",
    "            if stat == 0:\n",
    "                self.deactivate(matrix, m, n, c, 'col')\n",
    "        \n",
    "        return matrix\n",
    "    #\n",
    "    #helper function to find original zeroes in matrix\n",
    "    #two binary lists are used to indicate whether rows/cols are active\n",
    "    #no return value, operations performed directly on active flag arrays\n",
    "    def find_zeroes(self, matrix, m, n, act_rows, act_cols):\n",
    "        for i in range(m):\n",
    "            for j in range(n):\n",
    "                if matrix[i][j] == 0:\n",
    "                    act_rows[i] = 0\n",
    "                    act_cols[j] = 0\n",
    "    \n",
    "    #helper function to deacticate a row or column \n",
    "    #takes in the matrix, dimensions, row or col num, and deactivation type\n",
    "    def deactivate(self, matrix, m, n, k, dtype):\n",
    "        if dtype == 'row':\n",
    "            for j in range(n):\n",
    "                matrix[k][j] = 0 \n",
    "        elif dtype == 'col':\n",
    "            for i in range(m):\n",
    "                matrix[i][k] = 0 \n",
    "        else:\n",
    "            raise ValueError(\"bad input value\")\n"
   ]
  },
  {
   "cell_type": "code",
   "execution_count": null,
   "metadata": {},
   "outputs": [],
   "source": []
  },
  {
   "cell_type": "code",
   "execution_count": null,
   "metadata": {},
   "outputs": [],
   "source": []
  }
 ],
 "metadata": {
  "kernelspec": {
   "display_name": "Python 3",
   "language": "python",
   "name": "python3"
  },
  "language_info": {
   "codemirror_mode": {
    "name": "ipython",
    "version": 3
   },
   "file_extension": ".py",
   "mimetype": "text/x-python",
   "name": "python",
   "nbconvert_exporter": "python",
   "pygments_lexer": "ipython3",
   "version": "3.6.9"
  }
 },
 "nbformat": 4,
 "nbformat_minor": 4
}
