{
 "cells": [
  {
   "cell_type": "markdown",
   "metadata": {},
   "source": [
    "https://leetcode.com/problems/minimum-deletions-to-make-character-frequencies-unique/"
   ]
  },
  {
   "cell_type": "code",
   "execution_count": null,
   "metadata": {},
   "outputs": [],
   "source": [
    "class Solution:\n",
    "    def minDeletions(self, s: str) -> int:\n",
    "        \n",
    "        seen_freqs = set()\n",
    "        \n",
    "        deletions = 0\n",
    "        \n",
    "        for i in range(26):\n",
    "            curr_char = chr(ord('a') + i)\n",
    "            char_freq = 0\n",
    "            for c in s:\n",
    "                if c == curr_char:\n",
    "                    char_freq += 1\n",
    "            #print(seen_freqs)\n",
    "            #print(char_freq)\n",
    "            #print()\n",
    "            while char_freq > 0 and char_freq in seen_freqs:\n",
    "                deletions += 1\n",
    "                char_freq -= 1\n",
    "            \n",
    "            seen_freqs.add(char_freq)\n",
    "        \n",
    "        return deletions"
   ]
  },
  {
   "cell_type": "code",
   "execution_count": 1,
   "metadata": {},
   "outputs": [
    {
     "name": "stdout",
     "output_type": "stream",
     "text": [
      "['1.txt(abcd)', '2.txt(efgh)']\n"
     ]
    }
   ],
   "source": [
    "s = \"root/a 1.txt(abcd) 2.txt(efgh)\"\n",
    "root, *files = s.split(' ')\n",
    "print(files)"
   ]
  },
  {
   "cell_type": "code",
   "execution_count": 2,
   "metadata": {},
   "outputs": [
    {
     "name": "stdout",
     "output_type": "stream",
     "text": [
      "['1.txt', 'abcd)']\n"
     ]
    }
   ],
   "source": [
    "t = files[0]\n",
    "print(t.split('('))"
   ]
  },
  {
   "cell_type": "code",
   "execution_count": null,
   "metadata": {},
   "outputs": [],
   "source": []
  }
 ],
 "metadata": {
  "kernelspec": {
   "display_name": "Python 3",
   "language": "python",
   "name": "python3"
  },
  "language_info": {
   "codemirror_mode": {
    "name": "ipython",
    "version": 3
   },
   "file_extension": ".py",
   "mimetype": "text/x-python",
   "name": "python",
   "nbconvert_exporter": "python",
   "pygments_lexer": "ipython3",
   "version": "3.6.9"
  }
 },
 "nbformat": 4,
 "nbformat_minor": 4
}
