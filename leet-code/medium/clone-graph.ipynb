{
 "cells": [
  {
   "cell_type": "markdown",
   "metadata": {},
   "source": [
    "https://leetcode.com/problems/clone-graph/"
   ]
  },
  {
   "cell_type": "markdown",
   "metadata": {},
   "source": [
    "# Don't know why this doesn't work"
   ]
  },
  {
   "cell_type": "code",
   "execution_count": null,
   "metadata": {},
   "outputs": [],
   "source": [
    "    def cloneGraph(self, node: 'Node') -> 'Node':\n",
    "        \n",
    "        if node == None:\n",
    "            return None\n",
    "        \n",
    "        adj = []\n",
    "        #print(id(node))\n",
    "        #print(id(node.neighbors[0]))\n",
    "        q = deque()\n",
    "        q_prime = deque()\n",
    "        \n",
    "        q.append(node)\n",
    "        \n",
    "        head = Node(node.val)\n",
    "        q_prime.append(head)\n",
    "        visited = [0 for i in range(101)]\n",
    "        \n",
    "        \n",
    "        while len(q) > 0:\n",
    "            curr_node = q.popleft()\n",
    "            curr_prime = q_prime.popleft()\n",
    "            \n",
    "            \n",
    "            for n in curr_node.neighbors:\n",
    "                n_prime = Node(n.val)\n",
    "                curr_prime.neighbors.append(n_prime)\n",
    "                if visited[n.val] != 1:\n",
    "                    q.append(n)\n",
    "                    q_prime.append(n_prime)\n",
    "                \n",
    "            visited[curr_node.val] = 1\n",
    "        self.print_graph2(head)\n",
    "        print()\n",
    "        self.print_graph2(node)\n",
    "        \n",
    "        return head"
   ]
  }
 ],
 "metadata": {
  "kernelspec": {
   "display_name": "Python 3",
   "language": "python",
   "name": "python3"
  },
  "language_info": {
   "codemirror_mode": {
    "name": "ipython",
    "version": 3
   },
   "file_extension": ".py",
   "mimetype": "text/x-python",
   "name": "python",
   "nbconvert_exporter": "python",
   "pygments_lexer": "ipython3",
   "version": "3.6.9"
  }
 },
 "nbformat": 4,
 "nbformat_minor": 4
}
