{
 "cells": [
  {
   "cell_type": "markdown",
   "metadata": {},
   "source": [
    "https://leetcode.com/problems/minimum-number-of-days-to-make-m-bouquets/"
   ]
  },
  {
   "cell_type": "markdown",
   "metadata": {},
   "source": [
    "# Time limit exceeded"
   ]
  },
  {
   "cell_type": "code",
   "execution_count": null,
   "metadata": {},
   "outputs": [],
   "source": [
    "class Solution:\n",
    "    def minDays(self, bloomDay: List[int], m: int, k: int) -> int:\n",
    "        \n",
    "        def check_bloomed(bloom_days, ws, we, wait):\n",
    "            \n",
    "            for i in range(ws, we):\n",
    "                if bloom_days[i] > wait:\n",
    "                    return False\n",
    "            return True\n",
    "        \n",
    "        def condition(wait_days):\n",
    "            ws, we = 0, k\n",
    "            bc = 0\n",
    "            while we <= len(bloomDay):\n",
    "                if check_bloomed(bloomDay, ws, we, wait_days):\n",
    "                    bc += 1\n",
    "                    ws = we\n",
    "                    we += k\n",
    "                else:\n",
    "                    ws += 1\n",
    "                    we += 1\n",
    "                \n",
    "                if bc >= m:\n",
    "                    return True\n",
    "            \n",
    "            return False\n",
    "      \n",
    "        if len(bloomDay) // m < k:\n",
    "            return -1\n",
    "        \n",
    "        left, right = min(bloomDay), max(bloomDay)\n",
    "        \n",
    "        while left < right: #check boundary conditions for special cases\n",
    "            mid = (left + right) // 2\n",
    "            if condition(mid):\n",
    "                right = mid\n",
    "            else:\n",
    "                left = mid + 1\n",
    "        \n",
    "        return left"
   ]
  },
  {
   "cell_type": "markdown",
   "metadata": {},
   "source": [
    "# Passing Solution - Better sliding window implementation"
   ]
  },
  {
   "cell_type": "code",
   "execution_count": null,
   "metadata": {},
   "outputs": [],
   "source": [
    "class Solution:\n",
    "    def minDays(self, bloomDay: List[int], m: int, k: int) -> int:\n",
    "        \n",
    "        def check_bloomed(bloom_days, ws, we, wait):\n",
    "            \n",
    "            for i in range(ws, we):\n",
    "                if bloom_days[i] > wait:\n",
    "                    return False\n",
    "            return True\n",
    "        \n",
    "        def condition(wait_days):\n",
    "            ws = we = 0\n",
    "            bc = 0\n",
    "            while we < len(bloomDay):\n",
    "                if bloomDay[we] <= wait_days:\n",
    "                    if we - ws + 1 == k:\n",
    "                        bc += 1\n",
    "                        ws = we + 1\n",
    "                    \n",
    "                else:\n",
    "                    ws = we + 1\n",
    "                \n",
    "                we += 1\n",
    "                if bc >= m:\n",
    "                    return True\n",
    "                \n",
    "            return False\n",
    "      \n",
    "        if len(bloomDay) // m < k:\n",
    "            return -1\n",
    "        \n",
    "        left, right = min(bloomDay), max(bloomDay)\n",
    "        \n",
    "        while left < right: #check boundary conditions for special cases\n",
    "            mid = (left + right) // 2\n",
    "            if condition(mid):\n",
    "                right = mid\n",
    "            else:\n",
    "                left = mid + 1\n",
    "        \n",
    "        return left"
   ]
  },
  {
   "cell_type": "markdown",
   "metadata": {},
   "source": [
    "# Different Bouquet counting implementation"
   ]
  },
  {
   "cell_type": "code",
   "execution_count": null,
   "metadata": {},
   "outputs": [],
   "source": [
    "def minDays(bloomDay: List[int], m: int, k: int) -> int:\n",
    "    def feasible(days) -> bool:\n",
    "        bonquets, flowers = 0, 0\n",
    "        for bloom in bloomDay:\n",
    "            if bloom > days:\n",
    "                flowers = 0\n",
    "            else:\n",
    "                bonquets += (flowers + 1) // k\n",
    "                flowers = (flowers + 1) % k\n",
    "        return bonquets >= m\n",
    "\n",
    "    if len(bloomDay) < m * k:\n",
    "        return -1\n",
    "    left, right = 1, max(bloomDay)\n",
    "    while left < right:\n",
    "        mid = left + (right - left) // 2\n",
    "        if feasible(mid):\n",
    "            right = mid\n",
    "        else:\n",
    "            left = mid + 1\n",
    "    return left"
   ]
  }
 ],
 "metadata": {
  "kernelspec": {
   "display_name": "Python 3",
   "language": "python",
   "name": "python3"
  },
  "language_info": {
   "codemirror_mode": {
    "name": "ipython",
    "version": 3
   },
   "file_extension": ".py",
   "mimetype": "text/x-python",
   "name": "python",
   "nbconvert_exporter": "python",
   "pygments_lexer": "ipython3",
   "version": "3.6.9"
  }
 },
 "nbformat": 4,
 "nbformat_minor": 4
}
