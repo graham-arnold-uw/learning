{
 "cells": [
  {
   "cell_type": "markdown",
   "metadata": {},
   "source": [
    "https://leetcode.com/explore/interview/card/amazon/78/trees-and-graphs/2984/"
   ]
  },
  {
   "cell_type": "code",
   "execution_count": null,
   "metadata": {},
   "outputs": [],
   "source": [
    "# Definition for a binary tree node.\n",
    "# class TreeNode:\n",
    "#     def __init__(self, x):\n",
    "#         self.val = x\n",
    "#         self.left = None\n",
    "#         self.right = None\n",
    "\n",
    "class Solution:\n",
    "    def lowestCommonAncestor(self, root: 'TreeNode', p: 'TreeNode', q: 'TreeNode') -> 'TreeNode':\n",
    "        \n",
    "        def lowest_helper(root, p, q):\n",
    "            if root.val == p.val:\n",
    "                return root\n",
    "            if root.val == q.val:\n",
    "                return root\n",
    "            is_left_p = is_right_p = False\n",
    "            is_left_q = is_right_q = False\n",
    "            \n",
    "            is_left_p = find_node(root.left, p)\n",
    "            if not is_left_p:\n",
    "                is_right_p = True\n",
    "            is_left_q = find_node(root.left, q)\n",
    "            if not is_left_q:\n",
    "                is_right_q = True\n",
    "                \n",
    "            if (is_left_p and is_right_q) or (is_right_p and is_left_q):\n",
    "                return root\n",
    "            \n",
    "            if is_left_p and is_left_q:\n",
    "                lca = lowest_helper(root.left, p, q)\n",
    "                return lca\n",
    "            else:\n",
    "                lca = lowest_helper(root.right, p, q)\n",
    "                return lca\n",
    "            \n",
    "        def find_node(root, tar):\n",
    "            if root == None:\n",
    "                return False\n",
    "            if root.val == tar.val:\n",
    "                return True\n",
    "            \n",
    "            search_left = find_node(root.left, tar)\n",
    "            if search_left:\n",
    "                return True\n",
    "            search_right = find_node(root.right, tar)\n",
    "            return search_right\n",
    "        \n",
    "        res = lowest_helper(root, p, q)\n",
    "        return res"
   ]
  }
 ],
 "metadata": {
  "kernelspec": {
   "display_name": "Python 3",
   "language": "python",
   "name": "python3"
  },
  "language_info": {
   "codemirror_mode": {
    "name": "ipython",
    "version": 3
   },
   "file_extension": ".py",
   "mimetype": "text/x-python",
   "name": "python",
   "nbconvert_exporter": "python",
   "pygments_lexer": "ipython3",
   "version": "3.6.9"
  }
 },
 "nbformat": 4,
 "nbformat_minor": 4
}
