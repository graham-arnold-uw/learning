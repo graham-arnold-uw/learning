{
 "cells": [
  {
   "cell_type": "markdown",
   "metadata": {},
   "source": [
    "https://leetcode.com/explore/interview/card/google/62/recursion-4/399/"
   ]
  },
  {
   "cell_type": "markdown",
   "metadata": {},
   "source": [
    "# Kinda janky solution"
   ]
  },
  {
   "cell_type": "code",
   "execution_count": null,
   "metadata": {},
   "outputs": [],
   "source": [
    "class Solution:\n",
    "    def findStrobogrammatic(self, n: int) -> List[str]:\n",
    "        \n",
    "        def strob_back(path, num_half):\n",
    "            if len(path) == num_half:\n",
    "                if extra == 1:\n",
    "                    if path[-1] == '6' or path[-1] == '9':\n",
    "                        return\n",
    "                #check if curr path reflected is solution\n",
    "                rev_path = [flip[el] for el in path]\n",
    "                rev_path = rev_path[::-1]\n",
    "                if extra == 1:\n",
    "                    rev_path = rev_path[1:]\n",
    "                global_results.append(\"\".join(path.copy() + rev_path))\n",
    "                return\n",
    "            \n",
    "            for dig in strob_digs:\n",
    "                if dig == '0' and len(path) == 0:\n",
    "                    continue\n",
    "                path.append(dig)\n",
    "                strob_back(path, num_half)\n",
    "                path.pop()\n",
    "        \n",
    "            return\n",
    "        \n",
    "        if n == 1:\n",
    "            return ['0', '1', '8']\n",
    "        extra = n % 2\n",
    "        num_half = n // 2 + extra\n",
    "        global_results = []\n",
    "        strob_digs = ['0','1', '6', '8', '9']\n",
    "        flip = {'0':'0','1':'1', '6':'9', '8':'8', '9':'6'}\n",
    "        strob_back([], num_half)\n",
    "        return global_results"
   ]
  }
 ],
 "metadata": {
  "kernelspec": {
   "display_name": "Python 3",
   "language": "python",
   "name": "python3"
  },
  "language_info": {
   "codemirror_mode": {
    "name": "ipython",
    "version": 3
   },
   "file_extension": ".py",
   "mimetype": "text/x-python",
   "name": "python",
   "nbconvert_exporter": "python",
   "pygments_lexer": "ipython3",
   "version": "3.6.9"
  }
 },
 "nbformat": 4,
 "nbformat_minor": 4
}
