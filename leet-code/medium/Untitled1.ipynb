{
 "cells": [
  {
   "cell_type": "markdown",
   "metadata": {},
   "source": [
    "https://leetcode.com/explore/interview/card/google/63/sorting-and-searching-4/3081/"
   ]
  },
  {
   "cell_type": "code",
   "execution_count": null,
   "metadata": {},
   "outputs": [],
   "source": [
    "class Solution:\n",
    "    def searchRange(self, nums: List[int], target: int) -> List[int]:\n",
    "      \n",
    "        def search_helper(nums, left, right, target):\n",
    "            if right >= left:\n",
    "                \n",
    "                mid = left + (right - left) // 2\n",
    "                \n",
    "                if nums[mid] == target:\n",
    "                    lb,ub = find_bounds(nums, mid, target)\n",
    "                elif nums[mid] > target:\n",
    "                    lb,ub = search_helper(nums, left, mid - 1, target)\n",
    "                else:\n",
    "                    lb,ub = search_helper(nums, mid + 1, right, target)\n",
    "                \n",
    "                return lb,ub\n",
    "            else:\n",
    "                return [-1, -1]\n",
    "            \n",
    "        def find_bounds(nums,i,target):\n",
    "            n = len(nums)\n",
    "            lbp = i\n",
    "            while lbp >= 0 and nums[lbp] == target:\n",
    "                lbp -= 1\n",
    "            \n",
    "            lb = lbp + 1\n",
    "            \n",
    "            ubp = i\n",
    "            while ubp < n and nums[ubp] == target:\n",
    "                ubp += 1\n",
    "            \n",
    "            ub = ubp - 1\n",
    "            \n",
    "            return lb, ub\n",
    "        \n",
    "        n = len(nums)\n",
    "        interval = search_helper(nums, 0, n - 1, target)\n",
    "        return interval\n",
    "            \n",
    "            \n",
    "            \n",
    "            "
   ]
  }
 ],
 "metadata": {
  "kernelspec": {
   "display_name": "Python 3",
   "language": "python",
   "name": "python3"
  },
  "language_info": {
   "codemirror_mode": {
    "name": "ipython",
    "version": 3
   },
   "file_extension": ".py",
   "mimetype": "text/x-python",
   "name": "python",
   "nbconvert_exporter": "python",
   "pygments_lexer": "ipython3",
   "version": "3.6.9"
  }
 },
 "nbformat": 4,
 "nbformat_minor": 4
}
