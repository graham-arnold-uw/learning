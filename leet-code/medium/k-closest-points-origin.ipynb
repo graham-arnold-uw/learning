{
 "cells": [
  {
   "cell_type": "markdown",
   "metadata": {},
   "source": [
    "https://leetcode.com/problems/k-closest-points-to-origin/"
   ]
  },
  {
   "cell_type": "code",
   "execution_count": null,
   "metadata": {},
   "outputs": [],
   "source": [
    "import heapq\n",
    "class Solution:\n",
    "    def kClosest(self, points: List[List[int]], k: int) -> List[List[int]]:\n",
    "        \n",
    "        k_heap = self.get_heap(points, k)\n",
    "        \n",
    "        out = []\n",
    "        \n",
    "        for d, px, py in k_heap:\n",
    "            out.append([px, py])\n",
    "            \n",
    "        return out\n",
    "  \n",
    "    def kClosest_first_attempt(self, points: List[List[int]], k: int) -> List[List[int]]:\n",
    "        \n",
    "        distance_tuples = self.calculate_distances(points)\n",
    "    \n",
    "        \n",
    "        sdt = sorted(distance_tuples, key = lambda x : x[2])\n",
    "        \n",
    "        out = []\n",
    "        \n",
    "        for i in range(k):\n",
    "            out.append([sdt[i][0], sdt[i][1]])\n",
    "            \n",
    "        return out      \n",
    "        \n",
    "    def get_heap(self, points, k):\n",
    "        h = []\n",
    "        \n",
    "        for px, py in points:\n",
    "            d = math.sqrt(px*px + py*py)\n",
    "            d_tup = (-d, px, py)\n",
    "            \n",
    "            if len(h) < k:   \n",
    "                heapq.heappush(h, d_tup)\n",
    "            else:\n",
    "                heapq.heappush(h, d_tup)\n",
    "                _ = heapq.heappop(h)\n",
    "        return h\n",
    "                \n",
    "    def calculate_distances(self, points):\n",
    "        origin = (0, 0)\n",
    "        \n",
    "        distances = []\n",
    "        \n",
    "        for px, py in points:\n",
    "            d = math.sqrt(px*px + py*py)\n",
    "            distances.append((px, py, d))\n",
    "        \n",
    "        return distances"
   ]
  }
 ],
 "metadata": {
  "kernelspec": {
   "display_name": "Python 3",
   "language": "python",
   "name": "python3"
  },
  "language_info": {
   "codemirror_mode": {
    "name": "ipython",
    "version": 3
   },
   "file_extension": ".py",
   "mimetype": "text/x-python",
   "name": "python",
   "nbconvert_exporter": "python",
   "pygments_lexer": "ipython3",
   "version": "3.6.9"
  }
 },
 "nbformat": 4,
 "nbformat_minor": 4
}
