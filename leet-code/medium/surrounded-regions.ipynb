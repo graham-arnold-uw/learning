{
 "cells": [
  {
   "cell_type": "markdown",
   "metadata": {},
   "source": [
    "https://leetcode.com/problems/surrounded-regions/solution/"
   ]
  },
  {
   "cell_type": "code",
   "execution_count": 1,
   "metadata": {},
   "outputs": [
    {
     "ename": "NameError",
     "evalue": "name 'List' is not defined",
     "output_type": "error",
     "traceback": [
      "\u001b[0;31m---------------------------------------------------------------------------\u001b[0m",
      "\u001b[0;31mNameError\u001b[0m                                 Traceback (most recent call last)",
      "\u001b[0;32m<ipython-input-1-4d64353166b0>\u001b[0m in \u001b[0;36m<module>\u001b[0;34m\u001b[0m\n\u001b[0;32m----> 1\u001b[0;31m \u001b[0;32mclass\u001b[0m \u001b[0mSolution\u001b[0m\u001b[0;34m:\u001b[0m\u001b[0;34m\u001b[0m\u001b[0;34m\u001b[0m\u001b[0m\n\u001b[0m\u001b[1;32m      2\u001b[0m     \u001b[0;32mdef\u001b[0m \u001b[0msolve\u001b[0m\u001b[0;34m(\u001b[0m\u001b[0mself\u001b[0m\u001b[0;34m,\u001b[0m \u001b[0mboard\u001b[0m\u001b[0;34m:\u001b[0m \u001b[0mList\u001b[0m\u001b[0;34m[\u001b[0m\u001b[0mList\u001b[0m\u001b[0;34m[\u001b[0m\u001b[0mstr\u001b[0m\u001b[0;34m]\u001b[0m\u001b[0;34m]\u001b[0m\u001b[0;34m)\u001b[0m \u001b[0;34m->\u001b[0m \u001b[0;32mNone\u001b[0m\u001b[0;34m:\u001b[0m\u001b[0;34m\u001b[0m\u001b[0;34m\u001b[0m\u001b[0m\n\u001b[1;32m      3\u001b[0m         \"\"\"\n\u001b[1;32m      4\u001b[0m         \u001b[0mDo\u001b[0m \u001b[0;32mnot\u001b[0m \u001b[0;32mreturn\u001b[0m \u001b[0manything\u001b[0m\u001b[0;34m,\u001b[0m \u001b[0mmodify\u001b[0m \u001b[0mboard\u001b[0m \u001b[0;32min\u001b[0m\u001b[0;34m-\u001b[0m\u001b[0mplace\u001b[0m \u001b[0minstead\u001b[0m\u001b[0;34m.\u001b[0m\u001b[0;34m\u001b[0m\u001b[0;34m\u001b[0m\u001b[0m\n\u001b[1;32m      5\u001b[0m         \"\"\"\n",
      "\u001b[0;32m<ipython-input-1-4d64353166b0>\u001b[0m in \u001b[0;36mSolution\u001b[0;34m()\u001b[0m\n\u001b[1;32m      1\u001b[0m \u001b[0;32mclass\u001b[0m \u001b[0mSolution\u001b[0m\u001b[0;34m:\u001b[0m\u001b[0;34m\u001b[0m\u001b[0;34m\u001b[0m\u001b[0m\n\u001b[0;32m----> 2\u001b[0;31m     \u001b[0;32mdef\u001b[0m \u001b[0msolve\u001b[0m\u001b[0;34m(\u001b[0m\u001b[0mself\u001b[0m\u001b[0;34m,\u001b[0m \u001b[0mboard\u001b[0m\u001b[0;34m:\u001b[0m \u001b[0mList\u001b[0m\u001b[0;34m[\u001b[0m\u001b[0mList\u001b[0m\u001b[0;34m[\u001b[0m\u001b[0mstr\u001b[0m\u001b[0;34m]\u001b[0m\u001b[0;34m]\u001b[0m\u001b[0;34m)\u001b[0m \u001b[0;34m->\u001b[0m \u001b[0;32mNone\u001b[0m\u001b[0;34m:\u001b[0m\u001b[0;34m\u001b[0m\u001b[0;34m\u001b[0m\u001b[0m\n\u001b[0m\u001b[1;32m      3\u001b[0m         \"\"\"\n\u001b[1;32m      4\u001b[0m         \u001b[0mDo\u001b[0m \u001b[0;32mnot\u001b[0m \u001b[0;32mreturn\u001b[0m \u001b[0manything\u001b[0m\u001b[0;34m,\u001b[0m \u001b[0mmodify\u001b[0m \u001b[0mboard\u001b[0m \u001b[0;32min\u001b[0m\u001b[0;34m-\u001b[0m\u001b[0mplace\u001b[0m \u001b[0minstead\u001b[0m\u001b[0;34m.\u001b[0m\u001b[0;34m\u001b[0m\u001b[0;34m\u001b[0m\u001b[0m\n\u001b[1;32m      5\u001b[0m         \"\"\"\n",
      "\u001b[0;31mNameError\u001b[0m: name 'List' is not defined"
     ]
    }
   ],
   "source": [
    "class Solution:\n",
    "    def solve(self, board: List[List[str]]) -> None:\n",
    "        \"\"\"\n",
    "        Do not return anything, modify board in-place instead.\n",
    "        \"\"\"\n",
    "        \n",
    "        m = len(board)\n",
    "        n = len(board[0])\n",
    "        \n",
    "        seen = [[0 for j in range(n)] for i in range(m)]\n",
    "        \n",
    "        #do left border\n",
    "        for i in range(m):\n",
    "            if board[i][0] == 'O':\n",
    "                self.dfs_board(board, m, n, i, 0, seen)\n",
    "        #do top border\n",
    "        for j in range(1, n):\n",
    "            if board[0][j] == 'O':\n",
    "                self.dfs_board(board, m, n, 0, j, seen)\n",
    "        #right side\n",
    "        for k in range(1, m):\n",
    "            if board[k][-1] == 'O':\n",
    "                self.dfs_board(board, m, n, k, n - 1, seen)\n",
    "                \n",
    "        #do bottom border\n",
    "        for j in range(1, n - 1):\n",
    "            if board[-1][j] == 'O':\n",
    "                self.dfs_board(board, m, n, m - 1, j, seen)\n",
    "        \n",
    "        print(seen)\n",
    "        for i in range(1, m - 1):\n",
    "            for j in range(1, n - 1):\n",
    "                if board[i][j] == 'O' and not seen[i][j]:\n",
    "                    board[i][j] = 'X'\n",
    "    \n",
    "    def dfs_board(self, board, m, n, i, j, seen):\n",
    "        \n",
    "        seen[i][j] = 1\n",
    "        dir_list = [(-1, 0), (1,0), (0,1), (0, -1)]\n",
    "        for di, dj in dir_list:\n",
    "            cand_i, cand_j = i + di, j + dj\n",
    "            \n",
    "            if 0 <= cand_i < m and 0 <= cand_j < n and board[cand_i][cand_j] == 'O' and seen[cand_i][cand_j] != 1:\n",
    "                self.dfs_board(board, m, n, cand_i, cand_j, seen)\n",
    "        \n",
    "    \n",
    " "
   ]
  },
  {
   "cell_type": "code",
   "execution_count": 5,
   "metadata": {},
   "outputs": [
    {
     "name": "stdout",
     "output_type": "stream",
     "text": [
      "[(0, 0), (0, 0), (0, 1), (0, 2), (0, 3), (0, 4), (0, 4), (1, 0), (1, 4), (2, 0), (2, 4), (3, 0), (3, 4), (4, 0), (4, 0), (4, 1), (4, 2), (4, 3), (4, 4), (4, 4)]\n"
     ]
    }
   ],
   "source": [
    "from itertools import product\n",
    "ROWS = 5\n",
    "COLS = 5\n",
    "borders = list(product(range(ROWS), [0, COLS-1])) \\\n",
    "                + list(product([0, ROWS-1], range(COLS)))\n",
    "print(sorted(borders))"
   ]
  },
  {
   "cell_type": "code",
   "execution_count": null,
   "metadata": {},
   "outputs": [],
   "source": []
  }
 ],
 "metadata": {
  "kernelspec": {
   "display_name": "Python 3",
   "language": "python",
   "name": "python3"
  },
  "language_info": {
   "codemirror_mode": {
    "name": "ipython",
    "version": 3
   },
   "file_extension": ".py",
   "mimetype": "text/x-python",
   "name": "python",
   "nbconvert_exporter": "python",
   "pygments_lexer": "ipython3",
   "version": "3.6.9"
  }
 },
 "nbformat": 4,
 "nbformat_minor": 4
}
