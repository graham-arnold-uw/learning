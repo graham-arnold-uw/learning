{
 "cells": [
  {
   "cell_type": "markdown",
   "metadata": {},
   "source": [
    "https://leetcode.com/problems/remove-all-adjacent-duplicates-in-string-ii/"
   ]
  },
  {
   "cell_type": "markdown",
   "metadata": {},
   "source": [
    "# First attempt - works but TIME LIMIT EXCEEDED"
   ]
  },
  {
   "cell_type": "code",
   "execution_count": null,
   "metadata": {},
   "outputs": [],
   "source": [
    "class Solution:\n",
    "    def removeDuplicates(self, s: str, k: int) -> str:\n",
    "        n = len(s)\n",
    "        \n",
    "        removed = [0 for i in range(n)]\n",
    "        \n",
    "        \n",
    "        self.find_candidates(s, removed, k)\n",
    "        \n",
    "        res = [s[i] for i in range(n) if removed[i] == 0]\n",
    "        return \"\".join(res)\n",
    "    \n",
    "        \n",
    "        \n",
    "        #cut down string based on removed data\n",
    "        \n",
    "    \n",
    "    def find_candidates(self, s, removed, k):\n",
    "        span = 0\n",
    "        ws = we = 0\n",
    "        n = len(s)\n",
    "        #removed = []\n",
    "        \n",
    "        while we < n:\n",
    "            base = s[ws]\n",
    "            \n",
    "            if span == k:\n",
    "                we -= 1\n",
    "                while we >= ws:\n",
    "                    if removed[we] == 0 and s[we] == base:\n",
    "                        removed[we] = 1\n",
    "                    we -= 1\n",
    "                ws = we = 0\n",
    "                span = 0\n",
    "            \n",
    "            elif removed[we] == 1:\n",
    "                we += 1\n",
    "            elif s[we] == base:\n",
    "                span += 1\n",
    "                we += 1\n",
    "            else:\n",
    "                ws = we\n",
    "                span = 0\n",
    "                \n",
    "        if span == k:\n",
    "            we -= 1\n",
    "            while we >= ws:\n",
    "                    if removed[we] == 0 and s[we] == base:\n",
    "                        removed[we] = 1\n",
    "                    we -= 1\n",
    "            \n",
    "            "
   ]
  },
  {
   "cell_type": "code",
   "execution_count": 4,
   "metadata": {},
   "outputs": [
    {
     "name": "stdout",
     "output_type": "stream",
     "text": [
      "HO WORLD\n"
     ]
    }
   ],
   "source": [
    "s = 'HELLO WORLD'\n",
    "print(s[:3-2] + s[3 + 1:])"
   ]
  },
  {
   "cell_type": "code",
   "execution_count": 5,
   "metadata": {},
   "outputs": [
    {
     "name": "stdout",
     "output_type": "stream",
     "text": [
      "{'cat'}\n"
     ]
    }
   ],
   "source": [
    "words = {'cat','dog'}\n",
    "test = words - {'dog'}\n",
    "print(test)"
   ]
  },
  {
   "cell_type": "code",
   "execution_count": null,
   "metadata": {},
   "outputs": [],
   "source": []
  }
 ],
 "metadata": {
  "kernelspec": {
   "display_name": "Python 3",
   "language": "python",
   "name": "python3"
  },
  "language_info": {
   "codemirror_mode": {
    "name": "ipython",
    "version": 3
   },
   "file_extension": ".py",
   "mimetype": "text/x-python",
   "name": "python",
   "nbconvert_exporter": "python",
   "pygments_lexer": "ipython3",
   "version": "3.6.9"
  }
 },
 "nbformat": 4,
 "nbformat_minor": 4
}
