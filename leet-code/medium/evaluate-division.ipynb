{
 "cells": [
  {
   "cell_type": "markdown",
   "metadata": {},
   "source": [
    "https://leetcode.com/explore/featured/card/google/61/trees-and-graphs/331/"
   ]
  },
  {
   "cell_type": "code",
   "execution_count": null,
   "metadata": {},
   "outputs": [],
   "source": [
    "from collections import deque\n",
    "class Solution:\n",
    "    def calcEquation(self, equations: List[List[str]], values: List[float], queries: List[List[str]]) -> List[float]:\n",
    "        \n",
    "        graph = self.build_graph(equations, values)\n",
    "        res = []\n",
    "        num_queries = len(queries)\n",
    "        \n",
    "        for i in range(num_queries):\n",
    "            num, denom = queries[i]\n",
    "            if num not in graph or denom not in graph:\n",
    "                res.append(-1)\n",
    "            elif num == denom:\n",
    "                res.append(1)\n",
    "            else:\n",
    "                path_product = self.search_denom(graph, num, denom)\n",
    "                res.append(path_product)\n",
    "        \n",
    "        return res\n",
    "    \n",
    "    def search_denom(self, graph, num, denom):\n",
    "        seen = set()\n",
    "        q = deque()\n",
    "        q.append((num, 1))\n",
    "        seen.add(num)\n",
    "        \n",
    "        while len(q) > 0:\n",
    "            curr, path_product = q.popleft()\n",
    "            \n",
    "            if curr == denom:\n",
    "                return path_product\n",
    "            \n",
    "            neighs = graph[curr]\n",
    "            \n",
    "            for n, w in neighs:\n",
    "                if n not in seen:\n",
    "                    nw = path_product * w\n",
    "                    q.append((n,nw))\n",
    "                    seen.add(n)\n",
    "        \n",
    "        return -1\n",
    "                    \n",
    "    def build_graph(self, equations, values):\n",
    "        num_equations = len(equations)\n",
    "        \n",
    "        g = defaultdict(list)\n",
    "        \n",
    "        for i in range(num_equations):\n",
    "            num, denom = equations[i]\n",
    "            g[num].append((denom, values[i]))\n",
    "            g[denom].append((num, 1/values[i]))\n",
    "            \n",
    "        return g\n",
    "        "
   ]
  }
 ],
 "metadata": {
  "kernelspec": {
   "display_name": "Python 3",
   "language": "python",
   "name": "python3"
  },
  "language_info": {
   "codemirror_mode": {
    "name": "ipython",
    "version": 3
   },
   "file_extension": ".py",
   "mimetype": "text/x-python",
   "name": "python",
   "nbconvert_exporter": "python",
   "pygments_lexer": "ipython3",
   "version": "3.6.9"
  }
 },
 "nbformat": 4,
 "nbformat_minor": 4
}
