{
 "cells": [
  {
   "cell_type": "markdown",
   "metadata": {},
   "source": [
    "https://leetcode.com/problems/minimum-remove-to-make-valid-parentheses/"
   ]
  },
  {
   "cell_type": "code",
   "execution_count": null,
   "metadata": {},
   "outputs": [],
   "source": [
    "from collections import deque\n",
    "class Solution:\n",
    "    def minRemoveToMakeValid(self, s: str) -> str:\n",
    "        \n",
    "        n = len(s)\n",
    "        active = [1 for i in range(n)]\n",
    "        opened = deque()\n",
    "        \n",
    "        for i in range(n):\n",
    "            if s[i] == '(':\n",
    "                opened.append(i)\n",
    "            elif s[i] == ')':\n",
    "                if len(opened) > 0:\n",
    "                    opened.pop()\n",
    "                else:\n",
    "                    active[i] = 0\n",
    "            \n",
    "        while len(opened) > 0:\n",
    "            unclosed = opened.pop()\n",
    "            active[unclosed] = 0\n",
    "            \n",
    "        \n",
    "        leftover = [s[i] for i in range(n) if active[i] == 1]\n",
    "        leftover_string = \"\".join(leftover)\n",
    "        return leftover_string\n",
    "        "
   ]
  },
  {
   "cell_type": "code",
   "execution_count": 1,
   "metadata": {},
   "outputs": [
    {
     "name": "stdout",
     "output_type": "stream",
     "text": [
      "['9001', 'hello.world']\n"
     ]
    }
   ],
   "source": [
    "s = '9001 hello.world'\n",
    "print(s.split(' '))"
   ]
  },
  {
   "cell_type": "code",
   "execution_count": null,
   "metadata": {},
   "outputs": [],
   "source": []
  }
 ],
 "metadata": {
  "kernelspec": {
   "display_name": "Python 3",
   "language": "python",
   "name": "python3"
  },
  "language_info": {
   "codemirror_mode": {
    "name": "ipython",
    "version": 3
   },
   "file_extension": ".py",
   "mimetype": "text/x-python",
   "name": "python",
   "nbconvert_exporter": "python",
   "pygments_lexer": "ipython3",
   "version": "3.6.9"
  }
 },
 "nbformat": 4,
 "nbformat_minor": 4
}
