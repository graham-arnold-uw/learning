{
 "cells": [
  {
   "cell_type": "markdown",
   "metadata": {},
   "source": [
    "https://leetcode.com/problems/time-based-key-value-store/"
   ]
  },
  {
   "cell_type": "markdown",
   "metadata": {},
   "source": [
    "# Simple solution, too slow searching"
   ]
  },
  {
   "cell_type": "code",
   "execution_count": null,
   "metadata": {},
   "outputs": [],
   "source": [
    "from collections import defaultdict\n",
    "class Entry:\n",
    "    \n",
    "    def __init__(self, time, value):\n",
    "        self.time = time\n",
    "        self.value = value\n",
    "\n",
    "class TimeMap:\n",
    "\n",
    "    def __init__(self):\n",
    "        self.entry_dict = defaultdict(list)\n",
    "        \n",
    "\n",
    "    def set(self, key: str, value: str, timestamp: int) -> None:\n",
    "        new_entry = Entry(timestamp, value)\n",
    "        self.entry_dict[key].append(new_entry)\n",
    "        \n",
    "\n",
    "    def get(self, key: str, timestamp: int) -> str:\n",
    "        avail_entries = self.entry_dict[key]\n",
    "        n = len(avail_entries)\n",
    "        if n == 0:\n",
    "            return \"\"\n",
    "        if avail_entries[0].time > timestamp:\n",
    "            return \"\"\n",
    "        \n",
    "        i = 0\n",
    "        while i < n and avail_entries[i].time <= timestamp:\n",
    "            i += 1\n",
    "        \n",
    "        i -= 1\n",
    "        ret = avail_entries[i]\n",
    "        \n",
    "        return ret.value\n",
    "\n",
    "# Your TimeMap object will be instantiated and called as such:\n",
    "# obj = TimeMap()\n",
    "# obj.set(key,value,timestamp)\n",
    "# param_2 = obj.get(key,timestamp)"
   ]
  },
  {
   "cell_type": "markdown",
   "metadata": {},
   "source": [
    "# Better Solution - Using Binary Search"
   ]
  },
  {
   "cell_type": "code",
   "execution_count": null,
   "metadata": {},
   "outputs": [],
   "source": [
    "from collections import defaultdict\n",
    "class Entry:\n",
    "    \n",
    "    def __init__(self, time, value):\n",
    "        self.time = time\n",
    "        self.value = value\n",
    "\n",
    "class TimeMap:\n",
    "\n",
    "    def __init__(self):\n",
    "        self.entry_dict = defaultdict(list)\n",
    "        \n",
    "\n",
    "    def set(self, key: str, value: str, timestamp: int) -> None:\n",
    "        new_entry = Entry(timestamp, value)\n",
    "        self.entry_dict[key].append(new_entry)\n",
    "    \n",
    "        \n",
    "\n",
    "    def get(self, key: str, timestamp: int) -> str:\n",
    "        avail_entries = self.entry_dict[key]\n",
    "        n = len(avail_entries)\n",
    "        if n == 0:\n",
    "            return \"\"\n",
    "        if avail_entries[0].time > timestamp:\n",
    "            return \"\"\n",
    "        \n",
    "        if n == 1:\n",
    "            return avail_entries[0].value\n",
    "        \n",
    "        \n",
    "        ret = self.binary_search(avail_entries, timestamp, 0, n - 1)\n",
    "        \n",
    "        return ret\n",
    "    \n",
    "    def binary_search(self, entries, time, left, right):    \n",
    "        if right - left < 20:\n",
    "            i = left\n",
    "            while i <= right and entries[i].time <= time:\n",
    "                i += 1\n",
    "\n",
    "            i -= 1\n",
    "            return entries[i].value\n",
    "                    \n",
    "        mid = left + (right - left) // 2\n",
    "        \n",
    "        mid_entry = entries[mid]\n",
    "        \n",
    "        if mid_entry.time == time:\n",
    "            return mid_entry.value\n",
    "        elif mid_entry.time < time:\n",
    "            res = self.binary_search(entries, time, mid, right)\n",
    "        else:\n",
    "            res = self.binary_search(entries, time, left, mid)\n",
    "        \n",
    "        return res\n",
    "\n",
    "# Your TimeMap object will be instantiated and called as such:\n",
    "# obj = TimeMap()\n",
    "# obj.set(key,value,timestamp)\n",
    "# param_2 = obj.get(key,timestamp)"
   ]
  }
 ],
 "metadata": {
  "kernelspec": {
   "display_name": "Python 3",
   "language": "python",
   "name": "python3"
  },
  "language_info": {
   "codemirror_mode": {
    "name": "ipython",
    "version": 3
   },
   "file_extension": ".py",
   "mimetype": "text/x-python",
   "name": "python",
   "nbconvert_exporter": "python",
   "pygments_lexer": "ipython3",
   "version": "3.6.9"
  }
 },
 "nbformat": 4,
 "nbformat_minor": 4
}
