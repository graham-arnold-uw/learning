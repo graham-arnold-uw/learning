{
 "cells": [
  {
   "cell_type": "markdown",
   "metadata": {},
   "source": [
    "https://leetcode.com/problems/subsets/"
   ]
  },
  {
   "cell_type": "code",
   "execution_count": null,
   "metadata": {},
   "outputs": [],
   "source": [
    "class Solution:\n",
    "    def subsets(self, nums: List[int]) -> List[List[int]]:\n",
    "    \n",
    "        def subsets_helper(nums, index, curr_path):\n",
    "\n",
    "            global_results.append(curr_path.copy())\n",
    "            for j in range(index, len(nums)):\n",
    "\n",
    "                curr_path.append(nums[j])\n",
    "                #global_results.append(curr_path.copy())\n",
    "                subsets_helper(nums, j + 1, curr_path)\n",
    "                curr_path.pop()\n",
    "\n",
    "        global_results = []\n",
    "        n = len(nums)\n",
    "        curr_path = []\n",
    "        subsets_helper(nums, 0, curr_path)\n",
    "\n",
    "        return global_results"
   ]
  },
  {
   "cell_type": "markdown",
   "metadata": {},
   "source": [
    "# Another way, cycling through length in main method"
   ]
  },
  {
   "cell_type": "code",
   "execution_count": null,
   "metadata": {},
   "outputs": [],
   "source": [
    "def all_subset(nums):\n",
    "    \n",
    "    def combo_helper(index, path):\n",
    "        if len(path) == k:\n",
    "            global_res.append(path.copy())\n",
    "            return\n",
    "        \n",
    "        for i in range(index, n):\n",
    "            path.append(nums[i])\n",
    "            combo_helper(i + 1, path)\n",
    "            path.pop()\n",
    "    \n",
    "    global_res = []\n",
    "    n = len(nums)\n",
    "    for k in range(n + 1):\n",
    "        path = []\n",
    "        combo_helper(0, path)\n",
    "    return global_res\n",
    "    "
   ]
  }
 ],
 "metadata": {
  "kernelspec": {
   "display_name": "Python 3",
   "language": "python",
   "name": "python3"
  },
  "language_info": {
   "codemirror_mode": {
    "name": "ipython",
    "version": 3
   },
   "file_extension": ".py",
   "mimetype": "text/x-python",
   "name": "python",
   "nbconvert_exporter": "python",
   "pygments_lexer": "ipython3",
   "version": "3.6.9"
  }
 },
 "nbformat": 4,
 "nbformat_minor": 4
}
