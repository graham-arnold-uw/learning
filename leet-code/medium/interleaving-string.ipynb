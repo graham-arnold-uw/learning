{
 "cells": [
  {
   "cell_type": "markdown",
   "metadata": {},
   "source": [
    "https://leetcode.com/problems/interleaving-string/"
   ]
  },
  {
   "cell_type": "code",
   "execution_count": null,
   "metadata": {},
   "outputs": [],
   "source": [
    "from collections import defaultdict\n",
    "\n",
    "class Solution:\n",
    "    def isInterleave(self, s1: str, s2: str, s3: str) -> bool:\n",
    "        s1_len = len(s1)\n",
    "        s2_len = len(s2)\n",
    "        s3_len = len(s3)\n",
    "        \n",
    "        if s3_len != s1_len + s2_len:\n",
    "            return False\n",
    "        \n",
    "        memo = defaultdict(int)\n",
    "        \n",
    "        res = self.inter_helper(s1,s2,s3,0,0,0, memo)\n",
    "        \n",
    "        return res\n",
    "    \n",
    "    def inter_helper(self, s1, s2, s3, i, j, k, memo):\n",
    "        if i == len(s1):\n",
    "            #print('hit1')\n",
    "            return s2[j:] == s3[k:]\n",
    "        \n",
    "        if j == len(s2):\n",
    "            #print('hit2')\n",
    "            return s1[i:] == s3[k:]\n",
    "        \n",
    "        if (i,j) in memo:\n",
    "            #print('hit3')\n",
    "            return bool(memo[(i,j)])\n",
    "        \n",
    "        res = False\n",
    "        \n",
    "        if (s3[k] == s1[i] and self.inter_helper(s1,s2,s3,i+1,j,k+1,memo)) or (s3[k] == s2[j] and self.inter_helper(s1,s2,s3,i,j+1,k+1,memo)):\n",
    "            #print('hit4')\n",
    "            res = True\n",
    "        \n",
    "        if res:\n",
    "            memo[(i,j)] = 1\n",
    "        else:\n",
    "            memo[(i,j)] = 0\n",
    "        #print('hit5')\n",
    "        return res\n",
    "        \n",
    "            \n",
    "            \n",
    "        "
   ]
  }
 ],
 "metadata": {
  "kernelspec": {
   "display_name": "Python 3",
   "language": "python",
   "name": "python3"
  },
  "language_info": {
   "codemirror_mode": {
    "name": "ipython",
    "version": 3
   },
   "file_extension": ".py",
   "mimetype": "text/x-python",
   "name": "python",
   "nbconvert_exporter": "python",
   "pygments_lexer": "ipython3",
   "version": "3.6.9"
  }
 },
 "nbformat": 4,
 "nbformat_minor": 4
}
