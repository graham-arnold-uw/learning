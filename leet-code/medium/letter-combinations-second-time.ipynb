{
 "cells": [
  {
   "cell_type": "markdown",
   "metadata": {},
   "source": [
    "https://leetcode.com/explore/interview/card/google/62/recursion-4/3078/"
   ]
  },
  {
   "cell_type": "code",
   "execution_count": null,
   "metadata": {},
   "outputs": [],
   "source": [
    "class Solution:\n",
    "    def letterCombinations(self, digits: str) -> List[str]:\n",
    "        \n",
    "        n = len(digits)\n",
    "        #digits = list(digits)\n",
    "        \n",
    "        dig_map = {2 : ['a','b','c'] , 3 : ['d','e','f'] , 4 : ['g','h','i'], 5 : ['j','k','l'], \n",
    "                   6 : ['m','n','o'], 7 : ['p','q','r', 's'], 8 : ['t','u','v'] , 9 : ['w','x','y','z']}\n",
    "    \n",
    "    \n",
    "        def letter_helper(digits, i, n, dig_map, path):\n",
    "            #print(f\"processing digit {i}\")\n",
    "            if i == n:\n",
    "                return global_res.append(\"\".join(path))\n",
    "            \n",
    "\n",
    "            curr_dig = int(digits[i])\n",
    "            opts = dig_map[curr_dig]\n",
    "            \n",
    "            for o in opts:\n",
    "                path.append(o)\n",
    "                letter_helper(digits, i + 1, n, dig_map, path)\n",
    "                path.pop()\n",
    "                \n",
    "        if n == 0:\n",
    "            return []\n",
    "        global_res = []\n",
    "        path = []\n",
    "        letter_helper(digits, 0, n, dig_map, path)\n",
    "        \n",
    "        return global_res"
   ]
  }
 ],
 "metadata": {
  "kernelspec": {
   "display_name": "Python 3",
   "language": "python",
   "name": "python3"
  },
  "language_info": {
   "codemirror_mode": {
    "name": "ipython",
    "version": 3
   },
   "file_extension": ".py",
   "mimetype": "text/x-python",
   "name": "python",
   "nbconvert_exporter": "python",
   "pygments_lexer": "ipython3",
   "version": "3.6.9"
  }
 },
 "nbformat": 4,
 "nbformat_minor": 4
}
