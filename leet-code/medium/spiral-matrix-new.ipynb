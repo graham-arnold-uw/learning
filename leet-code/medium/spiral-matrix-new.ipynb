{
 "cells": [
  {
   "cell_type": "code",
   "execution_count": 9,
   "metadata": {},
   "outputs": [],
   "source": [
    "def spiral_print(matrix):\n",
    "    m = len(matrix)\n",
    "    n = len(matrix[0])\n",
    "\n",
    "    if m == 1:\n",
    "        return matrix[0]\n",
    "\n",
    "    if n == 1:\n",
    "        res = []\n",
    "        for row in matrix:\n",
    "            res.append(row[0])\n",
    "        return res\n",
    "\n",
    "    r_start = c_start = 0\n",
    "    r_end = m - 1\n",
    "    c_end = n - 1\n",
    "    res = []\n",
    "    while len(res) < m * n:\n",
    "        #append top row els \n",
    "        for i in range(c_start, c_end + 1):\n",
    "            res.append(matrix[r_start][i])\n",
    "\n",
    "        #append right side els   \n",
    "        for j in range(r_start + 1, r_end + 1):\n",
    "            res.append(matrix[j][c_end])\n",
    "\n",
    "\n",
    "        #append bottom row els\n",
    "        if r_end != r_start:\n",
    "            for k in range(c_end - 1, c_start - 1, -1):\n",
    "                res.append(matrix[r_end][k])\n",
    "\n",
    "        #append left side els\n",
    "        if c_start != c_end:\n",
    "            for l in range(r_end - 1, r_start, -1):\n",
    "                res.append(matrix[l][c_start])\n",
    "\n",
    "        r_start += 1\n",
    "        c_start += 1\n",
    "        c_end -= 1\n",
    "        r_end -= 1\n",
    "\n",
    "\n",
    "    return res\n",
    "\n",
    "\n"
   ]
  },
  {
   "cell_type": "code",
   "execution_count": 10,
   "metadata": {},
   "outputs": [
    {
     "name": "stdout",
     "output_type": "stream",
     "text": [
      "[1, 2, 3, 4, 8, 12, 11, 10, 9, 5, 6, 7]\n"
     ]
    }
   ],
   "source": [
    "m1 = [[1,2,3,4],[5,6,7,8],[9,10,11,12]]\n",
    "\n",
    "print(spiral_print(m1))"
   ]
  },
  {
   "cell_type": "code",
   "execution_count": 11,
   "metadata": {},
   "outputs": [
    {
     "name": "stdout",
     "output_type": "stream",
     "text": [
      "[[1, 2, 3, 4], [5, 6, 7, 8], [9, 10, 11, 12]]\n"
     ]
    }
   ],
   "source": [
    "print(m1[:])"
   ]
  },
  {
   "cell_type": "code",
   "execution_count": 12,
   "metadata": {},
   "outputs": [
    {
     "name": "stdout",
     "output_type": "stream",
     "text": [
      "3\n"
     ]
    }
   ],
   "source": [
    "t = 3\n",
    "\n",
    "if 0 <= t <= 10:\n",
    "    print(t)"
   ]
  },
  {
   "cell_type": "code",
   "execution_count": null,
   "metadata": {},
   "outputs": [],
   "source": []
  }
 ],
 "metadata": {
  "kernelspec": {
   "display_name": "Python 3",
   "language": "python",
   "name": "python3"
  },
  "language_info": {
   "codemirror_mode": {
    "name": "ipython",
    "version": 3
   },
   "file_extension": ".py",
   "mimetype": "text/x-python",
   "name": "python",
   "nbconvert_exporter": "python",
   "pygments_lexer": "ipython3",
   "version": "3.6.9"
  }
 },
 "nbformat": 4,
 "nbformat_minor": 4
}
