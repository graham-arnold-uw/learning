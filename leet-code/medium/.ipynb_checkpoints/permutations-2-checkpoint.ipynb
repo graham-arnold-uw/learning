{
 "cells": [
  {
   "cell_type": "markdown",
   "metadata": {},
   "source": [
    "https://leetcode.com/problems/permutations-ii/submissions/"
   ]
  },
  {
   "cell_type": "code",
   "execution_count": null,
   "metadata": {},
   "outputs": [],
   "source": [
    "from collections import Counter\n",
    "\n",
    "class Solution:\n",
    "    def permuteUnique(self, nums: List[int]) -> List[List[int]]:\n",
    "    \n",
    "        \n",
    "        def backtrack(path, num_freqs):\n",
    "            if len(path) == len(nums):\n",
    "                global_res.append(path.copy())\n",
    "                return\n",
    "            \n",
    "            for num in num_freqs:\n",
    "                if num_freqs[num] > 0:\n",
    "                    path.append(num)\n",
    "                    num_freqs[num] -= 1\n",
    "                    backtrack(path, num_freqs)\n",
    "                    path.pop()\n",
    "                    num_freqs[num] += 1\n",
    "                \n",
    "        \n",
    "        \n",
    "        global_res = []\n",
    "        num_freqs = Counter(nums)\n",
    "        n = len(nums)\n",
    "        backtrack([], num_freqs)\n",
    "        return global_res\n",
    "        "
   ]
  }
 ],
 "metadata": {
  "kernelspec": {
   "display_name": "Python 3",
   "language": "python",
   "name": "python3"
  },
  "language_info": {
   "codemirror_mode": {
    "name": "ipython",
    "version": 3
   },
   "file_extension": ".py",
   "mimetype": "text/x-python",
   "name": "python",
   "nbconvert_exporter": "python",
   "pygments_lexer": "ipython3",
   "version": "3.6.9"
  }
 },
 "nbformat": 4,
 "nbformat_minor": 4
}
