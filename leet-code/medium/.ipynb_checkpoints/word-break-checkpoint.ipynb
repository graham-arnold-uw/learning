{
 "cells": [
  {
   "cell_type": "markdown",
   "metadata": {},
   "source": [
    "https://leetcode.com/problems/word-break/"
   ]
  },
  {
   "cell_type": "code",
   "execution_count": null,
   "metadata": {},
   "outputs": [],
   "source": [
    "from collections import defaultdict\n",
    "\n",
    "class Solution:\n",
    "    def wordBreak(self, s: str, wordDict: List[str]) -> bool:\n",
    "        \n",
    "        \n",
    "        def break_helper(s, words, word_locs, i, memo):\n",
    "            if i >= len(s):\n",
    "                return True\n",
    "            \n",
    "            if i in memo:\n",
    "                return memo[i]\n",
    "            \n",
    "            if i in word_locs:\n",
    "                candidates = word_locs[i]\n",
    "            else:\n",
    "                memo[i] = False\n",
    "                return False\n",
    "            \n",
    "            for cand in candidates:\n",
    "                c_len = len(cand)\n",
    "                res = break_helper(s, words, word_locs, i + c_len, memo)\n",
    "                if res:\n",
    "                    memo[i] = True\n",
    "                    return True\n",
    "            memo[i] = False\n",
    "            return False\n",
    "        \n",
    "        def get_word_locations(s, words):\n",
    "            l_dict = defaultdict(list)\n",
    "            \n",
    "            for w in words:\n",
    "                i = 0\n",
    "                wl = len(w)\n",
    "                while i <= len(s) - wl:\n",
    "                    if s[i] == w[0]:\n",
    "                        if check_match(s, w, i):\n",
    "                            l_dict[i].append(w)\n",
    "                    i += 1\n",
    "            return l_dict\n",
    "        \n",
    "        def check_match(s, w, i):\n",
    "            n = len(s)\n",
    "            wl = len(w)\n",
    "            \n",
    "            if s[i:i+wl] == w:\n",
    "                return True\n",
    "            return False\n",
    "           \n",
    "        word_locations = get_word_locations(s, wordDict)\n",
    "        memo = {}\n",
    "        res = break_helper(s, wordDict, word_locations, 0, memo)\n",
    "        return res\n",
    "        "
   ]
  }
 ],
 "metadata": {
  "kernelspec": {
   "display_name": "Python 3",
   "language": "python",
   "name": "python3"
  },
  "language_info": {
   "codemirror_mode": {
    "name": "ipython",
    "version": 3
   },
   "file_extension": ".py",
   "mimetype": "text/x-python",
   "name": "python",
   "nbconvert_exporter": "python",
   "pygments_lexer": "ipython3",
   "version": "3.6.9"
  }
 },
 "nbformat": 4,
 "nbformat_minor": 4
}
