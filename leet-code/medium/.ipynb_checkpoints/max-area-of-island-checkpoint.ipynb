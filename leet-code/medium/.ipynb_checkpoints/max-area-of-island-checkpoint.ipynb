{
 "cells": [
  {
   "cell_type": "markdown",
   "metadata": {},
   "source": [
    "https://leetcode.com/problems/max-area-of-island/"
   ]
  },
  {
   "cell_type": "code",
   "execution_count": null,
   "metadata": {},
   "outputs": [],
   "source": [
    "from collections import deque\n",
    "\n",
    "class Solution:\n",
    "    def maxAreaOfIsland(self, grid: List[List[int]]) -> int:\n",
    "        m = len(grid)\n",
    "        n = len(grid[0])\n",
    "        \n",
    "        #self.nice_array_print(grid)\n",
    "    \n",
    "        visited = [[0 for j in range(n)] for i in range(m)]\n",
    "        \n",
    "        max_seen = 0\n",
    "        \n",
    "        \n",
    "        for i in range(m):\n",
    "            for j in range(n):\n",
    "                if grid[i][j] == 1 and visited[i][j] != 1:\n",
    "                    curr_island_size = self.island_bfs(grid, visited, m, n, i, j)\n",
    "                    #print(f\"i = {i} j = {j}\")\n",
    "                    #print(curr_island_size)\n",
    "                    #self.nice_array_print(visited)\n",
    "                    if curr_island_size > max_seen:\n",
    "                        pass\n",
    "                    max_seen = max(max_seen, curr_island_size)\n",
    "        \n",
    "        return max_seen\n",
    "    \n",
    "    \n",
    "    \n",
    "    def island_bfs(self, grid, visited, m, n, i, j):\n",
    "        #print(f\"processing BFS for island {i} {j}\")\n",
    "        q = deque()\n",
    "        island_size = 0\n",
    "        q.append((i,j))\n",
    "        visited[i][j] = 1\n",
    "        dirs = [(-1, 0), (1, 0), (0, -1), (0, 1)]\n",
    "        \n",
    "        while len(q) > 0:\n",
    "            ci, cj = q.popleft()\n",
    "            island_size += 1\n",
    "            \n",
    "            #print(f\"processing plot ci: {ci} cj: {cj}\")\n",
    "            for di, dj in dirs:\n",
    "                ni, nj = ci + di, cj + dj\n",
    "                \n",
    "                if ni >= 0 and ni < m and nj >= 0 and nj < n and grid[ni][nj] == 1 and visited[ni][nj] != 1:\n",
    "                    q.append((ni, nj))\n",
    "                    visited[ni][nj] = 1\n",
    "            \n",
    "        #print(f\"ending current island, size is: {island_size}\")\n",
    "        return island_size\n",
    "            \n",
    "    def nice_array_print(self, mat):\n",
    "        m = len(mat)\n",
    "        n = len(mat[0])\n",
    "        \n",
    "        for i in range(m):\n",
    "            print(mat[i][:])\n",
    "        print()"
   ]
  }
 ],
 "metadata": {
  "kernelspec": {
   "display_name": "Python 3",
   "language": "python",
   "name": "python3"
  },
  "language_info": {
   "codemirror_mode": {
    "name": "ipython",
    "version": 3
   },
   "file_extension": ".py",
   "mimetype": "text/x-python",
   "name": "python",
   "nbconvert_exporter": "python",
   "pygments_lexer": "ipython3",
   "version": "3.6.9"
  }
 },
 "nbformat": 4,
 "nbformat_minor": 4
}
