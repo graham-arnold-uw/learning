{
 "cells": [
  {
   "cell_type": "markdown",
   "metadata": {},
   "source": [
    "https://leetcode.com/explore/interview/card/google/64/dynamic-programming-4/3088/"
   ]
  },
  {
   "cell_type": "code",
   "execution_count": null,
   "metadata": {},
   "outputs": [],
   "source": [
    "class Solution:\n",
    "    def coinChange(self, coins: List[int], amount: int) -> int:\n",
    "        \n",
    "        def coin_helper(coins, amount_left, memo):\n",
    "            if amount_left < 0:\n",
    "                #memo[amount_left] = -1\n",
    "                return -1\n",
    "            elif amount_left == 0:\n",
    "                #memo[amount_left] = 0\n",
    "                return 0\n",
    "            elif amount_left in memo:\n",
    "                return memo[amount_left]\n",
    "            \n",
    "            min_sub_result = float('inf')\n",
    "            for coin in coins:\n",
    "                sub_res = coin_helper(coins, amount_left - coin, memo)\n",
    "                if sub_res != -1:\n",
    "                    min_sub_result = min(min_sub_result, sub_res)\n",
    "            \n",
    "            if min_sub_result == float('inf'):\n",
    "                memo[amount_left] = -1\n",
    "                return -1\n",
    "            \n",
    "            memo[amount_left] = 1 + min_sub_result\n",
    "            return 1 + min_sub_result\n",
    "        \n",
    "        memo = {}\n",
    "        res = coin_helper(coins, amount, memo)\n",
    "        return res\n",
    "    "
   ]
  }
 ],
 "metadata": {
  "kernelspec": {
   "display_name": "Python 3",
   "language": "python",
   "name": "python3"
  },
  "language_info": {
   "codemirror_mode": {
    "name": "ipython",
    "version": 3
   },
   "file_extension": ".py",
   "mimetype": "text/x-python",
   "name": "python",
   "nbconvert_exporter": "python",
   "pygments_lexer": "ipython3",
   "version": "3.6.9"
  }
 },
 "nbformat": 4,
 "nbformat_minor": 4
}
