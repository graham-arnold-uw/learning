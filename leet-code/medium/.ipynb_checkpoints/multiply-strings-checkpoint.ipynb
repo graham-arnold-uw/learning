{
 "cells": [
  {
   "cell_type": "markdown",
   "metadata": {},
   "source": [
    "https://leetcode.com/problems/multiply-strings/submissions/"
   ]
  },
  {
   "cell_type": "code",
   "execution_count": null,
   "metadata": {},
   "outputs": [],
   "source": [
    "class Solution:\n",
    "    def multiply(self, num1: str, num2: str) -> str:\n",
    "        base = '0'\n",
    "        \n",
    "        n1_len = len(num1)\n",
    "        n2_len = len(num2)\n",
    "        \n",
    "        sum1 = sum2 = 0\n",
    "        pow1 = pow2 = 0\n",
    "        \n",
    "        for i in range(n1_len - 1, -1, -1):\n",
    "            curr_dig = ord(num1[i]) - ord(base)\n",
    "            sum1 += curr_dig * pow(10, pow1)\n",
    "            pow1 += 1\n",
    "            \n",
    "        for i in range(n2_len - 1, -1, -1):\n",
    "            curr_dig = ord(num2[i]) - ord(base)\n",
    "            sum2 += curr_dig * pow(10, pow2)\n",
    "            pow2 += 1\n",
    "            \n",
    "        \n",
    "        mult = sum1 * sum2\n",
    "        \n",
    "        str_res = ''\n",
    "        \n",
    "        if mult == 0:\n",
    "            return \"0\"\n",
    "        \n",
    "        while mult > 0:\n",
    "            dig = mult % 10\n",
    "            mult = mult // 10\n",
    "            \n",
    "            dig_char = chr(ord(base) + dig)\n",
    "            str_res = dig_char + str_res\n",
    "        \n",
    "        return str_res\n",
    "    \n",
    "            "
   ]
  }
 ],
 "metadata": {
  "kernelspec": {
   "display_name": "Python 3",
   "language": "python",
   "name": "python3"
  },
  "language_info": {
   "codemirror_mode": {
    "name": "ipython",
    "version": 3
   },
   "file_extension": ".py",
   "mimetype": "text/x-python",
   "name": "python",
   "nbconvert_exporter": "python",
   "pygments_lexer": "ipython3",
   "version": "3.6.9"
  }
 },
 "nbformat": 4,
 "nbformat_minor": 4
}
