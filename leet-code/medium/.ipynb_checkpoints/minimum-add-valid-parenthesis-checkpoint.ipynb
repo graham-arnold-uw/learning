{
 "cells": [
  {
   "cell_type": "markdown",
   "metadata": {},
   "source": [
    "https://leetcode.com/problems/minimum-add-to-make-parentheses-valid/"
   ]
  },
  {
   "cell_type": "code",
   "execution_count": null,
   "metadata": {},
   "outputs": [],
   "source": [
    "from collections import defaultdict\n",
    "\n",
    "class Solution:\n",
    "    def minAddToMakeValid(self, s: str) -> int:\n",
    "        n = len(s)\n",
    "        \n",
    "        q = deque()\n",
    "        count = 0 \n",
    "        for i in range(n):\n",
    "            if s[i] == '(':\n",
    "                q.append('(')\n",
    "            else:\n",
    "                if len(q) == 0:\n",
    "                    count += 1\n",
    "                else:\n",
    "                    q.popleft()\n",
    "        \n",
    "        count += len(q)\n",
    "        return count"
   ]
  }
 ],
 "metadata": {
  "kernelspec": {
   "display_name": "Python 3",
   "language": "python",
   "name": "python3"
  },
  "language_info": {
   "codemirror_mode": {
    "name": "ipython",
    "version": 3
   },
   "file_extension": ".py",
   "mimetype": "text/x-python",
   "name": "python",
   "nbconvert_exporter": "python",
   "pygments_lexer": "ipython3",
   "version": "3.6.9"
  }
 },
 "nbformat": 4,
 "nbformat_minor": 4
}
