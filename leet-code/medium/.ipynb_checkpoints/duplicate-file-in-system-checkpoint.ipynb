{
 "cells": [
  {
   "cell_type": "markdown",
   "metadata": {},
   "source": [
    "https://leetcode.com/problems/find-duplicate-file-in-system/"
   ]
  },
  {
   "cell_type": "code",
   "execution_count": null,
   "metadata": {},
   "outputs": [],
   "source": [
    "from collections import defaultdict\n",
    "class Solution:\n",
    "    def findDuplicate(self, paths: List[str]) -> List[List[str]]:\n",
    "        \n",
    "        content_dict = defaultdict(list)\n",
    "        \n",
    "        for path in paths:\n",
    "            root, *files = path.split(' ')\n",
    "            \n",
    "            for file in files:\n",
    "                fname, content = file.split('(')\n",
    "                content = content[:-1]\n",
    "                content_dict[content].append((root, fname))\n",
    "        \n",
    "        \n",
    "        out = []\n",
    "        for content in content_dict:\n",
    "            path_file = defaultdict(list)\n",
    "            pf_list = content_dict[content]\n",
    "            l = []\n",
    "            if len(pf_list) > 1:\n",
    "                for p, fn in pf_list:\n",
    "                    l.append(p + '/' + fn)\n",
    "\n",
    "                out.append(l)\n",
    "            \n",
    "        return out\n",
    "            "
   ]
  }
 ],
 "metadata": {
  "kernelspec": {
   "display_name": "Python 3",
   "language": "python",
   "name": "python3"
  },
  "language_info": {
   "codemirror_mode": {
    "name": "ipython",
    "version": 3
   },
   "file_extension": ".py",
   "mimetype": "text/x-python",
   "name": "python",
   "nbconvert_exporter": "python",
   "pygments_lexer": "ipython3",
   "version": "3.6.9"
  }
 },
 "nbformat": 4,
 "nbformat_minor": 4
}
