{
 "cells": [
  {
   "cell_type": "markdown",
   "metadata": {},
   "source": [
    "https://leetcode.com/problems/longest-substring-with-at-most-two-distinct-characters"
   ]
  },
  {
   "cell_type": "code",
   "execution_count": null,
   "metadata": {},
   "outputs": [],
   "source": [
    "from collections import defaultdict\n",
    "class Solution:\n",
    "    def lengthOfLongestSubstringTwoDistinct(self, s: str) -> int:\n",
    "        n = len(s)\n",
    "        num_distinct = 0\n",
    "        seen_freqs = defaultdict(int)\n",
    "        ws = we = 0\n",
    "        longest = 0\n",
    "        \n",
    "        while we < n:\n",
    "            curr_char = s[we]\n",
    "            seen_freqs[curr_char] += 1\n",
    "            \n",
    "            if seen_freqs[curr_char] == 1:\n",
    "                num_distinct += 1\n",
    "                \n",
    "            while num_distinct > 2:\n",
    "                beg_char = s[ws]\n",
    "                seen_freqs[beg_char] -= 1\n",
    "                if seen_freqs[beg_char] == 0:\n",
    "                    num_distinct -= 1\n",
    "                ws += 1\n",
    "            \n",
    "            window_len = we - ws + 1\n",
    "            longest = max(longest, window_len)\n",
    "            we += 1\n",
    "        \n",
    "        return longest\n",
    "        "
   ]
  }
 ],
 "metadata": {
  "kernelspec": {
   "display_name": "Python 3",
   "language": "python",
   "name": "python3"
  },
  "language_info": {
   "codemirror_mode": {
    "name": "ipython",
    "version": 3
   },
   "file_extension": ".py",
   "mimetype": "text/x-python",
   "name": "python",
   "nbconvert_exporter": "python",
   "pygments_lexer": "ipython3",
   "version": "3.6.9"
  }
 },
 "nbformat": 4,
 "nbformat_minor": 4
}
