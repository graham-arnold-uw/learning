{
 "cells": [
  {
   "cell_type": "markdown",
   "metadata": {},
   "source": [
    "https://leetcode.com/problems/letter-combinations-of-a-phone-number/"
   ]
  },
  {
   "cell_type": "code",
   "execution_count": null,
   "metadata": {},
   "outputs": [],
   "source": [
    "class Solution:\n",
    "    def letterCombinations(self, digits: str) -> List[str]:\n",
    "        \n",
    "        n = len(digits)\n",
    "        #digits = list(digits)\n",
    "        \n",
    "        dig_map = {2 : ['a','b','c'] , 3 : ['d','e','f'] , 4 : ['g','h','i'], 5 : ['j','k','l'], \n",
    "                   6 : ['m','n','o'], 7 : ['p','q','r', 's'], 8 : ['t','u','v'] , 9 : ['w','x','y','z']}\n",
    "    \n",
    "    \n",
    "        def letter_helper(digits, i, n, dig_map):\n",
    "            #print(f\"processing digit {i}\")\n",
    "            if i == n:\n",
    "                return []\n",
    "\n",
    "            curr_dig = int(digits[i])\n",
    "            opts = dig_map[curr_dig]\n",
    "\n",
    "            res = []\n",
    "\n",
    "            sub_res = letter_helper(digits, i+1, n, dig_map)\n",
    "            if len(sub_res) == 0:\n",
    "                return opts\n",
    "            else:\n",
    "                \n",
    "                for o in opts:\n",
    "\n",
    "                    o_combined = [o + sub_res[j] for j in range(len(sub_res))]\n",
    "\n",
    "                    res.extend(o_combined)\n",
    "\n",
    "            return res\n",
    "        \n",
    "        res = letter_helper(digits, 0, n, dig_map)\n",
    "        \n",
    "        return res"
   ]
  },
  {
   "cell_type": "markdown",
   "metadata": {},
   "source": [
    "# Back tracking solution"
   ]
  },
  {
   "cell_type": "code",
   "execution_count": null,
   "metadata": {},
   "outputs": [],
   "source": [
    "class Solution:\n",
    "    def letterCombinations(self, digits: str) -> List[str]:\n",
    "        # If the input is empty, immediately return an empty answer array\n",
    "        if len(digits) == 0: \n",
    "            return []\n",
    "        \n",
    "        # Map all the digits to their corresponding letters\n",
    "        letters = {\"2\": \"abc\", \"3\": \"def\", \"4\": \"ghi\", \"5\": \"jkl\", \n",
    "                   \"6\": \"mno\", \"7\": \"pqrs\", \"8\": \"tuv\", \"9\": \"wxyz\"}\n",
    "        \n",
    "        def backtrack(index, path):\n",
    "            # If the path is the same length as digits, we have a complete combination\n",
    "            if len(path) == len(digits):\n",
    "                combinations.append(\"\".join(path))\n",
    "                return # Backtrack\n",
    "            \n",
    "            # Get the letters that the current digit maps to, and loop through them\n",
    "            possible_letters = letters[digits[index]]\n",
    "            for letter in possible_letters:\n",
    "                # Add the letter to our current path\n",
    "                path.append(letter)\n",
    "                # Move on to the next digit\n",
    "                backtrack(index + 1, path)\n",
    "                # Backtrack by removing the letter before moving onto the next\n",
    "                path.pop()\n",
    "\n",
    "        # Initiate backtracking with an empty path and starting index of 0\n",
    "        combinations = []\n",
    "        backtrack(0, [])\n",
    "        return combinations"
   ]
  }
 ],
 "metadata": {
  "kernelspec": {
   "display_name": "Python 3",
   "language": "python",
   "name": "python3"
  },
  "language_info": {
   "codemirror_mode": {
    "name": "ipython",
    "version": 3
   },
   "file_extension": ".py",
   "mimetype": "text/x-python",
   "name": "python",
   "nbconvert_exporter": "python",
   "pygments_lexer": "ipython3",
   "version": "3.6.9"
  }
 },
 "nbformat": 4,
 "nbformat_minor": 4
}
