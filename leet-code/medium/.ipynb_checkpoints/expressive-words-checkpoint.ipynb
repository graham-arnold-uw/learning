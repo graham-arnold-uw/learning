{
 "cells": [
  {
   "cell_type": "markdown",
   "metadata": {},
   "source": [
    "https://leetcode.com/problems/expressive-words/"
   ]
  },
  {
   "cell_type": "code",
   "execution_count": null,
   "metadata": {},
   "outputs": [],
   "source": [
    "class Solution:\n",
    "    def expressiveWords(self, s: str, words: List[str]) -> int:\n",
    "        \n",
    "        ns = len(s)\n",
    "        \n",
    "        count = 0\n",
    "        \n",
    "        for query in words:\n",
    "            is_stretchy = self.check_stretch(s, query)\n",
    "            if is_stretchy:\n",
    "                count += 1\n",
    "        \n",
    "        return count\n",
    "    \n",
    "    def check_stretch(self, s, query):\n",
    "        \n",
    "        ns = len(s)\n",
    "        nq = len(query)\n",
    "        \n",
    "        si = 0\n",
    "        qi = 0\n",
    "        \n",
    "        while qi < nq and si < ns:\n",
    "            if s[si] != query[qi]:\n",
    "                return False\n",
    "            \n",
    "            ni = self.next_unique_char(s, si)\n",
    "            nqi = self.next_unique_char(query, qi)\n",
    "            \n",
    "           \n",
    "            #print()\n",
    "            jump_len_s = ni - si\n",
    "            jump_len_q = nqi - qi\n",
    "            #print(ni)\n",
    "            #print(nqi)\n",
    "            if jump_len_q > jump_len_s:\n",
    "                return False\n",
    "            elif jump_len_s > jump_len_q:\n",
    "                if jump_len_s < 3:\n",
    "                    #print(jump_len_s)\n",
    "                    #print(f\"s jump {si} to {ni}\")\n",
    "                    #print(f\"q jump {qi} to {nqi}\")\n",
    "            \n",
    "                    return False\n",
    "                \n",
    "            si = ni\n",
    "            qi = nqi\n",
    "            \n",
    "        \n",
    "        if qi == nq and si == ns:\n",
    "            return True\n",
    "        else:\n",
    "            print('ht')\n",
    "            return False\n",
    "        \n",
    "        \n",
    "    \n",
    "    def next_unique_char(self, s, i):\n",
    "        curr_char = s[i]\n",
    "        j = i\n",
    "        \n",
    "        while j < len(s) and s[j] == curr_char:\n",
    "            j += 1\n",
    "        \n",
    "        return j"
   ]
  }
 ],
 "metadata": {
  "kernelspec": {
   "display_name": "Python 3",
   "language": "python",
   "name": "python3"
  },
  "language_info": {
   "codemirror_mode": {
    "name": "ipython",
    "version": 3
   },
   "file_extension": ".py",
   "mimetype": "text/x-python",
   "name": "python",
   "nbconvert_exporter": "python",
   "pygments_lexer": "ipython3",
   "version": "3.6.9"
  }
 },
 "nbformat": 4,
 "nbformat_minor": 4
}
