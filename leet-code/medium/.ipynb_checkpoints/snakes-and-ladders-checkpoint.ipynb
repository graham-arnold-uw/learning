{
 "cells": [
  {
   "cell_type": "markdown",
   "metadata": {},
   "source": [
    "https://leetcode.com/problems/snakes-and-ladders/"
   ]
  },
  {
   "cell_type": "markdown",
   "metadata": {},
   "source": [
    "# Too slow recursive solution"
   ]
  },
  {
   "cell_type": "code",
   "execution_count": null,
   "metadata": {},
   "outputs": [],
   "source": [
    "class Solution:\n",
    "    def snakesAndLadders(self, board: List[List[int]]) -> int:\n",
    "        n = len(board)\n",
    "        \n",
    "        path = set()\n",
    "        memo = {}\n",
    "        min_moves = self.sl_helper(board, 1, n, path, memo)\n",
    "        return min_moves if min_moves < float('inf') else -1\n",
    "    \n",
    "    \n",
    "    def sl_helper(self, board, pos, n, path, memo):\n",
    "        \n",
    "        if pos == n * n:\n",
    "            return 0\n",
    "        \n",
    "        elif pos in memo:\n",
    "            return memo[pos]\n",
    "        \n",
    "        elif pos in path:\n",
    "            return float('inf')\n",
    "        \n",
    "        path.add(pos)\n",
    "        options = range(pos + 1, min(pos + n, n*n) + 1)\n",
    "        min_path = float('inf')\n",
    "        for opt in options:\n",
    "            i, j = self.convert_from_boust(opt, n)\n",
    "            if board[i][j] != -1:\n",
    "                min_next = self.sl_helper(board, board[i][j], n, path, memo)\n",
    "            else:\n",
    "                min_next = self.sl_helper(board, pos + 1, n, path, memo)\n",
    "            \n",
    "            min_path = min(min_path, min_next)\n",
    "        \n",
    "        path.remove(pos)\n",
    "        return min_path + 1 if min_path < float('inf') else float('inf')\n",
    "        \n",
    "        \n",
    "    def convert_to_boust(self, i, j, n):\n",
    "            rows_from_bottom = n - 1 - i\n",
    "\n",
    "            boust = 0\n",
    "            boust += (rows_from_bottom * n)\n",
    "\n",
    "            if rows_from_bottom % 2 == 0:\n",
    "                boust += j\n",
    "\n",
    "            else:\n",
    "                boust += n - 1 - j\n",
    "\n",
    "            boust += 1\n",
    "            return boust\n",
    "    \n",
    "    def convert_from_boust(self, b, n):\n",
    "        b -= 1\n",
    "\n",
    "        row_count = b // n\n",
    "        excess = b % n\n",
    "\n",
    "        row = n - 1 - row_count\n",
    "        if row_count % 2 != 0:\n",
    "            col = n - 1 - excess\n",
    "        else:\n",
    "            col = excess\n",
    "\n",
    "        return (row, col)\n"
   ]
  }
 ],
 "metadata": {
  "kernelspec": {
   "display_name": "Python 3",
   "language": "python",
   "name": "python3"
  },
  "language_info": {
   "codemirror_mode": {
    "name": "ipython",
    "version": 3
   },
   "file_extension": ".py",
   "mimetype": "text/x-python",
   "name": "python",
   "nbconvert_exporter": "python",
   "pygments_lexer": "ipython3",
   "version": "3.6.9"
  }
 },
 "nbformat": 4,
 "nbformat_minor": 4
}
