{
 "cells": [
  {
   "cell_type": "markdown",
   "metadata": {},
   "source": [
    "https://leetcode.com/problems/rotating-the-box/"
   ]
  },
  {
   "cell_type": "markdown",
   "metadata": {},
   "source": [
    "# First attempt, passed but slow"
   ]
  },
  {
   "cell_type": "code",
   "execution_count": null,
   "metadata": {},
   "outputs": [],
   "source": [
    "class Solution:\n",
    "    def rotateTheBox(self, box: List[List[str]]) -> List[List[str]]:\n",
    "        m = len(box)\n",
    "        n = len(box[0])\n",
    "        obj_map = {\"#\": 1, \".\": 0, \"*\": 2}\n",
    "        rev_map = dict(zip(obj_map.values(), obj_map.keys()))\n",
    "        binary_mat = self.get_binary_mat(box, m, n, obj_map)\n",
    "        \n",
    "       \n",
    "        self.apply_gravity(binary_mat, n, m)\n",
    "        \n",
    "      \n",
    "        for i in range(n):\n",
    "            for j in range(m):\n",
    "                binary_mat[i][j] = rev_map[binary_mat[i][j]]\n",
    "        \n",
    "       # print(\"binary after translation\")\n",
    "       #print()\n",
    "        return binary_mat\n",
    "        \n",
    "    def get_binary_mat(self, box, m, n, obj_map):\n",
    "        res = [[0 for j in range(m)] for i in range(n)]\n",
    "        \n",
    "        for i in range(m):\n",
    "            for j in range(n):\n",
    "                \n",
    "                res[j][m - 1 - i] = obj_map[box[i][j]]\n",
    "                \n",
    "        return res\n",
    "    \n",
    "    \n",
    "    def apply_gravity(self, bm, m, n):\n",
    "        \n",
    "        for row in range(m):\n",
    "            for col in range(n):\n",
    "                \n",
    "                if bm[row][col] == 0:\n",
    "                    self.bubble_up(bm, row, col)\n",
    "    \n",
    "    def bubble_up(self, bm, row, col):\n",
    "        while row > 0 and bm[row - 1][col] != 2 and bm[row][col] < bm[row - 1][col]:\n",
    "            bm[row][col], bm[row - 1][col] = bm[row - 1][col], bm[row][col]\n",
    "            row -= 1\n",
    "        \n",
    "        \n",
    "            "
   ]
  },
  {
   "cell_type": "markdown",
   "metadata": {},
   "source": [
    "# Second attempt, still kind of slow"
   ]
  },
  {
   "cell_type": "code",
   "execution_count": null,
   "metadata": {},
   "outputs": [],
   "source": [
    "class Solution:\n",
    "    def rotateTheBox(self, box: List[List[str]]) -> List[List[str]]:\n",
    "        m = len(box)\n",
    "        n = len(box[0])\n",
    "        obj_map = {\"#\": 1, \".\": 0, \"*\": 2}\n",
    "        rev_map = dict(zip(obj_map.values(), obj_map.keys()))\n",
    "        \n",
    "        for i in range(m):\n",
    "            for j in range(1,n):\n",
    "                if box[i][j] == '.':\n",
    "                    cc = j\n",
    "                    while cc > 0 and box[i][cc] == '.' and box[i][cc - 1] == '#':\n",
    "                        box[i][cc], box[i][cc - 1] = box[i][cc - 1], box[i][cc]\n",
    "                        cc -= 1\n",
    "          \n",
    "        \n",
    "        res = [[0 for j in range(m)] for i in range(n)]\n",
    "        \n",
    "        for i in range(m):\n",
    "            for j in range(n):\n",
    "                \n",
    "                res[j][m - 1 - i] = box[i][j]\n",
    "                \n",
    "        return res\n",
    "        \n",
    "            \n",
    "        \n",
    "    def get_binary_mat(self, box, m, n, obj_map):\n",
    "        res = [[0 for j in range(m)] for i in range(n)]\n",
    "        \n",
    "        for i in range(m):\n",
    "            for j in range(n):\n",
    "                \n",
    "                res[j][m - 1 - i] = box[i][j]\n",
    "                \n",
    "        return res\n",
    "    \n",
    "    \n",
    "    def apply_gravity(self, bm, m, n):\n",
    "        \n",
    "        for row in range(m):\n",
    "            for col in range(n):\n",
    "                \n",
    "                if bm[row][col] == 0:\n",
    "                    self.bubble_up(bm, row, col)\n",
    "    \n",
    "    def bubble_up(self, bm, row, col):\n",
    "        while row > 0 and bm[row - 1][col] != 2 and bm[row][col] < bm[row - 1][col]:\n",
    "            bm[row][col], bm[row - 1][col] = bm[row - 1][col], bm[row][col]\n",
    "            row -= 1\n",
    "        \n",
    "        \n",
    "            "
   ]
  }
 ],
 "metadata": {
  "kernelspec": {
   "display_name": "Python 3",
   "language": "python",
   "name": "python3"
  },
  "language_info": {
   "codemirror_mode": {
    "name": "ipython",
    "version": 3
   },
   "file_extension": ".py",
   "mimetype": "text/x-python",
   "name": "python",
   "nbconvert_exporter": "python",
   "pygments_lexer": "ipython3",
   "version": "3.6.9"
  }
 },
 "nbformat": 4,
 "nbformat_minor": 4
}
