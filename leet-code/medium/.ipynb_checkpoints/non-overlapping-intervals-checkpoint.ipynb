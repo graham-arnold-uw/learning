{
 "cells": [
  {
   "cell_type": "markdown",
   "metadata": {},
   "source": [
    "https://leetcode.com/problems/non-overlapping-intervals/solution/"
   ]
  },
  {
   "cell_type": "markdown",
   "metadata": {},
   "source": [
    "# Greedy doesnt work :("
   ]
  },
  {
   "cell_type": "code",
   "execution_count": null,
   "metadata": {},
   "outputs": [],
   "source": [
    "from collections import defaultdict\n",
    "class Solution:\n",
    "    def eraseOverlapIntervals(self, intervals: List[List[int]]) -> int:\n",
    "        l = len(intervals)\n",
    "        if l <= 1:\n",
    "            return 0\n",
    "        num_overlapping = 0\n",
    "        #create dict data structures\n",
    "        #for each interval build list of overlapping intervals\n",
    "        dict_overlapping = defaultdict(set)\n",
    "        dict_over_ct = defaultdict(lambda: 0)\n",
    "        \n",
    "        removed = 0\n",
    "        \n",
    "        #for each interval check all subsequent invtervals for overlapping\n",
    "        #add overlapping to both intervals when found\n",
    "        \n",
    "        for i, interval_i in enumerate(intervals):\n",
    "            for j in range(i+1, l):\n",
    "                if self.is_overlapping(interval_i,intervals[j]):\n",
    "                    tup_i = interval_i[0],interval_i[1],i\n",
    "                    tup_j = intervals[j][0], intervals[j][1],j\n",
    "                    dict_overlapping[tup_i].add(tup_j)\n",
    "                    dict_overlapping[tup_j].add(tup_i)\n",
    "                    dict_over_ct[tup_i] += 1\n",
    "                    dict_over_ct[tup_j] += 1\n",
    "        if len(dict_over_ct.values()) == 0:\n",
    "            return 0\n",
    "        \n",
    "        while max(dict_over_ct.values()) > 0:\n",
    "            \n",
    "            max_ct, max_over_int = max(zip(dict_over_ct.values(),dict_over_ct.keys()))\n",
    "            overlapping = dict_overlapping[max_over_int]\n",
    "            \n",
    "            for overlapped in overlapping:\n",
    "                dict_over_ct[tuple(overlapped)] -= 1\n",
    "                dict_overlapping[tuple(overlapped)].remove(max_over_int)\n",
    "            \n",
    "            dict_over_ct[max_over_int] = float('-inf')\n",
    "            removed += 1\n",
    "            \n",
    "            #grab\n",
    "        \n",
    "        return removed\n",
    "        \n",
    "        \n",
    "        \n",
    "    \n",
    "    def is_overlapping(self,i1,i2):\n",
    "        s1,e1 = i1\n",
    "        s2,e2 = i2\n",
    "        \n",
    "        if (s2 >= s1 and s2 < e1) or (e2 > s1 and e2 <= e1):\n",
    "            return True\n",
    "        \n",
    "        return False "
   ]
  },
  {
   "cell_type": "markdown",
   "metadata": {},
   "source": [
    "# DP solution"
   ]
  },
  {
   "cell_type": "code",
   "execution_count": null,
   "metadata": {},
   "outputs": [],
   "source": [
    "from collections import defaultdict\n",
    "class Solution:\n",
    "    def eraseOverlapIntervals(self, intervals: List[List[int]]) -> int:\n",
    "        l = len(intervals)\n",
    "        if l == 0 or l == 1:\n",
    "            return 0\n",
    "        intervals = sorted(intervals, key= lambda intv: intv[0])\n",
    "        dp = [0 for i in range(l)]\n",
    "        \n",
    "        dp[0] = 1\n",
    "        ans = 1\n",
    "        \n",
    "        for i in range(l):\n",
    "            #j = 0\n",
    "            max_seen = 0\n",
    "            for j in range(i-1,-1,-1):\n",
    "                curr_max = dp[j]\n",
    "                if not self.is_overlapping(intervals[j],intervals[i]):\n",
    "                    if curr_max > max_seen:\n",
    "                        max_seen = curr_max\n",
    "            \n",
    "            dp[i] = max_seen + 1\n",
    "            ans = max(dp[i],ans)\n",
    "    \n",
    "        return l - ans\n",
    "    \n",
    "    \n",
    "    def is_overlapping(self,i1,i2):\n",
    "        s1,e1 = i1\n",
    "        s2,e2 = i2\n",
    "\n",
    "        return i1[1] > i2[0]"
   ]
  }
 ],
 "metadata": {
  "kernelspec": {
   "display_name": "Python 3",
   "language": "python",
   "name": "python3"
  },
  "language_info": {
   "codemirror_mode": {
    "name": "ipython",
    "version": 3
   },
   "file_extension": ".py",
   "mimetype": "text/x-python",
   "name": "python",
   "nbconvert_exporter": "python",
   "pygments_lexer": "ipython3",
   "version": "3.6.9"
  }
 },
 "nbformat": 4,
 "nbformat_minor": 4
}
