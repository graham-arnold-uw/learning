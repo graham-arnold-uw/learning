{
 "cells": [
  {
   "cell_type": "markdown",
   "metadata": {},
   "source": [
    "https://leetcode.com/problems/letter-case-permutation/"
   ]
  },
  {
   "cell_type": "code",
   "execution_count": null,
   "metadata": {},
   "outputs": [],
   "source": [
    "class Solution:\n",
    "    def letterCasePermutation(self, s: str) -> List[str]:\n",
    "        \n",
    "        def letter_helper(s, n, i, path):\n",
    "            if i == n:\n",
    "                global_res.append(\"\".join(path))\n",
    "                return\n",
    "            \n",
    "            curr_char = s[i]\n",
    "            if curr_char.isnumeric():\n",
    "                path.append(curr_char)\n",
    "                letter_helper(s, n, i + 1, path)\n",
    "                path.pop()\n",
    "            else:\n",
    "                path.append(s[i].lower())\n",
    "                letter_helper(s, n, i + 1, path)\n",
    "                path.pop()\n",
    "                path.append(s[i].upper())\n",
    "                letter_helper(s, n, i + 1, path)\n",
    "                path.pop()\n",
    "\n",
    "        n = len(s)\n",
    "        global_res = []\n",
    "        path = []\n",
    "        letter_helper(s, n, 0, path)\n",
    "        \n",
    "        return global_res   "
   ]
  }
 ],
 "metadata": {
  "kernelspec": {
   "display_name": "Python 3",
   "language": "python",
   "name": "python3"
  },
  "language_info": {
   "codemirror_mode": {
    "name": "ipython",
    "version": 3
   },
   "file_extension": ".py",
   "mimetype": "text/x-python",
   "name": "python",
   "nbconvert_exporter": "python",
   "pygments_lexer": "ipython3",
   "version": "3.6.9"
  }
 },
 "nbformat": 4,
 "nbformat_minor": 4
}
