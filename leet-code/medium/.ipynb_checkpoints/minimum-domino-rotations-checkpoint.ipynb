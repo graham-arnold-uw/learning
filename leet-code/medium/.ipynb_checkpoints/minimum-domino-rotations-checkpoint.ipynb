{
 "cells": [
  {
   "cell_type": "markdown",
   "metadata": {},
   "source": [
    "https://leetcode.com/problems/minimum-domino-rotations-for-equal-row/"
   ]
  },
  {
   "cell_type": "code",
   "execution_count": null,
   "metadata": {},
   "outputs": [],
   "source": [
    "class Solution:\n",
    "    def minDominoRotations(self, tops: List[int], bottoms: List[int]) -> int:\n",
    "        \n",
    "        n = len(tops)\n",
    "        #align to first domino top num\n",
    "        flips_top1 = self.flip_simulate(tops, bottoms, 'top')\n",
    "        #align to first domino bottom num\n",
    "        flips_bottom1 = self.flip_simulate(tops, bottoms, 'bottom')\n",
    "        #flip first domino and repeat\n",
    "        tops[0], bottoms[0] = bottoms[0], tops[0]\n",
    "        #align flipped first domino top num\n",
    "        flips_top2 = self.flip_simulate(tops, bottoms, 'top')\n",
    "        flips_top2 += 1\n",
    "        #align flipped first domino bottom num\n",
    "        flips_bottom2 = self.flip_simulate(tops, bottoms, 'bottom')\n",
    "        flips_bottom2 += 1\n",
    "        \n",
    "        min_flips = min(flips_top1, flips_bottom1, flips_top2, flips_bottom2)\n",
    "        if min_flips == float('inf'):\n",
    "            return -1\n",
    "        return min_flips\n",
    "        \n",
    "        \n",
    "    def flip_simulate(self, tops, bottoms, side):\n",
    "        n = len(tops)\n",
    "        flips = 0\n",
    "        if side == 'top':\n",
    "            tar = tops[0]\n",
    "            for i in range(1,n):\n",
    "                if tops[i] == tar:\n",
    "                    continue\n",
    "                elif bottoms[i] == tar:\n",
    "                    flips += 1\n",
    "                else:\n",
    "                    return float('inf')\n",
    "                    \n",
    "        else:\n",
    "            tar = bottoms[0]\n",
    "            for i in range(1,n):\n",
    "                if bottoms[i] == tar:\n",
    "                    continue\n",
    "                elif tops[i] == tar:\n",
    "                    flips += 1\n",
    "                else:\n",
    "                    return float('inf')\n",
    "        \n",
    "        return flips"
   ]
  }
 ],
 "metadata": {
  "kernelspec": {
   "display_name": "Python 3",
   "language": "python",
   "name": "python3"
  },
  "language_info": {
   "codemirror_mode": {
    "name": "ipython",
    "version": 3
   },
   "file_extension": ".py",
   "mimetype": "text/x-python",
   "name": "python",
   "nbconvert_exporter": "python",
   "pygments_lexer": "ipython3",
   "version": "3.6.9"
  }
 },
 "nbformat": 4,
 "nbformat_minor": 4
}
