{
 "cells": [
  {
   "cell_type": "markdown",
   "metadata": {},
   "source": [
    "https://leetcode.com/explore/interview/card/google/66/others-4/3097/"
   ]
  },
  {
   "cell_type": "markdown",
   "metadata": {},
   "source": [
    "# Time Limit Exceeded"
   ]
  },
  {
   "cell_type": "code",
   "execution_count": null,
   "metadata": {},
   "outputs": [],
   "source": [
    "class Solution:\n",
    "    def candy(self, ratings: List[int]) -> int:\n",
    "        n = len(ratings) # number of children\n",
    "        candy_res = [1 for i in range(n)]\n",
    "        out_of_place = True\n",
    "        total_given = n\n",
    "        while out_of_place:\n",
    "            out_of_place = False\n",
    "            i = 0\n",
    "            while i < n:\n",
    "                left_n = i - 1\n",
    "                right_n = i + 1\n",
    "                if left_n >= 0 and ratings[i] > ratings[left_n] and \\\n",
    "                    candy_res[i] <= candy_res[left_n]:\n",
    "                    diff = candy_res[left_n] - candy_res[i]\n",
    "                    candy_res[i] = candy_res[left_n] + 1\n",
    "                    out_of_place = True\n",
    "                    total_given += diff + 1\n",
    "                if right_n < n and ratings[i] > ratings[right_n] and \\\n",
    "                    candy_res[i] <= candy_res[right_n]:\n",
    "                    diff = candy_res[right_n] - candy_res[i]\n",
    "                    candy_res[i] = candy_res[right_n] + 1\n",
    "                    out_of_place = True\n",
    "                    total_given += diff + 1\n",
    "                i += 1\n",
    "\n",
    "        return total_given\n"
   ]
  },
  {
   "cell_type": "markdown",
   "metadata": {},
   "source": [
    "# Accepted DP solution"
   ]
  },
  {
   "cell_type": "code",
   "execution_count": null,
   "metadata": {},
   "outputs": [],
   "source": [
    "class Solution:\n",
    "    def candy(self, ratings: List[int]) -> int:\n",
    "        n = len(ratings) # number of children\n",
    "        longest_increasing_l = [0 for i in range(n)]\n",
    "        longest_increasing_r = [0 for i in range(n)]\n",
    "        \n",
    "        for i in range(1, n):\n",
    "            if ratings[i] > ratings[i - 1]:\n",
    "                longest_increasing_l[i] = longest_increasing_l[i - 1] + 1\n",
    "            #else:\n",
    "                #longest_increasing_l[i] = 0\n",
    "        \n",
    "        for j in range(n - 2, -1, -1):\n",
    "            if ratings[j] > ratings[j + 1]:\n",
    "                  longest_increasing_r[j] = longest_increasing_r[j + 1] + 1\n",
    "            #else:\n",
    "                #longest_increasing_r[j] = 0\n",
    "        \n",
    "        candy_given = n \n",
    "        \n",
    "        for k in range(n):\n",
    "            max_given_here = max(longest_increasing_l[k], longest_increasing_r[k])\n",
    "            candy_given += max_given_here\n",
    "        \n",
    "        return candy_given\n"
   ]
  }
 ],
 "metadata": {
  "kernelspec": {
   "display_name": "Python 3",
   "language": "python",
   "name": "python3"
  },
  "language_info": {
   "codemirror_mode": {
    "name": "ipython",
    "version": 3
   },
   "file_extension": ".py",
   "mimetype": "text/x-python",
   "name": "python",
   "nbconvert_exporter": "python",
   "pygments_lexer": "ipython3",
   "version": "3.6.9"
  }
 },
 "nbformat": 4,
 "nbformat_minor": 4
}
