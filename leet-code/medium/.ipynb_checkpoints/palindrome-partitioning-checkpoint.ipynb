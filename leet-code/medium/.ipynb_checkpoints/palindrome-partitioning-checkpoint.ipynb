{
 "cells": [
  {
   "cell_type": "markdown",
   "metadata": {},
   "source": [
    "https://leetcode.com/problems/palindrome-partitioning/"
   ]
  },
  {
   "cell_type": "code",
   "execution_count": null,
   "metadata": {},
   "outputs": [],
   "source": [
    "class Solution:\n",
    "    def partition(self, s: str) -> List[List[str]]:\n",
    "        \n",
    "        n = len(s)\n",
    "        if n == 1:\n",
    "            return [[s[0]]]\n",
    "    \n",
    "        def partition_helper(s, n, path, i):\n",
    "            if i >= n:\n",
    "                #print(path)\n",
    "                res.append(path.copy())\n",
    "                #print(res)\n",
    "                return\n",
    "            \n",
    "            \n",
    "            for k in range(i + 1, n + 1):\n",
    "                if valid_palindrome(s[i:k]):\n",
    "                   #print('hit')\n",
    "                    path.append(s[i:k])\n",
    "                   # print(path)\n",
    "                    partition_helper(s,n,path,k)\n",
    "                    path.pop()\n",
    "            \n",
    "            return\n",
    "        \n",
    "        def valid_palindrome(s):\n",
    "            if s == s[::-1]:\n",
    "                return True\n",
    "            return False\n",
    "        \n",
    "        \n",
    "        res = []\n",
    "        path = []\n",
    "        partition_helper(s, n, path, 0)\n",
    "        #print(res)\n",
    "        return res"
   ]
  }
 ],
 "metadata": {
  "kernelspec": {
   "display_name": "Python 3",
   "language": "python",
   "name": "python3"
  },
  "language_info": {
   "codemirror_mode": {
    "name": "ipython",
    "version": 3
   },
   "file_extension": ".py",
   "mimetype": "text/x-python",
   "name": "python",
   "nbconvert_exporter": "python",
   "pygments_lexer": "ipython3",
   "version": "3.6.9"
  }
 },
 "nbformat": 4,
 "nbformat_minor": 4
}
