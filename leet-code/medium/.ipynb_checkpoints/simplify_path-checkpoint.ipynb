{
 "cells": [
  {
   "cell_type": "markdown",
   "metadata": {},
   "source": [
    "https://leetcode.com/problems/simplify-path/"
   ]
  },
  {
   "cell_type": "code",
   "execution_count": null,
   "metadata": {},
   "outputs": [],
   "source": [
    "class Solution:\n",
    "    def simplifyPath(self, path: str) -> str:\n",
    "        \n",
    "        path_list = self.remove_slashes(path)\n",
    "        \n",
    "        path_list = self.remove_current_dirs(path_list)\n",
    "        #print(path_list)\n",
    "        #print()\n",
    "        path_list = self.remove_parent_dirs(path_list)\n",
    "        #print(path_list)\n",
    "        \n",
    "        n = len(path_list)\n",
    "        canon_path = '/'\n",
    "        if n == 0:\n",
    "            return canon_path\n",
    "        \n",
    "        for el in path_list:\n",
    "            canon_path = canon_path + el + '/'\n",
    "        \n",
    "        return canon_path[:-1]\n",
    "        \n",
    "    \n",
    "    def remove_parent_dirs(self, path_list):\n",
    "        n = len(path_list)\n",
    "        delete = [0 for i in range(n)]\n",
    "        \n",
    "        i = 0\n",
    "        while i < n and path_list[i] == '..':\n",
    "            delete[i] = 1\n",
    "            i += 1\n",
    "        \n",
    "        #print(delete)\n",
    "        while i < n:\n",
    "            if delete[i] == 0 and path_list[i] == '..':\n",
    "                j = i \n",
    "                delete[j] = 1\n",
    "                while j >= 0 and (path_list[j] == '..' or delete[j] == 1):\n",
    "                    j -= 1\n",
    "                if j >= 0:\n",
    "                    delete[j] = 1\n",
    "            i += 1\n",
    "        \n",
    "        path_list = [path_list[i] for i in range(n) if delete[i] == 0]\n",
    "        return path_list\n",
    "        \n",
    "        \n",
    "    \n",
    "    def remove_current_dirs(self, path):\n",
    "        \n",
    "        path = [el for el in path if el != '.']\n",
    "        return path\n",
    "        \n",
    "        \n",
    "        \n",
    "    \n",
    "    def remove_slashes(self, path):\n",
    "        path_list = path.split('/')\n",
    "        \n",
    "        path_list = [el for el in path_list if len(el) > 0]\n",
    "        \n",
    "        return path_list"
   ]
  }
 ],
 "metadata": {
  "kernelspec": {
   "display_name": "Python 3",
   "language": "python",
   "name": "python3"
  },
  "language_info": {
   "codemirror_mode": {
    "name": "ipython",
    "version": 3
   },
   "file_extension": ".py",
   "mimetype": "text/x-python",
   "name": "python",
   "nbconvert_exporter": "python",
   "pygments_lexer": "ipython3",
   "version": "3.6.9"
  }
 },
 "nbformat": 4,
 "nbformat_minor": 4
}
