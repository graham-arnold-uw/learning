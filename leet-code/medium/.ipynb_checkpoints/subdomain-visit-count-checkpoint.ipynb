{
 "cells": [
  {
   "cell_type": "markdown",
   "metadata": {},
   "source": [
    "https://leetcode.com/problems/subdomain-visit-count/"
   ]
  },
  {
   "cell_type": "code",
   "execution_count": null,
   "metadata": {},
   "outputs": [],
   "source": [
    "from collections import defaultdict\n",
    "class Solution:\n",
    "    def subdomainVisits(self, cpdomains: List[str]) -> List[str]:\n",
    "        num_domains = len(cpdomains)\n",
    "        \n",
    "        sd_cts = defaultdict(int)\n",
    "        \n",
    "        for domain_string in cpdomains:\n",
    "            d_list = domain_string.split(' ')\n",
    "            \n",
    "            dnum = int(d_list[0])\n",
    "            subd = d_list[1]\n",
    "            \n",
    "            self.update_frequencies(subd, dnum, sd_cts)\n",
    "            \n",
    "        \n",
    "        res = self.construct_results(sd_cts)\n",
    "        return res\n",
    "    \n",
    "    def construct_results(self, sd_cts):\n",
    "        out = []\n",
    "        for k in sd_cts:\n",
    "            total_ct = str(sd_cts[k])\n",
    "            res_s = total_ct + ' ' + k\n",
    "            out.append(res_s)\n",
    "        return out\n",
    "        \n",
    "    def update_frequencies(self, subd, dnum, sd_cts):\n",
    "        sd_chunks = subd.split('.')\n",
    "        \n",
    "        sd_chunks = sd_chunks[::-1]\n",
    "        \n",
    "        num_chunks = len(sd_chunks)\n",
    "        \n",
    "        root = sd_chunks[0]\n",
    "        sd_cts[root] += dnum\n",
    "        \n",
    "        for i in range(1,num_chunks):\n",
    "            next_chunk = sd_chunks[i]\n",
    "            root = next_chunk + '.' + root\n",
    "            sd_cts[root] += dnum\n",
    "        \n",
    "        "
   ]
  }
 ],
 "metadata": {
  "kernelspec": {
   "display_name": "Python 3",
   "language": "python",
   "name": "python3"
  },
  "language_info": {
   "codemirror_mode": {
    "name": "ipython",
    "version": 3
   },
   "file_extension": ".py",
   "mimetype": "text/x-python",
   "name": "python",
   "nbconvert_exporter": "python",
   "pygments_lexer": "ipython3",
   "version": "3.6.9"
  }
 },
 "nbformat": 4,
 "nbformat_minor": 4
}
