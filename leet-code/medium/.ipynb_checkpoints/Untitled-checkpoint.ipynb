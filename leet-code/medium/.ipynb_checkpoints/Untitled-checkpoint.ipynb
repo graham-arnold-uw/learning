{
 "cells": [
  {
   "cell_type": "markdown",
   "metadata": {},
   "source": [
    "https://leetcode.com/explore/featured/card/google/61/trees-and-graphs/3071/"
   ]
  },
  {
   "cell_type": "code",
   "execution_count": null,
   "metadata": {},
   "outputs": [],
   "source": [
    "# Definition for a binary tree node.\n",
    "# class TreeNode:\n",
    "#     def __init__(self, val=0, left=None, right=None):\n",
    "#         self.val = val\n",
    "#         self.left = left\n",
    "#         self.right = right\n",
    "class Solution:\n",
    "    def countNodes(self, root: Optional[TreeNode]) -> int:\n",
    "        steps = 0\n",
    "        \n",
    "        def find_last(root, curr_level, tar_level):\n",
    "            nonlocal steps\n",
    "            if root == None:\n",
    "                return -1\n",
    "            \n",
    "            if curr_level == tar_level:\n",
    "                if root.left == None and root.right == None:\n",
    "                    steps += 1\n",
    "                    return -1\n",
    "                elif root.right == None and root.left != None:\n",
    "                    return 1\n",
    "                else:\n",
    "                    return 2\n",
    "            \n",
    "            if root.right != None:\n",
    "                res_r = find_last(root.right, curr_level + 1, tar_level)\n",
    "                if res_r != -1:\n",
    "                    return res_r\n",
    "                \n",
    "            if root.left != None:    \n",
    "                res_l = find_last(root.left, curr_level + 1, tar_level)\n",
    "                if res_l != -1:\n",
    "                    return res_l\n",
    "            \n",
    "            return -1\n",
    " \n",
    "        def get_height(root, level):\n",
    "            if root == None:\n",
    "                return level - 1\n",
    "            \n",
    "            h = get_height(root.left, level + 1)\n",
    "        \n",
    "            return h\n",
    "        \n",
    "        if root == None:\n",
    "            return 0\n",
    "        \n",
    "        \n",
    "        h = get_height(root, 0)\n",
    "        #max_leaves = pow(2,h)\n",
    "        if h == 0:\n",
    "            return 1\n",
    "        \n",
    "        num_last = find_last(root, 0, h - 1)\n",
    "        num_trimmed = (steps * 2) + (num_last % 2)\n",
    "        total_nodes = pow(2,h+1) - 1\n",
    "        #num_nodes = pow(2,h-1) + (max_leaves - num_trimmed)\n",
    "        num_nodes = total_nodes - num_trimmed\n",
    "        return num_nodes\n",
    "    \n",
    "    \n",
    "    \n",
    "    \n",
    "    \n",
    "    \n",
    "            "
   ]
  }
 ],
 "metadata": {
  "kernelspec": {
   "display_name": "Python 3",
   "language": "python",
   "name": "python3"
  },
  "language_info": {
   "codemirror_mode": {
    "name": "ipython",
    "version": 3
   },
   "file_extension": ".py",
   "mimetype": "text/x-python",
   "name": "python",
   "nbconvert_exporter": "python",
   "pygments_lexer": "ipython3",
   "version": "3.6.9"
  }
 },
 "nbformat": 4,
 "nbformat_minor": 4
}
