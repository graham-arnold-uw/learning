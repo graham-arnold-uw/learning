{
 "cells": [
  {
   "cell_type": "markdown",
   "metadata": {},
   "source": [
    "https://leetcode.com/explore/interview/card/amazon/76/array-and-strings/2967/"
   ]
  },
  {
   "cell_type": "markdown",
   "metadata": {},
   "source": [
    "# Time limit exceeded"
   ]
  },
  {
   "cell_type": "code",
   "execution_count": null,
   "metadata": {},
   "outputs": [],
   "source": [
    "class Solution:\n",
    "    def threeSumClosest(self, nums: List[int], target: int) -> int:\n",
    "        n = len(nums)\n",
    "        nums.sort()\n",
    "        global_delta = float('inf')\n",
    "        global_sum = float('inf')\n",
    "        for i in range(n):\n",
    "            num = nums[i]\n",
    "            closest_sum = self.find_closest(target - num, i, n, nums)\n",
    "            delta_here = abs(closest_sum - (target - num))\n",
    "            if delta_here < global_delta:\n",
    "                global_sum = num + closest_sum\n",
    "                global_delta = delta_here\n",
    "        return global_sum\n",
    "    \n",
    "    def find_closest(self, target, i, n, nums):\n",
    "        closest_delta = float('inf')\n",
    "        closest_sum = float('inf')\n",
    "        for x in range(i + 1, n):\n",
    "            for y in range(x + 1, n):\n",
    "                curr_sum = nums[x] + nums[y]\n",
    "                curr_delta = abs(curr_sum - target)\n",
    "                if curr_delta < closest_delta:\n",
    "                    closest_delta = curr_delta\n",
    "                    closest_sum = curr_sum\n",
    "        \n",
    "        return closest_sum"
   ]
  }
 ],
 "metadata": {
  "kernelspec": {
   "display_name": "Python 3",
   "language": "python",
   "name": "python3"
  },
  "language_info": {
   "codemirror_mode": {
    "name": "ipython",
    "version": 3
   },
   "file_extension": ".py",
   "mimetype": "text/x-python",
   "name": "python",
   "nbconvert_exporter": "python",
   "pygments_lexer": "ipython3",
   "version": "3.6.9"
  }
 },
 "nbformat": 4,
 "nbformat_minor": 4
}
