{
 "cells": [
  {
   "cell_type": "markdown",
   "metadata": {},
   "source": [
    "https://leetcode.com/problems/longest-repeating-character-replacement/submissions/"
   ]
  },
  {
   "cell_type": "markdown",
   "metadata": {},
   "source": [
    "# Brute Force Solution"
   ]
  },
  {
   "cell_type": "code",
   "execution_count": null,
   "metadata": {},
   "outputs": [],
   "source": [
    "class Solution:\n",
    "    def characterReplacement(self, s: str, k: int) -> int:\n",
    "        slist = list(s)\n",
    "        if k >= len(slist):\n",
    "            return len(s)\n",
    "        \n",
    "        max_res = 0\n",
    "        \n",
    "        letter_set = self.collect_letter_set(s)\n",
    "        \n",
    "        for letter in letter_set:\n",
    "            \n",
    "            \n",
    "            num_non = self.count_non_tar(slist,letter)\n",
    "            \n",
    "            if num_non <= k:\n",
    "                temp = slist.copy()\n",
    "                self.replace_offset(temp,num_non,letter,0)\n",
    "                curr_res = self.find_longest_seq(temp)\n",
    "                if curr_res > max_res:\n",
    "                    max_res = curr_res\n",
    "            else:\n",
    "                diff = num_non - k + 1\n",
    "                \n",
    "                for i in range(diff):\n",
    "                    temp = slist.copy()\n",
    "                    self.replace_offset(temp,k, letter, i)\n",
    "                    curr_res = self.find_longest_seq(temp)\n",
    "                    if curr_res > max_res:\n",
    "                        max_res = curr_res\n",
    "        return max_res\n",
    "            \n",
    "            \n",
    "            \n",
    "    def find_longest_seq(self,temp):           \n",
    "        max_seq = 0\n",
    "        \n",
    "        if len(temp) == 0:\n",
    "            return 0\n",
    "        \n",
    "        curr_seq = 0\n",
    "        prev = temp[0]\n",
    "        \n",
    "        for i in range(len(temp)):\n",
    "            curr = temp[i]\n",
    "            if prev == curr:\n",
    "                curr_seq += 1\n",
    "            else:\n",
    "                curr_seq = 1\n",
    "            prev = curr\n",
    "            if curr_seq > max_seq:\n",
    "                max_seq = curr_seq\n",
    "        return max_seq\n",
    "                \n",
    "           \n",
    "        \n",
    "    \n",
    "    \n",
    "    def collect_letter_set(self, s):\n",
    "        res = {c for c in s}\n",
    "        return res\n",
    "    \n",
    "    def count_non_tar(self,s,tar):\n",
    "        count = 0\n",
    "        for c in s:\n",
    "            if c != tar:\n",
    "                count += 1\n",
    "        return count\n",
    "    \n",
    "    def replace_offset(self, s,k, tar, offset):\n",
    "        count = 0\n",
    "        num_replaced = 0\n",
    "        for i in range(len(s)):\n",
    "            if num_replaced >= k:\n",
    "                break\n",
    "            if s[i] != tar:\n",
    "                if count >= offset:\n",
    "                    s[i] = tar\n",
    "                    num_replaced += 1\n",
    "                else:\n",
    "                    count += 1"
   ]
  },
  {
   "cell_type": "markdown",
   "metadata": {},
   "source": [
    "# Second Try"
   ]
  },
  {
   "cell_type": "code",
   "execution_count": 5,
   "metadata": {},
   "outputs": [],
   "source": [
    "def count_seqs(s):\n",
    "        \n",
    "        l = len(s)\n",
    "        \n",
    "        if l == 0:\n",
    "            return None\n",
    "        \n",
    "        res = [0] * l\n",
    "        \n",
    "        prev = s[0]\n",
    "        ws=we=0\n",
    "        \n",
    "        while we < l:\n",
    "            count = 0\n",
    "            while we < l and s[we] == s[ws]:\n",
    "                count += 1\n",
    "                we += 1\n",
    "            \n",
    "            for i in range(ws,we):\n",
    "                res[i] = count\n",
    "            \n",
    "            ws = we \n",
    "        \n",
    "        return res"
   ]
  },
  {
   "cell_type": "code",
   "execution_count": 11,
   "metadata": {},
   "outputs": [],
   "source": [
    "s1 = 'ABAB'\n",
    "s2 = 'ABAABAB'\n",
    "s3 = 'AAABBBBB'\n",
    "\n",
    "res = count_seqs(list(s2))"
   ]
  },
  {
   "cell_type": "code",
   "execution_count": 12,
   "metadata": {},
   "outputs": [
    {
     "name": "stdout",
     "output_type": "stream",
     "text": [
      "[1, 1, 2, 2, 1, 1, 1]\n"
     ]
    }
   ],
   "source": [
    "print(res)"
   ]
  },
  {
   "cell_type": "code",
   "execution_count": null,
   "metadata": {},
   "outputs": [],
   "source": []
  }
 ],
 "metadata": {
  "kernelspec": {
   "display_name": "Python 3",
   "language": "python",
   "name": "python3"
  },
  "language_info": {
   "codemirror_mode": {
    "name": "ipython",
    "version": 3
   },
   "file_extension": ".py",
   "mimetype": "text/x-python",
   "name": "python",
   "nbconvert_exporter": "python",
   "pygments_lexer": "ipython3",
   "version": "3.6.9"
  }
 },
 "nbformat": 4,
 "nbformat_minor": 4
}
