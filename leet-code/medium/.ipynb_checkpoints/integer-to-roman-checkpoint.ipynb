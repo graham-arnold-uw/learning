{
 "cells": [
  {
   "cell_type": "markdown",
   "metadata": {},
   "source": [
    "https://leetcode.com/problems/integer-to-roman/"
   ]
  },
  {
   "cell_type": "code",
   "execution_count": null,
   "metadata": {},
   "outputs": [],
   "source": [
    "class Solution:\n",
    "    def intToRoman(self, num: int) -> str:\n",
    "        specials = {4: 'IV', 9:'IX',40:'XL', 90:'XC',400:'CD',900:'CM'}\n",
    "        \n",
    "        v_nums = [1,4,5,9,10,40,50,90,100,400,500,900,1000]\n",
    "        val_map = {1 :'I', 5 :'V', 10 :'X', 50 :'L', 100 :'C', 500 :'D', 1000 :'M'}\n",
    "        val_map = val_map | specials\n",
    "        \n",
    "        vlen = len(v_nums)\n",
    "        #v_nums=  list(val_map.keys())\n",
    "        \n",
    "        res = []\n",
    "        \n",
    "        while num > 0:\n",
    "            \n",
    "           \n",
    "            i = vlen - 1\n",
    "            while i >= 0 and num < v_nums[i]:\n",
    "                i -= 1\n",
    "\n",
    "            base = v_nums[i]   \n",
    "            base_char = val_map[base]\n",
    "            res.append(base_char)\n",
    "            num -= base\n",
    "        \n",
    "        res_str = \"\".join(res)\n",
    "        return res_str\n"
   ]
  }
 ],
 "metadata": {
  "kernelspec": {
   "display_name": "Python 3",
   "language": "python",
   "name": "python3"
  },
  "language_info": {
   "codemirror_mode": {
    "name": "ipython",
    "version": 3
   },
   "file_extension": ".py",
   "mimetype": "text/x-python",
   "name": "python",
   "nbconvert_exporter": "python",
   "pygments_lexer": "ipython3",
   "version": "3.6.9"
  }
 },
 "nbformat": 4,
 "nbformat_minor": 4
}
