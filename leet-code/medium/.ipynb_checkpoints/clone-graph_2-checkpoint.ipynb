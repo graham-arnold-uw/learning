{
 "cells": [
  {
   "cell_type": "markdown",
   "metadata": {},
   "source": [
    "# BFS Solution\n"
   ]
  },
  {
   "cell_type": "code",
   "execution_count": null,
   "metadata": {},
   "outputs": [],
   "source": [
    "from collections import deque\n",
    "\"\"\"\n",
    "# Definition for a Node.\n",
    "class Node:\n",
    "    def __init__(self, val = 0, neighbors = None):\n",
    "        self.val = val\n",
    "        self.neighbors = neighbors if neighbors is not None else []\n",
    "\"\"\"\n",
    "\n",
    "class Solution:\n",
    "    \n",
    "    def cloneGraph(self, node: 'Node') -> 'Node':\n",
    "        \n",
    "        if not node:\n",
    "            return node\n",
    "        \n",
    "        visited = {}\n",
    "\n",
    "        # Put the first node in the queue\n",
    "        q = deque([node])\n",
    "        # Clone the node and put it in the visited dictionary.\n",
    "        visited[node] = Node(node.val, [])\n",
    "        while q:\n",
    "            n = q.popleft()\n",
    "            for neighbor in n.neighbors:\n",
    "                if neighbor not in visited:\n",
    "                    visited[neighbor] = Node(neighbor.val, [])\n",
    "                    #visited[n] = new_node\n",
    "                    q.append(neighbor)\n",
    "                    \n",
    "                visited[n].neighbors.append(visited[neighbor])\n",
    "        return visited[node]\n"
   ]
  },
  {
   "cell_type": "markdown",
   "metadata": {},
   "source": [
    "# DFS solution"
   ]
  },
  {
   "cell_type": "code",
   "execution_count": null,
   "metadata": {},
   "outputs": [],
   "source": [
    "from collections import deque\n",
    "\"\"\"\n",
    "# Definition for a Node.\n",
    "class Node:\n",
    "    def __init__(self, val = 0, neighbors = None):\n",
    "        self.val = val\n",
    "        self.neighbors = neighbors if neighbors is not None else []\n",
    "\"\"\"\n",
    "\n",
    "class Solution:\n",
    "    \n",
    "    def cloneGraph(self, node: 'Node') -> 'Node':\n",
    "        \n",
    "        if not node:\n",
    "            return node\n",
    "        \n",
    "        visited = {}\n",
    "\n",
    "        def dfs_clone(node):\n",
    "            if node in visited:\n",
    "                return visited[node]\n",
    "            \n",
    "            new_node = Node(node.val, [])\n",
    "            visited[node] = new_node\n",
    "            \n",
    "            for neighbor in node.neighbors:\n",
    "                sub_res =  dfs_clone(neighbor)\n",
    "                new_node.neighbors.append(sub_res)\n",
    "                \n",
    "            return new_node\n",
    "        \n",
    "        return dfs_clone(node) if node else None\n"
   ]
  }
 ],
 "metadata": {
  "kernelspec": {
   "display_name": "Python 3",
   "language": "python",
   "name": "python3"
  },
  "language_info": {
   "codemirror_mode": {
    "name": "ipython",
    "version": 3
   },
   "file_extension": ".py",
   "mimetype": "text/x-python",
   "name": "python",
   "nbconvert_exporter": "python",
   "pygments_lexer": "ipython3",
   "version": "3.6.9"
  }
 },
 "nbformat": 4,
 "nbformat_minor": 4
}
