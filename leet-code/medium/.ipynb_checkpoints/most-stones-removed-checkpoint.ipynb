{
 "cells": [
  {
   "cell_type": "markdown",
   "metadata": {},
   "source": [
    "https://leetcode.com/problems/most-stones-removed-with-same-row-or-column/"
   ]
  },
  {
   "cell_type": "markdown",
   "metadata": {},
   "source": [
    "# DFS graph approach"
   ]
  },
  {
   "cell_type": "code",
   "execution_count": null,
   "metadata": {},
   "outputs": [],
   "source": [
    "from collections import defaultdict\n",
    "class Solution:\n",
    "    def removeStones(self, stones: List[List[int]]) -> int:\n",
    "        \n",
    "        def dfs(node, graph, visited):\n",
    "            \n",
    "            ct_here = 1\n",
    "            visited[node] = True\n",
    "            for neigh in graph[node]:\n",
    "                if visited[neigh] != True:\n",
    "                    neigh_ct = dfs(neigh, graph, visited)\n",
    "                    ct_here += neigh_ct\n",
    "            return ct_here\n",
    "        \n",
    "        def build_graph(stones):\n",
    "            g = defaultdict(list)\n",
    "            n = len(stones)\n",
    "            for i in range(n):\n",
    "                sr,sc = stones[i]\n",
    "                for j in range(i + 1, n):\n",
    "                    cr, cc = stones[j]\n",
    "                    if sr == cr or sc == cc:\n",
    "                        g[i].append(j)\n",
    "                        g[j].append(i)\n",
    "            return g\n",
    "        \n",
    "        \n",
    "        graph = build_graph(stones)\n",
    "        n = len(stones)\n",
    "        visited = [False for i in range(n)]\n",
    "        total_ct = 0\n",
    "        for i in range(n):\n",
    "            if visited[i] != True:\n",
    "                ct = dfs(i, graph, visited)\n",
    "                total_ct += (ct - 1)\n",
    "        \n",
    "        return total_ct"
   ]
  },
  {
   "cell_type": "markdown",
   "metadata": {},
   "source": [
    "# Disjoint Set Union approach"
   ]
  },
  {
   "cell_type": "code",
   "execution_count": null,
   "metadata": {},
   "outputs": [],
   "source": [
    "from collections import defaultdict\n",
    "class DSU:\n",
    "    \n",
    "    def __init__(self, size):\n",
    "        self.size = size\n",
    "        self.sizes = [1 for i in range(self.size)]\n",
    "        self.representatives = [i for i in range(self.size)]\n",
    "        \n",
    "    \n",
    "    def find(self, element_id):\n",
    "        if element_id == self.representatives[element_id]:\n",
    "            return element_id\n",
    "        self.representatives[element_id] = self.find(self.representatives[element_id])\n",
    "        return self.representatives[element_id]\n",
    "    \n",
    "    def union(self, id1, id2):\n",
    "        \n",
    "        r1 = self.find(id1)\n",
    "        r2 = self.find(id2)\n",
    "        \n",
    "        if r1 == r2:\n",
    "            return\n",
    "        \n",
    "        if self.sizes[r1] >= self.sizes[r2]:\n",
    "            self.sizes[r1] += self.sizes[r2]\n",
    "            self.representatives[r2] = r1\n",
    "        else:\n",
    "            self.sizes[r2]  += self.sizes[r1]\n",
    "            self.representatives[r1] = r2\n",
    "        \n",
    "\n",
    "class Solution:\n",
    "    def removeStones(self, stones: List[List[int]]) -> int:\n",
    "            \n",
    "        n = len(stones)\n",
    "        dsu = DSU(n)\n",
    "        \n",
    "        for i in range(n):\n",
    "            sr, sc = stones[i]\n",
    "            for j in range(i + 1, n):\n",
    "                cr, cc = stones[j]\n",
    "                if sr == cr or sc == cc:\n",
    "                    dsu.union(i, j)\n",
    "        deleted_count = 0\n",
    "        reps = set()\n",
    "        for k in range(n):\n",
    "            reps.add(dsu.find(k))\n",
    "        \n",
    "        for rep in reps:\n",
    "            deleted_count += (dsu.sizes[rep] - 1)\n",
    "        \n",
    "        return deleted_count"
   ]
  }
 ],
 "metadata": {
  "kernelspec": {
   "display_name": "Python 3",
   "language": "python",
   "name": "python3"
  },
  "language_info": {
   "codemirror_mode": {
    "name": "ipython",
    "version": 3
   },
   "file_extension": ".py",
   "mimetype": "text/x-python",
   "name": "python",
   "nbconvert_exporter": "python",
   "pygments_lexer": "ipython3",
   "version": "3.6.9"
  }
 },
 "nbformat": 4,
 "nbformat_minor": 4
}
