{
 "cells": [
  {
   "cell_type": "markdown",
   "metadata": {},
   "source": [
    "https://leetcode.com/problems/subsets/"
   ]
  },
  {
   "cell_type": "code",
   "execution_count": null,
   "metadata": {},
   "outputs": [],
   "source": [
    "class Solution:\n",
    "    def subsets(self, nums: List[int]) -> List[List[int]]:\n",
    "    \n",
    "        def subsets_helper(nums, index, curr_path):\n",
    "\n",
    "            global_results.append(curr_path.copy())\n",
    "            for j in range(index, len(nums)):\n",
    "\n",
    "                curr_path.append(nums[j])\n",
    "                #global_results.append(curr_path.copy())\n",
    "                subsets_helper(nums, j + 1, curr_path)\n",
    "                curr_path.pop()\n",
    "\n",
    "        global_results = []\n",
    "        n = len(nums)\n",
    "        curr_path = []\n",
    "        subsets_helper(nums, 0, curr_path)\n",
    "\n",
    "        return global_results"
   ]
  }
 ],
 "metadata": {
  "kernelspec": {
   "display_name": "Python 3",
   "language": "python",
   "name": "python3"
  },
  "language_info": {
   "codemirror_mode": {
    "name": "ipython",
    "version": 3
   },
   "file_extension": ".py",
   "mimetype": "text/x-python",
   "name": "python",
   "nbconvert_exporter": "python",
   "pygments_lexer": "ipython3",
   "version": "3.6.9"
  }
 },
 "nbformat": 4,
 "nbformat_minor": 4
}
