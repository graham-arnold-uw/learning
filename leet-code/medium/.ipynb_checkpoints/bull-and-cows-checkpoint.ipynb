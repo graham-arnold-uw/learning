{
 "cells": [
  {
   "cell_type": "markdown",
   "metadata": {},
   "source": [
    "https://leetcode.com/explore/interview/card/google/66/others-4/3100/"
   ]
  },
  {
   "cell_type": "code",
   "execution_count": null,
   "metadata": {},
   "outputs": [],
   "source": [
    "from collections import defaultdict\n",
    "\n",
    "class Solution:\n",
    "    def getHint(self, secret: str, guess: str) -> str:\n",
    "        bull_count = 0\n",
    "        cow_count = 0\n",
    "        n = len(secret)\n",
    "        bull_used = [False for i in range(n)]\n",
    "        cow_cand = defaultdict(int)\n",
    "        for i in range(n):\n",
    "            if secret[i] == guess[i]:\n",
    "                bull_count += 1\n",
    "                bull_used[i] = True\n",
    "        \n",
    "        for i in range(n):\n",
    "            if not bull_used[i]:\n",
    "                cow_cand[secret[i]] += 1\n",
    "        \n",
    "        for j in range(n):\n",
    "            if not bull_used[j]:\n",
    "                if guess[j] in cow_cand and cow_cand[guess[j]] > 0:\n",
    "                    cow_count += 1\n",
    "                    cow_cand[guess[j]] -= 1\n",
    "        \n",
    "        res = str(bull_count) + 'A' + str(cow_count) + 'B'\n",
    "        return res"
   ]
  }
 ],
 "metadata": {
  "kernelspec": {
   "display_name": "Python 3",
   "language": "python",
   "name": "python3"
  },
  "language_info": {
   "codemirror_mode": {
    "name": "ipython",
    "version": 3
   },
   "file_extension": ".py",
   "mimetype": "text/x-python",
   "name": "python",
   "nbconvert_exporter": "python",
   "pygments_lexer": "ipython3",
   "version": "3.6.9"
  }
 },
 "nbformat": 4,
 "nbformat_minor": 4
}
