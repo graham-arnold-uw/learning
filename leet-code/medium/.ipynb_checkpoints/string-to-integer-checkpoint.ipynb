{
 "cells": [
  {
   "cell_type": "markdown",
   "metadata": {},
   "source": [
    "https://leetcode.com/problems/string-to-integer-atoi/"
   ]
  },
  {
   "cell_type": "code",
   "execution_count": null,
   "metadata": {},
   "outputs": [],
   "source": [
    "class Solution:\n",
    "    def myAtoi(self, s: str) -> int:\n",
    "        s = s.strip()\n",
    "        \n",
    "        if len(s) == 0:\n",
    "            return 0\n",
    "        \n",
    "        sf = s[0]\n",
    "        \n",
    "        #positive = True\n",
    "        max_allowed = pow(2, 31) - 1\n",
    "        min_allowed = pow(-2, 31)\n",
    "        #set sign and remove if necessary\n",
    "        positive = True\n",
    "        if sf == '-':\n",
    "            s = s[1:]\n",
    "            positive = False\n",
    "        elif sf == '+':\n",
    "            s = s[1:]\n",
    "        \n",
    "        sl = len(s)\n",
    "        \n",
    "        if sl == 0:\n",
    "            return 0\n",
    "        \n",
    "        i = 0\n",
    "        \n",
    "        digs = []\n",
    "        while i < sl and s[i].isnumeric():\n",
    "            digs.append(int(s[i]))\n",
    "            i += 1\n",
    "        \n",
    "        # [4, 2]\n",
    "        \n",
    "        dl = len(digs)\n",
    "        base_exp = 0\n",
    "        ans = 0\n",
    "        \n",
    "        for i in range(dl - 1, -1, -1):\n",
    "            ans += digs[i] * pow(10, base_exp)\n",
    "            base_exp += 1\n",
    "        \n",
    "        if not positive:\n",
    "            ans = -1 * ans\n",
    "            ans = max(ans, min_allowed)\n",
    "        else:\n",
    "            ans = min(ans, max_allowed)\n",
    "        \n",
    "        return ans\n",
    "        \n",
    "        \n",
    "        \n",
    "            "
   ]
  }
 ],
 "metadata": {
  "kernelspec": {
   "display_name": "Python 3",
   "language": "python",
   "name": "python3"
  },
  "language_info": {
   "codemirror_mode": {
    "name": "ipython",
    "version": 3
   },
   "file_extension": ".py",
   "mimetype": "text/x-python",
   "name": "python",
   "nbconvert_exporter": "python",
   "pygments_lexer": "ipython3",
   "version": "3.6.9"
  }
 },
 "nbformat": 4,
 "nbformat_minor": 4
}
