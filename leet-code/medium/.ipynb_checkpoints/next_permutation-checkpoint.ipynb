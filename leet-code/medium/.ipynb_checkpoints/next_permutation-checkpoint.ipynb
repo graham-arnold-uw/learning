{
 "cells": [
  {
   "cell_type": "markdown",
   "metadata": {},
   "source": [
    "https://leetcode.com/problems/next-permutation/"
   ]
  },
  {
   "cell_type": "code",
   "execution_count": null,
   "metadata": {},
   "outputs": [],
   "source": [
    "class Solution:\n",
    "    def nextPermutation(self, nums: List[int]) -> None:\n",
    "        \"\"\"\n",
    "        Do not return anything, modify nums in-place instead.\n",
    "        \"\"\"\n",
    "        n =  len(nums)\n",
    "        \n",
    "        i = n - 1\n",
    "        \n",
    "        while i >= 1:\n",
    "            if nums[i - 1] < nums[i]:\n",
    "                break\n",
    "            i -= 1\n",
    "        \n",
    "        while i > 0:\n",
    "            min_idx = self.find_min(nums, i, n, nums[i - 1])\n",
    "            if min_idx != -1:\n",
    "                nums[i - 1], nums[min_idx] = nums[min_idx], nums[i - 1]\n",
    "                self.insertion_sort(nums, i, n)\n",
    "                return\n",
    "            \n",
    "            i -= 1\n",
    "        \n",
    "        nums.sort()\n",
    "        return\n",
    "       # print(f\"i = {i}\")\n",
    "       # print(f\"min_idx = {min_idx}\")\n",
    "        #swap with min\n",
    "        \n",
    "        #print(nums)\n",
    "        \n",
    "        #print('aftersort')\n",
    "        #print(nums)\n",
    "    def insertion_sort(self, arr, i, n):\n",
    "        \n",
    "        for k in range(i + 1, n):\n",
    "            \n",
    "            key = arr[k]\n",
    "            \n",
    "            j = k - 1\n",
    "            \n",
    "            while j >= i and key < arr[j]:\n",
    "                arr[j + 1] = arr[j]\n",
    "                j -= 1\n",
    "            arr[j + 1] = key\n",
    "        \n",
    "    def find_min(self, nums, i, n, thresh):\n",
    "        min_idx = -1\n",
    "        min_greater = float('inf')\n",
    "        \n",
    "        for k in range(i, n):\n",
    "            if nums[k] > thresh and nums[k] < min_greater:\n",
    "                min_idx = k\n",
    "                min_greater = nums[k]\n",
    "        \n",
    "        return min_idx\n",
    "        "
   ]
  }
 ],
 "metadata": {
  "kernelspec": {
   "display_name": "Python 3",
   "language": "python",
   "name": "python3"
  },
  "language_info": {
   "codemirror_mode": {
    "name": "ipython",
    "version": 3
   },
   "file_extension": ".py",
   "mimetype": "text/x-python",
   "name": "python",
   "nbconvert_exporter": "python",
   "pygments_lexer": "ipython3",
   "version": "3.6.9"
  }
 },
 "nbformat": 4,
 "nbformat_minor": 4
}
