{
 "cells": [
  {
   "cell_type": "markdown",
   "metadata": {},
   "source": [
    "https://leetcode.com/problems/sort-characters-by-frequency/submissions/"
   ]
  },
  {
   "cell_type": "code",
   "execution_count": null,
   "metadata": {},
   "outputs": [],
   "source": [
    "from collections import defaultdict\n",
    "\n",
    "class Solution:\n",
    "    def frequencySort(self, s: str) -> str:\n",
    "        freqs = self.get_frequencies(s) #returns [(c1, f1), (c2,f2)....] sorted biggest -> smallest\n",
    "        \n",
    "        ret = []\n",
    "        \n",
    "        for c, fr in freqs:\n",
    "            for i in range(fr):\n",
    "                ret.append(c)\n",
    "        \n",
    "        ret = \"\".join(ret)\n",
    "        return ret\n",
    "        \n",
    "        \n",
    "    \n",
    "    \n",
    "    def get_frequencies(self, s):\n",
    "        res = defaultdict(int)\n",
    "        \n",
    "        for c in s:\n",
    "            res[c] += 1\n",
    "        \n",
    "        res_l = sorted(res.items(), key = lambda x: -x[1])\n",
    "        return res_l\n",
    "    "
   ]
  }
 ],
 "metadata": {
  "kernelspec": {
   "display_name": "Python 3",
   "language": "python",
   "name": "python3"
  },
  "language_info": {
   "codemirror_mode": {
    "name": "ipython",
    "version": 3
   },
   "file_extension": ".py",
   "mimetype": "text/x-python",
   "name": "python",
   "nbconvert_exporter": "python",
   "pygments_lexer": "ipython3",
   "version": "3.6.9"
  }
 },
 "nbformat": 4,
 "nbformat_minor": 4
}
