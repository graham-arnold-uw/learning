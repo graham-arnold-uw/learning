{
 "cells": [
  {
   "cell_type": "markdown",
   "metadata": {},
   "source": [
    "https://leetcode.com/problems/evaluate-reverse-polish-notation/"
   ]
  },
  {
   "cell_type": "code",
   "execution_count": null,
   "metadata": {},
   "outputs": [],
   "source": [
    "class Solution:\n",
    "    def evalRPN(self, tokens: List[str]) -> int:\n",
    "        stack = []\n",
    "        n = len(tokens)\n",
    "        if n == 1:\n",
    "            return int(tokens[0])\n",
    "        \n",
    "        for i in range(n):\n",
    "            #print(stack)\n",
    "            curr_el = tokens[i]\n",
    "            if curr_el.lstrip('-').isnumeric():\n",
    "                stack.append(int(curr_el))\n",
    "            else:\n",
    "                el2 = stack.pop()\n",
    "                el1 = stack.pop()\n",
    "                if curr_el == '/':\n",
    "                    res = int(el1 / el2)\n",
    "                elif curr_el == '*':\n",
    "                    res = el1 * el2\n",
    "                elif curr_el == '+':\n",
    "                    res = el1 + el2\n",
    "                else: #curr_el == '-'\n",
    "                    res = el1 - el2\n",
    "                stack.append(res)\n",
    "                \n",
    "        return stack.pop()"
   ]
  }
 ],
 "metadata": {
  "kernelspec": {
   "display_name": "Python 3",
   "language": "python",
   "name": "python3"
  },
  "language_info": {
   "codemirror_mode": {
    "name": "ipython",
    "version": 3
   },
   "file_extension": ".py",
   "mimetype": "text/x-python",
   "name": "python",
   "nbconvert_exporter": "python",
   "pygments_lexer": "ipython3",
   "version": "3.6.9"
  }
 },
 "nbformat": 4,
 "nbformat_minor": 4
}
