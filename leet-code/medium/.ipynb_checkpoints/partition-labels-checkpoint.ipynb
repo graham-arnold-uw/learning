{
 "cells": [
  {
   "cell_type": "markdown",
   "metadata": {},
   "source": [
    "https://leetcode.com/problems/partition-labels/"
   ]
  },
  {
   "cell_type": "code",
   "execution_count": null,
   "metadata": {},
   "outputs": [],
   "source": [
    "class Solution:\n",
    "    def partitionLabels(self, s: str) -> List[int]:\n",
    "        min_idx = defaultdict(lambda : float('inf'))\n",
    "        max_idx = defaultdict(lambda : float('-inf'))\n",
    "        \n",
    "        n = len(s)\n",
    "        \n",
    "        for i in range(n):\n",
    "            c = s[i]\n",
    "            if i < min_idx[c]:\n",
    "                min_idx[c] = i\n",
    "            if i > max_idx[c]:\n",
    "                max_idx[c] = i\n",
    "        \n",
    "        intervals = {}\n",
    "        for c in min_idx:\n",
    "            mini = min_idx[c]\n",
    "            maxi = max_idx[c]\n",
    "            intervals[c] = [mini, maxi]\n",
    "   \n",
    "        merged_invals = []\n",
    "        invals = intervals.values()\n",
    "        ninvals = len(invals)\n",
    "        invals = sorted(invals)\n",
    "        \n",
    "        merged_invals.append(invals[0])\n",
    "        \n",
    "        for i in range(1,ninvals):\n",
    "            cs, ce = invals[i]\n",
    "            ls, le = merged_invals[-1]\n",
    "            if cs <= le and ce >= ls:\n",
    "                merged_invals[-1][0], merged_invals[-1][1] = min(cs,ls), max(ce,le)\n",
    "            else:\n",
    "                merged_invals.append([cs, ce])\n",
    "        \n",
    "        res = []\n",
    "        for ms, me in merged_invals:\n",
    "            res.append(me - ms + 1)\n",
    "        return res\n",
    "        \n",
    "        "
   ]
  }
 ],
 "metadata": {
  "kernelspec": {
   "display_name": "Python 3",
   "language": "python",
   "name": "python3"
  },
  "language_info": {
   "codemirror_mode": {
    "name": "ipython",
    "version": 3
   },
   "file_extension": ".py",
   "mimetype": "text/x-python",
   "name": "python",
   "nbconvert_exporter": "python",
   "pygments_lexer": "ipython3",
   "version": "3.6.9"
  }
 },
 "nbformat": 4,
 "nbformat_minor": 4
}
