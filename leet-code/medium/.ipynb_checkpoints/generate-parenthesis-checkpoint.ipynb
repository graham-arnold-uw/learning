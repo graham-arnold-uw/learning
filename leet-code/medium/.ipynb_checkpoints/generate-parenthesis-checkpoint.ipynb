{
 "cells": [
  {
   "cell_type": "markdown",
   "metadata": {},
   "source": [
    "https://leetcode.com/explore/interview/card/amazon/84/recursion/2988/"
   ]
  },
  {
   "cell_type": "code",
   "execution_count": null,
   "metadata": {},
   "outputs": [],
   "source": [
    "from collections import deque\n",
    "\n",
    "class Solution:\n",
    "    def generateParenthesis(self, n: int) -> List[str]:\n",
    "        \n",
    "        \n",
    "        def backtrack_helper(n, open_ct, close_ct, path):\n",
    "            if len(path) == 2 * n:\n",
    "                global_res.append(\"\".join(path))\n",
    "                return\n",
    "            \n",
    "            if open_ct < n:\n",
    "                path.append('(')\n",
    "                backtrack_helper(n, open_ct + 1, close_ct, path)\n",
    "                path.pop()\n",
    "            \n",
    "            if close_ct < open_ct:\n",
    "                path.append(')')\n",
    "                backtrack_helper(n, open_ct, close_ct + 1, path)\n",
    "                path.pop()\n",
    "                \n",
    "            return\n",
    "        \n",
    "        global_res = []\n",
    "        backtrack_helper(n, 0, 0, [])\n",
    "        return global_res"
   ]
  }
 ],
 "metadata": {
  "kernelspec": {
   "display_name": "Python 3",
   "language": "python",
   "name": "python3"
  },
  "language_info": {
   "codemirror_mode": {
    "name": "ipython",
    "version": 3
   },
   "file_extension": ".py",
   "mimetype": "text/x-python",
   "name": "python",
   "nbconvert_exporter": "python",
   "pygments_lexer": "ipython3",
   "version": "3.6.9"
  }
 },
 "nbformat": 4,
 "nbformat_minor": 4
}
