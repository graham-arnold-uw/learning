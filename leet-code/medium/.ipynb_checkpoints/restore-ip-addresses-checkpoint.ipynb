{
 "cells": [
  {
   "cell_type": "markdown",
   "metadata": {},
   "source": [
    "https://leetcode.com/problems/restore-ip-addresses/"
   ]
  },
  {
   "cell_type": "code",
   "execution_count": null,
   "metadata": {},
   "outputs": [],
   "source": [
    "class Solution:\n",
    "    def restoreIpAddresses(self, s: str) -> List[str]:\n",
    "        \n",
    "        n = len(s)\n",
    "        res = []\n",
    "        \n",
    "        def restore_helper(s, i, n, dots, ip):\n",
    "            if dots == 0:\n",
    "                if i < n and is_valid(s[i:n]):\n",
    "                    ip = ip + s[i:n]\n",
    "                    res.append(ip)\n",
    "                return\n",
    "                \n",
    "            candidates = get_candidates(s,i,n)\n",
    "            \n",
    "            for cand in candidates:\n",
    "                clen = len(cand)\n",
    "                ip = ip + cand + \".\"\n",
    "                restore_helper(s, i + clen, n, dots - 1, ip)\n",
    "                ip = ip[:-(clen + 1)]\n",
    "            \n",
    "            return\n",
    "            \n",
    "        \n",
    "        def get_candidates(s, i, n):\n",
    "            cands = []\n",
    "            j = i + 1\n",
    "            \n",
    "            while j <= n and is_valid(s[i:j]):\n",
    "                cands.append(s[i:j])\n",
    "                j += 1\n",
    "            \n",
    "            return cands\n",
    "        \n",
    "        \n",
    "        def is_valid(s):\n",
    "            if len(s) > 1 and s[0] == '0':\n",
    "                return False\n",
    "            \n",
    "            sint = int(s)\n",
    "            if 0 <= sint <= 255:\n",
    "                return True\n",
    "            return False\n",
    "        \n",
    "        ip_in = ''\n",
    "        restore_helper(s, 0, n, 3, ip_in)\n",
    "        return res\n",
    "        "
   ]
  }
 ],
 "metadata": {
  "kernelspec": {
   "display_name": "Python 3",
   "language": "python",
   "name": "python3"
  },
  "language_info": {
   "codemirror_mode": {
    "name": "ipython",
    "version": 3
   },
   "file_extension": ".py",
   "mimetype": "text/x-python",
   "name": "python",
   "nbconvert_exporter": "python",
   "pygments_lexer": "ipython3",
   "version": "3.6.9"
  }
 },
 "nbformat": 4,
 "nbformat_minor": 4
}
