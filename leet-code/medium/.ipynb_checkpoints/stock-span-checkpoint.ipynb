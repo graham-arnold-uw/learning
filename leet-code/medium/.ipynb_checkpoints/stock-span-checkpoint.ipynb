{
 "cells": [
  {
   "cell_type": "markdown",
   "metadata": {},
   "source": [
    "https://leetcode.com/problems/online-stock-span/"
   ]
  },
  {
   "cell_type": "code",
   "execution_count": null,
   "metadata": {},
   "outputs": [],
   "source": [
    "class StockSpanner:\n",
    "    \n",
    "    def __init__(self):\n",
    "        self.stack = []\n",
    "        \n",
    "\n",
    "    def next(self, price: int) -> int:\n",
    "        span = 1\n",
    "        \n",
    "        while len(self.stack) > 0 and self.stack[-1][0] <= price:\n",
    "            top = self.stack.pop()\n",
    "            span += top[1]\n",
    "        \n",
    "        self.stack.append((price, span))\n",
    "        return span\n",
    "\n",
    "\n",
    "    \n",
    "\n",
    "        \n",
    "# Your StockSpanner object will be instantiated and called as such:\n",
    "# obj = StockSpanner()\n",
    "# param_1 = obj.next(price)"
   ]
  }
 ],
 "metadata": {
  "kernelspec": {
   "display_name": "Python 3",
   "language": "python",
   "name": "python3"
  },
  "language_info": {
   "codemirror_mode": {
    "name": "ipython",
    "version": 3
   },
   "file_extension": ".py",
   "mimetype": "text/x-python",
   "name": "python",
   "nbconvert_exporter": "python",
   "pygments_lexer": "ipython3",
   "version": "3.6.9"
  }
 },
 "nbformat": 4,
 "nbformat_minor": 4
}
