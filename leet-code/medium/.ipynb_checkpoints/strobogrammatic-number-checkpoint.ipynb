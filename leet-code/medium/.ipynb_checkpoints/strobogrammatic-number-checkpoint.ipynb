{
 "cells": [
  {
   "cell_type": "markdown",
   "metadata": {},
   "source": [
    "https://leetcode.com/explore/interview/card/google/66/others-4/3099/"
   ]
  },
  {
   "cell_type": "code",
   "execution_count": null,
   "metadata": {},
   "outputs": [],
   "source": [
    "class Solution:\n",
    "    def isStrobogrammatic(self, num: str) -> bool:\n",
    "        def is_valid(d1, d2):\n",
    "            if d1 not in mapping or d2 not in mapping:\n",
    "                return False\n",
    "            \n",
    "            if mapping[d1] == d2 and mapping[d2] == d1:\n",
    "                return True\n",
    "            \n",
    "            return False\n",
    "        \n",
    "        \n",
    "        if num == 0:\n",
    "            return True\n",
    "        mapping = {'0':'0', '1':'1', '6':'9', '8':'8', '9':'6'}\n",
    "        #num_list = build_list(num)\n",
    "        n = len(num)\n",
    "        l = 0\n",
    "        r = n - 1\n",
    "        \n",
    "        while l <= r and is_valid(num[l], num[r]):\n",
    "            l += 1\n",
    "            r -= 1\n",
    "            \n",
    "        if l <= r:\n",
    "            return False\n",
    "        \n",
    "        return True"
   ]
  }
 ],
 "metadata": {
  "kernelspec": {
   "display_name": "Python 3",
   "language": "python",
   "name": "python3"
  },
  "language_info": {
   "codemirror_mode": {
    "name": "ipython",
    "version": 3
   },
   "file_extension": ".py",
   "mimetype": "text/x-python",
   "name": "python",
   "nbconvert_exporter": "python",
   "pygments_lexer": "ipython3",
   "version": "3.6.9"
  }
 },
 "nbformat": 4,
 "nbformat_minor": 4
}
