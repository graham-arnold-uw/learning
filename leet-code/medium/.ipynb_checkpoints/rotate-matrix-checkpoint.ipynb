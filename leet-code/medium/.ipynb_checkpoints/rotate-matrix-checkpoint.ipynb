{
 "cells": [
  {
   "cell_type": "markdown",
   "metadata": {},
   "source": [
    "https://leetcode.com/problems/rotate-image/"
   ]
  },
  {
   "cell_type": "code",
   "execution_count": 22,
   "metadata": {},
   "outputs": [],
   "source": [
    "def right_rotate_matrix(mat):\n",
    "    n = len(mat)\n",
    "    \n",
    "    mid = n // 2\n",
    "    extra = n % 2\n",
    "    \n",
    "    for row in range(mid + extra):\n",
    "        for col in range(mid):\n",
    "            temp = mat[row][col]\n",
    "            mat[row][col] = mat[n - col - 1][row]\n",
    "            mat[n - col - 1][row] = mat[n - row - 1][n - col - 1]\n",
    "            mat[n - row - 1][n - col - 1] = mat[col][n - row - 1]\n",
    "            mat[col][n - row - 1] = temp\n",
    "            \n",
    "def left_rotate_matrix(mat):\n",
    "    n = len(mat)\n",
    "    \n",
    "    mid = n // 2\n",
    "    extra = n % 2\n",
    "    \n",
    "    for row in range(mid + extra):\n",
    "        for col in range(mid):\n",
    "            temp = mat[n - col - 1][row]\n",
    "            mat[n - col - 1][row] = mat[row][col]\n",
    "            mat[row][col] = mat[col][n - row - 1]\n",
    "            mat[col][n - row - 1] = mat[n - row - 1][n - col - 1]\n",
    "            mat[n - row - 1][n - col - 1] = temp\n",
    "\n",
    "def transpose_matrix(mat):\n",
    "    num_rows = len(mat)\n",
    "    num_cols = len(mat[0])\n",
    "    \n",
    "    for i in range(num_rows):\n",
    "        for j in range(i, num_cols):\n",
    "            mat[i][j], mat[j][i] = mat[j][i], mat[i][j]\n",
    "\n",
    "def column_reflect_matrix(mat):\n",
    "    num_rows = len(mat)\n",
    "    num_cols = len(mat[0])\n",
    "    \n",
    "    mid = num_cols // 2\n",
    "    \n",
    "    for i in range(num_rows):\n",
    "        for j in range(mid):\n",
    "            mat[i][j], mat[i][num_cols - j - 1] = mat[i][num_cols - j - 1], mat[i][j]\n",
    "            \n",
    "\n",
    "def row_reflect_matrix(mat):\n",
    "    num_rows = len(mat)\n",
    "    num_cols = len(mat[0])\n",
    "    \n",
    "    mid = num_rows // 2\n",
    "    \n",
    "    for i in range(mid):\n",
    "        for j in range(num_cols):\n",
    "            mat[i][j], mat[num_rows - i - 1][j] = mat[num_rows - i - 1][j], mat[i][j]    \n",
    "    "
   ]
  },
  {
   "cell_type": "code",
   "execution_count": null,
   "metadata": {},
   "outputs": [],
   "source": [
    "\n"
   ]
  },
  {
   "cell_type": "code",
   "execution_count": 15,
   "metadata": {},
   "outputs": [
    {
     "name": "stdout",
     "output_type": "stream",
     "text": [
      "[5, 1, 9, 11]\n",
      "[2, 4, 8, 10]\n",
      "[13, 3, 6, 7]\n",
      "[15, 14, 12, 16]\n",
      "\n",
      "[15, 13, 2, 5]\n",
      "[14, 3, 4, 1]\n",
      "[12, 6, 8, 9]\n",
      "[16, 7, 10, 11]\n"
     ]
    }
   ],
   "source": [
    "matrix = [[5,1,9,11],[2,4,8,10],[13,3,6,7],[15,14,12,16]]\n",
    "for m in matrix:\n",
    "    print(m)\n",
    "right_rotate_matrix(matrix)\n",
    "print()\n",
    "for m in matrix:\n",
    "    print(m)"
   ]
  },
  {
   "cell_type": "code",
   "execution_count": 16,
   "metadata": {},
   "outputs": [
    {
     "name": "stdout",
     "output_type": "stream",
     "text": [
      "[5, 1, 9, 11]\n",
      "[2, 4, 8, 10]\n",
      "[13, 3, 6, 7]\n",
      "[15, 14, 12, 16]\n",
      "\n",
      "[11, 10, 7, 16]\n",
      "[9, 8, 6, 12]\n",
      "[1, 4, 3, 14]\n",
      "[5, 2, 13, 15]\n"
     ]
    }
   ],
   "source": [
    "matrix = [[5,1,9,11],[2,4,8,10],[13,3,6,7],[15,14,12,16]]\n",
    "for m in matrix:\n",
    "    print(m)\n",
    "left_rotate_matrix(matrix)\n",
    "print()\n",
    "for m in matrix:\n",
    "    print(m)"
   ]
  },
  {
   "cell_type": "code",
   "execution_count": 21,
   "metadata": {},
   "outputs": [
    {
     "name": "stdout",
     "output_type": "stream",
     "text": [
      "[5, 1, 9, 11]\n",
      "[2, 4, 8, 10]\n",
      "[13, 3, 6, 7]\n",
      "[15, 14, 12, 16]\n",
      "\n",
      "[5, 2, 13, 15]\n",
      "[1, 4, 3, 14]\n",
      "[9, 8, 6, 12]\n",
      "[11, 10, 7, 16]\n",
      "\n",
      "[15, 13, 2, 5]\n",
      "[14, 3, 4, 1]\n",
      "[12, 6, 8, 9]\n",
      "[16, 7, 10, 11]\n"
     ]
    }
   ],
   "source": [
    "matrix = [[5,1,9,11],[2,4,8,10],[13,3,6,7],[15,14,12,16]]\n",
    "for m in matrix:\n",
    "    print(m)\n",
    "transpose_matrix(matrix)\n",
    "print()\n",
    "for m in matrix:\n",
    "    print(m)\n",
    "    \n",
    "column_reflect_matrix(matrix)\n",
    "print()\n",
    "for m in matrix:\n",
    "    print(m)"
   ]
  },
  {
   "cell_type": "code",
   "execution_count": 23,
   "metadata": {},
   "outputs": [
    {
     "name": "stdout",
     "output_type": "stream",
     "text": [
      "[5, 1, 9, 11]\n",
      "[2, 4, 8, 10]\n",
      "[13, 3, 6, 7]\n",
      "[15, 14, 12, 16]\n",
      "\n",
      "[5, 2, 13, 15]\n",
      "[1, 4, 3, 14]\n",
      "[9, 8, 6, 12]\n",
      "[11, 10, 7, 16]\n",
      "\n",
      "[11, 10, 7, 16]\n",
      "[9, 8, 6, 12]\n",
      "[1, 4, 3, 14]\n",
      "[5, 2, 13, 15]\n"
     ]
    }
   ],
   "source": [
    "matrix = [[5,1,9,11],[2,4,8,10],[13,3,6,7],[15,14,12,16]]\n",
    "for m in matrix:\n",
    "    print(m)\n",
    "transpose_matrix(matrix)\n",
    "print()\n",
    "for m in matrix:\n",
    "    print(m)\n",
    "    \n",
    "row_reflect_matrix(matrix)\n",
    "print()\n",
    "for m in matrix:\n",
    "    print(m)"
   ]
  },
  {
   "cell_type": "code",
   "execution_count": null,
   "metadata": {},
   "outputs": [],
   "source": []
  }
 ],
 "metadata": {
  "kernelspec": {
   "display_name": "Python 3",
   "language": "python",
   "name": "python3"
  },
  "language_info": {
   "codemirror_mode": {
    "name": "ipython",
    "version": 3
   },
   "file_extension": ".py",
   "mimetype": "text/x-python",
   "name": "python",
   "nbconvert_exporter": "python",
   "pygments_lexer": "ipython3",
   "version": "3.6.9"
  }
 },
 "nbformat": 4,
 "nbformat_minor": 4
}
