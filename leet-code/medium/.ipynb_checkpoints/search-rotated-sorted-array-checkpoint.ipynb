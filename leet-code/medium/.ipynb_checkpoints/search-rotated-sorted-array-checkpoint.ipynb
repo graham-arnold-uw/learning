{
 "cells": [
  {
   "cell_type": "markdown",
   "metadata": {},
   "source": [
    "https://leetcode.com/problems/search-in-rotated-sorted-array/"
   ]
  },
  {
   "cell_type": "code",
   "execution_count": null,
   "metadata": {},
   "outputs": [],
   "source": [
    "class Solution:\n",
    "    def search(self, nums: List[int], target: int) -> int:\n",
    "        \n",
    "        def find_rotation(arr,l, r):\n",
    "            if r >= l:\n",
    "                m = l + (r - l) // 2\n",
    "                lm = m - 1\n",
    "                rm = m + 1\n",
    "                if lm >= 0:\n",
    "                    if arr[m] < arr[lm]:\n",
    "                        return m\n",
    "                if rm < n:\n",
    "                    if arr[m] > arr[rm]:\n",
    "                        return rm\n",
    "                    \n",
    "                if arr[m] < arr[n - 1]:\n",
    "                    return find_rotation(arr,l, m - 1)\n",
    "                else:\n",
    "                    return find_rotation(arr, m + 1, r)\n",
    "            else:   \n",
    "                return -1\n",
    "        \n",
    "        def binary_search(arr, l, r):\n",
    "            \n",
    "            if r >= l:\n",
    "                m = l + (r - l) // 2\n",
    "                if arr[m] == target:\n",
    "                    return m\n",
    "                \n",
    "                elif arr[m] > target:\n",
    "                    return binary_search(arr, l, m - 1)\n",
    "                else:\n",
    "                    return binary_search(arr, m+1, r)\n",
    "            else:\n",
    "                return -1\n",
    "            \n",
    "            \n",
    "        n = len(nums)\n",
    "        if n == 1:\n",
    "            if nums[0] == target:\n",
    "                return 0\n",
    "            return -1\n",
    "        \n",
    "        if nums[0] < nums[n-1]:\n",
    "            return binary_search(nums,0,n-1)\n",
    "        \n",
    "        k = find_rotation(nums,0, n - 1)\n",
    "        ml = nums[k]\n",
    "        mu = nums[k-1]\n",
    "        \n",
    "        if target >= nums[0] and target <= mu:\n",
    "            return binary_search(nums, 0, k-1)\n",
    "        else:\n",
    "            return binary_search(nums,k, n-1)\n",
    "        \n",
    "        "
   ]
  }
 ],
 "metadata": {
  "kernelspec": {
   "display_name": "Python 3",
   "language": "python",
   "name": "python3"
  },
  "language_info": {
   "codemirror_mode": {
    "name": "ipython",
    "version": 3
   },
   "file_extension": ".py",
   "mimetype": "text/x-python",
   "name": "python",
   "nbconvert_exporter": "python",
   "pygments_lexer": "ipython3",
   "version": "3.6.9"
  }
 },
 "nbformat": 4,
 "nbformat_minor": 4
}
