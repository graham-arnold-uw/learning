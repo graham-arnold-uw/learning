{
 "cells": [
  {
   "cell_type": "markdown",
   "metadata": {},
   "source": [
    "https://leetcode.com/explore/featured/card/google/61/trees-and-graphs/3072/"
   ]
  },
  {
   "cell_type": "code",
   "execution_count": null,
   "metadata": {},
   "outputs": [],
   "source": [
    "\n",
    "from collections import defaultdict\n",
    "\n",
    "class Solution:\n",
    "    def longestIncreasingPath(self, matrix: List[List[int]]) -> int:\n",
    "       \n",
    "        def path_helper(matrix, i, j, memo):\n",
    "            \n",
    "            if (i,j) in memo:\n",
    "                return memo[(i,j)]\n",
    "            \n",
    "            max_neigh = 0\n",
    "            directions = [(-1,0), (1,0), (0,-1), (0,1)]\n",
    "            for di, dj in directions:\n",
    "                ni,nj = i + di, j + dj\n",
    "                if ni >= 0 and ni < m and nj >= 0 and nj < n and matrix[ni][nj] > matrix[i][j]:\n",
    "                    neigh_max = path_helper(matrix, ni, nj, memo)\n",
    "                    max_neigh = max(max_neigh, neigh_max)\n",
    "                    #visited[ni][nj] = 0\n",
    "            \n",
    "            memo[(i,j)] = max_neigh + 1\n",
    "            return max_neigh + 1\n",
    "            \n",
    "        \n",
    "        '''\n",
    "        def get_candidates(matrix, i, j, m, n):\n",
    "            \n",
    "            directions = [(-1,0),(1,0)(0,-1),(0,1)]\n",
    "            #node_val = matrix[i][j]\n",
    "            candidates = []\n",
    "            for di, dj in directions:\n",
    "                ni,nj = i + di, j + dj\n",
    "                if ni >= 0 and ni < m and nj >= 0 and nj < n and matrix[ni][nj] > matrix[i][j]:\n",
    "                    candidates.append((ni, nj))\n",
    "            return candidates'''\n",
    "        \n",
    "        max_path = 0\n",
    "        \n",
    "        m = len(matrix)\n",
    "        n = len(matrix[0])\n",
    "        \n",
    "        memo = {}\n",
    "   \n",
    "        for i in range(m):\n",
    "            for j in range(n):\n",
    "                #visited = [[0 for j in range(n)] for i in range(m)]\n",
    "                #visited[i][j] = 1\n",
    "                max_here = path_helper(matrix,i, j, memo)\n",
    "                max_path = max(max_here, max_path)\n",
    "                \n",
    "                \n",
    "        return max_path"
   ]
  }
 ],
 "metadata": {
  "kernelspec": {
   "display_name": "Python 3",
   "language": "python",
   "name": "python3"
  },
  "language_info": {
   "codemirror_mode": {
    "name": "ipython",
    "version": 3
   },
   "file_extension": ".py",
   "mimetype": "text/x-python",
   "name": "python",
   "nbconvert_exporter": "python",
   "pygments_lexer": "ipython3",
   "version": "3.6.9"
  }
 },
 "nbformat": 4,
 "nbformat_minor": 4
}
