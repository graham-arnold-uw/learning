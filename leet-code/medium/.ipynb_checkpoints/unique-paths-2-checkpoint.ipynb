{
 "cells": [
  {
   "cell_type": "markdown",
   "metadata": {},
   "source": [
    "https://leetcode.com/problems/unique-paths-ii/submissions/"
   ]
  },
  {
   "cell_type": "code",
   "execution_count": null,
   "metadata": {},
   "outputs": [],
   "source": [
    "class Solution:\n",
    "    def uniquePathsWithObstacles(self, obstacleGrid: List[List[int]]) -> int:\n",
    "        m = len(obstacleGrid)\n",
    "        n = len(obstacleGrid[0])\n",
    "        \n",
    "        if obstacleGrid[0][0] == 1 or obstacleGrid[m-1][n-1] == 1:\n",
    "            return 0\n",
    "        memo = {}\n",
    "        res = self.unique_helper(obstacleGrid,m,n,0,0, memo)\n",
    "        return res\n",
    "    \n",
    "    \n",
    "    \n",
    "    def unique_helper(self, og, m, n, i, j, memo):\n",
    "        if (i,j) in memo:\n",
    "            return memo[(i,j)]\n",
    "        elif i == m - 1 and j == n - 1:\n",
    "            return 1\n",
    "        elif i >= m or j >= n:\n",
    "            return 0\n",
    "        elif og[i][j] == 1:\n",
    "            return 0\n",
    "        else:\n",
    "            unique_down = self.unique_helper(og, m, n, i + 1, j, memo)\n",
    "            unique_right = self.unique_helper(og, m, n, i, j + 1, memo)\n",
    "            \n",
    "            total_unique = unique_down + unique_right\n",
    "            memo[(i,j)] = total_unique\n",
    "            return total_unique"
   ]
  }
 ],
 "metadata": {
  "kernelspec": {
   "display_name": "Python 3",
   "language": "python",
   "name": "python3"
  },
  "language_info": {
   "codemirror_mode": {
    "name": "ipython",
    "version": 3
   },
   "file_extension": ".py",
   "mimetype": "text/x-python",
   "name": "python",
   "nbconvert_exporter": "python",
   "pygments_lexer": "ipython3",
   "version": "3.6.9"
  }
 },
 "nbformat": 4,
 "nbformat_minor": 4
}
