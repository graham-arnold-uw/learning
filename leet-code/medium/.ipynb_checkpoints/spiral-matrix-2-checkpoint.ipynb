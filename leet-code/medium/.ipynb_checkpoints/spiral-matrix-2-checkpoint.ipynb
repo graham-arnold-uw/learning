{
 "cells": [
  {
   "cell_type": "markdown",
   "metadata": {},
   "source": [
    "https://leetcode.com/problems/spiral-matrix-ii/submissions/"
   ]
  },
  {
   "cell_type": "code",
   "execution_count": null,
   "metadata": {},
   "outputs": [],
   "source": [
    "class Solution:\n",
    "    def generateMatrix(self, n: int) -> List[List[int]]:\n",
    "        \n",
    "        counter = 1\n",
    "        n_sqr = n*n\n",
    "        \n",
    "        mat = [[0 for i in range(n)] for j in range(n)]\n",
    "        rs = cs = 0\n",
    "        re = n - 1\n",
    "        ce = n - 1\n",
    "        \n",
    "        while counter <= n_sqr:\n",
    "            \n",
    "            #add top row\n",
    "            for k in range(cs, ce + 1):\n",
    "                mat[rs][k] = counter\n",
    "                counter += 1\n",
    "            #print(counter)\n",
    "            #print()\n",
    "            #print(mat)\n",
    "            #add side col\n",
    "            for k in range(rs + 1, re + 1):\n",
    "                mat[k][ce] = counter\n",
    "                counter += 1\n",
    "                \n",
    "            #if more than one row, process along bottom\n",
    "            if re != rs:\n",
    "                for k in range(ce - 1, cs - 1, -1):\n",
    "                    mat[re][k] = counter\n",
    "                    counter += 1\n",
    "            \n",
    "            #if mor ethan one col, process left side\n",
    "            if cs != ce:\n",
    "                for k in range(re - 1, rs, - 1):\n",
    "                    mat[k][cs] = counter\n",
    "                    counter += 1\n",
    "            \n",
    "            rs += 1\n",
    "            cs += 1\n",
    "            re -= 1\n",
    "            ce -= 1\n",
    "        \n",
    "        return mat"
   ]
  }
 ],
 "metadata": {
  "kernelspec": {
   "display_name": "Python 3",
   "language": "python",
   "name": "python3"
  },
  "language_info": {
   "codemirror_mode": {
    "name": "ipython",
    "version": 3
   },
   "file_extension": ".py",
   "mimetype": "text/x-python",
   "name": "python",
   "nbconvert_exporter": "python",
   "pygments_lexer": "ipython3",
   "version": "3.6.9"
  }
 },
 "nbformat": 4,
 "nbformat_minor": 4
}
