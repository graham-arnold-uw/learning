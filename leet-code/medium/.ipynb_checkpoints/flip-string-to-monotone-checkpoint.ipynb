{
 "cells": [
  {
   "cell_type": "markdown",
   "metadata": {},
   "source": [
    "https://leetcode.com/problems/flip-string-to-monotone-increasing/"
   ]
  },
  {
   "cell_type": "code",
   "execution_count": null,
   "metadata": {},
   "outputs": [],
   "source": [
    "class Solution:\n",
    "    def minFlipsMonoIncr(self, s: str) -> int:\n",
    "        n = len(s)\n",
    "        bits = [int(bit) for bit in s]\n",
    "        left_ones = [0 for i in range(n + 1)]\n",
    "        \n",
    "        for i in range(0, n):\n",
    "            left_ones[i + 1] = bits[i] + left_ones[i]\n",
    "        \n",
    "        #print(left_ones)\n",
    "        #right zeroes at index i\n",
    "        \n",
    "        min_seen = float('inf')\n",
    "        for j in range(n + 1):\n",
    "            min_here = left_ones[j] + n - j - (left_ones[n] - left_ones[j])\n",
    "            min_seen = min(min_seen, min_here)\n",
    "        \n",
    "        return min_seen"
   ]
  }
 ],
 "metadata": {
  "kernelspec": {
   "display_name": "Python 3",
   "language": "python",
   "name": "python3"
  },
  "language_info": {
   "codemirror_mode": {
    "name": "ipython",
    "version": 3
   },
   "file_extension": ".py",
   "mimetype": "text/x-python",
   "name": "python",
   "nbconvert_exporter": "python",
   "pygments_lexer": "ipython3",
   "version": "3.6.9"
  }
 },
 "nbformat": 4,
 "nbformat_minor": 4
}
