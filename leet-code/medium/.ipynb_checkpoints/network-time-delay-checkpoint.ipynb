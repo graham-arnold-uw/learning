{
 "cells": [
  {
   "cell_type": "markdown",
   "metadata": {},
   "source": [
    "https://leetcode.com/problems/network-delay-time/"
   ]
  },
  {
   "cell_type": "code",
   "execution_count": null,
   "metadata": {},
   "outputs": [],
   "source": [
    "from collections import defaultdict\n",
    "import heapq\n",
    "class Solution:\n",
    "    def networkDelayTime(self, times: List[List[int]], n: int, k: int) -> int:\n",
    "        graph = defaultdict(list)\n",
    "        for u, v, w in times:\n",
    "            graph[u].append((v,w))\n",
    "            \n",
    "        heap = []\n",
    "        heapq.heappush(heap, (0,k))\n",
    "        visited = [False for i in range(n + 1)]\n",
    "        distances = [float('inf') for i in range(n + 1)]\n",
    "        distances[k] = 0\n",
    "        \n",
    "        while len(heap) > 0:\n",
    "            curr_dist, curr_node = heapq.heappop(heap)\n",
    "            if visited[curr_node]:\n",
    "                continue\n",
    "            visited[curr_node] = True\n",
    "            \n",
    "            for nv, nd in graph[curr_node]:\n",
    "                if nd + curr_dist < distances[nv]:\n",
    "                    distances[nv] = nd + curr_dist\n",
    "                if not visited[nv]:\n",
    "                    heapq.heappush(heap, (nd + curr_dist, nv))\n",
    "                    \n",
    "        max_seen = 0  \n",
    "        print(distances)\n",
    "        for i in range(1, n+1):\n",
    "            if distances[i] == float('inf'):\n",
    "                return -1\n",
    "            max_seen = max(max_seen, distances[i])\n",
    "        return max_seen\n",
    "        "
   ]
  }
 ],
 "metadata": {
  "kernelspec": {
   "display_name": "Python 3",
   "language": "python",
   "name": "python3"
  },
  "language_info": {
   "codemirror_mode": {
    "name": "ipython",
    "version": 3
   },
   "file_extension": ".py",
   "mimetype": "text/x-python",
   "name": "python",
   "nbconvert_exporter": "python",
   "pygments_lexer": "ipython3",
   "version": "3.6.9"
  }
 },
 "nbformat": 4,
 "nbformat_minor": 4
}
