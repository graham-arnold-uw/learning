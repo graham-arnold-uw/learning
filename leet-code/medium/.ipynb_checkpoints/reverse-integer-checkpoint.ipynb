{
 "cells": [
  {
   "cell_type": "markdown",
   "metadata": {},
   "source": [
    "https://leetcode.com/explore/interview/card/google/66/others-4/3096/"
   ]
  },
  {
   "cell_type": "code",
   "execution_count": null,
   "metadata": {},
   "outputs": [],
   "source": [
    "class Solution:\n",
    "    def reverse(self, x: int) -> int:\n",
    "        min_bound = -pow(2,31)\n",
    "        max_bound = pow(2,31) - 1\n",
    "        \n",
    "        if x < 0:\n",
    "            neg = True\n",
    "            lim_bound = min_bound\n",
    "            x = -x\n",
    "        else:\n",
    "            neg = False\n",
    "            lim_bound = max_bound\n",
    "            \n",
    "        res = 0\n",
    "        \n",
    "        while x > 0:\n",
    "            dig = x % 10\n",
    "            x = x // 10\n",
    "            if neg:\n",
    "                if (min_bound + dig) / 10 > -res:\n",
    "                    return 0\n",
    "            else:\n",
    "                if (max_bound - dig) / 10 < res:\n",
    "                    return 0\n",
    "            res = res * 10 + (dig)\n",
    "        \n",
    "        return res if not neg else -res\n",
    "            \n",
    "        "
   ]
  }
 ],
 "metadata": {
  "kernelspec": {
   "display_name": "Python 3",
   "language": "python",
   "name": "python3"
  },
  "language_info": {
   "codemirror_mode": {
    "name": "ipython",
    "version": 3
   },
   "file_extension": ".py",
   "mimetype": "text/x-python",
   "name": "python",
   "nbconvert_exporter": "python",
   "pygments_lexer": "ipython3",
   "version": "3.6.9"
  }
 },
 "nbformat": 4,
 "nbformat_minor": 4
}
