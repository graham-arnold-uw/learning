{
 "cells": [
  {
   "cell_type": "markdown",
   "metadata": {},
   "source": [
    "https://leetcode.com/problems/jump-game-ii/"
   ]
  },
  {
   "cell_type": "code",
   "execution_count": null,
   "metadata": {},
   "outputs": [],
   "source": [
    "class Solution:\n",
    "    def jump(self, nums: List[int]) -> int:\n",
    "        n = len(nums)\n",
    "        dp = [0 for i in range(n)]\n",
    "        \n",
    "        \n",
    "        for i in range(n - 2, -1, -1):\n",
    "            max_jump = nums[i]\n",
    "            min_neigh = float('inf')\n",
    "            for j in range(i + 1, min(n, i + max_jump + 1)):\n",
    "                neigh_jumps = dp[j]\n",
    "                min_neigh = min(neigh_jumps, min_neigh)\n",
    "            \n",
    "            dp[i] = 1 + min_neigh\n",
    "        \n",
    "        \n",
    "        return dp[0]"
   ]
  }
 ],
 "metadata": {
  "kernelspec": {
   "display_name": "Python 3",
   "language": "python",
   "name": "python3"
  },
  "language_info": {
   "codemirror_mode": {
    "name": "ipython",
    "version": 3
   },
   "file_extension": ".py",
   "mimetype": "text/x-python",
   "name": "python",
   "nbconvert_exporter": "python",
   "pygments_lexer": "ipython3",
   "version": "3.6.9"
  }
 },
 "nbformat": 4,
 "nbformat_minor": 4
}
