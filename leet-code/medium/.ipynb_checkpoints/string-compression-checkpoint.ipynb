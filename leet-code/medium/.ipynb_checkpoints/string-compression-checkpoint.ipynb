{
 "cells": [
  {
   "cell_type": "markdown",
   "metadata": {},
   "source": [
    "https://leetcode.com/problems/string-compression/"
   ]
  },
  {
   "cell_type": "code",
   "execution_count": null,
   "metadata": {},
   "outputs": [],
   "source": [
    "class Solution:\n",
    "    def compress(self, chars: List[str]) -> int:\n",
    "        \n",
    "        total_ct = 0\n",
    "        n = len(chars)\n",
    "        \n",
    "        if n < 2:\n",
    "            return n\n",
    "        \n",
    "        i = 0\n",
    "        out_idx = 0\n",
    "        while i < n:\n",
    "            base_char = chars[i]\n",
    "            base_idx = i\n",
    "            chars[out_idx] = base_char\n",
    "            out_idx += 1\n",
    "            same_ct = 0\n",
    "            total_ct += 1\n",
    "            \n",
    "            while i < n and chars[i] == base_char:\n",
    "                same_ct += 1\n",
    "                i += 1\n",
    "            \n",
    "            #print(\"Current run values\")\n",
    "            #print(f\"base_char = {base_char} base_idx = {base_idx} same_ct = {same_ct} i = {i}\")\n",
    "            #print()\n",
    "            if same_ct > 1:\n",
    "                #num_ct = self.process_same_count(same_ct)\n",
    "                #next_idx = base_idx + 1\n",
    "                thousands = same_ct // 1000\n",
    "                next_beg = 1\n",
    "                if thousands > 0:\n",
    "                    chars[out_idx] = str(thousands)\n",
    "                    out_idx += 1\n",
    "                    total_ct += 1\n",
    "                    next_beg = 0\n",
    "                \n",
    "                hundreds = (same_ct % 1000) // 100\n",
    "                if hundreds >= next_beg:\n",
    "                    chars[out_idx] = str(hundreds)\n",
    "                    out_idx += 1\n",
    "                    total_ct += 1\n",
    "                    next_beg = 0\n",
    "                    \n",
    "                tens = (same_ct % 100) // 10\n",
    "                if tens >= next_beg:\n",
    "                    chars[out_idx] = str(tens)\n",
    "                    out_idx += 1\n",
    "                    total_ct += 1\n",
    "                    next_beg = 0\n",
    "                \n",
    "                ones = same_ct % 10\n",
    "                chars[out_idx] = str(ones)\n",
    "                out_idx += 1\n",
    "                total_ct += 1\n",
    "        \n",
    "        return total_ct\n",
    "    \n",
    "    def process_same_count(self, same_ct):\n",
    "        \n",
    "        dig_ct = 0\n",
    "        \n",
    "        while same_ct > 0:\n",
    "            dig_ct += 1\n",
    "            same_ct = same_ct // 10\n",
    "        \n",
    "        return dig_ct"
   ]
  }
 ],
 "metadata": {
  "kernelspec": {
   "display_name": "Python 3",
   "language": "python",
   "name": "python3"
  },
  "language_info": {
   "codemirror_mode": {
    "name": "ipython",
    "version": 3
   },
   "file_extension": ".py",
   "mimetype": "text/x-python",
   "name": "python",
   "nbconvert_exporter": "python",
   "pygments_lexer": "ipython3",
   "version": "3.6.9"
  }
 },
 "nbformat": 4,
 "nbformat_minor": 4
}
