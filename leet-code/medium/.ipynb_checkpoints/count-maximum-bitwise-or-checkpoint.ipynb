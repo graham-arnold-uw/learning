{
 "cells": [
  {
   "cell_type": "markdown",
   "metadata": {},
   "source": [
    "https://leetcode.com/problems/count-number-of-maximum-bitwise-or-subsets/"
   ]
  },
  {
   "cell_type": "code",
   "execution_count": null,
   "metadata": {},
   "outputs": [],
   "source": [
    "class Solution:\n",
    "    def countMaxOrSubsets(self, nums: List[int]) -> int:\n",
    "        \n",
    "        def count_helper(nums, n, i, curr_sum):\n",
    "            nonlocal overall_max\n",
    "            \n",
    "            \n",
    "            for j in range(i, n):\n",
    "                next_sum = curr_sum | nums[j]\n",
    "                if next_sum > overall_max:\n",
    "                    overall_max = next_sum\n",
    "                    max_cts[overall_max] =  1\n",
    "                elif next_sum == overall_max:\n",
    "                    max_cts[overall_max] += 1\n",
    "                \n",
    "                count_helper(nums, n, j + 1, next_sum)\n",
    "                \n",
    "                    \n",
    "        \n",
    "        \n",
    "        \n",
    "        max_cts = defaultdict(int)\n",
    "        overall_max = 0\n",
    "        n = len(nums)\n",
    "        curr_sum = 0\n",
    "        count_helper(nums, n, 0, curr_sum)\n",
    "        #print(overall_max)\n",
    "        max_ct = max_cts[overall_max]\n",
    "        return max_ct\n",
    "    "
   ]
  }
 ],
 "metadata": {
  "kernelspec": {
   "display_name": "Python 3",
   "language": "python",
   "name": "python3"
  },
  "language_info": {
   "codemirror_mode": {
    "name": "ipython",
    "version": 3
   },
   "file_extension": ".py",
   "mimetype": "text/x-python",
   "name": "python",
   "nbconvert_exporter": "python",
   "pygments_lexer": "ipython3",
   "version": "3.6.9"
  }
 },
 "nbformat": 4,
 "nbformat_minor": 4
}
