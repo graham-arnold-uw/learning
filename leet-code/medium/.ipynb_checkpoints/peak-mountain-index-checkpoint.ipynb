{
 "cells": [
  {
   "cell_type": "markdown",
   "metadata": {},
   "source": [
    "https://leetcode.com/explore/interview/card/google/63/sorting-and-searching-4/3084/"
   ]
  },
  {
   "cell_type": "code",
   "execution_count": null,
   "metadata": {},
   "outputs": [],
   "source": [
    "class Solution:\n",
    "    def peakIndexInMountainArray(self, arr: List[int]) -> int:\n",
    "        n = len(arr)\n",
    "        \n",
    "        hl = [0 for k in range(n)]\n",
    "        hr = [0 for k in range(n)]\n",
    "        \n",
    "        for i in range(1, n):\n",
    "            hl[i] = max(arr[i - 1], hl[i-1])\n",
    "        \n",
    "        for i in range(n - 2, -1, -1):\n",
    "            hr[i] = max(arr[i + 1], hr[i + 1])\n",
    "        \n",
    "        print(hl)\n",
    "        print(hr)\n",
    "        \n",
    "        for j in range(n):\n",
    "            lh = hl[j]\n",
    "            rh = hr[j]\n",
    "            if arr[j] > lh and arr[j] > rh:\n",
    "                return j\n",
    "        \n",
    "        "
   ]
  }
 ],
 "metadata": {
  "kernelspec": {
   "display_name": "Python 3",
   "language": "python",
   "name": "python3"
  },
  "language_info": {
   "codemirror_mode": {
    "name": "ipython",
    "version": 3
   },
   "file_extension": ".py",
   "mimetype": "text/x-python",
   "name": "python",
   "nbconvert_exporter": "python",
   "pygments_lexer": "ipython3",
   "version": "3.6.9"
  }
 },
 "nbformat": 4,
 "nbformat_minor": 4
}
