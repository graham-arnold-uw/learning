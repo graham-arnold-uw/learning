{
 "cells": [
  {
   "cell_type": "markdown",
   "metadata": {},
   "source": [
    "https://leetcode.com/explore/featured/card/google/60/linked-list-5/3066/"
   ]
  },
  {
   "cell_type": "code",
   "execution_count": null,
   "metadata": {},
   "outputs": [],
   "source": [
    "# Definition for singly-linked list.\n",
    "# class ListNode:\n",
    "#     def __init__(self, val=0, next=None):\n",
    "#         self.val = val\n",
    "#         self.next = next\n",
    "class Solution:\n",
    "    def mergeTwoLists(self, l1: ListNode, l2: ListNode) -> ListNode:\n",
    "        if l1 == None:\n",
    "            return l2\n",
    "        \n",
    "        if l2 == None:\n",
    "            return l1\n",
    "        \n",
    "        p1 = l1\n",
    "        p2 = l2\n",
    "        \n",
    "        if p1.val <= p2.val:\n",
    "            new = p1\n",
    "            p1 = p1.next\n",
    "        else:\n",
    "            new = p2\n",
    "            p2 = p2.next\n",
    "            \n",
    "            \n",
    "        curr = new\n",
    "        \n",
    "        while curr != None and (p1 or p2):\n",
    "            \n",
    "            if p1 == None and p2 != None:\n",
    "                curr.next = p2\n",
    "                curr = curr.next\n",
    "                p2 = p2.next\n",
    "            \n",
    "            elif p1 != None and p2 == None:\n",
    "                curr.next = p1\n",
    "                curr = curr.next\n",
    "                p1 = p1.next\n",
    "                \n",
    "            \n",
    "            elif p1.val <= p2.val:\n",
    "                curr.next = p1\n",
    "                curr = curr.next\n",
    "                p1 = p1.next\n",
    "            \n",
    "            else:\n",
    "                curr.next = p2\n",
    "                curr = curr.next\n",
    "                p2 = p2.next\n",
    "            \n",
    "        \n",
    "        return new"
   ]
  }
 ],
 "metadata": {
  "kernelspec": {
   "display_name": "Python 3",
   "language": "python",
   "name": "python3"
  },
  "language_info": {
   "codemirror_mode": {
    "name": "ipython",
    "version": 3
   },
   "file_extension": ".py",
   "mimetype": "text/x-python",
   "name": "python",
   "nbconvert_exporter": "python",
   "pygments_lexer": "ipython3",
   "version": "3.6.9"
  }
 },
 "nbformat": 4,
 "nbformat_minor": 4
}
