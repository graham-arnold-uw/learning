{
 "cells": [
  {
   "cell_type": "markdown",
   "metadata": {},
   "source": [
    "https://leetcode.com/explore/interview/card/google/63/sorting-and-searching-4/450/"
   ]
  },
  {
   "cell_type": "code",
   "execution_count": null,
   "metadata": {},
   "outputs": [],
   "source": [
    "class Solution:\n",
    "    def merge(self, intervals: List[List[int]]) -> List[List[int]]:\n",
    "        \n",
    "        merge_active = False\n",
    "        n = len(intervals)\n",
    "        \n",
    "        if n == 1:\n",
    "            return [intervals[0]]\n",
    "        \n",
    "        intervals.sort()\n",
    "        res = []\n",
    "        last_s, last_e = intervals[0]\n",
    "        \n",
    "        for i in range(1, n):\n",
    "            curr_s, curr_e = intervals[i]\n",
    "            \n",
    "            #overlapping case\n",
    "            if curr_s <= last_e and curr_e >= last_s:\n",
    "                #overlapping\n",
    "                last_e = max(curr_e, last_e)\n",
    "                last_s = min(curr_s, last_s)\n",
    "                merge_active = True\n",
    "                \n",
    "            else:\n",
    "                res.append([last_s, last_e])\n",
    "                last_s = curr_s\n",
    "                last_e = curr_e\n",
    "                merge_active = False\n",
    "        \n",
    "        res.append([last_s, last_e])\n",
    "      \n",
    "        return res\n",
    "    \n",
    "    \n",
    "    \n",
    "    \n",
    "    "
   ]
  }
 ],
 "metadata": {
  "kernelspec": {
   "display_name": "Python 3",
   "language": "python",
   "name": "python3"
  },
  "language_info": {
   "codemirror_mode": {
    "name": "ipython",
    "version": 3
   },
   "file_extension": ".py",
   "mimetype": "text/x-python",
   "name": "python",
   "nbconvert_exporter": "python",
   "pygments_lexer": "ipython3",
   "version": "3.6.9"
  }
 },
 "nbformat": 4,
 "nbformat_minor": 4
}
