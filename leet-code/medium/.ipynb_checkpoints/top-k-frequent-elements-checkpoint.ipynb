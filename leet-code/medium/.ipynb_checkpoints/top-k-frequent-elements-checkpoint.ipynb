{
 "cells": [
  {
   "cell_type": "markdown",
   "metadata": {},
   "source": [
    "https://leetcode.com/problems/top-k-frequent-elements"
   ]
  },
  {
   "cell_type": "code",
   "execution_count": null,
   "metadata": {},
   "outputs": [],
   "source": [
    "from collections import defaultdict\n",
    "\n",
    "class Solution:\n",
    "    def topKFrequent(self, nums: List[int], k: int) -> List[int]:\n",
    "        freqs = defaultdict(int)\n",
    "        \n",
    "        n = len(nums)\n",
    "        \n",
    "        res = []\n",
    "        for i in range(n):\n",
    "            freqs[nums[i]] += 1\n",
    "        \n",
    "        if k > len(freqs):\n",
    "            return []\n",
    "        \n",
    "        num_freqs = freqs.items()\n",
    "        \n",
    "        sfreqs = sorted(num_freqs, key = lambda x: x[1])\n",
    "        \n",
    "        for i in range(k):\n",
    "            res.append(sfreqs[-1 - i][0])\n",
    "        \n",
    "        return res\n",
    "            "
   ]
  }
 ],
 "metadata": {
  "kernelspec": {
   "display_name": "Python 3",
   "language": "python",
   "name": "python3"
  },
  "language_info": {
   "codemirror_mode": {
    "name": "ipython",
    "version": 3
   },
   "file_extension": ".py",
   "mimetype": "text/x-python",
   "name": "python",
   "nbconvert_exporter": "python",
   "pygments_lexer": "ipython3",
   "version": "3.6.9"
  }
 },
 "nbformat": 4,
 "nbformat_minor": 4
}
