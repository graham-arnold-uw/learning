{
 "cells": [
  {
   "cell_type": "markdown",
   "metadata": {},
   "source": [
    "https://leetcode.com/explore/featured/card/google/59/array-and-strings/3062/"
   ]
  },
  {
   "cell_type": "code",
   "execution_count": null,
   "metadata": {},
   "outputs": [],
   "source": [
    "import heapq\n",
    "import math\n",
    "class Solution:\n",
    "    def kClosest(self, points: List[List[int]], k: int) -> List[List[int]]:\n",
    "        \n",
    "        num_points = len(points)\n",
    "        heap = []\n",
    "        d0 = self.calc_distance(points[0][0], points[0][1])\n",
    "        heapq.heappush(heap, (-d0, points[0][0], points[0][1]))\n",
    "        \n",
    "        for i in range(1,num_points):\n",
    "            x, y = points[i][0], points[i][1]\n",
    "            d = self.calc_distance(x, y)\n",
    "            \n",
    "            if len(heap) < k:\n",
    "                heapq.heappush(heap, (-d, x, y))\n",
    "            else:\n",
    "                farthest_d = -heap[0][0]\n",
    "                if d < farthest_d:\n",
    "                    _ = heapq.heappop(heap)\n",
    "                    heapq.heappush(heap, (-d, x, y))\n",
    "                    \n",
    "        res = []\n",
    "        while len(heap) > 0:\n",
    "            curr = heapq.heappop(heap)\n",
    "            res.append([curr[1], curr[2]])\n",
    "        return res\n",
    "            \n",
    "        \n",
    "    def calc_distance(self, x, y):\n",
    "        return math.sqrt(x*x + y*y)\n",
    "    "
   ]
  }
 ],
 "metadata": {
  "kernelspec": {
   "display_name": "Python 3",
   "language": "python",
   "name": "python3"
  },
  "language_info": {
   "codemirror_mode": {
    "name": "ipython",
    "version": 3
   },
   "file_extension": ".py",
   "mimetype": "text/x-python",
   "name": "python",
   "nbconvert_exporter": "python",
   "pygments_lexer": "ipython3",
   "version": "3.6.9"
  }
 },
 "nbformat": 4,
 "nbformat_minor": 4
}
