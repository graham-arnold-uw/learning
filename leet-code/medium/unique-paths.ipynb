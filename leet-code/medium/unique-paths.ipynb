{
 "cells": [
  {
   "cell_type": "markdown",
   "metadata": {},
   "source": [
    "https://leetcode.com/problems/unique-paths/submissions/"
   ]
  },
  {
   "cell_type": "code",
   "execution_count": 1,
   "metadata": {},
   "outputs": [],
   "source": [
    "class Solution:\n",
    "    def uniquePaths(self, m: int, n: int) -> int:\n",
    "        \n",
    "        memo = {}\n",
    "        res = self.unique_helper(m,n,0,0, memo)\n",
    "        return res\n",
    "    \n",
    "    \n",
    "    \n",
    "    def unique_helper(self, m, n, i, j, memo):\n",
    "        if (i,j) in memo:\n",
    "            return memo[(i,j)]\n",
    "        elif i == m - 1 and j == n - 1:\n",
    "            return 1\n",
    "        elif i >= m or j >= n:\n",
    "            return 0\n",
    "        else:\n",
    "            unique_down = self.unique_helper(m, n, i + 1, j, memo)\n",
    "            unique_right = self.unique_helper(m, n, i, j + 1, memo)\n",
    "            \n",
    "            total_unique = unique_down + unique_right\n",
    "            memo[(i,j)] = total_unique\n",
    "            return total_unique"
   ]
  },
  {
   "cell_type": "code",
   "execution_count": null,
   "metadata": {},
   "outputs": [],
   "source": []
  }
 ],
 "metadata": {
  "kernelspec": {
   "display_name": "Python 3",
   "language": "python",
   "name": "python3"
  },
  "language_info": {
   "codemirror_mode": {
    "name": "ipython",
    "version": 3
   },
   "file_extension": ".py",
   "mimetype": "text/x-python",
   "name": "python",
   "nbconvert_exporter": "python",
   "pygments_lexer": "ipython3",
   "version": "3.6.9"
  }
 },
 "nbformat": 4,
 "nbformat_minor": 4
}
