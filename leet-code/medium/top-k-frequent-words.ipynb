{
 "cells": [
  {
   "cell_type": "markdown",
   "metadata": {},
   "source": [
    "https://leetcode.com/problems/top-k-frequent-words/"
   ]
  },
  {
   "cell_type": "code",
   "execution_count": null,
   "metadata": {},
   "outputs": [],
   "source": [
    "import heapq\n",
    "from collections import defaultdict\n",
    "class Solution:\n",
    "    def topKFrequent(self, words: List[str], k: int) -> List[str]:\n",
    "        \n",
    "        word_freqs = self.get_freqs(words)\n",
    "        s_freqs = sorted(word_freqs.items(), key = lambda x : (-x[1], x[0]))\n",
    "        #print(s_freqs)\n",
    "        res = []\n",
    "        \n",
    "        for i in range(k):\n",
    "            res.append(s_freqs[i][0])\n",
    "        \n",
    "        return res\n",
    "            \n",
    "        \n",
    "    \n",
    "    \n",
    "    def get_freqs(self, words):\n",
    "        res = defaultdict(int)\n",
    "        \n",
    "        for w in words:\n",
    "            res[w] += 1\n",
    "            \n",
    "        return res"
   ]
  }
 ],
 "metadata": {
  "kernelspec": {
   "display_name": "Python 3",
   "language": "python",
   "name": "python3"
  },
  "language_info": {
   "codemirror_mode": {
    "name": "ipython",
    "version": 3
   },
   "file_extension": ".py",
   "mimetype": "text/x-python",
   "name": "python",
   "nbconvert_exporter": "python",
   "pygments_lexer": "ipython3",
   "version": "3.6.9"
  }
 },
 "nbformat": 4,
 "nbformat_minor": 4
}
