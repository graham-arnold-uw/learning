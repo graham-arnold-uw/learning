{
 "cells": [
  {
   "cell_type": "markdown",
   "metadata": {},
   "source": [
    "https://leetcode.com/explore/featured/card/google/59/array-and-strings/3060/"
   ]
  },
  {
   "cell_type": "code",
   "execution_count": null,
   "metadata": {},
   "outputs": [],
   "source": [
    "from collections import deque\n",
    "class Solution:\n",
    "    def backspaceCompare(self, s: str, t: str) -> bool:\n",
    "        slen = len(s)\n",
    "        tlen = len(t)\n",
    "        \n",
    "        s_stack = deque()\n",
    "        t_stack = deque()\n",
    "        \n",
    "        #process s into s_stack\n",
    "        for i in range(slen):\n",
    "            if s[i] == '#':\n",
    "                if len(s_stack) > 0:\n",
    "                    _ = s_stack.pop()\n",
    "            else:\n",
    "                s_stack.append(s[i])\n",
    "        #process t in to t_stack\n",
    "        for j in range(tlen):\n",
    "            if t[j] == '#':\n",
    "                if len(t_stack) > 0:\n",
    "                    _ = t_stack.pop()\n",
    "            else:\n",
    "                t_stack.append(t[j])\n",
    "                \n",
    "        #compare s_stack and t_stack contents, \n",
    "        #if they are the same and in same order -> return true\n",
    "        #if at any point they differ -> return false\n",
    "        if len(s_stack) != len(t_stack):\n",
    "            return False\n",
    "        \n",
    "        res = True\n",
    "        \n",
    "        while len(s_stack) > 0:\n",
    "            s_top = s_stack.pop()\n",
    "            t_top = t_stack.pop()\n",
    "            \n",
    "            if s_top != t_top:\n",
    "                res = False\n",
    "                break\n",
    "            \n",
    "        return res\n",
    "        \n",
    "        \n",
    "        \n",
    "        \n",
    "        \n",
    "        \n",
    "        \n",
    "        "
   ]
  }
 ],
 "metadata": {
  "kernelspec": {
   "display_name": "Python 3",
   "language": "python",
   "name": "python3"
  },
  "language_info": {
   "codemirror_mode": {
    "name": "ipython",
    "version": 3
   },
   "file_extension": ".py",
   "mimetype": "text/x-python",
   "name": "python",
   "nbconvert_exporter": "python",
   "pygments_lexer": "ipython3",
   "version": "3.6.9"
  }
 },
 "nbformat": 4,
 "nbformat_minor": 4
}
