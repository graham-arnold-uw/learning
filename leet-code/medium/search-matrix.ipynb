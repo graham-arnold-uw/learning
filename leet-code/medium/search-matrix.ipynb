{
 "cells": [
  {
   "cell_type": "markdown",
   "metadata": {},
   "source": [
    "https://leetcode.com/problems/search-a-2d-matrix/submissions/"
   ]
  },
  {
   "cell_type": "code",
   "execution_count": null,
   "metadata": {},
   "outputs": [],
   "source": [
    "class Solution:\n",
    "    def searchMatrix(self, matrix: List[List[int]], target: int) -> bool: # target = 13\n",
    "        m = len(matrix)    #3\n",
    "        n = len(matrix[0]) #4\n",
    "        t_idx = n - 1\n",
    "        h_idx = 0\n",
    "        \n",
    "        while h_idx < m:\n",
    "            curr_highest = matrix[h_idx][t_idx]\n",
    "            if curr_highest >= target:\n",
    "                break\n",
    "            else:\n",
    "                h_idx += 1\n",
    "            \n",
    "        if h_idx >= m:\n",
    "            return False\n",
    "        \n",
    "        while curr_highest >= target: # ch = 20 t_idx = 2\n",
    "            if curr_highest == target:\n",
    "                return True\n",
    "            t_idx -= 1\n",
    "            if t_idx < 0:\n",
    "                return False\n",
    "            curr_highest = matrix[h_idx][t_idx]\n",
    "        \n",
    "        return False"
   ]
  }
 ],
 "metadata": {
  "kernelspec": {
   "display_name": "Python 3",
   "language": "python",
   "name": "python3"
  },
  "language_info": {
   "codemirror_mode": {
    "name": "ipython",
    "version": 3
   },
   "file_extension": ".py",
   "mimetype": "text/x-python",
   "name": "python",
   "nbconvert_exporter": "python",
   "pygments_lexer": "ipython3",
   "version": "3.6.9"
  }
 },
 "nbformat": 4,
 "nbformat_minor": 4
}
