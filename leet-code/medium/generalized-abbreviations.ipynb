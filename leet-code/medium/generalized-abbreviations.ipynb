{
 "cells": [
  {
   "cell_type": "markdown",
   "metadata": {},
   "source": [
    "https://leetcode.com/problems/letter-case-permutation/"
   ]
  },
  {
   "cell_type": "code",
   "execution_count": null,
   "metadata": {},
   "outputs": [],
   "source": [
    "class Solution:\n",
    "    def generateAbbreviations(self, word: str) -> List[str]:\n",
    "     \n",
    "        \n",
    "        def abbreviation_recursive(word, i, k, path):\n",
    "            p_len = len(path)\n",
    "            if i == len(word):\n",
    "                if k != 0:\n",
    "                    path.append(str(k))    \n",
    "                global_res.append(\"\".join(path))\n",
    "            else:\n",
    "                abbreviation_recursive(word, i + 1, k + 1, path)\n",
    "                \n",
    "                if k != 0:\n",
    "                    path.append(str(k))\n",
    "                path.append(word[i])\n",
    "                abbreviation_recursive(word, i + 1, 0, path)\n",
    "            \n",
    "            del path[p_len:]\n",
    "        \n",
    "        \n",
    "        n = len(word)\n",
    "        global_res = []\n",
    "        abbreviation_recursive(word, 0, 0, [])\n",
    "        return global_res\n",
    "                "
   ]
  },
  {
   "cell_type": "code",
   "execution_count": 6,
   "metadata": {},
   "outputs": [
    {
     "name": "stdout",
     "output_type": "stream",
     "text": [
      "False\n"
     ]
    }
   ],
   "source": [
    "s = '0'\n",
    "print(s.isupper())"
   ]
  },
  {
   "cell_type": "code",
   "execution_count": null,
   "metadata": {},
   "outputs": [],
   "source": []
  }
 ],
 "metadata": {
  "kernelspec": {
   "display_name": "Python 3",
   "language": "python",
   "name": "python3"
  },
  "language_info": {
   "codemirror_mode": {
    "name": "ipython",
    "version": 3
   },
   "file_extension": ".py",
   "mimetype": "text/x-python",
   "name": "python",
   "nbconvert_exporter": "python",
   "pygments_lexer": "ipython3",
   "version": "3.6.9"
  }
 },
 "nbformat": 4,
 "nbformat_minor": 4
}
