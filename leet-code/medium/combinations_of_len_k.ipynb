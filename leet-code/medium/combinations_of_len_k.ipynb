{
 "cells": [
  {
   "cell_type": "markdown",
   "metadata": {},
   "source": [
    "https://leetcode.com/explore/learn/card/recursion-ii/472/backtracking/2798/"
   ]
  },
  {
   "cell_type": "code",
   "execution_count": null,
   "metadata": {},
   "outputs": [],
   "source": [
    "class Solution:\n",
    "    def combine(self, n: int, k: int) -> List[List[int]]:\n",
    "        \n",
    "        \n",
    "        def combine_helper(n, k, i, path):\n",
    "            if len(path) == k:\n",
    "                global_res.append(path.copy())\n",
    "                return\n",
    "            \n",
    "            \n",
    "            for j in range(i, n + 1):\n",
    "                path.append(j)\n",
    "                combine_helper(n, k, j + 1, path)\n",
    "                path.pop()\n",
    "        \n",
    "        \n",
    "        global_res = []\n",
    "        combine_helper(n, k, 1, []) \n",
    "        return global_res"
   ]
  }
 ],
 "metadata": {
  "kernelspec": {
   "display_name": "Python 3",
   "language": "python",
   "name": "python3"
  },
  "language_info": {
   "codemirror_mode": {
    "name": "ipython",
    "version": 3
   },
   "file_extension": ".py",
   "mimetype": "text/x-python",
   "name": "python",
   "nbconvert_exporter": "python",
   "pygments_lexer": "ipython3",
   "version": "3.6.9"
  }
 },
 "nbformat": 4,
 "nbformat_minor": 4
}
