{
 "cells": [
  {
   "cell_type": "markdown",
   "metadata": {},
   "source": [
    "https://leetcode.com/problems/design-underground-system/"
   ]
  },
  {
   "cell_type": "code",
   "execution_count": null,
   "metadata": {},
   "outputs": [],
   "source": [
    "class UndergroundSystem:\n",
    "\n",
    "    def __init__(self):\n",
    "        self.to_from_times = defaultdict(list)\n",
    "        self.checked_in = {}\n",
    "        \n",
    "\n",
    "    def checkIn(self, pid: int, stationName: str, t: int) -> None:\n",
    "        self.checked_in[pid] = (stationName, t)\n",
    "\n",
    "    def checkOut(self, pid: int, stationName: str, t: int) -> None:\n",
    "        check_in_station, check_in_time = self.checked_in[pid]\n",
    "        curr_data = self.to_from_times[(check_in_station, stationName)]\n",
    "        if len(curr_data) == 0:\n",
    "            self.to_from_times[(check_in_station, stationName)].append(t - check_in_time)\n",
    "            self.to_from_times[(check_in_station, stationName)].append(1)\n",
    "        else:\n",
    "            route_avg, num_samples = self.to_from_times[(check_in_station, stationName)]\n",
    "            next_samples = num_samples + 1\n",
    "            next_avg = (num_samples * route_avg + (t - check_in_time)) / next_samples\n",
    "            self.to_from_times[(check_in_station, stationName)][0], self.to_from_times[(check_in_station, stationName)][1] \\\n",
    "            = next_avg, next_samples\n",
    "     \n",
    "\n",
    "    def getAverageTime(self, startStation: str, endStation: str) -> float:\n",
    "        return self.to_from_times[(startStation, endStation)][0]\n",
    "\n",
    "\n",
    "# Your UndergroundSystem object will be instantiated and called as such:\n",
    "# obj = UndergroundSystem()\n",
    "# obj.checkIn(id,stationName,t)\n",
    "# obj.checkOut(id,stationName,t)\n",
    "# param_3 = obj.getAverageTime(startStation,endStation)"
   ]
  },
  {
   "cell_type": "code",
   "execution_count": null,
   "metadata": {},
   "outputs": [],
   "source": []
  }
 ],
 "metadata": {
  "kernelspec": {
   "display_name": "Python 3",
   "language": "python",
   "name": "python3"
  },
  "language_info": {
   "codemirror_mode": {
    "name": "ipython",
    "version": 3
   },
   "file_extension": ".py",
   "mimetype": "text/x-python",
   "name": "python",
   "nbconvert_exporter": "python",
   "pygments_lexer": "ipython3",
   "version": "3.6.9"
  }
 },
 "nbformat": 4,
 "nbformat_minor": 4
}
