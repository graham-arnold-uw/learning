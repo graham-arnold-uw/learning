{
 "cells": [
  {
   "cell_type": "markdown",
   "metadata": {},
   "source": [
    "https://leetcode.com/explore/interview/card/microsoft/30/array-and-strings/213/"
   ]
  },
  {
   "cell_type": "code",
   "execution_count": null,
   "metadata": {},
   "outputs": [],
   "source": [
    "class Solution:\n",
    "    def reverseWords(self, s: List[str]) -> None:\n",
    "        \"\"\"\n",
    "        Do not return anything, modify s in-place instead.\n",
    "        \"\"\"\n",
    "        n = len(s)\n",
    "        if n == 1:\n",
    "            return\n",
    "        left = 0\n",
    "        right = n - 1 \n",
    "       \n",
    "        \n",
    "        while left < right:\n",
    "            s[left], s[right] = s[right], s[left]\n",
    "            left += 1\n",
    "            right -= 1\n",
    "            \n",
    "        ws = 0\n",
    "        \n",
    "        while ws < n:\n",
    "            if s[ws] != ' ':\n",
    "                we = ws\n",
    "                while we < n and s[we] != ' ':\n",
    "                    we += 1\n",
    "                self.reverse_in_place(s, ws, we - 1)\n",
    "                ws = we - 1\n",
    "            \n",
    "            ws += 1\n",
    "    \n",
    "    def reverse_in_place(self, s, ws, we):\n",
    "        while ws < we:\n",
    "            s[ws], s[we] = s[we], s[ws]\n",
    "            ws += 1\n",
    "            we -= 1\n",
    "        return"
   ]
  }
 ],
 "metadata": {
  "kernelspec": {
   "display_name": "Python 3",
   "language": "python",
   "name": "python3"
  },
  "language_info": {
   "codemirror_mode": {
    "name": "ipython",
    "version": 3
   },
   "file_extension": ".py",
   "mimetype": "text/x-python",
   "name": "python",
   "nbconvert_exporter": "python",
   "pygments_lexer": "ipython3",
   "version": "3.6.9"
  }
 },
 "nbformat": 4,
 "nbformat_minor": 4
}
