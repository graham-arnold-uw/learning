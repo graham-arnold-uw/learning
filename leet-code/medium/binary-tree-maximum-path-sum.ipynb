{
 "cells": [
  {
   "cell_type": "markdown",
   "metadata": {},
   "source": [
    "https://leetcode.com/explore/interview/card/amazon/78/trees-and-graphs/2981/"
   ]
  },
  {
   "cell_type": "code",
   "execution_count": null,
   "metadata": {},
   "outputs": [],
   "source": [
    "# Definition for a binary tree node.\n",
    "# class TreeNode(object):\n",
    "#     def __init__(self, val=0, left=None, right=None):\n",
    "#         self.val = val\n",
    "#         self.left = left\n",
    "#         self.right = right\n",
    "class Solution(object):\n",
    "    def maxPathSum(self, root):\n",
    "        \"\"\"\n",
    "        :type root: TreeNode\n",
    "        :rtype: int\n",
    "        \"\"\"\n",
    "        global_max = float('-inf')\n",
    "        \n",
    "        def path_helper(root):\n",
    "            nonlocal global_max\n",
    "            if root == None:\n",
    "                return 0\n",
    "            if root.left == None and root.right == None:\n",
    "                global_max = max(root.val, global_max)\n",
    "                return root.val\n",
    "            \n",
    "            max_left = 0\n",
    "            max_right = 0\n",
    "            if root.left != None:\n",
    "                max_left = max(0,path_helper(root.left))\n",
    "            \n",
    "            if root.right != None:\n",
    "                max_right = max(0, path_helper(root.right))\n",
    "            \n",
    "            max_rooted = root.val + max_left + max_right\n",
    "            global_max = max(max_rooted, global_max)\n",
    "            \n",
    "            max_res = root.val + max(max_left, max_right)\n",
    "            return max_res\n",
    "        \n",
    "        path_helper(root)\n",
    "        return global_max\n",
    "            \n",
    "            \n",
    "            \n",
    "        \n",
    "        \n",
    "        \n",
    "        \n",
    "        \n",
    "        \n",
    "        \n",
    "        \n",
    "        \n",
    "        \n",
    "        \n",
    "        \n",
    "        \n",
    "        \n",
    "        \n",
    "        \n",
    "        \n",
    "        \n",
    "        \n",
    "        \n",
    "        "
   ]
  }
 ],
 "metadata": {
  "kernelspec": {
   "display_name": "Python 3",
   "language": "python",
   "name": "python3"
  },
  "language_info": {
   "codemirror_mode": {
    "name": "ipython",
    "version": 3
   },
   "file_extension": ".py",
   "mimetype": "text/x-python",
   "name": "python",
   "nbconvert_exporter": "python",
   "pygments_lexer": "ipython3",
   "version": "3.6.9"
  }
 },
 "nbformat": 4,
 "nbformat_minor": 4
}
