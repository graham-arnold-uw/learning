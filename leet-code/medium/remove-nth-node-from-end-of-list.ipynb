{
 "cells": [
  {
   "cell_type": "markdown",
   "metadata": {},
   "source": [
    "https://leetcode.com/problems/remove-nth-node-from-end-of-list/solution/"
   ]
  },
  {
   "cell_type": "code",
   "execution_count": null,
   "metadata": {},
   "outputs": [],
   "source": [
    "# Definition for singly-linked list.\n",
    "# class ListNode:\n",
    "#     def __init__(self, val=0, next=None):\n",
    "#         self.val = val\n",
    "#         self.next = next\n",
    "class Solution:\n",
    "    def removeNthFromEnd(self, head: ListNode, n: int) -> ListNode:\n",
    "        \n",
    "        prev = front = head\n",
    "        \n",
    "        steps = 0\n",
    "        \n",
    "        #send out front runner, go n steps to create proper window size\n",
    "        while front.next != None and steps < n:\n",
    "            front = front.next\n",
    "            steps += 1\n",
    "        \n",
    "        #need to catch the case when the first element needs to be removed\n",
    "        #doesn't fit in to my algo plan so lets handle it\n",
    "        if steps < n:\n",
    "            head_new = head.next\n",
    "            head.next = None\n",
    "            return head_new\n",
    "        \n",
    "        #now slide window until the front runner hits the last element\n",
    "        #this should leave the prev runner pointing to the element previous to the target\n",
    "        while front.next != None:\n",
    "            front = front.next\n",
    "            prev = prev.next\n",
    "            \n",
    "        \n",
    "        temp = prev.next.next\n",
    "        prev.next.next = None\n",
    "        prev.next = temp\n",
    "        \n",
    "        return head"
   ]
  }
 ],
 "metadata": {
  "kernelspec": {
   "display_name": "Python 3",
   "language": "python",
   "name": "python3"
  },
  "language_info": {
   "codemirror_mode": {
    "name": "ipython",
    "version": 3
   },
   "file_extension": ".py",
   "mimetype": "text/x-python",
   "name": "python",
   "nbconvert_exporter": "python",
   "pygments_lexer": "ipython3",
   "version": "3.6.9"
  }
 },
 "nbformat": 4,
 "nbformat_minor": 4
}
