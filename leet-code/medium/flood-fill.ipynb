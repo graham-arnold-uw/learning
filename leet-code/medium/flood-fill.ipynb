{
 "cells": [
  {
   "cell_type": "markdown",
   "metadata": {},
   "source": [
    "https://leetcode.com/explore/interview/card/amazon/78/trees-and-graphs/2987/"
   ]
  },
  {
   "cell_type": "code",
   "execution_count": null,
   "metadata": {},
   "outputs": [],
   "source": [
    "from collections import deque\n",
    "\n",
    "class Solution:\n",
    "    def floodFill(self, image: List[List[int]], sr: int, sc: int, newColor: int) -> List[List[int]]:\n",
    "        m = len(image)\n",
    "        n = len(image[0])\n",
    "        \n",
    "        old_color = image[sr][sc]\n",
    "        visited = set()\n",
    "        q = deque()\n",
    "        q.append((sr, sc))\n",
    "        visited.add((sr, sc))\n",
    "        dirs = [(-1, 0), (1, 0), (0, -1), (0, 1)]\n",
    "        \n",
    "        while len(q) > 0:\n",
    "            cr, cc = q.popleft()\n",
    "            image[cr][cc] = newColor\n",
    "            \n",
    "            for dr, dc in dirs:\n",
    "                nr, nc = cr + dr, cc + dc\n",
    "                if nr >= 0 and nr < m and nc >= 0 and nc < n \\\n",
    "                and (nr, nc) not in visited and image[nr][nc] == old_color:\n",
    "                    q.append((nr, nc))\n",
    "                    visited.add((nr, nc))\n",
    "        return image\n",
    "            \n",
    "        "
   ]
  }
 ],
 "metadata": {
  "kernelspec": {
   "display_name": "Python 3",
   "language": "python",
   "name": "python3"
  },
  "language_info": {
   "codemirror_mode": {
    "name": "ipython",
    "version": 3
   },
   "file_extension": ".py",
   "mimetype": "text/x-python",
   "name": "python",
   "nbconvert_exporter": "python",
   "pygments_lexer": "ipython3",
   "version": "3.6.9"
  }
 },
 "nbformat": 4,
 "nbformat_minor": 4
}
