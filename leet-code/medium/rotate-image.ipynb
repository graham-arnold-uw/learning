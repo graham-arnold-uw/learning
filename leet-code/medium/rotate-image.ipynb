{
 "cells": [
  {
   "cell_type": "markdown",
   "metadata": {},
   "source": [
    "https://leetcode.com/problems/rotate-image/submissions/"
   ]
  },
  {
   "cell_type": "code",
   "execution_count": null,
   "metadata": {},
   "outputs": [],
   "source": [
    "class Solution:\n",
    "    def rotate(self, matrix: List[List[int]]) -> None:\n",
    "        \"\"\"\n",
    "        Do not return anything, modify matrix in-place instead.\n",
    "        \"\"\"\n",
    "        n = len(matrix)\n",
    "        mid = n // 2\n",
    "        \n",
    "        if n % 2 == 0:\n",
    "            qi = mid\n",
    "            qj = mid\n",
    "        else:\n",
    "            qi = mid+1\n",
    "            qj = mid\n",
    "            \n",
    "        newi,newj = self.get_new_axis(n)\n",
    "        \n",
    "        \n",
    "        for i in range(qi):\n",
    "            for j in range(qj):\n",
    "                \n",
    "                ti = i\n",
    "                tj = j\n",
    "                curr_el = matrix[ti][tj]\n",
    "                for k in range(4):\n",
    "                    #curr_el = matrix[ti][tj]\n",
    "                   \n",
    "                    gi,gj = newi[ti], newj[tj]\n",
    "                \n",
    "                    ri, rj = -gj, gi\n",
    "                            \n",
    "                    nxti = newi.index(ri)\n",
    "                    nxtj = newj.index(rj)\n",
    "                    nxt_val = matrix[nxti][nxtj]\n",
    "                    matrix[nxti][nxtj] = curr_el\n",
    "                    ti = nxti\n",
    "                    tj = nxtj\n",
    "                    curr_el = nxt_val\n",
    "                \n",
    "        \n",
    "        \n",
    "        \n",
    "        \n",
    "        \n",
    "    def get_new_axis(self, n):\n",
    "        mid = n // 2\n",
    "        if n % 2 == 0:\n",
    "            yl = list(range(-mid, 0))\n",
    "            yr = list(range(1, mid+1))\n",
    "            y = yl + yr\n",
    "            x = y[::-1]\n",
    "        else:\n",
    "            y = [i-mid for i in range(n)]\n",
    "            x = y[::-1]\n",
    "            \n",
    "        return x,y\n",
    "    \n",
    "\n",
    "        "
   ]
  }
 ],
 "metadata": {
  "kernelspec": {
   "display_name": "Python 3",
   "language": "python",
   "name": "python3"
  },
  "language_info": {
   "codemirror_mode": {
    "name": "ipython",
    "version": 3
   },
   "file_extension": ".py",
   "mimetype": "text/x-python",
   "name": "python",
   "nbconvert_exporter": "python",
   "pygments_lexer": "ipython3",
   "version": "3.6.9"
  }
 },
 "nbformat": 4,
 "nbformat_minor": 4
}
