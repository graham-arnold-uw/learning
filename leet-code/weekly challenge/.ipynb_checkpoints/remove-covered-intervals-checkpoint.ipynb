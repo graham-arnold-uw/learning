{
 "cells": [
  {
   "cell_type": "markdown",
   "metadata": {},
   "source": [
    "https://leetcode.com/explore/challenge/card/october-leetcoding-challenge/559/week-1-october-1st-october-7th/3483/"
   ]
  },
  {
   "cell_type": "code",
   "execution_count": 2,
   "metadata": {},
   "outputs": [
    {
     "name": "stdout",
     "output_type": "stream",
     "text": [
      "[[1, 4], [2, 8], [3, 6]]\n"
     ]
    }
   ],
   "source": [
    "intervals = [[1,4],[3,6],[2,8]]\n",
    "\n",
    "intervals.sort(key = lambda x: x[0])\n",
    "print(intervals)"
   ]
  },
  {
   "cell_type": "code",
   "execution_count": 15,
   "metadata": {},
   "outputs": [],
   "source": [
    "def remove_invals(intervals):\n",
    "    intervals.sort(key= lambda x: (x[0],-x[1]))\n",
    "    idx = 0\n",
    "    while(idx < len(intervals) - 1):\n",
    "        b = intervals[idx][0]\n",
    "        e  = intervals[idx][1]\n",
    "        cand = idx + 1\n",
    "        cand_b = intervals[cand][0]\n",
    "\n",
    "        while cand < len(intervals):\n",
    "            cand_b = intervals[cand][0]\n",
    "            cand_e = intervals[cand][1]\n",
    "            if cand_b > e:\n",
    "                break\n",
    "            if cand_e <= e:\n",
    "                del intervals[cand]\n",
    "                continue\n",
    "            cand += 1\n",
    "            \n",
    "\n",
    "        idx += 1\n",
    "    \n",
    "    return len(intervals)\n",
    "\n",
    "      \n",
    "          \n",
    "          \n",
    "          \n",
    "      \n",
    "      \n",
    "              \n",
    "      \n",
    "    "
   ]
  },
  {
   "cell_type": "code",
   "execution_count": 16,
   "metadata": {},
   "outputs": [
    {
     "name": "stdout",
     "output_type": "stream",
     "text": [
      "2\n",
      "1\n",
      "2\n",
      "2\n"
     ]
    }
   ],
   "source": [
    "t1 = [[1,4],[3,6],[2,8]] #exp: [[1,4],[2,8]] 2\n",
    "t2 = [[1,2],[1,4],[3,4]] # exp 0\n",
    "t3 = [[1,4],[1,4],[3,6],[2,8]] #exp \n",
    "t4 = [[0,3],[0,2],[1,2],[5,6]]\n",
    "\n",
    "sol1 = remove_invals(t1)\n",
    "print(sol1)\n",
    "sol2 = remove_invals(t2)\n",
    "print(sol2)\n",
    "sol3 = remove_invals(t3)\n",
    "print(sol3)\n",
    "sol4 = remove_invals(t4)\n",
    "print(sol4)"
   ]
  },
  {
   "cell_type": "code",
   "execution_count": null,
   "metadata": {},
   "outputs": [],
   "source": []
  }
 ],
 "metadata": {
  "kernelspec": {
   "display_name": "Python 3",
   "language": "python",
   "name": "python3"
  },
  "language_info": {
   "codemirror_mode": {
    "name": "ipython",
    "version": 3
   },
   "file_extension": ".py",
   "mimetype": "text/x-python",
   "name": "python",
   "nbconvert_exporter": "python",
   "pygments_lexer": "ipython3",
   "version": "3.6.9"
  }
 },
 "nbformat": 4,
 "nbformat_minor": 4
}
