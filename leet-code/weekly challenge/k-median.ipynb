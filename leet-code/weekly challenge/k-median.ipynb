{
 "cells": [
  {
   "cell_type": "code",
   "execution_count": null,
   "metadata": {},
   "outputs": [],
   "source": [
    "t = [1,2,2,3]\n",
    "t2 = [3,4,5,5]\n",
    "t2 = [3,4,5,5]\n",
    "\n",
    "from collections import Counter\n",
    "\n",
    "c = Counter(t)\n",
    "c2 = Counter(t2)\n",
    "ct= c\n",
    "test = c + c2\n",
    "ct.update(c2)\n",
    "res = test.items()\n",
    "res2 = ct.items()\n",
    "#print(list(res))\n",
    "#print(list(res2))\n",
    "\n",
    "def kArrMedian(data):\n",
    "  k = len(data)\n",
    "  N = len(data[0])\n",
    "  tot = k*N\n",
    "  mid = (tot // 2) + 1\n",
    "  #mid = tot // 2\n",
    "  #print(mid)\n",
    "  c = Counter()\n",
    "  for arr in data:\n",
    "    c.update(arr)\n",
    "\n",
    "  counts = c.items()\n",
    "  counts = list(counts)\n",
    "  #print(counts)\n",
    "  numSeen = 0\n",
    "  idx = 0\n",
    "  while idx < len(counts):\n",
    "    numSeen += counts[idx][1]\n",
    "    #print(numSeen)\n",
    "    if numSeen > mid:\n",
    "      over = numSeen - mid\n",
    "      if over == 1:\n",
    "        if tot%2 == 0:\n",
    "          return (counts[idx][0] + counts[idx-1][0]) /2\n",
    "        else:\n",
    "          return counts[idx][0]\n",
    "      else:\n",
    "        return counts[idx][0]\n",
    "    if numSeen == mid:\n",
    "      if tot%2 == 0:\n",
    "        avg = (counts[idx][0] + counts[idx-1][0]) / 2\n",
    "        return avg\n",
    "      else:\n",
    "        return counts[idx][0]\n",
    "     # return avg\n",
    "    idx += 1\n",
    "\n",
    "\n",
    "  \n",
    "  #print(list(counts))\n",
    "\n",
    "intest = [[1, 2, 3, 4], [5, 6, 7, 8], [9, 10, 11, 12]]\n",
    "testy2 = [[1,2,2,3], [3,4,5,5], [3,4,5,5]]\n",
    "testy2 = [[1,2,2], [4,5,5], [3,4,5]]\n",
    "testy3 = [[1,2,3,3,5]]\n",
    "\n",
    "print(kArrMedian(intest))\n",
    "print(kArrMedian(testy3))"
   ]
  },
  {
   "cell_type": "code",
   "execution_count": 3,
   "metadata": {},
   "outputs": [],
   "source": [
    "from collections import Counter\n",
    "def kArrMedianBetter(arrs):\n",
    "    k = len(arrs)\n",
    "    N = len(arrs[0])\n",
    "    tot = k*N\n",
    "    if tot % 2 == 0:\n",
    "        isEven = True\n",
    "    else:\n",
    "        isEven = False\n",
    "        \n",
    "    tarElNum = (tot // 2) + 1\n",
    "    \n",
    "    c = Counter()\n",
    "    \n",
    "    #add up counts of each element\n",
    "    for arr in arrs:\n",
    "        c.update(arr)\n",
    "        \n",
    "    #result is a dict of int counts\n",
    "    #need to transform to a sorted list of [(int, count), ...]\n",
    "    counts = c.items()\n",
    "    counts = list(counts)\n",
    "    \n",
    "    el, prevEl = countElements(counts,tarElNum)\n",
    "    \n",
    "    return el if not isEven else (el+prevEl) / 2\n",
    "    \n",
    "    \n",
    "    \n",
    "\n",
    "#takes in a list of integer counts, steps through list until target number of elemnts has been seen\n",
    "# returns the target element as well as the previous element in sorted order\n",
    "def countElements(counts,tarElNum):\n",
    "    l = len(counts)\n",
    "    \n",
    "    if l == 1:\n",
    "        return counts[0][0]\n",
    "    \n",
    "    idx = 0\n",
    "    currCount = 0\n",
    "    \n",
    "    while idx < l:\n",
    "        currEl = counts[idx][0]\n",
    "        groupSize = counts[idx][1]\n",
    "        currCount += groupSize\n",
    "        if currCount > tarElNum:\n",
    "            excess = currCount - tarElNum\n",
    "            threshEl = groupSize - excess\n",
    "            if threshEl == 1:\n",
    "                prevEl = counts[idx-1][0]\n",
    "                currEl = counts[idx][0]\n",
    "                return currEl, prevEl\n",
    "             \n",
    "            else:\n",
    "                prevEl = counts[idx][0]\n",
    "                currEl = prevEl\n",
    "                \n",
    "        if currCount == tarElNum:\n",
    "            prevEl = counts[idx-1][0]\n",
    "            currEl = counts[idx][0]\n",
    "            return currEl, prevEl\n",
    "        \n",
    "        idx += 1\n",
    "    \n",
    "                "
   ]
  },
  {
   "cell_type": "code",
   "execution_count": 6,
   "metadata": {},
   "outputs": [
    {
     "name": "stdout",
     "output_type": "stream",
     "text": [
      "6.5\n",
      "3.5\n",
      "4\n"
     ]
    }
   ],
   "source": [
    "intest = [[1, 2, 3, 4], [5, 6, 7, 8], [9, 10, 11, 12]]\n",
    "testy2 = [[1,2,2,3], [3,4,5,5], [3,4,5,5]]\n",
    "testy3= [[1,2,2], [4,5,5], [3,4,5]]\n",
    "#testy3 = [[1,2,3,3,5]]\n",
    "\n",
    "print(kArrMedianBetter(intest))\n",
    "print(kArrMedianBetter(testy2))\n",
    "print(kArrMedianBetter(testy3))"
   ]
  },
  {
   "cell_type": "code",
   "execution_count": 29,
   "metadata": {},
   "outputs": [],
   "source": [
    "import heapq as hq\n",
    "\n",
    "def kArrMedianHeap(arrs):\n",
    "    \n",
    "    heap = []\n",
    "    \n",
    "    k = len(arrs)\n",
    "    N = len(arrs[0])\n",
    "    tot = k*N\n",
    "    if tot % 2 == 0:\n",
    "        isEven = True\n",
    "    else:\n",
    "        isEven = False\n",
    "        \n",
    "    tarElNum = (tot // 2) + 1\n",
    "    \n",
    "    mergedItr = hq.merge(*arrs)\n",
    "    \n",
    "    tarEl = None\n",
    "    prevEl = None\n",
    "    count = 1\n",
    "    \n",
    "    for el in mergedItr:\n",
    "        if count == tarElNum:\n",
    "            tarEl = el\n",
    "            break\n",
    "        \n",
    "        count += 1\n",
    "        prevEl = el\n",
    "    \n",
    "    return tarEl if not isEven else (tarEl+prevEl) / 2\n",
    "\n",
    "    \n",
    "    \n",
    "    \n",
    "    "
   ]
  },
  {
   "cell_type": "code",
   "execution_count": 31,
   "metadata": {},
   "outputs": [
    {
     "name": "stdout",
     "output_type": "stream",
     "text": [
      "6.5\n",
      "3.5\n",
      "6.5\n",
      "4\n"
     ]
    }
   ],
   "source": [
    "intest2 = [[1, 2, 3, 4], [5, 6, 7, 8], [9, 10, 11, 12]]\n",
    "intest2 = [[1, 2, 3, 4], [9, 10, 11, 12], [5, 6, 7, 8]]\n",
    "testy2 = [[1,2,2,3], [3,4,5,5], [3,4,5,5]]\n",
    "testy3= [[1,2,2], [4,5,5], [3,4,5]]\n",
    "\n",
    "print(kArrMedianHeap(intest))\n",
    "print(kArrMedianHeap(testy2))\n",
    "print(kArrMedianHeap(intest2))\n",
    "print(kArrMedianHeap(testy3))"
   ]
  },
  {
   "cell_type": "code",
   "execution_count": 24,
   "metadata": {},
   "outputs": [
    {
     "name": "stdout",
     "output_type": "stream",
     "text": [
      "1\n",
      "2\n",
      "3\n",
      "4\n",
      "5\n",
      "6\n",
      "7\n",
      "8\n",
      "9\n",
      "10\n",
      "11\n",
      "12\n"
     ]
    }
   ],
   "source": [
    "theap = hq.merge(*intest2)\n",
    "for el in theap:\n",
    "    print(el)"
   ]
  },
  {
   "cell_type": "code",
   "execution_count": 32,
   "metadata": {},
   "outputs": [
    {
     "name": "stdout",
     "output_type": "stream",
     "text": [
      "gnix\n"
     ]
    }
   ],
   "source": [
    "import os\n",
    "print(os.uname()[1])"
   ]
  },
  {
   "cell_type": "code",
   "execution_count": 41,
   "metadata": {},
   "outputs": [],
   "source": [
    "def kArrMedianHeapOptimal(arrs):\n",
    "    \n",
    "    heap = []\n",
    "    \n",
    "    k = len(arrs)\n",
    "    N = len(arrs[0])\n",
    "    tot = k*N\n",
    "    if tot % 2 == 0:\n",
    "        isEven = True\n",
    "    else:\n",
    "        isEven = False\n",
    "        \n",
    "    tarElNum = (tot // 2) + 1\n",
    "    counter = 0\n",
    "    \n",
    "    for idx, arr in enumerate(arrs):\n",
    "        heapq.heappush(heap,(arr[0],0,idx))\n",
    "    \n",
    "    currEl = None\n",
    "    prevEl = None\n",
    "    \n",
    "    #this might be off by one\n",
    "    while counter < tarElNum:\n",
    "        \n",
    "        counter += 1\n",
    "        prevEl = currEl\n",
    "        currEl = heapq.heappop(heap)\n",
    "        val,eidx,arridx = currEl\n",
    "        \n",
    "        eidx += 1\n",
    "        \n",
    "        if eidx < len(arrs[arridx]):\n",
    "            heapq.heappush(heap, (arrs[arridx][eidx], eidx, arridx))\n",
    "        else:\n",
    "            heapq.heappush(heap, (float('inf'), eidx, arridx))\n",
    "    \n",
    "    return currEl[0] if not isEven else (currEl[0] + prevEl[0]) / 2 \n",
    "        \n",
    "        \n",
    "        \n",
    "                       \n",
    "        \n",
    "    "
   ]
  },
  {
   "cell_type": "code",
   "execution_count": 42,
   "metadata": {},
   "outputs": [
    {
     "name": "stdout",
     "output_type": "stream",
     "text": [
      "6.5\n",
      "3.5\n",
      "6.5\n",
      "4\n"
     ]
    }
   ],
   "source": [
    "intest2 = [[1, 2, 3, 4], [5, 6, 7, 8], [9, 10, 11, 12]]\n",
    "intest2 = [[1, 2, 3, 4], [9, 10, 11, 12], [5, 6, 7, 8]]\n",
    "testy2 = [[1,2,2,3], [3,4,5,5], [3,4,5,5]]\n",
    "testy3= [[1,2,2], [4,5,5], [3,4,5]]\n",
    "\n",
    "print(kArrMedianHeapOptimal(intest))\n",
    "print(kArrMedianHeapOptimal(testy2))\n",
    "print(kArrMedianHeapOptimal(intest2))\n",
    "print(kArrMedianHeapOptimal(testy3))"
   ]
  },
  {
   "cell_type": "code",
   "execution_count": null,
   "metadata": {},
   "outputs": [],
   "source": []
  }
 ],
 "metadata": {
  "kernelspec": {
   "display_name": "Python 3",
   "language": "python",
   "name": "python3"
  },
  "language_info": {
   "codemirror_mode": {
    "name": "ipython",
    "version": 3
   },
   "file_extension": ".py",
   "mimetype": "text/x-python",
   "name": "python",
   "nbconvert_exporter": "python",
   "pygments_lexer": "ipython3",
   "version": "3.6.9"
  }
 },
 "nbformat": 4,
 "nbformat_minor": 4
}
