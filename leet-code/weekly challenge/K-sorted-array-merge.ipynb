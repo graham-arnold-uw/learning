{
 "cells": [
  {
   "cell_type": "markdown",
   "metadata": {},
   "source": [
    "https://medium.com/outco/how-to-merge-k-sorted-arrays-c35d87aa298e"
   ]
  },
  {
   "cell_type": "code",
   "execution_count": 1,
   "metadata": {},
   "outputs": [],
   "source": []
  },
  {
   "cell_type": "code",
   "execution_count": 29,
   "metadata": {},
   "outputs": [],
   "source": [
    "import heapq\n",
    "\n",
    "class HeapNode:\n",
    "    \n",
    "    def __init__(self, val, arr_idx, el_idx):\n",
    "        self.val = val\n",
    "        self.arr_idx = arr_idx\n",
    "        self.el_idx = el_idx\n",
    "        \n",
    "    def __eq__(self, other):\n",
    "        if (isinstance(other,HeapNode)):\n",
    "            return self.val == other.val\n",
    "        else:\n",
    "            return false\n",
    "        \n",
    "    def __lt__(self, other):\n",
    "        if (isinstance(other,HeapNode)):\n",
    "            return self.val < other.val\n",
    "        else:\n",
    "            return false\n",
    "        \n",
    "    def __str__(self):\n",
    "        return f'({self.val}, {self.arr_idx}, {self.el_idx})'\n",
    "    \n",
    "    def __repr__(self):\n",
    "        return f'({self.val}, {self.arr_idx}, {self.el_idx})'\n",
    "        \n",
    "    "
   ]
  },
  {
   "cell_type": "code",
   "execution_count": 46,
   "metadata": {},
   "outputs": [],
   "source": [
    "def k_merge(arrs):\n",
    "    \n",
    "    k = len(arrs)\n",
    "    N = len(arrs[0])\n",
    "    \n",
    "    kheap = []\n",
    "    \n",
    "    for i in range(k):\n",
    "        node = HeapNode(arrs[i][0], i, 0)\n",
    "        heapq.heappush(kheap,node)\n",
    "    \n",
    "    return kheap\n",
    "        \n",
    "def k_merge2(arrs):\n",
    "    \n",
    "    k = len(arrs)\n",
    "    N = len(arrs[0])\n",
    "    \n",
    "    kheap = []\n",
    "    res = []\n",
    "    \n",
    "    for i in range(k):\n",
    "        node = (arrs[i][0], 0, i)\n",
    "        heapq.heappush(kheap,node)\n",
    "        \n",
    "    #grab min element in heap, put in res\n",
    "    #also check which array it came from and it's index\n",
    "    #go to that array and grab the next element (IF EXISTS) and put it in the heap\n",
    "    #if next element doesn't exist - insert infinity into heap\n",
    "    \n",
    "    while kheap[0][0] != float('inf'):\n",
    "        curr_val, curr_el_idx, curr_arr_idx = heapq.heappop(kheap)\n",
    "        res.append(curr_val)\n",
    "        curr_el_idx += 1\n",
    "        if curr_el_idx< len(arrs[curr_arr_idx]):\n",
    "            next_val = arrs[curr_arr_idx][curr_el_idx]\n",
    "            new_node = (next_val, curr_el_idx, curr_arr_idx)\n",
    "            heapq.heappush(kheap, new_node)\n",
    "        else:\n",
    "            heapq.heappush(kheap, (float('inf'), curr_arr_idx, curr_el_idx))\n",
    "            \n",
    "            \n",
    "    \n",
    "    return res \n"
   ]
  },
  {
   "cell_type": "code",
   "execution_count": 50,
   "metadata": {},
   "outputs": [
    {
     "name": "stdout",
     "output_type": "stream",
     "text": [
      "[1, 2, 3, 4, 5, 6, 7, 8, 9, 10, 11, 12, 13, 14, 15, 16]\n"
     ]
    }
   ],
   "source": [
    "test= [[1,10,11,15],[2,4,9,14],[5,6,8,16],[3,7,12,13]]\n",
    "res = k_merge2(test)\n",
    "print(res)\n",
    "#print(heapq.nsmallest(1,res))"
   ]
  },
  {
   "cell_type": "code",
   "execution_count": 44,
   "metadata": {},
   "outputs": [
    {
     "name": "stdout",
     "output_type": "stream",
     "text": [
      "(1, 0, 0)\n",
      "(2, 1, 0)\n",
      "(3, 3, 0)\n",
      "(5, 2, 0)\n"
     ]
    }
   ],
   "source": [
    "while len(res) > 0:\n",
    "    print(heapq.heappop(res))"
   ]
  },
  {
   "cell_type": "code",
   "execution_count": null,
   "metadata": {},
   "outputs": [],
   "source": []
  }
 ],
 "metadata": {
  "kernelspec": {
   "display_name": "Python 3",
   "language": "python",
   "name": "python3"
  },
  "language_info": {
   "codemirror_mode": {
    "name": "ipython",
    "version": 3
   },
   "file_extension": ".py",
   "mimetype": "text/x-python",
   "name": "python",
   "nbconvert_exporter": "python",
   "pygments_lexer": "ipython3",
   "version": "3.6.9"
  }
 },
 "nbformat": 4,
 "nbformat_minor": 4
}
