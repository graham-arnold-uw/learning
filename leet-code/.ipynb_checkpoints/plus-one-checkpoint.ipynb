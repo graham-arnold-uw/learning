{
 "cells": [
  {
   "cell_type": "markdown",
   "metadata": {},
   "source": [
    "https://leetcode.com/problems/plus-one/"
   ]
  },
  {
   "cell_type": "code",
   "execution_count": 6,
   "metadata": {},
   "outputs": [],
   "source": [
    "def plusone(digits):\n",
    "    \n",
    "    sDig = [str(i) for i in digits]\n",
    "    sString = \"\".join(sDig)\n",
    "    iDig = int(sString)\n",
    "    iDig += 1\n",
    "    sDig2 = str(iDig)\n",
    "    lDig2 = list(sDig2)\n",
    "    iDigRes = [int(i) for i in lDig2]\n",
    "    return iDigRes"
   ]
  },
  {
   "cell_type": "code",
   "execution_count": 7,
   "metadata": {},
   "outputs": [
    {
     "name": "stdout",
     "output_type": "stream",
     "text": [
      "[1, 2, 4]\n"
     ]
    }
   ],
   "source": [
    "d = [1,2,3]\n",
    "print(plusone(d))"
   ]
  },
  {
   "cell_type": "code",
   "execution_count": 10,
   "metadata": {},
   "outputs": [
    {
     "ename": "NameError",
     "evalue": "name 'end' is not defined",
     "output_type": "error",
     "traceback": [
      "\u001b[0;31m---------------------------------------------------------------------------\u001b[0m",
      "\u001b[0;31mNameError\u001b[0m                                 Traceback (most recent call last)",
      "\u001b[0;32m<ipython-input-10-43484c6b424c>\u001b[0m in \u001b[0;36m<module>\u001b[0;34m\u001b[0m\n\u001b[1;32m      1\u001b[0m \u001b[0md2\u001b[0m \u001b[0;34m=\u001b[0m \u001b[0;34m[\u001b[0m\u001b[0;36m4\u001b[0m\u001b[0;34m,\u001b[0m\u001b[0;36m3\u001b[0m\u001b[0;34m,\u001b[0m\u001b[0;36m2\u001b[0m\u001b[0;34m,\u001b[0m\u001b[0;36m1\u001b[0m\u001b[0;34m]\u001b[0m\u001b[0;34m\u001b[0m\u001b[0;34m\u001b[0m\u001b[0m\n\u001b[0;32m----> 2\u001b[0;31m \u001b[0md\u001b[0m\u001b[0;34m[\u001b[0m\u001b[0mend\u001b[0m\u001b[0;34m]\u001b[0m\u001b[0;34m\u001b[0m\u001b[0;34m\u001b[0m\u001b[0m\n\u001b[0m",
      "\u001b[0;31mNameError\u001b[0m: name 'end' is not defined"
     ]
    }
   ],
   "source": [
    "d2 = [4,3,2,1]\n",
    "]"
   ]
  },
  {
   "cell_type": "code",
   "execution_count": 14,
   "metadata": {},
   "outputs": [
    {
     "data": {
      "text/plain": [
       "[3, 4]"
      ]
     },
     "execution_count": 14,
     "metadata": {},
     "output_type": "execute_result"
    }
   ],
   "source": [
    "q = [1,2,3,4]\n",
    "o = 1\n",
    "q[o+1:]"
   ]
  },
  {
   "cell_type": "code",
   "execution_count": 17,
   "metadata": {},
   "outputs": [],
   "source": [
    "def plusone2(digits):\n",
    "    l = len(digits)\n",
    "    if l == 1:\n",
    "        if digits[0] == 9:\n",
    "            digits.append(0)\n",
    "            digits[0] = 1\n",
    "            return digits\n",
    "        else:\n",
    "            digits[0] += 1\n",
    "            return digits\n",
    "    idx = l-1\n",
    "    last = digits[idx]\n",
    "    while idx >= 0 and last == 9:\n",
    "        idx -= 1\n",
    "        last = digits[idx]\n",
    "    \n",
    "    if idx == -1:\n",
    "        digits = [0 for d in digits]\n",
    "        digits[0] = 1\n",
    "        digits.append(0)\n",
    "        return digits\n",
    "    else:\n",
    "        diglen = len(digits)\n",
    "        rang = diglen - idx -1\n",
    "        for i in range(rang):\n",
    "            digits[idx+i+1] = 0\n",
    "        digits[idx] += 1\n",
    "        return digits"
   ]
  },
  {
   "cell_type": "code",
   "execution_count": 16,
   "metadata": {},
   "outputs": [
    {
     "name": "stdout",
     "output_type": "stream",
     "text": [
      "[1, 2, 4]\n"
     ]
    }
   ],
   "source": [
    "d = [1,2,3]\n",
    "print(plusone2(d))"
   ]
  },
  {
   "cell_type": "code",
   "execution_count": null,
   "metadata": {},
   "outputs": [],
   "source": [
    "sDig = [str(i) for i in digits]\n",
    "        sString = \"\".join(sDig)\n",
    "        iDig = int(sString)\n",
    "        iDig += 1\n",
    "        sDig2 = str(iDig)\n",
    "        lDig2 = list(sDig2)\n",
    "        iDigRes = [int(i) for i in lDig2]\n",
    "        return iDigRes "
   ]
  }
 ],
 "metadata": {
  "kernelspec": {
   "display_name": "Python 3",
   "language": "python",
   "name": "python3"
  },
  "language_info": {
   "codemirror_mode": {
    "name": "ipython",
    "version": 3
   },
   "file_extension": ".py",
   "mimetype": "text/x-python",
   "name": "python",
   "nbconvert_exporter": "python",
   "pygments_lexer": "ipython3",
   "version": "3.6.9"
  }
 },
 "nbformat": 4,
 "nbformat_minor": 4
}
