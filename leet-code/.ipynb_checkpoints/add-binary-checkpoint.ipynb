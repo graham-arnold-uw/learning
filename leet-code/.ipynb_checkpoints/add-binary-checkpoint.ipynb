{
 "cells": [
  {
   "cell_type": "markdown",
   "metadata": {},
   "source": [
    "https://leetcode.com/problems/add-binary/"
   ]
  },
  {
   "cell_type": "code",
   "execution_count": 16,
   "metadata": {},
   "outputs": [],
   "source": [
    "def convertBin2Dec(bstring):\n",
    "    bDigs = list(bstring)\n",
    "    res = 0\n",
    "    \n",
    "    for i in range(len(bDigs)-1,-1,-1):\n",
    "        #print(int(bDigs[i]))\n",
    "        pval = -1 * i + (len(bDigs)-1)\n",
    "        #print(pval)\n",
    "        res += int(bDigs[i]) * (2**pval)\n",
    "        #print(res)\n",
    "    return res\n",
    "\n",
    "\n",
    "def convertDec2Bin(dec):\n",
    "    if dec == 0:\n",
    "        return 0\n",
    "    res = ''\n",
    "    temp = dec\n",
    "    lf = findLargestFactor(temp)\n",
    "    digList [0] * (lf + 1)\n",
    "    while temp > 0:\n",
    "        lf = findLargestFactor(temp)\n",
    "        digList[lf] = 1\n",
    "        temp -= 2**lf\n",
    "    \n",
    "    \n",
    "        \n",
    "        \n",
    "        \n",
    "def findLargestFactor(num):\n",
    "    idx = 0\n",
    "    \n",
    "    while 2**idx < num:\n",
    "        idx += 1\n",
    "        \n",
    "    idx -= 1\n",
    "    return idx"
   ]
  },
  {
   "cell_type": "code",
   "execution_count": 17,
   "metadata": {},
   "outputs": [
    {
     "name": "stdout",
     "output_type": "stream",
     "text": [
      "4\n"
     ]
    }
   ],
   "source": [
    "t = '100'\n",
    "sol1 = convertBin2Dec(t)\n",
    "print(sol1)"
   ]
  },
  {
   "cell_type": "code",
   "execution_count": 5,
   "metadata": {},
   "outputs": [
    {
     "name": "stdout",
     "output_type": "stream",
     "text": [
      "0\n",
      "1\n",
      "1\n"
     ]
    }
   ],
   "source": [
    "s = '110'\n",
    "list(s)\n",
    "\n",
    "for i in range(len(s)-1,-1,-1):\n",
    "    print(s[i])"
   ]
  },
  {
   "cell_type": "code",
   "execution_count": null,
   "metadata": {},
   "outputs": [],
   "source": []
  }
 ],
 "metadata": {
  "kernelspec": {
   "display_name": "Python 3",
   "language": "python",
   "name": "python3"
  },
  "language_info": {
   "codemirror_mode": {
    "name": "ipython",
    "version": 3
   },
   "file_extension": ".py",
   "mimetype": "text/x-python",
   "name": "python",
   "nbconvert_exporter": "python",
   "pygments_lexer": "ipython3",
   "version": "3.6.9"
  }
 },
 "nbformat": 4,
 "nbformat_minor": 4
}
