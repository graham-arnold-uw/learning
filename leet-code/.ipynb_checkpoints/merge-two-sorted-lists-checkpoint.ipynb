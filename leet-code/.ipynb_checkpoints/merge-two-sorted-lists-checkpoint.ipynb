{
 "cells": [
  {
   "cell_type": "markdown",
   "metadata": {},
   "source": [
    "https://leetcode.com/problems/merge-two-sorted-lists/submissions/"
   ]
  },
  {
   "cell_type": "code",
   "execution_count": null,
   "metadata": {},
   "outputs": [],
   "source": [
    "# Definition for singly-linked list.\n",
    "# class ListNode:\n",
    "#     def __init__(self, val=0, next=None):\n",
    "#         self.val = val\n",
    "#         self.next = next\n",
    "class Solution:\n",
    "    def mergeTwoLists(self, l1: ListNode, l2: ListNode) -> ListNode:\n",
    "        if not l1 and not l2:\n",
    "            return None\n",
    "        if l1 and not l2:\n",
    "            return l1\n",
    "        if l2 and not l1:\n",
    "            return l2\n",
    "        \n",
    "        if l1.val <= l2.val:\n",
    "            h = l1\n",
    "            p1 = h.next\n",
    "            p2 = l2\n",
    "        else:\n",
    "            h = l2\n",
    "            p2 = h.next\n",
    "            p1 = l1\n",
    "        \n",
    "        c = h    \n",
    "        while(p1 != None and p2 != None):\n",
    "            if p1.val <= p2.val:\n",
    "                c.next = p1\n",
    "                c = c.next\n",
    "                p1 = p1.next\n",
    "            else:\n",
    "                c.next = p2\n",
    "                c = c.next\n",
    "                p2 = p2.next\n",
    "                \n",
    "        while(p1 != None):\n",
    "            c.next = p1\n",
    "            c = c.next\n",
    "            p1 = p1.next\n",
    "            \n",
    "        while(p2 != None):\n",
    "            c.next = p2\n",
    "            c = c.next\n",
    "            p2 = p2.next\n",
    "                \n",
    "        return h"
   ]
  }
 ],
 "metadata": {
  "kernelspec": {
   "display_name": "Python 3",
   "language": "python",
   "name": "python3"
  },
  "language_info": {
   "codemirror_mode": {
    "name": "ipython",
    "version": 3
   },
   "file_extension": ".py",
   "mimetype": "text/x-python",
   "name": "python",
   "nbconvert_exporter": "python",
   "pygments_lexer": "ipython3",
   "version": "3.6.9"
  }
 },
 "nbformat": 4,
 "nbformat_minor": 4
}
