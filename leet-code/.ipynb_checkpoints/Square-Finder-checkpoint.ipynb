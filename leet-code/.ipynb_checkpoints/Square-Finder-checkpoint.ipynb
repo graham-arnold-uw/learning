{
 "cells": [
  {
   "cell_type": "code",
   "execution_count": 12,
   "metadata": {},
   "outputs": [],
   "source": [
    "def squareFinder(matrix):\n",
    "    rlen = len(matrix)\n",
    "    clen = len(matrix[0])\n",
    "    \n",
    "    for rnum, row in enumerate(matrix):\n",
    "        for cnum,el in enumerate(row):\n",
    "            if el == 1:\n",
    "                cnum2 = cnum + 1\n",
    "                while cnum2 < clen:\n",
    "                    el2 = row[cnum2]\n",
    "                    if el2 == 1:\n",
    "                        res = checkDown(rnum,cnum,cnum2,matrix)\n",
    "                        if res:\n",
    "                            return True, cnum, cnum2\n",
    "                    cnum2 += 1\n",
    "    return False, -1, -1\n",
    "                        \n",
    "    \n",
    "def checkDown(r1,c1,c2,m):\n",
    "    nextRow = r1 + 1\n",
    "    rNum = len(m[0])\n",
    "    while nextRow < rNum:\n",
    "        if m[nextRow][c1] == 1 and m[nextRow][c2] == 1:\n",
    "            return True\n",
    "        nextRow += 1"
   ]
  },
  {
   "cell_type": "code",
   "execution_count": 15,
   "metadata": {},
   "outputs": [
    {
     "name": "stdout",
     "output_type": "stream",
     "text": [
      "True 1 3\n"
     ]
    }
   ],
   "source": [
    "t = [[1,0,0,0],[0,1,0,1],[1,1,0,1],[0,1,1,0]]\n",
    "res, c1, c2 = squareFinder(t)\n",
    "print(res,c1,c2)"
   ]
  },
  {
   "cell_type": "code",
   "execution_count": 3,
   "metadata": {},
   "outputs": [
    {
     "name": "stdout",
     "output_type": "stream",
     "text": [
      "(1, 0)\n",
      "(0, 1)\n",
      "(0, 2)\n",
      "(1, 3)\n",
      "(0, 0)\n",
      "(1, 1)\n",
      "(0, 2)\n",
      "(0, 3)\n",
      "(1, 0)\n",
      "(1, 1)\n",
      "(0, 2)\n",
      "(1, 3)\n",
      "(0, 0)\n",
      "(1, 1)\n",
      "(1, 2)\n",
      "(0, 3)\n"
     ]
    }
   ],
   "source": [
    "for rum,row in enumerate(t):\n",
    "        for cnum,el in enumerate(row):\n",
    "            tup = (el,cnum)\n",
    "            print(tup)"
   ]
  },
  {
   "cell_type": "code",
   "execution_count": 6,
   "metadata": {},
   "outputs": [
    {
     "name": "stdout",
     "output_type": "stream",
     "text": [
      "[(0, [1, 0, 0, 1]), (1, [0, 1, 0, 0]), (2, [1, 1, 0, 1]), (3, [0, 1, 1, 0])]\n"
     ]
    }
   ],
   "source": [
    "test = enumerate(t)\n",
    "print(list(test))"
   ]
  },
  {
   "cell_type": "code",
   "execution_count": null,
   "metadata": {},
   "outputs": [],
   "source": []
  }
 ],
 "metadata": {
  "kernelspec": {
   "display_name": "Python 3",
   "language": "python",
   "name": "python3"
  },
  "language_info": {
   "codemirror_mode": {
    "name": "ipython",
    "version": 3
   },
   "file_extension": ".py",
   "mimetype": "text/x-python",
   "name": "python",
   "nbconvert_exporter": "python",
   "pygments_lexer": "ipython3",
   "version": "3.6.9"
  }
 },
 "nbformat": 4,
 "nbformat_minor": 4
}
