{
 "cells": [
  {
   "cell_type": "markdown",
   "metadata": {},
   "source": [
    "https://leetcode.com/problems/valid-parentheses/"
   ]
  },
  {
   "cell_type": "code",
   "execution_count": 21,
   "metadata": {},
   "outputs": [],
   "source": [
    "from collections import deque\n",
    "\n",
    "def isValid(s):\n",
    "    \n",
    "    if not s:\n",
    "        return False\n",
    "    \n",
    "    stack = deque()\n",
    "    chars = list(s)\n",
    "    l = len(chars)\n",
    "    fail = False\n",
    "    idx = 0\n",
    "    openChars = {'{', '(','['}\n",
    "    closeMap = {'}':'{',')':'(',']':'['}\n",
    "\n",
    "    while(not fail and idx < l):\n",
    "        currChar = chars[idx]\n",
    "        #print(currChar)\n",
    "        if currChar in openChars:\n",
    "            stack.append(currChar)\n",
    "            idx += 1\n",
    "        else:\n",
    "            if len(stack) == 0:\n",
    "                #print('h1')\n",
    "                fail = True\n",
    "            else:\n",
    "                top = stack.pop()\n",
    "                pair = closeMap[currChar]\n",
    "                if top != pair:\n",
    "                    #print('hit')\n",
    "                    fail = True\n",
    "                idx += 1\n",
    "\n",
    "    if fail or len(stack) > 0:\n",
    "        return False\n",
    "    else:\n",
    "        return True"
   ]
  },
  {
   "cell_type": "code",
   "execution_count": 24,
   "metadata": {},
   "outputs": [
    {
     "name": "stdout",
     "output_type": "stream",
     "text": [
      "True\n"
     ]
    }
   ],
   "source": [
    "s1 = \"()\"\n",
    "s2 = \"(]\"\n",
    "s3 = \"([)]\"\n",
    "s4 = \"{[]}\"\n",
    "\n",
    "print(isValid(s4))"
   ]
  },
  {
   "cell_type": "code",
   "execution_count": null,
   "metadata": {},
   "outputs": [],
   "source": [
    "closeMap = {'}':'{',')':'(',']':'['}\n",
    "print(closeMap['}'])"
   ]
  },
  {
   "cell_type": "code",
   "execution_count": 15,
   "metadata": {},
   "outputs": [
    {
     "ename": "ValueError",
     "evalue": "empty separator",
     "output_type": "error",
     "traceback": [
      "\u001b[0;31m---------------------------------------------------------------------------\u001b[0m",
      "\u001b[0;31mValueError\u001b[0m                                Traceback (most recent call last)",
      "\u001b[0;32m<ipython-input-15-be9ee9cf5311>\u001b[0m in \u001b[0;36m<module>\u001b[0;34m\u001b[0m\n\u001b[0;32m----> 1\u001b[0;31m \u001b[0mt\u001b[0m \u001b[0;34m=\u001b[0m \u001b[0ms1\u001b[0m\u001b[0;34m.\u001b[0m\u001b[0msplit\u001b[0m\u001b[0;34m(\u001b[0m\u001b[0;34m''\u001b[0m\u001b[0;34m)\u001b[0m\u001b[0;34m\u001b[0m\u001b[0;34m\u001b[0m\u001b[0m\n\u001b[0m\u001b[1;32m      2\u001b[0m \u001b[0mprint\u001b[0m\u001b[0;34m(\u001b[0m\u001b[0mt\u001b[0m\u001b[0;34m)\u001b[0m\u001b[0;34m\u001b[0m\u001b[0;34m\u001b[0m\u001b[0m\n",
      "\u001b[0;31mValueError\u001b[0m: empty separator"
     ]
    }
   ],
   "source": [
    "t = s1.split('')\n",
    "print(t)"
   ]
  },
  {
   "cell_type": "code",
   "execution_count": null,
   "metadata": {},
   "outputs": [],
   "source": []
  }
 ],
 "metadata": {
  "kernelspec": {
   "display_name": "Python 3",
   "language": "python",
   "name": "python3"
  },
  "language_info": {
   "codemirror_mode": {
    "name": "ipython",
    "version": 3
   },
   "file_extension": ".py",
   "mimetype": "text/x-python",
   "name": "python",
   "nbconvert_exporter": "python",
   "pygments_lexer": "ipython3",
   "version": "3.6.9"
  }
 },
 "nbformat": 4,
 "nbformat_minor": 4
}
