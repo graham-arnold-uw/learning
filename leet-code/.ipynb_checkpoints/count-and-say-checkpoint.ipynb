{
 "cells": [
  {
   "cell_type": "markdown",
   "metadata": {},
   "source": [
    "https://leetcode.com/problems/count-and-say/"
   ]
  },
  {
   "cell_type": "code",
   "execution_count": 32,
   "metadata": {},
   "outputs": [
    {
     "name": "stdout",
     "output_type": "stream",
     "text": [
      "111221\n"
     ]
    }
   ],
   "source": [
    "from itertools import groupby\n",
    "\n",
    "test = '1211'\n",
    "groups = groupby(test)\n",
    "res = ''\n",
    "for k,g in groups:\n",
    "    #print(k)\n",
    "    res += str(len(list(g)))\n",
    "    res += k\n",
    "print(res)"
   ]
  },
  {
   "cell_type": "code",
   "execution_count": null,
   "metadata": {},
   "outputs": [],
   "source": [
    "def countAndSayFastest(n):\n",
    "    cd = num%10\n",
    "    res = 0\n",
    "    num = num // 10\n",
    "    count = 1\n",
    "    \n",
    "    while(num > 0):\n",
    "        nd = num%10\n",
    "        num = num // 10\n",
    "        if nd == cd:\n",
    "            count +=1\n",
    "        else:\n",
    "            res = res * 100\n",
    "            res += 10 * count\n",
    "            res += cd\n",
    "            cd = nd\n",
    "            count = 1\n",
    "    return str(res)"
   ]
  },
  {
   "cell_type": "code",
   "execution_count": 36,
   "metadata": {},
   "outputs": [],
   "source": [
    "def countAndSayFaster(n):\n",
    "    \n",
    "    res = '1'\n",
    "    \n",
    "    for i in range(n-1):\n",
    "        groups = groupby(res)\n",
    "        newRes = ''\n",
    "        for k,g in groups:\n",
    "            #print(k)\n",
    "            newRes += str(len(list(g)))\n",
    "            newRes += k\n",
    "        res = newRes\n",
    "    \n",
    "    return res"
   ]
  },
  {
   "cell_type": "code",
   "execution_count": 37,
   "metadata": {},
   "outputs": [
    {
     "name": "stdout",
     "output_type": "stream",
     "text": [
      "1\n",
      "11\n"
     ]
    }
   ],
   "source": [
    "sol = countAndSayFaster(1)\n",
    "print(sol)\n",
    "sol2 = countAndSayFaster(2)\n",
    "print(sol2)\n"
   ]
  },
  {
   "cell_type": "code",
   "execution_count": 19,
   "metadata": {},
   "outputs": [],
   "source": [
    "def countAndSay(n):\n",
    "    if n == 1:\n",
    "        return '1'\n",
    "    \n",
    "    res = countAndSay(n-1)\n",
    "    \n",
    "    \n",
    "    digString = constructDig(int(res))\n",
    "    \n",
    "    return digString\n",
    "    \n",
    "    \n",
    "def constructDig(num):\n",
    "    res = []\n",
    "    while num > 0:\n",
    "        currGroup = num % 10\n",
    "        num = num // 10\n",
    "        count = 1\n",
    "        nextDig = num % 10\n",
    "       # print(currGroup)\n",
    "        while nextDig == currGroup:\n",
    "            count += 1\n",
    "            num = num // 10\n",
    "            nextDig = num % 10\n",
    "        res.append(currGroup)\n",
    "        res.append(count)\n",
    "    res = res[::-1]\n",
    "    res = [str(i) for i in res]\n",
    "    res = ''.join(res)\n",
    "    return res"
   ]
  },
  {
   "cell_type": "code",
   "execution_count": 20,
   "metadata": {},
   "outputs": [
    {
     "name": "stdout",
     "output_type": "stream",
     "text": [
      "1\n",
      "111221\n"
     ]
    }
   ],
   "source": [
    "sol = countAndSay(1)\n",
    "sol2 = countAndSay(5)\n",
    "\n",
    "print(sol)\n",
    "print(sol2)"
   ]
  },
  {
   "cell_type": "code",
   "execution_count": 1,
   "metadata": {},
   "outputs": [
    {
     "name": "stdout",
     "output_type": "stream",
     "text": [
      "2\n",
      "11\n"
     ]
    }
   ],
   "source": [
    "x = 112\n",
    "y = x % 10\n",
    "x = x // 10\n",
    "print(y)\n",
    "print(x)"
   ]
  },
  {
   "cell_type": "code",
   "execution_count": 2,
   "metadata": {},
   "outputs": [
    {
     "name": "stdout",
     "output_type": "stream",
     "text": [
      "[1, 2, 3]\n"
     ]
    }
   ],
   "source": [
    "listy = [1,2,3]\n",
    "print(str(listy))"
   ]
  },
  {
   "cell_type": "code",
   "execution_count": 39,
   "metadata": {},
   "outputs": [
    {
     "data": {
      "text/plain": [
       "['1', '1', '2']"
      ]
     },
     "execution_count": 39,
     "metadata": {},
     "output_type": "execute_result"
    }
   ],
   "source": [
    "list(str(112))\n"
   ]
  },
  {
   "cell_type": "code",
   "execution_count": 3,
   "metadata": {},
   "outputs": [
    {
     "name": "stdout",
     "output_type": "stream",
     "text": [
      "[3, 2, 1]\n"
     ]
    }
   ],
   "source": [
    "rev = listy[::-1]\n",
    "print(rev)"
   ]
  },
  {
   "cell_type": "code",
   "execution_count": 4,
   "metadata": {},
   "outputs": [
    {
     "name": "stdout",
     "output_type": "stream",
     "text": [
      "112\n",
      "112\n"
     ]
    }
   ],
   "source": [
    "r = str(112)\n",
    "i = int(r)\n",
    "print(r)\n",
    "print(i)"
   ]
  },
  {
   "cell_type": "code",
   "execution_count": null,
   "metadata": {},
   "outputs": [],
   "source": [
    "class Solution:\n",
    "    def countAndSay(self, n):\n",
    "        if n == 1:\n",
    "            return '1'\n",
    "\n",
    "        res = self.countAndSay(n-1)\n",
    "\n",
    "\n",
    "        digString = self.constructDig(int(res))\n",
    "\n",
    "        return digString\n",
    "    \n",
    "\n",
    "    def constructDig(self, num):\n",
    "        res = []\n",
    "        while num > 0:\n",
    "            currGroup = num % 10\n",
    "            num = num // 10\n",
    "            count = 1\n",
    "            nextDig = num % 10\n",
    "           # print(currGroup)\n",
    "            while nextDig == currGroup:\n",
    "                count += 1\n",
    "                num = num // 10\n",
    "                nextDig = num % 10\n",
    "            res.append(currGroup)\n",
    "            res.append(count)\n",
    "        res = res[::-1]\n",
    "        res = [str(i) for i in res]\n",
    "        res = ''.join(res)\n",
    "        return res"
   ]
  }
 ],
 "metadata": {
  "kernelspec": {
   "display_name": "Python 3",
   "language": "python",
   "name": "python3"
  },
  "language_info": {
   "codemirror_mode": {
    "name": "ipython",
    "version": 3
   },
   "file_extension": ".py",
   "mimetype": "text/x-python",
   "name": "python",
   "nbconvert_exporter": "python",
   "pygments_lexer": "ipython3",
   "version": "3.6.9"
  }
 },
 "nbformat": 4,
 "nbformat_minor": 4
}
