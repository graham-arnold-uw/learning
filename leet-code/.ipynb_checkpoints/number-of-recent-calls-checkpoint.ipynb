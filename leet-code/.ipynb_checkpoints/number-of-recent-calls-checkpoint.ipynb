{
 "cells": [
  {
   "cell_type": "markdown",
   "metadata": {},
   "source": [
    "https://leetcode.com/explore/challenge/card/october-leetcoding-challenge/559/week-1-october-1st-october-7th/3480/"
   ]
  },
  {
   "cell_type": "code",
   "execution_count": 24,
   "metadata": {},
   "outputs": [],
   "source": [
    "class RecentCounter:\n",
    "\n",
    "    def __init__(self):\n",
    "            self.pingList = []\n",
    "\n",
    "    def ping(self, t: int) -> int:\n",
    "        self.pingList.append(t)\n",
    "        ts = t - 3000\n",
    "        res = self.findPings(ts)\n",
    "        #print(res)\n",
    "        return res\n",
    "        \n",
    "    def findPings(self,ts):\n",
    "        count = 1\n",
    "        l = len(self.pingList)\n",
    "        idx = l - 2\n",
    "        #count back 3000\n",
    "        #check if val at PL[i] > ts\n",
    "        while(idx >= 0 and self.pingList[idx] >= ts):\n",
    "            idx -= 1\n",
    "            count += 1\n",
    "      \n",
    "        return count\n",
    "# Your RecentCounter object will be instantiated and called as such:\n",
    "# obj = RecentCounter()\n",
    "# param_1 = obj.ping(t)"
   ]
  },
  {
   "cell_type": "code",
   "execution_count": 23,
   "metadata": {},
   "outputs": [
    {
     "name": "stdout",
     "output_type": "stream",
     "text": [
      "1\n",
      "2\n",
      "3\n",
      "3\n"
     ]
    }
   ],
   "source": [
    "c = RecentCounter()\n",
    "c.ping(1)\n",
    "c.ping(100)\n",
    "c.ping(3001)\n",
    "c.ping(3002)"
   ]
  },
  {
   "cell_type": "code",
   "execution_count": 9,
   "metadata": {},
   "outputs": [],
   "source": [
    "class Dog:\n",
    "\n",
    "    def __init__(self, name):\n",
    "        self.name = name\n",
    "        self.tricks = []    # creates a new empty list for each dog\n",
    "\n",
    "    def add_trick(self, trick):\n",
    "        self.tricks.append(trick)"
   ]
  },
  {
   "cell_type": "code",
   "execution_count": 10,
   "metadata": {},
   "outputs": [
    {
     "data": {
      "text/plain": [
       "['roll over']"
      ]
     },
     "execution_count": 10,
     "metadata": {},
     "output_type": "execute_result"
    }
   ],
   "source": [
    "d = Dog('Fido')\n",
    "d.add_trick('roll over')\n",
    "d.tricks"
   ]
  },
  {
   "cell_type": "code",
   "execution_count": null,
   "metadata": {},
   "outputs": [],
   "source": []
  }
 ],
 "metadata": {
  "kernelspec": {
   "display_name": "Python 3",
   "language": "python",
   "name": "python3"
  },
  "language_info": {
   "codemirror_mode": {
    "name": "ipython",
    "version": 3
   },
   "file_extension": ".py",
   "mimetype": "text/x-python",
   "name": "python",
   "nbconvert_exporter": "python",
   "pygments_lexer": "ipython3",
   "version": "3.6.9"
  }
 },
 "nbformat": 4,
 "nbformat_minor": 4
}
