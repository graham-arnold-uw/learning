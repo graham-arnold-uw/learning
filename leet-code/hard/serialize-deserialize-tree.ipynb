{
 "cells": [
  {
   "cell_type": "markdown",
   "metadata": {},
   "source": [
    "https://leetcode.com/problems/serialize-and-deserialize-binary-tree/"
   ]
  },
  {
   "cell_type": "markdown",
   "metadata": {},
   "source": [
    "# First submission"
   ]
  },
  {
   "cell_type": "code",
   "execution_count": 6,
   "metadata": {},
   "outputs": [
    {
     "name": "stdout",
     "output_type": "stream",
     "text": [
      "49\n"
     ]
    }
   ],
   "source": [
    "# Definition for a binary tree node.\n",
    "# class TreeNode(object):\n",
    "#     def __init__(self, x):\n",
    "#         self.val = x\n",
    "#         self.left = None\n",
    "#         self.right = None\n",
    "\n",
    "class Codec:\n",
    "    \n",
    "    def get_height_ser(self, root):\n",
    "\n",
    "            if root == None:\n",
    "                return 0\n",
    "\n",
    "            lh = self.get_height_ser(root.left)\n",
    "            rh = self.get_height_ser(root.right)\n",
    "\n",
    "            return lh + 1 if lh > rh else rh + 1\n",
    "\n",
    "\n",
    "    def serialize(self, root):\n",
    "            \"\"\"Encodes a tree to a single string.\n",
    "\n",
    "            :type root: TreeNode\n",
    "            :rtype: str\n",
    "            \"\"\"\n",
    "            if root == None:\n",
    "                return '[]'\n",
    "\n",
    "            h = self.get_height_ser(root)\n",
    "            max_nodes = 2**h - 1\n",
    "            lvl = 0\n",
    "            \n",
    "            children = []\n",
    "            \n",
    "            q = deque()\n",
    "            q.append(root)\n",
    "            \n",
    "            while len(q) > 0 and lvl < (h-1):\n",
    "                \n",
    "                nodes_at_level = len(q)\n",
    "                level_children = []\n",
    "                for i in range(nodes_at_level):\n",
    "                    curr_node = q.popleft()\n",
    "                    curr_children = []\n",
    "                    \n",
    "                    if curr_node.left == None:\n",
    "                        curr_children.append(None)\n",
    "                        #print(curr_children)\n",
    "                    else:\n",
    "                        curr_children.append(curr_node.left.val)\n",
    "                        q.append(curr_node.left)\n",
    "                        \n",
    "                    if curr_node.right == None:\n",
    "                        \n",
    "                        curr_children.append(None)\n",
    "                        #print(curr_children)\n",
    "                    else:\n",
    "                        curr_children.append(curr_node.right.val)\n",
    "                        q.append(curr_node.right)\n",
    "                        \n",
    "                    level_children.append(curr_children)\n",
    "                lvl += 1\n",
    "                #print(curr_children)\n",
    "                for cpair in level_children:\n",
    "                    children.append(cpair[0])\n",
    "                    children.append(cpair[1])\n",
    "            \n",
    "            \n",
    "            #next unpack children into a single list\n",
    "            #add the root element value to the front\n",
    "            #turn into a string and return\n",
    "            #res = []\n",
    "            children.insert(0, root.val)\n",
    "            \n",
    "            while children[-1] == None:\n",
    "                del children[-1]\n",
    "            #for c in children:\n",
    "                \n",
    "            \n",
    "            return str(children)\n",
    "                        \n",
    "                \n",
    "    def deserialize(self, data):\n",
    "        \"\"\"Decodes your encoded data to tree.\n",
    "        \n",
    "        :type data: str\n",
    "        :rtype: TreeNode\n",
    "        \n",
    "        \"\"\"\n",
    "        if data == '[]':\n",
    "            return None\n",
    "        \n",
    "        node_list = self.preprocess(data)\n",
    "        print(node_list)\n",
    "        root = None\n",
    "        root = self.insert_level_order(node_list, root)\n",
    "        return root\n",
    "        \n",
    "        \n",
    "    \n",
    "    def preprocess(self, data):\n",
    "        \n",
    "        data = data[1:-1]\n",
    "        res = data.replace(' ','').split(',')\n",
    "        \n",
    "        \n",
    "        \n",
    "        return [None if el == 'None' else int(el) for el in res]\n",
    "    \n",
    "    def insert_level_order(self, arr, root):\n",
    "    \n",
    "        if len(arr) == 0:\n",
    "            return None\n",
    "\n",
    "\n",
    "        i = 0\n",
    "        root = TreeNode(arr[i])\n",
    "        i += 1\n",
    "\n",
    "        q = deque()\n",
    "        q.append(root)\n",
    "\n",
    "        while len(q) > 0:\n",
    "\n",
    "            numlvl = len(q)\n",
    "\n",
    "            for j in range(numlvl):\n",
    "                curr_node = q.popleft()\n",
    "                if i >= len(arr):\n",
    "                    break\n",
    "\n",
    "                if arr[i] != None:\n",
    "                    newleft = TreeNode(arr[i])\n",
    "                    curr_node.left = newleft\n",
    "                    q.append(newleft)\n",
    "\n",
    "                i += 1\n",
    "                if i >= len(arr):\n",
    "                    break\n",
    "                    \n",
    "                if arr[i] != None:\n",
    "                    newright = TreeNode(arr[i])\n",
    "                    curr_node.right = newright\n",
    "                    q.append(newright)\n",
    "\n",
    "                i += 1\n",
    "        return root"
   ]
  },
  {
   "cell_type": "code",
   "execution_count": 20,
   "metadata": {},
   "outputs": [],
   "source": [
    "t1 = True\n",
    "t2 = None\n",
    "t3 = None\n",
    "\n",
    "if t2 or t3:\n",
    "    print('y')"
   ]
  },
  {
   "cell_type": "code",
   "execution_count": 11,
   "metadata": {},
   "outputs": [
    {
     "data": {
      "text/plain": [
       "True"
      ]
     },
     "execution_count": 11,
     "metadata": {},
     "output_type": "execute_result"
    }
   ],
   "source": [
    "t2 == None"
   ]
  },
  {
   "cell_type": "code",
   "execution_count": 13,
   "metadata": {},
   "outputs": [
    {
     "data": {
      "text/plain": [
       "True"
      ]
     },
     "execution_count": 13,
     "metadata": {},
     "output_type": "execute_result"
    }
   ],
   "source": [
    "t3 == None"
   ]
  },
  {
   "cell_type": "code",
   "execution_count": 18,
   "metadata": {},
   "outputs": [
    {
     "name": "stdout",
     "output_type": "stream",
     "text": [
      "h\n"
     ]
    }
   ],
   "source": [
    "if (True | True):\n",
    "    print('h')"
   ]
  },
  {
   "cell_type": "code",
   "execution_count": 21,
   "metadata": {},
   "outputs": [],
   "source": [
    "t2"
   ]
  },
  {
   "cell_type": "code",
   "execution_count": 22,
   "metadata": {},
   "outputs": [
    {
     "name": "stdout",
     "output_type": "stream",
     "text": [
      "None\n"
     ]
    }
   ],
   "source": [
    "print(t2)"
   ]
  },
  {
   "cell_type": "code",
   "execution_count": null,
   "metadata": {},
   "outputs": [],
   "source": []
  }
 ],
 "metadata": {
  "kernelspec": {
   "display_name": "Python 3",
   "language": "python",
   "name": "python3"
  },
  "language_info": {
   "codemirror_mode": {
    "name": "ipython",
    "version": 3
   },
   "file_extension": ".py",
   "mimetype": "text/x-python",
   "name": "python",
   "nbconvert_exporter": "python",
   "pygments_lexer": "ipython3",
   "version": "3.6.9"
  }
 },
 "nbformat": 4,
 "nbformat_minor": 4
}
