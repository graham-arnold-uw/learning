{
 "cells": [
  {
   "cell_type": "markdown",
   "metadata": {},
   "source": [
    "https://leetcode.com/explore/interview/card/amazon/78/trees-and-graphs/2986/"
   ]
  },
  {
   "cell_type": "code",
   "execution_count": null,
   "metadata": {},
   "outputs": [],
   "source": [
    "from collections import deque\n",
    "class Solution:\n",
    "    def cutOffTree(self, forest: List[List[int]]) -> int:\n",
    "\n",
    "        def create_sorted_heights(forest):\n",
    "            m = len(forest)\n",
    "            n = len(forest[0])\n",
    "            \n",
    "            heights = []\n",
    "            for i in range(m):\n",
    "                for j in range(n):\n",
    "                    if forest[i][j] != 0 and forest[i][j] != 1:\n",
    "                        heights.append((forest[i][j], (i,j)))\n",
    "            \n",
    "            return sorted(heights, key = lambda x: x[0])\n",
    "        \n",
    "        def create_position_map(heights):\n",
    "            position_map = {h:pos for h, pos in heights}\n",
    "            return position_map\n",
    "        \n",
    "        def bfs(start, end, forest):\n",
    "            if start == end:\n",
    "                return 0\n",
    "            \n",
    "            d = 0\n",
    "            q = deque()\n",
    "            q.append((start, d))\n",
    "            dirs = [(1,0), (-1, 0), (0, 1), (0, -1)]\n",
    "            visited = set()\n",
    "            visited.add(start)\n",
    "            \n",
    "            while len(q) > 0:\n",
    "                curr_pos, curr_dist = q.popleft()\n",
    "                if curr_pos == end:\n",
    "                    return curr_dist\n",
    "                \n",
    "                for dm, dn in dirs:\n",
    "                    nm, nn = curr_pos[0] + dm, curr_pos[1] + dn\n",
    "                    if nm >= 0 and nm < m and nn >= 0 and nn < n \\\n",
    "                    and (nm, nn) not in visited and forest[nm][nn] != 0:\n",
    "                        visited.add((nm,nn))\n",
    "                        q.append(((nm, nn), curr_dist + 1))\n",
    "            \n",
    "            return -1\n",
    "        \n",
    "        def find_next_shortest(sorted_heights, position_map, forest):\n",
    "            num_trees = len(sorted_heights)\n",
    "            path_sum = 0\n",
    "            for i in range(num_trees - 1):\n",
    "                curr_tree, curr_pos = sorted_heights[i]\n",
    "                next_tree, next_pos = sorted_heights[i + 1]\n",
    "                dist_to_next = bfs(curr_pos, next_pos, forest)\n",
    "                if dist_to_next == -1:\n",
    "                    return -1\n",
    "                path_sum += dist_to_next\n",
    "            \n",
    "            return path_sum\n",
    "        \n",
    "        m = len(forest)\n",
    "        n = len(forest[0])\n",
    "        sorted_heights = create_sorted_heights(forest)\n",
    "        sorted_heights = [(-1, (0,0))] + sorted_heights\n",
    "        position_map = create_position_map(sorted_heights)\n",
    "        shortest_walk = find_next_shortest(sorted_heights, position_map, forest)\n",
    "        return shortest_walk\n",
    "        "
   ]
  }
 ],
 "metadata": {
  "kernelspec": {
   "display_name": "Python 3",
   "language": "python",
   "name": "python3"
  },
  "language_info": {
   "codemirror_mode": {
    "name": "ipython",
    "version": 3
   },
   "file_extension": ".py",
   "mimetype": "text/x-python",
   "name": "python",
   "nbconvert_exporter": "python",
   "pygments_lexer": "ipython3",
   "version": "3.6.9"
  }
 },
 "nbformat": 4,
 "nbformat_minor": 4
}
