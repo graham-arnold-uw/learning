{
 "cells": [
  {
   "cell_type": "markdown",
   "metadata": {},
   "source": [
    "https://leetcode.com/problems/dungeon-game/submissions/\n"
   ]
  },
  {
   "cell_type": "code",
   "execution_count": null,
   "metadata": {},
   "outputs": [],
   "source": [
    "class Solution:\n",
    "    def calculateMinimumHP(self, dungeon: List[List[int]]) -> int:\n",
    "        \n",
    "        m = len(dungeon)\n",
    "        n = len(dungeon[0])\n",
    "        memo = {}\n",
    "        \n",
    "        res = self.hp_helper(dungeon, m, n, 0, 0, memo)\n",
    "        print(memo)\n",
    "        \n",
    "        return res\n",
    "    \n",
    "    def hp_helper(self, dungeon, m, n, i, j, memo):\n",
    "        \n",
    "        if (i, j) in memo:\n",
    "            return memo[(i, j)]\n",
    "        \n",
    "        elif i == m - 1 and j == n - 1:\n",
    "            if dungeon[i][j] >= 0:\n",
    "                return 1\n",
    "            else:\n",
    "                return 1 - dungeon[i][j]\n",
    "        \n",
    "        elif i >= m or j >= n:\n",
    "            return float('inf')\n",
    "        \n",
    "        else: \n",
    "            \n",
    "            min_needed = max(min(self.hp_helper(dungeon, m, n, i + 1, j, memo), \n",
    "                                 self.hp_helper(dungeon, m, n, i, j + 1, memo)) - dungeon[i][j], 1)\n",
    "            \n",
    "            memo[(i, j)] = min_needed\n",
    "            return min_needed\n",
    "        \n",
    "            \n",
    "            "
   ]
  }
 ],
 "metadata": {
  "kernelspec": {
   "display_name": "Python 3",
   "language": "python",
   "name": "python3"
  },
  "language_info": {
   "codemirror_mode": {
    "name": "ipython",
    "version": 3
   },
   "file_extension": ".py",
   "mimetype": "text/x-python",
   "name": "python",
   "nbconvert_exporter": "python",
   "pygments_lexer": "ipython3",
   "version": "3.6.9"
  }
 },
 "nbformat": 4,
 "nbformat_minor": 4
}
