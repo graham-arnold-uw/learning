{
 "cells": [
  {
   "cell_type": "markdown",
   "metadata": {},
   "source": [
    "https://leetcode.com/problems/word-ladder-ii/solution/"
   ]
  },
  {
   "cell_type": "code",
   "execution_count": null,
   "metadata": {},
   "outputs": [],
   "source": [
    "from collections import deque\n",
    "\n",
    "class Solution:\n",
    "    def findLadders(self, beginWord: str, endWord: str, wordList: List[str]) -> List[List[str]]:\n",
    "\n",
    "        def build_graph(bw, wl):\n",
    "            words = set(wl)\n",
    "            words.add(bw)\n",
    "            words = list(words)\n",
    "            graph = {w:[] for w in words}\n",
    "            \n",
    "            nw = len(words)\n",
    "            \n",
    "            for i in range(nw):\n",
    "                for j in range(i + 1, nw):\n",
    "                    if compare_words(words[i], words[j]):\n",
    "                        graph[words[i]].append(words[j])\n",
    "                        graph[words[j]].append(words[i])\n",
    "            return graph\n",
    "            \n",
    "        \n",
    "        def compare_words(w1, w2):\n",
    "            diff = 0\n",
    "            \n",
    "            for i in range(len(w1)):\n",
    "                if w1[i] != w2[i]:\n",
    "                    diff += 1\n",
    "                if diff > 1:\n",
    "                    return False\n",
    "            \n",
    "            return True\n",
    "                \n",
    "        global_res = []\n",
    "        q = deque()\n",
    "        visited = set()\n",
    "        q.append([beginWord])\n",
    "        \n",
    "        graph = build_graph(beginWord, wordList)\n",
    "        #print(graph)\n",
    "        #print()\n",
    "        \n",
    "        while len(q) > 0:\n",
    "            #print(q)\n",
    "            #print()\n",
    "            group_size = len(q)\n",
    "            breaker = False\n",
    "            for i in range(group_size):\n",
    "                curr_path = q.popleft()\n",
    "                curr_word = curr_path[-1]\n",
    "                visited.add(curr_word)\n",
    "                if curr_word == endWord:\n",
    "                    breaker = True\n",
    "                    global_res.append(curr_path)\n",
    "\n",
    "                for nei in graph[curr_word]:\n",
    "                    if nei not in visited:\n",
    "                        nei_path = curr_path[:] + [nei]\n",
    "                        q.append(nei_path)\n",
    "            \n",
    "            if breaker:\n",
    "                break\n",
    "       \n",
    "        if len(global_res) == 0:\n",
    "            return global_res\n",
    "        \n",
    "        global_res = sorted(global_res, key=lambda x: len(x))\n",
    "        shortest_path = len(global_res[0])\n",
    "        global_res = [el for el in global_res if len(el) == shortest_path]\n",
    "        \n",
    "        return global_res"
   ]
  },
  {
   "cell_type": "code",
   "execution_count": 1,
   "metadata": {},
   "outputs": [
    {
     "name": "stdout",
     "output_type": "stream",
     "text": [
      "None\n"
     ]
    }
   ],
   "source": [
    "l = [1, 2, 3]\n",
    "print(n)"
   ]
  },
  {
   "cell_type": "code",
   "execution_count": null,
   "metadata": {},
   "outputs": [],
   "source": []
  }
 ],
 "metadata": {
  "kernelspec": {
   "display_name": "Python 3",
   "language": "python",
   "name": "python3"
  },
  "language_info": {
   "codemirror_mode": {
    "name": "ipython",
    "version": 3
   },
   "file_extension": ".py",
   "mimetype": "text/x-python",
   "name": "python",
   "nbconvert_exporter": "python",
   "pygments_lexer": "ipython3",
   "version": "3.6.9"
  }
 },
 "nbformat": 4,
 "nbformat_minor": 4
}
