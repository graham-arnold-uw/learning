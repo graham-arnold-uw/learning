{
 "cells": [
  {
   "cell_type": "markdown",
   "metadata": {},
   "source": [
    "https://leetcode.com/problems/find-k-th-smallest-pair-distance/"
   ]
  },
  {
   "cell_type": "markdown",
   "metadata": {},
   "source": [
    "https://leetcode.com/discuss/general-discussion/786126/python-powerful-ultimate-binary-search-template-solved-many-problems"
   ]
  },
  {
   "cell_type": "code",
   "execution_count": null,
   "metadata": {},
   "outputs": [],
   "source": [
    "class Solution:\n",
    "    def smallestDistancePair(self, nums: List[int], k: int) -> int:\n",
    "        \n",
    "        def enough(distance) -> bool:  # two pointers\n",
    "            count, i, j = 0, 0, 0\n",
    "            while i < n or j < n:\n",
    "                while j < n and nums[j] - nums[i] <= distance:  # move fast pointer\n",
    "                    j += 1\n",
    "                count += j - i - 1  # count pairs\n",
    "                i += 1  # move slow pointer\n",
    "            return count >= k\n",
    "        \n",
    "  \n",
    "        nums.sort()\n",
    "        n = len(nums)\n",
    "        left, right = 0, nums[-1] - nums[0]\n",
    "        while left < right:\n",
    "            mid = left + (right - left) // 2\n",
    "            if enough(mid):\n",
    "                right = mid\n",
    "            else:\n",
    "                left = mid + 1\n",
    "        return left"
   ]
  }
 ],
 "metadata": {
  "kernelspec": {
   "display_name": "Python 3",
   "language": "python",
   "name": "python3"
  },
  "language_info": {
   "codemirror_mode": {
    "name": "ipython",
    "version": 3
   },
   "file_extension": ".py",
   "mimetype": "text/x-python",
   "name": "python",
   "nbconvert_exporter": "python",
   "pygments_lexer": "ipython3",
   "version": "3.6.9"
  }
 },
 "nbformat": 4,
 "nbformat_minor": 4
}
