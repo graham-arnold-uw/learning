{
 "cells": [
  {
   "cell_type": "markdown",
   "metadata": {},
   "source": [
    "https://leetcode.com/explore/learn/card/recursion-ii/472/backtracking/2804/"
   ]
  },
  {
   "cell_type": "code",
   "execution_count": null,
   "metadata": {},
   "outputs": [],
   "source": [
    "class Solution:\n",
    "    def totalNQueens(self, n: int) -> int:\n",
    "         \n",
    "        def is_valid(row, col):\n",
    "            upper_id = row + col\n",
    "            lower_id = row - col\n",
    "            \n",
    "            if col not in columns and upper_id not in upper_diag and lower_id not in lower_diag:\n",
    "                return True\n",
    "            return False\n",
    "        \n",
    "        def backtrack_helper(n, row):\n",
    "            nonlocal solution_count\n",
    "            if row == n:\n",
    "                solution_count += 1\n",
    "                return\n",
    "            \n",
    "            for col in range(n):\n",
    "                if is_valid(row, col):\n",
    "                    columns.add(col)\n",
    "                    upper_diag.add(row + col)\n",
    "                    lower_diag.add(row - col)\n",
    "                    backtrack_helper(n, row + 1)\n",
    "                    columns.remove(col)\n",
    "                    upper_diag.remove(row + col)\n",
    "                    lower_diag.remove(row - col)\n",
    "        \n",
    "        \n",
    "        \n",
    "        columns = set()\n",
    "        upper_diag = set()\n",
    "        lower_diag = set()\n",
    "        solution_count = 0\n",
    "        backtrack_helper(n, 0)\n",
    "        return solution_count"
   ]
  }
 ],
 "metadata": {
  "kernelspec": {
   "display_name": "Python 3",
   "language": "python",
   "name": "python3"
  },
  "language_info": {
   "codemirror_mode": {
    "name": "ipython",
    "version": 3
   },
   "file_extension": ".py",
   "mimetype": "text/x-python",
   "name": "python",
   "nbconvert_exporter": "python",
   "pygments_lexer": "ipython3",
   "version": "3.6.9"
  }
 },
 "nbformat": 4,
 "nbformat_minor": 4
}
