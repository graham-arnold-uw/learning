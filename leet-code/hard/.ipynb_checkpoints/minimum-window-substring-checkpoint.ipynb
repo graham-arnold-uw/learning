{
 "cells": [
  {
   "cell_type": "markdown",
   "metadata": {},
   "source": [
    "https://leetcode.com/problems/minimum-window-substring/"
   ]
  },
  {
   "cell_type": "code",
   "execution_count": 2,
   "metadata": {},
   "outputs": [],
   "source": [
    "from collections import Counter"
   ]
  },
  {
   "cell_type": "code",
   "execution_count": 64,
   "metadata": {},
   "outputs": [
    {
     "name": "stdout",
     "output_type": "stream",
     "text": [
      "Counter({'A': 0, 'B': 0, 'O': 0, 'E': 0, 'C': 0, 'D': 0, 'N': 0})\n",
      "{'A', 'B', 'C', 'E', 'O', 'N', 'D'}\n",
      "None\n",
      "{'B', 'C', 'E', 'O', 'N', 'D'}\n"
     ]
    }
   ],
   "source": [
    "t = 'ABOBECODEBANC'\n",
    "\n",
    "char_cts = Counter(t)\n",
    "for k in char_cts.keys():\n",
    "    char_cts[k] = 0\n",
    "print(char_cts)\n",
    "\n",
    "se = set(char_cts.keys())\n",
    "print(se)\n",
    "print(se.remove('A'))\n",
    "print(se)"
   ]
  },
  {
   "cell_type": "code",
   "execution_count": 18,
   "metadata": {},
   "outputs": [
    {
     "name": "stdout",
     "output_type": "stream",
     "text": [
      "3\n"
     ]
    },
    {
     "data": {
      "text/plain": [
       "'ABC'"
      ]
     },
     "execution_count": 18,
     "metadata": {},
     "output_type": "execute_result"
    }
   ],
   "source": [
    "r1 = 'ABC'\n",
    "r2 = 'ABC'\n",
    "c1 = Counter(r1)\n",
    "c2 = c2.copy()\n",
    "tot = sum(c1.values())\n",
    "print(tot)\n",
    "j = 2\n",
    "q = r1[0:j+1]\n",
    "q"
   ]
  },
  {
   "cell_type": "code",
   "execution_count": 20,
   "metadata": {},
   "outputs": [
    {
     "data": {
      "text/plain": [
       "True"
      ]
     },
     "execution_count": 20,
     "metadata": {},
     "output_type": "execute_result"
    }
   ],
   "source": [
    "u = [1]\n",
    "p = u[0]\n",
    "r = u[-1]\n",
    "p == r"
   ]
  },
  {
   "cell_type": "code",
   "execution_count": 94,
   "metadata": {},
   "outputs": [],
   "source": [
    " def minWindow(s,t):\n",
    "    ls = len(s)\n",
    "    lt = len(t)\n",
    "    \n",
    "    if lt > ls:\n",
    "        return ''\n",
    "    \n",
    "    \n",
    "    char_cts = Counter(t)\n",
    "    for k in char_cts.keys():\n",
    "        char_cts[k] = 0\n",
    "    \n",
    "    min_seen = float('inf')\n",
    "    min_string = ''\n",
    "    seen = []\n",
    "    \n",
    "    i = j = s.find(t[0])\n",
    "    \n",
    "    if i == -1:\n",
    "        return ''\n",
    "    \n",
    "    needed_ct = char_cts.copy()\n",
    "    seen_ct = char_cts.copy()\n",
    "    \n",
    "    for k in seen_ct.keys():\n",
    "        seen_ct[k] = 0\n",
    "        \n",
    "    ct_needed = lt\n",
    "    \n",
    "    while j < ls:\n",
    "        nxt = s[j]\n",
    "        #print(i)\n",
    "        #print(j)\n",
    "        if nxt in t:\n",
    "            seen.append((j,nxt))\n",
    "            #print(seen)\n",
    "            seen_ct[nxt] += 1\n",
    "            needed_ct[nxt] = max(0, needed_ct[nxt]-1)\n",
    "           # print(temp_cts.items())\n",
    "            tot = sum(needed_ct.values())\n",
    "            if tot == 0:\n",
    "                #print(seen)\n",
    "                #print(i)\n",
    "                #print(j)\n",
    "                w_len = j-i+1\n",
    "                if w_len < min_seen:\n",
    "                    min_seen = w_len\n",
    "                    min_string = s[i:j+1]\n",
    "                #seen = sorted(seen)\n",
    "                #temp_cts = char_cts.copy()\n",
    "                seen_ct[s[i]] -= 1\n",
    "                if seen_ct[s[i]] < char_cts[s[i]]:\n",
    "                    needed_ct[s[i]] += 1\n",
    "                \n",
    "                if len(seen) == 1:\n",
    "                    #print('h')\n",
    "                    i = seen[0][0] + 1\n",
    "                    seen = []\n",
    "                else:\n",
    "                    seen = seen[1:]\n",
    "                    i = seen[0][0]\n",
    "            \n",
    "            tot = sum(needed_ct.values())\n",
    "            if tot > 0:\n",
    "            #print('h')\n",
    "                j += 1        \n",
    "        \n",
    "        else:\n",
    "            j+=1\n",
    "\n",
    "    return min_string\n",
    "            \n",
    "        \n",
    "        "
   ]
  },
  {
   "cell_type": "code",
   "execution_count": 95,
   "metadata": {},
   "outputs": [
    {
     "ename": "IndexError",
     "evalue": "string index out of range",
     "output_type": "error",
     "traceback": [
      "\u001b[0;31m---------------------------------------------------------------------------\u001b[0m",
      "\u001b[0;31mIndexError\u001b[0m                                Traceback (most recent call last)",
      "\u001b[0;32m<ipython-input-95-b872bc46138e>\u001b[0m in \u001b[0;36m<module>\u001b[0;34m\u001b[0m\n\u001b[1;32m      1\u001b[0m \u001b[0ms1\u001b[0m \u001b[0;34m=\u001b[0m \u001b[0;34m'ab'\u001b[0m\u001b[0;34m\u001b[0m\u001b[0;34m\u001b[0m\u001b[0m\n\u001b[1;32m      2\u001b[0m \u001b[0mt1\u001b[0m \u001b[0;34m=\u001b[0m \u001b[0;34m'b'\u001b[0m\u001b[0;34m\u001b[0m\u001b[0;34m\u001b[0m\u001b[0m\n\u001b[0;32m----> 3\u001b[0;31m \u001b[0mres\u001b[0m \u001b[0;34m=\u001b[0m \u001b[0mminWindow\u001b[0m\u001b[0;34m(\u001b[0m\u001b[0ms1\u001b[0m\u001b[0;34m,\u001b[0m\u001b[0mt1\u001b[0m\u001b[0;34m)\u001b[0m\u001b[0;34m\u001b[0m\u001b[0;34m\u001b[0m\u001b[0m\n\u001b[0m\u001b[1;32m      4\u001b[0m \u001b[0mprint\u001b[0m\u001b[0;34m(\u001b[0m\u001b[0mres\u001b[0m\u001b[0;34m)\u001b[0m\u001b[0;34m\u001b[0m\u001b[0;34m\u001b[0m\u001b[0m\n",
      "\u001b[0;32m<ipython-input-94-1d84cb0cc645>\u001b[0m in \u001b[0;36mminWindow\u001b[0;34m(s, t)\u001b[0m\n\u001b[1;32m     49\u001b[0m                \u001b[0;31m#seen = sorted(seen)\u001b[0m\u001b[0;34m\u001b[0m\u001b[0;34m\u001b[0m\u001b[0;34m\u001b[0m\u001b[0m\n\u001b[1;32m     50\u001b[0m                \u001b[0;31m#temp_cts = char_cts.copy()\u001b[0m\u001b[0;34m\u001b[0m\u001b[0;34m\u001b[0m\u001b[0;34m\u001b[0m\u001b[0m\n\u001b[0;32m---> 51\u001b[0;31m                \u001b[0mseen_ct\u001b[0m\u001b[0;34m[\u001b[0m\u001b[0ms\u001b[0m\u001b[0;34m[\u001b[0m\u001b[0mi\u001b[0m\u001b[0;34m]\u001b[0m\u001b[0;34m]\u001b[0m \u001b[0;34m-=\u001b[0m \u001b[0;36m1\u001b[0m\u001b[0;34m\u001b[0m\u001b[0;34m\u001b[0m\u001b[0m\n\u001b[0m\u001b[1;32m     52\u001b[0m                \u001b[0;32mif\u001b[0m \u001b[0mseen_ct\u001b[0m\u001b[0;34m[\u001b[0m\u001b[0ms\u001b[0m\u001b[0;34m[\u001b[0m\u001b[0mi\u001b[0m\u001b[0;34m]\u001b[0m\u001b[0;34m]\u001b[0m \u001b[0;34m<\u001b[0m \u001b[0mchar_cts\u001b[0m\u001b[0;34m[\u001b[0m\u001b[0ms\u001b[0m\u001b[0;34m[\u001b[0m\u001b[0mi\u001b[0m\u001b[0;34m]\u001b[0m\u001b[0;34m]\u001b[0m\u001b[0;34m:\u001b[0m\u001b[0;34m\u001b[0m\u001b[0;34m\u001b[0m\u001b[0m\n\u001b[1;32m     53\u001b[0m                    \u001b[0mneeded_ct\u001b[0m\u001b[0;34m[\u001b[0m\u001b[0ms\u001b[0m\u001b[0;34m[\u001b[0m\u001b[0mi\u001b[0m\u001b[0;34m]\u001b[0m\u001b[0;34m]\u001b[0m \u001b[0;34m+=\u001b[0m \u001b[0;36m1\u001b[0m\u001b[0;34m\u001b[0m\u001b[0;34m\u001b[0m\u001b[0m\n",
      "\u001b[0;31mIndexError\u001b[0m: string index out of range"
     ]
    }
   ],
   "source": [
    "s1 = 'ab'\n",
    "t1 = 'b'\n",
    "res = minWindow(s1,t1)\n",
    "print(res)"
   ]
  },
  {
   "cell_type": "code",
   "execution_count": 79,
   "metadata": {},
   "outputs": [
    {
     "data": {
      "text/plain": [
       "-1"
      ]
     },
     "execution_count": 79,
     "metadata": {},
     "output_type": "execute_result"
    }
   ],
   "source": [
    "o = 'a'\n",
    "o.find('b')"
   ]
  },
  {
   "cell_type": "code",
   "execution_count": 71,
   "metadata": {},
   "outputs": [
    {
     "name": "stdout",
     "output_type": "stream",
     "text": [
      "True\n"
     ]
    }
   ],
   "source": [
    "s2 = 'a'\n",
    "t2 = 't'\n",
    "res = minWindow(s2,t2)\n",
    "print(res=='')"
   ]
  },
  {
   "cell_type": "code",
   "execution_count": 72,
   "metadata": {},
   "outputs": [
    {
     "name": "stdout",
     "output_type": "stream",
     "text": [
      "\n"
     ]
    }
   ],
   "source": [
    "s1 = 'ABOBECODEBANC'\n",
    "t1 = 'hello'\n",
    "res = minWindow(s1,t1)\n",
    "print(res)"
   ]
  },
  {
   "cell_type": "code",
   "execution_count": 29,
   "metadata": {},
   "outputs": [
    {
     "data": {
      "text/plain": [
       "2"
      ]
     },
     "execution_count": 29,
     "metadata": {},
     "output_type": "execute_result"
    }
   ],
   "source": [
    "cts = Counter(s1)\n",
    "cts['A']"
   ]
  },
  {
   "cell_type": "code",
   "execution_count": 135,
   "metadata": {},
   "outputs": [],
   "source": [
    "def compare_freqs(f1,f2):\n",
    "    \n",
    "    for k in f1.keys():\n",
    "        if f1[k] < f2[k]:\n",
    "            return False\n",
    "        \n",
    "    return True\n",
    "\n",
    "def minWindow2(s,t):\n",
    "    \n",
    "    ls = len(s)\n",
    "    lt = len(t)\n",
    "    \n",
    "    if lt > ls:\n",
    "        print('h')\n",
    "        return \"\"\n",
    "    \n",
    "    if lt == 0:\n",
    "        print('h')\n",
    "        return \"\"\n",
    "    \n",
    "    min_len = float('inf')\n",
    "    min_str = ''\n",
    "    \n",
    "    i = j = 0\n",
    "    if i == -1:\n",
    "        print('h')\n",
    "        return \"\"\n",
    "    \n",
    "    needed_ct = Counter(t)\n",
    "    seen_ct = needed_ct.copy()\n",
    "    for k in seen_ct.keys():\n",
    "        seen_ct[k] = 0\n",
    "    \n",
    "    while j < ls and i < ls-lt + 1:\n",
    "        #print(str(i) + ' ' + str(j))\n",
    "        curr_char = s[j]\n",
    "        \n",
    "        if curr_char in t:\n",
    "            seen_ct[curr_char] += 1\n",
    "            if compare_freqs(seen_ct, needed_ct):\n",
    "                curr_len = j-i+1\n",
    "                if curr_len < min_len:\n",
    "                    min_len = curr_len\n",
    "                    min_str = s[i:j+1]\n",
    "\n",
    "                if i < j:\n",
    "                    if s[i] in t:\n",
    "                        seen_ct[s[i]] -= 1\n",
    "                    i = i+1\n",
    "\n",
    "                while  i <= j:\n",
    "                    i_char = s[i]\n",
    "                    if compare_freqs(seen_ct, needed_ct):\n",
    "                        curr_len = j-i+1\n",
    "                        #print(curr_len)\n",
    "                        #print(min_len)\n",
    "                        if curr_len < min_len:\n",
    "                            min_len = curr_len\n",
    "                            min_str = s[i:j+1]\n",
    "                            #print(min_str)\n",
    "                        if i_char in t:\n",
    "                            seen_ct[s[i]] -= 1\n",
    "                        i += 1\n",
    "                    else:\n",
    "                        break\n",
    "                    #print(str(i) + ' ' + str(j))\n",
    "        j += 1\n",
    "    \n",
    "    print(min_str)\n",
    "    #print(i)\n",
    "    #print(j)\n",
    "                        \n",
    "                    \n",
    "                    \n",
    "                    \n"
   ]
  },
  {
   "cell_type": "code",
   "execution_count": 136,
   "metadata": {},
   "outputs": [
    {
     "name": "stdout",
     "output_type": "stream",
     "text": [
      "BANC\n"
     ]
    }
   ],
   "source": [
    "s1 = \"ADOBECODEBANC\"\n",
    "t1 = \"ABC\"\n",
    "minWindow2(s1,t1)"
   ]
  },
  {
   "cell_type": "code",
   "execution_count": 139,
   "metadata": {},
   "outputs": [
    {
     "name": "stdout",
     "output_type": "stream",
     "text": [
      "B\n"
     ]
    }
   ],
   "source": [
    "s2 = \"AB\"\n",
    "t2 = \"B\"\n",
    "minWindow2(s2,t2)"
   ]
  },
  {
   "cell_type": "code",
   "execution_count": 138,
   "metadata": {},
   "outputs": [
    {
     "name": "stdout",
     "output_type": "stream",
     "text": [
      "\n"
     ]
    }
   ],
   "source": [
    "s2 = \"B\"\n",
    "t2 = \"A\"\n",
    "minWindow2(s2,t2)"
   ]
  },
  {
   "cell_type": "code",
   "execution_count": 134,
   "metadata": {},
   "outputs": [
    {
     "name": "stdout",
     "output_type": "stream",
     "text": [
      "ABC\n"
     ]
    }
   ],
   "source": [
    "s2 = \"ABC\"\n",
    "t2 = \"CBA\"\n",
    "minWindow2(s2,t2)"
   ]
  },
  {
   "cell_type": "code",
   "execution_count": null,
   "metadata": {},
   "outputs": [],
   "source": [
    "s2 = \"ABABAB\"\n",
    "t2 = \"AA\"\n",
    "minWindow2(s2,t2)"
   ]
  },
  {
   "cell_type": "code",
   "execution_count": null,
   "metadata": {},
   "outputs": [],
   "source": [
    "def minWindow(self, s, t):\n",
    "    \"\"\"\n",
    "    :type s: str\n",
    "    :type t: str\n",
    "    :rtype: str\n",
    "    \"\"\"\n",
    "\n",
    "    if not t or not s:\n",
    "        return \"\"\n",
    "\n",
    "    # Dictionary which keeps a count of all the unique characters in t.\n",
    "    dict_t = Counter(t)\n",
    "\n",
    "    # Number of unique characters in t, which need to be present in the desired window.\n",
    "    required = len(dict_t)\n",
    "\n",
    "    # left and right pointer\n",
    "    l, r = 0, 0\n",
    "\n",
    "    # formed is used to keep track of how many unique characters in t are present in the current window in its desired frequency.\n",
    "    # e.g. if t is \"AABC\" then the window must have two A's, one B and one C. Thus formed would be = 3 when all these conditions are met.\n",
    "    formed = 0\n",
    "\n",
    "    # Dictionary which keeps a count of all the unique characters in the current window.\n",
    "    window_counts = {}\n",
    "\n",
    "    # ans tuple of the form (window length, left, right)\n",
    "    ans = float(\"inf\"), None, None\n",
    "\n",
    "    while r < len(s):\n",
    "\n",
    "        # Add one character from the right to the window\n",
    "        character = s[r]\n",
    "        window_counts[character] = window_counts.get(character, 0) + 1\n",
    "\n",
    "        # If the frequency of the current character added equals to the desired count in t then increment the formed count by 1.\n",
    "        if character in dict_t and window_counts[character] == dict_t[character]:\n",
    "            formed += 1\n",
    "\n",
    "        # Try and contract the window till the point where it ceases to be 'desirable'.\n",
    "        while l <= r and formed == required:\n",
    "            character = s[l]\n",
    "\n",
    "            # Save the smallest window until now.\n",
    "            if r - l + 1 < ans[0]:\n",
    "                ans = (r - l + 1, l, r)\n",
    "\n",
    "            # The character at the position pointed by the `left` pointer is no longer a part of the window.\n",
    "            window_counts[character] -= 1\n",
    "            if character in dict_t and window_counts[character] < dict_t[character]:\n",
    "                formed -= 1\n",
    "\n",
    "            # Move the left pointer ahead, this would help to look for a new window.\n",
    "            l += 1    \n",
    "\n",
    "        # Keep expanding the window once we are done contracting.\n",
    "        r += 1    \n",
    "    return \"\" if ans[0] == float(\"inf\") else s[ans[1] : ans[2] + 1]"
   ]
  }
 ],
 "metadata": {
  "kernelspec": {
   "display_name": "Python 3",
   "language": "python",
   "name": "python3"
  },
  "language_info": {
   "codemirror_mode": {
    "name": "ipython",
    "version": 3
   },
   "file_extension": ".py",
   "mimetype": "text/x-python",
   "name": "python",
   "nbconvert_exporter": "python",
   "pygments_lexer": "ipython3",
   "version": "3.6.9"
  }
 },
 "nbformat": 4,
 "nbformat_minor": 4
}
