{
 "cells": [
  {
   "cell_type": "markdown",
   "metadata": {},
   "source": [
    "https://leetcode.com/problems/binary-tree-maximum-path-sum/submissions/"
   ]
  },
  {
   "cell_type": "code",
   "execution_count": null,
   "metadata": {},
   "outputs": [],
   "source": [
    "# Definition for a binary tree node.\n",
    "# class TreeNode(object):\n",
    "#     def __init__(self, val=0, left=None, right=None):\n",
    "#         self.val = val\n",
    "#         self.left = left\n",
    "#         self.right = right\n",
    "class Solution(object):\n",
    "    def maxPathSum(self, root):\n",
    "        \"\"\"\n",
    "        :type root: TreeNode\n",
    "        :rtype: int\n",
    "        \"\"\"\n",
    "        max_r, max_ur = self.maxPathSumHelper(root)\n",
    "        \n",
    "        return max(max_r,max_ur)\n",
    "    \n",
    "    \n",
    "    \n",
    "    # return max path and if path is rooted\n",
    "    def maxPathSumHelper(self, root):\n",
    "        \n",
    "        if root == None:\n",
    "            return float('-inf'), float('-inf')\n",
    "        \n",
    "        \n",
    "        max_r_l, max_ur_l = self.maxPathSumHelper(root.left)\n",
    "        max_r_r, max_ur_r = self.maxPathSumHelper(root.right)\n",
    "        \n",
    "        max_rooted_path, max_unrooted_path = self.compare_paths(root, max_r_l, max_r_r, max_ur_l, max_ur_r)\n",
    "        \n",
    "        \n",
    "        return max_rooted_path, max_unrooted_path\n",
    "        \n",
    "        \n",
    "        \n",
    "    def compare_paths(self, root, max_r_l, max_r_r, max_ur_l, max_ur_r):\n",
    "        \n",
    "        cands_r = [root.val, max_r_l + root.val, max_r_r + root.val]\n",
    "        cands_ur = [max_r_l, max_r_r, max_ur_l, max_ur_r, max_r_l + root.val + max_r_r]\n",
    "        \n",
    "        max_r = max(cands_r)\n",
    "        max_ur = max(cands_ur)\n",
    "        \n",
    "        return max_r, max_ur\n"
   ]
  }
 ],
 "metadata": {
  "kernelspec": {
   "display_name": "Python 3",
   "language": "python",
   "name": "python3"
  },
  "language_info": {
   "codemirror_mode": {
    "name": "ipython",
    "version": 3
   },
   "file_extension": ".py",
   "mimetype": "text/x-python",
   "name": "python",
   "nbconvert_exporter": "python",
   "pygments_lexer": "ipython3",
   "version": "3.6.9"
  }
 },
 "nbformat": 4,
 "nbformat_minor": 4
}
