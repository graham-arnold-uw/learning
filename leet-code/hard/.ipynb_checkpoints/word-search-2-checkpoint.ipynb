{
 "cells": [
  {
   "cell_type": "markdown",
   "metadata": {},
   "source": [
    "https://leetcode.com/problems/word-search-ii/submissions/"
   ]
  },
  {
   "cell_type": "markdown",
   "metadata": {},
   "source": [
    "# Recursive (Time limit exceeded)"
   ]
  },
  {
   "cell_type": "code",
   "execution_count": null,
   "metadata": {},
   "outputs": [],
   "source": [
    "class Solution:\n",
    "    def findWords(self, board: List[List[str]], words: List[str]) -> List[str]:\n",
    "        \n",
    "        m = len(board)\n",
    "        n = len(board[0])\n",
    "        \n",
    "        out = []\n",
    "        for word in words:\n",
    "            \n",
    "            res = self.search_helper(board, m, n, word)\n",
    "            if res:\n",
    "                out.append(word)\n",
    "        return out\n",
    "    \n",
    "    \n",
    "    def search_helper(self, board, m, n, word):\n",
    "        beg_idx = 0\n",
    "        #directions = [(0, 1), (0, -1), (1, 0), (-1, 0)]\n",
    "        for i in range(m):\n",
    "            for j in range(n):\n",
    "                if board[i][j] == word[beg_idx]:\n",
    "                    path = set()\n",
    "                    res = self.search_recursive(board, m, n, i, j, beg_idx, word, path)\n",
    "                    if res:\n",
    "                        return True\n",
    "        return False\n",
    "    \n",
    "    def search_recursive(self, board, m, n, i, j, curr_idx, word, path):\n",
    "        if curr_idx == len(word):\n",
    "            return True\n",
    "        \n",
    "        elif i < 0 or i >= m or j < 0 or j >= n or (i, j) in path:\n",
    "            return False\n",
    "        \n",
    "        elif board[i][j] != word[curr_idx]:\n",
    "            return False\n",
    "        \n",
    "        else:\n",
    "            path.add((i,j))\n",
    "            curr_idx += 1\n",
    "            directions = [(0, 1), (0, -1), (1, 0), (-1, 0)]\n",
    "            \n",
    "            for di, dj in directions:\n",
    "                cand_i, cand_j = i + di, j + dj\n",
    "                attempt = self.search_recursive(board, m, n, cand_i, cand_j, curr_idx, word, path)\n",
    "                if attempt:\n",
    "                    return True\n",
    "            \n",
    "            path.remove((i,j))\n",
    "            return False\n",
    "            \n",
    "                    "
   ]
  }
 ],
 "metadata": {
  "kernelspec": {
   "display_name": "Python 3",
   "language": "python",
   "name": "python3"
  },
  "language_info": {
   "codemirror_mode": {
    "name": "ipython",
    "version": 3
   },
   "file_extension": ".py",
   "mimetype": "text/x-python",
   "name": "python",
   "nbconvert_exporter": "python",
   "pygments_lexer": "ipython3",
   "version": "3.6.9"
  }
 },
 "nbformat": 4,
 "nbformat_minor": 4
}
