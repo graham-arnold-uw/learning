{
 "cells": [
  {
   "cell_type": "markdown",
   "metadata": {},
   "source": [
    "https://leetcode.com/explore/interview/card/amazon/77/linked-list/2977/"
   ]
  },
  {
   "cell_type": "code",
   "execution_count": null,
   "metadata": {},
   "outputs": [],
   "source": [
    "# Definition for singly-linked list.\n",
    "# class ListNode:\n",
    "#     def __init__(self, val=0, next=None):\n",
    "#         self.val = val\n",
    "#         self.next = next\n",
    "class Solution:\n",
    "    def reverseKGroup(self, head: Optional[ListNode], k: int) -> Optional[ListNode]:\n",
    "        if head == None:\n",
    "            return None\n",
    "        n = self.get_length(head)\n",
    "        #print(n)\n",
    "        steps = n // k\n",
    "        \n",
    "        new_head, new_tail, next_head = self.reverse_list_k(head, k)\n",
    "        temp_tail = new_tail\n",
    "        steps -= 1\n",
    "        res = new_head\n",
    "        curr = next_head\n",
    "        for i in range(steps):\n",
    "        \n",
    "            new_head, new_tail, next_head = self.reverse_list_k(curr, k)\n",
    "            temp_tail.next = new_head\n",
    "            temp_tail = new_tail\n",
    "          \n",
    "            curr = next_head\n",
    "        \n",
    "        return res\n",
    "       \n",
    "    def print_list(self, h):\n",
    "        c = h\n",
    "        print(\"h -> \", end='')\n",
    "        if c == None:\n",
    "            print(\"empty list\", end='')\n",
    "        while c != None:\n",
    "            print(f\"{c.val} -> \", end='')\n",
    "            c = c.next\n",
    "        print(\"null\", end='')\n",
    "        print()\n",
    "        \n",
    "    def reverse_list_k(self, h, k):\n",
    "        if h == None:\n",
    "            return None\n",
    "        if h.next == None:\n",
    "            return h, h, None\n",
    "        \n",
    "       \n",
    "        curr = h\n",
    "        prev = curr\n",
    "        i = 1\n",
    "        while i <= k:\n",
    "            temp = curr.next\n",
    "            curr.next = prev\n",
    "            prev = curr\n",
    "            curr = temp\n",
    "            i += 1\n",
    "        tail = h\n",
    "        h.next = curr\n",
    "        return prev, tail, curr\n",
    "        \n",
    "        \n",
    "            \n",
    "    \n",
    "    def get_length(self, head):\n",
    "        l = 1\n",
    "        while head != None:\n",
    "            head = head.next\n",
    "            l += 1\n",
    "        return l - 1"
   ]
  }
 ],
 "metadata": {
  "kernelspec": {
   "display_name": "Python 3",
   "language": "python",
   "name": "python3"
  },
  "language_info": {
   "codemirror_mode": {
    "name": "ipython",
    "version": 3
   },
   "file_extension": ".py",
   "mimetype": "text/x-python",
   "name": "python",
   "nbconvert_exporter": "python",
   "pygments_lexer": "ipython3",
   "version": "3.6.9"
  }
 },
 "nbformat": 4,
 "nbformat_minor": 4
}
