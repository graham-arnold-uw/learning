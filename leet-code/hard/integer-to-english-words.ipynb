{
 "cells": [
  {
   "cell_type": "markdown",
   "metadata": {},
   "source": [
    "https://leetcode.com/problems/integer-to-english-words/"
   ]
  },
  {
   "cell_type": "code",
   "execution_count": null,
   "metadata": {},
   "outputs": [],
   "source": [
    "class Solution:\n",
    "    def numberToWords(self, num: int) -> str:\n",
    "    \n",
    "        def num_to_words(n):\n",
    "            res = \"\"\n",
    "\n",
    "            if n == 0:\n",
    "                return ''\n",
    "\n",
    "            ones = n % 10\n",
    "            n = n // 10\n",
    "            tens = n % 10\n",
    "            n = n // 10\n",
    "            hundreds = n % 10\n",
    "            n = n // 10\n",
    "\n",
    "\n",
    "            if tens == 1:\n",
    "                res = res + teens_list[ones]\n",
    "            elif tens > 1:\n",
    "                res = res + tens_list[tens]\n",
    "                if ones != 0:\n",
    "                    res = res + ones_list[ones]\n",
    "            else:\n",
    "                if ones != 0:\n",
    "                    res = res + ones_list[ones]\n",
    "\n",
    "            if hundreds == 0:\n",
    "                return res\n",
    "            else:\n",
    "                return ones_list[hundreds] + \"Hundred \" + res\n",
    "            \n",
    "            \n",
    "        ones_list = ['Zero ', 'One ','Two ','Three ','Four ','Five ','Six ','Seven ','Eight ','Nine ']\n",
    "        teens_list = ['Ten ','Eleven ','Twelve ','Thirteen ','Fourteen ','Fifteen ','Sixteen ', \\\n",
    "                      'Seventeen ','Eighteen ','Nineteen ']\n",
    "        tens_list = ['','','Twenty ','Thirty ','Forty ','Fifty ', 'Sixty ','Seventy ','Eighty ','Ninety ']\n",
    "        group_order = ['', 'Thousand ','Million ','Billion ']\n",
    "    \n",
    "        if num == 0:\n",
    "            return 'Zero'\n",
    "        \n",
    "        res = \"\"\n",
    "        gi = 0\n",
    "        while num > 0:\n",
    "            last_three = 0\n",
    "            p = 0\n",
    "            for i in range(3):\n",
    "                last = num % 10\n",
    "                last_three += last * pow(10,p)\n",
    "                num = num // 10\n",
    "                p += 1\n",
    "            word_convert = num_to_words(last_three)\n",
    "            if len(word_convert) > 0:\n",
    "                res = word_convert + group_order[gi] + res\n",
    "            gi += 1\n",
    "        \n",
    "        return res.strip()\n",
    "            \n",
    "\n",
    "\n",
    "        \n",
    "        "
   ]
  }
 ],
 "metadata": {
  "kernelspec": {
   "display_name": "Python 3",
   "language": "python",
   "name": "python3"
  },
  "language_info": {
   "codemirror_mode": {
    "name": "ipython",
    "version": 3
   },
   "file_extension": ".py",
   "mimetype": "text/x-python",
   "name": "python",
   "nbconvert_exporter": "python",
   "pygments_lexer": "ipython3",
   "version": "3.6.9"
  }
 },
 "nbformat": 4,
 "nbformat_minor": 4
}
