{
 "cells": [
  {
   "cell_type": "markdown",
   "metadata": {},
   "source": [
    "https://leetcode.com/problems/find-array-given-subset-sums/"
   ]
  },
  {
   "cell_type": "markdown",
   "metadata": {},
   "source": [
    "# Working but Time Limit Exceeded"
   ]
  },
  {
   "cell_type": "code",
   "execution_count": null,
   "metadata": {},
   "outputs": [],
   "source": [
    "from collections import Counter\n",
    "class Solution:\n",
    "    def recoverArray(self, n: int, sums: List[int]) -> List[int]:\n",
    "        \n",
    "        def valid_candidates(candidates, sums):\n",
    "            \n",
    "            def generate_candidate_sums(candidates, n, k, curr_sum):\n",
    "                \n",
    "                for j in range(k, n):\n",
    "                    next_sum = curr_sum + candidates[j]\n",
    "                    candidate_sums.append(next_sum)\n",
    "                    generate_candidate_sums(candidates, n, j + 1, next_sum)\n",
    "            \n",
    "            \n",
    "            n = len(candidates)\n",
    "            candidate_sums = [0]\n",
    "            #candidates = [-3, 1, 2]\n",
    "            generate_candidate_sums(candidates, n, 0, 0)\n",
    "            #candidate_sums.append(0)\n",
    "           \n",
    "            sums_freqs = Counter(sums)\n",
    "            cand_freqs = Counter(candidate_sums)\n",
    "            return cand_freqs == sums_freqs\n",
    "        \n",
    "        def recover_helper(n, sums, i, candidates):\n",
    "            if len(candidates) == n:\n",
    "                \n",
    "                are_valid = valid_candidates(candidates.copy(), sums)\n",
    "                #print(candidates)\n",
    "                if are_valid:\n",
    "                    #print('hit')\n",
    "                    #print(candidates)\n",
    "                    global_res.extend(candidates)\n",
    "                    return True\n",
    "                else:\n",
    "                    return False\n",
    "                #generate all possible subset sums of candidates\n",
    "                #compare all those subset sums to the original sums array\n",
    "                #if the frequencies of each value match exactly, we have a solution set\n",
    "            \n",
    "            #print(f\"current level {i} current candidates {candidates}\")\n",
    "            for j in range(i, len(sums)):\n",
    "                candidates.append(sums[j])\n",
    "                sub_res = recover_helper(n, sums, j + 1, candidates)\n",
    "                if sub_res:\n",
    "                    #print(\"h2\")\n",
    "                    return sub_res\n",
    "                candidates.pop()\n",
    "            return False\n",
    "                \n",
    "        \n",
    "        global_res = []\n",
    "        candidates = []\n",
    "        _ = recover_helper(n, sums, 0, candidates)\n",
    "        \n",
    "        \n",
    "        return global_res\n",
    "\n",
    "    \n",
    " \n",
    "            \n",
    "\n",
    "        \n",
    "        \n",
    "        \n",
    "        \n",
    "            "
   ]
  }
 ],
 "metadata": {
  "kernelspec": {
   "display_name": "Python 3",
   "language": "python",
   "name": "python3"
  },
  "language_info": {
   "codemirror_mode": {
    "name": "ipython",
    "version": 3
   },
   "file_extension": ".py",
   "mimetype": "text/x-python",
   "name": "python",
   "nbconvert_exporter": "python",
   "pygments_lexer": "ipython3",
   "version": "3.6.9"
  }
 },
 "nbformat": 4,
 "nbformat_minor": 4
}
