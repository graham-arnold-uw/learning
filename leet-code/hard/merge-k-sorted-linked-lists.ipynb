{
 "cells": [
  {
   "cell_type": "markdown",
   "metadata": {},
   "source": [
    "https://leetcode.com/problems/merge-k-sorted-lists/"
   ]
  },
  {
   "cell_type": "code",
   "execution_count": null,
   "metadata": {},
   "outputs": [],
   "source": [
    "import heapq\n",
    "# Definition for singly-linked list.\n",
    "# class ListNode:\n",
    "#     def __init__(self, val=0, next=None):\n",
    "#         self.val = val\n",
    "#         self.next = next\n",
    "class Solution:\n",
    "    def mergeKLists(self, lists: List[ListNode]) -> ListNode:\n",
    "        \n",
    "        #Create list of current pointers to access each list\n",
    "        curr_ptrs = []\n",
    "        #for l in lists:\n",
    "        #    curr_ptrs.append(l)\n",
    "        \n",
    "        #Create heap\n",
    "        #add info for first node of each list to heap\n",
    "        kheap = []\n",
    "        for idx,l in enumerate(lists):\n",
    "            if l != None:\n",
    "                node_info = (l.val, idx)\n",
    "                heapq.heappush(kheap, node_info)\n",
    "                curr_ptrs.append(l)\n",
    "            else: \n",
    "                curr_ptrs.append(None)\n",
    "        #print(kheap) \n",
    "        #print(curr_ptrs)\n",
    "        #prime the resulting merged list by grabbing the first el\n",
    "        #pointing res to the first el\n",
    "        #then step the pointer for the list forward\n",
    "        #add the next node info to heap if not None or put infinity\n",
    "        if len(kheap) == 0:\n",
    "            return None\n",
    "        f_val, fidx = heapq.heappop(kheap)\n",
    "        curr_ptr = curr_ptrs[fidx]\n",
    "        #print(curr_ptr)\n",
    "        #print()\n",
    "        res = stepper = curr_ptr\n",
    "        curr_ptr = curr_ptr.next\n",
    "        curr_ptrs[fidx] = curr_ptr\n",
    "        if curr_ptr != None:\n",
    "            heapq.heappush(kheap,(curr_ptr.val, fidx))\n",
    "        else:\n",
    "            heapq.heappush(kheap,(float('inf'), fidx))\n",
    "        #print(kheap)\n",
    "        #print(curr_ptrs)\n",
    "        #print()\n",
    "        itr = 0\n",
    "        while kheap[0][0] != float('inf'):\n",
    "            itr+=1\n",
    "            #print(kheap)\n",
    "            nxt_val, nxt_idx = heapq.heappop(kheap)\n",
    "            #print(kheap)\n",
    "            #print()\n",
    "            #print(curr_ptrs)\n",
    "            curr_ptr = curr_ptrs[nxt_idx]\n",
    "            stepper.next = curr_ptr\n",
    "            stepper = stepper.next\n",
    "            curr_ptr = curr_ptr.next\n",
    "            curr_ptrs[nxt_idx] = curr_ptr\n",
    "            if curr_ptr != None:\n",
    "                heapq.heappush(kheap,(curr_ptr.val, nxt_idx))\n",
    "            else:\n",
    "                heapq.heappush(kheap,(float('inf'), nxt_idx))\n",
    "                \n",
    "        \n",
    "        return res\n",
    "        "
   ]
  }
 ],
 "metadata": {
  "kernelspec": {
   "display_name": "Python 3",
   "language": "python",
   "name": "python3"
  },
  "language_info": {
   "codemirror_mode": {
    "name": "ipython",
    "version": 3
   },
   "file_extension": ".py",
   "mimetype": "text/x-python",
   "name": "python",
   "nbconvert_exporter": "python",
   "pygments_lexer": "ipython3",
   "version": "3.6.9"
  }
 },
 "nbformat": 4,
 "nbformat_minor": 4
}
