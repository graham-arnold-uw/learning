{
 "cells": [
  {
   "cell_type": "code",
   "execution_count": 85,
   "metadata": {},
   "outputs": [],
   "source": [
    "from typing import List\n",
    "from collections import deque\n",
    "from copy import copy, deepcopy\n",
    "class Solution:\n",
    "    \n",
    "    #def __init__\n",
    "    def slidingPuzzle(self, board: List[List[int]]):\n",
    "        sol = [[1,2,3],[4,5,0]]\n",
    "        mq = deque()\n",
    "        seen = []\n",
    "        q = deque()\n",
    "        q.append(board)\n",
    "        mq.append(0)\n",
    "\n",
    "        while q:\n",
    "            currBoard = q.popleft()\n",
    "            currMove = mq.popleft()\n",
    "            #print(currMove)\n",
    "            #print(currBoard)\n",
    "            if currBoard == sol:\n",
    "                #print(currMove)\n",
    "                #print(currBoard)\n",
    "                return currMove, currBoard\n",
    "            \n",
    "            else:\n",
    "                dirs, r,c  = self.validDir(currBoard)\n",
    "                #print(dirs)\n",
    "                #print(r)\n",
    "                #print(c)\n",
    "                seen.append(currBoard)\n",
    "                \n",
    "                #newBoard = currBoard\n",
    "                \n",
    "                for i in range(len(dirs)):\n",
    "                    if dirs[i] == True:\n",
    "                        newBoard = deepcopy(currBoard)\n",
    "                        #print(currBoard)\n",
    "                        if i == 0:\n",
    "                            newr = r-1\n",
    "                            newc = c\n",
    "                        if i == 1:\n",
    "                            newr = r+1\n",
    "                            newc = c\n",
    "                        if i == 2:\n",
    "                            newr = r\n",
    "                            newc = c-1\n",
    "                        if i == 3:\n",
    "                            newr = r\n",
    "                            newc = c+1\n",
    "                        #temp = currBoard[r-1][c]\n",
    "        \n",
    "                        newBoard[r][c] = newBoard[newr][newc]\n",
    "                        newBoard[newr][newc] = 0\n",
    "                       # print(newBoard)\n",
    "                        if newBoard not in seen:\n",
    "                            #print('hit')\n",
    "                            q.append(newBoard)\n",
    "                            mq.append(currMove + 1)\n",
    "        \n",
    "        return -1, None                  \n",
    "\n",
    "\n",
    "    def validDir(self, board):\n",
    "        i,j = 0,0\n",
    "        res = [True] * 4\n",
    "        for r in range(len(board)):\n",
    "            for c in range(len(board[r])):\n",
    "                if board[r][c] == 0:\n",
    "                    i,j = r,c\n",
    "        if i == 0:\n",
    "            res[0] = False\n",
    "        else:\n",
    "            res[1] = False\n",
    "            \n",
    "        if j == 0:\n",
    "            res[2] = False\n",
    "        elif j == 2:\n",
    "            res[3] = False\n",
    "        \n",
    "        return res, i,j"
   ]
  },
  {
   "cell_type": "code",
   "execution_count": 89,
   "metadata": {},
   "outputs": [
    {
     "name": "stdout",
     "output_type": "stream",
     "text": [
      "14\n",
      "[[1, 2, 3], [4, 5, 0]]\n"
     ]
    }
   ],
   "source": [
    "t = [[1,2,3],[4,0,5]]\n",
    "tbad = [[1,2,3],[5,4,0]]\n",
    "t2 = [[4,1,2],[5,0,3]]\n",
    "t3 = [[3,2,4],[1,5,0]]\n",
    "s = Solution()\n",
    "mv, b = s.slidingPuzzle(t3)\n",
    "print(mv)\n",
    "print(b)"
   ]
  },
  {
   "cell_type": "code",
   "execution_count": 47,
   "metadata": {},
   "outputs": [
    {
     "name": "stdout",
     "output_type": "stream",
     "text": [
      "y\n"
     ]
    }
   ],
   "source": [
    "t = [[1,0,3],[4,5,2]]\n",
    "t1 = [[1,1,3],[4,5,2]]\n",
    "t2 = [[1,0,3],[4,5,2]]\n",
    "s = []\n",
    "s.append(t)\n",
    "s.append(t1)\n",
    "y = {}\n",
    "\n",
    "if t2 in s:\n",
    "    print('y')"
   ]
  },
  {
   "cell_type": "code",
   "execution_count": 35,
   "metadata": {},
   "outputs": [
    {
     "name": "stdout",
     "output_type": "stream",
     "text": [
      "1\n"
     ]
    }
   ],
   "source": [
    "k = deque()\n",
    "k.append(1)\n",
    "print(k.popleft())"
   ]
  },
  {
   "cell_type": "code",
   "execution_count": 71,
   "metadata": {},
   "outputs": [
    {
     "name": "stdout",
     "output_type": "stream",
     "text": [
      "[[1, 2, 3], [4, 0, 5]]\n",
      "[[1, 2, 3], [4, 0, 5]]\n",
      "\n"
     ]
    }
   ],
   "source": [
    "cb = [[1,2,3],[4,0,5]]\n",
    "nb = deepcopy(cb)\n",
    "newr = 0\n",
    "newc = 1\n",
    "r = 1\n",
    "c = 1\n",
    "print(cb)\n",
    "print(nb)\n",
    "print()"
   ]
  },
  {
   "cell_type": "code",
   "execution_count": 72,
   "metadata": {},
   "outputs": [
    {
     "name": "stdout",
     "output_type": "stream",
     "text": [
      "[[1, 2, 3], [4, 0, 5]]\n",
      "[[1, 0, 3], [4, 2, 5]]\n"
     ]
    }
   ],
   "source": [
    "nb[r][c] = nb[newr][newc]\n",
    "nb[newr][newc] = 0\n",
    "\n",
    "print(cb)\n",
    "print(nb)"
   ]
  },
  {
   "cell_type": "code",
   "execution_count": null,
   "metadata": {},
   "outputs": [],
   "source": []
  },
  {
   "cell_type": "code",
   "execution_count": null,
   "metadata": {},
   "outputs": [],
   "source": []
  }
 ],
 "metadata": {
  "kernelspec": {
   "display_name": "Python 3",
   "language": "python",
   "name": "python3"
  },
  "language_info": {
   "codemirror_mode": {
    "name": "ipython",
    "version": 3
   },
   "file_extension": ".py",
   "mimetype": "text/x-python",
   "name": "python",
   "nbconvert_exporter": "python",
   "pygments_lexer": "ipython3",
   "version": "3.6.9"
  }
 },
 "nbformat": 4,
 "nbformat_minor": 4
}
