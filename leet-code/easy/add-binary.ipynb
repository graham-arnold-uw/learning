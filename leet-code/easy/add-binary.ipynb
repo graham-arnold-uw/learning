{
 "cells": [
  {
   "cell_type": "markdown",
   "metadata": {},
   "source": [
    "https://leetcode.com/problems/add-binary/"
   ]
  },
  {
   "cell_type": "code",
   "execution_count": 47,
   "metadata": {},
   "outputs": [
    {
     "name": "stdout",
     "output_type": "stream",
     "text": [
      "b'10000'\n"
     ]
    }
   ],
   "source": [
    "BITSIZE = 5\n",
    "\n",
    "for i in range(1<<BITSIZE):\n",
    "    a = i\n",
    "    b = 0\n",
    "    for k in range(BITSIZE):  # b = reversed_bits(a)\n",
    "        b <<= 1\n",
    "        b ^= i&1\n",
    "        i >>= 1\n",
    "    #print('   {:05b} {:05b}'.format(a, b))\n",
    "    print(a, b, abs(a-b))"
   ]
  },
  {
   "cell_type": "code",
   "execution_count": 59,
   "metadata": {},
   "outputs": [
    {
     "data": {
      "text/plain": [
       "0"
      ]
     },
     "execution_count": 59,
     "metadata": {},
     "output_type": "execute_result"
    }
   ],
   "source": [
    "4 & 1"
   ]
  },
  {
   "cell_type": "code",
   "execution_count": 57,
   "metadata": {},
   "outputs": [
    {
     "name": "stdout",
     "output_type": "stream",
     "text": [
      "0\n"
     ]
    }
   ],
   "source": [
    "b = 0\n",
    "b <<= 1\n",
    "print(b)"
   ]
  },
  {
   "cell_type": "code",
   "execution_count": 40,
   "metadata": {},
   "outputs": [],
   "source": [
    "def sol(a, b):\n",
    "    \n",
    "    d1 = convertBin2Dec(a)\n",
    "    d2 = convertBin2Dec(b)\n",
    "    #print(d1)\n",
    "    #print(d2)\n",
    "    \n",
    "    res = d1+d2\n",
    "    bres = convertDec2Bin(res)\n",
    "    return bres\n",
    "\n",
    "def convertBin2Dec(bstring):\n",
    "    bDigs = list(bstring)\n",
    "    res = 0\n",
    "    \n",
    "    for i in range(len(bDigs)-1,-1,-1):\n",
    "        #print(int(bDigs[i]))\n",
    "        pval = -1 * i + (len(bDigs)-1)\n",
    "        #print(pval)\n",
    "        res += int(bDigs[i]) * (2**pval)\n",
    "        #print(res)\n",
    "    return res\n",
    "\n",
    "\n",
    "def convertDec2Bin(dec):\n",
    "    if dec == 0:\n",
    "        return 0\n",
    "    res = ''\n",
    "    temp = dec\n",
    "    lf = findLargestFactor(temp)\n",
    "    digList = [0] * (lf + 1)\n",
    "    while temp > 0:\n",
    "        lf = findLargestFactor(temp)\n",
    "        digList[lf] = 1\n",
    "        temp -= 2**lf\n",
    "    \n",
    "    sDigs = [str(i) for i in digList]\n",
    "    res = ''.join(sDigs)\n",
    "    res = res[::-1]\n",
    "    return res\n",
    "        \n",
    "        \n",
    "        \n",
    "def findLargestFactor(num):\n",
    "    idx = 0\n",
    "    \n",
    "    while 2**idx <= num:\n",
    "        idx += 1\n",
    "        \n",
    "    idx -= 1\n",
    "    return idx"
   ]
  },
  {
   "cell_type": "code",
   "execution_count": 42,
   "metadata": {},
   "outputs": [
    {
     "name": "stdout",
     "output_type": "stream",
     "text": [
      "100\n"
     ]
    }
   ],
   "source": [
    "soll = sol('11','1')\n",
    "print(soll)\n"
   ]
  },
  {
   "cell_type": "code",
   "execution_count": null,
   "metadata": {},
   "outputs": [],
   "source": []
  },
  {
   "cell_type": "code",
   "execution_count": 43,
   "metadata": {},
   "outputs": [
    {
     "name": "stdout",
     "output_type": "stream",
     "text": [
      "10101\n"
     ]
    }
   ],
   "source": [
    "soll2 = sol('1010','1011')\n",
    "print(soll2)"
   ]
  },
  {
   "cell_type": "code",
   "execution_count": 35,
   "metadata": {},
   "outputs": [
    {
     "name": "stdout",
     "output_type": "stream",
     "text": [
      "4\n"
     ]
    }
   ],
   "source": [
    "t = '100'\n",
    "sol1 = convertBin2Dec(t)\n",
    "print(sol1)"
   ]
  },
  {
   "cell_type": "code",
   "execution_count": 33,
   "metadata": {},
   "outputs": [
    {
     "name": "stdout",
     "output_type": "stream",
     "text": [
      "1000101\n"
     ]
    }
   ],
   "source": [
    "t2 = 69\n",
    "sol2 = convertDec2Bin(t2)\n",
    "print(sol2)"
   ]
  },
  {
   "cell_type": "code",
   "execution_count": 5,
   "metadata": {},
   "outputs": [
    {
     "name": "stdout",
     "output_type": "stream",
     "text": [
      "0\n",
      "1\n",
      "1\n"
     ]
    }
   ],
   "source": [
    "s = '110'\n",
    "list(s)\n",
    "\n",
    "for i in range(len(s)-1,-1,-1):\n",
    "    print(s[i])"
   ]
  },
  {
   "cell_type": "code",
   "execution_count": null,
   "metadata": {},
   "outputs": [],
   "source": []
  }
 ],
 "metadata": {
  "kernelspec": {
   "display_name": "Python 3",
   "language": "python",
   "name": "python3"
  },
  "language_info": {
   "codemirror_mode": {
    "name": "ipython",
    "version": 3
   },
   "file_extension": ".py",
   "mimetype": "text/x-python",
   "name": "python",
   "nbconvert_exporter": "python",
   "pygments_lexer": "ipython3",
   "version": "3.6.9"
  }
 },
 "nbformat": 4,
 "nbformat_minor": 4
}
