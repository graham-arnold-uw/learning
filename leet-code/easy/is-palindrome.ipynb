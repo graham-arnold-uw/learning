{
 "cells": [
  {
   "cell_type": "markdown",
   "metadata": {},
   "source": [
    "https://leetcode.com/problems/valid-palindrome/"
   ]
  },
  {
   "cell_type": "code",
   "execution_count": 33,
   "metadata": {},
   "outputs": [],
   "source": [
    "def is_palindrome(s):\n",
    "    s = s.lower()\n",
    "    s_filt = [c for c in s if is_alphanum(c)]\n",
    "    \n",
    "    i = 0\n",
    "    j = len(s_filt)-1\n",
    "    #print(s_filt)\n",
    "    while i <= j:\n",
    "        ic = s_filt[i]\n",
    "        jc = s_filt[j]\n",
    "        #print(ic + ' ' + jc)\n",
    "        if ic != jc:\n",
    "            return False\n",
    "        i += 1\n",
    "        j -= 1\n",
    "    \n",
    "    return True\n",
    "\n",
    "def is_alphanum(c):\n",
    "    if len(c) != 1:\n",
    "        return False\n",
    "    \n",
    "    num_lb = ord('0')\n",
    "    num_ub = ord('9')\n",
    "    \n",
    "    uc_lb = ord('A')\n",
    "    uc_ub = ord('Z')\n",
    "    \n",
    "    lc_lb = ord('a')\n",
    "    lc_ub = ord('z')\n",
    "    \n",
    "    curr = ord(c)\n",
    "    \n",
    "    if (curr >= num_lb and curr <= num_ub) or (curr >= uc_lb and curr <= uc_ub) or (curr >= lc_lb and curr <= lc_ub):\n",
    "        return True\n",
    "    return False"
   ]
  },
  {
   "cell_type": "code",
   "execution_count": 34,
   "metadata": {},
   "outputs": [
    {
     "data": {
      "text/plain": [
       "True"
      ]
     },
     "execution_count": 34,
     "metadata": {},
     "output_type": "execute_result"
    }
   ],
   "source": [
    "s = \"A man, a plan, a canal: Panama\"\n",
    "is_palindrome(s)"
   ]
  },
  {
   "cell_type": "code",
   "execution_count": 36,
   "metadata": {},
   "outputs": [],
   "source": [
    "def is_palindrome2(s):\n",
    "    s_filt = s.lower()\n",
    "    #s_filt = [c for c in s if is_alphanum(c)]\n",
    "    \n",
    "    i = 0\n",
    "    while(not is_alphanum(s_filt[i])):\n",
    "        i += 1\n",
    "    j = len(s_filt)-1\n",
    "    while(not is_alphanum(s_filt[j])):\n",
    "        j -= 1\n",
    "    #print(s_filt)\n",
    "    while i <= j:\n",
    "        \n",
    "        ic = s_filt[i]\n",
    "        jc = s_filt[j]\n",
    "        #print(ic + ' ' + jc)\n",
    "        if ic != jc:\n",
    "            return False\n",
    "        i += 1\n",
    "        j -= 1\n",
    "        while(not is_alphanum(s_filt[i])):\n",
    "            i += 1\n",
    "        while(not is_alphanum(s_filt[j])):\n",
    "            j -= 1\n",
    "        \n",
    "           \n",
    "    \n",
    "    return True"
   ]
  },
  {
   "cell_type": "code",
   "execution_count": 37,
   "metadata": {},
   "outputs": [
    {
     "name": "stdout",
     "output_type": "stream",
     "text": [
      "True\n"
     ]
    }
   ],
   "source": [
    "s = \"A man, a plan, a canal: Panama\"\n",
    "print(is_palindrome2(s))"
   ]
  },
  {
   "cell_type": "code",
   "execution_count": 40,
   "metadata": {},
   "outputs": [
    {
     "name": "stdout",
     "output_type": "stream",
     "text": [
      "<reversed object at 0x7fe2b5fecc88>\n"
     ]
    }
   ],
   "source": [
    "s = 'abc'\n",
    "rev = reversed(s)\n",
    "print(rev)"
   ]
  },
  {
   "cell_type": "code",
   "execution_count": null,
   "metadata": {},
   "outputs": [],
   "source": []
  }
 ],
 "metadata": {
  "kernelspec": {
   "display_name": "Python 3",
   "language": "python",
   "name": "python3"
  },
  "language_info": {
   "codemirror_mode": {
    "name": "ipython",
    "version": 3
   },
   "file_extension": ".py",
   "mimetype": "text/x-python",
   "name": "python",
   "nbconvert_exporter": "python",
   "pygments_lexer": "ipython3",
   "version": "3.6.9"
  }
 },
 "nbformat": 4,
 "nbformat_minor": 4
}
