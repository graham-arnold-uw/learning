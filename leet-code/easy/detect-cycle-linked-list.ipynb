{
 "cells": [
  {
   "cell_type": "markdown",
   "metadata": {},
   "source": [
    "https://leetcode.com/problems/linked-list-cycle/"
   ]
  },
  {
   "cell_type": "code",
   "execution_count": null,
   "metadata": {},
   "outputs": [],
   "source": [
    "# Definition for singly-linked list.\n",
    "# class ListNode:\n",
    "#     def __init__(self, x):\n",
    "#         self.val = x\n",
    "#         self.next = None\n",
    "\n",
    "class Solution:\n",
    "    def hasCycle(self, head: ListNode) -> bool:\n",
    "        \n",
    "        if head == None:\n",
    "            return False\n",
    "        \n",
    "        seen = set()\n",
    "        \n",
    "        while head != None:\n",
    "            curr_id = id(head)\n",
    "            \n",
    "            if curr_id in seen:\n",
    "                return True\n",
    "            \n",
    "            seen.add(curr_id)\n",
    "            head = head.next\n",
    "        return False\n",
    "            \n",
    "        \n",
    "    def hasCycle_Naive(self, head: ListNode) -> bool:\n",
    "        \n",
    "        max_steps = 10001\n",
    "        \n",
    "        itr = 0\n",
    "        \n",
    "        while itr < max_steps:\n",
    "            \n",
    "            if head == None:\n",
    "                break\n",
    "            \n",
    "            head = head.next\n",
    "            itr += 1\n",
    "        \n",
    "        if itr < 10001:\n",
    "            return False\n",
    "        else:\n",
    "            return True"
   ]
  }
 ],
 "metadata": {
  "kernelspec": {
   "display_name": "Python 3",
   "language": "python",
   "name": "python3"
  },
  "language_info": {
   "codemirror_mode": {
    "name": "ipython",
    "version": 3
   },
   "file_extension": ".py",
   "mimetype": "text/x-python",
   "name": "python",
   "nbconvert_exporter": "python",
   "pygments_lexer": "ipython3",
   "version": "3.6.9"
  }
 },
 "nbformat": 4,
 "nbformat_minor": 4
}
