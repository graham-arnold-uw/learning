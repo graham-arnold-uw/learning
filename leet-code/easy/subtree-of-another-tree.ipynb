{
 "cells": [
  {
   "cell_type": "markdown",
   "metadata": {},
   "source": [
    "https://leetcode.com/problems/subtree-of-another-tree/"
   ]
  },
  {
   "cell_type": "code",
   "execution_count": null,
   "metadata": {},
   "outputs": [],
   "source": [
    "# Definition for a binary tree node.\n",
    "# class TreeNode:\n",
    "#     def __init__(self, val=0, left=None, right=None):\n",
    "#         self.val = val\n",
    "#         self.left = left\n",
    "#         self.right = right\n",
    "from collections import deque\n",
    "\n",
    "class Solution:\n",
    "    def isSubtree(self, s: TreeNode, t: TreeNode) -> bool:\n",
    "        \n",
    "        if s == None or t == None:\n",
    "            return False\n",
    "        \n",
    "        pat_val = t.val\n",
    "        \n",
    "        #self.bfs(s)\n",
    "        q = deque()\n",
    "        \n",
    "        q.append(s)\n",
    "        \n",
    "        while len(q) > 0:\n",
    "            curr_node = q.popleft()\n",
    "            \n",
    "            if curr_node.val == pat_val:\n",
    "                \n",
    "                #res = self.identical_trees(curr_node, t)\n",
    "                res = self.identical_rec(curr_node,t)\n",
    "                #self.bfs(curr_node)\n",
    "                \n",
    "                if res:\n",
    "                    return True\n",
    "            \n",
    "            if curr_node.left != None:\n",
    "                q.append(curr_node.left)\n",
    "            \n",
    "            if curr_node.right != None:\n",
    "                q.append(curr_node.right)\n",
    "                \n",
    "        \n",
    "        return False\n",
    "    \n",
    "    \n",
    "    def identical_trees(self, t1, t2):\n",
    "        \n",
    "        if t1 == None and t2 != None:\n",
    "            return False\n",
    "        \n",
    "        if t1 != None and t2 == None:\n",
    "            return False\n",
    "        \n",
    "        \n",
    "        q = deque()\n",
    "        \n",
    "        q.append(t1)\n",
    "        q.append(t2)\n",
    "        \n",
    "        while len(q) > 0:\n",
    "            \n",
    "            n1 = q.popleft()\n",
    "            n2 = q.popleft()\n",
    "          \n",
    "            \n",
    "            if n1.val != n2.val:\n",
    "          \n",
    "                return False\n",
    "            \n",
    "            if n1.left != None and n2.left != None:\n",
    "                q.append(n1.left)\n",
    "                q.append(n2.left)\n",
    "\n",
    "            elif n1.left != None or n2.left != None:\n",
    "                \n",
    "                return False\n",
    "            \n",
    "            if n1.right != None and n2.right != None:\n",
    "                q.append(n1.right)\n",
    "                q.append(n2.right)\n",
    "\n",
    "            elif n1.right != None or n2.right != None:\n",
    "                \n",
    "                return False\n",
    "        \n",
    "        return True\n",
    "    \n",
    "    \n",
    "    def identical_rec(self, t1, t2):\n",
    "        \n",
    "        if t1 == None and t2 == None:\n",
    "            return True\n",
    "        \n",
    "        if t1 == None and t2 != None:\n",
    "            return False\n",
    "        \n",
    "        if t1 != None and t2 == None:\n",
    "            return False\n",
    "        \n",
    "        if t1.val != t2.val:\n",
    "            return False\n",
    "        \n",
    "        lres = self.identical_rec(t1.left, t2.left)\n",
    "        rres = self.identical_rec(t1.right, t2.right)\n",
    "        \n",
    "        return lres and rres"
   ]
  },
  {
   "cell_type": "code",
   "execution_count": 3,
   "metadata": {},
   "outputs": [
    {
     "data": {
      "text/plain": [
       "1"
      ]
     },
     "execution_count": 3,
     "metadata": {},
     "output_type": "execute_result"
    }
   ],
   "source": [
    "l = [1,2,3,4,5]\n",
    "l.index(2)"
   ]
  },
  {
   "cell_type": "code",
   "execution_count": 8,
   "metadata": {},
   "outputs": [],
   "source": [
    "l,r = l[:2], l[2:]"
   ]
  },
  {
   "cell_type": "code",
   "execution_count": 9,
   "metadata": {},
   "outputs": [
    {
     "name": "stdout",
     "output_type": "stream",
     "text": [
      "[1, 2]\n",
      "[3, 4, 5]\n"
     ]
    }
   ],
   "source": [
    "print(l)\n",
    "print(r)"
   ]
  },
  {
   "cell_type": "code",
   "execution_count": 10,
   "metadata": {},
   "outputs": [
    {
     "data": {
      "text/plain": [
       "[1, 2]"
      ]
     },
     "execution_count": 10,
     "metadata": {},
     "output_type": "execute_result"
    }
   ],
   "source": [
    "l[0:2]"
   ]
  },
  {
   "cell_type": "code",
   "execution_count": 11,
   "metadata": {},
   "outputs": [
    {
     "ename": "ValueError",
     "evalue": "6 is not in list",
     "output_type": "error",
     "traceback": [
      "\u001b[0;31m---------------------------------------------------------------------------\u001b[0m",
      "\u001b[0;31mValueError\u001b[0m                                Traceback (most recent call last)",
      "\u001b[0;32m<ipython-input-11-fccb1d41a78d>\u001b[0m in \u001b[0;36m<module>\u001b[0;34m\u001b[0m\n\u001b[0;32m----> 1\u001b[0;31m \u001b[0ml\u001b[0m\u001b[0;34m.\u001b[0m\u001b[0mindex\u001b[0m\u001b[0;34m(\u001b[0m\u001b[0;36m6\u001b[0m\u001b[0;34m)\u001b[0m\u001b[0;34m\u001b[0m\u001b[0;34m\u001b[0m\u001b[0m\n\u001b[0m",
      "\u001b[0;31mValueError\u001b[0m: 6 is not in list"
     ]
    }
   ],
   "source": [
    "l.index(6)"
   ]
  },
  {
   "cell_type": "code",
   "execution_count": null,
   "metadata": {},
   "outputs": [],
   "source": []
  }
 ],
 "metadata": {
  "kernelspec": {
   "display_name": "Python 3",
   "language": "python",
   "name": "python3"
  },
  "language_info": {
   "codemirror_mode": {
    "name": "ipython",
    "version": 3
   },
   "file_extension": ".py",
   "mimetype": "text/x-python",
   "name": "python",
   "nbconvert_exporter": "python",
   "pygments_lexer": "ipython3",
   "version": "3.6.9"
  }
 },
 "nbformat": 4,
 "nbformat_minor": 4
}
