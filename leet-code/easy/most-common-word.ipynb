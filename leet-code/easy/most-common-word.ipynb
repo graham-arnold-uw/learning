{
 "cells": [
  {
   "cell_type": "markdown",
   "metadata": {},
   "source": [
    "https://leetcode.com/problems/most-common-word/"
   ]
  },
  {
   "cell_type": "code",
   "execution_count": null,
   "metadata": {},
   "outputs": [],
   "source": [
    "\n",
    "from collections import defaultdict\n",
    "\n",
    "class Solution:\n",
    "    def mostCommonWord(self, paragraph: str, banned: List[str]) -> str:\n",
    "        \n",
    "        banned = set(banned)\n",
    "        max_count = 0\n",
    "        max_word = ''\n",
    "        word_count = defaultdict(int)\n",
    "        buf = []\n",
    "        \n",
    "        for i, c in enumerate(paragraph):\n",
    "            if c.isalnum():\n",
    "                buf.append(c)\n",
    "                if i != len(paragraph) - 1:\n",
    "                    continue\n",
    "            \n",
    "            if len(buf) > 0:\n",
    "                word = \"\".join(buf).lower()\n",
    "                if word not in banned:\n",
    "                    word_count[word] += 1\n",
    "                    if word_count[word] > max_count:\n",
    "                        max_count = word_count[word]\n",
    "                        max_word = word\n",
    "                buf = []\n",
    "        return max_word"
   ]
  }
 ],
 "metadata": {
  "kernelspec": {
   "display_name": "Python 3",
   "language": "python",
   "name": "python3"
  },
  "language_info": {
   "codemirror_mode": {
    "name": "ipython",
    "version": 3
   },
   "file_extension": ".py",
   "mimetype": "text/x-python",
   "name": "python",
   "nbconvert_exporter": "python",
   "pygments_lexer": "ipython3",
   "version": "3.6.9"
  }
 },
 "nbformat": 4,
 "nbformat_minor": 4
}
