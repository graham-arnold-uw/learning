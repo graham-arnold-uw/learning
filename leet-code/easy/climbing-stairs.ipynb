{
 "cells": [
  {
   "cell_type": "code",
   "execution_count": 14,
   "metadata": {},
   "outputs": [],
   "source": [
    "def climbStairs(n):\n",
    "    \n",
    "    seen = [-1] * 45\n",
    "    \n",
    "    res = climbStairsHelper(n,seen)\n",
    "    \n",
    "    print(res)\n",
    "\n",
    "\n",
    "def climbStairsHelper(n, seen):\n",
    "    if n == 0:\n",
    "        return 0\n",
    "    if n == 1:\n",
    "        return 1\n",
    "    \n",
    "    if n == 2:\n",
    "        return 2\n",
    "    \n",
    "    if seen[n] != -1:\n",
    "       # print(seen[n])\n",
    "        return seen[n]\n",
    "    \n",
    "    res = climbStairsHelper(n-1,seen) + climbStairsHelper(n-2, seen)\n",
    "    \n",
    "    seen[n] = res\n",
    "    \n",
    "    return res"
   ]
  },
  {
   "cell_type": "code",
   "execution_count": 15,
   "metadata": {},
   "outputs": [
    {
     "name": "stdout",
     "output_type": "stream",
     "text": [
      "34\n"
     ]
    }
   ],
   "source": [
    "test = 8\n",
    "climbStairs(test)\n"
   ]
  },
  {
   "cell_type": "code",
   "execution_count": null,
   "metadata": {},
   "outputs": [],
   "source": [
    "class Solution:\n",
    "    def climbStairs(self, n: int) -> int:\n",
    "    \n",
    "        seen = [-1] * 45\n",
    "\n",
    "        res = self.climbStairsHelper(n,seen)\n",
    "\n",
    "        return res\n",
    "\n",
    "    def climbStairsHelper(self,n, seen):\n",
    "        if n == 0:\n",
    "            return 0\n",
    "        if n == 1:\n",
    "            return 1\n",
    "\n",
    "        if n == 2:\n",
    "            return 2\n",
    "\n",
    "        if seen[n-1] != -1:\n",
    "            return seen[n-1]\n",
    "\n",
    "        res = self.climbStairsHelper(n-1,seen) + self.climbStairsHelper(n-2,seen)\n",
    "\n",
    "        seen[n-1] = res\n",
    "\n",
    "        return res"
   ]
  }
 ],
 "metadata": {
  "kernelspec": {
   "display_name": "Python 3",
   "language": "python",
   "name": "python3"
  },
  "language_info": {
   "codemirror_mode": {
    "name": "ipython",
    "version": 3
   },
   "file_extension": ".py",
   "mimetype": "text/x-python",
   "name": "python",
   "nbconvert_exporter": "python",
   "pygments_lexer": "ipython3",
   "version": "3.6.9"
  }
 },
 "nbformat": 4,
 "nbformat_minor": 4
}
