{
 "cells": [
  {
   "cell_type": "markdown",
   "metadata": {},
   "source": [
    "https://leetcode.com/problems/same-tree/"
   ]
  },
  {
   "cell_type": "code",
   "execution_count": null,
   "metadata": {},
   "outputs": [],
   "source": [
    "# Definition for a binary tree node.\n",
    "from collections import deque\n",
    "# class TreeNode:\n",
    "#     def __init__(self, val=0, left=None, right=None):\n",
    "#         self.val = val\n",
    "#         self.left = left\n",
    "#         self.right = right\n",
    "class Solution:\n",
    "    def isSameTree(self, p: TreeNode, q: TreeNode) -> bool:\n",
    "        \n",
    "        \n",
    "        if (p == None and q) or (q == None and p):\n",
    "            return False\n",
    "        \n",
    "        path_p = []\n",
    "        path_q = []\n",
    "        self.do_bft(p, path_p)\n",
    "        self.do_bft(q, path_q)\n",
    "        #print(path_p)\n",
    "        #print(path_q)\n",
    "        \n",
    "        res = self.compare_paths(path_p, path_q)\n",
    "        \n",
    "        return res\n",
    "    \n",
    "    \n",
    "    \n",
    "    def do_bft(self, root, path):\n",
    "        \n",
    "        if root == None:\n",
    "            return\n",
    "        \n",
    "        q = deque()\n",
    "        q.append(root)\n",
    "        \n",
    "        while len(q) > 0:\n",
    "            curr_node = q.popleft()\n",
    "            if curr_node == None:\n",
    "               # print('h')\n",
    "                path.append(-1)\n",
    "                #print(path)\n",
    "                continue\n",
    "            path.append(curr_node.val)\n",
    "            \n",
    "            q.append(curr_node.left)\n",
    "            q.append(curr_node.right)\n",
    "            \n",
    "            #print(path)\n",
    "        \n",
    "    \n",
    "    \n",
    "    def compare_paths(self, p1, p2):\n",
    "        if len(p1) != len(p2):\n",
    "            return False\n",
    "        \n",
    "        for i1, i2 in zip(p1,p2):\n",
    "            if i1 != i2:\n",
    "                return False\n",
    "        \n",
    "        return True\n",
    "    "
   ]
  }
 ],
 "metadata": {
  "kernelspec": {
   "display_name": "Python 3",
   "language": "python",
   "name": "python3"
  },
  "language_info": {
   "codemirror_mode": {
    "name": "ipython",
    "version": 3
   },
   "file_extension": ".py",
   "mimetype": "text/x-python",
   "name": "python",
   "nbconvert_exporter": "python",
   "pygments_lexer": "ipython3",
   "version": "3.6.9"
  }
 },
 "nbformat": 4,
 "nbformat_minor": 4
}
