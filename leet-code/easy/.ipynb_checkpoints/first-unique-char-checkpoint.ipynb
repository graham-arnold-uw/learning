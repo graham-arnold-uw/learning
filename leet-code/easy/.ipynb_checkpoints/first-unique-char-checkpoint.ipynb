{
 "cells": [
  {
   "cell_type": "markdown",
   "metadata": {},
   "source": [
    "https://leetcode.com/problems/first-unique-character-in-a-string/submissions/"
   ]
  },
  {
   "cell_type": "code",
   "execution_count": null,
   "metadata": {},
   "outputs": [],
   "source": [
    "from collections import defaultdict, Counter\n",
    "class Solution:\n",
    "    def firstUniqChar(self, s: str) -> int:\n",
    "        n = len(s)\n",
    "        min_index = float('inf') \n",
    "        first_seen = defaultdict(lambda : float('inf'))\n",
    "        char_freq = Counter(s)\n",
    "\n",
    "        for i in range(n): #0 -> 6\n",
    "            c = s[i] #l\n",
    "            first_seen[c] = min(first_seen[c], i) \n",
    "\n",
    "        for c in char_freq:\n",
    "            if char_freq[c] == 1:\n",
    "                min_index = min(min_index, first_seen[c])\n",
    "\n",
    "        return min_index if min_index != float('inf') else -1\n"
   ]
  }
 ],
 "metadata": {
  "kernelspec": {
   "display_name": "Python 3",
   "language": "python",
   "name": "python3"
  },
  "language_info": {
   "codemirror_mode": {
    "name": "ipython",
    "version": 3
   },
   "file_extension": ".py",
   "mimetype": "text/x-python",
   "name": "python",
   "nbconvert_exporter": "python",
   "pygments_lexer": "ipython3",
   "version": "3.6.9"
  }
 },
 "nbformat": 4,
 "nbformat_minor": 4
}
