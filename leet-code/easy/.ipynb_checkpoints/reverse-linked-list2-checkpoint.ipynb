{
 "cells": [
  {
   "cell_type": "markdown",
   "metadata": {},
   "source": [
    "https://leetcode.com/problems/reverse-linked-list/"
   ]
  },
  {
   "cell_type": "code",
   "execution_count": null,
   "metadata": {},
   "outputs": [],
   "source": [
    "# Definition for singly-linked list.\n",
    "# class ListNode:\n",
    "#     def __init__(self, val=0, next=None):\n",
    "#         self.val = val\n",
    "#         self.next = next\n",
    "class Solution:\n",
    "    def reverseList(self, head: ListNode) -> ListNode:\n",
    "        #rev_h, rev_t = self.rev_helper_rec(head)\n",
    "        rev_h = self.rev_helper_itr(head)\n",
    "        return rev_h\n",
    "    \n",
    "\n",
    "    def rev_helper_rec(self, head):\n",
    "        if head == None:\n",
    "            return None, None\n",
    "        \n",
    "        if head.next == None:\n",
    "            return head,head\n",
    "        \n",
    "        rest = head.next\n",
    "        \n",
    "        rev_rest_h,rev_rest_t = self.rev_helper(rest)\n",
    "        rev_rest_t.next = head\n",
    "        head.next = None\n",
    "        rev_rest_t = head\n",
    "        \n",
    "        return rev_rest_h, rev_rest_t\n",
    "    \n",
    "    def rev_helper_itr(self,head):\n",
    "    \n",
    "        \n",
    "        prev = None\n",
    "        curr = head\n",
    "        \n",
    "        while curr != None:\n",
    "            temp = curr.next\n",
    "            curr.next = prev\n",
    "            prev = curr\n",
    "            curr = temp\n",
    "        \n",
    "        return prev"
   ]
  }
 ],
 "metadata": {
  "kernelspec": {
   "display_name": "Python 3",
   "language": "python",
   "name": "python3"
  },
  "language_info": {
   "codemirror_mode": {
    "name": "ipython",
    "version": 3
   },
   "file_extension": ".py",
   "mimetype": "text/x-python",
   "name": "python",
   "nbconvert_exporter": "python",
   "pygments_lexer": "ipython3",
   "version": "3.6.9"
  }
 },
 "nbformat": 4,
 "nbformat_minor": 4
}
