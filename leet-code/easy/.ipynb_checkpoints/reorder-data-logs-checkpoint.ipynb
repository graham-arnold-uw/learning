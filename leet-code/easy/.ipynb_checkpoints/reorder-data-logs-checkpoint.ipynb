{
 "cells": [
  {
   "cell_type": "markdown",
   "metadata": {},
   "source": [
    "https://leetcode.com/problems/reorder-data-in-log-files/submissions/"
   ]
  },
  {
   "cell_type": "code",
   "execution_count": null,
   "metadata": {},
   "outputs": [],
   "source": [
    "from functools import cmp_to_key\n",
    "class Solution:\n",
    "    def reorderLogFiles(self, logs: List[str]) -> List[str]:\n",
    "    \n",
    "        def compare(log1, log2):\n",
    "         \n",
    "            l1s = log1.index(' ')\n",
    "            l2s = log2.index(' ')\n",
    "            l1t = log1[l1s+1].isalpha()\n",
    "            l2t = log2[l2s+1].isalpha()\n",
    "\n",
    "            if l1t and not l2t:\n",
    "                return -1\n",
    "\n",
    "            if l2t and not l1t:\n",
    "                return 1\n",
    "\n",
    "            if not l1t and not l2t:\n",
    "                return 0\n",
    "\n",
    "            l1c = (log1[l1s+1:], log1[:l1s])\n",
    "            l2c = (log2[l2s+1:], log2[:l2s])\n",
    "     \n",
    "            if l1c < l2c:\n",
    "                return -1\n",
    "            elif l1c > l2c:\n",
    "                return 1\n",
    "            else:\n",
    "                return 0\n",
    "        \n",
    "        logs_out = sorted(logs, key=cmp_to_key(compare))\n",
    "        return logs_out\n",
    "        "
   ]
  }
 ],
 "metadata": {
  "kernelspec": {
   "display_name": "Python 3",
   "language": "python",
   "name": "python3"
  },
  "language_info": {
   "codemirror_mode": {
    "name": "ipython",
    "version": 3
   },
   "file_extension": ".py",
   "mimetype": "text/x-python",
   "name": "python",
   "nbconvert_exporter": "python",
   "pygments_lexer": "ipython3",
   "version": "3.6.9"
  }
 },
 "nbformat": 4,
 "nbformat_minor": 4
}
