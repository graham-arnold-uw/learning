{
 "cells": [
  {
   "cell_type": "markdown",
   "metadata": {},
   "source": [
    "https://leetcode.com/problems/implement-strstr/"
   ]
  },
  {
   "cell_type": "code",
   "execution_count": null,
   "metadata": {},
   "outputs": [],
   "source": [
    "class Solution:\n",
    "    def strStr(self, haystack: str, needle: str) -> int:\n",
    "        #res = 0\n",
    "        hlen = len(haystack)\n",
    "        nlen = len(needle)\n",
    "\n",
    "        if nlen == 0:\n",
    "            return 0\n",
    "\n",
    "        if nlen > hlen:\n",
    "            return -1\n",
    "\n",
    "        #make window\n",
    "        ws = we = 0\n",
    "        we += nlen\n",
    "        \n",
    "        while we <= hlen:\n",
    "            if haystack[ws:we] == needle:\n",
    "                return ws\n",
    "            ws += 1\n",
    "            we += 1\n",
    "        \n",
    "        return -1"
   ]
  }
 ],
 "metadata": {
  "kernelspec": {
   "display_name": "Python 3",
   "language": "python",
   "name": "python3"
  },
  "language_info": {
   "codemirror_mode": {
    "name": "ipython",
    "version": 3
   },
   "file_extension": ".py",
   "mimetype": "text/x-python",
   "name": "python",
   "nbconvert_exporter": "python",
   "pygments_lexer": "ipython3",
   "version": "3.6.9"
  }
 },
 "nbformat": 4,
 "nbformat_minor": 4
}
