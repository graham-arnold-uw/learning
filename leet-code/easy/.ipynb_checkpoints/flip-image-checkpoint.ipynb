{
 "cells": [
  {
   "cell_type": "markdown",
   "metadata": {},
   "source": [
    "https://leetcode.com/problems/flipping-an-image/"
   ]
  },
  {
   "cell_type": "code",
   "execution_count": null,
   "metadata": {},
   "outputs": [],
   "source": [
    "class Solution:\n",
    "    def flipAndInvertImage(self, image: List[List[int]]) -> List[List[int]]:\n",
    "        \n",
    "        n = len(image)\n",
    "        self.flip_rows(image, n)\n",
    "        self.invert_image(image, n)\n",
    "    \n",
    "        return image\n",
    "    \n",
    "    def flip_rows(self, image, n):\n",
    "        #flip each row\n",
    "        for k in range(n):\n",
    "            s = 0\n",
    "            e = n - 1\n",
    "            \n",
    "            while s < e:\n",
    "                image[k][s], image[k][e] = image[k][e], image[k][s]\n",
    "                s += 1\n",
    "                e -= 1\n",
    "        \n",
    "    def invert_image(self, image, n):\n",
    "        for i in range(n):\n",
    "            for j in range(n):\n",
    "                image[i][j] =  1 - image[i][j]\n",
    "        "
   ]
  }
 ],
 "metadata": {
  "kernelspec": {
   "display_name": "Python 3",
   "language": "python",
   "name": "python3"
  },
  "language_info": {
   "codemirror_mode": {
    "name": "ipython",
    "version": 3
   },
   "file_extension": ".py",
   "mimetype": "text/x-python",
   "name": "python",
   "nbconvert_exporter": "python",
   "pygments_lexer": "ipython3",
   "version": "3.6.9"
  }
 },
 "nbformat": 4,
 "nbformat_minor": 4
}
