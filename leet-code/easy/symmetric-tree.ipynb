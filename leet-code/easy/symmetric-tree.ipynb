{
 "cells": [
  {
   "cell_type": "markdown",
   "metadata": {},
   "source": [
    "https://leetcode.com/problems/symmetric-tree/"
   ]
  },
  {
   "cell_type": "code",
   "execution_count": 13,
   "metadata": {},
   "outputs": [],
   "source": [
    "from collections import deque\n",
    "\n",
    "def next_line(func):\n",
    "    def wrapper(*args,**kwargs):\n",
    "        func(*args, **kwargs)\n",
    "        print()\n",
    "    return wrapper\n",
    "\n",
    "class Node: \n",
    "    def __init__(self, data): \n",
    "        self.data = data  \n",
    "        self.left = self.right = None\n",
    "        \n",
    "    def __repr__(self):\n",
    "        return str(self.data)\n",
    "    \n",
    "  \n",
    "# Function to insert nodes in level order  \n",
    "def insert_level_order(arr, root, i, n): \n",
    "    \n",
    "    \n",
    "      \n",
    "    # Base case for recursion  \n",
    "    if i < n: \n",
    "        \n",
    "        if arr[i] == None:\n",
    "            return None\n",
    "        \n",
    "        temp = Node(arr[i])  \n",
    "        root = temp  \n",
    "  \n",
    "        # insert left child  \n",
    "        root.left = insert_level_order(arr, root.left, \n",
    "                                     2 * i + 1, n)  \n",
    "  \n",
    "        # insert right child  \n",
    "        root.right = insert_level_order(arr, root.right, \n",
    "                                      2 * i + 2, n) \n",
    "    return root \n",
    "\n",
    "def isSymmetric(root: Node):\n",
    "    \n",
    "    if root == None:\n",
    "        return True\n",
    "        \n",
    "    if root.left == None and root.left == None:\n",
    "        return True\n",
    "    \n",
    "    llist = []\n",
    "    rlist = []\n",
    "    bfs_branch(root.left, llist, 0)\n",
    "    bfs_branch(root.right, rlist, 1)\n",
    "\n",
    "    res = compare_lists(llist,rlist)\n",
    "\n",
    "    return res\n",
    "\n",
    "def bfs_branch(root, res, direct):\n",
    "\n",
    "    q = deque()\n",
    "    q.append(root)\n",
    "\n",
    "    while len(q) > 0:\n",
    "        curr_node = q.popleft()\n",
    "        if curr_node == None:\n",
    "            res.append(None)\n",
    "            continue\n",
    "            \n",
    "        res.append(curr_node.data)\n",
    "        \n",
    "        if curr_node == None:\n",
    "            continue\n",
    "        \n",
    "        if direct == 0:\n",
    "            if curr_node.left == None:\n",
    "                q.append(None)\n",
    "            else:\n",
    "                q.append(curr_node.left)\n",
    "\n",
    "\n",
    "            if curr_node.right == None:\n",
    "                q.append(None)\n",
    "            else:\n",
    "                q.append(curr_node.right)\n",
    "                \n",
    "        if direct == 1:\n",
    "            if curr_node.right == None:\n",
    "                q.append(None)\n",
    "            else:\n",
    "                q.append(curr_node.right)\n",
    "                \n",
    "            if curr_node.left == None:\n",
    "                q.append(None)\n",
    "            else:\n",
    "                q.append(curr_node.left)\n",
    "\n",
    "\n",
    "\n",
    " \n",
    "            \n",
    "            \n",
    "def compare_lists(list1, list2):\n",
    "    eq = True\n",
    "    for i,j in zip(list1,list2):\n",
    "        if i != j:\n",
    "            eq = False\n",
    "            break\n",
    "    return eq\n",
    "        \n"
   ]
  },
  {
   "cell_type": "code",
   "execution_count": 14,
   "metadata": {},
   "outputs": [],
   "source": [
    "def get_height(root):\n",
    "    \n",
    "    if root == None:\n",
    "        return 0\n",
    "        \n",
    "    \n",
    "    lh = get_height(root.left)\n",
    "    rh = get_height(root.right)\n",
    "    \n",
    "    if lh > rh:\n",
    "        return lh + 1\n",
    "    else:\n",
    "        return rh +1\n",
    "    \n",
    "def get_tree_level(root, level):\n",
    "    #print(root.data)\n",
    "    if root is None:\n",
    "        #print('hit')\n",
    "        return [float('inf')]\n",
    "    if level == 0:\n",
    "        #print('hit')\n",
    "        return [root.data]\n",
    "    \n",
    "    elif level > 0:\n",
    "        res1 = get_tree_level(root.left, level-1)\n",
    "        res2 = get_tree_level(root.right, level-1)\n",
    "        return [*res1,*res2]\n",
    "\n",
    "    \n",
    "    \n",
    "\n",
    "    \n",
    "def print_bfs(root):\n",
    "    q = deque()\n",
    "    \n",
    "    q.append(root)\n",
    "    \n",
    "    while len(q) > 0:\n",
    "        curr_node = q.popleft()\n",
    "        print(curr_node.data, end=' ')\n",
    "        \n",
    "        if curr_node.left:\n",
    "            q.append(curr_node.left)\n",
    "        if curr_node.right:\n",
    "            q.append(curr_node.right)\n",
    "    \n",
    "    print()    \n",
    "      \n",
    "def symmetric_recursive(root):\n",
    "    t1 = root\n",
    "    t2 = root\n",
    "    \n",
    "    res = symm_rec_helper(t1,t2)\n",
    "    return res\n",
    "    \n",
    "def symm_rec_helper(t1,t2):\n",
    "    \n",
    "    if t1 == None and t2 == None:\n",
    "        return True\n",
    "    \n",
    "    if t1 == None or t2 == None:\n",
    "        return False\n",
    "    \n",
    "    return t1.data == t2.data and symm_rec_helper(t1.left, t2.right) and symm_rec_helper(t1.right,t2.left)\n",
    "\n",
    "\n",
    "def symmetric_iterative(root):\n",
    "    \n",
    "    pass\n",
    "    "
   ]
  },
  {
   "cell_type": "code",
   "execution_count": 22,
   "metadata": {},
   "outputs": [
    {
     "name": "stdout",
     "output_type": "stream",
     "text": [
      "[1]\n"
     ]
    }
   ],
   "source": [
    "arr1 = [1,2,2,3,4,4,3]\n",
    "arr2 = [1,2,2,None,3,None,3]\n",
    "arr3 = [1,2,2]\n",
    "n1 = len(arr1)\n",
    "n2 = len(arr2)\n",
    "n3 = len(arr3)\n",
    "rooty = None\n",
    "rooty = insert_level_order(arr1,rooty,0,n1)\n",
    "rooty2 = None\n",
    "rooty2 = insert_level_order(arr2,rooty2,0,n2)\n",
    "rooty3 = None\n",
    "rooty3 = insert_level_order(arr3,rooty3,0,n3)\n",
    "\n",
    "print(get_tree_level(rooty,0))\n",
    "#print_bfs(rooty2)\n",
    "#print(isSymmetric(rooty3))\n",
    "#res = get_tree_level(rooty,2)\n",
    "#print(res)\n",
    "#res=symmetric(rooty)\n",
    "#print(res)\n",
    "#res2 = get_tree_level(rooty2,2)\n",
    "#print(res2)\n",
    "\n",
    "#res = symmetric_recursive(rooty3)\n",
    "#print(res)\n",
    "\n",
    "\n",
    "\n",
    "\n",
    "\n"
   ]
  },
  {
   "cell_type": "code",
   "execution_count": 44,
   "metadata": {},
   "outputs": [
    {
     "data": {
      "text/plain": [
       "None"
      ]
     },
     "execution_count": 44,
     "metadata": {},
     "output_type": "execute_result"
    }
   ],
   "source": [
    "x = Node(2)\n",
    "y = Node(None)\n",
    "y"
   ]
  },
  {
   "cell_type": "code",
   "execution_count": 28,
   "metadata": {},
   "outputs": [
    {
     "data": {
      "text/plain": [
       "[1, 2, 3, 1, 2, 3]"
      ]
     },
     "execution_count": 28,
     "metadata": {},
     "output_type": "execute_result"
    }
   ],
   "source": [
    "a = [1,2,3]\n",
    "b = [1,2,3]\n",
    "q = [*a,*b]\n",
    "q"
   ]
  },
  {
   "cell_type": "code",
   "execution_count": 39,
   "metadata": {},
   "outputs": [
    {
     "data": {
      "text/plain": [
       "[2]"
      ]
     },
     "execution_count": 39,
     "metadata": {},
     "output_type": "execute_result"
    }
   ],
   "source": [
    "rlist"
   ]
  },
  {
   "cell_type": "code",
   "execution_count": 40,
   "metadata": {},
   "outputs": [
    {
     "data": {
      "text/plain": [
       "[2]"
      ]
     },
     "execution_count": 40,
     "metadata": {},
     "output_type": "execute_result"
    }
   ],
   "source": [
    "llist"
   ]
  },
  {
   "cell_type": "code",
   "execution_count": 41,
   "metadata": {},
   "outputs": [
    {
     "data": {
      "text/plain": [
       "False"
      ]
     },
     "execution_count": 41,
     "metadata": {},
     "output_type": "execute_result"
    }
   ],
   "source": [
    "rlist == llist"
   ]
  },
  {
   "cell_type": "code",
   "execution_count": 23,
   "metadata": {},
   "outputs": [
    {
     "data": {
      "text/plain": [
       "list"
      ]
     },
     "execution_count": 23,
     "metadata": {},
     "output_type": "execute_result"
    }
   ],
   "source": [
    "type(llist)"
   ]
  },
  {
   "cell_type": "code",
   "execution_count": 24,
   "metadata": {},
   "outputs": [
    {
     "data": {
      "text/plain": [
       "list"
      ]
     },
     "execution_count": 24,
     "metadata": {},
     "output_type": "execute_result"
    }
   ],
   "source": [
    "type(rlist)"
   ]
  },
  {
   "cell_type": "code",
   "execution_count": 34,
   "metadata": {},
   "outputs": [
    {
     "name": "stdout",
     "output_type": "stream",
     "text": [
      "0 2\n",
      "0 2\n"
     ]
    }
   ],
   "source": [
    "for idx,el in enumerate(llist2):\n",
    "    print(str(idx) + ' ' + str(el))\n",
    "    \n",
    "for idx,el in enumerate(rlist2):\n",
    "    print(str(idx) + ' ' + str(el))"
   ]
  },
  {
   "cell_type": "code",
   "execution_count": 29,
   "metadata": {},
   "outputs": [
    {
     "data": {
      "text/plain": [
       "True"
      ]
     },
     "execution_count": 29,
     "metadata": {},
     "output_type": "execute_result"
    }
   ],
   "source": [
    "llist2.sort() == rlist2.sort()"
   ]
  },
  {
   "cell_type": "code",
   "execution_count": 67,
   "metadata": {},
   "outputs": [
    {
     "name": "stdout",
     "output_type": "stream",
     "text": [
      "None\n"
     ]
    }
   ],
   "source": [
    "j = deque()\n",
    "j.append(None)\n",
    "print(j.pop())"
   ]
  },
  {
   "cell_type": "code",
   "execution_count": null,
   "metadata": {},
   "outputs": [],
   "source": []
  },
  {
   "cell_type": "code",
   "execution_count": null,
   "metadata": {},
   "outputs": [],
   "source": []
  }
 ],
 "metadata": {
  "kernelspec": {
   "display_name": "Python 3",
   "language": "python",
   "name": "python3"
  },
  "language_info": {
   "codemirror_mode": {
    "name": "ipython",
    "version": 3
   },
   "file_extension": ".py",
   "mimetype": "text/x-python",
   "name": "python",
   "nbconvert_exporter": "python",
   "pygments_lexer": "ipython3",
   "version": "3.6.9"
  }
 },
 "nbformat": 4,
 "nbformat_minor": 4
}
