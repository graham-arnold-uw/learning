{
 "cells": [
  {
   "cell_type": "markdown",
   "metadata": {},
   "source": [
    "https://leetcode.com/explore/challenge/card/october-leetcoding-challenge/559/week-1-october-1st-october-7th/3481/"
   ]
  },
  {
   "cell_type": "code",
   "execution_count": 12,
   "metadata": {},
   "outputs": [],
   "source": [
    "import collections\n",
    "\n",
    "def comb_handler(arr, tar):\n",
    "    \n",
    "    combos = []\n",
    "    \n",
    "    for el in arr:\n",
    "        if el <= tar:\n",
    "            newtar = tar-el\n",
    "            trysol = combsum(arr, newtar)\n",
    "            if trysol != -1:\n",
    "                combos.append(trysol)\n",
    "    return combos\n",
    "\n",
    "\n",
    "def combsum(arr,tar):\n",
    "    \n",
    "    currCombos = []\n",
    "    for el in arr:\n",
    "        if el <= tar:\n",
    "            newtar = tar-el\n",
    "            if newtar == 0:\n",
    "                currCombos.append([el])\n",
    "                continue\n",
    "            trysol = combsum(arr,newtar)\n",
    "            for potsol in trysol:\n",
    "                newsol = [el,*potsol]\n",
    "                dup = False\n",
    "                for c in currCombos:\n",
    "                    if collections.Counter(newsol) == collections.Counter(c):\n",
    "                        dup = True\n",
    "                if not dup:\n",
    "                    currCombos.append(newsol)\n",
    "    return currCombos\n",
    "            \n",
    "    \n",
    "    \n",
    "    \n",
    "def noMove(arr,tar):\n",
    "    noMove = True\n",
    "    \n",
    "    for el in arr:\n",
    "        if el < tar:\n",
    "            noMove = False\n",
    "    return noMove"
   ]
  },
  {
   "cell_type": "code",
   "execution_count": 16,
   "metadata": {},
   "outputs": [
    {
     "name": "stdout",
     "output_type": "stream",
     "text": [
      "[[2, 2, 3], [7]]\n"
     ]
    }
   ],
   "source": [
    "arr = [2,3,6,7]\n",
    "tar = 7\n",
    "print(combsum(arr,tar))\n"
   ]
  },
  {
   "cell_type": "code",
   "execution_count": 17,
   "metadata": {},
   "outputs": [
    {
     "name": "stdout",
     "output_type": "stream",
     "text": [
      "[[2, 2, 2, 2], [2, 3, 3], [3, 5]]\n"
     ]
    }
   ],
   "source": [
    "arr = [2,3,5]\n",
    "tar = 8\n",
    "print(combsum(arr,tar))"
   ]
  },
  {
   "cell_type": "code",
   "execution_count": 18,
   "metadata": {},
   "outputs": [
    {
     "name": "stdout",
     "output_type": "stream",
     "text": [
      "[]\n"
     ]
    }
   ],
   "source": [
    "arr = [2]\n",
    "tar = 1\n",
    "print(combsum(arr,tar))"
   ]
  },
  {
   "cell_type": "code",
   "execution_count": 19,
   "metadata": {},
   "outputs": [
    {
     "name": "stdout",
     "output_type": "stream",
     "text": [
      "[[1]]\n"
     ]
    }
   ],
   "source": [
    "arr = [1]\n",
    "tar = 1\n",
    "print(combsum(arr,tar))"
   ]
  },
  {
   "cell_type": "code",
   "execution_count": 20,
   "metadata": {},
   "outputs": [
    {
     "name": "stdout",
     "output_type": "stream",
     "text": [
      "[[1, 1]]\n"
     ]
    }
   ],
   "source": [
    "arr = [1]\n",
    "tar = 2\n",
    "print(combsum(arr,tar))"
   ]
  },
  {
   "cell_type": "code",
   "execution_count": 26,
   "metadata": {},
   "outputs": [
    {
     "data": {
      "text/plain": [
       "[[1, 1]]"
      ]
     },
     "execution_count": 26,
     "metadata": {},
     "output_type": "execute_result"
    }
   ],
   "source": [
    "test = Solution()\n",
    "test.combinationSum(arr,tar)"
   ]
  },
  {
   "cell_type": "code",
   "execution_count": null,
   "metadata": {},
   "outputs": [],
   "source": []
  }
 ],
 "metadata": {
  "kernelspec": {
   "display_name": "Python 3",
   "language": "python",
   "name": "python3"
  },
  "language_info": {
   "codemirror_mode": {
    "name": "ipython",
    "version": 3
   },
   "file_extension": ".py",
   "mimetype": "text/x-python",
   "name": "python",
   "nbconvert_exporter": "python",
   "pygments_lexer": "ipython3",
   "version": "3.6.9"
  }
 },
 "nbformat": 4,
 "nbformat_minor": 4
}
