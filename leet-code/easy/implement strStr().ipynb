{
 "cells": [
  {
   "cell_type": "markdown",
   "metadata": {},
   "source": [
    "https://leetcode.com/problems/implement-strstr/"
   ]
  },
  {
   "cell_type": "code",
   "execution_count": 17,
   "metadata": {},
   "outputs": [],
   "source": [
    "def strStr(haystack, needle):\n",
    "    \n",
    "    res = 0\n",
    "    hlen = len(haystack)\n",
    "    nlen = len(needle)\n",
    "    \n",
    "    if nlen == 0:\n",
    "        return 0\n",
    "    \n",
    "    if nlen > hlen:\n",
    "        return -1\n",
    "    \n",
    "    wi = 0\n",
    "    \n",
    "    while(wi <= hlen - nlen):\n",
    "        Hidx = wi\n",
    "        Nidx = 0\n",
    "        \n",
    "        while(Nidx < nlen and haystack[Hidx] == needle[Nidx]):\n",
    "            Hidx += 1\n",
    "            Nidx += 1\n",
    "            \n",
    "        if Nidx == nlen:\n",
    "            return wi\n",
    "        \n",
    "        \n",
    "        wi += 1\n",
    "        \n",
    "    return -1\n",
    "            \n",
    "        \n",
    "    \n",
    "    "
   ]
  },
  {
   "cell_type": "code",
   "execution_count": 20,
   "metadata": {},
   "outputs": [
    {
     "name": "stdout",
     "output_type": "stream",
     "text": [
      "2\n",
      "-1\n",
      "5\n"
     ]
    }
   ],
   "source": [
    "hay = 'hello'\n",
    "need = 'll'\n",
    "h2 = 'aaaaaa'\n",
    "n2 = 'bba'\n",
    "h3 = 'caterpiller'\n",
    "n3 = 'piller'\n",
    "print(strStr(hay,need))\n",
    "print(strStr(h2,n2))\n",
    "print(strStr(h3,n3))"
   ]
  },
  {
   "cell_type": "code",
   "execution_count": null,
   "metadata": {},
   "outputs": [],
   "source": []
  }
 ],
 "metadata": {
  "kernelspec": {
   "display_name": "Python 3",
   "language": "python",
   "name": "python3"
  },
  "language_info": {
   "codemirror_mode": {
    "name": "ipython",
    "version": 3
   },
   "file_extension": ".py",
   "mimetype": "text/x-python",
   "name": "python",
   "nbconvert_exporter": "python",
   "pygments_lexer": "ipython3",
   "version": "3.6.9"
  }
 },
 "nbformat": 4,
 "nbformat_minor": 4
}
