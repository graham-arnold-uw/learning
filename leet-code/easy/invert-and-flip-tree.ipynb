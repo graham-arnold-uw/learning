{
 "cells": [
  {
   "cell_type": "markdown",
   "metadata": {},
   "source": [
    "https://leetcode.com/problems/invert-binary-tree/"
   ]
  },
  {
   "cell_type": "code",
   "execution_count": null,
   "metadata": {},
   "outputs": [],
   "source": [
    "# Definition for a binary tree node.\n",
    "from collections import deque\n",
    "# class TreeNode:\n",
    "#     def __init__(self, val=0, left=None, right=None):\n",
    "#         self.val = val\n",
    "#         self.left = left\n",
    "#         self.right = right\n",
    "class Solution:\n",
    "    def invertTree(self, root: TreeNode) -> TreeNode:\n",
    "        \n",
    "        if root == None:\n",
    "            return None\n",
    "        \n",
    "        return self.bfs_invert(root)\n",
    "    \n",
    "    \n",
    "    \n",
    "    def bfs_invert(self,root):\n",
    "        \n",
    "        if root == None:\n",
    "            return None\n",
    "        \n",
    "        q = deque()\n",
    "        q.append(root)\n",
    "        \n",
    "        while len(q) > 0:\n",
    "            curr_node = q.popleft()\n",
    "            curr_node.left, curr_node.right = curr_node.right, curr_node.left\n",
    "            \n",
    "            if curr_node.left != None:\n",
    "                q.append(curr_node.left)\n",
    "                \n",
    "            if curr_node.right != None:\n",
    "                q.append(curr_node.right)\n",
    "                \n",
    "        return root\n",
    "                \n",
    "                \n",
    "    def invertTreeRec(self, root: TreeNode) -> TreeNode:\n",
    "        \n",
    "        if root == None:\n",
    "            return None\n",
    "        \n",
    "        inv_l = self.invertTreeRec(root.left)\n",
    "        inv_r = self.invertTreeRec(root.right)\n",
    "        \n",
    "        root.left, root.right = inv_r, inv_l\n",
    "        \n",
    "        return root\n",
    "        \n",
    "        \n",
    "        \n",
    "        "
   ]
  }
 ],
 "metadata": {
  "kernelspec": {
   "display_name": "Python 3",
   "language": "python",
   "name": "python3"
  },
  "language_info": {
   "codemirror_mode": {
    "name": "ipython",
    "version": 3
   },
   "file_extension": ".py",
   "mimetype": "text/x-python",
   "name": "python",
   "nbconvert_exporter": "python",
   "pygments_lexer": "ipython3",
   "version": "3.6.9"
  }
 },
 "nbformat": 4,
 "nbformat_minor": 4
}
