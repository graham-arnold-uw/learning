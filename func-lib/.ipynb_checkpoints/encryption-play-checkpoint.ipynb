{
 "cells": [
  {
   "cell_type": "code",
   "execution_count": 49,
   "metadata": {},
   "outputs": [
    {
     "name": "stdout",
     "output_type": "stream",
     "text": [
      "b'aGVsbG8='\n"
     ]
    }
   ],
   "source": [
    "from base64 import urlsafe_b64encode as b64e, urlsafe_b64decode as b64d\n",
    "\n",
    "data2 = 'these are twelve words that you need to encrypt'\n",
    "data = 'hello'\n",
    "b = data.encode('utf-8')\n",
    "test_enc = b64e(b)\n",
    "print(test_enc)\n",
    "\n",
    "\n",
    "pw = 'Dicn0$17'\n",
    "\n",
    "\n",
    "def encode_string(pw, data):\n",
    "    #data_bytes = data.encode('utf-8')\n",
    "    char_split = list(pw)\n",
    "    data_split = list(data)\n",
    "    print(data_split)\n",
    "    lw = len(pw)\n",
    "    ld = len(data_split)\n",
    "    shift = 0\n",
    "    \n",
    "    for c in char_split:\n",
    "        shift += ord(c)\n",
    "    \n",
    "    print(shift)\n",
    "        \n",
    "    \n",
    "    \n",
    "    for ct, dc in enumerate(data_split):\n",
    "        dcn = chr((ord(dc) + shift) % 127)\n",
    "        data_split[ct] = dcn\n",
    "        \n",
    "    \n",
    "    out = \"\".join(data_split)\n",
    "    return out\n",
    "\n",
    "def decode_string(pw, encoded_data):\n",
    "    #data_bytes = data.encode('utf-8')\n",
    "    char_split = list(pw)\n",
    "    data_split = list(encoded_data)\n",
    "    lw = len(pw)\n",
    "    ld = len(data_split)\n",
    "    shift = 0\n",
    "    \n",
    "    for c in char_split:\n",
    "        shift += ord(c)\n",
    "    \n",
    "        \n",
    "    \n",
    "    \n",
    "    for ct, dc in enumerate(data_split):\n",
    "        dcn = chr((ord(dc) - shift) % 127)\n",
    "        data_split[ct] = dcn\n",
    "        \n",
    "    \n",
    "    out = \"\".join(data_split)\n",
    "    return out\n",
    "        \n",
    "    \n",
    "    \n",
    "    \n",
    "    "
   ]
  },
  {
   "cell_type": "code",
   "execution_count": 50,
   "metadata": {},
   "outputs": [
    {
     "name": "stdout",
     "output_type": "stream",
     "text": [
      "['h', 'e', 'l', 'l', 'o']\n",
      "570\n",
      "'$++.\n",
      "hello\n"
     ]
    }
   ],
   "source": [
    "res = encode_string(pw,data)\n",
    "dec = decode_string(pw,res)\n",
    "print(res)\n",
    "print(dec)"
   ]
  },
  {
   "cell_type": "code",
   "execution_count": 13,
   "metadata": {},
   "outputs": [
    {
     "ename": "TypeError",
     "evalue": "'str' object does not support item assignment",
     "output_type": "error",
     "traceback": [
      "\u001b[0;31m---------------------------------------------------------------------------\u001b[0m",
      "\u001b[0;31mTypeError\u001b[0m                                 Traceback (most recent call last)",
      "\u001b[0;32m<ipython-input-13-a0dba643b531>\u001b[0m in \u001b[0;36m<module>\u001b[0;34m\u001b[0m\n\u001b[1;32m      1\u001b[0m \u001b[0mx\u001b[0m \u001b[0;34m=\u001b[0m \u001b[0;34m'test'\u001b[0m\u001b[0;34m\u001b[0m\u001b[0;34m\u001b[0m\u001b[0m\n\u001b[1;32m      2\u001b[0m \u001b[0my\u001b[0m \u001b[0;34m=\u001b[0m \u001b[0mx\u001b[0m\u001b[0;34m\u001b[0m\u001b[0;34m\u001b[0m\u001b[0m\n\u001b[0;32m----> 3\u001b[0;31m \u001b[0my\u001b[0m\u001b[0;34m[\u001b[0m\u001b[0;36m1\u001b[0m\u001b[0;34m]\u001b[0m \u001b[0;34m=\u001b[0m \u001b[0;34m'a'\u001b[0m\u001b[0;34m\u001b[0m\u001b[0;34m\u001b[0m\u001b[0m\n\u001b[0m\u001b[1;32m      4\u001b[0m \u001b[0mprint\u001b[0m\u001b[0;34m(\u001b[0m\u001b[0mid\u001b[0m\u001b[0;34m(\u001b[0m\u001b[0mx\u001b[0m\u001b[0;34m)\u001b[0m\u001b[0;34m)\u001b[0m\u001b[0;34m\u001b[0m\u001b[0;34m\u001b[0m\u001b[0m\n\u001b[1;32m      5\u001b[0m \u001b[0mprint\u001b[0m\u001b[0;34m(\u001b[0m\u001b[0mid\u001b[0m\u001b[0;34m(\u001b[0m\u001b[0my\u001b[0m\u001b[0;34m)\u001b[0m\u001b[0;34m)\u001b[0m\u001b[0;34m\u001b[0m\u001b[0;34m\u001b[0m\u001b[0m\n",
      "\u001b[0;31mTypeError\u001b[0m: 'str' object does not support item assignment"
     ]
    }
   ],
   "source": [
    "x = 'test'\n",
    "y = x\n",
    "y[1] = 'a'\n",
    "print(id(x))\n",
    "print(id(y))"
   ]
  },
  {
   "cell_type": "code",
   "execution_count": 25,
   "metadata": {},
   "outputs": [],
   "source": [
    "from string import ascii_lowercase as ALPHABET\n",
    "\n",
    "def shift(message, offset):\n",
    "    trans = str.maketrans(ALPHABET, ALPHABET[offset:] + ALPHABET[:offset])\n",
    "    return message.lower().translate(trans)"
   ]
  },
  {
   "cell_type": "code",
   "execution_count": 26,
   "metadata": {},
   "outputs": [
    {
     "name": "stdout",
     "output_type": "stream",
     "text": [
      "abcdefghijklmnopqrstuvwxyz\n"
     ]
    }
   ],
   "source": [
    "print(ALPHABET)"
   ]
  },
  {
   "cell_type": "code",
   "execution_count": 27,
   "metadata": {},
   "outputs": [
    {
     "name": "stdout",
     "output_type": "stream",
     "text": [
      "defghijklmnopqrstuvwxyz\n"
     ]
    }
   ],
   "source": [
    "offset = 3\n",
    "print(ALPHABET[offset:])"
   ]
  },
  {
   "cell_type": "code",
   "execution_count": 28,
   "metadata": {},
   "outputs": [
    {
     "data": {
      "text/plain": [
       "'abc'"
      ]
     },
     "execution_count": 28,
     "metadata": {},
     "output_type": "execute_result"
    }
   ],
   "source": [
    "ALPHABET[:offset]"
   ]
  },
  {
   "cell_type": "code",
   "execution_count": 31,
   "metadata": {},
   "outputs": [
    {
     "name": "stdout",
     "output_type": "stream",
     "text": [
      "E\n",
      "b\n"
     ]
    }
   ],
   "source": [
    "t = 'b'\n",
    "v = chr((ord(t) + 225) % 127)\n",
    "q = chr((ord(v) - 225) % 127)\n",
    "print(v)\n",
    "print(q)"
   ]
  },
  {
   "cell_type": "code",
   "execution_count": null,
   "metadata": {},
   "outputs": [],
   "source": []
  }
 ],
 "metadata": {
  "kernelspec": {
   "display_name": "Python 3",
   "language": "python",
   "name": "python3"
  },
  "language_info": {
   "codemirror_mode": {
    "name": "ipython",
    "version": 3
   },
   "file_extension": ".py",
   "mimetype": "text/x-python",
   "name": "python",
   "nbconvert_exporter": "python",
   "pygments_lexer": "ipython3",
   "version": "3.6.9"
  }
 },
 "nbformat": 4,
 "nbformat_minor": 4
}
