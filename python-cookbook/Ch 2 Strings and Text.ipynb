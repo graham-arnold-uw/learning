{
 "cells": [
  {
   "cell_type": "code",
   "execution_count": 1,
   "metadata": {},
   "outputs": [
    {
     "name": "stdout",
     "output_type": "stream",
     "text": [
      "(\\d)\n",
      "(\\d)\n"
     ]
    }
   ],
   "source": [
    "# raw strings does not interpret backslash as a special character\n",
    "s1 = '(\\\\d)'\n",
    "s2 = r'(\\d)'\n",
    "print(s1)\n",
    "print(s2)"
   ]
  },
  {
   "cell_type": "code",
   "execution_count": 2,
   "metadata": {},
   "outputs": [
    {
     "name": "stdout",
     "output_type": "stream",
     "text": [
      "-1\n",
      "2\n"
     ]
    }
   ],
   "source": [
    "t = 'hello'\n",
    "print(t.find('z'))\n",
    "print(t.find('ll'))"
   ]
  },
  {
   "cell_type": "code",
   "execution_count": 6,
   "metadata": {},
   "outputs": [
    {
     "name": "stdout",
     "output_type": "stream",
     "text": [
      "y\n",
      "n\n",
      "precompiled\n",
      "y\n",
      "n\n"
     ]
    }
   ],
   "source": [
    "#can use regular expressions to match more complicated things\n",
    "#for example you could want to match specific dates\n",
    "text1 = '11/27/2023'\n",
    "text2 = 'Nov 27th, 2023'\n",
    "\n",
    "import re\n",
    "\n",
    "def checkDate(s):\n",
    "    if re.match(r'\\d+/\\d+/\\d+',s):\n",
    "        print('y')\n",
    "    else:\n",
    "        print('n')\n",
    "        \n",
    "checkDate(text1)\n",
    "checkDate(text2)\n",
    "\n",
    "\n",
    "#can precompile the pattern to match in  a pattern object\n",
    "#some performance benefits of doing that if the pattern\n",
    "#will be used regularly\n",
    "\n",
    "def checkDate2(s):\n",
    "    pat = re.compile(r'\\d+/\\d+/\\d+')\n",
    "    if pat.match(s):\n",
    "        print('y')\n",
    "    else:\n",
    "        print('n')\n",
    "print('precompiled')\n",
    "checkDate2(text1)\n",
    "checkDate2(text2)"
   ]
  },
  {
   "cell_type": "code",
   "execution_count": 26,
   "metadata": {},
   "outputs": [
    {
     "name": "stdout",
     "output_type": "stream",
     "text": [
      "11/26/2012\n",
      "y\n"
     ]
    }
   ],
   "source": [
    "#can you the re.findall(text) function to find all occurences of a pattern\n",
    "text = '11/27/2012. PyCon starts 3/13/2013.'\n",
    "#can use capture groups with findall to group values automatically\n",
    "datepat = re.compile(r'(\\d+)/(\\d+)/(\\d+)$')\n",
    "m = datepat.match('11/26/2012')\n",
    "print(m.group(0))\n",
    "\n",
    "if m:\n",
    "    print('y')\n",
    "    "
   ]
  },
  {
   "cell_type": "code",
   "execution_count": 18,
   "metadata": {},
   "outputs": [
    {
     "name": "stdout",
     "output_type": "stream",
     "text": [
      "[('11', '27', '2012'), ('3', '13', '2013')]\n"
     ]
    }
   ],
   "source": [
    "print(datepat.findall(text))"
   ]
  },
  {
   "cell_type": "code",
   "execution_count": null,
   "metadata": {},
   "outputs": [],
   "source": []
  }
 ],
 "metadata": {
  "kernelspec": {
   "display_name": "Python 3",
   "language": "python",
   "name": "python3"
  },
  "language_info": {
   "codemirror_mode": {
    "name": "ipython",
    "version": 3
   },
   "file_extension": ".py",
   "mimetype": "text/x-python",
   "name": "python",
   "nbconvert_exporter": "python",
   "pygments_lexer": "ipython3",
   "version": "3.6.9"
  }
 },
 "nbformat": 4,
 "nbformat_minor": 4
}
