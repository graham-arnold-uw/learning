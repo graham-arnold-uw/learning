{
 "cells": [
  {
   "cell_type": "code",
   "execution_count": 1,
   "metadata": {},
   "outputs": [
    {
     "name": "stdout",
     "output_type": "stream",
     "text": [
      "(\\d)\n",
      "(\\d)\n"
     ]
    }
   ],
   "source": [
    "# raw strings does not interpret backslash as a special character\n",
    "s1 = '(\\\\d)'\n",
    "s2 = r'(\\d)'\n",
    "print(s1)\n",
    "print(s2)"
   ]
  },
  {
   "cell_type": "code",
   "execution_count": 2,
   "metadata": {},
   "outputs": [
    {
     "name": "stdout",
     "output_type": "stream",
     "text": [
      "-1\n",
      "2\n"
     ]
    }
   ],
   "source": [
    "t = 'hello'\n",
    "print(t.find('z'))\n",
    "print(t.find('ll'))"
   ]
  },
  {
   "cell_type": "code",
   "execution_count": 6,
   "metadata": {},
   "outputs": [
    {
     "name": "stdout",
     "output_type": "stream",
     "text": [
      "y\n",
      "n\n",
      "precompiled\n",
      "y\n",
      "n\n"
     ]
    }
   ],
   "source": [
    "#can use regular expressions to match more complicated things\n",
    "#for example you could want to match specific dates\n",
    "text1 = '11/27/2023'\n",
    "text2 = 'Nov 27th, 2023'\n",
    "\n",
    "import re\n",
    "\n",
    "def checkDate(s):\n",
    "    if re.match(r'\\d+/\\d+/\\d+',s):\n",
    "        print('y')\n",
    "    else:\n",
    "        print('n')\n",
    "        \n",
    "checkDate(text1)\n",
    "checkDate(text2)\n",
    "\n",
    "\n",
    "#can precompile the pattern to match in  a pattern object\n",
    "#some performance benefits of doing that if the pattern\n",
    "#will be used regularly\n",
    "\n",
    "def checkDate2(s):\n",
    "    pat = re.compile(r'\\d+/\\d+/\\d+')\n",
    "    if pat.match(s):\n",
    "        print('y')\n",
    "    else:\n",
    "        print('n')\n",
    "print('precompiled')\n",
    "checkDate2(text1)\n",
    "checkDate2(text2)"
   ]
  },
  {
   "cell_type": "code",
   "execution_count": 26,
   "metadata": {},
   "outputs": [
    {
     "name": "stdout",
     "output_type": "stream",
     "text": [
      "11/26/2012\n",
      "y\n"
     ]
    }
   ],
   "source": [
    "#can you the re.findall(text) function to find all occurences of a pattern\n",
    "text = '11/27/2012. PyCon starts 3/13/2013.'\n",
    "#can use capture groups with findall to group values automatically\n",
    "datepat = re.compile(r'(\\d+)/(\\d+)/(\\d+)$')\n",
    "m = datepat.match('11/26/2012')\n",
    "print(m.group(0))\n",
    "\n",
    "if m:\n",
    "    print('y')\n",
    "    "
   ]
  },
  {
   "cell_type": "code",
   "execution_count": 18,
   "metadata": {},
   "outputs": [
    {
     "name": "stdout",
     "output_type": "stream",
     "text": [
      "[('11', '27', '2012'), ('3', '13', '2013')]\n"
     ]
    }
   ],
   "source": [
    "print(datepat.findall(text))"
   ]
  },
  {
   "cell_type": "code",
   "execution_count": 3,
   "metadata": {},
   "outputs": [
    {
     "data": {
      "text/plain": [
       "4"
      ]
     },
     "execution_count": 3,
     "metadata": {},
     "output_type": "execute_result"
    }
   ],
   "source": [
    "t = 'hello world'\n",
    "t.find('o w')"
   ]
  },
  {
   "cell_type": "markdown",
   "metadata": {},
   "source": [
    "Usiing raw strings is useful when working with regular expressions. define a raw string at r\"\\text_here\\\". backslashes are not interpreted as special chars in raw strings"
   ]
  },
  {
   "cell_type": "code",
   "execution_count": 4,
   "metadata": {},
   "outputs": [
    {
     "name": "stdout",
     "output_type": "stream",
     "text": [
      "(\\d+)\n"
     ]
    }
   ],
   "source": [
    "raw_string = r'(\\d+)'\n",
    "print(raw_string)"
   ]
  },
  {
   "cell_type": "markdown",
   "metadata": {},
   "source": [
    "If you are using a pattern a lot its a good idea to compile the pattern for improved efficiency  "
   ]
  },
  {
   "cell_type": "code",
   "execution_count": 16,
   "metadata": {},
   "outputs": [
    {
     "name": "stdout",
     "output_type": "stream",
     "text": [
      "11\n"
     ]
    }
   ],
   "source": [
    "import re\n",
    "datepat = re.compile(r'\\d+')\n",
    "m = datepat.match('11aaaa')\n",
    "print(m.group())"
   ]
  },
  {
   "cell_type": "markdown",
   "metadata": {},
   "source": [
    "match only checks for match at beginning of strinf by default, if you want an exact match you must put a ($) as an end-marker"
   ]
  },
  {
   "cell_type": "code",
   "execution_count": 9,
   "metadata": {},
   "outputs": [
    {
     "name": "stdout",
     "output_type": "stream",
     "text": [
      "None\n"
     ]
    }
   ],
   "source": [
    "datepat_exact = re.compile(r'(\\d+)$')\n",
    "m = datepat_exact.match('11aaaa')\n",
    "print(m)"
   ]
  },
  {
   "cell_type": "markdown",
   "metadata": {},
   "source": [
    "can use str.replace() to replace one literal with another"
   ]
  },
  {
   "cell_type": "markdown",
   "metadata": {},
   "source": [
    "often time you will want to sanitize and normalize text input since characters can often have mutiple unicode representations"
   ]
  },
  {
   "cell_type": "code",
   "execution_count": 18,
   "metadata": {},
   "outputs": [
    {
     "data": {
      "text/plain": [
       "True"
      ]
     },
     "execution_count": 18,
     "metadata": {},
     "output_type": "execute_result"
    }
   ],
   "source": [
    "import unicodedata\n",
    "s1 = 'Spicy Jalape\\u00f1o'\n",
    "s2 = 'Spicy Jalapen\\u0303o'\n",
    "t1 = unicodedata.normalize('NFC',s1)\n",
    "t2 = unicodedata.normalize('NFC',s2)\n",
    "t1 == t2"
   ]
  },
  {
   "cell_type": "markdown",
   "metadata": {},
   "source": [
    "strip whitespace using str.strip() str.lstrip() str.rstrip(). can also strip characters"
   ]
  },
  {
   "cell_type": "code",
   "execution_count": 21,
   "metadata": {},
   "outputs": [
    {
     "name": "stdout",
     "output_type": "stream",
     "text": [
      "hello___\n",
      "----hello\n"
     ]
    }
   ],
   "source": [
    "test = '----hello___'\n",
    "print(test.lstrip('-'))\n",
    "print(test.rstrip('_'))"
   ]
  },
  {
   "cell_type": "markdown",
   "metadata": {},
   "source": [
    "strip() functions  do not strip from the middle of the word - use something like str.replace(' ', '') to remove whitespace from the middle of a word"
   ]
  },
  {
   "cell_type": "code",
   "execution_count": null,
   "metadata": {},
   "outputs": [],
   "source": []
  }
 ],
 "metadata": {
  "kernelspec": {
   "display_name": "Python 3",
   "language": "python",
   "name": "python3"
  },
  "language_info": {
   "codemirror_mode": {
    "name": "ipython",
    "version": 3
   },
   "file_extension": ".py",
   "mimetype": "text/x-python",
   "name": "python",
   "nbconvert_exporter": "python",
   "pygments_lexer": "ipython3",
   "version": "3.6.9"
  }
 },
 "nbformat": 4,
 "nbformat_minor": 4
}
