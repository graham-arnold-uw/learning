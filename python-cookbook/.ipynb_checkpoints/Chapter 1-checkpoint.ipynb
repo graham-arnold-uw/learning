{
 "cells": [
  {
   "cell_type": "markdown",
   "metadata": {},
   "source": [
    "Any sequence or iterable can be unpack into variable using a simple assignment operation"
   ]
  },
  {
   "cell_type": "code",
   "execution_count": null,
   "metadata": {},
   "outputs": [],
   "source": [
    "p = (4,5)\n",
    "x,y = p"
   ]
  },
  {
   "cell_type": "code",
   "execution_count": null,
   "metadata": {},
   "outputs": [],
   "source": [
    "data = [ 'ACME', 50, 91.1, (2012, 12, 21) ]\n",
    "\n",
    "#can extract whole tuple or specific elements\n",
    "name, shares, price, date = data\n",
    "#or\n",
    "name, shares, price, (year, mon, day) = data\n"
   ]
  },
  {
   "cell_type": "markdown",
   "metadata": {},
   "source": [
    "In python you might want to discard data, can use a throwaway variable like \"_\" to assign to all data you don't care about"
   ]
  },
  {
   "cell_type": "code",
   "execution_count": null,
   "metadata": {},
   "outputs": [],
   "source": [
    "_, shares, price, _ = data"
   ]
  },
  {
   "cell_type": "markdown",
   "metadata": {},
   "source": [
    "If you don't know how many elements you want to unpack you can yuse the * operator to be flexible"
   ]
  },
  {
   "cell_type": "code",
   "execution_count": null,
   "metadata": {},
   "outputs": [],
   "source": [
    "def drop_first_last(grades):\n",
    "    first, *middle, last = grades\n",
    "    return avg(middle)"
   ]
  },
  {
   "cell_type": "code",
   "execution_count": null,
   "metadata": {},
   "outputs": [],
   "source": [
    "record = ('Dave', 'dave@example.com', '773-555-1212', '847-555-1212')\n",
    "name, email, *phone_numbers = record\n",
    "print(phone_numbers)"
   ]
  },
  {
   "cell_type": "markdown",
   "metadata": {},
   "source": [
    "It is worth noting that the star syntax can be especially useful when iterating over a\n",
    "sequence of tuples of varying length. For example, perhaps a sequence of tagged tuples:"
   ]
  },
  {
   "cell_type": "code",
   "execution_count": null,
   "metadata": {},
   "outputs": [],
   "source": [
    "records = [\n",
    "    ('foo', 1, 2),\n",
    "    ('bar', 'hello'),\n",
    "    ('foo', 3, 4),\n",
    "]\n",
    "\n",
    "def do_foo(x, y):\n",
    "    print('foo', x, y)\n",
    "    \n",
    "def do_bar(s):\n",
    "    print('bar', s)\n",
    "    for tag, *args in records:\n",
    "        if tag == 'foo':\n",
    "            do_foo(*args)\n",
    "        elif tag == 'bar':\n",
    "            do_bar(*args)"
   ]
  },
  {
   "cell_type": "markdown",
   "metadata": {},
   "source": [
    "Star unpacking can also be useful when combined with certain kinds of string processing\n",
    "operations, such as splitting. For example:"
   ]
  },
  {
   "cell_type": "code",
   "execution_count": null,
   "metadata": {},
   "outputs": [],
   "source": [
    "line = 'nobody:*:-2:-2:Unprivileged User:/var/empty:/usr/bin/false'\n",
    "uname, *fields, homedir, sh = line.split(':')"
   ]
  },
  {
   "cell_type": "markdown",
   "metadata": {},
   "source": [
    "throwing away variable number of arguments:"
   ]
  },
  {
   "cell_type": "code",
   "execution_count": null,
   "metadata": {},
   "outputs": [],
   "source": [
    "record = ('ACME', 50, 123.45, (12, 18, 2012))\n",
    "name, *_, (*_, year) = record"
   ]
  },
  {
   "cell_type": "markdown",
   "metadata": {},
   "source": [
    "Example of inline if else statement\n",
    "\n",
    "syntax is as follows <i> expression_if_true if condition else expression_if_false </i>"
   ]
  },
  {
   "cell_type": "code",
   "execution_count": null,
   "metadata": {},
   "outputs": [],
   "source": [
    "def sumTest(items):\n",
    "    head, *tail = items\n",
    "    return head + sum(tail) if tail else head"
   ]
  },
  {
   "cell_type": "markdown",
   "metadata": {},
   "source": [
    "deque is a usefull data structure for keeping track of the last N items in a searching function"
   ]
  },
  {
   "cell_type": "code",
   "execution_count": null,
   "metadata": {},
   "outputs": [],
   "source": [
    "from collections import deque\n",
    "\n",
    "def search(lines, pattern, history=5):\n",
    "    previous_lines = deque(maxlen=history)\n",
    "    for line in lines:\n",
    "        if pattern in line:\n",
    "            yield line, previous_lines\n",
    "    previous_lines.append(line)\n",
    "\n",
    "# Example use on a file\n",
    "if __name__ == '__main__':\n",
    "    with open('somefile.txt') as f:\n",
    "        for line, prevlines in search(f, 'python', 5):\n",
    "            for pline in prevlines:\n",
    "                print(pline, end='')\n",
    "            print(line, end='')\n",
    "            print('-'*20)"
   ]
  },
  {
   "cell_type": "code",
   "execution_count": null,
   "metadata": {},
   "outputs": [],
   "source": [
    "print('hello',end='')\n",
    "print('world', end='')\n",
    "print('-'*20)"
   ]
  },
  {
   "cell_type": "markdown",
   "metadata": {},
   "source": [
    "The syntax ('expression' for 'var' in 'iterable' [if 'condition']) specifies the general form for a generator comprehension. This produces a generator, whose instructions for generating its members are provided within the parenthetical statement."
   ]
  },
  {
   "cell_type": "code",
   "execution_count": null,
   "metadata": {},
   "outputs": [],
   "source": [
    "#(<expression> for <var> in <iterable> if <condition>)\n",
    "#\n",
    "# is equivalent to:\n",
    "#\n",
    "#for <var> in <iterable>:\n",
    "#    if bool(<condition>):\n",
    "#        yield <expression>"
   ]
  },
  {
   "cell_type": "markdown",
   "metadata": {},
   "source": [
    "When debugging in console it's helpful to use the built in generator function <code>next(gen_name)</code> to get the next iterated value reported by the generator"
   ]
  },
  {
   "cell_type": "code",
   "execution_count": null,
   "metadata": {},
   "outputs": [],
   "source": [
    "print(11.1//4.2)"
   ]
  },
  {
   "cell_type": "markdown",
   "metadata": {},
   "source": [
    "# Testing generators"
   ]
  },
  {
   "cell_type": "code",
   "execution_count": 2,
   "metadata": {},
   "outputs": [
    {
     "name": "stdout",
     "output_type": "stream",
     "text": [
      "Total series A fundraising: $18500000\n"
     ]
    }
   ],
   "source": [
    "file_name = \"techcrunch.csv\"\n",
    "lines = (line for line in open(file_name))\n",
    "list_line = (s.rstrip().split(\",\") for s in lines)\n",
    "cols = next(list_line)\n",
    "company_dicts = (dict(zip(cols, data)) for data in list_line)\n",
    "funding = (\n",
    "    int(company_dict[\"raisedAmt\"])\n",
    "    for company_dict in company_dicts\n",
    "    if company_dict[\"round\"] == \"a\"\n",
    ")\n",
    "total_series_a = sum(funding)\n",
    "print(f\"Total series A fundraising: ${total_series_a}\")"
   ]
  },
  {
   "cell_type": "code",
   "execution_count": 12,
   "metadata": {},
   "outputs": [
    {
     "name": "stdout",
     "output_type": "stream",
     "text": [
      "dict_items([('permalink', 'digg'), ('company', 'Digg'), ('numEmps', '60'), ('category', 'web'), ('city', 'San Francisco'), ('state', 'CA'), ('fundedDate', '1-Dec-06'), ('raisedAmt', '8500000'), ('raisedCurrency', 'USD'), ('round', 'b')])\n",
      "dict_items([('permalink', 'digg'), ('company', 'Digg'), ('numEmps', '60'), ('category', 'web'), ('city', 'San Francisco'), ('state', 'CA'), ('fundedDate', '1-Oct-05'), ('raisedAmt', '2800000'), ('raisedCurrency', 'USD'), ('round', 'a')])\n",
      "dict_items([('permalink', 'facebook'), ('company', 'Facebook'), ('numEmps', '450'), ('category', 'web'), ('city', 'Palo Alto'), ('state', 'CA'), ('fundedDate', '1-Sep-04'), ('raisedAmt', '500000'), ('raisedCurrency', 'USD'), ('round', 'angel')])\n",
      "dict_items([('permalink', 'facebook'), ('company', 'Facebook'), ('numEmps', '450'), ('category', 'web'), ('city', 'Palo Alto'), ('state', 'CA'), ('fundedDate', '1-May-05'), ('raisedAmt', '12700000'), ('raisedCurrency', 'USD'), ('round', 'a')])\n",
      "dict_items([('permalink', 'photobucket'), ('company', 'Photobucket'), ('numEmps', '60'), ('category', 'web'), ('city', 'Palo Alto'), ('state', 'CA'), ('fundedDate', '1-Mar-05'), ('raisedAmt', '3000000'), ('raisedCurrency', 'USD'), ('round', 'a')])\n"
     ]
    }
   ],
   "source": [
    "file_name = \"techcrunch.csv\"\n",
    "lines = (line for line in open(file_name))\n",
    "list_line = (s.rstrip().split(\",\") for s in lines)\n",
    "cols = next(list_line)\n",
    "company_dicts = (dict(zip(cols, data)) for data in list_line)\n",
    "\n",
    "for cd in company_dicts:\n",
    "    print(cd.items())\n"
   ]
  },
  {
   "cell_type": "code",
   "execution_count": 10,
   "metadata": {},
   "outputs": [
    {
     "name": "stdout",
     "output_type": "stream",
     "text": [
      "<class 'list'>\n",
      "<class 'list'>\n",
      "[1, 23, 3]\n",
      "[1, 23, 3]\n"
     ]
    }
   ],
   "source": [
    "nums = [1,23,3]\n",
    "print(type(nums))\n",
    "test = list(nums)\n",
    "print(type(test))\n",
    "print(nums)\n",
    "print(test)"
   ]
  },
  {
   "cell_type": "markdown",
   "metadata": {},
   "source": [
    "<strong> Priority Queue Implementation </strong>"
   ]
  },
  {
   "cell_type": "code",
   "execution_count": 13,
   "metadata": {},
   "outputs": [],
   "source": [
    "import heapq\n",
    "\n",
    "class PriorityQueue:\n",
    "    def __init__(self):\n",
    "        self._queue = []\n",
    "        self._index = 0\n",
    "\n",
    "    def push(self, item, priority):\n",
    "        heapq.heappush(self._queue, (-priority, self._index, item))\n",
    "        self._index += 1\n",
    "\n",
    "    def pop(self):\n",
    "        return heapq.heappop(self._queue)[-1]"
   ]
  },
  {
   "cell_type": "markdown",
   "metadata": {},
   "source": [
    "Using defaultdict can help clean up the process of creating a multivalued dictionary of keys mapped to lists. It helps make it so you don't have to initialize keys yourself:"
   ]
  },
  {
   "cell_type": "code",
   "execution_count": null,
   "metadata": {},
   "outputs": [],
   "source": [
    "#not so clean way\n",
    "d = {}\n",
    "for key, value in pairs:\n",
    "    if key not in d:\n",
    "        d[key] = []\n",
    "d[key].append(value)\n",
    "\n",
    "# much cleaner way with default dict\n",
    "d = defaultdict(list)\n",
    "for key, value in pairs:\n",
    "    d[key].append(value)"
   ]
  },
  {
   "cell_type": "markdown",
   "metadata": {},
   "source": [
    "Ordered dictionaries preserve the order that values are inserted. this is particularly useful when you want to serialize data into a JSON and preserve the order of the field for processing on the receiving end.\n",
    "\n",
    "NOTE:memory size of the ordered dict is almost twice a normal dict, keeps track of ordering in a doubly linked list"
   ]
  },
  {
   "cell_type": "markdown",
   "metadata": {},
   "source": [
    "<strong> Remove duplicates and maintain order in a sequence </strong>"
   ]
  },
  {
   "cell_type": "code",
   "execution_count": 14,
   "metadata": {},
   "outputs": [],
   "source": [
    "def dedupe(items, key=None):\n",
    "    seen = set()\n",
    "    for item in items:\n",
    "        val = item if key is None else key(item)\n",
    "        if val not in seen:\n",
    "            yield item\n",
    "            seen.add(val)"
   ]
  },
  {
   "cell_type": "code",
   "execution_count": null,
   "metadata": {},
   "outputs": [],
   "source": []
  }
 ],
 "metadata": {
  "kernelspec": {
   "display_name": "Python 3",
   "language": "python",
   "name": "python3"
  },
  "language_info": {
   "codemirror_mode": {
    "name": "ipython",
    "version": 3
   },
   "file_extension": ".py",
   "mimetype": "text/x-python",
   "name": "python",
   "nbconvert_exporter": "python",
   "pygments_lexer": "ipython3",
   "version": "3.6.9"
  }
 },
 "nbformat": 4,
 "nbformat_minor": 4
}
