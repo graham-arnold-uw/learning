{
 "cells": [
  {
   "cell_type": "code",
   "execution_count": 7,
   "metadata": {},
   "outputs": [],
   "source": [
    "def merge_intervals(intervals):\n",
    "    n = len(intervals)\n",
    "    intervals = sorted(intervals)\n",
    "    merged_intervals = []\n",
    "    merged_intervals.append(intervals[0])\n",
    "    \n",
    "    for i in range(1,n):\n",
    "        cs,ce = intervals[i]\n",
    "        ls, le = merged_intervals[-1]\n",
    "        if cs <= le and ce >= ls:\n",
    "            merged_intervals[-1][0] = min(cs, ls)\n",
    "            merged_intervals[-1][1] = max(ce, le)\n",
    "        else:\n",
    "            merged_intervals.append(intervals[i])\n",
    "    \n",
    "    return merged_intervals\n"
   ]
  },
  {
   "cell_type": "code",
   "execution_count": 8,
   "metadata": {},
   "outputs": [
    {
     "name": "stdout",
     "output_type": "stream",
     "text": [
      "[[0, 6], [7, 7], [8, 8], [9, 13]]\n"
     ]
    }
   ],
   "source": [
    "test = [[0,5],[1,3],[4,6],[7,7],[8,8],[9,12],[11,13]]\n",
    "res = merge_intervals(test)\n",
    "print(res)"
   ]
  },
  {
   "cell_type": "code",
   "execution_count": null,
   "metadata": {},
   "outputs": [],
   "source": []
  }
 ],
 "metadata": {
  "kernelspec": {
   "display_name": "Python 3",
   "language": "python",
   "name": "python3"
  },
  "language_info": {
   "codemirror_mode": {
    "name": "ipython",
    "version": 3
   },
   "file_extension": ".py",
   "mimetype": "text/x-python",
   "name": "python",
   "nbconvert_exporter": "python",
   "pygments_lexer": "ipython3",
   "version": "3.6.9"
  }
 },
 "nbformat": 4,
 "nbformat_minor": 4
}
