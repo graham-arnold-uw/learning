{
 "cells": [
  {
   "cell_type": "code",
   "execution_count": 9,
   "metadata": {},
   "outputs": [
    {
     "name": "stdout",
     "output_type": "stream",
     "text": [
      "[(2.23606797749979, 1, 2), (2.23606797749979, 2, 1), (6.708203932499369, 3, 6), (9.433981132056603, 5, 8), (6.708203932499369, 6, 3), (4.47213595499958, 2, 4), (3.605551275463989, 2, 3), (10.816653826391969, 6, 9), (10.44030650891055, 3, 10), (13.45362404707371, 9, 10)]\n",
      "\n",
      "[(2.23606797749979, 1, 2), (2.23606797749979, 2, 1), (3.605551275463989, 2, 3), (4.47213595499958, 2, 4), (6.708203932499369, 3, 6), (6.708203932499369, 6, 3), (9.433981132056603, 5, 8), (10.44030650891055, 3, 10), (10.816653826391969, 6, 9), (13.45362404707371, 9, 10)]\n"
     ]
    }
   ],
   "source": [
    "import math\n",
    "arr = [[1,2], [2,1], [3,6], [5,8], [6,3], [2,4], [2,3], [6,9], [3,10], [9,10] ]\n",
    "res = []\n",
    "for item in arr:\n",
    "    x, y = item\n",
    "    d = math.sqrt(x*x + y*y)\n",
    "    res.append((d, x, y))\n",
    "print(res)\n",
    "print()\n",
    "print(sorted(res))"
   ]
  },
  {
   "cell_type": "code",
   "execution_count": 12,
   "metadata": {},
   "outputs": [
    {
     "data": {
      "text/plain": [
       "True"
      ]
     },
     "execution_count": 12,
     "metadata": {},
     "output_type": "execute_result"
    }
   ],
   "source": [
    "math.isclose(res[0][0], res[1][0])"
   ]
  },
  {
   "cell_type": "code",
   "execution_count": null,
   "metadata": {},
   "outputs": [],
   "source": [
    "#!/bin/python3\n",
    "\n",
    "import math\n",
    "import os\n",
    "import random\n",
    "import re\n",
    "import sys\n",
    "\n",
    "\n",
    "\n",
    "#\n",
    "# Complete the 'bestCombo' function below.\n",
    "#\n",
    "# The function is expected to return a LONG_INTEGER_ARRAY.\n",
    "# The function accepts following parameters:\n",
    "#  1. INTEGER_ARRAY popularity\n",
    "#  2. INTEGER k\n",
    "#\n",
    "import heapq\n",
    "\n",
    "def bestCombo(popularity, k):\n",
    "    # Write your code here\n",
    "    n = len(popularity)\n",
    "    popularity_s = sorted(popularity)\n",
    "    heap = []\n",
    "    curr_sum = 0\n",
    "    empty_used = False\n",
    "    \n",
    "    for i in range(n - 1, -1, -1):\n",
    "        curr_sum += popularity_s[i]\n",
    "        if len(heap) < k:\n",
    "            if curr_sum <= 0:\n",
    "                if not empty_used:\n",
    "                    heapq.heappush(heap, 0)\n",
    "                    empty_used = True\n",
    "                else:\n",
    "                    heapq.heappush(heap, curr_sum)\n",
    "            else:\n",
    "                heapq.heappush(heap, curr_sum)   \n",
    "        else:\n",
    "            min_rating = heap[0]\n",
    "            if curr_sum <= 0:\n",
    "                if not empty_used:\n",
    "                    if 0 > min_rating:\n",
    "                        _ = heapq.heappop(heap)\n",
    "                        heapq.heappush(curr_sum)\n",
    "                    empty_used = True\n",
    "                else:\n",
    "                    if curr_sum > min_rating:\n",
    "                        _ = heapq.heappop(heap)\n",
    "                        heapq.heappush(curr_sum)\n",
    "                    \n",
    "            else: \n",
    "                if curr_sum > min_rating:\n",
    "                    _ = heapq.heappop(heap)\n",
    "                    heapq.heappush(curr_sum)\n",
    "    \n",
    "    res = sorted(heap, key = lambda x: -x)\n",
    "    return res\n",
    "    \n",
    "\n",
    "if __name__ == '__main__':\n",
    "    fptr = open(os.environ['OUTPUT_PATH'], 'w')\n",
    "\n",
    "    popularity_count = int(input().strip())\n",
    "\n",
    "    popularity = []\n",
    "\n",
    "    for _ in range(popularity_count):\n",
    "        popularity_item = int(input().strip())\n",
    "        popularity.append(popularity_item)\n",
    "\n",
    "    k = int(input().strip())\n",
    "\n",
    "    result = bestCombo(popularity, k)\n",
    "\n",
    "    fptr.write('\\n'.join(map(str, result)))\n",
    "    fptr.write('\\n')\n",
    "\n",
    "    fptr.close()\n"
   ]
  },
  {
   "cell_type": "code",
   "execution_count": 14,
   "metadata": {},
   "outputs": [
    {
     "ename": "TypeError",
     "evalue": "sum() takes no keyword arguments",
     "output_type": "error",
     "traceback": [
      "\u001b[0;31m---------------------------------------------------------------------------\u001b[0m",
      "\u001b[0;31mTypeError\u001b[0m                                 Traceback (most recent call last)",
      "\u001b[0;32m<ipython-input-14-d784fab0f988>\u001b[0m in \u001b[0;36m<module>\u001b[0;34m\u001b[0m\n\u001b[1;32m      1\u001b[0m \u001b[0marr\u001b[0m \u001b[0;34m=\u001b[0m \u001b[0;34m[\u001b[0m\u001b[0;36m0\u001b[0m\u001b[0;34m,\u001b[0m\u001b[0;36m0\u001b[0m\u001b[0;34m,\u001b[0m\u001b[0;36m0\u001b[0m\u001b[0;34m,\u001b[0m\u001b[0;36m0\u001b[0m\u001b[0;34m]\u001b[0m\u001b[0;34m\u001b[0m\u001b[0;34m\u001b[0m\u001b[0m\n\u001b[0;32m----> 2\u001b[0;31m \u001b[0msum\u001b[0m\u001b[0;34m(\u001b[0m\u001b[0marr\u001b[0m\u001b[0;34m,\u001b[0m \u001b[0mstart\u001b[0m\u001b[0;34m=\u001b[0m\u001b[0;36m2\u001b[0m\u001b[0;34m)\u001b[0m\u001b[0;34m\u001b[0m\u001b[0;34m\u001b[0m\u001b[0m\n\u001b[0m",
      "\u001b[0;31mTypeError\u001b[0m: sum() takes no keyword arguments"
     ]
    }
   ],
   "source": [
    "arr = [0,0,0,0]\n",
    "sum(arr, start=2)"
   ]
  },
  {
   "cell_type": "code",
   "execution_count": null,
   "metadata": {},
   "outputs": [],
   "source": []
  }
 ],
 "metadata": {
  "kernelspec": {
   "display_name": "Python 3",
   "language": "python",
   "name": "python3"
  },
  "language_info": {
   "codemirror_mode": {
    "name": "ipython",
    "version": 3
   },
   "file_extension": ".py",
   "mimetype": "text/x-python",
   "name": "python",
   "nbconvert_exporter": "python",
   "pygments_lexer": "ipython3",
   "version": "3.6.9"
  }
 },
 "nbformat": 4,
 "nbformat_minor": 4
}
