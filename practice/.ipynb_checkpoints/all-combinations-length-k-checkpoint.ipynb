{
 "cells": [
  {
   "cell_type": "code",
   "execution_count": 8,
   "metadata": {},
   "outputs": [],
   "source": [
    "def all_combinations_len_k(nums, k):\n",
    "    \n",
    "    def combo_helper(index, path):\n",
    "        if len(path) == k:\n",
    "            global_res.append(path.copy())\n",
    "            return\n",
    "        \n",
    "        for i in range(index, n):\n",
    "            path.append(nums[i])\n",
    "            combo_helper(i + 1, path)\n",
    "            path.pop()\n",
    "    \n",
    "    global_res = []\n",
    "    n = len(nums)\n",
    "    path = []\n",
    "    combo_helper(0,path)\n",
    "    return global_res\n",
    "    "
   ]
  },
  {
   "cell_type": "code",
   "execution_count": 11,
   "metadata": {},
   "outputs": [
    {
     "name": "stdout",
     "output_type": "stream",
     "text": [
      "[[1, 2, 3], [1, 2, 4], [1, 2, 5], [1, 2, 6], [1, 3, 4], [1, 3, 5], [1, 3, 6], [1, 4, 5], [1, 4, 6], [1, 5, 6], [2, 3, 4], [2, 3, 5], [2, 3, 6], [2, 4, 5], [2, 4, 6], [2, 5, 6], [3, 4, 5], [3, 4, 6], [3, 5, 6], [4, 5, 6]]\n"
     ]
    }
   ],
   "source": [
    "test_combo = [1,2,3,4,5,6]\n",
    "res = all_combinations_len_k(test_combo, 3)\n",
    "print(res)"
   ]
  },
  {
   "cell_type": "code",
   "execution_count": 12,
   "metadata": {},
   "outputs": [],
   "source": [
    "def all_subset(nums):\n",
    "    \n",
    "    def combo_helper(index, path):\n",
    "        if len(path) == k:\n",
    "            global_res.append(path.copy())\n",
    "            return\n",
    "        \n",
    "        for i in range(index, n):\n",
    "            path.append(nums[i])\n",
    "            combo_helper(i + 1, path)\n",
    "            path.pop()\n",
    "    \n",
    "    global_res = []\n",
    "    n = len(nums)\n",
    "    for k in range(n + 1):\n",
    "        path = []\n",
    "        combo_helper(0, path)\n",
    "    return global_res\n",
    "    "
   ]
  },
  {
   "cell_type": "code",
   "execution_count": 13,
   "metadata": {},
   "outputs": [
    {
     "name": "stdout",
     "output_type": "stream",
     "text": [
      "[[], [1], [2], [3], [1, 2], [1, 3], [2, 3], [1, 2, 3]]\n"
     ]
    }
   ],
   "source": [
    "test_combo = [1,2,3]\n",
    "res = all_subset(test_combo)\n",
    "print(res)"
   ]
  },
  {
   "cell_type": "code",
   "execution_count": null,
   "metadata": {},
   "outputs": [],
   "source": []
  }
 ],
 "metadata": {
  "kernelspec": {
   "display_name": "Python 3",
   "language": "python",
   "name": "python3"
  },
  "language_info": {
   "codemirror_mode": {
    "name": "ipython",
    "version": 3
   },
   "file_extension": ".py",
   "mimetype": "text/x-python",
   "name": "python",
   "nbconvert_exporter": "python",
   "pygments_lexer": "ipython3",
   "version": "3.6.9"
  }
 },
 "nbformat": 4,
 "nbformat_minor": 4
}
