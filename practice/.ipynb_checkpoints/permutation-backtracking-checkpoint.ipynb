{
 "cells": [
  {
   "cell_type": "code",
   "execution_count": 17,
   "metadata": {},
   "outputs": [],
   "source": [
    "def string_permutations(s):\n",
    "    \n",
    "    def permute_helper(s, idx, n, visited, path):\n",
    "        if idx == n:\n",
    "            global_res.append(\"\".join(path))\n",
    "        \n",
    "        for i in range(n):\n",
    "            if visited[i] != True:\n",
    "                path.append(s[i])\n",
    "                visited[i] = True\n",
    "                permute_helper(s, idx + 1, n, visited, path)\n",
    "                path.pop()\n",
    "                visited[i] = False\n",
    "    \n",
    "    n = len(s)\n",
    "    global_res = []\n",
    "    visited = [False for i in range(n)]\n",
    "    for i in range(n):\n",
    "        path = [s[i]]\n",
    "        visited[i] = True\n",
    "        permute_helper(s,1,n, visited, path)\n",
    "        visited[i] = False\n",
    "    \n",
    "    return global_res"
   ]
  },
  {
   "cell_type": "code",
   "execution_count": 18,
   "metadata": {},
   "outputs": [
    {
     "name": "stdout",
     "output_type": "stream",
     "text": [
      "['tha', 'tah', 'hta', 'hat', 'ath', 'aht']\n"
     ]
    }
   ],
   "source": [
    "s_test = 'tha'\n",
    "res = string_permutations(s_test)\n",
    "print(res)"
   ]
  },
  {
   "cell_type": "code",
   "execution_count": null,
   "metadata": {},
   "outputs": [],
   "source": []
  }
 ],
 "metadata": {
  "kernelspec": {
   "display_name": "Python 3",
   "language": "python",
   "name": "python3"
  },
  "language_info": {
   "codemirror_mode": {
    "name": "ipython",
    "version": 3
   },
   "file_extension": ".py",
   "mimetype": "text/x-python",
   "name": "python",
   "nbconvert_exporter": "python",
   "pygments_lexer": "ipython3",
   "version": "3.6.9"
  }
 },
 "nbformat": 4,
 "nbformat_minor": 4
}
