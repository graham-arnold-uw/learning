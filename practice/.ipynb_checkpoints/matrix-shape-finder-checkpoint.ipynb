{
 "cells": [
  {
   "cell_type": "code",
   "execution_count": 2,
   "metadata": {},
   "outputs": [],
   "source": [
    "def find_square(mat):\n",
    "    m = len(mat)\n",
    "    n = len(mat[0])\n",
    "\n",
    "   #do error checks for matrix dimensions\n",
    "\n",
    "    for i in range(m - 1):\n",
    "        for tl in range(n - 1):\n",
    "            for tr in range(tl + 1, n):\n",
    "                if mat[i][tl] == 1 and mat[i][tr] == 1:\n",
    "                    if search_bottom(mat, i, tl, tr):\n",
    "                        return True\n",
    "    return False\n",
    "\n",
    "\n",
    "\n",
    "def search_bottom(mat, row, tl, tr):\n",
    "    d = tr - tl\n",
    "    brow = row + d\n",
    "    if mat[brow][tl] == 1 and mat[brow][tr] == 1:\n",
    "        return True\n"
   ]
  },
  {
   "cell_type": "code",
   "execution_count": 9,
   "metadata": {},
   "outputs": [
    {
     "name": "stdout",
     "output_type": "stream",
     "text": [
      "False\n"
     ]
    }
   ],
   "source": [
    "t_mat = [[0, 0, 0, 1, 1, 0], [1, 1, 0, 0, 1, 0], \n",
    "         [0, 0, 0, 0, 0, 0], [0, 0, 0, 0, 0, 0], [0, 0, 0, 0, 0, 0], [0, 0, 0, 0, 0, 0]]\n",
    "\n",
    "print(find_square(t_mat))"
   ]
  },
  {
   "cell_type": "code",
   "execution_count": null,
   "metadata": {},
   "outputs": [],
   "source": []
  },
  {
   "cell_type": "code",
   "execution_count": 13,
   "metadata": {},
   "outputs": [],
   "source": [
    "#Generalizing to find any rectangle present in the matrix\n",
    "\n",
    "def find_rectangle(mat):\n",
    "    m = len(mat)\n",
    "    n = len(mat[0])\n",
    "\n",
    "   #do error checks for matrix dimensions\n",
    "\n",
    "    for i in range(m - 1):\n",
    "        for tl in range(n - 1):\n",
    "            for tr in range(tl + 1, n):\n",
    "                if mat[i][tl] == 1 and mat[i][tr] == 1:\n",
    "                    if search_bottom(mat, i, tl, tr):\n",
    "                        return True\n",
    "    return False\n",
    "\n",
    "\n",
    "\n",
    "def search_bottom(mat, row, tl, tr):\n",
    "    \n",
    "    num_rows = len(mat)\n",
    "    \n",
    "    for i in range(row + 1, num_rows):\n",
    "        if mat[i][tl] == 1 and mat[i][tr] == 1:\n",
    "            return True"
   ]
  },
  {
   "cell_type": "code",
   "execution_count": 16,
   "metadata": {},
   "outputs": [
    {
     "name": "stdout",
     "output_type": "stream",
     "text": [
      "True\n"
     ]
    }
   ],
   "source": [
    "t_mat = [[0, 0, 0, 1, 0, 1], [1, 1, 0, 0, 1, 0], \n",
    "         [0, 0, 0, 0, 0, 0], [0, 0, 0, 0, 0, 0], [0, 0, 0, 0, 0, 0], [0, 0, 0, 1, 1, 1]]\n",
    "\n",
    "print(find_rectangle(t_mat))"
   ]
  },
  {
   "cell_type": "code",
   "execution_count": 27,
   "metadata": {},
   "outputs": [],
   "source": [
    "def find_diamond(mat):\n",
    "    m = len(mat)\n",
    "    n = len(mat[0])\n",
    "    \n",
    "    for i in range(m - 2):\n",
    "        for j in range(1, n - 1):\n",
    "            \n",
    "            if mat[i][j] == 1:\n",
    "                for k in range(i + 2, m, 2):\n",
    "                    if mat[k][j] == 1:\n",
    "                        d = k - i\n",
    "                        h = d // 2\n",
    "                        mr = i + h\n",
    "                        lc,rc = j - h, j + h\n",
    "                        if i == 0 and j == 2:\n",
    "                            print(f'{mr} {lc} {rc}')\n",
    "                        if mat[mr][lc] == 1 and mat[mr][rc] == 1:\n",
    "                            return True\n",
    "    return False\n",
    "                 "
   ]
  },
  {
   "cell_type": "code",
   "execution_count": 28,
   "metadata": {},
   "outputs": [
    {
     "name": "stdout",
     "output_type": "stream",
     "text": [
      "2 0 4\n",
      "True\n"
     ]
    }
   ],
   "source": [
    "d_mat = [[0, 0, 1, 0, 0, 0], [0, 0, 0, 0, 0, 0], \n",
    "         [1, 0, 0, 0, 1, 0], [0, 0, 0, 0, 0, 0], [0, 0, 1, 0, 0, 0], [0, 0, 0, 0, 0, 0]]\n",
    "\n",
    "print(find_diamond(d_mat))"
   ]
  },
  {
   "cell_type": "code",
   "execution_count": null,
   "metadata": {},
   "outputs": [],
   "source": []
  }
 ],
 "metadata": {
  "kernelspec": {
   "display_name": "Python 3",
   "language": "python",
   "name": "python3"
  },
  "language_info": {
   "codemirror_mode": {
    "name": "ipython",
    "version": 3
   },
   "file_extension": ".py",
   "mimetype": "text/x-python",
   "name": "python",
   "nbconvert_exporter": "python",
   "pygments_lexer": "ipython3",
   "version": "3.6.9"
  }
 },
 "nbformat": 4,
 "nbformat_minor": 4
}
