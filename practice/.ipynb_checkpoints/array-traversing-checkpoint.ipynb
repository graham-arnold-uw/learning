{
 "cells": [
  {
   "cell_type": "code",
   "execution_count": 1,
   "metadata": {},
   "outputs": [
    {
     "name": "stdout",
     "output_type": "stream",
     "text": [
      "[0, 1, 2, 3, 4, 5, 6, 7, 8, 9, 10, 11, 12, 13, 14, 15, 16, 17, 18, 19, 20]\n"
     ]
    }
   ],
   "source": [
    "t = list(range(21))\n",
    "print(t)\n",
    "\n",
    "def range_inc(t, s, e):\n",
    "    i  = s\n",
    "    out = []\n",
    "    while i <= e:\n",
    "        out.append(t[i])\n",
    "        i += 1\n",
    "        \n",
    "    return out\n",
    "\n",
    "def range_exc(t, s, e):\n",
    "    i  = s\n",
    "    out = []\n",
    "    while i < e:\n",
    "        out.append(t[i])\n",
    "        i += 1\n",
    "        \n",
    "    return out"
   ]
  },
  {
   "cell_type": "code",
   "execution_count": 2,
   "metadata": {},
   "outputs": [],
   "source": [
    "#slide window down to end\n",
    "\n",
    "def w_slide1(t, k):\n",
    "    n = len(t)\n",
    "    ws, we = 0, k\n",
    "    \n",
    "    while we <= n:\n",
    "        print(t[ws:we])\n",
    "        ws += k\n",
    "        we += k\n",
    "    "
   ]
  },
  {
   "cell_type": "code",
   "execution_count": 3,
   "metadata": {},
   "outputs": [
    {
     "name": "stdout",
     "output_type": "stream",
     "text": [
      "[0, 1, 2]\n",
      "[3, 4, 5]\n",
      "[6, 7, 8]\n",
      "[9, 10, 11]\n",
      "[12, 13, 14]\n",
      "[15, 16, 17]\n",
      "[18, 19, 20]\n"
     ]
    }
   ],
   "source": [
    "w_slide1(t, 3)"
   ]
  },
  {
   "cell_type": "code",
   "execution_count": 14,
   "metadata": {},
   "outputs": [],
   "source": [
    "#sliding window with no initial setup\n",
    "\n",
    "def w_slide_noinit(t, k):\n",
    "    n = len(t)\n",
    "    ws,we = 0,0\n",
    "    \n",
    "    while we < n:\n",
    "       \n",
    "        res = range_inc(t,ws,we)\n",
    "        print(res)\n",
    "        we += 1\n",
    "        \n",
    "        if we > k - 1:\n",
    "            ws += 1\n",
    "       "
   ]
  },
  {
   "cell_type": "code",
   "execution_count": 15,
   "metadata": {},
   "outputs": [
    {
     "name": "stdout",
     "output_type": "stream",
     "text": [
      "[0]\n",
      "[0, 1]\n",
      "[0, 1, 2]\n",
      "[1, 2, 3]\n",
      "[2, 3, 4]\n",
      "[3, 4, 5]\n",
      "[4, 5, 6]\n",
      "[5, 6, 7]\n",
      "[6, 7, 8]\n",
      "[7, 8, 9]\n",
      "[8, 9, 10]\n",
      "[9, 10, 11]\n",
      "[10, 11, 12]\n",
      "[11, 12, 13]\n",
      "[12, 13, 14]\n",
      "[13, 14, 15]\n",
      "[14, 15, 16]\n",
      "[15, 16, 17]\n",
      "[16, 17, 18]\n",
      "[17, 18, 19]\n",
      "[18, 19, 20]\n"
     ]
    }
   ],
   "source": [
    "w_slide_noinit(t,3)"
   ]
  },
  {
   "cell_type": "code",
   "execution_count": 17,
   "metadata": {},
   "outputs": [],
   "source": [
    "#no need to keep track of we and ws\n",
    "#can start ptr k-1 places into the array\n",
    "#then just slide that and look backwards k+1 indexes\n",
    "def slide_trailing_ptr(t, k):\n",
    "    \n",
    "    n  = len(t)\n",
    "    \n",
    "    for i in range(k-1,n):\n",
    "        print([t[i-k+1], t[i]])"
   ]
  },
  {
   "cell_type": "code",
   "execution_count": 19,
   "metadata": {},
   "outputs": [
    {
     "name": "stdout",
     "output_type": "stream",
     "text": [
      "[0, 2]\n",
      "[1, 3]\n",
      "[2, 4]\n",
      "[3, 5]\n",
      "[4, 6]\n",
      "[5, 7]\n",
      "[6, 8]\n",
      "[7, 9]\n",
      "[8, 10]\n",
      "[9, 11]\n",
      "[10, 12]\n",
      "[11, 13]\n",
      "[12, 14]\n",
      "[13, 15]\n",
      "[14, 16]\n",
      "[15, 17]\n",
      "[16, 18]\n",
      "[17, 19]\n",
      "[18, 20]\n",
      "[0, 1, 2, 3, 4, 5, 6, 7, 8, 9, 10, 11, 12, 13, 14, 15, 16, 17, 18, 19, 20]\n"
     ]
    }
   ],
   "source": [
    "slide_trailing_ptr(t,3)\n",
    "print(list(range(21)))"
   ]
  },
  {
   "cell_type": "code",
   "execution_count": 21,
   "metadata": {},
   "outputs": [
    {
     "name": "stdout",
     "output_type": "stream",
     "text": [
      "[0, 2, 4, 6, 8, 10, 12, 14, 16, 18]\n"
     ]
    }
   ],
   "source": [
    "print(list(range(0,20,2)))"
   ]
  },
  {
   "cell_type": "code",
   "execution_count": 22,
   "metadata": {},
   "outputs": [
    {
     "name": "stdout",
     "output_type": "stream",
     "text": [
      "[20, 19, 18, 17, 16, 15, 14, 13, 12, 11, 10, 9, 8, 7, 6, 5, 4, 3, 2, 1, 0]\n"
     ]
    }
   ],
   "source": [
    "print(list(range(20,-1,-1)))"
   ]
  },
  {
   "cell_type": "code",
   "execution_count": null,
   "metadata": {},
   "outputs": [],
   "source": []
  }
 ],
 "metadata": {
  "kernelspec": {
   "display_name": "Python 3",
   "language": "python",
   "name": "python3"
  },
  "language_info": {
   "codemirror_mode": {
    "name": "ipython",
    "version": 3
   },
   "file_extension": ".py",
   "mimetype": "text/x-python",
   "name": "python",
   "nbconvert_exporter": "python",
   "pygments_lexer": "ipython3",
   "version": "3.6.9"
  }
 },
 "nbformat": 4,
 "nbformat_minor": 4
}
