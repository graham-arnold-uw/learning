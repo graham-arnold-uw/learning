{
 "cells": [
  {
   "cell_type": "markdown",
   "metadata": {},
   "source": [
    "Problem that I screwed up on the amazon technical assessment :/"
   ]
  },
  {
   "cell_type": "markdown",
   "metadata": {},
   "source": [
    "https://leetcode.com/discuss/interview-question/1625460/amazon-oa-find-k-maximum-priority"
   ]
  },
  {
   "cell_type": "code",
   "execution_count": 16,
   "metadata": {},
   "outputs": [],
   "source": [
    "import heapq\n",
    "\n",
    "def max_rating_combo(nums, k):\n",
    "    n = len(nums)\n",
    "    heap = []\n",
    "    \n",
    "    rating_subsets(nums, 0, 0, heap, k)\n",
    "    \n",
    "    return heap\n",
    "    \n",
    "    \n",
    "def rating_subsets(nums, i, sum_here, heap, k):\n",
    "    \n",
    "    for j in range(i, len(nums)):\n",
    "        next_sum = sum_here + nums[j]\n",
    "        heapq.heappush(heap, next_sum)\n",
    "        if len(heap) > k:\n",
    "            _ = heapq.heappop(heap)\n",
    "        \n",
    "        rating_subsets(nums, j + 1, next_sum, heap, k)\n",
    "    \n"
   ]
  },
  {
   "cell_type": "code",
   "execution_count": 23,
   "metadata": {},
   "outputs": [
    {
     "name": "stdout",
     "output_type": "stream",
     "text": [
      "[-4, -3, -1]\n"
     ]
    }
   ],
   "source": [
    "test_ratings = [-1, -9, -3]\n",
    "\n",
    "res = max_rating_combo(test_ratings, 3)\n",
    "print(res)"
   ]
  },
  {
   "cell_type": "code",
   "execution_count": null,
   "metadata": {},
   "outputs": [],
   "source": [
    "nth_bit = 1 << n\n",
    "for i in range(2**n):\n",
    "    # generate bitmask, from 0..00 to 1..11\n",
    "    bitmask = bin(i | nth_bit)[3:]"
   ]
  },
  {
   "cell_type": "code",
   "execution_count": 25,
   "metadata": {},
   "outputs": [
    {
     "name": "stdout",
     "output_type": "stream",
     "text": [
      "0b1010\n"
     ]
    }
   ],
   "source": [
    "print(bin(10))"
   ]
  },
  {
   "cell_type": "code",
   "execution_count": 27,
   "metadata": {},
   "outputs": [
    {
     "name": "stdout",
     "output_type": "stream",
     "text": [
      "0b1001\n"
     ]
    }
   ],
   "source": [
    "nth_bit = 1 << 3\n",
    "print(bin(1 | nth_bit))"
   ]
  },
  {
   "cell_type": "code",
   "execution_count": 29,
   "metadata": {},
   "outputs": [
    {
     "name": "stdout",
     "output_type": "stream",
     "text": [
      "0b1000\n",
      "0b1001\n",
      "0b1010\n",
      "0b1011\n",
      "0b1100\n",
      "0b1101\n",
      "0b1110\n",
      "0b1111\n"
     ]
    }
   ],
   "source": [
    "n = 3\n",
    "for i in range(2**n, 2**(n + 1)):\n",
    "    # generate bitmask, from 0..00 to 1..11\n",
    "    print(bin(i))"
   ]
  },
  {
   "cell_type": "code",
   "execution_count": null,
   "metadata": {},
   "outputs": [],
   "source": []
  }
 ],
 "metadata": {
  "kernelspec": {
   "display_name": "Python 3",
   "language": "python",
   "name": "python3"
  },
  "language_info": {
   "codemirror_mode": {
    "name": "ipython",
    "version": 3
   },
   "file_extension": ".py",
   "mimetype": "text/x-python",
   "name": "python",
   "nbconvert_exporter": "python",
   "pygments_lexer": "ipython3",
   "version": "3.6.9"
  }
 },
 "nbformat": 4,
 "nbformat_minor": 4
}
