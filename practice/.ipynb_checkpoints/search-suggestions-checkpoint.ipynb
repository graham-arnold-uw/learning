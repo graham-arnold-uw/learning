{
 "cells": [
  {
   "cell_type": "markdown",
   "metadata": {},
   "source": [
    "Amazon career presenetation: https://youtu.be/9-JWIJOTbGA\n"
   ]
  },
  {
   "cell_type": "code",
   "execution_count": 9,
   "metadata": {},
   "outputs": [],
   "source": [
    "from collections import defaultdict\n",
    "\n",
    "def search_suggestions(repo, query):\n",
    "    \n",
    "    n = len(query)\n",
    "    if n < 2:\n",
    "        return []\n",
    "    \n",
    "    m = len(repo)\n",
    "    cand_set = set(repo)\n",
    "    query = query.lower()\n",
    "    repo = [el.lower() for el in repo]\n",
    "    #cand_active = [True for term in repo]\n",
    "    res = []\n",
    "    \n",
    "    for i in range(n):\n",
    "        curr_out = []\n",
    "        q_char = query[i]\n",
    "        deact = set()\n",
    "        for term in cand_set:\n",
    "            if term[i] == q_char:\n",
    "                curr_out.append(term)\n",
    "            else:\n",
    "                deact.add(term)\n",
    "        \n",
    "        for d in deact:\n",
    "            cand_set.remove(d)\n",
    "            \n",
    "        if i > 0:\n",
    "            if len(curr_out) > 3:\n",
    "                curr_out.sort()\n",
    "                curr_out = curr_out[:3]\n",
    "            res.append(curr_out)\n",
    "    \n",
    "    return res\n",
    "\n",
    "def init_ptrs(repo):\n",
    "    out = set()\n",
    "    \n",
    "    for term in repo:\n",
    "        out.add(term)\n",
    "    \n",
    "    return out"
   ]
  },
  {
   "cell_type": "code",
   "execution_count": 15,
   "metadata": {},
   "outputs": [
    {
     "name": "stdout",
     "output_type": "stream",
     "text": [
      "[['mobile', 'moneypot', 'monitor'], ['mouse', 'mousepad'], ['mouse', 'mousepad'], ['mouse', 'mousepad']]\n",
      "[]\n"
     ]
    }
   ],
   "source": [
    "t_repo = ['mouse', 'mobile', 'monitor','mousepad','moneypot']\n",
    "t_q1 = 'mouse'\n",
    "\n",
    "res1 = search_suggestions(t_repo, t_q1)\n",
    "print(res1)\n",
    "\n",
    "t_repo2 = ['lamb','lump', 'laminate']\n",
    "t_q2 = 't'\n",
    "\n",
    "res2 = search_suggestions(t_repo2, t_q2)\n",
    "print(res2)"
   ]
  },
  {
   "cell_type": "code",
   "execution_count": 5,
   "metadata": {},
   "outputs": [
    {
     "name": "stdout",
     "output_type": "stream",
     "text": [
      "['monitor', 'mouse', 'mousepad', 'mobile', 'moneypot']\n",
      "['mobile', 'moneypot', 'monitor', 'mouse', 'mousepad']\n"
     ]
    }
   ],
   "source": [
    "\n",
    "cr = ['monitor', 'mouse', 'mousepad', 'mobile', 'moneypot',]\n",
    "print(cr)\n",
    "cr.sort()\n",
    "print(cr)"
   ]
  },
  {
   "cell_type": "code",
   "execution_count": 8,
   "metadata": {},
   "outputs": [
    {
     "name": "stdout",
     "output_type": "stream",
     "text": [
      "[1, 1, 1, 1, 1]\n"
     ]
    }
   ],
   "source": [
    "cr = ['monitor', 'mouse', 'mousepad', 'mobile', 'moneypot',]\n",
    "b = [1 for i in cr]\n",
    "print(b)"
   ]
  },
  {
   "cell_type": "code",
   "execution_count": 16,
   "metadata": {},
   "outputs": [
    {
     "name": "stdout",
     "output_type": "stream",
     "text": [
      "['monitor', 'mouse', 'mousepad', 'm=mobile', 'moneypot']\n"
     ]
    }
   ],
   "source": [
    "cr = ['monitor', 'mouse', 'mousepad', 'm=Mobile', 'moneypot',]\n",
    "\n",
    "cr = [el.lower() for el in cr]\n",
    "\n",
    "print(cr)"
   ]
  },
  {
   "cell_type": "code",
   "execution_count": 18,
   "metadata": {},
   "outputs": [
    {
     "name": "stdout",
     "output_type": "stream",
     "text": [
      "True\n"
     ]
    }
   ],
   "source": [
    "t = 'Hello'\n",
    "print(t[0].lower() == 'h')"
   ]
  },
  {
   "cell_type": "code",
   "execution_count": null,
   "metadata": {},
   "outputs": [],
   "source": []
  }
 ],
 "metadata": {
  "kernelspec": {
   "display_name": "Python 3",
   "language": "python",
   "name": "python3"
  },
  "language_info": {
   "codemirror_mode": {
    "name": "ipython",
    "version": 3
   },
   "file_extension": ".py",
   "mimetype": "text/x-python",
   "name": "python",
   "nbconvert_exporter": "python",
   "pygments_lexer": "ipython3",
   "version": "3.6.9"
  }
 },
 "nbformat": 4,
 "nbformat_minor": 4
}
