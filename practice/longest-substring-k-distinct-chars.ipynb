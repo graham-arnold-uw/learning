{
 "cells": [
  {
   "cell_type": "markdown",
   "metadata": {},
   "source": [
    "Problem from end of this video: https://www.youtube.com/watch?v=MK-NZ4hN7rs"
   ]
  },
  {
   "cell_type": "markdown",
   "metadata": {},
   "source": [
    "Problem statement: Given an input string, find the longest substring that has at most k distinct characters in it"
   ]
  },
  {
   "cell_type": "code",
   "execution_count": 4,
   "metadata": {},
   "outputs": [],
   "source": [
    "from collections import defaultdict\n",
    "\n",
    "def longest_substring_k_distinct(s, k):\n",
    "    n = len(s)\n",
    "    \n",
    "    if n <= 1:\n",
    "        return 0 if n == 0 else 1\n",
    "    \n",
    "    if k == 0:\n",
    "        return 0\n",
    "    \n",
    "    ws,we = 0,0\n",
    "    max_window_seen = 0\n",
    "    \n",
    "    char_counts = defaultdict(lambda: 0)\n",
    "    \n",
    "    while we < n:\n",
    "        curr_char = s[we]\n",
    "        char_counts[curr_char] += 1\n",
    "        curr_distinct_count = len(char_counts.keys())\n",
    "        \n",
    "        while curr_distinct_count > k:\n",
    "            start_char = s[ws]\n",
    "            char_counts[start_char] -= 1\n",
    "            ws += 1\n",
    "            if char_counts[start_char] <= 0:\n",
    "                char_counts.pop(start_char)\n",
    "            curr_distinct_count = len(char_counts)\n",
    "        \n",
    "        curr_window_length = we - ws + 1\n",
    "        max_window_seen = max(curr_window_length, max_window_seen)\n",
    "        we += 1\n",
    "    \n",
    "    return max_window_seen\n"
   ]
  },
  {
   "cell_type": "code",
   "execution_count": 6,
   "metadata": {},
   "outputs": [
    {
     "name": "stdout",
     "output_type": "stream",
     "text": [
      "4\n"
     ]
    }
   ],
   "source": [
    "t = 'KLKKEETY'\n",
    "k = 2\n",
    "\n",
    "#n = 8\n",
    "#char_counts = {E : 2, T : 1, Y : 1 }\n",
    "#curr_distinct_count = 4\n",
    "#curr_window_length = 4\n",
    "#max_window_seen = 6\n",
    "#ws = 4\n",
    "#we = 7\n",
    "#curr_char = Y\n",
    "\n",
    "res = longest_substring_k_distinct(t,k)\n",
    "print(res)"
   ]
  },
  {
   "cell_type": "code",
   "execution_count": 11,
   "metadata": {},
   "outputs": [
    {
     "name": "stdout",
     "output_type": "stream",
     "text": [
      "1\n"
     ]
    }
   ],
   "source": [
    "t = 'ABABABAB'\n",
    "k = 1\n",
    "\n",
    "#n = 8\n",
    "#char_counts = {E : 2, T : 1, Y : 1 }\n",
    "#curr_distinct_count = 4\n",
    "#curr_window_length = 4\n",
    "#max_window_seen = 6\n",
    "#ws = 4\n",
    "#we = 7\n",
    "#curr_char = Y\n",
    "\n",
    "res = longest_substring_k_distinct(t,k)\n",
    "print(res)"
   ]
  },
  {
   "cell_type": "code",
   "execution_count": null,
   "metadata": {},
   "outputs": [],
   "source": []
  }
 ],
 "metadata": {
  "kernelspec": {
   "display_name": "Python 3",
   "language": "python",
   "name": "python3"
  },
  "language_info": {
   "codemirror_mode": {
    "name": "ipython",
    "version": 3
   },
   "file_extension": ".py",
   "mimetype": "text/x-python",
   "name": "python",
   "nbconvert_exporter": "python",
   "pygments_lexer": "ipython3",
   "version": "3.6.9"
  }
 },
 "nbformat": 4,
 "nbformat_minor": 4
}
