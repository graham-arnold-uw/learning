{
 "cells": [
  {
   "cell_type": "markdown",
   "metadata": {},
   "source": [
    "general idea would be to split string into head + permute(rest). Take permutation list output from rest and then create new output list with head place in each possible position throughout the string\n",
    "\n",
    "base case: len(s) == 1: return s\n",
    "\n",
    "maybe to be efficient return a list of string lists so its easy to insert head into position\n",
    "\n",
    "or do string splicing an concatenation??? keep an index of current placement position in loop then split string s[before index] + head + s[after_index]\n",
    "\n",
    "\n",
    "psuedo code\n"
   ]
  },
  {
   "cell_type": "code",
   "execution_count": 1,
   "metadata": {},
   "outputs": [],
   "source": [
    "#pseudo code\n",
    "def permute_wrapper(s):\n",
    "    n = len(s)\n",
    "    \n",
    "    res = permute(s, 0, n)\n",
    "    \n",
    "    return res\n",
    "\n",
    "# rest_p = list of permutations of substring\n",
    "# head = beginning element of current string\n",
    "# output = output list of permutation of current string\n",
    "def permute(s, b, e):\n",
    "    if e - b == 1:\n",
    "        return [s[b:e]]\n",
    "    \n",
    "    head, rest = s[b], s[b+1:e]\n",
    "    \n",
    "    rest_p = permute(rest, b + 1, e)\n",
    "    \n",
    "    out = zip_head(head, rest_p)\n",
    "    \n",
    "    return out\n",
    "\n",
    "def zip_head(head, rest_p):\n",
    "    m = len(rest_p)\n",
    "    rl = len(rest_p[0])\n",
    "    res = []\n",
    "    \n",
    "    for i in range(m):\n",
    "        curr_sub = rest_p[i]\n",
    "        \n",
    "     \n",
    "        for j in range(len(curr_sub)):\n",
    "            sub_res = curr_sub[0:j] + head + curr_sub[j:]\n",
    "            res.append(sub_res)\n",
    "    return res"
   ]
  },
  {
   "cell_type": "code",
   "execution_count": 21,
   "metadata": {},
   "outputs": [],
   "source": [
    "t1 = 'tha'\n",
    "exp_outp = ['tha', 'hta', 'hat', 'tah', 'ath', 'aht']\n",
    "\n",
    "#pseudo code\n",
    "def permute_wrapper(s):\n",
    "    n = len(s) # 3\n",
    "    \n",
    "    res = permute(s, 0, n)\n",
    "    \n",
    "    return res\n",
    "\n",
    "# rest_p = list of permutations of substring\n",
    "# head = beginning element of current string\n",
    "# output = output list of permutation of current string\n",
    "def permute(s, b, e): # b = 0, e = 3\n",
    "    if e - b == 1:\n",
    "        #print(s[b:e])\n",
    "        return [s[b:e]]\n",
    "    \n",
    "    head= s[b] # head = t rest = ha, level2| h = h rest = a\n",
    "   \n",
    "    rest_p = permute(s, b + 1, e) # ha, 1, 3 | level2| <- [ha ah] a, 2, 3| <- [a]\n",
    "    \n",
    "    out = zip_head(head, rest_p)\n",
    "    \n",
    "    return out\n",
    "\n",
    "def zip_head(head, rest_p): # h , [a]\n",
    "    m = len(rest_p) # 1\n",
    "    rl = len(rest_p[0]) #1 \n",
    "    res = []\n",
    "    \n",
    "    for i in range(m):\n",
    "        curr_sub = rest_p[i]\n",
    "        \n",
    "     \n",
    "        for j in range(len(curr_sub)):\n",
    "            sub_res = curr_sub[0:j] + head + curr_sub[j:] # ha, ah\n",
    "            res.append(sub_res)\n",
    "        res.append(curr_sub + head)\n",
    "    return res"
   ]
  },
  {
   "cell_type": "code",
   "execution_count": 26,
   "metadata": {},
   "outputs": [
    {
     "name": "stdout",
     "output_type": "stream",
     "text": [
      "a\n",
      "['aaa', 'aaa', 'aaa', 'aaa', 'aaa', 'aaa']\n",
      "execution time: 0.0001017330214381218\n"
     ]
    }
   ],
   "source": [
    "import time\n",
    "test = 'aaa'\n",
    "tic = time.perf_counter()\n",
    "res = permute_wrapper(test)\n",
    "toc = time.perf_counter()\n",
    "print(res) \n",
    "print(f'execution time: {toc - tic}')"
   ]
  },
  {
   "cell_type": "code",
   "execution_count": null,
   "metadata": {},
   "outputs": [],
   "source": []
  },
  {
   "cell_type": "code",
   "execution_count": null,
   "metadata": {},
   "outputs": [],
   "source": []
  }
 ],
 "metadata": {
  "kernelspec": {
   "display_name": "Python 3",
   "language": "python",
   "name": "python3"
  },
  "language_info": {
   "codemirror_mode": {
    "name": "ipython",
    "version": 3
   },
   "file_extension": ".py",
   "mimetype": "text/x-python",
   "name": "python",
   "nbconvert_exporter": "python",
   "pygments_lexer": "ipython3",
   "version": "3.6.9"
  }
 },
 "nbformat": 4,
 "nbformat_minor": 4
}
