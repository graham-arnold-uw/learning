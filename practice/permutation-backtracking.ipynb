{
 "cells": [
  {
   "cell_type": "code",
   "execution_count": 26,
   "metadata": {},
   "outputs": [],
   "source": [
    "def string_permutations(s):\n",
    "    \n",
    "    def permute_helper(s, idx, n, visited, path):\n",
    "        if idx == n:\n",
    "            global_res.append(\"\".join(path))\n",
    "            return\n",
    "        \n",
    "        for i in range(n):\n",
    "            if visited[i] != True:\n",
    "                path.append(s[i])\n",
    "                visited[i] = True\n",
    "                permute_helper(s, idx + 1, n, visited, path)\n",
    "                path.pop()\n",
    "                visited[i] = False\n",
    "    \n",
    "    n = len(s)\n",
    "    global_res = []\n",
    "    visited = [False for i in range(n)]\n",
    "    permute_helper(s,0,n, visited, [])\n",
    "\n",
    "    return global_res"
   ]
  },
  {
   "cell_type": "code",
   "execution_count": 27,
   "metadata": {},
   "outputs": [
    {
     "name": "stdout",
     "output_type": "stream",
     "text": [
      "['tha', 'tah', 'hta', 'hat', 'ath', 'aht']\n"
     ]
    }
   ],
   "source": [
    "s_test = 'tha'\n",
    "res = string_permutations(s_test)\n",
    "print(res)"
   ]
  },
  {
   "cell_type": "code",
   "execution_count": 19,
   "metadata": {},
   "outputs": [
    {
     "name": "stdout",
     "output_type": "stream",
     "text": [
      "[0, 0, 1, 0]\n"
     ]
    }
   ],
   "source": [
    "def string_permutations(s):\n",
    "    \n",
    "    def permute_helper(s, idx, n, visited, path):\n",
    "        if idx == n:\n",
    "            global_res.append(\"\".join(path))\n",
    "        \n",
    "        for i in range(n):\n",
    "            if visited[i] != True:\n",
    "                path.append(s[i])\n",
    "                visited[i] = True\n",
    "                permute_helper(s, idx + 1, n, visited, path)\n",
    "                path.pop()\n",
    "                visited[i] = False\n",
    "    \n",
    "    n = len(s)\n",
    "    global_res = []\n",
    "    visited = [False for i in range(n)]\n",
    "    for i in range(n):\n",
    "        path = [s[i]]\n",
    "        visited[i] = True\n",
    "        permute_helper(s,1,n, visited, path)\n",
    "        visited[i] = False\n",
    "    \n",
    "    return global_res"
   ]
  },
  {
   "cell_type": "code",
   "execution_count": null,
   "metadata": {},
   "outputs": [],
   "source": [
    "class Solution:\n",
    "    def searchMatrix(self, matrix: List[List[int]], target: int) -> bool:\n",
    "        m = len(matrix)\n",
    "        n = len(matrix[0])\n",
    "        \n",
    "        if target > matrix[m - 1][n - 1] or target < matrix[0][0]:\n",
    "            return False\n",
    "        \n",
    "        col_end = self.find_column_boundary(matrix, m, n, target)\n",
    "        row_end = self.find_row_boundary(matrix, m, n, target)\n",
    "        \n",
    "        while row_end >= 0 and col_end >= 0:\n",
    "            res = self.check_L(matrix, target, col_end, row_end)\n",
    "            if res:\n",
    "                return True\n",
    "            else:\n",
    "                row_end -= 1\n",
    "                col_end -= 1\n",
    "        \n",
    "        return False\n",
    "                \n",
    "    \n",
    "    \n",
    "    def find_column_boundary(self, matrix, m, n, target):\n",
    "        curr_col = n - 1\n",
    "        \n",
    "        while target < matrix[0][curr_col] and target > matrix[m - 1][curr_col]:\n",
    "            curr_col -= 1\n",
    "        \n",
    "        return curr_col\n",
    "    \n",
    "    def find_row_boundary(self, matrix, m, n, target):\n",
    "        curr_row = m - 1\n",
    "        \n",
    "        while target < matrix[curr_row][0] and target > matrix[curr_row][n - 1]:\n",
    "            curr_row -= 1\n",
    "        \n",
    "        return curr_row\n",
    "    \n",
    "    def check_L(self, matrix, target, col_end, row_end):\n",
    "        \n",
    "        #check row\n",
    "        for j in range(col_end + 1):\n",
    "            if matrix[row_end][j] == target:\n",
    "                return True\n",
    "        #check column\n",
    "        for i in range(row_end + 1):\n",
    "            if matrix[i][col_end] == target:\n",
    "                return True\n",
    "        return False\n",
    "        \n",
    "        \n",
    "            "
   ]
  }
 ],
 "metadata": {
  "kernelspec": {
   "display_name": "Python 3",
   "language": "python",
   "name": "python3"
  },
  "language_info": {
   "codemirror_mode": {
    "name": "ipython",
    "version": 3
   },
   "file_extension": ".py",
   "mimetype": "text/x-python",
   "name": "python",
   "nbconvert_exporter": "python",
   "pygments_lexer": "ipython3",
   "version": "3.6.9"
  }
 },
 "nbformat": 4,
 "nbformat_minor": 4
}
