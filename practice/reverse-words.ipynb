{
 "cells": [
  {
   "cell_type": "markdown",
   "metadata": {},
   "source": [
    "Related to programming interviews exposed chapter 6 page 97 execise"
   ]
  },
  {
   "cell_type": "code",
   "execution_count": 1,
   "metadata": {},
   "outputs": [],
   "source": [
    "def reverse_words(s):\n",
    "    \n",
    "    buf = []\n",
    "    \n",
    "    n = len(s)\n",
    "    \n",
    "    i = n - 1\n",
    "    \n",
    "    while i >= 0:\n",
    "        curr_char = s[i]\n",
    "        \n",
    "        if curr_char == ' ':\n",
    "            buf.append(curr_char)\n",
    "            i -= 1 # maybe pull out\n",
    "        else:\n",
    "            end = i\n",
    "            while i >= 0 and s[i] != ' ':\n",
    "                i -= 1\n",
    "            buf.append(s[i+1:end+1])\n",
    "    \n",
    "    out = \"\".join(buf)\n",
    "    return out\n",
    "            \n",
    "    \n",
    "    #create buffer to store copy\n",
    "    #create set of word/nonword chars to check against\n",
    "    \n",
    "    #need idx pointers for string + buffer (or use append in python)\n",
    "    \n",
    "    #loop from end of s to beginning\n",
    "        #if curr char is word char\n",
    "            #find beginning of word\n",
    "            #send word to buffer\n",
    "        #else curr char is not word char\n",
    "            #grab char and send to buffer\n",
    "    \n",
    "    #join buffer into one output string\n",
    "    #return output"
   ]
  },
  {
   "cell_type": "code",
   "execution_count": 5,
   "metadata": {},
   "outputs": [
    {
     "name": "stdout",
     "output_type": "stream",
     "text": [
      "  asdfdasf    world hello \n"
     ]
    }
   ],
   "source": [
    "t = ' hello world    asdfdasf  '\n",
    "print(reverse_words(t))"
   ]
  },
  {
   "cell_type": "code",
   "execution_count": 6,
   "metadata": {},
   "outputs": [],
   "source": [
    "ms = me = -1"
   ]
  },
  {
   "cell_type": "code",
   "execution_count": 8,
   "metadata": {},
   "outputs": [
    {
     "name": "stdout",
     "output_type": "stream",
     "text": [
      "-1\n"
     ]
    }
   ],
   "source": [
    "print(me)"
   ]
  },
  {
   "cell_type": "code",
   "execution_count": 12,
   "metadata": {},
   "outputs": [
    {
     "name": "stdout",
     "output_type": "stream",
     "text": [
      "defaultdict(<function <lambda> at 0x7f4bb8dff8c8>, {'h': 1, 'e': 1, 'l': 3, 'o': 2, ' ': 1, 'w': 1, 'r': 1, 'd': 1})\n"
     ]
    }
   ],
   "source": [
    "from collections import defaultdict\n",
    "s  = 'hello world'\n",
    "out = defaultdict(lambda: 0)\n",
    "for char in s:\n",
    "    out[char] += 1\n",
    "\n",
    "print(out)"
   ]
  },
  {
   "cell_type": "code",
   "execution_count": null,
   "metadata": {},
   "outputs": [],
   "source": []
  }
 ],
 "metadata": {
  "kernelspec": {
   "display_name": "Python 3",
   "language": "python",
   "name": "python3"
  },
  "language_info": {
   "codemirror_mode": {
    "name": "ipython",
    "version": 3
   },
   "file_extension": ".py",
   "mimetype": "text/x-python",
   "name": "python",
   "nbconvert_exporter": "python",
   "pygments_lexer": "ipython3",
   "version": "3.6.9"
  }
 },
 "nbformat": 4,
 "nbformat_minor": 4
}
