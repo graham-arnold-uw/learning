{
 "cells": [
  {
   "cell_type": "code",
   "execution_count": 11,
   "metadata": {},
   "outputs": [],
   "source": [
    "def abbreviation(word):\n",
    "    \n",
    "    def substring_helper(s, n, i, path):\n",
    "\n",
    "        global_res.append(\"\".join(path))\n",
    "        global_locations[i - 1].append(\"\".join(path))\n",
    "\n",
    "        for j in range(i, n):\n",
    "            path.append(s[j])\n",
    "            substring_helper(s, n, j + 1, path)\n",
    "            path.pop()\n",
    "    \n",
    "    def backtracking_helper(s, n, i):\n",
    "        if i == n:\n",
    "            return\n",
    "        \n",
    "        ss_opts = global_locations[i]\n",
    "        \n",
    "        for opt in ss_opts:\n",
    "            o_len = len(o)\n",
    "            s_left = s[:i - o_len + 1]\n",
    "            r_right = s[i + 1:]\n",
    "            s_new = s_left + str(o_len) + s_right\n",
    "            abbreviation_res.append(s_new)\n",
    "            backtracking_helper(s_new, n, i + 2)\n",
    "            \n",
    "        back_tracking_helper(s,n,i + 1)\n",
    "\n",
    "    global_res = []\n",
    "    global_locations = defaultdict(list)\n",
    "    substring_helper(test, len(test), 0, [])\n",
    "    \n",
    "    abbreviation_res = []\n",
    "    \n",
    "    backtracking_helper(s, n, i, [])\n",
    "    \n",
    "    print(global_res)\n",
    "    print()\n",
    "    print(global_locations)"
   ]
  },
  {
   "cell_type": "code",
   "execution_count": 12,
   "metadata": {},
   "outputs": [
    {
     "name": "stdout",
     "output_type": "stream",
     "text": [
      "['', 'a', 'ab', 'abc', 'ac', 'b', 'bc', 'c']\n",
      "\n",
      "defaultdict(<class 'list'>, {-1: [''], 0: ['a'], 1: ['ab', 'b'], 2: ['abc', 'ac', 'bc', 'c']})\n"
     ]
    }
   ],
   "source": [
    "from collections import defaultdict\n",
    "\n",
    "\n",
    "test = 'abc'\n",
    "abbreviation(test)"
   ]
  },
  {
   "cell_type": "code",
   "execution_count": null,
   "metadata": {},
   "outputs": [],
   "source": []
  }
 ],
 "metadata": {
  "kernelspec": {
   "display_name": "Python 3",
   "language": "python",
   "name": "python3"
  },
  "language_info": {
   "codemirror_mode": {
    "name": "ipython",
    "version": 3
   },
   "file_extension": ".py",
   "mimetype": "text/x-python",
   "name": "python",
   "nbconvert_exporter": "python",
   "pygments_lexer": "ipython3",
   "version": "3.6.9"
  }
 },
 "nbformat": 4,
 "nbformat_minor": 4
}
