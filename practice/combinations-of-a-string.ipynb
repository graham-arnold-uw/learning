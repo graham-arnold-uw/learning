{
 "cells": [
  {
   "cell_type": "code",
   "execution_count": 14,
   "metadata": {},
   "outputs": [],
   "source": [
    "def string_combinations(s):\n",
    "    \n",
    "    def combo_helper(s, i, n, path):\n",
    "        path.append(s[i])\n",
    "        global_res.append(\"\".join(path))\n",
    "        for j in range(i + 1, n):\n",
    "            combo_helper(s, j, n, path)\n",
    "            \n",
    "        path.pop()\n",
    "    \n",
    "    n = len(s)\n",
    "    global_res = []\n",
    "    for k in range(n):\n",
    "        path = []\n",
    "        combo_helper(s, k, n, path)\n",
    "    return global_res\n"
   ]
  },
  {
   "cell_type": "code",
   "execution_count": 15,
   "metadata": {},
   "outputs": [
    {
     "name": "stdout",
     "output_type": "stream",
     "text": [
      "['a', 'ab', 'abc', 'ac', 'b', 'bc', 'c']\n"
     ]
    }
   ],
   "source": [
    "test_combo = 'abc'\n",
    "res = string_combinations(test_combo)\n",
    "print(res)"
   ]
  },
  {
   "cell_type": "code",
   "execution_count": 12,
   "metadata": {},
   "outputs": [],
   "source": [
    "def string_combinations2(s):\n",
    "    \n",
    "    def combo_helper(s, i, n, path):\n",
    "        \n",
    "        for j in range(i, n):\n",
    "            path.append(s[j])\n",
    "            global_res.append(\"\".join(path))\n",
    "            combo_helper(s, j + 1, n, path)\n",
    "            path.pop()\n",
    "    \n",
    "    n = len(s)\n",
    "    global_res = []\n",
    "    path = []\n",
    "    combo_helper(s, 0, n, path)\n",
    "    return global_res"
   ]
  },
  {
   "cell_type": "code",
   "execution_count": 13,
   "metadata": {},
   "outputs": [
    {
     "name": "stdout",
     "output_type": "stream",
     "text": [
      "['a', 'ab', 'abc', 'ac', 'b', 'bc', 'c']\n"
     ]
    }
   ],
   "source": [
    "test_combo2 = 'abc'\n",
    "res2 = string_combinations2(test_combo2)\n",
    "print(res2)"
   ]
  },
  {
   "cell_type": "code",
   "execution_count": null,
   "metadata": {},
   "outputs": [],
   "source": []
  }
 ],
 "metadata": {
  "kernelspec": {
   "display_name": "Python 3",
   "language": "python",
   "name": "python3"
  },
  "language_info": {
   "codemirror_mode": {
    "name": "ipython",
    "version": 3
   },
   "file_extension": ".py",
   "mimetype": "text/x-python",
   "name": "python",
   "nbconvert_exporter": "python",
   "pygments_lexer": "ipython3",
   "version": "3.6.9"
  }
 },
 "nbformat": 4,
 "nbformat_minor": 4
}
