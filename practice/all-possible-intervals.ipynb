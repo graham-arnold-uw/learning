{
 "cells": [
  {
   "cell_type": "code",
   "execution_count": 13,
   "metadata": {},
   "outputs": [],
   "source": [
    "def all_intervals(s):\n",
    "    \n",
    "    def all_helper(s, i, path):\n",
    "        if i >= len(s):\n",
    "            global_res.append(path.copy())\n",
    "            return\n",
    "        \n",
    "        for j in range(i, len(s)):\n",
    "            inval = s[i:j+1]\n",
    "            #print(inval)\n",
    "            path.append(inval)\n",
    "            all_helper(s, j + 1, path)\n",
    "            path.pop()\n",
    "            \n",
    "    \n",
    "    global_res = []\n",
    "    path = []\n",
    "    all_helper(s, 0, path)\n",
    "    return global_res"
   ]
  },
  {
   "cell_type": "code",
   "execution_count": 17,
   "metadata": {},
   "outputs": [
    {
     "name": "stdout",
     "output_type": "stream",
     "text": [
      "['a', 'b', 'c', 'd', 'e', 'g', 'f']\n",
      "['a', 'b', 'c', 'd', 'e', 'gf']\n",
      "['a', 'b', 'c', 'd', 'eg', 'f']\n",
      "['a', 'b', 'c', 'd', 'egf']\n",
      "['a', 'b', 'c', 'de', 'g', 'f']\n",
      "['a', 'b', 'c', 'de', 'gf']\n",
      "['a', 'b', 'c', 'deg', 'f']\n",
      "['a', 'b', 'c', 'degf']\n",
      "['a', 'b', 'cd', 'e', 'g', 'f']\n",
      "['a', 'b', 'cd', 'e', 'gf']\n",
      "['a', 'b', 'cd', 'eg', 'f']\n",
      "['a', 'b', 'cd', 'egf']\n",
      "['a', 'b', 'cde', 'g', 'f']\n",
      "['a', 'b', 'cde', 'gf']\n",
      "['a', 'b', 'cdeg', 'f']\n",
      "['a', 'b', 'cdegf']\n",
      "['a', 'bc', 'd', 'e', 'g', 'f']\n",
      "['a', 'bc', 'd', 'e', 'gf']\n",
      "['a', 'bc', 'd', 'eg', 'f']\n",
      "['a', 'bc', 'd', 'egf']\n",
      "['a', 'bc', 'de', 'g', 'f']\n",
      "['a', 'bc', 'de', 'gf']\n",
      "['a', 'bc', 'deg', 'f']\n",
      "['a', 'bc', 'degf']\n",
      "['a', 'bcd', 'e', 'g', 'f']\n",
      "['a', 'bcd', 'e', 'gf']\n",
      "['a', 'bcd', 'eg', 'f']\n",
      "['a', 'bcd', 'egf']\n",
      "['a', 'bcde', 'g', 'f']\n",
      "['a', 'bcde', 'gf']\n",
      "['a', 'bcdeg', 'f']\n",
      "['a', 'bcdegf']\n",
      "['ab', 'c', 'd', 'e', 'g', 'f']\n",
      "['ab', 'c', 'd', 'e', 'gf']\n",
      "['ab', 'c', 'd', 'eg', 'f']\n",
      "['ab', 'c', 'd', 'egf']\n",
      "['ab', 'c', 'de', 'g', 'f']\n",
      "['ab', 'c', 'de', 'gf']\n",
      "['ab', 'c', 'deg', 'f']\n",
      "['ab', 'c', 'degf']\n",
      "['ab', 'cd', 'e', 'g', 'f']\n",
      "['ab', 'cd', 'e', 'gf']\n",
      "['ab', 'cd', 'eg', 'f']\n",
      "['ab', 'cd', 'egf']\n",
      "['ab', 'cde', 'g', 'f']\n",
      "['ab', 'cde', 'gf']\n",
      "['ab', 'cdeg', 'f']\n",
      "['ab', 'cdegf']\n",
      "['abc', 'd', 'e', 'g', 'f']\n",
      "['abc', 'd', 'e', 'gf']\n",
      "['abc', 'd', 'eg', 'f']\n",
      "['abc', 'd', 'egf']\n",
      "['abc', 'de', 'g', 'f']\n",
      "['abc', 'de', 'gf']\n",
      "['abc', 'deg', 'f']\n",
      "['abc', 'degf']\n",
      "['abcd', 'e', 'g', 'f']\n",
      "['abcd', 'e', 'gf']\n",
      "['abcd', 'eg', 'f']\n",
      "['abcd', 'egf']\n",
      "['abcde', 'g', 'f']\n",
      "['abcde', 'gf']\n",
      "['abcdeg', 'f']\n",
      "['abcdegf']\n"
     ]
    }
   ],
   "source": [
    "test = 'abcdegf'\n",
    "res = all_intervals(test)\n",
    "for r in res:\n",
    "    print(r)\n",
    "    \n"
   ]
  },
  {
   "cell_type": "code",
   "execution_count": null,
   "metadata": {},
   "outputs": [],
   "source": []
  },
  {
   "cell_type": "code",
   "execution_count": null,
   "metadata": {},
   "outputs": [],
   "source": []
  }
 ],
 "metadata": {
  "kernelspec": {
   "display_name": "Python 3",
   "language": "python",
   "name": "python3"
  },
  "language_info": {
   "codemirror_mode": {
    "name": "ipython",
    "version": 3
   },
   "file_extension": ".py",
   "mimetype": "text/x-python",
   "name": "python",
   "nbconvert_exporter": "python",
   "pygments_lexer": "ipython3",
   "version": "3.6.9"
  }
 },
 "nbformat": 4,
 "nbformat_minor": 4
}
