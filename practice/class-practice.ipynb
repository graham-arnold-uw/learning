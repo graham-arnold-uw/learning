{
 "cells": [
  {
   "cell_type": "code",
   "execution_count": 56,
   "metadata": {},
   "outputs": [],
   "source": [
    "class Animal:\n",
    "    \n",
    "    def __init__(self, name, color):\n",
    "        self.name = name\n",
    "        self.color = color\n",
    "        self.color_mod = self.set_color_mod(self.color)\n",
    "        self.color_reset = '\\033[0m'\n",
    "        \n",
    "    \n",
    "    def print_name(self):\n",
    "        print(f'My name is {self.name}, my color is {self.color_mod}{self.color}{self.color_reset}!')\n",
    "        \n",
    "        \n",
    "    def set_color_mod(self, color_choice):\n",
    "        res = '\\033[1;'\n",
    "        if color_choice == 'green':\n",
    "            res += '32m'\n",
    "        elif color_choice == 'purple':\n",
    "            res += '35m'\n",
    "        elif color_choice == 'red':\n",
    "            res += '31m'\n",
    "        elif color_choice == 'blue':\n",
    "            res += '34m'\n",
    "        \n",
    "        return res\n",
    "    \n",
    "    def make_sound(self):\n",
    "        print('This is a generic animal sound')"
   ]
  },
  {
   "cell_type": "code",
   "execution_count": 57,
   "metadata": {},
   "outputs": [
    {
     "name": "stdout",
     "output_type": "stream",
     "text": [
      "My name is Tim, my color is \u001b[1;32mgreen\u001b[0m!\n",
      "My name is Carry, my color is \u001b[1;35mpurple\u001b[0m!\n",
      "My name is Josie, my color is \u001b[1;31mred\u001b[0m!\n",
      "This is a generic animal sound\n"
     ]
    }
   ],
   "source": [
    "a1 = Animal('Tim','green')\n",
    "a2 = Animal('Carry','purple')\n",
    "a3 = Animal('Josie','red')\n",
    "\n",
    "a1.print_name()\n",
    "a2.print_name()\n",
    "a3.print_name()\n",
    "\n",
    "a1.make_sound()\n"
   ]
  },
  {
   "cell_type": "code",
   "execution_count": 88,
   "metadata": {},
   "outputs": [],
   "source": [
    "class Dog(Animal):\n",
    "    \n",
    "    \n",
    "    def __init__(self, name, color, length):\n",
    "        super().__init__(name, color)\n",
    "        self.tail_length = length\n",
    "        \n",
    "    \n",
    "    def make_sound2(self, sound):\n",
    "        print(f'I make this sound {sound}')\n",
    "        #super().make_sound()\n",
    "        \n",
    "    def make_sound2(self, sound1, sound2):\n",
    "        print(f'I make this sound {sound1} {sound2}')\n",
    "        #super().make_sound()"
   ]
  },
  {
   "cell_type": "code",
   "execution_count": 89,
   "metadata": {},
   "outputs": [
    {
     "name": "stdout",
     "output_type": "stream",
     "text": [
      "My name is Barky, my color is \u001b[1;34mblue\u001b[0m!\n",
      "9\n"
     ]
    },
    {
     "ename": "TypeError",
     "evalue": "make_sound2() missing 1 required positional argument: 'sound2'",
     "output_type": "error",
     "traceback": [
      "\u001b[0;31m---------------------------------------------------------------------------\u001b[0m",
      "\u001b[0;31mTypeError\u001b[0m                                 Traceback (most recent call last)",
      "\u001b[0;32m<ipython-input-89-8c8e973e98d8>\u001b[0m in \u001b[0;36m<module>\u001b[0;34m\u001b[0m\n\u001b[1;32m      2\u001b[0m \u001b[0md1\u001b[0m\u001b[0;34m.\u001b[0m\u001b[0mprint_name\u001b[0m\u001b[0;34m(\u001b[0m\u001b[0;34m)\u001b[0m\u001b[0;34m\u001b[0m\u001b[0;34m\u001b[0m\u001b[0m\n\u001b[1;32m      3\u001b[0m \u001b[0mprint\u001b[0m\u001b[0;34m(\u001b[0m\u001b[0md1\u001b[0m\u001b[0;34m.\u001b[0m\u001b[0mtail_length\u001b[0m\u001b[0;34m)\u001b[0m\u001b[0;34m\u001b[0m\u001b[0;34m\u001b[0m\u001b[0m\n\u001b[0;32m----> 4\u001b[0;31m \u001b[0md1\u001b[0m\u001b[0;34m.\u001b[0m\u001b[0mmake_sound2\u001b[0m\u001b[0;34m(\u001b[0m\u001b[0;34m'bark'\u001b[0m\u001b[0;34m)\u001b[0m\u001b[0;34m\u001b[0m\u001b[0;34m\u001b[0m\u001b[0m\n\u001b[0m\u001b[1;32m      5\u001b[0m \u001b[0md1\u001b[0m\u001b[0;34m.\u001b[0m\u001b[0mmake_sound\u001b[0m\u001b[0;34m(\u001b[0m\u001b[0;34m)\u001b[0m\u001b[0;34m\u001b[0m\u001b[0;34m\u001b[0m\u001b[0m\n",
      "\u001b[0;31mTypeError\u001b[0m: make_sound2() missing 1 required positional argument: 'sound2'"
     ]
    }
   ],
   "source": [
    "d1 = Dog('Barky','blue',9)\n",
    "d1.print_name()\n",
    "print(d1.tail_length)\n",
    "d1.make_sound2('bark')\n",
    "d1.make_sound()"
   ]
  },
  {
   "cell_type": "code",
   "execution_count": 102,
   "metadata": {},
   "outputs": [],
   "source": [
    "class PrivateThing:\n",
    "    st = 3\n",
    "    def __init__(self):\n",
    "        self._a = 4"
   ]
  },
  {
   "cell_type": "code",
   "execution_count": 103,
   "metadata": {},
   "outputs": [
    {
     "name": "stdout",
     "output_type": "stream",
     "text": [
      "4\n"
     ]
    }
   ],
   "source": [
    "t = PrivateThing()\n",
    "print(t._a)"
   ]
  },
  {
   "cell_type": "code",
   "execution_count": null,
   "metadata": {},
   "outputs": [],
   "source": []
  }
 ],
 "metadata": {
  "kernelspec": {
   "display_name": "Python 3",
   "language": "python",
   "name": "python3"
  },
  "language_info": {
   "codemirror_mode": {
    "name": "ipython",
    "version": 3
   },
   "file_extension": ".py",
   "mimetype": "text/x-python",
   "name": "python",
   "nbconvert_exporter": "python",
   "pygments_lexer": "ipython3",
   "version": "3.6.9"
  }
 },
 "nbformat": 4,
 "nbformat_minor": 4
}
