{
 "cells": [
  {
   "cell_type": "code",
   "execution_count": 10,
   "metadata": {},
   "outputs": [],
   "source": [
    "out_ct = 0\n",
    "def telephone_words_wrapper(telephone_in):\n",
    "    telephone_p = telephone_in.replace('-', '')\n",
    "    out_buf = []\n",
    "   \n",
    "    telephone_words(telephone_p, out_buf, 0)\n",
    "    print(out_ct)\n",
    "    print(pow(3,7))\n",
    "# curr_key: current telephone key being processes\n",
    "# ck_int: integer converted key\n",
    "# curr_char: the current char for the current key being used in this branch # #f the recursion\n",
    "def telephone_words(t, out, n):\n",
    "    if n == len(t):\n",
    "        res = \"\".join(out[:3]) + '-' + \"\".join(out[3:])\n",
    "        print(res)\n",
    "        global out_ct\n",
    "        out_ct += 1\n",
    "        return\n",
    "   \n",
    "    curr_key = t[n]\n",
    "    ck_int = int(curr_key)\n",
    "    for i in range(3):\n",
    "        if ck_int != 1 and ck_int != 0:      \n",
    "            curr_char = getCharKey(ck_int, i + 1)\n",
    "        else:\n",
    "            curr_char = str(ck_int)\n",
    "        out.append(curr_char)\n",
    "        telephone_words(t, out, n + 1)\n",
    "        out.pop()\n",
    "\n",
    "def getCharKey(key, idx):\n",
    "    \n",
    "    d = {2:['A','B','C'], 3:['D','E','F'], 4:['G','H','I'],\n",
    "        5:['J','K','L'], 6:['M','N','O'], 7:['P','R','S'],\n",
    "        8:['T','U','V'], 9:['W','X','Y']}\n",
    "    \n",
    "    return d[key][idx - 1]\n",
    "        "
   ]
  },
  {
   "cell_type": "code",
   "execution_count": 11,
   "metadata": {},
   "outputs": [
    {
     "name": "stdout",
     "output_type": "stream",
     "text": [
      "TPW-\n",
      "TPX-\n",
      "TPY-\n",
      "TRW-\n",
      "TRX-\n",
      "TRY-\n",
      "TSW-\n",
      "TSX-\n",
      "TSY-\n",
      "UPW-\n",
      "UPX-\n",
      "UPY-\n",
      "URW-\n",
      "URX-\n",
      "URY-\n",
      "USW-\n",
      "USX-\n",
      "USY-\n",
      "VPW-\n",
      "VPX-\n",
      "VPY-\n",
      "VRW-\n",
      "VRX-\n",
      "VRY-\n",
      "VSW-\n",
      "VSX-\n",
      "VSY-\n",
      "27\n",
      "2187\n"
     ]
    }
   ],
   "source": [
    "s = '879'\n",
    "telephone_words_wrapper(s)"
   ]
  },
  {
   "cell_type": "code",
   "execution_count": null,
   "metadata": {},
   "outputs": [],
   "source": []
  },
  {
   "cell_type": "code",
   "execution_count": null,
   "metadata": {},
   "outputs": [],
   "source": []
  }
 ],
 "metadata": {
  "kernelspec": {
   "display_name": "Python 3",
   "language": "python",
   "name": "python3"
  },
  "language_info": {
   "codemirror_mode": {
    "name": "ipython",
    "version": 3
   },
   "file_extension": ".py",
   "mimetype": "text/x-python",
   "name": "python",
   "nbconvert_exporter": "python",
   "pygments_lexer": "ipython3",
   "version": "3.6.9"
  }
 },
 "nbformat": 4,
 "nbformat_minor": 4
}
