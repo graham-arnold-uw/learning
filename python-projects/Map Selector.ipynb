{
 "cells": [
  {
   "cell_type": "code",
   "execution_count": 17,
   "metadata": {},
   "outputs": [],
   "source": [
    "import random\n",
    "from collections import deque\n",
    "    \n",
    "maps = ('Ascent', 'Bind', 'Haven', 'Split')\n",
    "\n",
    "def intro():\n",
    "    \n",
    "    x = input(\"are you ready to start? \")\n",
    "    return x\n",
    "\n",
    "def randChoice(maps,weights):\n",
    "    \n",
    "    tot = sum(weights)\n",
    "    normW = [w / tot for w in weights]\n",
    "    c = cumSum(normW)\n",
    "    x = random.random()\n",
    "    print(c)\n",
    "    print(x)\n",
    "    for i in range(len(c)):\n",
    "        if x < c[i]:\n",
    "            return maps[i-1]\n",
    "    return None\n",
    "    \n",
    "def cumSum(weights):\n",
    "    \n",
    "    cum = [0]\n",
    "    i = 0\n",
    "    \n",
    "    for w in weights:\n",
    "        cum.append(cum[i] + w)\n",
    "        i += 1\n",
    "    \n",
    "    return cum\n",
    "\n",
    "def adjustWeights(nextMap, weights):\n",
    "    i = 0\n",
    "    \n",
    "    if nextMap == 'a':\n",
    "        oldW = weights[0]\n",
    "    elif nextMap == 'b':\n",
    "        oldW = weights[1]\n",
    "        i = 1\n",
    "    elif nextMap =='h':\n",
    "        oldW = weights[2]\n",
    "        i = 2\n",
    "    else:\n",
    "        oldW = weights[3]\n",
    "        i = 3\n",
    "    \n",
    "    redAmount = oldW * 0.1\n",
    "    newW = max(oldW - redAmount, 0)\n",
    "    weights[i] = newW\n",
    "    \n",
    "    return weights\n",
    "            \n",
    "\n",
    "def mapSelector(maps):\n",
    "    \n",
    "    active = 'y'\n",
    "    \n",
    "    numMaps = len(maps)\n",
    "    \n",
    "    weights = [1/numMaps]* numMaps\n",
    "    #print(weights)\n",
    "    #prevChoices\n",
    "    \n",
    "    while(active == 'y'):\n",
    "        choice = randChoice(maps,weights)\n",
    "        print(choice)\n",
    "        nextMap = input('nextmap? (a,b,h,s) ')\n",
    "        \n",
    "        weights = adjustWeights(nextMap, weights)\n",
    "        \n",
    "        \n",
    "        active = input('continue? ')\n",
    "        \n",
    "        \n",
    "        \n",
    "    \n",
    "    \n",
    "    "
   ]
  },
  {
   "cell_type": "code",
   "execution_count": 14,
   "metadata": {},
   "outputs": [
    {
     "name": "stdout",
     "output_type": "stream",
     "text": [
      "[0, 0.25, 0.5, 0.75, 1.0]\n",
      "0.8567200241146717\n",
      "Split\n",
      "continue? y\n",
      "[0, 0.25, 0.5, 0.75, 1.0]\n",
      "0.845546323717053\n",
      "Split\n",
      "continue? y\n",
      "[0, 0.25, 0.5, 0.75, 1.0]\n",
      "0.960901745129592\n",
      "Split\n",
      "continue? y\n",
      "[0, 0.25, 0.5, 0.75, 1.0]\n",
      "0.7119856920875908\n",
      "Haven\n",
      "continue? y\n",
      "[0, 0.25, 0.5, 0.75, 1.0]\n",
      "0.9737483257726375\n",
      "Split\n",
      "continue? y\n",
      "[0, 0.25, 0.5, 0.75, 1.0]\n",
      "0.435578778286944\n",
      "Bind\n",
      "continue? y\n",
      "[0, 0.25, 0.5, 0.75, 1.0]\n",
      "0.5053068837502062\n",
      "Haven\n",
      "continue? y\n",
      "[0, 0.25, 0.5, 0.75, 1.0]\n",
      "0.7059967071382992\n",
      "Haven\n",
      "continue? y\n",
      "[0, 0.25, 0.5, 0.75, 1.0]\n",
      "0.7704363562908074\n",
      "Split\n",
      "continue? y\n",
      "[0, 0.25, 0.5, 0.75, 1.0]\n",
      "0.9956553579171503\n",
      "Split\n",
      "continue? y\n",
      "[0, 0.25, 0.5, 0.75, 1.0]\n",
      "0.6158466079077934\n",
      "Haven\n",
      "continue? y\n",
      "[0, 0.25, 0.5, 0.75, 1.0]\n",
      "0.17736758025491006\n",
      "Ascent\n",
      "continue? y\n",
      "[0, 0.25, 0.5, 0.75, 1.0]\n",
      "0.09176744036892648\n",
      "Ascent\n",
      "continue? n\n"
     ]
    }
   ],
   "source": [
    "maps = ('Ascent', 'Bind', 'Haven', 'Split')\n",
    "mapSelector(maps)"
   ]
  },
  {
   "cell_type": "code",
   "execution_count": 3,
   "metadata": {},
   "outputs": [],
   "source": [
    "maps = ('Ascent', 'Bind', 'Haven', 'Split')\n",
    "numMaps = len(maps)\n",
    "    \n",
    "weights = [1/numMaps]* numMaps\n",
    "\n"
   ]
  },
  {
   "cell_type": "code",
   "execution_count": 11,
   "metadata": {},
   "outputs": [
    {
     "name": "stdout",
     "output_type": "stream",
     "text": [
      "Bind\n"
     ]
    }
   ],
   "source": [
    "weights = [0, 1, 0, 0]\n",
    "\n",
    "c = randChoice(maps, weights)\n",
    "\n",
    "print(c)"
   ]
  },
  {
   "cell_type": "code",
   "execution_count": 4,
   "metadata": {},
   "outputs": [
    {
     "data": {
      "text/plain": [
       "[0.25, 0.25, 0.25, 0.25]"
      ]
     },
     "execution_count": 4,
     "metadata": {},
     "output_type": "execute_result"
    }
   ],
   "source": [
    "weights"
   ]
  },
  {
   "cell_type": "code",
   "execution_count": 8,
   "metadata": {},
   "outputs": [
    {
     "data": {
      "text/plain": [
       "0.3828222614285669"
      ]
     },
     "execution_count": 8,
     "metadata": {},
     "output_type": "execute_result"
    }
   ],
   "source": [
    "random.random()"
   ]
  },
  {
   "cell_type": "code",
   "execution_count": null,
   "metadata": {},
   "outputs": [],
   "source": []
  }
 ],
 "metadata": {
  "kernelspec": {
   "display_name": "Python 3",
   "language": "python",
   "name": "python3"
  },
  "language_info": {
   "codemirror_mode": {
    "name": "ipython",
    "version": 3
   },
   "file_extension": ".py",
   "mimetype": "text/x-python",
   "name": "python",
   "nbconvert_exporter": "python",
   "pygments_lexer": "ipython3",
   "version": "3.6.9"
  }
 },
 "nbformat": 4,
 "nbformat_minor": 4
}
