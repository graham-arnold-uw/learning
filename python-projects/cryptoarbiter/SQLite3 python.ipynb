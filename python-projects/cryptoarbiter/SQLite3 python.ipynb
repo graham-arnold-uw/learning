{
 "cells": [
  {
   "cell_type": "code",
   "execution_count": 31,
   "metadata": {},
   "outputs": [],
   "source": [
    "import sqlite3"
   ]
  },
  {
   "cell_type": "code",
   "execution_count": 56,
   "metadata": {},
   "outputs": [],
   "source": [
    "conn = sqlite3.connect('example2.db', timeout = 10)"
   ]
  },
  {
   "cell_type": "code",
   "execution_count": 42,
   "metadata": {},
   "outputs": [],
   "source": [
    "# Create table\n",
    "c.execute('''CREATE TABLE stocks\n",
    "           (date text, trans text, symbol text, qty real, price real)''')\n",
    "conn.commit()"
   ]
  },
  {
   "cell_type": "code",
   "execution_count": 57,
   "metadata": {},
   "outputs": [],
   "source": [
    "c = conn.cursor()"
   ]
  },
  {
   "cell_type": "code",
   "execution_count": 61,
   "metadata": {},
   "outputs": [
    {
     "ename": "OperationalError",
     "evalue": "database is locked",
     "output_type": "error",
     "traceback": [
      "\u001b[0;31m---------------------------------------------------------------------------\u001b[0m",
      "\u001b[0;31mOperationalError\u001b[0m                          Traceback (most recent call last)",
      "\u001b[0;32m<ipython-input-61-6862e17d16fa>\u001b[0m in \u001b[0;36m<module>\u001b[0;34m\u001b[0m\n\u001b[1;32m      4\u001b[0m \u001b[0;34m\u001b[0m\u001b[0m\n\u001b[1;32m      5\u001b[0m \u001b[0;31m# Insert a row of data\u001b[0m\u001b[0;34m\u001b[0m\u001b[0;34m\u001b[0m\u001b[0;34m\u001b[0m\u001b[0m\n\u001b[0;32m----> 6\u001b[0;31m \u001b[0mc\u001b[0m\u001b[0;34m.\u001b[0m\u001b[0mexecute\u001b[0m\u001b[0;34m(\u001b[0m\u001b[0;34m\"INSERT INTO stocks VALUES ('2006-01-05','BUY','RHAT',100,35.14)\"\u001b[0m\u001b[0;34m)\u001b[0m\u001b[0;34m\u001b[0m\u001b[0;34m\u001b[0m\u001b[0m\n\u001b[0m\u001b[1;32m      7\u001b[0m \u001b[0;34m\u001b[0m\u001b[0m\n\u001b[1;32m      8\u001b[0m \u001b[0;31m# Save (commit) the changes\u001b[0m\u001b[0;34m\u001b[0m\u001b[0;34m\u001b[0m\u001b[0;34m\u001b[0m\u001b[0m\n",
      "\u001b[0;31mOperationalError\u001b[0m: database is locked"
     ]
    }
   ],
   "source": [
    "\n",
    "\n",
    "# Create table\n",
    "#c.execute('''CREATE TABLE stocks\n",
    "           #(date text, trans text, symbol text, qty real, price real)''')\n",
    "\n",
    "# Insert a row of data\n",
    "c.execute(\"INSERT INTO stocks VALUES ('2006-01-05','BUY','RHAT',100,35.14)\")\n",
    "\n",
    "# Save (commit) the changes\n",
    "conn.commit()\n",
    "\n",
    "# We can also close the connection if we are done with it.\n",
    "# Just be sure any changes have been committed or they will be lost.\n",
    "#conn.close()"
   ]
  },
  {
   "cell_type": "code",
   "execution_count": 3,
   "metadata": {},
   "outputs": [
    {
     "name": "stdout",
     "output_type": "stream",
     "text": [
      "<sqlite3.Connection object at 0x7faca88f0ab0>\n"
     ]
    }
   ],
   "source": [
    "conn2 = sqlite3.connect('example.db')\n",
    "print(conn2)"
   ]
  },
  {
   "cell_type": "code",
   "execution_count": 4,
   "metadata": {},
   "outputs": [],
   "source": [
    "c = conn2.cursor()"
   ]
  },
  {
   "cell_type": "code",
   "execution_count": 87,
   "metadata": {},
   "outputs": [
    {
     "name": "stdout",
     "output_type": "stream",
     "text": [
      "LTC\n"
     ]
    }
   ],
   "source": [
    "t = 'LTCBTC'\n",
    "t2 = t[:-3]\n",
    "print(t2)\n"
   ]
  },
  {
   "cell_type": "code",
   "execution_count": 6,
   "metadata": {},
   "outputs": [],
   "source": [
    "t = ('rhat')\n",
    "t2 = ('rhat',)"
   ]
  },
  {
   "cell_type": "code",
   "execution_count": 7,
   "metadata": {},
   "outputs": [
    {
     "data": {
      "text/plain": [
       "str"
      ]
     },
     "execution_count": 7,
     "metadata": {},
     "output_type": "execute_result"
    }
   ],
   "source": [
    "type(t)"
   ]
  },
  {
   "cell_type": "code",
   "execution_count": 8,
   "metadata": {},
   "outputs": [
    {
     "data": {
      "text/plain": [
       "tuple"
      ]
     },
     "execution_count": 8,
     "metadata": {},
     "output_type": "execute_result"
    }
   ],
   "source": [
    "type(t2)"
   ]
  },
  {
   "cell_type": "code",
   "execution_count": 13,
   "metadata": {},
   "outputs": [
    {
     "name": "stdout",
     "output_type": "stream",
     "text": [
      "('2006-01-05', 'BUY', 'RHAT', 100.0, 35.14)\n"
     ]
    }
   ],
   "source": [
    "# Do this instead\n",
    "t = ('RHAT',)\n",
    "c.execute('SELECT * FROM stocks WHERE symbol=?', t)\n",
    "print(c.fetchone())"
   ]
  },
  {
   "cell_type": "code",
   "execution_count": 12,
   "metadata": {},
   "outputs": [
    {
     "data": {
      "text/plain": [
       "<sqlite3.Cursor at 0x7faca41eb0a0>"
      ]
     },
     "execution_count": 12,
     "metadata": {},
     "output_type": "execute_result"
    }
   ],
   "source": [
    "# Larger example that inserts many records at a time\n",
    "purchases = [('2006-03-28', 'BUY', 'IBM', 1000, 45.00),\n",
    "             ('2006-04-05', 'BUY', 'MSFT', 1000, 72.00),\n",
    "             ('2006-04-06', 'SELL', 'IBM', 500, 53.00),\n",
    "            ]\n",
    "c.executemany('INSERT INTO stocks VALUES (?,?,?,?,?)', purchases)"
   ]
  },
  {
   "cell_type": "code",
   "execution_count": 23,
   "metadata": {},
   "outputs": [
    {
     "name": "stdout",
     "output_type": "stream",
     "text": [
      "[('2006-01-05', 'BUY', 'RHAT', 100.0, 35.14), ('2006-03-28', 'BUY', 'IBM', 1000.0, 45.0), ('2006-04-05', 'BUY', 'MSFT', 1000.0, 72.0), ('2006-04-06', 'SELL', 'IBM', 500.0, 53.0), ('2006-03-28', 'BUY', 'IBM', 1000.0, 45.0), ('2006-04-05', 'BUY', 'MSFT', 1000.0, 72.0), ('2006-04-06', 'SELL', 'IBM', 500.0, 53.0)]\n"
     ]
    }
   ],
   "source": [
    "c.execute('SELECT * FROM stocks')\n",
    "print(c.fetchall())"
   ]
  },
  {
   "cell_type": "code",
   "execution_count": 39,
   "metadata": {},
   "outputs": [
    {
     "data": {
      "text/plain": [
       "<sqlite3.Cursor at 0x7faca6a6ace0>"
      ]
     },
     "execution_count": 39,
     "metadata": {},
     "output_type": "execute_result"
    }
   ],
   "source": [
    "c.execute('DROP TABLE stocks')"
   ]
  },
  {
   "cell_type": "code",
   "execution_count": 62,
   "metadata": {},
   "outputs": [
    {
     "name": "stdout",
     "output_type": "stream",
     "text": [
      "('2006-01-05', 'BUY', 'RHAT', 100.0, 35.14)\n",
      "('2006-01-05', 'BUY', 'RHAT', 100.0, 35.14)\n",
      "('2006-01-05', 'BUY', 'RHAT', 100.0, 35.14)\n",
      "('2006-01-05', 'BUY', 'RHAT', 100.0, 35.14)\n",
      "('2006-01-05', 'BUY', 'RHAT', 100.0, 35.14)\n",
      "('2006-01-05', 'BUY', 'RHAT', 100.0, 35.14)\n",
      "('2006-01-05', 'BUY', 'RHAT', 100.0, 35.14)\n",
      "('2006-01-05', 'BUY', 'RHAT', 100.0, 35.14)\n",
      "('2006-01-05', 'BUY', 'RHAT', 100.0, 35.14)\n",
      "('2006-01-05', 'BUY', 'RHAT', 100.0, 35.14)\n",
      "('2006-01-05', 'BUY', 'RHAT', 100.0, 35.14)\n",
      "('2006-01-05', 'BUY', 'RHAT', 100.0, 35.14)\n",
      "('2006-01-05', 'BUY', 'RHAT', 100.0, 35.14)\n",
      "('2006-01-05', 'BUY', 'RHAT', 100.0, 35.14)\n",
      "('2006-01-05', 'BUY', 'RHAT', 100.0, 35.14)\n",
      "('2006-01-05', 'BUY', 'RHAT', 100.0, 35.14)\n",
      "('2006-01-05', 'BUY', 'RHAT', 100.0, 35.14)\n",
      "('2006-01-05', 'BUY', 'RHAT', 100.0, 35.14)\n",
      "('2006-01-05', 'BUY', 'RHAT', 100.0, 35.14)\n",
      "('2006-01-05', 'BUY', 'RHAT', 100.0, 35.14)\n",
      "('2006-01-05', 'BUY', 'RHAT', 100.0, 35.14)\n",
      "('2006-01-05', 'BUY', 'RHAT', 100.0, 35.14)\n",
      "('2006-01-05', 'BUY', 'RHAT', 100.0, 35.14)\n",
      "('2006-01-05', 'BUY', 'RHAT', 100.0, 35.14)\n",
      "('2006-01-05', 'BUY', 'RHAT', 100.0, 35.14)\n",
      "('2006-01-05', 'BUY', 'RHAT', 100.0, 35.14)\n",
      "('2006-01-05', 'BUY', 'RHAT', 100.0, 35.14)\n",
      "('2006-01-05', 'BUY', 'RHAT', 100.0, 35.14)\n",
      "('2006-01-05', 'BUY', 'RHAT', 100.0, 35.14)\n",
      "('2006-01-05', 'BUY', 'RHAT', 100.0, 35.14)\n",
      "('2006-01-05', 'BUY', 'RHAT', 100.0, 35.14)\n"
     ]
    }
   ],
   "source": [
    "c.execute('SELECT * FROM stocks')\n",
    "for r in c:\n",
    "    print(r)"
   ]
  },
  {
   "cell_type": "code",
   "execution_count": 40,
   "metadata": {},
   "outputs": [],
   "source": [
    "conn.commit()"
   ]
  },
  {
   "cell_type": "code",
   "execution_count": 71,
   "metadata": {},
   "outputs": [
    {
     "name": "stdout",
     "output_type": "stream",
     "text": [
      "('table', 'stocks', 'stocks', 2, 'CREATE TABLE stocks\\n           (date text, trans text, symbol text, qty real, price real)')\n"
     ]
    }
   ],
   "source": [
    "c.execute('SELECT * FROM sqlite_master')\n",
    "for r in c:\n",
    "    print(r)"
   ]
  },
  {
   "cell_type": "code",
   "execution_count": 82,
   "metadata": {},
   "outputs": [
    {
     "name": "stdout",
     "output_type": "stream",
     "text": [
      "(0, 'date', 'text', 0, None, 0)\n",
      "(1, 'trans', 'text', 0, None, 0)\n",
      "(2, 'symbol', 'text', 0, None, 0)\n",
      "(3, 'qty', 'real', 0, None, 0)\n",
      "(4, 'price', 'real', 0, None, 0)\n"
     ]
    }
   ],
   "source": [
    "c.execute('PRAGMA table_info(stocks)')\n",
    "for r in c:\n",
    "    print(r)"
   ]
  },
  {
   "cell_type": "code",
   "execution_count": 81,
   "metadata": {},
   "outputs": [
    {
     "name": "stdout",
     "output_type": "stream",
     "text": [
      "0\n"
     ]
    }
   ],
   "source": [
    "c.execute('SELECT count(name) FROM sqlite_master WHERE type= ? AND name = ?', ('table','stocks1'))\n",
    "#c.execute('SELECT * FROM sqlite_master')\n",
    "print(c.fetchone()[0])"
   ]
  },
  {
   "cell_type": "code",
   "execution_count": null,
   "metadata": {},
   "outputs": [],
   "source": []
  }
 ],
 "metadata": {
  "kernelspec": {
   "display_name": "Python 3",
   "language": "python",
   "name": "python3"
  },
  "language_info": {
   "codemirror_mode": {
    "name": "ipython",
    "version": 3
   },
   "file_extension": ".py",
   "mimetype": "text/x-python",
   "name": "python",
   "nbconvert_exporter": "python",
   "pygments_lexer": "ipython3",
   "version": "3.6.9"
  }
 },
 "nbformat": 4,
 "nbformat_minor": 4
}
