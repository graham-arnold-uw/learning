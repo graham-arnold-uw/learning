{
 "cells": [
  {
   "cell_type": "code",
   "execution_count": 24,
   "metadata": {},
   "outputs": [],
   "source": [
    "import sqlite3"
   ]
  },
  {
   "cell_type": "code",
   "execution_count": 25,
   "metadata": {},
   "outputs": [],
   "source": [
    "conn = sqlite3.connect('example2.db', timeout = 10)"
   ]
  },
  {
   "cell_type": "code",
   "execution_count": null,
   "metadata": {},
   "outputs": [],
   "source": [
    "c.execute('''CREATE TABLE test\n",
    "           (da text, trans text, symbol text, qty real, price real)''')\n",
    "conn.commit()"
   ]
  },
  {
   "cell_type": "code",
   "execution_count": 42,
   "metadata": {},
   "outputs": [],
   "source": [
    "# Create table\n",
    "c.execute('''CREATE TABLE stocks\n",
    "           (date text, trans text, symbol text, qty real, price real)''')\n",
    "conn.commit()"
   ]
  },
  {
   "cell_type": "code",
   "execution_count": 26,
   "metadata": {},
   "outputs": [],
   "source": [
    "c = conn.cursor()"
   ]
  },
  {
   "cell_type": "code",
   "execution_count": 61,
   "metadata": {},
   "outputs": [
    {
     "ename": "OperationalError",
     "evalue": "database is locked",
     "output_type": "error",
     "traceback": [
      "\u001b[0;31m---------------------------------------------------------------------------\u001b[0m",
      "\u001b[0;31mOperationalError\u001b[0m                          Traceback (most recent call last)",
      "\u001b[0;32m<ipython-input-61-6862e17d16fa>\u001b[0m in \u001b[0;36m<module>\u001b[0;34m\u001b[0m\n\u001b[1;32m      4\u001b[0m \u001b[0;34m\u001b[0m\u001b[0m\n\u001b[1;32m      5\u001b[0m \u001b[0;31m# Insert a row of data\u001b[0m\u001b[0;34m\u001b[0m\u001b[0;34m\u001b[0m\u001b[0;34m\u001b[0m\u001b[0m\n\u001b[0;32m----> 6\u001b[0;31m \u001b[0mc\u001b[0m\u001b[0;34m.\u001b[0m\u001b[0mexecute\u001b[0m\u001b[0;34m(\u001b[0m\u001b[0;34m\"INSERT INTO stocks VALUES ('2006-01-05','BUY','RHAT',100,35.14)\"\u001b[0m\u001b[0;34m)\u001b[0m\u001b[0;34m\u001b[0m\u001b[0;34m\u001b[0m\u001b[0m\n\u001b[0m\u001b[1;32m      7\u001b[0m \u001b[0;34m\u001b[0m\u001b[0m\n\u001b[1;32m      8\u001b[0m \u001b[0;31m# Save (commit) the changes\u001b[0m\u001b[0;34m\u001b[0m\u001b[0;34m\u001b[0m\u001b[0;34m\u001b[0m\u001b[0m\n",
      "\u001b[0;31mOperationalError\u001b[0m: database is locked"
     ]
    }
   ],
   "source": [
    "\n",
    "\n",
    "# Create table\n",
    "#c.execute('''CREATE TABLE stocks\n",
    "           #(date text, trans text, symbol text, qty real, price real)''')\n",
    "\n",
    "# Insert a row of data\n",
    "c.execute(\"INSERT INTO stocks VALUES ('2006-01-05','BUY','RHAT',100,35.14)\")\n",
    "\n",
    "# Save (commit) the changes\n",
    "conn.commit()\n",
    "\n",
    "# We can also close the connection if we are done with it.\n",
    "# Just be sure any changes have been committed or they will be lost.\n",
    "#conn.close()"
   ]
  },
  {
   "cell_type": "code",
   "execution_count": 3,
   "metadata": {},
   "outputs": [
    {
     "name": "stdout",
     "output_type": "stream",
     "text": [
      "<sqlite3.Connection object at 0x7faca88f0ab0>\n"
     ]
    }
   ],
   "source": [
    "conn2 = sqlite3.connect('example.db')\n",
    "print(conn2)"
   ]
  },
  {
   "cell_type": "code",
   "execution_count": 4,
   "metadata": {},
   "outputs": [],
   "source": [
    "c = conn2.cursor()"
   ]
  },
  {
   "cell_type": "code",
   "execution_count": 27,
   "metadata": {},
   "outputs": [
    {
     "name": "stdout",
     "output_type": "stream",
     "text": [
      "True\n"
     ]
    }
   ],
   "source": [
    "c.execute(\"SELECT name FROM sqlite_master WHERE type='table';\")\n",
    "print('stocks' in c.fetchall()[0])\n"
   ]
  },
  {
   "cell_type": "code",
   "execution_count": 87,
   "metadata": {},
   "outputs": [
    {
     "name": "stdout",
     "output_type": "stream",
     "text": [
      "LTC\n"
     ]
    }
   ],
   "source": [
    "t = 'LTCBTC'\n",
    "t2 = t[:-3]\n",
    "print(t2)\n"
   ]
  },
  {
   "cell_type": "code",
   "execution_count": 6,
   "metadata": {},
   "outputs": [],
   "source": [
    "t = ('rhat')\n",
    "t2 = ('rhat',)"
   ]
  },
  {
   "cell_type": "code",
   "execution_count": 23,
   "metadata": {},
   "outputs": [
    {
     "name": "stdout",
     "output_type": "stream",
     "text": [
      "['a text', 'b text', 'c text']\n"
     ]
    }
   ],
   "source": [
    "cn = ('a','b','c')\n",
    "ct = ('text','text','text')\n",
    "t = zip(cn,ct)\n",
    "l = list(t)\n",
    "for i in t:\n",
    "    l.append(' '.join(i))\n",
    "print(l)"
   ]
  },
  {
   "cell_type": "code",
   "execution_count": 10,
   "metadata": {},
   "outputs": [
    {
     "ename": "SyntaxError",
     "evalue": "invalid syntax (<ipython-input-10-60535cdcc4ea>, line 1)",
     "output_type": "error",
     "traceback": [
      "\u001b[0;36m  File \u001b[0;32m\"<ipython-input-10-60535cdcc4ea>\"\u001b[0;36m, line \u001b[0;32m1\u001b[0m\n\u001b[0;31m    type(t2)ddasf\u001b[0m\n\u001b[0m                ^\u001b[0m\n\u001b[0;31mSyntaxError\u001b[0m\u001b[0;31m:\u001b[0m invalid syntax\n"
     ]
    }
   ],
   "source": [
    "type(t2)ddasf"
   ]
  },
  {
   "cell_type": "code",
   "execution_count": 13,
   "metadata": {},
   "outputs": [
    {
     "name": "stdout",
     "output_type": "stream",
     "text": [
      "SELECT * FROM symbols\n"
     ]
    }
   ],
   "source": [
    "table_name = 'symbols'\n",
    "s = f\"SELECT * FROM {table_name}\"\n",
    "print(s)"
   ]
  },
  {
   "cell_type": "code",
   "execution_count": 37,
   "metadata": {},
   "outputs": [
    {
     "ename": "OperationalError",
     "evalue": "near \"','\": syntax error",
     "output_type": "error",
     "traceback": [
      "\u001b[0;31m---------------------------------------------------------------------------\u001b[0m",
      "\u001b[0;31mOperationalError\u001b[0m                          Traceback (most recent call last)",
      "\u001b[0;32m<ipython-input-37-40e5857a1cff>\u001b[0m in \u001b[0;36m<module>\u001b[0;34m\u001b[0m\n\u001b[0;32m----> 1\u001b[0;31m \u001b[0mc\u001b[0m\u001b[0;34m.\u001b[0m\u001b[0mexecute\u001b[0m\u001b[0;34m(\u001b[0m\u001b[0;34m\"INSERT INTO stocks VALUES ('strftime('%s','now')','BUY','RHAT',100,35.14)\"\u001b[0m\u001b[0;34m)\u001b[0m\u001b[0;34m\u001b[0m\u001b[0;34m\u001b[0m\u001b[0m\n\u001b[0m\u001b[1;32m      2\u001b[0m \u001b[0mc\u001b[0m\u001b[0;34m.\u001b[0m\u001b[0mexecute\u001b[0m\u001b[0;34m(\u001b[0m\u001b[0;34m'SELECT * FROM stocks'\u001b[0m\u001b[0;34m)\u001b[0m\u001b[0;34m\u001b[0m\u001b[0;34m\u001b[0m\u001b[0m\n\u001b[1;32m      3\u001b[0m \u001b[0mprint\u001b[0m\u001b[0;34m(\u001b[0m\u001b[0mc\u001b[0m\u001b[0;34m.\u001b[0m\u001b[0mfetchall\u001b[0m\u001b[0;34m(\u001b[0m\u001b[0;34m)\u001b[0m\u001b[0;34m)\u001b[0m\u001b[0;34m\u001b[0m\u001b[0;34m\u001b[0m\u001b[0m\n",
      "\u001b[0;31mOperationalError\u001b[0m: near \"','\": syntax error"
     ]
    }
   ],
   "source": [
    "\n",
    "c.execute(\"INSERT INTO stocks VALUES ('strftime('%s','now')','BUY','RHAT',100,35.14)\")\n",
    "c.execute('SELECT * FROM stocks')\n",
    "print(c.fetchall())"
   ]
  },
  {
   "cell_type": "code",
   "execution_count": 32,
   "metadata": {},
   "outputs": [
    {
     "name": "stdout",
     "output_type": "stream",
     "text": [
      "[('2006-01-05', 'BUY', 'RHAT', 100.0, 35.14), ('2006-01-05', 'BUY', 'RHAT', 100.0, 35.14), ('2006-01-05', 'BUY', 'RHAT', 100.0, 35.14), ('2006-01-05', 'BUY', 'RHAT', 100.0, 35.14), ('2006-01-05', 'BUY', 'RHAT', 100.0, 35.14), ('2006-01-05', 'BUY', 'RHAT', 100.0, 35.14), ('2006-01-05', 'BUY', 'RHAT', 100.0, 35.14), ('2006-01-05', 'BUY', 'RHAT', 100.0, 35.14), ('2006-01-05', 'BUY', 'RHAT', 100.0, 35.14), ('2006-01-05', 'BUY', 'RHAT', 100.0, 35.14), ('2006-01-05', 'BUY', 'RHAT', 100.0, 35.14), ('2006-01-05', 'BUY', 'RHAT', 100.0, 35.14), ('2006-01-05', 'BUY', 'RHAT', 100.0, 35.14), ('2006-01-05', 'BUY', 'RHAT', 100.0, 35.14), ('2006-01-05', 'BUY', 'RHAT', 100.0, 35.14), ('2006-01-05', 'BUY', 'RHAT', 100.0, 35.14), ('2006-01-05', 'BUY', 'RHAT', 100.0, 35.14), ('2006-01-05', 'BUY', 'RHAT', 100.0, 35.14), ('2006-01-05', 'BUY', 'RHAT', 100.0, 35.14), ('2006-01-05', 'BUY', 'RHAT', 100.0, 35.14), ('2006-01-05', 'BUY', 'RHAT', 100.0, 35.14), ('2006-01-05', 'BUY', 'RHAT', 100.0, 35.14), ('2006-01-05', 'BUY', 'RHAT', 100.0, 35.14), ('2006-01-05', 'BUY', 'RHAT', 100.0, 35.14), ('2006-01-05', 'BUY', 'RHAT', 100.0, 35.14), ('2006-01-05', 'BUY', 'RHAT', 100.0, 35.14), ('2006-01-05', 'BUY', 'RHAT', 100.0, 35.14), ('2006-01-05', 'BUY', 'RHAT', 100.0, 35.14), ('2006-01-05', 'BUY', 'RHAT', 100.0, 35.14), ('2006-01-05', 'BUY', 'RHAT', 100.0, 35.14), ('2006-01-05', 'BUY', 'RHAT', 100.0, 35.14)]\n"
     ]
    }
   ],
   "source": [
    "# Do this instead\n",
    "t = ('RHAT',)\n",
    "c.execute('SELECT * FROM stocks')\n",
    "print(c.fetchall())"
   ]
  },
  {
   "cell_type": "code",
   "execution_count": 12,
   "metadata": {},
   "outputs": [
    {
     "data": {
      "text/plain": [
       "<sqlite3.Cursor at 0x7faca41eb0a0>"
      ]
     },
     "execution_count": 12,
     "metadata": {},
     "output_type": "execute_result"
    }
   ],
   "source": [
    "# Larger example that inserts many records at a time\n",
    "purchases = [('2006-03-28', 'BUY', 'IBM', 1000, 45.00),\n",
    "             ('2006-04-05', 'BUY', 'MSFT', 1000, 72.00),\n",
    "             ('2006-04-06', 'SELL', 'IBM', 500, 53.00),\n",
    "            ]\n",
    "c.executemany('INSERT INTO stocks VALUES (?,?,?,?,?)', purchases)"
   ]
  },
  {
   "cell_type": "code",
   "execution_count": 49,
   "metadata": {},
   "outputs": [
    {
     "name": "stdout",
     "output_type": "stream",
     "text": [
      "[('2006-01-05', 'BUY', 'RHAT', 100.0, 35.14), ('2006-01-05', 'BUY', 'RHAT', 100.0, 35.14), ('2006-01-05', 'BUY', 'RHAT', 100.0, 35.14), ('2006-01-05', 'BUY', 'RHAT', 100.0, 35.14), ('2006-01-05', 'BUY', 'RHAT', 100.0, 35.14), ('2006-01-05', 'BUY', 'RHAT', 100.0, 35.14), ('2006-01-05', 'BUY', 'RHAT', 100.0, 35.14), ('2006-01-05', 'BUY', 'RHAT', 100.0, 35.14), ('2006-01-05', 'BUY', 'RHAT', 100.0, 35.14), ('2006-01-05', 'BUY', 'RHAT', 100.0, 35.14), ('2006-01-05', 'BUY', 'RHAT', 100.0, 35.14), ('2006-01-05', 'BUY', 'RHAT', 100.0, 35.14), ('2006-01-05', 'BUY', 'RHAT', 100.0, 35.14), ('2006-01-05', 'BUY', 'RHAT', 100.0, 35.14), ('2006-01-05', 'BUY', 'RHAT', 100.0, 35.14), ('2006-01-05', 'BUY', 'RHAT', 100.0, 35.14), ('2006-01-05', 'BUY', 'RHAT', 100.0, 35.14), ('2006-01-05', 'BUY', 'RHAT', 100.0, 35.14), ('2006-01-05', 'BUY', 'RHAT', 100.0, 35.14), ('2006-01-05', 'BUY', 'RHAT', 100.0, 35.14), ('2006-01-05', 'BUY', 'RHAT', 100.0, 35.14), ('2006-01-05', 'BUY', 'RHAT', 100.0, 35.14), ('2006-01-05', 'BUY', 'RHAT', 100.0, 35.14), ('2006-01-05', 'BUY', 'RHAT', 100.0, 35.14), ('2006-01-05', 'BUY', 'RHAT', 100.0, 35.14), ('2006-01-05', 'BUY', 'RHAT', 100.0, 35.14), ('2006-01-05', 'BUY', 'RHAT', 100.0, 35.14), ('2006-01-05', 'BUY', 'RHAT', 100.0, 35.14), ('2006-01-05', 'BUY', 'RHAT', 100.0, 35.14), ('2006-01-05', 'BUY', 'RHAT', 100.0, 35.14), ('2006-01-05', 'BUY', 'RHAT', 100.0, 35.14)]\n",
      "[('hello', 'BUY', 'RHAT', 100.0, 35.14), ('2006-01-05', 'BUY', 'RHAT', 100.0, 35.14), ('2006-01-05', 'BUY', 'RHAT', 100.0, 35.14), ('2006-01-05', 'BUY', 'RHAT', 100.0, 35.14), ('2006-01-05', 'BUY', 'RHAT', 100.0, 35.14), ('2006-01-05', 'BUY', 'RHAT', 100.0, 35.14), ('2006-01-05', 'BUY', 'RHAT', 100.0, 35.14), ('2006-01-05', 'BUY', 'RHAT', 100.0, 35.14), ('2006-01-05', 'BUY', 'RHAT', 100.0, 35.14), ('2006-01-05', 'BUY', 'RHAT', 100.0, 35.14), ('2006-01-05', 'BUY', 'RHAT', 100.0, 35.14), ('2006-01-05', 'BUY', 'RHAT', 100.0, 35.14), ('2006-01-05', 'BUY', 'RHAT', 100.0, 35.14), ('2006-01-05', 'BUY', 'RHAT', 100.0, 35.14), ('2006-01-05', 'BUY', 'RHAT', 100.0, 35.14), ('2006-01-05', 'BUY', 'RHAT', 100.0, 35.14), ('2006-01-05', 'BUY', 'RHAT', 100.0, 35.14), ('2006-01-05', 'BUY', 'RHAT', 100.0, 35.14), ('2006-01-05', 'BUY', 'RHAT', 100.0, 35.14), ('2006-01-05', 'BUY', 'RHAT', 100.0, 35.14), ('2006-01-05', 'BUY', 'RHAT', 100.0, 35.14), ('2006-01-05', 'BUY', 'RHAT', 100.0, 35.14), ('2006-01-05', 'BUY', 'RHAT', 100.0, 35.14), ('2006-01-05', 'BUY', 'RHAT', 100.0, 35.14), ('2006-01-05', 'BUY', 'RHAT', 100.0, 35.14), ('2006-01-05', 'BUY', 'RHAT', 100.0, 35.14), ('2006-01-05', 'BUY', 'RHAT', 100.0, 35.14), ('2006-01-05', 'BUY', 'RHAT', 100.0, 35.14), ('2006-01-05', 'BUY', 'RHAT', 100.0, 35.14), ('2006-01-05', 'BUY', 'RHAT', 100.0, 35.14), ('2006-01-05', 'BUY', 'RHAT', 100.0, 35.14)]\n"
     ]
    }
   ],
   "source": [
    "c.execute('SELECT * FROM stocks')\n",
    "print(c.fetchall())\n",
    "\n",
    "cmd = \"UPDATE stocks SET date = 'hello' LIMIT 1\"\n",
    "c.execute(cmd)\n",
    "\n",
    "c.execute('SELECT * FROM stocks')\n",
    "print(c.fetchall())"
   ]
  },
  {
   "cell_type": "code",
   "execution_count": 39,
   "metadata": {},
   "outputs": [
    {
     "data": {
      "text/plain": [
       "<sqlite3.Cursor at 0x7faca6a6ace0>"
      ]
     },
     "execution_count": 39,
     "metadata": {},
     "output_type": "execute_result"
    }
   ],
   "source": [
    "c.execute('DROP TABLE stocks')"
   ]
  },
  {
   "cell_type": "code",
   "execution_count": 62,
   "metadata": {},
   "outputs": [
    {
     "name": "stdout",
     "output_type": "stream",
     "text": [
      "('2006-01-05', 'BUY', 'RHAT', 100.0, 35.14)\n",
      "('2006-01-05', 'BUY', 'RHAT', 100.0, 35.14)\n",
      "('2006-01-05', 'BUY', 'RHAT', 100.0, 35.14)\n",
      "('2006-01-05', 'BUY', 'RHAT', 100.0, 35.14)\n",
      "('2006-01-05', 'BUY', 'RHAT', 100.0, 35.14)\n",
      "('2006-01-05', 'BUY', 'RHAT', 100.0, 35.14)\n",
      "('2006-01-05', 'BUY', 'RHAT', 100.0, 35.14)\n",
      "('2006-01-05', 'BUY', 'RHAT', 100.0, 35.14)\n",
      "('2006-01-05', 'BUY', 'RHAT', 100.0, 35.14)\n",
      "('2006-01-05', 'BUY', 'RHAT', 100.0, 35.14)\n",
      "('2006-01-05', 'BUY', 'RHAT', 100.0, 35.14)\n",
      "('2006-01-05', 'BUY', 'RHAT', 100.0, 35.14)\n",
      "('2006-01-05', 'BUY', 'RHAT', 100.0, 35.14)\n",
      "('2006-01-05', 'BUY', 'RHAT', 100.0, 35.14)\n",
      "('2006-01-05', 'BUY', 'RHAT', 100.0, 35.14)\n",
      "('2006-01-05', 'BUY', 'RHAT', 100.0, 35.14)\n",
      "('2006-01-05', 'BUY', 'RHAT', 100.0, 35.14)\n",
      "('2006-01-05', 'BUY', 'RHAT', 100.0, 35.14)\n",
      "('2006-01-05', 'BUY', 'RHAT', 100.0, 35.14)\n",
      "('2006-01-05', 'BUY', 'RHAT', 100.0, 35.14)\n",
      "('2006-01-05', 'BUY', 'RHAT', 100.0, 35.14)\n",
      "('2006-01-05', 'BUY', 'RHAT', 100.0, 35.14)\n",
      "('2006-01-05', 'BUY', 'RHAT', 100.0, 35.14)\n",
      "('2006-01-05', 'BUY', 'RHAT', 100.0, 35.14)\n",
      "('2006-01-05', 'BUY', 'RHAT', 100.0, 35.14)\n",
      "('2006-01-05', 'BUY', 'RHAT', 100.0, 35.14)\n",
      "('2006-01-05', 'BUY', 'RHAT', 100.0, 35.14)\n",
      "('2006-01-05', 'BUY', 'RHAT', 100.0, 35.14)\n",
      "('2006-01-05', 'BUY', 'RHAT', 100.0, 35.14)\n",
      "('2006-01-05', 'BUY', 'RHAT', 100.0, 35.14)\n",
      "('2006-01-05', 'BUY', 'RHAT', 100.0, 35.14)\n"
     ]
    }
   ],
   "source": [
    "c.execute('SELECT * FROM stocks')\n",
    "for r in c:\n",
    "    print(r)"
   ]
  },
  {
   "cell_type": "code",
   "execution_count": 40,
   "metadata": {},
   "outputs": [],
   "source": [
    "conn.commit()"
   ]
  },
  {
   "cell_type": "code",
   "execution_count": 71,
   "metadata": {},
   "outputs": [
    {
     "name": "stdout",
     "output_type": "stream",
     "text": [
      "('table', 'stocks', 'stocks', 2, 'CREATE TABLE stocks\\n           (date text, trans text, symbol text, qty real, price real)')\n"
     ]
    }
   ],
   "source": [
    "c.execute('SELECT * FROM sqlite_master')\n",
    "for r in c:\n",
    "    print(r)"
   ]
  },
  {
   "cell_type": "code",
   "execution_count": 82,
   "metadata": {},
   "outputs": [
    {
     "name": "stdout",
     "output_type": "stream",
     "text": [
      "(0, 'date', 'text', 0, None, 0)\n",
      "(1, 'trans', 'text', 0, None, 0)\n",
      "(2, 'symbol', 'text', 0, None, 0)\n",
      "(3, 'qty', 'real', 0, None, 0)\n",
      "(4, 'price', 'real', 0, None, 0)\n"
     ]
    }
   ],
   "source": [
    "c.execute('PRAGMA table_info(stocks)')\n",
    "for r in c:\n",
    "    print(r)"
   ]
  },
  {
   "cell_type": "code",
   "execution_count": 81,
   "metadata": {},
   "outputs": [
    {
     "name": "stdout",
     "output_type": "stream",
     "text": [
      "0\n"
     ]
    }
   ],
   "source": [
    "c.execute('SELECT count(name) FROM sqlite_master WHERE type= ? AND name = ?', ('table','stocks1'))\n",
    "#c.execute('SELECT * FROM sqlite_master')\n",
    "print(c.fetchone()[0])"
   ]
  },
  {
   "cell_type": "code",
   "execution_count": 47,
   "metadata": {},
   "outputs": [
    {
     "name": "stdout",
     "output_type": "stream",
     "text": [
      "[5, 6, 7]\n"
     ]
    }
   ],
   "source": [
    "n = [1, 2, 3, 4, 5, 6 ,7]\n",
    "\n",
    "print(n[-3::])"
   ]
  },
  {
   "cell_type": "code",
   "execution_count": null,
   "metadata": {},
   "outputs": [],
   "source": []
  },
  {
   "cell_type": "code",
   "execution_count": null,
   "metadata": {},
   "outputs": [],
   "source": []
  }
 ],
 "metadata": {
  "kernelspec": {
   "display_name": "Python 3",
   "language": "python",
   "name": "python3"
  },
  "language_info": {
   "codemirror_mode": {
    "name": "ipython",
    "version": 3
   },
   "file_extension": ".py",
   "mimetype": "text/x-python",
   "name": "python",
   "nbconvert_exporter": "python",
   "pygments_lexer": "ipython3",
   "version": "3.6.9"
  }
 },
 "nbformat": 4,
 "nbformat_minor": 4
}
