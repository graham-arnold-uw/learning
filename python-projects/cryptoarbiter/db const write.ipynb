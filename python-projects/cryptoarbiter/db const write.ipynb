{
 "cells": [
  {
   "cell_type": "code",
   "execution_count": 18,
   "metadata": {},
   "outputs": [],
   "source": [
    "import sqlite3\n",
    "import time\n",
    "conn = sqlite3.connect('example2.db')\n",
    "\n",
    "c = conn.cursor()\n"
   ]
  },
  {
   "cell_type": "code",
   "execution_count": 20,
   "metadata": {},
   "outputs": [
    {
     "name": "stdout",
     "output_type": "stream",
     "text": [
      "insert  1\n",
      "insert  2\n",
      "insert  3\n",
      "insert  4\n",
      "insert  5\n"
     ]
    },
    {
     "ename": "OperationalError",
     "evalue": "database is locked",
     "output_type": "error",
     "traceback": [
      "\u001b[0;31m---------------------------------------------------------------------------\u001b[0m",
      "\u001b[0;31mOperationalError\u001b[0m                          Traceback (most recent call last)",
      "\u001b[0;32m<ipython-input-20-0b1a2ff98101>\u001b[0m in \u001b[0;36m<module>\u001b[0;34m\u001b[0m\n\u001b[1;32m      7\u001b[0m     \u001b[0;31m# Save (commit) the changes\u001b[0m\u001b[0;34m\u001b[0m\u001b[0;34m\u001b[0m\u001b[0;34m\u001b[0m\u001b[0m\n\u001b[1;32m      8\u001b[0m \u001b[0;34m\u001b[0m\u001b[0m\n\u001b[0;32m----> 9\u001b[0;31m \u001b[0mconn\u001b[0m\u001b[0;34m.\u001b[0m\u001b[0mcommit\u001b[0m\u001b[0;34m(\u001b[0m\u001b[0;34m)\u001b[0m\u001b[0;34m\u001b[0m\u001b[0;34m\u001b[0m\u001b[0m\n\u001b[0m",
      "\u001b[0;31mOperationalError\u001b[0m: database is locked"
     ]
    }
   ],
   "source": [
    "t = 0\n",
    "while(t < 5):\n",
    "    c.execute(\"INSERT INTO stocks VALUES ('2006-01-05','BUY','RHAT',100,35.14)\")\n",
    "    time.sleep(5)\n",
    "    t = t + 1\n",
    "    print('insert ',t)\n",
    "    # Save (commit) the changes\n",
    "\n",
    "conn.commit()"
   ]
  },
  {
   "cell_type": "code",
   "execution_count": 15,
   "metadata": {},
   "outputs": [
    {
     "name": "stdout",
     "output_type": "stream",
     "text": [
      "('2006-01-05', 'BUY', 'RHAT', 100.0, 35.14)\n",
      "('2006-01-05', 'BUY', 'RHAT', 100.0, 35.14)\n",
      "('2006-01-05', 'BUY', 'RHAT', 100.0, 35.14)\n",
      "('2006-01-05', 'BUY', 'RHAT', 100.0, 35.14)\n",
      "('2006-01-05', 'BUY', 'RHAT', 100.0, 35.14)\n",
      "('2006-01-05', 'BUY', 'RHAT', 100.0, 35.14)\n",
      "('2006-01-05', 'BUY', 'RHAT', 100.0, 35.14)\n",
      "('2006-01-05', 'BUY', 'RHAT', 100.0, 35.14)\n",
      "('2006-01-05', 'BUY', 'RHAT', 100.0, 35.14)\n",
      "('2006-01-05', 'BUY', 'RHAT', 100.0, 35.14)\n",
      "('2006-01-05', 'BUY', 'RHAT', 100.0, 35.14)\n",
      "('2006-01-05', 'BUY', 'RHAT', 100.0, 35.14)\n",
      "('2006-01-05', 'BUY', 'RHAT', 100.0, 35.14)\n",
      "('2006-01-05', 'BUY', 'RHAT', 100.0, 35.14)\n",
      "('2006-01-05', 'BUY', 'RHAT', 100.0, 35.14)\n"
     ]
    }
   ],
   "source": [
    "c.execute('SELECT * FROM stocks')\n",
    "for r in c:\n",
    "    print(r)"
   ]
  },
  {
   "cell_type": "code",
   "execution_count": null,
   "metadata": {},
   "outputs": [],
   "source": []
  }
 ],
 "metadata": {
  "kernelspec": {
   "display_name": "Python 3",
   "language": "python",
   "name": "python3"
  },
  "language_info": {
   "codemirror_mode": {
    "name": "ipython",
    "version": 3
   },
   "file_extension": ".py",
   "mimetype": "text/x-python",
   "name": "python",
   "nbconvert_exporter": "python",
   "pygments_lexer": "ipython3",
   "version": "3.6.9"
  }
 },
 "nbformat": 4,
 "nbformat_minor": 4
}
