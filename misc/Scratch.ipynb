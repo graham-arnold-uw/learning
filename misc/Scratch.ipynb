{
 "cells": [
  {
   "cell_type": "code",
   "execution_count": 2,
   "metadata": {},
   "outputs": [
    {
     "name": "stdout",
     "output_type": "stream",
     "text": [
      "<class 'bytes'>\n",
      "<class 'str'>\n",
      "El niño come camarón\n"
     ]
    }
   ],
   "source": [
    "x = b'El ni\\xc3\\xb1o come camar\\xc3\\xb3n'\n",
    "s = x.decode()\n",
    "print(type(x))\n",
    "print(type(s))\n",
    "print(s)"
   ]
  },
  {
   "cell_type": "code",
   "execution_count": 3,
   "metadata": {},
   "outputs": [
    {
     "ename": "SyntaxError",
     "evalue": "(value error) invalid \\x escape at position 0 (<ipython-input-3-086f1fe7fd9a>, line 1)",
     "output_type": "error",
     "traceback": [
      "\u001b[0;36m  File \u001b[0;32m\"<ipython-input-3-086f1fe7fd9a>\"\u001b[0;36m, line \u001b[0;32m1\u001b[0m\n\u001b[0;31m    x = b'\\x'\u001b[0m\n\u001b[0m       ^\u001b[0m\n\u001b[0;31mSyntaxError\u001b[0m\u001b[0;31m:\u001b[0m (value error) invalid \\x escape at position 0\n"
     ]
    }
   ],
   "source": [
    "x = b'\\x'\n",
    "print(x)"
   ]
  },
  {
   "cell_type": "code",
   "execution_count": 6,
   "metadata": {},
   "outputs": [
    {
     "name": "stdout",
     "output_type": "stream",
     "text": [
      "1084\n"
     ]
    }
   ],
   "source": [
    "x = ord('м')\n",
    "print(x)"
   ]
  },
  {
   "cell_type": "code",
   "execution_count": 8,
   "metadata": {},
   "outputs": [
    {
     "name": "stdout",
     "output_type": "stream",
     "text": [
      "b'Python bytes'\n",
      "[80, 121, 116, 104, 111, 110, 32, 98, 121, 116, 101, 115]\n"
     ]
    }
   ],
   "source": [
    "#create a bytes object\n",
    "y = b'Python bytes'\n",
    "#generates a list of codes from the characters of bytes\n",
    "z = list(y)\n",
    "print(y)\n",
    "print(z)\n"
   ]
  },
  {
   "cell_type": "code",
   "execution_count": 10,
   "metadata": {},
   "outputs": [
    {
     "name": "stdout",
     "output_type": "stream",
     "text": [
      "{'c'}\n"
     ]
    }
   ],
   "source": [
    "s1 = {'a','b','c'}\n",
    "s2 = {'a','b'}\n",
    "s3 = s1-s2\n",
    "print(s3)"
   ]
  },
  {
   "cell_type": "code",
   "execution_count": 11,
   "metadata": {},
   "outputs": [
    {
     "data": {
      "text/plain": [
       "3"
      ]
     },
     "execution_count": 11,
     "metadata": {},
     "output_type": "execute_result"
    }
   ],
   "source": [
    "len(s1)"
   ]
  },
  {
   "cell_type": "code",
   "execution_count": 14,
   "metadata": {},
   "outputs": [],
   "source": [
    "def find_added_columns(new_set,prev_set):\n",
    "    res = set()\n",
    "    for new in new_set:\n",
    "        if new not in prev_set:\n",
    "            res.add(new)\n",
    "    return res\n",
    "\n",
    "def find_deleted_columns(new_set, prev_set):\n",
    "    res = set()\n",
    "    for prev in prev_set:\n",
    "        if prev not in new_set:\n",
    "            res.add(prev)\n",
    "    return res"
   ]
  },
  {
   "cell_type": "code",
   "execution_count": 15,
   "metadata": {},
   "outputs": [
    {
     "name": "stdout",
     "output_type": "stream",
     "text": [
      "{'c'}\n",
      "{'c'}\n"
     ]
    }
   ],
   "source": [
    "res1 = find_added_columns(s1,s2)\n",
    "print(res1)\n",
    "\n",
    "res2 = find_deleted_columns(s2,s1)\n",
    "print(res2)"
   ]
  },
  {
   "cell_type": "code",
   "execution_count": 17,
   "metadata": {},
   "outputs": [
    {
     "name": "stdout",
     "output_type": "stream",
     "text": [
      "Unpacked list: (1, 0, 1)\n"
     ]
    }
   ],
   "source": [
    "a = [1, 0, 1]\n",
    "print(f\"Unpacked list: {*a,}\")\n",
    "table_name = 'active'"
   ]
  },
  {
   "cell_type": "code",
   "execution_count": 19,
   "metadata": {},
   "outputs": [
    {
     "name": "stdout",
     "output_type": "stream",
     "text": [
      "INSERT INTO active(('ltc', 'btc', 'eth')) VALUES((1, 0, 1))\n"
     ]
    }
   ],
   "source": [
    "c = ['ltc','btc','eth']\n",
    "s = f\"INSERT INTO {table_name}({*c,}) VALUES({*a,})\"\n",
    "print(s)"
   ]
  },
  {
   "cell_type": "code",
   "execution_count": 21,
   "metadata": {},
   "outputs": [
    {
     "name": "stdout",
     "output_type": "stream",
     "text": [
      "['symbols text', 'prices text']\n",
      "symbols text,prices text\n"
     ]
    }
   ],
   "source": [
    "n = 'table_name'\n",
    "c1 = ('symbols','prices')\n",
    "c2 = 'symbols'\n",
    "t1 = ('text','text')\n",
    "t2 = 'text'\n",
    "\n",
    "\n",
    "z = list(zip(c1,t1))\n",
    "q = zip(c1,t1)\n",
    "res = [item[0] + \" \" + item[1] for item in q]\n",
    "print(res)\n",
    "cmd = \",\".join(res)\n",
    "print(cmd)"
   ]
  },
  {
   "cell_type": "code",
   "execution_count": null,
   "metadata": {},
   "outputs": [],
   "source": [
    "\n",
    "if isinstance(cols,str) or  not isinstance(cols,Sequence):\n",
    "    cmd = f\"CREATE TABLE IF NOT EXISTS {n} ({c2, t2})\"\n",
    "else\n",
    "    cmd = f\"CREATE TALBE IF NOT EXISTS {n} \""
   ]
  },
  {
   "cell_type": "code",
   "execution_count": null,
   "metadata": {},
   "outputs": [],
   "source": [
    "cmd_string = 'CREATE TABLE IF NOT EXISTS ' + '\"' + name + '\"' + \\\n",
    "                        ' (' + ','.join(col_heads) + ')'"
   ]
  }
 ],
 "metadata": {
  "kernelspec": {
   "display_name": "Python 3",
   "language": "python",
   "name": "python3"
  },
  "language_info": {
   "codemirror_mode": {
    "name": "ipython",
    "version": 3
   },
   "file_extension": ".py",
   "mimetype": "text/x-python",
   "name": "python",
   "nbconvert_exporter": "python",
   "pygments_lexer": "ipython3",
   "version": "3.6.9"
  }
 },
 "nbformat": 4,
 "nbformat_minor": 4
}
