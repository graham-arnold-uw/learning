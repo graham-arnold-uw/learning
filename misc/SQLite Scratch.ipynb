{
 "cells": [
  {
   "cell_type": "code",
   "execution_count": 4,
   "metadata": {},
   "outputs": [],
   "source": [
    "import sqlite3\n",
    "\n",
    "db = sqlite3.connect('test.db', timeout=10)\n",
    "\n",
    "c = db.cursor()\n",
    "\n",
    "c.execute('''CREATE TABLE stocks\n",
    "           (date text, trans text, symbol text, qty real, price real)''')\n",
    "db.commit()"
   ]
  },
  {
   "cell_type": "code",
   "execution_count": 9,
   "metadata": {},
   "outputs": [],
   "source": [
    "table_name = 'stocks'\n",
    "cols = ['date','trans','symbol','qty','price']\n",
    "vals = ['2006-01-05','BUY','RHAT','100','35.14']\n",
    "cmd = f\"INSERT INTO {table_name}{*cols,} VALUES{*vals,}\"\n",
    "\n",
    "#print(cmd)\n",
    "c.execute(cmd)\n",
    "db.commit()"
   ]
  },
  {
   "cell_type": "code",
   "execution_count": 10,
   "metadata": {},
   "outputs": [
    {
     "name": "stdout",
     "output_type": "stream",
     "text": [
      "[('2006-01-05', 'BUY', 'RHAT', 100.0, 35.14), ('2006-01-05', 'BUY', 'RHAT', 100.0, 35.14)]\n"
     ]
    }
   ],
   "source": [
    "c.execute(f\"SELECT * FROM {table_name}\")\n",
    "print(c.fetchall())"
   ]
  },
  {
   "cell_type": "code",
   "execution_count": 14,
   "metadata": {
    "scrolled": true
   },
   "outputs": [
    {
     "name": "stdout",
     "output_type": "stream",
     "text": [
      "[('2006-01-05', 'BUY', 'RHAT', 100.0, 35.14), ('2006-01-05', 'BUY', 'RHAT', 100.0, 35.14), ('2006-01-05', None, 'RHAT', 100.0, 35.14), ('2006-01-05', None, 'RHAT', 100.0, 35.14), ('2006-01-05', None, 'RHAT', 100.0, 35.14), ('2006-01-05', None, 'RHAT', 100.0, 35.14)]\n"
     ]
    }
   ],
   "source": [
    "cols2 = ('date','symbol','qty','price')\n",
    "vals2 = ('2006-01-05','RHAT','100','35.14')\n",
    "cmd = f\"INSERT INTO {table_name}{*cols2,} VALUES{*vals2,}\"\n",
    "c.execute(cmd)\n",
    "db.commit()\n",
    "\n",
    "c.execute(f\"SELECT * FROM {table_name}\")\n",
    "print(c.fetchall())"
   ]
  },
  {
   "cell_type": "code",
   "execution_count": 49,
   "metadata": {},
   "outputs": [
    {
     "name": "stdout",
     "output_type": "stream",
     "text": [
      "[('2013-01-05', 'SELL', 'RHAT', 100.0, 100.5), ('2006-01-05', 'BUY', 'RHAT', 100.0, 35.14), ('2006-01-05', None, 'RHAT', 100.0, 35.14), ('2006-01-05', None, 'RHAT', 100.0, 35.14), ('2006-01-05', None, 'RHAT', 100.0, 35.14), ('2006-01-05', None, 'RHAT', 100.0, 35.14), ('2013', None, None, None, None), ('2020-01-05', 'BUY', None, None, None), ('2013', None, None, None, None), ('2019-01-05', None, None, None, None)]\n"
     ]
    }
   ],
   "source": [
    "row_num = 1\n",
    "cols = 'price'\n",
    "vals = '100.5'\n",
    "#cols = ['date','trans','symbol','qty','price']\n",
    "#vals = ['2012-01-05','BUY','RHAT','100','40.14']\n",
    "cmd2 = f\"UPDATE {table_name} SET {cols} = '{vals}' WHERE rowid = {row_num}\"\n",
    "#print(cmd2)\n",
    "cmd = f\"INSERT INTO {table_name}({cols}) VALUES('{vals}')\"\n",
    "c.execute(cmd2)\n",
    "db.commit()\n",
    "\n",
    "c.execute(f\"SELECT * FROM {table_name}\")\n",
    "print(c.fetchall())"
   ]
  },
  {
   "cell_type": "code",
   "execution_count": 33,
   "metadata": {},
   "outputs": [
    {
     "name": "stdout",
     "output_type": "stream",
     "text": [
      "[('2017-01-05', 'BUY', 'RHAT', 100.0, 40.14)]\n"
     ]
    }
   ],
   "source": [
    "cmd = f\"SELECT * FROM {table_name} WHERE rowid = {row_num}\"\n",
    "c.execute(cmd)\n",
    "print(c.fetchall())"
   ]
  },
  {
   "cell_type": "code",
   "execution_count": 21,
   "metadata": {},
   "outputs": [],
   "source": [
    "t = ['a','b']\n",
    "t2 = ('a','b')\n"
   ]
  },
  {
   "cell_type": "code",
   "execution_count": 24,
   "metadata": {},
   "outputs": [
    {
     "name": "stdout",
     "output_type": "stream",
     "text": [
      "True\n"
     ]
    }
   ],
   "source": [
    "print(tuple(t)==t2)"
   ]
  },
  {
   "cell_type": "code",
   "execution_count": 50,
   "metadata": {},
   "outputs": [],
   "source": [
    "u = []\n",
    "\n",
    "for i in u:\n",
    "    print('h')"
   ]
  },
  {
   "cell_type": "code",
   "execution_count": null,
   "metadata": {},
   "outputs": [],
   "source": []
  }
 ],
 "metadata": {
  "kernelspec": {
   "display_name": "Python 3",
   "language": "python",
   "name": "python3"
  },
  "language_info": {
   "codemirror_mode": {
    "name": "ipython",
    "version": 3
   },
   "file_extension": ".py",
   "mimetype": "text/x-python",
   "name": "python",
   "nbconvert_exporter": "python",
   "pygments_lexer": "ipython3",
   "version": "3.6.9"
  }
 },
 "nbformat": 4,
 "nbformat_minor": 4
}
