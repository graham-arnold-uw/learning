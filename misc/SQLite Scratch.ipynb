{
 "cells": [
  {
   "cell_type": "code",
   "execution_count": null,
   "metadata": {},
   "outputs": [],
   "source": [
    "import sqlite3\n",
    "\n",
    "db = sqlite3.connect('test.db', timeout=10)\n",
    "\n",
    "c = db.cursor()\n",
    "\n",
    "#c.execute('''CREATE TABLE stocks\n",
    "          # (date text, trans text, symbol text, qty real, price real)#''')#\n",
    "#db.commit()"
   ]
  },
  {
   "cell_type": "code",
   "execution_count": null,
   "metadata": {},
   "outputs": [],
   "source": [
    "table_name = 'stocks'\n",
    "cols = ['date','trans','symbol','qty','price']\n",
    "vals = ['2006-01-05','BUY','RHAT','100','35.14']\n",
    "cmd = f\"INSERT INTO {table_name}{*cols,} VALUES{*vals,}\"\n",
    "\n",
    "#print(cmd)\n",
    "c.execute(cmd)\n",
    "db.commit()"
   ]
  },
  {
   "cell_type": "code",
   "execution_count": null,
   "metadata": {},
   "outputs": [],
   "source": [
    "c.execute('CREATE TABLE test (INCHBTC text)')\n",
    "db.commit()"
   ]
  },
  {
   "cell_type": "code",
   "execution_count": null,
   "metadata": {},
   "outputs": [],
   "source": [
    "c.execute('SELECT name FROM PRAGMA_TABLE_INFO(?)', ('test',))\n",
    "print(c.fetchall())"
   ]
  },
  {
   "cell_type": "code",
   "execution_count": null,
   "metadata": {},
   "outputs": [],
   "source": [
    "cmd = 'DROP TABLE test'\n",
    "c.execute(cmd)\n",
    "db.commit()"
   ]
  },
  {
   "cell_type": "code",
   "execution_count": null,
   "metadata": {},
   "outputs": [],
   "source": [
    "table_name = 'stocks'\n",
    "c.execute(f\"SELECT * FROM {table_name}\")\n",
    "res = c.fetchall()\n",
    "end = res[-1]\n",
    "n = end[1]\n",
    "print(res)\n",
    "print(type(n))"
   ]
  },
  {
   "cell_type": "code",
   "execution_count": null,
   "metadata": {},
   "outputs": [],
   "source": [
    "c.execute(f\"SELECT * FROM {table_name} WHERE rowid = 1\")\n",
    "print(c.fetchall())"
   ]
  },
  {
   "cell_type": "code",
   "execution_count": null,
   "metadata": {},
   "outputs": [],
   "source": [
    "4 % 4"
   ]
  },
  {
   "cell_type": "code",
   "execution_count": null,
   "metadata": {},
   "outputs": [],
   "source": [
    "with open('analytics_choices.txt') as f:\n",
    "    first_line = f.readline()\n",
    "    \n",
    "    print(first_line.rstrip())\n",
    "    for line in f:\n",
    "        print(line.rstrip())"
   ]
  },
  {
   "cell_type": "code",
   "execution_count": null,
   "metadata": {},
   "outputs": [],
   "source": [
    "with open('analytics_choices.txt') as f:\n",
    "    file = list(f)\n",
    "    file = [s.rstrip() for s in file]\n",
    "    \n",
    "print(file)\n"
   ]
  },
  {
   "cell_type": "code",
   "execution_count": null,
   "metadata": {},
   "outputs": [],
   "source": [
    "c.execute('DROP TABLE IF EXISTS test_table')\n",
    "db.commit()\n",
    "c.execute(f\"CREATE TABLE test_table AS SELECT * FROM {table_name} WHERE rowid = -1\")\n",
    "db.commit()\n",
    "\n",
    "#cols2 = ('date','symbol','qty','price')\n",
    "#vals2 = ('2069-09-09','RHAT','100','69')\n",
    "#cmd = f\"INSERT INTO test_table{*cols2,} VALUES{*vals2,}\"\n",
    "#c.execute(cmd)\n",
    "#db.commit()\n",
    "\n",
    "c.execute(f\"SELECT * FROM test_table\")\n",
    "print(c.fetchall())\n",
    "\n",
    "c.execute('SELECT name FROM PRAGMA_TABLE_INFO(?)', ('test_table',))\n",
    "\n",
    "res1 = \n",
    "print(c.fetchall())\n",
    "\n",
    "\n",
    "c.execute('SELECT type FROM PRAGMA_TABLE_INFO(?)', (table_name,))\n",
    "\n",
    "print(c.fetchall())\n"
   ]
  },
  {
   "cell_type": "code",
   "execution_count": null,
   "metadata": {},
   "outputs": [],
   "source": [
    "from collections import defaultdict\n",
    "tup = ('H',None)\n",
    "other = [tup]\n",
    "d = defaultdict(dict)\n",
    "d['SMA'].update(other)\n",
    "print(d)"
   ]
  },
  {
   "cell_type": "code",
   "execution_count": null,
   "metadata": {
    "scrolled": true
   },
   "outputs": [],
   "source": [
    "cols2 = ('date','symbol','qty','price')\n",
    "vals2 = ('2006-01-05','RHAT','100','35.14')\n",
    "cmd = f\"INSERT INTO {table_name}{*cols2,} VALUES{*vals2,}\"\n",
    "c.execute(cmd)\n",
    "db.commit()\n",
    "\n",
    "c.execute(f\"SELECT * FROM {table_name}\")\n",
    "print(c.fetchall())"
   ]
  },
  {
   "cell_type": "code",
   "execution_count": null,
   "metadata": {},
   "outputs": [],
   "source": [
    "t = [1,2,3]\n",
    "q = [2,3,4]\n",
    "\n",
    "print(list(zip(t,q)))"
   ]
  },
  {
   "cell_type": "code",
   "execution_count": null,
   "metadata": {},
   "outputs": [],
   "source": [
    "row_num = 1\n",
    "cols = ['price', 'trans']\n",
    "vals = '100.5'\n",
    "#cols = ['date','trans','symbol','qty','price']\n",
    "#vals = ['2012-01-05','BUY','RHAT','100','40.14']\n",
    "cmd2 = f\"UPDATE {table_name} SET {cols} = '{vals}' WHERE rowid = {row_num}\"\n",
    "#print(cmd2)\n",
    "cmd = f\"INSERT INTO {table_name}({cols}) VALUES('{vals}')\"\n",
    "c.execute(cmd2)\n",
    "db.commit()\n",
    "\n",
    "c.execute(f\"SELECT * FROM {table_name}\")\n",
    "print(c.fetchall())"
   ]
  },
  {
   "cell_type": "code",
   "execution_count": null,
   "metadata": {},
   "outputs": [],
   "source": [
    "col = 12\n",
    "test = \",\".join(col)\n",
    "print(test)"
   ]
  },
  {
   "cell_type": "code",
   "execution_count": null,
   "metadata": {},
   "outputs": [],
   "source": [
    "cols = 'price'\n",
    "c_string = \",\".join(cols)\n",
    "\n",
    "cmd1 = \"SELECT \" + c_string + f\" FROM {table_name} WHERE rowid = {row_num}\"\n",
    "cmd2 = f\"SELECT {cols} FROM {table_name} WHERE rowid = {row_num}\"\n",
    "print(cmd)\n",
    "c.execute(cmd2)\n",
    "print(c.fetchall())"
   ]
  },
  {
   "cell_type": "code",
   "execution_count": null,
   "metadata": {},
   "outputs": [],
   "source": [
    "t = ['a','b']\n",
    "t2 = ('a','b')\n"
   ]
  },
  {
   "cell_type": "code",
   "execution_count": null,
   "metadata": {},
   "outputs": [],
   "source": [
    "y1 = f\"hello {table_name}\"\n",
    "y2 = \"string\"\n",
    "print(y1+y2)"
   ]
  },
  {
   "cell_type": "code",
   "execution_count": null,
   "metadata": {},
   "outputs": [],
   "source": [
    "u = ['a','b','c']\n",
    "f, *l = u\n",
    "print(l)"
   ]
  },
  {
   "cell_type": "code",
   "execution_count": null,
   "metadata": {},
   "outputs": [],
   "source": [
    "from collections.abc import Sequence\n",
    "l = [1,2,3]\n",
    "t = 'test'\n",
    "t1 = 1.1\n",
    "print(isinstance(t1, Sequence))"
   ]
  },
  {
   "cell_type": "code",
   "execution_count": null,
   "metadata": {},
   "outputs": [],
   "source": [
    "e = 1\n",
    "b = tuple(e)\n",
    "print(b)"
   ]
  },
  {
   "cell_type": "code",
   "execution_count": null,
   "metadata": {},
   "outputs": [],
   "source": [
    "s = [('M','30,15'), ('H','4'), ('D','4')]\n",
    "d = dict(s)\n",
    "for k in d:\n",
    "    print(d[k])\n"
   ]
  },
  {
   "cell_type": "code",
   "execution_count": null,
   "metadata": {},
   "outputs": [],
   "source": [
    "n = ['helo', 'pair']\n",
    "for f in n:\n",
    "    print(f)"
   ]
  },
  {
   "cell_type": "code",
   "execution_count": null,
   "metadata": {},
   "outputs": [],
   "source": [
    "from collections import deque\n",
    "s = deque()\n",
    "s.append(2)\n",
    "print(s)\n",
    "def f(q):\n",
    "    q.append(3)\n",
    "    \n",
    "f(s)\n",
    "print(s)\n"
   ]
  },
  {
   "cell_type": "code",
   "execution_count": null,
   "metadata": {},
   "outputs": [],
   "source": [
    "import sys, os.path\n",
    "import getpass\n",
    "username = getpass.getuser()\n",
    "keypath = ['/home', username, 'Desktop', 'keys','binance']\n",
    "path = os.path.join(*keypath)\n",
    "print(path)\n",
    "sys.path.append(path)\n",
    "print(sys.path)\n",
    "from testkey1 import API_KEY\n",
    "print(API_KEY)"
   ]
  },
  {
   "cell_type": "code",
   "execution_count": null,
   "metadata": {},
   "outputs": [],
   "source": [
    "import testkey1"
   ]
  },
  {
   "cell_type": "code",
   "execution_count": null,
   "metadata": {},
   "outputs": [],
   "source": [
    "print(sys.executable)\n",
    "print(sys.path)"
   ]
  },
  {
   "cell_type": "code",
   "execution_count": null,
   "metadata": {},
   "outputs": [],
   "source": [
    "from collections import defaultdict\n",
    "dc = defaultdict(float)\n",
    "\n",
    "\n",
    "for i in range(3):\n",
    "    dc[str(i)] = i* 0.3\n",
    "    \n",
    "print(dc)"
   ]
  },
  {
   "cell_type": "code",
   "execution_count": null,
   "metadata": {},
   "outputs": [],
   "source": [
    "import time\n",
    "\n",
    "print(time.time())"
   ]
  },
  {
   "cell_type": "code",
   "execution_count": null,
   "metadata": {},
   "outputs": [],
   "source": []
  },
  {
   "cell_type": "code",
   "execution_count": null,
   "metadata": {},
   "outputs": [],
   "source": [
    "cols = list(dc.keys())\n",
    "vals = list(dc.values())\n",
    "print(cols)\n",
    "print(vals)"
   ]
  },
  {
   "cell_type": "code",
   "execution_count": null,
   "metadata": {},
   "outputs": [],
   "source": [
    "n = ['helo', 'pair']\n",
    "u = 'time'\n",
    "e = u + n"
   ]
  },
  {
   "cell_type": "code",
   "execution_count": null,
   "metadata": {},
   "outputs": [],
   "source": []
  },
  {
   "cell_type": "code",
   "execution_count": 5,
   "metadata": {},
   "outputs": [],
   "source": [
    "from collections import defaultdict\n",
    "ANALYTICS_CHOICES_FILE = 'analytics_choices.txt'\n",
    "def construct_driver_choices():\n",
    "  \n",
    "    with open(ANALYTICS_CHOICES_FILE) as f:\n",
    "        choices_file = list(f)\n",
    "        choices_file = [s.rstrip() for s in choices_file]\n",
    "\n",
    "    \n",
    "    i = 0\n",
    "    choices_dict = defaultdict(dict)\n",
    "    while i < len(choices_file):\n",
    "        if i % 4 == 0:\n",
    "            choice = choices_file[i] \n",
    "        else:\n",
    "            inval = choices_file[i]\n",
    "            tu = inval.split(':')\n",
    "            if len(tu[1]) == 0:\n",
    "                tu[1] = None\n",
    "            else:\n",
    "                tu[1] = tu[1].split(',')\n",
    "            choices_dict[choice].update([tu])\n",
    "        i += 1\n",
    "    return choices_dict"
   ]
  },
  {
   "cell_type": "code",
   "execution_count": 6,
   "metadata": {},
   "outputs": [
    {
     "name": "stdout",
     "output_type": "stream",
     "text": [
      "defaultdict(<class 'dict'>, {'SMA': {'M': ['30', '45'], 'H': ['4', '6', '7'], 'D': ['3']}, 'EMA': {'M': None, 'H': ['12'], 'D': ['200']}})\n"
     ]
    }
   ],
   "source": [
    "dict_res = construct_driver_choices()\n",
    "print(dict_res)"
   ]
  },
  {
   "cell_type": "code",
   "execution_count": 17,
   "metadata": {},
   "outputs": [],
   "source": [
    "ANALYTICS_CHOICES_FILE = 'analytics_choices.txt'\n",
    "QUOTE_LIST = ('BTC',)\n",
    "def initialize_analytics_tree(antype, analytics_choices):\n",
    "\n",
    "    analytics_tree = {}\n",
    "\n",
    "    for quote in QUOTE_LIST:\n",
    "        #choices_dict = {}\n",
    "        for k in analytics_choices:\n",
    "            choices = analytics_choices[k]\n",
    "            if choices != None:\n",
    "                for c in choices:\n",
    "                    table_name = construct_analytics_tablename(quote,antype,k,c)\n",
    "                    analytics_tree[table_name] = defaultdict(int)\n",
    "    \n",
    "    return analytics_tree\n",
    "\n",
    "def construct_driver_choices():\n",
    "  \n",
    "    with open(ANALYTICS_CHOICES_FILE) as f:\n",
    "        choices_file = list(f)\n",
    "        choices_file = [s.rstrip() for s in choices_file]\n",
    "\n",
    "    \n",
    "    i = 0\n",
    "    choices_dict = defaultdict(dict)\n",
    "    while i < len(choices_file):\n",
    "        if i % 4 == 0:\n",
    "            choice = choices_file[i] \n",
    "        else:\n",
    "            inval = choices_file[i]\n",
    "            tu = inval.split(':')\n",
    "            if len(tu[1]) == 0:\n",
    "                tu[1] = None\n",
    "            else:\n",
    "                tu[1] = tu[1].split(',')\n",
    "            choices_dict[choice].update([tu])\n",
    "        i += 1\n",
    "\n",
    "    return choices_dict\n",
    "\n",
    "\n",
    "def boot_strapper(driver_choices):\n",
    "\n",
    "    analytics_tree = {}\n",
    "\n",
    "    for choice in driver_choices:\n",
    "        curr_tree = initialize_analytics_tree(choice, driver_choices[choice])\n",
    "        analytics_tree[choice] = curr_tree\n",
    "        \n",
    "    return analytics_tree\n",
    "\n",
    "\n",
    "def construct_analytics_tablename(quote, antype, timescale, slots):\n",
    "    return str(quote) + '_' + str(antype) + '_' + str(slots) + str(timescale)"
   ]
  },
  {
   "cell_type": "code",
   "execution_count": 19,
   "metadata": {},
   "outputs": [
    {
     "name": "stdout",
     "output_type": "stream",
     "text": [
      "defaultdict(<class 'dict'>, {'SMA': {'M': ['30', '45'], 'H': ['4', '6', '7'], 'D': ['3']}, 'EMA': {'M': None, 'H': ['12'], 'D': ['200']}})\n",
      "\n",
      "{'SMA': {'BTC_SMA_30M': defaultdict(<class 'int'>, {}), 'BTC_SMA_45M': defaultdict(<class 'int'>, {}), 'BTC_SMA_4H': defaultdict(<class 'int'>, {}), 'BTC_SMA_6H': defaultdict(<class 'int'>, {}), 'BTC_SMA_7H': defaultdict(<class 'int'>, {}), 'BTC_SMA_3D': defaultdict(<class 'int'>, {})}, 'EMA': {'BTC_EMA_12H': defaultdict(<class 'int'>, {}), 'BTC_EMA_200D': defaultdict(<class 'int'>, {})}}\n"
     ]
    }
   ],
   "source": [
    "driver_choices = construct_driver_choices()\n",
    "analytics_tree = boot_strapper(driver_choices)\n",
    "print(driver_choices)\n",
    "print()\n",
    "print(analytics_tree)"
   ]
  },
  {
   "cell_type": "code",
   "execution_count": 20,
   "metadata": {},
   "outputs": [],
   "source": [
    "s = 'BTC_SMA_30H'\n",
    "s1,s2,s3 = s.split('_')"
   ]
  },
  {
   "cell_type": "code",
   "execution_count": 23,
   "metadata": {},
   "outputs": [
    {
     "name": "stdout",
     "output_type": "stream",
     "text": [
      "30H\n"
     ]
    }
   ],
   "source": [
    "print(s3)"
   ]
  },
  {
   "cell_type": "code",
   "execution_count": null,
   "metadata": {},
   "outputs": [],
   "source": []
  }
 ],
 "metadata": {
  "kernelspec": {
   "display_name": "Python 3",
   "language": "python",
   "name": "python3"
  },
  "language_info": {
   "codemirror_mode": {
    "name": "ipython",
    "version": 3
   },
   "file_extension": ".py",
   "mimetype": "text/x-python",
   "name": "python",
   "nbconvert_exporter": "python",
   "pygments_lexer": "ipython3",
   "version": "3.6.9"
  }
 },
 "nbformat": 4,
 "nbformat_minor": 4
}
