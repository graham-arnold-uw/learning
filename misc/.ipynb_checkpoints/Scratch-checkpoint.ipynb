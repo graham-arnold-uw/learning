{
 "cells": [
  {
   "cell_type": "code",
   "execution_count": 3,
   "metadata": {},
   "outputs": [
    {
     "ename": "SyntaxError",
     "evalue": "(value error) invalid \\x escape at position 0 (<ipython-input-3-086f1fe7fd9a>, line 1)",
     "output_type": "error",
     "traceback": [
      "\u001b[0;36m  File \u001b[0;32m\"<ipython-input-3-086f1fe7fd9a>\"\u001b[0;36m, line \u001b[0;32m1\u001b[0m\n\u001b[0;31m    x = b'\\x'\u001b[0m\n\u001b[0m       ^\u001b[0m\n\u001b[0;31mSyntaxError\u001b[0m\u001b[0;31m:\u001b[0m (value error) invalid \\x escape at position 0\n"
     ]
    }
   ],
   "source": [
    "x = b'\\x'\n",
    "print(x)"
   ]
  },
  {
   "cell_type": "code",
   "execution_count": 6,
   "metadata": {},
   "outputs": [
    {
     "name": "stdout",
     "output_type": "stream",
     "text": [
      "1084\n"
     ]
    }
   ],
   "source": [
    "x = ord('м')\n",
    "print(x)"
   ]
  },
  {
   "cell_type": "code",
   "execution_count": 8,
   "metadata": {},
   "outputs": [
    {
     "name": "stdout",
     "output_type": "stream",
     "text": [
      "b'Python bytes'\n",
      "[80, 121, 116, 104, 111, 110, 32, 98, 121, 116, 101, 115]\n"
     ]
    }
   ],
   "source": [
    "#create a bytes object\n",
    "y = b'Python bytes'\n",
    "#generates a list of codes from the characters of bytes\n",
    "z = list(y)\n",
    "print(y)\n",
    "print(z)\n"
   ]
  },
  {
   "cell_type": "code",
   "execution_count": 10,
   "metadata": {},
   "outputs": [
    {
     "name": "stdout",
     "output_type": "stream",
     "text": [
      "{'c'}\n"
     ]
    }
   ],
   "source": [
    "s1 = {'a','b','c'}\n",
    "s2 = {'a','b'}\n",
    "s3 = s1-s2\n",
    "print(s3)"
   ]
  },
  {
   "cell_type": "code",
   "execution_count": 11,
   "metadata": {},
   "outputs": [
    {
     "data": {
      "text/plain": [
       "3"
      ]
     },
     "execution_count": 11,
     "metadata": {},
     "output_type": "execute_result"
    }
   ],
   "source": [
    "len(s1)"
   ]
  },
  {
   "cell_type": "code",
   "execution_count": 14,
   "metadata": {},
   "outputs": [],
   "source": [
    "def find_added_columns(new_set,prev_set):\n",
    "    res = set()\n",
    "    for new in new_set:\n",
    "        if new not in prev_set:\n",
    "            res.add(new)\n",
    "    return res\n",
    "\n",
    "def find_deleted_columns(new_set, prev_set):\n",
    "    res = set()\n",
    "    for prev in prev_set:\n",
    "        if prev not in new_set:\n",
    "            res.add(prev)\n",
    "    return res"
   ]
  },
  {
   "cell_type": "code",
   "execution_count": 15,
   "metadata": {},
   "outputs": [
    {
     "name": "stdout",
     "output_type": "stream",
     "text": [
      "{'c'}\n",
      "{'c'}\n"
     ]
    }
   ],
   "source": [
    "res1 = find_added_columns(s1,s2)\n",
    "print(res1)\n",
    "\n",
    "res2 = find_deleted_columns(s2,s1)\n",
    "print(res2)"
   ]
  },
  {
   "cell_type": "code",
   "execution_count": 17,
   "metadata": {},
   "outputs": [
    {
     "name": "stdout",
     "output_type": "stream",
     "text": [
      "Unpacked list: (1, 0, 1)\n"
     ]
    }
   ],
   "source": [
    "a = [1, 0, 1]\n",
    "print(f\"Unpacked list: {*a,}\")\n",
    "table_name = 'active'"
   ]
  },
  {
   "cell_type": "code",
   "execution_count": 19,
   "metadata": {},
   "outputs": [
    {
     "name": "stdout",
     "output_type": "stream",
     "text": [
      "INSERT INTO active(('ltc', 'btc', 'eth')) VALUES((1, 0, 1))\n"
     ]
    }
   ],
   "source": [
    "c = ['ltc','btc','eth']\n",
    "s = f\"INSERT INTO {table_name}({*c,}) VALUES({*a,})\"\n",
    "print(s)"
   ]
  },
  {
   "cell_type": "code",
   "execution_count": 21,
   "metadata": {},
   "outputs": [
    {
     "name": "stdout",
     "output_type": "stream",
     "text": [
      "['symbols text', 'prices text']\n",
      "symbols text,prices text\n"
     ]
    }
   ],
   "source": [
    "n = 'table_name'\n",
    "c1 = ('symbols','prices')\n",
    "c2 = 'symbols'\n",
    "t1 = ('text','text')\n",
    "t2 = 'text'\n",
    "\n",
    "\n",
    "z = list(zip(c1,t1))\n",
    "q = zip(c1,t1)\n",
    "res = [item[0] + \" \" + item[1] for item in q]\n",
    "print(res)\n",
    "cmd = \",\".join(res)\n",
    "print(cmd)"
   ]
  },
  {
   "cell_type": "code",
   "execution_count": null,
   "metadata": {},
   "outputs": [],
   "source": [
    "\n",
    "if isinstance(cols,str) or  not isinstance(cols,Sequence):\n",
    "    cmd = f\"CREATE TABLE IF NOT EXISTS {n} ({c2, t2})\"\n",
    "else\n",
    "    cmd = f\"CREATE TALBE IF NOT EXISTS {n} \""
   ]
  },
  {
   "cell_type": "code",
   "execution_count": null,
   "metadata": {},
   "outputs": [],
   "source": [
    "cmd_string = 'CREATE TABLE IF NOT EXISTS ' + '\"' + name + '\"' + \\\n",
    "                        ' (' + ','.join(col_heads) + ')'"
   ]
  },
  {
   "cell_type": "code",
   "execution_count": 26,
   "metadata": {},
   "outputs": [
    {
     "name": "stdout",
     "output_type": "stream",
     "text": [
      "a\f",
      "b"
     ]
    }
   ],
   "source": [
    "s = 'pýtĥöñ\\fis'\n",
    "print('a\\fb', end='')"
   ]
  },
  {
   "cell_type": "code",
   "execution_count": 9,
   "metadata": {},
   "outputs": [
    {
     "name": "stdout",
     "output_type": "stream",
     "text": [
      "2020-10-18 12:13:26.814043\n",
      "2020-10-18 19:13:26.814222\n",
      "19\n",
      "<attribute 'hour' of 'datetime.datetime' objects>\n"
     ]
    }
   ],
   "source": [
    "import datetime as dt\n",
    "\n",
    "\n",
    "print(dt.datetime.now())\n",
    "print(dt.datetime.utcnow())\n",
    "\n",
    "\n",
    "\n",
    "now = dt.datetime.utcnow()\n",
    "print(now.hour)\n",
    "print(dt.datetime.hour)"
   ]
  },
  {
   "cell_type": "code",
   "execution_count": 21,
   "metadata": {},
   "outputs": [
    {
     "name": "stdout",
     "output_type": "stream",
     "text": [
      "<class 'type'>\n",
      "<class 'type'>\n"
     ]
    }
   ],
   "source": [
    "b = dt.datetime\n",
    "print(type(b))\n",
    "c = dt.timedelta\n",
    "print(type(float))"
   ]
  },
  {
   "cell_type": "code",
   "execution_count": 18,
   "metadata": {},
   "outputs": [
    {
     "name": "stdout",
     "output_type": "stream",
     "text": [
      "<class 'datetime.datetime'>\n"
     ]
    }
   ],
   "source": [
    "print(type(b.now()))"
   ]
  },
  {
   "cell_type": "code",
   "execution_count": 13,
   "metadata": {},
   "outputs": [
    {
     "name": "stdout",
     "output_type": "stream",
     "text": [
      "2020-10-18 12:15:33.466778\n"
     ]
    }
   ],
   "source": [
    "print(b.now())"
   ]
  },
  {
   "cell_type": "code",
   "execution_count": 29,
   "metadata": {},
   "outputs": [
    {
     "data": {
      "text/plain": [
       "1440"
      ]
     },
     "execution_count": 29,
     "metadata": {},
     "output_type": "execute_result"
    }
   ],
   "source": [
    "60*24\n"
   ]
  },
  {
   "cell_type": "code",
   "execution_count": 26,
   "metadata": {},
   "outputs": [
    {
     "data": {
      "text/plain": [
       "23"
      ]
     },
     "execution_count": 26,
     "metadata": {},
     "output_type": "execute_result"
    }
   ],
   "source": [
    "b.now().minute"
   ]
  },
  {
   "cell_type": "code",
   "execution_count": 24,
   "metadata": {},
   "outputs": [
    {
     "name": "stdout",
     "output_type": "stream",
     "text": [
      "32\n"
     ]
    }
   ],
   "source": [
    "import time\n",
    "\n",
    "curr = time.time()\n",
    "reg = b.utcfromtimestamp(curr)\n",
    "print(reg.minute)"
   ]
  },
  {
   "cell_type": "code",
   "execution_count": 25,
   "metadata": {},
   "outputs": [
    {
     "name": "stdout",
     "output_type": "stream",
     "text": [
      "1603070067\n"
     ]
    }
   ],
   "source": [
    "print(int(time.time()))"
   ]
  },
  {
   "cell_type": "code",
   "execution_count": 30,
   "metadata": {},
   "outputs": [],
   "source": [
    "from collections import deque\n",
    "\n",
    "\n",
    "tq = deque(maxlen=3)"
   ]
  },
  {
   "cell_type": "code",
   "execution_count": 31,
   "metadata": {},
   "outputs": [
    {
     "data": {
      "text/plain": [
       "0"
      ]
     },
     "execution_count": 31,
     "metadata": {},
     "output_type": "execute_result"
    }
   ],
   "source": [
    "len(tq)"
   ]
  },
  {
   "cell_type": "code",
   "execution_count": 35,
   "metadata": {},
   "outputs": [
    {
     "name": "stdout",
     "output_type": "stream",
     "text": [
      "[1, 2, 3]\n",
      "deque([2, 3, 4], maxlen=3)\n"
     ]
    }
   ],
   "source": [
    "tq.append(1)\n",
    "tq.append(2)\n",
    "tq.append(3)\n",
    "print(list(tq))\n",
    "tq.append(4)\n",
    "print(tq)"
   ]
  },
  {
   "cell_type": "code",
   "execution_count": 36,
   "metadata": {},
   "outputs": [
    {
     "data": {
      "text/plain": [
       "2"
      ]
     },
     "execution_count": 36,
     "metadata": {},
     "output_type": "execute_result"
    }
   ],
   "source": [
    "tq[0]"
   ]
  },
  {
   "cell_type": "code",
   "execution_count": 38,
   "metadata": {},
   "outputs": [
    {
     "name": "stdout",
     "output_type": "stream",
     "text": [
      "3.0\n"
     ]
    }
   ],
   "source": [
    "avg = sum(tq) / 3\n",
    "print(avg)"
   ]
  },
  {
   "cell_type": "code",
   "execution_count": 39,
   "metadata": {},
   "outputs": [
    {
     "name": "stdout",
     "output_type": "stream",
     "text": [
      "4.0\n"
     ]
    }
   ],
   "source": [
    "h = tq[0]\n",
    "add = 10\n",
    "\n",
    "calc = avg\n",
    "calc -= h/3\n",
    "calc += add/3\n",
    "print(calc)"
   ]
  },
  {
   "cell_type": "code",
   "execution_count": 40,
   "metadata": {},
   "outputs": [],
   "source": [
    "tq.append(5)\n",
    "newavge = sum(tq) / 3"
   ]
  },
  {
   "cell_type": "code",
   "execution_count": 42,
   "metadata": {},
   "outputs": [
    {
     "name": "stdout",
     "output_type": "stream",
     "text": [
      "5.333333333333334\n"
     ]
    }
   ],
   "source": [
    "h = tq[0]\n",
    "add = 10\n",
    "\n",
    "calc = avg\n",
    "calc -= h/3\n",
    "calc += add/3\n",
    "print(calc)"
   ]
  },
  {
   "cell_type": "code",
   "execution_count": 43,
   "metadata": {},
   "outputs": [
    {
     "name": "stdout",
     "output_type": "stream",
     "text": [
      "6.333333333333333\n"
     ]
    }
   ],
   "source": [
    "tq.append(10)\n",
    "newavge = sum(tq) / 3\n",
    "print(newavge)"
   ]
  },
  {
   "cell_type": "code",
   "execution_count": null,
   "metadata": {},
   "outputs": [],
   "source": []
  }
 ],
 "metadata": {
  "kernelspec": {
   "display_name": "Python 3",
   "language": "python",
   "name": "python3"
  },
  "language_info": {
   "codemirror_mode": {
    "name": "ipython",
    "version": 3
   },
   "file_extension": ".py",
   "mimetype": "text/x-python",
   "name": "python",
   "nbconvert_exporter": "python",
   "pygments_lexer": "ipython3",
   "version": "3.6.9"
  }
 },
 "nbformat": 4,
 "nbformat_minor": 4
}
