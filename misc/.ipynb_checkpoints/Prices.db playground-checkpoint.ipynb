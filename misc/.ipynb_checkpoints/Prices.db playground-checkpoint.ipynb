{
 "cells": [
  {
   "cell_type": "code",
   "execution_count": 11,
   "metadata": {},
   "outputs": [
    {
     "name": "stdout",
     "output_type": "stream",
     "text": [
      "3597\n"
     ]
    }
   ],
   "source": [
    "import sqlite3\n",
    "import sql_helpers as sqlh\n",
    "from collections import deque\n",
    "from collections import defaultdict\n",
    "import time\n",
    "db = sqlite3.connect('prices_backup.db', timeout = 10)\n",
    "\n",
    "l = sqlh.count_rows(db,'BTC_prices')\n",
    "print(l)"
   ]
  },
  {
   "cell_type": "code",
   "execution_count": 61,
   "metadata": {},
   "outputs": [],
   "source": [
    "class SMA_Manager:\n",
    "\n",
    "\n",
    "\n",
    "    def __init__(self, quote_list, driver_choices, prices_db_name, analytics_db_name):\n",
    "\n",
    "\n",
    "        self.quote_list = quote_list\n",
    "        self.driver_choices = dict(driver_choices)\n",
    "\n",
    "        for k in self.driver_choices.keys():\n",
    "            choices = self.driver_choices[k]\n",
    "            if len(choices) == 0:\n",
    "                self.driver_choices[k] = None\n",
    "            else:\n",
    "                choices = choices.split(',')\n",
    "                self.driver_choices[k] = choices  \n",
    "\n",
    "        self.prices_db_name = prices_db_name\n",
    "        self.analytics_db_name = analytics_db_name\n",
    "\n",
    "        pdb = sqlh.create_db_connection(self.prices_db_name, DB_TIMEOUT)\n",
    "        #self.bq_pairs = self.get_bq_pairs(pdb)\n",
    "\n",
    "        self.q_tree = {}\n",
    "        \n",
    "        self.initialize_q_tree()\n",
    "\n",
    "        \n",
    "        self.initialize_queues(pdb)    \n",
    "\n",
    "    def initialize_q_tree():\n",
    "        for quote in self.quote_list: \n",
    "\n",
    "            for k in self.driver_choices.keys():\n",
    "                if k == 'M':\n",
    "                    factor = 1 / PRICES_UPDATE_INTERVAL\n",
    "                else:\n",
    "                    factor = 1\n",
    "                choices_dict = {}\n",
    "                choices = self.driver_choices[k]\n",
    "                if choices:\n",
    "                    q_collec = []\n",
    "                    for c in choices:\n",
    "                        cnum = int(c)\n",
    "                        qlen = factor * cnum\n",
    "                        q = deque(maxlen=qlen)\n",
    "                        q_collec.append(q)\n",
    "                    choices_dict[k] = q_collec\n",
    "                else:\n",
    "                    choices_dict[k] = None   \n",
    "                self.q_tree[quote] = choices_dict \n",
    "                \n",
    "#construct the data structures needed to manages all the requested analysis\n",
    "    #Created in a dictionary heirarchy as follows:\n",
    "    # quote currency - > base currnecy pair 0- > dict of interval type -> deques of interval selections \n",
    "    # For example: \n",
    "    #{'BTC' : {'M': [[30Q],[45Q]], 'H':[[4Q],[6Q]], 'D':None}, 'ETH : ...etc}\n",
    "    #\n",
    "    #Note: minute queue length is scaled by the price update rate \n",
    "    # (ie 5minutes update rate = 6 slot Q for 30 min SMA)   \n",
    "    def initialize_q_tree(self):\n",
    "        for quote in self.quote_list: \n",
    "            choices_dict = {}\n",
    "            for k in self.driver_choices.keys():\n",
    "                print(k)\n",
    "                if k == 'M':\n",
    "                    factor = 1 / PRICES_UPDATE_INTERVAL\n",
    "                else:\n",
    "                    factor = 1\n",
    "                choices = self.driver_choices[k]\n",
    "                if choices != '':\n",
    "                    q_collec = []\n",
    "                    for c in choices:\n",
    "                        cnum = int(c)\n",
    "                        qlen = int(factor * cnum)\n",
    "                        q = deque(maxlen=qlen)\n",
    "                        q_collec.append(q)\n",
    "                    choices_dict[k] = q_collec\n",
    "                else:\n",
    "                    choices_dict[k] = None\n",
    "                print(choices_dict)\n",
    "                \n",
    "            self.q_tree[quote] = choices_dict \n",
    "\n",
    "            \n",
    "\n",
    "\n",
    "    #check current time\n",
    "    #for each quote\n",
    "    #starting from most recently posted price\n",
    "    #get contiguous block of valid prices up to len of current SMA queue\n",
    "    #fill SMA queue\n",
    "    def initialize_queues(self, pdb):\n",
    "        \n",
    "        for quote in self.q_tree:\n",
    "            choices_dict = self.q_tree[quote]\n",
    "\n",
    "            for choice in choices_dict:\n",
    "                if choices_dict[choice]:\n",
    "                    q_list = choices_dict[choice]\n",
    "\n",
    "                    for q in q_list:\n",
    "                        self.init_q_fill(choice, q, pdb,quote)\n",
    "                    \n",
    "                    \n",
    "    #take a queue, an interval choice and a database connection\n",
    "    #fill queue as much as possible from the most recently available price db entries\n",
    "    def init_q_fill(self,choice,q,pdb,quote):\n",
    "        q_maxlen = q.maxlen\n",
    "        price_table_name = quote + '_prices'\n",
    "        pdb_len = sqlh.count_rows(pdb, price_table_name)\n",
    "\n",
    "        if pdb_len == 0:\n",
    "            return\n",
    "\n",
    "        if choice == 'M':\n",
    "            gap = 1\n",
    "        elif choice == 'H':\n",
    "            gap = 60 // PRICES_UPDATE_INTERVAL\n",
    "        elif choice == 'D':\n",
    "            gap = 1440 // PRICES_UPDATE_INTERVAL\n",
    "        else:\n",
    "            raise ValueError\n",
    "\n",
    "        num_entries_needed = q_maxlen * gap + 1\n",
    "\n",
    "        if pdb_len < num_entries_needed:\n",
    "            if pdb_len % gap == 0:\n",
    "                tar_itrs = pdb_len / gap\n",
    "            else:\n",
    "                tar_itrs = (pdb_len // gap) + 1\n",
    "        else:\n",
    "            tar_itrs = q_maxlen\n",
    "\n",
    "        \n",
    "        curr_rowid = pdb_len\n",
    "\n",
    "        for i in range(tar_itrs):\n",
    "            q.append(curr_rowid)\n",
    "            curr_rowid -= gap\n",
    "\n",
    "    \n",
    "    def print_q_tree(self):\n",
    "        for quote in self.q_tree:\n",
    "            print(quote)\n",
    "            print()\n",
    "            choices_dict = self.q_tree[quote]\n",
    "\n",
    "            for choice in choices_dict:\n",
    "                print(choice)\n",
    "                if choices_dict[choice]:\n",
    "                    q_list = choices_dict[choice]\n",
    "\n",
    "                    for q in q_list:\n",
    "                        print(choice + str(len(q)) + ' ',end='')\n",
    "                        print(q)\n"
   ]
  },
  {
   "cell_type": "code",
   "execution_count": 62,
   "metadata": {},
   "outputs": [
    {
     "name": "stdout",
     "output_type": "stream",
     "text": [
      "M\n",
      "{'M': [deque([], maxlen=6)]}\n",
      "H\n",
      "{'M': [deque([], maxlen=6)], 'H': [deque([], maxlen=4)]}\n",
      "D\n",
      "{'M': [deque([], maxlen=6)], 'H': [deque([], maxlen=4)], 'D': [deque([], maxlen=3)]}\n"
     ]
    }
   ],
   "source": [
    "driver_choices = []\n",
    "with open('analytics_choices.txt') as f:\n",
    "    for line in f:\n",
    "        line = line.rstrip()\n",
    "        driver_choices.append(tuple(line.split(':')))\n",
    "\n",
    "QUOTE_LIST = ('BTC',)\n",
    "PRICES_DB_NAME = 'prices_backup.db'\n",
    "ANALYTICS_DB_NAME = 'an.db'\n",
    "DB_TIMEOUT = 120\n",
    "PRICES_UPDATE_INTERVAL = 5\n",
    "sma_mngr = SMA_Manager(QUOTE_LIST, driver_choices, PRICES_DB_NAME, ANALYTICS_DB_NAME)"
   ]
  },
  {
   "cell_type": "code",
   "execution_count": 41,
   "metadata": {},
   "outputs": [
    {
     "name": "stdout",
     "output_type": "stream",
     "text": [
      "4\n"
     ]
    }
   ],
   "source": [
    "print(dict(driver_choices)['H'])"
   ]
  },
  {
   "cell_type": "code",
   "execution_count": 63,
   "metadata": {},
   "outputs": [
    {
     "name": "stdout",
     "output_type": "stream",
     "text": [
      "BTC\n",
      "\n",
      "M\n",
      "M6 deque([3597, 3596, 3595, 3594, 3593, 3592], maxlen=6)\n",
      "H\n",
      "H4 deque([3597, 3585, 3573, 3561], maxlen=4)\n",
      "D\n",
      "D3 deque([3597, 3309, 3021], maxlen=3)\n"
     ]
    }
   ],
   "source": [
    "sma_mngr.print_q_tree()"
   ]
  },
  {
   "cell_type": "code",
   "execution_count": 38,
   "metadata": {},
   "outputs": [
    {
     "data": {
      "text/plain": [
       "{'BTC': {'D': [deque([3597, 3309, 3021])]}}"
      ]
     },
     "execution_count": 38,
     "metadata": {},
     "output_type": "execute_result"
    }
   ],
   "source": [
    "sma_mngr.q_tree"
   ]
  },
  {
   "cell_type": "code",
   "execution_count": 29,
   "metadata": {},
   "outputs": [
    {
     "name": "stdout",
     "output_type": "stream",
     "text": [
      "M\n",
      "H\n",
      "D\n"
     ]
    }
   ],
   "source": [
    "dd = dict(driver_choices)\n",
    "for k in dd.keys():\n",
    "    print(k)"
   ]
  },
  {
   "cell_type": "code",
   "execution_count": 28,
   "metadata": {},
   "outputs": [
    {
     "name": "stdout",
     "output_type": "stream",
     "text": [
      "30\n"
     ]
    }
   ],
   "source": [
    "s = driver_choices[0][1]\n",
    "print(int(s))"
   ]
  },
  {
   "cell_type": "code",
   "execution_count": 51,
   "metadata": {},
   "outputs": [
    {
     "name": "stdout",
     "output_type": "stream",
     "text": [
      "[('H', '')]\n"
     ]
    }
   ],
   "source": [
    "s = 'H:'\n",
    "t = [tuple(s.split(':'))]\n",
    "print(t)"
   ]
  },
  {
   "cell_type": "code",
   "execution_count": 58,
   "metadata": {},
   "outputs": [],
   "source": [
    "d = dict(t)\n",
    "if d['H']:\n",
    "    print('h')"
   ]
  },
  {
   "cell_type": "code",
   "execution_count": null,
   "metadata": {},
   "outputs": [],
   "source": []
  }
 ],
 "metadata": {
  "kernelspec": {
   "display_name": "Python 3",
   "language": "python",
   "name": "python3"
  },
  "language_info": {
   "codemirror_mode": {
    "name": "ipython",
    "version": 3
   },
   "file_extension": ".py",
   "mimetype": "text/x-python",
   "name": "python",
   "nbconvert_exporter": "python",
   "pygments_lexer": "ipython3",
   "version": "3.6.9"
  }
 },
 "nbformat": 4,
 "nbformat_minor": 4
}
