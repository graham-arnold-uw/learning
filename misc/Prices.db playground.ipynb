{
 "cells": [
  {
   "cell_type": "code",
   "execution_count": 1,
   "metadata": {},
   "outputs": [
    {
     "name": "stdout",
     "output_type": "stream",
     "text": [
      "3596\n"
     ]
    }
   ],
   "source": [
    "import sqlite3\n",
    "import sql_helpers as sqlh\n",
    "from collections import deque\n",
    "from collections import defaultdict\n",
    "import time\n",
    "db = sqlite3.connect('prices_backup.db', timeout = 10)\n",
    "ptable = 'BTC_prices'\n",
    "l = sqlh.count_rows(db,'BTC_prices')\n",
    "print(l)\n"
   ]
  },
  {
   "cell_type": "code",
   "execution_count": 30,
   "metadata": {},
   "outputs": [
    {
     "name": "stdout",
     "output_type": "stream",
     "text": [
      "2.200000000000000112204082830E-7\n"
     ]
    }
   ],
   "source": [
    "from decimal import Decimal\n",
    "last = sqlh.last_n_rows(db,ptable,10) \n",
    "r1 = last[0]\n",
    "r2 = last[1]\n",
    "#print(r1)\n",
    "d1 = Decimal(r1[20])\n",
    "d2 = Decimal(r2[20])\n",
    "\n",
    "f1 = float(r1[20])\n",
    "#print(f1)\n",
    "#print(d1)\n",
    "t = (d1 + d2) / 2\n",
    "print(str(t))"
   ]
  },
  {
   "cell_type": "code",
   "execution_count": 27,
   "metadata": {},
   "outputs": [
    {
     "name": "stdout",
     "output_type": "stream",
     "text": [
      "2.2e-07\n"
     ]
    }
   ],
   "source": [
    "from decimal import localcontext\n",
    "d1 = Decimal(r1[20])\n",
    "d2 = Decimal(r2[20])\n",
    "\n",
    "with localcontext() as ctx:\n",
    "    #ctx.prec = 50\n",
    "    dec = ctx.create_decimal(d1)\n",
    "    f = float(dec)\n",
    "    print(f)\n",
    "#"
   ]
  },
  {
   "cell_type": "code",
   "execution_count": null,
   "metadata": {},
   "outputs": [],
   "source": [
    "res = sqlh.get_column_names(db,'BTC_prices')\n",
    "#print(res)\n",
    "res = [el[0] for el in res]\n",
    "print(res)\n",
    "\n",
    "_, *prev_pairs = res\n",
    "print(prev_pairs)"
   ]
  },
  {
   "cell_type": "code",
   "execution_count": 35,
   "metadata": {},
   "outputs": [
    {
     "name": "stdout",
     "output_type": "stream",
     "text": [
      "[1, 2]\n",
      "1\n"
     ]
    }
   ],
   "source": [
    "t= [1,1,2]\n",
    "q = t.pop(0)\n",
    "print(t)\n",
    "print(q)"
   ]
  },
  {
   "cell_type": "code",
   "execution_count": null,
   "metadata": {},
   "outputs": [],
   "source": [
    "s = '30H'\n",
    "num,inv = s[:-1],s[-1]\n",
    "print(num)\n",
    "print(inv)"
   ]
  },
  {
   "cell_type": "code",
   "execution_count": null,
   "metadata": {},
   "outputs": [],
   "source": [
    "driver_choices = []\n",
    "with open('analytics_choices.txt') as f:\n",
    "    for line in f:\n",
    "        line = line.rstrip()\n",
    "        driver_choices.append(tuple(line.split(':')))\n",
    "\n",
    "QUOTE_LIST = ('BTC',)\n",
    "PRICES_DB_NAME = 'prices_backup.db'\n",
    "ANALYTICS_DB_NAME = 'an.db'\n",
    "DB_TIMEOUT = 120\n",
    "PRICES_UPDATE_INTERVAL = 5\n",
    "sma_mngr = SMA_Manager(QUOTE_LIST, driver_choices, PRICES_DB_NAME, ANALYTICS_DB_NAME)"
   ]
  },
  {
   "cell_type": "code",
   "execution_count": null,
   "metadata": {},
   "outputs": [],
   "source": [
    "print(dict(driver_choices)['H'])"
   ]
  },
  {
   "cell_type": "code",
   "execution_count": 3,
   "metadata": {},
   "outputs": [
    {
     "name": "stdout",
     "output_type": "stream",
     "text": [
      "(1604475927, 0.027893, 0.003874, 0.001922, 0.001059, 0.079081, 8.35e-05, 0.000414, 0.0002114, 1.75e-05, 9.16e-06, 0.0001343, 4.2e-07, 0.0002107, 2.313e-05, 2.683e-05, 3.3e-07, 1.053e-05, 5.322e-05, 2.4e-07, 6e-07, 1.771e-05, 0.00074114, 2.8e-07, 4.25e-05, 3.816e-05, 1.989e-05, 4.57e-06, 0.00017, 1.39e-06, 0.0003486, 4.1e-07, 6.2e-05, 6.2e-07, 0.003853, 3.839e-05, 7.33e-06, 0.004648, 3.61e-06, 5.742e-05, 0.000511, 1.712e-05, 1.28e-06, 8.3e-07, 1.75e-06, 5.47e-06, 1.941e-05, 1.714e-05, 4.28e-05, 8.46e-06, 2.025e-05, 0.00013928, 2.96e-05, 2.75e-06, 1.417e-05, 1.106e-05, 0.008744, 2.25e-06, 8.5e-07, 1.311e-05, 1.01e-06, 7.61e-06, 6.99e-05, 3.1e-07, 2.346e-05, 1e-07, 1.62e-06, 1.12e-06, 0.000202, 7.29e-05, 2.61e-06, 2.6e-07, 4.54e-06, 2.973e-05, 0.003931, 1.616e-05, 6.81e-06, 1.373e-05, 5.3e-07, 5.41e-06, 5.7e-07, 4.512e-05, 4.43e-06, 1.3e-07, 0.000227, 3.8e-07, 2.25e-05, 5.5e-07, 5.53e-06, 4.3e-06, 2.343e-05, 3.82e-06, 5.609e-05, 1.193e-05, 6.57e-06, 8.51e-05, 1.98e-05, 2.41e-06, 8.1e-07, 5.029e-05, 6.18e-06, 1.998e-05, 3.1e-07, 1.95e-06, 9.63e-06, 5.16e-05, 1.18e-05, 4.01e-06, 6.62e-06, 2.24e-06, 5e-08, 1.03e-06, 1.26e-06, 3.04e-05, 3.5e-07, 7.27e-06, 1.582e-05, 4.1e-07, 9.1e-07, 2.74e-06, 1.21e-05, 0.0001555, 5.53e-06, 1.14e-06, 2.2e-07, 0.000913, 0.00025971, 0.0003962, 2.898e-05, 1.78e-06, 4.214e-05, 5.4e-07, 3e-07, 2.91e-06, 1.24e-05, 2.56e-06, 1.7e-07, 3e-08, 1.3e-07, 1.78e-05, 8e-08, 4e-08, 3.38e-06, 4e-08, 6.9e-07, 5.8e-07, 2.79e-06, 1.8e-06, 6.39e-05, 3.8e-07, 0.00025175, 8.3e-07, 0.000909, 2.9e-07, 0.02933, 0.011179, 1.86e-05, 5e-08, 7.33e-06, 2.73e-06, 2.5e-07, 9e-07, 0.0003181, 2e-07, 6.3e-07, 3e-07, 1.1e-06, 1.0, 1.698e-05, 1.68e-06, 1.8e-07, 3.21e-06, 4.8e-07, 1e-08, 4.3e-07, 3e-08, 3.63e-05, 1.14e-06, 6.7e-07, 0.00029672, 1.52e-05, 0.0001342, 2.05e-06, 1.24e-06, 1.091e-05, 9.913e-05, 9.6e-07, 5.38e-06, 0.017421, 1.7e-07, 1.15e-06, 0.0002455, 8.86e-06, 2.1e-07, 3.9e-07, 4.78e-06, 4.14e-06, 9e-08, 2.03e-06, 9.9e-07, 9.871e-05, 2.11e-06, 8.04e-06, 1.48e-06, 8.2e-07, 1.4e-07, 2.241e-05, 1.43e-06, 0.006327, 5.597e-05, 0.0001832, 2.95e-06, 0.037166, 8.966e-05, 2.632e-05, 5.1e-06, 4.84e-05, 0.0006259, 0.68558, 1.32e-06, 6.105e-05, 0.0002055, 2.69e-05, 2.13e-06, 3.194e-05, 0.001716, 0.00028976, 2.081e-05, 3.11e-06, 7.5e-07, 0.13859, 0.001341, 0.001313, 6.94e-06, 0.99972, 3.76e-05, 0.08661, 0.002083, 0.00052, 7.47e-05, 0.000467, 5.093e-05, 0.000598, 0.00015463, 3.3e-07, 1.493e-05, 0.00055, 0.00023514, 5.25e-05, 9.59e-06, 3.23e-05, 0.0001005, 7.64e-06, 0.0001647, 2.03e-06, 2.351e-05, 0.002024, 3.96e-05, 0.0020918, 5.197e-05, 3.04e-06, 6.04e-06, 5.457e-05, 0.02317, 6.2e-07, None)\n",
      "[(1604551551, 0.028295, 0.003892, 0.0019383, 0.000998, 0.079081, 8.03e-05, 0.000414, 0.0002114, 1.76e-05, 8.85e-06, 0.0001294, 4.3e-07, 0.000199, 2.27e-05, 2.941e-05, 3.3e-07, 9.68e-06, 5.089e-05, 2.2e-07, 5.9e-07, 1.66e-05, 0.00074229, 2.8e-07, 4.25e-05, 3.688e-05, 1.947e-05, 4.57e-06, 0.0001682, 1.41e-06, 0.000344, 3.9e-07, 6.2e-05, 6.5e-07, 0.003809, 3.863e-05, 5.64e-06, 0.004562, 3.89e-06, 5.742e-05, 0.000498, 1.59e-05, 1.3e-06, 8.1e-07, 1.7e-06, 5.8e-06, 2.032e-05, 1.683e-05, 4.28e-05, 8.39e-06, 1.934e-05, 0.00013928, 3.04e-05, 2.68e-06, 1.364e-05, 1.088e-05, 0.008056, 2.25e-06, 8.6e-07, 1.31e-05, 9.7e-07, 7.61e-06, 7.1e-05, 3.7e-07, 2.264e-05, 1e-07, 1.6e-06, 1.07e-06, 0.0001983, 7.23e-05, 2.61e-06, 2.6e-07, 4.56e-06, 2.947e-05, 0.003931, 1.627e-05, 6.68e-06, 1.327e-05, 4.9e-07, 5.23e-06, 5.8e-07, 4.512e-05, 4.41e-06, 1.3e-07, 0.0002276, 3.6e-07, 2.189e-05, 5.3e-07, 5.71e-06, 4.35e-06, 2.272e-05, 3.56e-06, 5.609e-05, 1.193e-05, 6.4e-06, 8.51e-05, 1.98e-05, 1.98e-06, 8e-07, 4.828e-05, 6.18e-06, 1.942e-05, 3e-07, 1.95e-06, 9.66e-06, 4.99e-05, 1.171e-05, 3.77e-06, 6.44e-06, 2.24e-06, 5e-08, 1.02e-06, 1.25e-06, 2.96e-05, 3.5e-07, 6.98e-06, 1.554e-05, 3.9e-07, 9.2e-07, 2.57e-06, 1.183e-05, 0.0001555, 5.25e-06, 1.13e-06, 2.2e-07, 0.000903, 0.00025971, 0.0003659, 2.556e-05, 1.78e-06, 4.13e-05, 5.3e-07, 3e-07, 2.77e-06, 1.208e-05, 2.66e-06, 1.6e-07, 3e-08, 1.3e-07, 1.91e-05, 8e-08, 4e-08, 3.32e-06, 3e-08, 6.7e-07, 5.7e-07, 2.76e-06, 1.8e-06, 6.25e-05, 3.7e-07, 0.00025175, 8.4e-07, 0.00091, 2.9e-07, 0.02933, 0.011179, 1.765e-05, 5e-08, 7.28e-06, 2.76e-06, 2.6e-07, 8.8e-07, 0.0003124, 2e-07, 6e-07, 3e-07, 9.9e-07, 1.0, 1.714e-05, 1.68e-06, 1.8e-07, 3.05e-06, 5.7e-07, 1e-08, 4.1e-07, 3e-08, 3.452e-05, 1.14e-06, 6.7e-07, 0.00028416, 1.48e-05, 0.000131, 2.03e-06, 1.22e-06, 1.091e-05, 9.109e-05, 9.4e-07, 5.25e-06, 0.017215, 1.7e-07, 1.12e-06, 0.000239, 7.86e-06, 2.1e-07, 4e-07, 4.74e-06, 4.06e-06, 1e-07, 2.04e-06, 9.6e-07, 9.9e-05, 2.09e-06, 7.82e-06, 1.45e-06, 7.7e-07, 1.3e-07, 2.131e-05, 1.35e-06, 0.006164, 5.753e-05, 0.0001898, 3.51e-06, 0.037149, 8.966e-05, 2.828e-05, 4.96e-06, 4.87e-05, 0.0006259, 0.59914, 1.29e-06, 5.975e-05, 0.000198, 2.45e-05, 2.52e-06, 3.184e-05, 0.001671, 0.00029, 1.999e-05, 2.95e-06, 7.3e-07, 0.13437, 0.001336, 0.001371, 6.5e-06, 1.00122, 3.49e-05, 0.07476, 0.00204, 0.000506, 7.14e-05, 0.000461, 4.628e-05, 0.00056, 0.0001317, 3.3e-07, 1.409e-05, 0.000531, 0.00022484, 5.69e-05, 8.88e-06, 2.242e-05, 0.0001034, 6.84e-06, 0.000177, 2.06e-06, 2.315e-05, 0.00192, 4.03e-05, 0.0020321, 5.098e-05, 2.82e-06, 6.94e-06, 5.303e-05, 0.0228, 5.8e-07, 9.72e-06)]\n"
     ]
    }
   ],
   "source": [
    "\n",
    "\n",
    "\n",
    "es = sqlh.get_table_row(db,'BTC_prices',3000)\n",
    "res = sqlh.get_row_all(db,'BTC_prices',3500)\n",
    "print(es)\n",
    "print(res)"
   ]
  },
  {
   "cell_type": "code",
   "execution_count": null,
   "metadata": {
    "scrolled": true
   },
   "outputs": [],
   "source": [
    "treed = sma_mngr.q_tree\n",
    "tq = treed['BTC']['D']\n",
    "#print(tq)\n",
    "for el in tq:\n",
    "    #print(sqlh.get_row_all(db, ptable,int(el)))\n",
    "    #print(el)\n",
    "    #print(type(el))\n",
    "    for dig in el:\n",
    "        row = sqlh.get_row_all(db,ptable, dig)\n",
    "        print(row[0])\n",
    "        print()\n",
    "        print()\n",
    "        #print(type(dig))"
   ]
  },
  {
   "cell_type": "code",
   "execution_count": null,
   "metadata": {},
   "outputs": [],
   "source": [
    "import datetime as dt\n",
    "\n",
    "curr_time"
   ]
  },
  {
   "cell_type": "code",
   "execution_count": 12,
   "metadata": {},
   "outputs": [
    {
     "data": {
      "text/plain": [
       "1.235"
      ]
     },
     "execution_count": 12,
     "metadata": {},
     "output_type": "execute_result"
    }
   ],
   "source": [
    "round(1.23456, 3)"
   ]
  },
  {
   "cell_type": "code",
   "execution_count": 11,
   "metadata": {},
   "outputs": [
    {
     "name": "stdout",
     "output_type": "stream",
     "text": [
      "[[2, 3], [5, 6], [8, 9]]\n"
     ]
    }
   ],
   "source": [
    "mat = [[1,2,3],[4,5,6],[7,8,9]]\n",
    "for i in range(len(mat)):\n",
    "    mat[i].pop(0)\n",
    "print(mat)"
   ]
  },
  {
   "cell_type": "code",
   "execution_count": null,
   "metadata": {},
   "outputs": [],
   "source": [
    "row = sqlh.get_row_all(db,ptable, 1)\n",
    "print(row[0])\n",
    "print()\n",
    "\n",
    "row = sqlh.get_row_all(db,ptable, 4)\n",
    "print(row[0])\n",
    "print()\n",
    "\n",
    "row = sqlh.get_row_all(db,ptable, 3)\n",
    "print(row[0])\n",
    "print()\n",
    "\n",
    "row = sqlh.get_row_all(db,ptable, 3596)\n",
    "print(row[0])\n",
    "print()\n",
    "\n",
    "\n",
    "row = sqlh.get_row_all(db,ptable, 3595)\n",
    "print(row[0])\n",
    "print()"
   ]
  },
  {
   "cell_type": "code",
   "execution_count": null,
   "metadata": {},
   "outputs": [],
   "source": [
    "def delete_row(db, table_name, rowid):\n",
    "    c = db.cursor()\n",
    "\n",
    "    #cmd = f'DELETE FROM {table_name} WHERE rowid = {rowid}'\n",
    "\n",
    "    #c.execute(cmd)\n",
    "    #db.commit()\n",
    "\n",
    "    cmd2 = f'SELECT * FROM {table_name} WHERE rowid = {rowid}'\n",
    "    c.execute(cmd2)\n",
    "\n",
    "    res = c.fetchall()\n",
    "    print(res)\n",
    "    if len(res) != 0:\n",
    "        raise sqlite3.OperationalError(\"Delete row operation failed\")\n",
    "    \n",
    "delete_row(db,ptable,2)"
   ]
  },
  {
   "cell_type": "code",
   "execution_count": null,
   "metadata": {},
   "outputs": [],
   "source": [
    "res = sqlh.get_row_all(db,ptable,2)\n",
    "print(res)\n",
    "#sqlh.delete_row(db,ptable,2)"
   ]
  },
  {
   "cell_type": "code",
   "execution_count": null,
   "metadata": {},
   "outputs": [],
   "source": [
    "a = 'H:'\n",
    "a.split(':')"
   ]
  },
  {
   "cell_type": "code",
   "execution_count": null,
   "metadata": {},
   "outputs": [],
   "source": [
    "from collections import defaultdict\n",
    "\n",
    "d = defaultdict(int)\n",
    "print(d['hel'])"
   ]
  },
  {
   "cell_type": "code",
   "execution_count": null,
   "metadata": {},
   "outputs": [],
   "source": [
    "mlen = 4\n",
    "nlen = 5\n",
    "test= [[False for k in range(nlen)] for q in range(mlen)]\n",
    "print(test)"
   ]
  },
  {
   "cell_type": "code",
   "execution_count": null,
   "metadata": {},
   "outputs": [],
   "source": [
    "g = deque()\n",
    "g.appendleft(2)\n",
    "g.appendleft(1)\n",
    "print(g)"
   ]
  },
  {
   "cell_type": "code",
   "execution_count": null,
   "metadata": {},
   "outputs": [],
   "source": [
    "c = db.cursor()\n",
    "\n",
    "cmd = 'SELECT MAX(rowid) FROM BTC_prices'\n",
    "c.execute(cmd)\n",
    "res = c.fetchall()[0][0]\n",
    "print(res)"
   ]
  },
  {
   "cell_type": "code",
   "execution_count": null,
   "metadata": {},
   "outputs": [],
   "source": [
    "SYMBOL_TABLE_NAME = 'symbols'\n",
    "sym_cols = sqlh.split_columns(db,SYMBOL_TABLE_NAME)\n",
    "print(sym_cols[1])"
   ]
  },
  {
   "cell_type": "code",
   "execution_count": null,
   "metadata": {},
   "outputs": [],
   "source": [
    "price_table_name = 'BTC_prices'\n",
    "price_cols = sqlh.get_column_names(db, price_table_name)\n",
    "print(price_cols)"
   ]
  },
  {
   "cell_type": "code",
   "execution_count": null,
   "metadata": {},
   "outputs": [],
   "source": [
    "class ID:\n",
    "    \n",
    "    def __init__(self, i):\n",
    "        self.id = i\n",
    "        "
   ]
  },
  {
   "cell_type": "code",
   "execution_count": null,
   "metadata": {},
   "outputs": [],
   "source": [
    "i1 = ID(1)\n",
    "i2 = ID(2)\n",
    "qq = deque()\n",
    "qq.append(i1)\n",
    "qq.append(i2)\n",
    "\n",
    "for el in qq:\n",
    "    el.id += 1\n",
    "\n",
    "for el in qq:\n",
    "    print(el.id)"
   ]
  },
  {
   "cell_type": "code",
   "execution_count": null,
   "metadata": {},
   "outputs": [],
   "source": [
    "from collections import deque\n",
    "\n",
    "q = deque(maxlen = 2)\n",
    "q.append(0)\n",
    "q.append(1)\n",
    "print(q)\n",
    "q.append(2)\n",
    "print(q)"
   ]
  },
  {
   "cell_type": "code",
   "execution_count": null,
   "metadata": {},
   "outputs": [],
   "source": [
    "for i in range(len(q)):\n",
    "    q[i] += 1\n",
    "print(q)"
   ]
  },
  {
   "cell_type": "code",
   "execution_count": null,
   "metadata": {},
   "outputs": [],
   "source": [
    "print(q)"
   ]
  },
  {
   "cell_type": "code",
   "execution_count": null,
   "metadata": {},
   "outputs": [],
   "source": [
    "l = [1,2,3]\n",
    "\n",
    "for i in range(len(l)):\n",
    "    l[i] += 1\n",
    "print(l)"
   ]
  },
  {
   "cell_type": "code",
   "execution_count": null,
   "metadata": {},
   "outputs": [],
   "source": [
    "a = [1, 3, 5]\n",
    "b = a\n",
    "a[:] = [x + 2 for x in a]\n",
    "print(b)"
   ]
  },
  {
   "cell_type": "code",
   "execution_count": null,
   "metadata": {},
   "outputs": [],
   "source": [
    "print(a)"
   ]
  },
  {
   "cell_type": "code",
   "execution_count": null,
   "metadata": {},
   "outputs": [],
   "source": []
  }
 ],
 "metadata": {
  "kernelspec": {
   "display_name": "Python 3",
   "language": "python",
   "name": "python3"
  },
  "language_info": {
   "codemirror_mode": {
    "name": "ipython",
    "version": 3
   },
   "file_extension": ".py",
   "mimetype": "text/x-python",
   "name": "python",
   "nbconvert_exporter": "python",
   "pygments_lexer": "ipython3",
   "version": "3.6.9"
  }
 },
 "nbformat": 4,
 "nbformat_minor": 4
}
