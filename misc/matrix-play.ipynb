{
 "cells": [
  {
   "cell_type": "code",
   "execution_count": 5,
   "metadata": {},
   "outputs": [],
   "source": [
    "\n",
    "\n",
    "def flip_horizontal(maty1):\n",
    "    matrix = list(maty1)\n",
    "   # print(id(maty1))\n",
    "    #print(maty1)\n",
    "   # print(id(matrix))\n",
    "    #print()\n",
    "    m = len(matrix)\n",
    "    n = len(matrix[0])\n",
    "    \n",
    "    i = 0\n",
    "    j = m-1\n",
    "    \n",
    "    while i < j:\n",
    "        swap_rows(i,j,matrix)\n",
    "        print(matrix)\n",
    "        print(maty1)\n",
    "        i += 1\n",
    "        j -= 1\n",
    "    print()\n",
    "    #print(id(maty1))\n",
    "    #print(maty1)\n",
    "    #print(id(matrix))\n",
    "    return matrix\n",
    "\n",
    "def swap_rows(i,j,matrix):\n",
    "    #print(id(matrix))\n",
    "    n = len(matrix[0])\n",
    "    \n",
    "    for k in range(n):\n",
    "        b_el = matrix[j][k]\n",
    "        matrix[j][k] = matrix[i][k]\n",
    "        matrix[i][k] = b_el"
   ]
  },
  {
   "cell_type": "code",
   "execution_count": 8,
   "metadata": {},
   "outputs": [
    {
     "name": "stdout",
     "output_type": "stream",
     "text": [
      "[[1, 3, 3]]\n",
      "[[1, 3, 3]]\n"
     ]
    }
   ],
   "source": [
    "s = [[1,2,3]]\n",
    "t = s.copy()\n",
    "t[0][1] = 3\n",
    "print(s)\n",
    "print(t)"
   ]
  },
  {
   "cell_type": "code",
   "execution_count": null,
   "metadata": {},
   "outputs": [],
   "source": [
    "mat = [[1,2,3],[4,5,6],[7,8,9],[10,11,12]]\n",
    "col_s = sum_columns(mat)\n",
    "row_s = sum_rows(mat)\n",
    "print('sum rows and columns')\n",
    "print(col_s)\n",
    "print(row_s)\n",
    "print()\n",
    "print('flip matrix')\n",
    "flipped_h = flip_horizontal(mat)\n",
    "print(mat)\n",
    "flipped_v = flip_vertical(mat)\n",
    "print(mat)\n",
    "print(id(mat))\n",
    "print(flipped_h)\n",
    "print(id(flipped_h))\n",
    "print(flipped_v)\n",
    "print(id(flipped_v))\n",
    "print(flipped_h == flipped_v)"
   ]
  },
  {
   "cell_type": "code",
   "execution_count": 6,
   "metadata": {},
   "outputs": [
    {
     "name": "stdout",
     "output_type": "stream",
     "text": [
      "[[10, 11, 12], [4, 5, 6], [7, 8, 9], [1, 2, 3]]\n",
      "[[10, 11, 12], [4, 5, 6], [7, 8, 9], [1, 2, 3]]\n",
      "[[10, 11, 12], [7, 8, 9], [4, 5, 6], [1, 2, 3]]\n",
      "[[10, 11, 12], [7, 8, 9], [4, 5, 6], [1, 2, 3]]\n",
      "\n"
     ]
    }
   ],
   "source": [
    "m2 = [[1,2,3],[4,5,6],[7,8,9],[10,11,12]]\n",
    "fh = flip_horizontal(m2)"
   ]
  },
  {
   "cell_type": "code",
   "execution_count": null,
   "metadata": {},
   "outputs": [],
   "source": [
    "a = [1,2,3]\n",
    "b = a.copy()\n",
    "print(id(a))\n",
    "print(id(b))"
   ]
  },
  {
   "cell_type": "code",
   "execution_count": 14,
   "metadata": {},
   "outputs": [
    {
     "name": "stdout",
     "output_type": "stream",
     "text": [
      "0\n"
     ]
    }
   ],
   "source": [
    "s = 'a'\n",
    "r = s[1:]\n",
    "\n",
    "print(len(r))"
   ]
  },
  {
   "cell_type": "code",
   "execution_count": null,
   "metadata": {},
   "outputs": [],
   "source": [
    "def flip_vertical(maty):\n",
    "    matrix2 = list(maty)\n",
    "    m = len(matrix2)\n",
    "    n = len(matrix2[0])\n",
    "    \n",
    "    i = 0\n",
    "    j = n-1\n",
    "    \n",
    "    while i < j:\n",
    "        swap_cols(i,j,matrix2)\n",
    "        i += 1\n",
    "        j -= 1\n",
    "    return matrix2\n",
    "\n",
    "\n",
    "    \n",
    "def swap_cols(i,j,matrix):\n",
    "    \n",
    "    m = len(matrix)\n",
    "    \n",
    "    for k in range(m):\n",
    "        r_el = matrix[k][j]\n",
    "        matrix[k][j] = matrix[k][i]\n",
    "        matrix[k][i] = r_el\n",
    "        \n",
    "def sum_columns(matrix):\n",
    "    \n",
    "    m = len(matrix)\n",
    "    n = len(matrix[0])\n",
    "    \n",
    "    col_sums = []\n",
    "    \n",
    "    \n",
    "    for i in range(n):\n",
    "        tot = 0\n",
    "        for k in range(m):\n",
    "            \n",
    "            tot += matrix[k][i]\n",
    "        \n",
    "        col_sums.append(tot)\n",
    "    \n",
    "    return col_sums\n",
    "\n",
    "\n",
    "def sum_rows(matrix):\n",
    "    \n",
    "    m = len(matrix)\n",
    "    n = len(matrix[0])\n",
    "    row_sums = []\n",
    "    \n",
    "    for i in range(m):\n",
    "        tot = 0\n",
    "        for j in range(n):\n",
    "            tot += matrix[i][j]\n",
    "        \n",
    "        row_sums.append(tot)\n",
    "    return row_sums"
   ]
  },
  {
   "cell_type": "code",
   "execution_count": 17,
   "metadata": {},
   "outputs": [],
   "source": [
    "o = [[0 for i in range(3)] for j in range(3)]"
   ]
  },
  {
   "cell_type": "code",
   "execution_count": 19,
   "metadata": {},
   "outputs": [
    {
     "name": "stdout",
     "output_type": "stream",
     "text": [
      "[[0, 0, 0], [0, 0, 0], [0, 0, 0]]\n",
      "[[0, 0, 0], [0, 1, 0], [0, 0, 0]]\n"
     ]
    }
   ],
   "source": [
    "print(o)\n",
    "o[1][1] = 1\n",
    "print(o)"
   ]
  },
  {
   "cell_type": "code",
   "execution_count": null,
   "metadata": {},
   "outputs": [],
   "source": []
  }
 ],
 "metadata": {
  "kernelspec": {
   "display_name": "Python 3",
   "language": "python",
   "name": "python3"
  },
  "language_info": {
   "codemirror_mode": {
    "name": "ipython",
    "version": 3
   },
   "file_extension": ".py",
   "mimetype": "text/x-python",
   "name": "python",
   "nbconvert_exporter": "python",
   "pygments_lexer": "ipython3",
   "version": "3.6.9"
  }
 },
 "nbformat": 4,
 "nbformat_minor": 4
}
