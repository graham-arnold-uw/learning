{
 "cells": [
  {
   "cell_type": "code",
   "execution_count": 1,
   "metadata": {},
   "outputs": [],
   "source": [
    "# Definition for singly-linked list.\n",
    "class ListNode:\n",
    "    def __init__(self, val=0, next=None):\n",
    "        self.val = val\n",
    "        self.next = next"
   ]
  },
  {
   "cell_type": "code",
   "execution_count": 2,
   "metadata": {},
   "outputs": [],
   "source": [
    "def mergeTwoLists(l1, l2):\n",
    "    if l1 == None:\n",
    "        return l2\n",
    "\n",
    "    if l2 == None:\n",
    "        return l1\n",
    "\n",
    "    p1 = l1\n",
    "    p2 = l2\n",
    "\n",
    "    if p1.val <= p2.val:\n",
    "        new = p1\n",
    "        p1 = p1.next\n",
    "    else:\n",
    "        new = p2\n",
    "        p2 = p2.next\n",
    "\n",
    "\n",
    "    curr = new\n",
    "\n",
    "    while curr != None and (p1 or p2):\n",
    "\n",
    "        if p1 == None and p2 != None:\n",
    "            curr.next = p2\n",
    "            curr = curr.next\n",
    "            p2 = p2.next\n",
    "\n",
    "        elif p1 != None and p2 == None:\n",
    "            curr.next = p1\n",
    "            curr = curr.next\n",
    "            p1 = p1.next\n",
    "\n",
    "\n",
    "        elif p1.val <= p2.val:\n",
    "            curr.next = p1\n",
    "            curr = curr.next\n",
    "            p1 = p1.next\n",
    "\n",
    "        else:\n",
    "            curr.next = p2\n",
    "            curr = curr.next\n",
    "            p2 = p2.next\n",
    "\n",
    "\n",
    "    return new"
   ]
  },
  {
   "cell_type": "code",
   "execution_count": 3,
   "metadata": {},
   "outputs": [
    {
     "name": "stdout",
     "output_type": "stream",
     "text": [
      "112344\n"
     ]
    }
   ],
   "source": [
    "l1 = ListNode(1, ListNode(2, ListNode(4)))\n",
    "l2 = ListNode(1, ListNode(3, ListNode(4)))\n",
    "\n",
    "res = mergeTwoLists(l1,l2)\n",
    "while res != None:\n",
    "    print(res.val,end='')\n",
    "    res = res.next\n",
    "print()"
   ]
  },
  {
   "cell_type": "code",
   "execution_count": null,
   "metadata": {},
   "outputs": [],
   "source": [
    "def mergeKLists(l1, l2):\n",
    "    if l1 == None:\n",
    "        return l2\n",
    "\n",
    "    if l2 == None:\n",
    "        return l1\n",
    "\n",
    "    p1 = l1\n",
    "    p2 = l2\n",
    "\n",
    "    if p1.val <= p2.val:\n",
    "        new = p1\n",
    "        p1 = p1.next\n",
    "    else:\n",
    "        new = p2\n",
    "        p2 = p2.next\n",
    "\n",
    "\n",
    "    curr = new\n",
    "\n",
    "    while curr != None and (p1 or p2):\n",
    "\n",
    "        if p1 == None and p2 != None:\n",
    "            curr.next = p2\n",
    "            curr = curr.next\n",
    "            p2 = p2.next\n",
    "\n",
    "        elif p1 != None and p2 == None:\n",
    "            curr.next = p1\n",
    "            curr = curr.next\n",
    "            p1 = p1.next\n",
    "\n",
    "\n",
    "        elif p1.val <= p2.val:\n",
    "            curr.next = p1\n",
    "            curr = curr.next\n",
    "            p1 = p1.next\n",
    "\n",
    "        else:\n",
    "            curr.next = p2\n",
    "            curr = curr.next\n",
    "            p2 = p2.next\n",
    "\n",
    "\n",
    "    return new"
   ]
  }
 ],
 "metadata": {
  "kernelspec": {
   "display_name": "Python 3",
   "language": "python",
   "name": "python3"
  },
  "language_info": {
   "codemirror_mode": {
    "name": "ipython",
    "version": 3
   },
   "file_extension": ".py",
   "mimetype": "text/x-python",
   "name": "python",
   "nbconvert_exporter": "python",
   "pygments_lexer": "ipython3",
   "version": "3.6.9"
  }
 },
 "nbformat": 4,
 "nbformat_minor": 4
}
