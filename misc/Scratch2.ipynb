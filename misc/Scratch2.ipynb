{
 "cells": [
  {
   "cell_type": "code",
   "execution_count": 15,
   "metadata": {},
   "outputs": [
    {
     "name": "stdout",
     "output_type": "stream",
     "text": [
      "0b1001\n",
      "0b1101\n"
     ]
    }
   ],
   "source": [
    "n = 9 \n",
    "t = bin(9)\n",
    "print(t)\n",
    "\n",
    "nset = 9 | 1 << 2\n",
    "print(bin(nset))"
   ]
  },
  {
   "cell_type": "code",
   "execution_count": 5,
   "metadata": {},
   "outputs": [
    {
     "ename": "KeyError",
     "evalue": "'a'",
     "output_type": "error",
     "traceback": [
      "\u001b[0;31m---------------------------------------------------------------------------\u001b[0m",
      "\u001b[0;31mKeyError\u001b[0m                                  Traceback (most recent call last)",
      "\u001b[0;32m<ipython-input-5-246b5d97e1b5>\u001b[0m in \u001b[0;36m<module>\u001b[0;34m\u001b[0m\n\u001b[1;32m      9\u001b[0m     \u001b[0;32mfor\u001b[0m \u001b[0mletter\u001b[0m \u001b[0;32min\u001b[0m \u001b[0mword\u001b[0m\u001b[0;34m:\u001b[0m\u001b[0;34m\u001b[0m\u001b[0;34m\u001b[0m\u001b[0m\n\u001b[1;32m     10\u001b[0m         \u001b[0;31m# retrieve the next node; If not found, create a empty node.\u001b[0m\u001b[0;34m\u001b[0m\u001b[0;34m\u001b[0m\u001b[0;34m\u001b[0m\u001b[0m\n\u001b[0;32m---> 11\u001b[0;31m         \u001b[0mnode\u001b[0m \u001b[0;34m=\u001b[0m \u001b[0mnode\u001b[0m\u001b[0;34m[\u001b[0m\u001b[0mletter\u001b[0m\u001b[0;34m]\u001b[0m\u001b[0;34m\u001b[0m\u001b[0;34m\u001b[0m\u001b[0m\n\u001b[0m\u001b[1;32m     12\u001b[0m     \u001b[0;31m# mark the existence of a word in trie node\u001b[0m\u001b[0;34m\u001b[0m\u001b[0;34m\u001b[0m\u001b[0;34m\u001b[0m\u001b[0m\n\u001b[1;32m     13\u001b[0m     \u001b[0mnode\u001b[0m\u001b[0;34m[\u001b[0m\u001b[0mWORD_KEY\u001b[0m\u001b[0;34m]\u001b[0m \u001b[0;34m=\u001b[0m \u001b[0mword\u001b[0m\u001b[0;34m\u001b[0m\u001b[0;34m\u001b[0m\u001b[0m\n",
      "\u001b[0;31mKeyError\u001b[0m: 'a'"
     ]
    }
   ],
   "source": [
    "from collections import defaultdict\n",
    "words = [\"oath\",\"pea\",\"eat\",\"rain\"]\n",
    "\n",
    "WORD_KEY = '$'\n",
    "        \n",
    "trie = defaultdict(dict)\n",
    "for word in words:\n",
    "    node = trie\n",
    "    for letter in word:\n",
    "        # retrieve the next node; If not found, create a empty node.\n",
    "        node = node[letter]\n",
    "    # mark the existence of a word in trie node\n",
    "    node[WORD_KEY] = word\n",
    "print(trie)"
   ]
  },
  {
   "cell_type": "code",
   "execution_count": 45,
   "metadata": {},
   "outputs": [
    {
     "name": "stdout",
     "output_type": "stream",
     "text": [
      "[[1, 1, 1], [5], [0], [5], [0], [5]]\n"
     ]
    }
   ],
   "source": [
    "import itertools as it\n",
    "\n",
    "l = [1, 1, 1, 5, 0, 5, 0, 5]\n",
    "\n",
    "res = [list(g) for k, g in it.groupby(l)]\n",
    "print(res)"
   ]
  },
  {
   "cell_type": "code",
   "execution_count": 50,
   "metadata": {},
   "outputs": [
    {
     "name": "stdout",
     "output_type": "stream",
     "text": [
      "0\n",
      "[5, 5, 5]\n",
      "0\n",
      "3\n"
     ]
    }
   ],
   "source": [
    "from itertools import groupby\n",
    "\n",
    "curr_row = [5, 5, 5, 13]\n",
    "groups = groupby(curr_row)\n",
    "curr_idx = 0\n",
    "for k, g in groups:\n",
    "    g_list = list(g)\n",
    "\n",
    "    print(curr_idx)\n",
    "    g_len = len(g_list)\n",
    "\n",
    "    if g_len >= 3:\n",
    "        print(g_list)\n",
    "        #print(curr_idx)\n",
    "        \n",
    "    curr_idx += g_len"
   ]
  },
  {
   "cell_type": "code",
   "execution_count": null,
   "metadata": {},
   "outputs": [],
   "source": [
    "data = \n",
    "groups = []\n",
    "uniquekeys = []\n",
    "data = sorted(data, key=keyfunc)\n",
    "for k, g in groupby(data, keyfunc):\n",
    "    groups.append(list(g))      # Store group iterator as a list\n",
    "    uniquekeys.append(k)"
   ]
  },
  {
   "cell_type": "code",
   "execution_count": 77,
   "metadata": {},
   "outputs": [
    {
     "name": "stdout",
     "output_type": "stream",
     "text": [
      "[Chris aimm, Araham bimm, John Jrnold]\n"
     ]
    }
   ],
   "source": [
    "class Employee: \n",
    "    \n",
    "    def __init__(self, first_name, sur_name):\n",
    "        self.first_name = first_name\n",
    "        self.sur_name = sur_name\n",
    "        \n",
    "    def __str__(self):\n",
    "        return self.first_name + ' ' + self.sur_name\n",
    "    \n",
    "    def __repr__(self):\n",
    "        return self.first_name + ' ' + self.sur_name\n",
    "    \n",
    "    def __eq__(self, other):\n",
    "        return self.first_name == other.first_name and self.sur_name == other.sur_name\n",
    "    \n",
    "    def __lt__(self, other):\n",
    "        return self.sur_name.lower() < other.sur_name.lower()\n",
    "    \n",
    "    \n",
    "        \n",
    "    \n",
    "\n",
    "e1 = Employee('John', 'Jrnold')\n",
    "e2 = Employee('Araham', 'bimm')\n",
    "e3 = Employee('Chris', 'aimm')\n",
    "\n",
    "e_list = [e1,e2,e3]\n",
    "\n",
    "e_sort1 = sorted(sorted(e_list, key=lambda curr_e: curr_e.sur_name), \n",
    "                 key = lambda curr_e: curr_e.first_name)\n",
    "\n",
    "e_sort2 = sorted(e_list)\n",
    "print(e_sort2)"
   ]
  },
  {
   "cell_type": "code",
   "execution_count": 2,
   "metadata": {},
   "outputs": [
    {
     "name": "stdout",
     "output_type": "stream",
     "text": [
      "{'c': {'a': {'t': {'$': 'cat'}}}, 'd': {'o': {'g': {'$': 'dog'}}}}\n"
     ]
    }
   ],
   "source": [
    "words = ['cat','dog']\n",
    "WORD_KEY = '$'\n",
    "trie = {}\n",
    "for word in words:\n",
    "    node = trie\n",
    "    for letter in word:\n",
    "        # retrieve the next node; If not found, create a empty node.\n",
    "        node = node.setdefault(letter, {})\n",
    "    # mark the existence of a word in trie node\n",
    "    node[WORD_KEY] = word\n",
    "\n",
    "print(trie)"
   ]
  },
  {
   "cell_type": "code",
   "execution_count": 3,
   "metadata": {},
   "outputs": [
    {
     "name": "stdout",
     "output_type": "stream",
     "text": [
      "False\n"
     ]
    }
   ],
   "source": [
    "currNode = {}\n",
    "word_match = currNode.pop(WORD_KEY, False)\n",
    "print(word_match)"
   ]
  },
  {
   "cell_type": "code",
   "execution_count": 92,
   "metadata": {},
   "outputs": [
    {
     "name": "stdout",
     "output_type": "stream",
     "text": [
      "[1, 2]\n"
     ]
    }
   ],
   "source": [
    "a = [1,0,0,1]\n",
    "t = [i for i, x in enumerate(a) if x == 0]\n",
    "print(t)"
   ]
  },
  {
   "cell_type": "code",
   "execution_count": 57,
   "metadata": {},
   "outputs": [
    {
     "name": "stdout",
     "output_type": "stream",
     "text": [
      "[1, 4, 3, 4, 2]\n",
      "[1, 2, 4, 3, 4]\n",
      "[1, 2, 3, 4, 4]\n"
     ]
    }
   ],
   "source": [
    "def insert_element(arr, start, min_idx):\n",
    "    min_el = arr[min_idx]\n",
    "    chunk = arr[start:min_idx]\n",
    "    arr[start+1:min_idx+1] = chunk\n",
    "    arr[start]  = min_el\n",
    "\n",
    "    \n",
    "test_arr = [4, 3, 4, 2, 1]\n",
    "insert_element(test_arr, 0, 4)\n",
    "print(test_arr)\n",
    "insert_element(test_arr, 1, 4)\n",
    "print(test_arr)\n",
    "insert_element(test_arr, 2, 3)\n",
    "print(test_arr)"
   ]
  },
  {
   "cell_type": "code",
   "execution_count": 54,
   "metadata": {},
   "outputs": [
    {
     "name": "stdout",
     "output_type": "stream",
     "text": [
      "[3, 4]\n",
      "B\n"
     ]
    }
   ],
   "source": [
    "d = {3 : 'B', 4: 'A'}\n",
    "res = sorted(d)\n",
    "print(res)\n",
    "min_filename = d[res[0]]\n",
    "print(min_filename)"
   ]
  },
  {
   "cell_type": "code",
   "execution_count": 16,
   "metadata": {},
   "outputs": [
    {
     "name": "stdout",
     "output_type": "stream",
     "text": [
      "   hello world\n",
      "hello world\n",
      "HELLO WORLD\n",
      "2\n",
      "True\n",
      "HELLO WOR\n"
     ]
    }
   ],
   "source": [
    "t = '   hello world'\n",
    "print(t)\n",
    "t = t.strip()\n",
    "print(t)\n",
    "\n",
    "q = t.swapcase()\n",
    "print(q)\n",
    "\n",
    "p = q.find('LLO')\n",
    "print(p)\n",
    "\n",
    "b = q.endswith('RLD')\n",
    "print(b)\n",
    "\n",
    "k = q[:-2]\n",
    "print(k)"
   ]
  },
  {
   "cell_type": "code",
   "execution_count": 29,
   "metadata": {},
   "outputs": [
    {
     "name": "stdout",
     "output_type": "stream",
     "text": [
      "8\n"
     ]
    }
   ],
   "source": [
    "t = int('9')\n",
    "print(t - 1)"
   ]
  },
  {
   "cell_type": "code",
   "execution_count": 32,
   "metadata": {},
   "outputs": [
    {
     "name": "stdout",
     "output_type": "stream",
     "text": [
      "[1, 1, 2, 3]\n"
     ]
    }
   ],
   "source": [
    "n = [1,2,3]\n",
    "n.insert(1,1)\n",
    "print(n)"
   ]
  },
  {
   "cell_type": "code",
   "execution_count": 4,
   "metadata": {},
   "outputs": [
    {
     "data": {
      "text/plain": [
       "[(1, 2)]"
      ]
     },
     "execution_count": 4,
     "metadata": {},
     "output_type": "execute_result"
    }
   ],
   "source": [
    "t = [1,2,3]\n",
    "s = [2,]\n",
    "\n",
    "list(zip(t,s))"
   ]
  },
  {
   "cell_type": "code",
   "execution_count": 41,
   "metadata": {},
   "outputs": [
    {
     "name": "stdout",
     "output_type": "stream",
     "text": [
      "<class 'int'>\n"
     ]
    }
   ],
   "source": [
    "string = 'hello'\n",
    "s= string[1:]\n",
    "i = 186 //10\n",
    "print(type(i))"
   ]
  },
  {
   "cell_type": "code",
   "execution_count": 49,
   "metadata": {},
   "outputs": [
    {
     "name": "stdout",
     "output_type": "stream",
     "text": [
      "{'c': [3, 3], 'a': 2, 't': 1}\n",
      "catdog\n"
     ]
    }
   ],
   "source": [
    "dict_test = {'c':[2,3], 'a': 2, 't': 1}\n",
    "d1 = dict_test['c']\n",
    "dict_test['c'][0] += 1\n",
    "print(dict_test)\n",
    "\n",
    "y = ord('8')\n",
    "t = chr(y)\n",
    "y = 'cat' + 'dog'\n",
    "print(y)"
   ]
  },
  {
   "cell_type": "code",
   "execution_count": 28,
   "metadata": {},
   "outputs": [
    {
     "name": "stdout",
     "output_type": "stream",
     "text": [
      "striddng to test\n",
      "['striddng', 'to', 'test']\n",
      "{'t', 'e', ' ', 'o', 'r', 'i', 'g', 's', 'n', 'd'}\n"
     ]
    }
   ],
   "source": [
    "s1 = \"striddng to test\"\n",
    "s_list = s1.split(' ')\n",
    "s_list2 = list(s1)\n",
    "\n",
    "x = ''.join(s_list2)\n",
    "print(x)\n",
    "print(s_list)\n",
    "recombine = ' '.join(s_list)\n",
    "test = str(s_list)\n",
    "\n",
    "ss = set(s1)\n",
    "print(ss)\n",
    "for idx,c in enumerate(s1):\n",
    "    pass\n",
    "    #print(f'{idx} is idx of {c}')"
   ]
  },
  {
   "cell_type": "code",
   "execution_count": 25,
   "metadata": {},
   "outputs": [
    {
     "name": "stdout",
     "output_type": "stream",
     "text": [
      "['line1\\n', 'line2\\n']\n",
      "['line3top line\\n']\n"
     ]
    }
   ],
   "source": [
    "test_file = './manip.txt'\n",
    "\n",
    "with open(test_file,'w+') as f:\n",
    "    f.write('line1\\n')\n",
    "    f.write('line2\\n')\n",
    "\n",
    "with open(test_file,'r') as f:\n",
    "    lines = f.readlines()\n",
    "    print(lines) \n",
    "    \n",
    "with open(test_file,'w+') as f:\n",
    "    f.write('line3')\n",
    "    \n",
    "with open(test_file,'w')as f:\n",
    "    \n",
    "    f.seek(0,0)\n",
    "    f.write('top line\\n')\n",
    "    \n",
    "with open(test_file,'r') as f:\n",
    "    lines = f.readlines()\n",
    "    print(lines) "
   ]
  },
  {
   "cell_type": "code",
   "execution_count": 52,
   "metadata": {},
   "outputs": [
    {
     "data": {
      "text/plain": [
       "False"
      ]
     },
     "execution_count": 52,
     "metadata": {},
     "output_type": "execute_result"
    }
   ],
   "source": [
    "dictionary1 = {\"a\": 1, \"b\": 2}\n",
    "dictionary2 = {\"a\": 1, \"b\": 2, \"c\":4}\n",
    "dictionary1 == dictionary2"
   ]
  },
  {
   "cell_type": "code",
   "execution_count": 31,
   "metadata": {},
   "outputs": [],
   "source": [
    "interval = 5\n",
    "interType = 'm'\n",
    "\n",
    "\n",
    "sma_int = 30\n",
    "smaType = 'm'\n",
    "\n",
    "sma = SMA(interval, interType, sma_int, smaType)\n"
   ]
  },
  {
   "cell_type": "code",
   "execution_count": 15,
   "metadata": {},
   "outputs": [
    {
     "name": "stdout",
     "output_type": "stream",
     "text": [
      "2021-01-03\n",
      "1\n"
     ]
    }
   ],
   "source": [
    "from datetime import date\n",
    "test = date(year=int('2021'), month=int('1'), day=int('3'))\n",
    "print(test)\n",
    "\n",
    "s = 'E94940_2021_04_22_115739'\n",
    "chunks = s.split('_')\n",
    "truck,year,mon,day,time = chunks\n",
    "print(int('01'))"
   ]
  },
  {
   "cell_type": "code",
   "execution_count": 19,
   "metadata": {},
   "outputs": [
    {
     "name": "stdout",
     "output_type": "stream",
     "text": [
      "True\n"
     ]
    }
   ],
   "source": [
    "d1 = date(year=2021, month=1, day=3)\n",
    "d2 = date(year=2021, month=1, day=3)\n",
    "\n",
    "print(d1==d2)"
   ]
  },
  {
   "cell_type": "code",
   "execution_count": 9,
   "metadata": {},
   "outputs": [
    {
     "ename": "KeyError",
     "evalue": "'CRYPTO_DASH_SK'",
     "output_type": "error",
     "traceback": [
      "\u001b[0;31m---------------------------------------------------------------------------\u001b[0m",
      "\u001b[0;31mKeyError\u001b[0m                                  Traceback (most recent call last)",
      "\u001b[0;32m<ipython-input-9-a776a1fdff59>\u001b[0m in \u001b[0;36m<module>\u001b[0;34m\u001b[0m\n\u001b[1;32m      1\u001b[0m \u001b[0;32mfrom\u001b[0m \u001b[0mos\u001b[0m \u001b[0;32mimport\u001b[0m \u001b[0menviron\u001b[0m\u001b[0;34m\u001b[0m\u001b[0;34m\u001b[0m\u001b[0m\n\u001b[0;32m----> 2\u001b[0;31m \u001b[0mprint\u001b[0m\u001b[0;34m(\u001b[0m\u001b[0menviron\u001b[0m\u001b[0;34m[\u001b[0m\u001b[0;34m'CRYPTO_DASH_SK'\u001b[0m\u001b[0;34m]\u001b[0m\u001b[0;34m)\u001b[0m\u001b[0;34m\u001b[0m\u001b[0;34m\u001b[0m\u001b[0m\n\u001b[0m",
      "\u001b[0;32m/usr/lib/python3.6/os.py\u001b[0m in \u001b[0;36m__getitem__\u001b[0;34m(self, key)\u001b[0m\n\u001b[1;32m    667\u001b[0m         \u001b[0;32mexcept\u001b[0m \u001b[0mKeyError\u001b[0m\u001b[0;34m:\u001b[0m\u001b[0;34m\u001b[0m\u001b[0;34m\u001b[0m\u001b[0m\n\u001b[1;32m    668\u001b[0m             \u001b[0;31m# raise KeyError with the original key value\u001b[0m\u001b[0;34m\u001b[0m\u001b[0;34m\u001b[0m\u001b[0;34m\u001b[0m\u001b[0m\n\u001b[0;32m--> 669\u001b[0;31m             \u001b[0;32mraise\u001b[0m \u001b[0mKeyError\u001b[0m\u001b[0;34m(\u001b[0m\u001b[0mkey\u001b[0m\u001b[0;34m)\u001b[0m \u001b[0;32mfrom\u001b[0m \u001b[0;32mNone\u001b[0m\u001b[0;34m\u001b[0m\u001b[0;34m\u001b[0m\u001b[0m\n\u001b[0m\u001b[1;32m    670\u001b[0m         \u001b[0;32mreturn\u001b[0m \u001b[0mself\u001b[0m\u001b[0;34m.\u001b[0m\u001b[0mdecodevalue\u001b[0m\u001b[0;34m(\u001b[0m\u001b[0mvalue\u001b[0m\u001b[0;34m)\u001b[0m\u001b[0;34m\u001b[0m\u001b[0;34m\u001b[0m\u001b[0m\n\u001b[1;32m    671\u001b[0m \u001b[0;34m\u001b[0m\u001b[0m\n",
      "\u001b[0;31mKeyError\u001b[0m: 'CRYPTO_DASH_SK'"
     ]
    }
   ],
   "source": [
    "from os import environ\n",
    "print(environ['CRYPTO_DASH_SK'])"
   ]
  },
  {
   "cell_type": "code",
   "execution_count": null,
   "metadata": {},
   "outputs": [],
   "source": [
    "# \"\"\"\n",
    "# This is the robot's control interface.\n",
    "# You should not implement it, or speculate about its implementation\n",
    "# \"\"\"\n",
    "#class Robot:\n",
    "#    def move(self):\n",
    "#        \"\"\"\n",
    "#        Returns true if the cell in front is open and robot moves into the cell.\n",
    "#        Returns false if the cell in front is blocked and robot stays in the current cell.\n",
    "#        :rtype bool\n",
    "#        \"\"\"\n",
    "#\n",
    "#    def turnLeft(self):\n",
    "#        \"\"\"\n",
    "#        Robot will stay in the same cell after calling turnLeft/turnRight.\n",
    "#        Each turn will be 90 degrees.\n",
    "#        :rtype void\n",
    "#        \"\"\"\n",
    "#\n",
    "#    def turnRight(self):\n",
    "#        \"\"\"\n",
    "#        Robot will stay in the same cell after calling turnLeft/turnRight.\n",
    "#        Each turn will be 90 degrees.\n",
    "#        :rtype void\n",
    "#        \"\"\"\n",
    "#\n",
    "#    def clean(self):\n",
    "#        \"\"\"\n",
    "#        Clean the current cell.\n",
    "#        :rtype void\n",
    "#        \"\"\"\n",
    "\n",
    "class Solution:\n",
    "    \n",
    "    direction = 'up'\n",
    "    dirs = [(-1, 0), (0, 1), (0, 1), (0, -1)]\n",
    "    \n",
    "    def cleanRoom(self, robot):\n",
    "        \"\"\"\n",
    "        :type robot: Robot\n",
    "        :rtype: None\n",
    "        \"\"\"\n",
    "        seen = set()\n",
    "        prev = 0\n",
    "\n",
    "\n",
    "        self.clean_helper(robot, seen, 0, 0, prev)\n",
    "        \n",
    "    \n",
    "    def clean_helper(self, robot, seen, i, j, prev):\n",
    "        \n",
    "        robot.clean()\n",
    "        seen.add((i,j))\n",
    "        \n",
    "        for k in range(4):\n",
    "            next_dir = (prev + i) % 4\n",
    "            di,dj = self.dirs[next_dir]\n",
    "            next_i, next_j = i + di, j + dj\n",
    "                \n",
    "            if (next_i,next_j) not in seen and robot.move():\n",
    "                self.clean_helper(robot, seen, next_i, next_j, next_dir)\n",
    "                self.go_back(robot)\n",
    "            \n",
    "            robot.turnRight()\n",
    "        \n",
    "        \n",
    "    def go_back(self, robot):\n",
    "            robot.turnRight()\n",
    "            robot.turnRight()\n",
    "            robot.move()\n",
    "            robot.turnRight()\n",
    "            robot.turnRight()            \n"
   ]
  },
  {
   "cell_type": "code",
   "execution_count": 23,
   "metadata": {},
   "outputs": [
    {
     "name": "stdout",
     "output_type": "stream",
     "text": [
      "defaultdict(<class 'int'>, {1: 3, 2: 2, 3: 1})\n",
      "dict_items([(1, 3), (2, 2), (3, 1)])\n",
      "[(1, 3), (2, 2), (3, 1)]\n",
      "<class 'list'>\n"
     ]
    }
   ],
   "source": [
    "from collections import defaultdict\n",
    "\n",
    "nums = [1,1,1,2,2,3]\n",
    "freqs = defaultdict(int)\n",
    "        \n",
    "n = len(nums)\n",
    "\n",
    "for i in range(n):\n",
    "    freqs[nums[i]] += 1\n",
    "    \n",
    "print(freqs)\n",
    "print(freqs.items())\n",
    "\n",
    "num_freqs = freqs.items()\n",
    "\n",
    "sfreqs = sorted(num_freqs, key=lambda x: -x[1])\n",
    "print(sfreqs)\n",
    "print(type(sfreqs))"
   ]
  },
  {
   "cell_type": "code",
   "execution_count": 20,
   "metadata": {},
   "outputs": [
    {
     "name": "stdout",
     "output_type": "stream",
     "text": [
      "[6, 5]\n"
     ]
    }
   ],
   "source": [
    "import heapq\n",
    "nums = [3,2,1,5,6,4]\n",
    "\n",
    "res = heapq.nlargest(2, nums)\n",
    "print(res)\n",
    "\n"
   ]
  },
  {
   "cell_type": "code",
   "execution_count": 27,
   "metadata": {},
   "outputs": [
    {
     "name": "stdout",
     "output_type": "stream",
     "text": [
      "[('a', 3), ('b', 3), ('c', 2)]\n"
     ]
    }
   ],
   "source": [
    "t = [('b',3), ('c',2), ('a', 3)]\n",
    "res = sorted(sorted(t, key = lambda x: -x[1]), key = lambda x : x[0])\n",
    "#res = sorted(t, key = lambda x: -x[1])\n",
    "print(res)"
   ]
  },
  {
   "cell_type": "code",
   "execution_count": 6,
   "metadata": {},
   "outputs": [
    {
     "ename": "ValueError",
     "evalue": "not enough values to unpack (expected 3, got 2)",
     "output_type": "error",
     "traceback": [
      "\u001b[0;31m---------------------------------------------------------------------------\u001b[0m",
      "\u001b[0;31mValueError\u001b[0m                                Traceback (most recent call last)",
      "\u001b[0;32m<ipython-input-6-cef7019f45f4>\u001b[0m in \u001b[0;36m<module>\u001b[0;34m\u001b[0m\n\u001b[1;32m      1\u001b[0m \u001b[0mdirs\u001b[0m \u001b[0;34m=\u001b[0m \u001b[0;34m[\u001b[0m\u001b[0;34m(\u001b[0m\u001b[0;34m-\u001b[0m\u001b[0;36m1\u001b[0m\u001b[0;34m,\u001b[0m \u001b[0;36m0\u001b[0m\u001b[0;34m)\u001b[0m\u001b[0;34m,\u001b[0m \u001b[0;34m(\u001b[0m\u001b[0;36m1\u001b[0m\u001b[0;34m,\u001b[0m \u001b[0;36m0\u001b[0m\u001b[0;34m)\u001b[0m\u001b[0;34m,\u001b[0m \u001b[0;34m(\u001b[0m\u001b[0;36m0\u001b[0m\u001b[0;34m,\u001b[0m \u001b[0;34m-\u001b[0m\u001b[0;36m1\u001b[0m\u001b[0;34m)\u001b[0m\u001b[0;34m,\u001b[0m \u001b[0;34m(\u001b[0m\u001b[0;36m0\u001b[0m\u001b[0;34m,\u001b[0m \u001b[0;36m1\u001b[0m\u001b[0;34m)\u001b[0m\u001b[0;34m]\u001b[0m\u001b[0;34m\u001b[0m\u001b[0;34m\u001b[0m\u001b[0m\n\u001b[0;32m----> 2\u001b[0;31m \u001b[0;32mfor\u001b[0m \u001b[0mi\u001b[0m\u001b[0;34m,\u001b[0m \u001b[0mdi\u001b[0m\u001b[0;34m,\u001b[0m \u001b[0mdj\u001b[0m \u001b[0;32min\u001b[0m \u001b[0menumerate\u001b[0m\u001b[0;34m(\u001b[0m\u001b[0mdirs\u001b[0m\u001b[0;34m)\u001b[0m\u001b[0;34m:\u001b[0m\u001b[0;34m\u001b[0m\u001b[0;34m\u001b[0m\u001b[0m\n\u001b[0m\u001b[1;32m      3\u001b[0m     \u001b[0mprint\u001b[0m\u001b[0;34m(\u001b[0m\u001b[0mi\u001b[0m\u001b[0;34m)\u001b[0m\u001b[0;34m\u001b[0m\u001b[0;34m\u001b[0m\u001b[0m\n",
      "\u001b[0;31mValueError\u001b[0m: not enough values to unpack (expected 3, got 2)"
     ]
    }
   ],
   "source": [
    "dirs = [(-1, 0), (1, 0), (0, -1), (0, 1)]\n",
    "for i, tup in enumerate(dirs):\n",
    "    print(i)"
   ]
  },
  {
   "cell_type": "code",
   "execution_count": 1,
   "metadata": {},
   "outputs": [
    {
     "ename": "NameError",
     "evalue": "name 'assertIs' is not defined",
     "output_type": "error",
     "traceback": [
      "\u001b[0;31m---------------------------------------------------------------------------\u001b[0m",
      "\u001b[0;31mNameError\u001b[0m                                 Traceback (most recent call last)",
      "\u001b[0;32m<ipython-input-1-ad5fcf54aa1e>\u001b[0m in \u001b[0;36m<module>\u001b[0;34m\u001b[0m\n\u001b[1;32m      1\u001b[0m \u001b[0ml\u001b[0m \u001b[0;34m=\u001b[0m \u001b[0;32mFalse\u001b[0m\u001b[0;34m\u001b[0m\u001b[0;34m\u001b[0m\u001b[0m\n\u001b[0;32m----> 2\u001b[0;31m \u001b[0mg\u001b[0m \u001b[0;34m=\u001b[0m \u001b[0massertIs\u001b[0m\u001b[0;34m(\u001b[0m\u001b[0ml\u001b[0m\u001b[0;34m,\u001b[0m\u001b[0;32mFalse\u001b[0m\u001b[0;34m)\u001b[0m\u001b[0;34m\u001b[0m\u001b[0;34m\u001b[0m\u001b[0m\n\u001b[0m",
      "\u001b[0;31mNameError\u001b[0m: name 'assertIs' is not defined"
     ]
    }
   ],
   "source": [
    "l = False\n",
    "g = assertIs(l,False)"
   ]
  },
  {
   "cell_type": "code",
   "execution_count": 8,
   "metadata": {},
   "outputs": [
    {
     "name": "stdout",
     "output_type": "stream",
     "text": [
      "(1, 1)\n"
     ]
    }
   ],
   "source": [
    "nmax = 3\n",
    "mmax = 3\n",
    "home = ((nmax*2 - 1) // 2 - 1, (mmax*2 - 1) // 2 - 1) \n",
    "print(home)"
   ]
  },
  {
   "cell_type": "markdown",
   "metadata": {},
   "source": [
    "d = {(1,2):3, (3,4):2}\n",
    "m = min(zip(d.values(),d.keys()))\n",
    "print(max(d.values()))\n",
    "test = [[1,2],[2,3],[2,6]]\n",
    "stest = set(tuple(test))\n",
    "print(stest)\n",
    "d = 1,2,3"
   ]
  },
  {
   "cell_type": "code",
   "execution_count": 1,
   "metadata": {},
   "outputs": [
    {
     "ename": "TypeError",
     "evalue": "unsupported operand type(s) for /: 'str' and 'str'",
     "output_type": "error",
     "traceback": [
      "\u001b[0;31m---------------------------------------------------------------------------\u001b[0m",
      "\u001b[0;31mTypeError\u001b[0m                                 Traceback (most recent call last)",
      "\u001b[0;32m<ipython-input-1-22aefdf37fe6>\u001b[0m in \u001b[0;36m<module>\u001b[0;34m\u001b[0m\n\u001b[1;32m      3\u001b[0m     'default': {\n\u001b[1;32m      4\u001b[0m         \u001b[0;34m'ENGINE'\u001b[0m\u001b[0;34m:\u001b[0m \u001b[0;34m'django.db.backends.sqlite3'\u001b[0m\u001b[0;34m,\u001b[0m\u001b[0;34m\u001b[0m\u001b[0;34m\u001b[0m\u001b[0m\n\u001b[0;32m----> 5\u001b[0;31m         \u001b[0;34m'NAME'\u001b[0m\u001b[0;34m:\u001b[0m \u001b[0mBASE_DIR\u001b[0m \u001b[0;34m/\u001b[0m \u001b[0;34m'db.sqlite3'\u001b[0m\u001b[0;34m,\u001b[0m\u001b[0;34m\u001b[0m\u001b[0;34m\u001b[0m\u001b[0m\n\u001b[0m\u001b[1;32m      6\u001b[0m     }\n\u001b[1;32m      7\u001b[0m }\n",
      "\u001b[0;31mTypeError\u001b[0m: unsupported operand type(s) for /: 'str' and 'str'"
     ]
    }
   ],
   "source": [
    "BASE_DIR = 'home/Desktop/apps/pollsite'\n",
    "DATABASES = {\n",
    "    'default': {\n",
    "        'ENGINE': 'django.db.backends.sqlite3',\n",
    "        'NAME': BASE_DIR / 'db.sqlite3',\n",
    "    }\n",
    "}\n",
    "\n",
    "DATABASES['default']['NAME']"
   ]
  },
  {
   "cell_type": "code",
   "execution_count": 13,
   "metadata": {},
   "outputs": [
    {
     "name": "stdout",
     "output_type": "stream",
     "text": [
      "[3, 4]\n",
      "defaultdict(<class 'set'>, {(1, 2): {(3, 4), (3, 5)}})\n",
      "{(3, 4), (3, 5)}\n"
     ]
    }
   ],
   "source": [
    "l = \n",
    "del l[0]\n",
    "print(l[0])\n",
    "\n",
    "from collections import defaultdict\n",
    "x = defaultdict(set)\n",
    "x[(1,2)].add((3,4))\n",
    "x[(1,2)].add((3,5))\n",
    "print(x)\n",
    "print(x[(1,2)])"
   ]
  },
  {
   "cell_type": "code",
   "execution_count": 33,
   "metadata": {},
   "outputs": [
    {
     "name": "stdout",
     "output_type": "stream",
     "text": [
      "1.2\n",
      "1.25\n",
      "1.2666666666666666\n",
      "1.325\n",
      "1.3800000000000001\n",
      "1.4666666666666668\n",
      "1.455\n",
      "1.43\n",
      "\n",
      "1.4666666666666668\n",
      "1.455\n",
      "1.43\n"
     ]
    }
   ],
   "source": [
    "data_stream = [1.2, 1.3, 1.3, 1.5, 1.6, 1.9, 1.13, 1.15]\n",
    "sol1 = sum([1.2, 1.3, 1.3, 1.5, 1.6, 1.9])/6\n",
    "sol2 = sum([1.3, 1.3, 1.5, 1.6, 1.9, 1.13])/6\n",
    "sol3 = sum([1.3, 1.5, 1.6, 1.9, 1.13, 1.15])/6\n",
    "\n",
    "\n",
    "for price in data_stream:\n",
    "    curr_avg = sma.update(price)\n",
    "    print(curr_avg)\n",
    "    \n",
    "    \n",
    "print()\n",
    "print(sol1)\n",
    "print(sol2)\n",
    "print(sol3)\n",
    "    "
   ]
  },
  {
   "cell_type": "code",
   "execution_count": 4,
   "metadata": {},
   "outputs": [
    {
     "name": "stdout",
     "output_type": "stream",
     "text": [
      "1 day, 0:00:00\n",
      "2021-08-18 21:52:20.289779\n",
      "2021-08-17 21:52:20.289779\n",
      "2021-08-18 21:52:20.289779 2021-08-18 21:52:20.289779\n"
     ]
    }
   ],
   "source": [
    "import datetime\n",
    "\n",
    "test = datetime.timedelta(days=1)\n",
    "test2 = datetime.datetime.now()\n",
    "s = str(test2) + ' ' + str(test2)\n",
    "print(test)\n",
    "print(test2)\n",
    "print(test2-test)\n",
    "print(s)"
   ]
  },
  {
   "cell_type": "code",
   "execution_count": 8,
   "metadata": {},
   "outputs": [
    {
     "name": "stdout",
     "output_type": "stream",
     "text": [
      "You're voting on question 1.\n"
     ]
    }
   ],
   "source": [
    "q = '1'\n",
    "t = \"You're voting on question %s.\" % q\n",
    "print(t)"
   ]
  },
  {
   "cell_type": "code",
   "execution_count": 2,
   "metadata": {},
   "outputs": [
    {
     "data": {
      "text/plain": [
       "'graham'"
      ]
     },
     "execution_count": 2,
     "metadata": {},
     "output_type": "execute_result"
    }
   ],
   "source": [
    "import getpass \n",
    "getpass.getuser()"
   ]
  },
  {
   "cell_type": "code",
   "execution_count": 10,
   "metadata": {},
   "outputs": [
    {
     "ename": "TypeError",
     "evalue": "foo() got an unexpected keyword argument 'para'",
     "output_type": "error",
     "traceback": [
      "\u001b[0;31m---------------------------------------------------------------------------\u001b[0m",
      "\u001b[0;31mTypeError\u001b[0m                                 Traceback (most recent call last)",
      "\u001b[0;32m<ipython-input-10-0819b8e6dc5c>\u001b[0m in \u001b[0;36m<module>\u001b[0;34m\u001b[0m\n\u001b[1;32m      2\u001b[0m     \u001b[0mprint\u001b[0m\u001b[0;34m(\u001b[0m\u001b[0mparam\u001b[0m\u001b[0;34m)\u001b[0m\u001b[0;34m\u001b[0m\u001b[0;34m\u001b[0m\u001b[0m\n\u001b[1;32m      3\u001b[0m \u001b[0;34m\u001b[0m\u001b[0m\n\u001b[0;32m----> 4\u001b[0;31m \u001b[0mfoo\u001b[0m\u001b[0;34m(\u001b[0m\u001b[0mpara\u001b[0m\u001b[0;34m=\u001b[0m\u001b[0;36m3\u001b[0m\u001b[0;34m)\u001b[0m\u001b[0;34m\u001b[0m\u001b[0;34m\u001b[0m\u001b[0m\n\u001b[0m",
      "\u001b[0;31mTypeError\u001b[0m: foo() got an unexpected keyword argument 'para'"
     ]
    }
   ],
   "source": [
    "def foo(param):\n",
    "    print(param)\n",
    "\n",
    "foo(para=3)"
   ]
  },
  {
   "cell_type": "code",
   "execution_count": 4,
   "metadata": {},
   "outputs": [
    {
     "name": "stdout",
     "output_type": "stream",
     "text": [
      "home/graham/Desktop/keys/binance\n"
     ]
    }
   ],
   "source": [
    "import os.path\n",
    "username = getpass.getuser()\n",
    "keypath = ['home', username, 'Desktop', 'keys','binance']\n",
    "p = os.path.join(*keypath)\n",
    "print(p)"
   ]
  },
  {
   "cell_type": "code",
   "execution_count": 8,
   "metadata": {},
   "outputs": [
    {
     "name": "stdout",
     "output_type": "stream",
     "text": [
      "[[], [], []]\n"
     ]
    }
   ],
   "source": [
    "t = [[]] * 3\n",
    "\n",
    "print(t)"
   ]
  },
  {
   "cell_type": "code",
   "execution_count": 9,
   "metadata": {},
   "outputs": [
    {
     "name": "stdout",
     "output_type": "stream",
     "text": [
      "[[1], [1], [1]]\n"
     ]
    }
   ],
   "source": [
    "t[0].append(1)\n",
    "print(t)"
   ]
  },
  {
   "cell_type": "code",
   "execution_count": 14,
   "metadata": {},
   "outputs": [
    {
     "name": "stdout",
     "output_type": "stream",
     "text": [
      "140114355896072\n",
      "140114355896072\n",
      "140114355896072\n"
     ]
    }
   ],
   "source": [
    "for el in t:\n",
    "    print(id(el))"
   ]
  },
  {
   "cell_type": "code",
   "execution_count": 16,
   "metadata": {},
   "outputs": [
    {
     "name": "stdout",
     "output_type": "stream",
     "text": [
      "{'A', 'D', 'F', 'B', 'G', 'C', 'E'}\n"
     ]
    }
   ],
   "source": [
    "s1 = 'ABAB'\n",
    "s2 = 'AABABBA'\n",
    "s3 = 'ABABCDEFG'\n",
    "\n",
    "t_set = {c for c in s3}\n",
    "print(t_set)"
   ]
  },
  {
   "cell_type": "code",
   "execution_count": 20,
   "metadata": {},
   "outputs": [
    {
     "name": "stdout",
     "output_type": "stream",
     "text": [
      "hello\n",
      "hello\n",
      "bello\n"
     ]
    }
   ],
   "source": [
    "s = 'hello'\n",
    "t = s\n",
    "q= s.replace('h','b')\n",
    "print(s)\n",
    "print(t)\n",
    "print(q)"
   ]
  },
  {
   "cell_type": "code",
   "execution_count": 21,
   "metadata": {},
   "outputs": [],
   "source": [
    "def fun(s):\n",
    "    \n",
    "    for i in range(len(s)):\n",
    "        if s[i] != tar:\n",
    "            s[i] = tar\n",
    "            "
   ]
  },
  {
   "cell_type": "code",
   "execution_count": 22,
   "metadata": {},
   "outputs": [
    {
     "ename": "TypeError",
     "evalue": "'str' object does not support item assignment",
     "output_type": "error",
     "traceback": [
      "\u001b[0;31m---------------------------------------------------------------------------\u001b[0m",
      "\u001b[0;31mTypeError\u001b[0m                                 Traceback (most recent call last)",
      "\u001b[0;32m<ipython-input-22-49e83a1cf8cd>\u001b[0m in \u001b[0;36m<module>\u001b[0;34m\u001b[0m\n\u001b[1;32m      1\u001b[0m \u001b[0mss\u001b[0m \u001b[0;34m=\u001b[0m \u001b[0;34m'ABAB'\u001b[0m\u001b[0;34m\u001b[0m\u001b[0;34m\u001b[0m\u001b[0m\n\u001b[1;32m      2\u001b[0m \u001b[0mtar\u001b[0m \u001b[0;34m=\u001b[0m \u001b[0;34m'A'\u001b[0m\u001b[0;34m\u001b[0m\u001b[0;34m\u001b[0m\u001b[0m\n\u001b[0;32m----> 3\u001b[0;31m \u001b[0mfun\u001b[0m\u001b[0;34m(\u001b[0m\u001b[0mss\u001b[0m\u001b[0;34m)\u001b[0m\u001b[0;34m\u001b[0m\u001b[0;34m\u001b[0m\u001b[0m\n\u001b[0m\u001b[1;32m      4\u001b[0m \u001b[0mprint\u001b[0m\u001b[0;34m(\u001b[0m\u001b[0mss\u001b[0m\u001b[0;34m)\u001b[0m\u001b[0;34m\u001b[0m\u001b[0;34m\u001b[0m\u001b[0m\n",
      "\u001b[0;32m<ipython-input-21-faf3fecf765d>\u001b[0m in \u001b[0;36mfun\u001b[0;34m(s)\u001b[0m\n\u001b[1;32m      3\u001b[0m     \u001b[0;32mfor\u001b[0m \u001b[0mi\u001b[0m \u001b[0;32min\u001b[0m \u001b[0mrange\u001b[0m\u001b[0;34m(\u001b[0m\u001b[0mlen\u001b[0m\u001b[0;34m(\u001b[0m\u001b[0ms\u001b[0m\u001b[0;34m)\u001b[0m\u001b[0;34m)\u001b[0m\u001b[0;34m:\u001b[0m\u001b[0;34m\u001b[0m\u001b[0;34m\u001b[0m\u001b[0m\n\u001b[1;32m      4\u001b[0m         \u001b[0;32mif\u001b[0m \u001b[0ms\u001b[0m\u001b[0;34m[\u001b[0m\u001b[0mi\u001b[0m\u001b[0;34m]\u001b[0m \u001b[0;34m!=\u001b[0m \u001b[0mtar\u001b[0m\u001b[0;34m:\u001b[0m\u001b[0;34m\u001b[0m\u001b[0;34m\u001b[0m\u001b[0m\n\u001b[0;32m----> 5\u001b[0;31m             \u001b[0ms\u001b[0m\u001b[0;34m[\u001b[0m\u001b[0mi\u001b[0m\u001b[0;34m]\u001b[0m \u001b[0;34m=\u001b[0m \u001b[0mtar\u001b[0m\u001b[0;34m\u001b[0m\u001b[0;34m\u001b[0m\u001b[0m\n\u001b[0m\u001b[1;32m      6\u001b[0m \u001b[0;34m\u001b[0m\u001b[0m\n",
      "\u001b[0;31mTypeError\u001b[0m: 'str' object does not support item assignment"
     ]
    }
   ],
   "source": [
    "ss = 'ABAB'\n",
    "tar = 'A'\n",
    "fun(ss)\n",
    "print(ss)"
   ]
  },
  {
   "cell_type": "code",
   "execution_count": 23,
   "metadata": {},
   "outputs": [],
   "source": [
    "for i in range(0):\n",
    "    print('j')"
   ]
  },
  {
   "cell_type": "code",
   "execution_count": 25,
   "metadata": {},
   "outputs": [
    {
     "name": "stdout",
     "output_type": "stream",
     "text": [
      "[1, 3, 3]\n",
      "[1, 2, 3]\n"
     ]
    }
   ],
   "source": [
    "t = [1,2,3]\n",
    "q = t.copy()\n",
    "q[1] = 3\n",
    "print(q)\n",
    "print(t)"
   ]
  },
  {
   "cell_type": "code",
   "execution_count": 27,
   "metadata": {},
   "outputs": [],
   "source": [
    "def replace_offset(s,k, tar, offset):\n",
    "    count = 0\n",
    "    num_replaced = 0\n",
    "    for i in range(len(s)):\n",
    "        if num_replaced >= k:\n",
    "            break\n",
    "        if s[i] != tar:\n",
    "            if count >= offset:\n",
    "                s[i] = tar\n",
    "                num_replaced += 1\n",
    "            else:\n",
    "                count += 1"
   ]
  },
  {
   "cell_type": "code",
   "execution_count": 33,
   "metadata": {},
   "outputs": [
    {
     "name": "stdout",
     "output_type": "stream",
     "text": [
      "['A', 'A', 'B', 'A', 'B', 'B', 'A']\n"
     ]
    }
   ],
   "source": [
    "t = 'AABABBA'\n",
    "\n",
    "tl = list(t)\n",
    "\n",
    "replace_offset(tl,0,'A',0)\n",
    "print(tl)"
   ]
  },
  {
   "cell_type": "code",
   "execution_count": 40,
   "metadata": {},
   "outputs": [
    {
     "name": "stdout",
     "output_type": "stream",
     "text": [
      "A\n"
     ]
    },
    {
     "ename": "TypeError",
     "evalue": "object of type 'itertools._grouper' has no len()",
     "output_type": "error",
     "traceback": [
      "\u001b[0;31m---------------------------------------------------------------------------\u001b[0m",
      "\u001b[0;31mTypeError\u001b[0m                                 Traceback (most recent call last)",
      "\u001b[0;32m<ipython-input-40-fa421b54b55b>\u001b[0m in \u001b[0;36m<module>\u001b[0;34m\u001b[0m\n\u001b[1;32m      3\u001b[0m \u001b[0;32mfor\u001b[0m \u001b[0mk\u001b[0m\u001b[0;34m,\u001b[0m\u001b[0mg\u001b[0m \u001b[0;32min\u001b[0m \u001b[0mitertools\u001b[0m\u001b[0;34m.\u001b[0m\u001b[0mgroupby\u001b[0m\u001b[0;34m(\u001b[0m\u001b[0mt\u001b[0m\u001b[0;34m)\u001b[0m\u001b[0;34m:\u001b[0m\u001b[0;34m\u001b[0m\u001b[0;34m\u001b[0m\u001b[0m\n\u001b[1;32m      4\u001b[0m     \u001b[0mprint\u001b[0m\u001b[0;34m(\u001b[0m\u001b[0mk\u001b[0m\u001b[0;34m)\u001b[0m\u001b[0;34m\u001b[0m\u001b[0;34m\u001b[0m\u001b[0m\n\u001b[0;32m----> 5\u001b[0;31m     \u001b[0mprint\u001b[0m\u001b[0;34m(\u001b[0m\u001b[0mlen\u001b[0m\u001b[0;34m(\u001b[0m\u001b[0mg\u001b[0m\u001b[0;34m)\u001b[0m\u001b[0;34m)\u001b[0m\u001b[0;34m\u001b[0m\u001b[0;34m\u001b[0m\u001b[0m\n\u001b[0m",
      "\u001b[0;31mTypeError\u001b[0m: object of type 'itertools._grouper' has no len()"
     ]
    }
   ],
   "source": [
    "import itertools\n",
    "\n",
    "for k,g in itertools.groupby(t):\n",
    "    print(k)\n",
    "    print(len(g))"
   ]
  },
  {
   "cell_type": "code",
   "execution_count": 43,
   "metadata": {},
   "outputs": [],
   "source": [
    " def find_longest_seq(temp):           \n",
    "    max_seq = 0\n",
    "    \n",
    "    prev = temp[0]\n",
    "\n",
    "    curr_seq = 0\n",
    "    for i in range(len(temp)):\n",
    "        curr = temp[i]\n",
    "        if prev == curr:\n",
    "            curr_seq += 1\n",
    "        else:\n",
    "            curr_seq = 1\n",
    "        prev = curr\n",
    "        if curr_seq > max_seq:\n",
    "            max_seq = curr_seq\n",
    "    return max_seq\n",
    "    \n"
   ]
  },
  {
   "cell_type": "code",
   "execution_count": 49,
   "metadata": {},
   "outputs": [
    {
     "name": "stdout",
     "output_type": "stream",
     "text": [
      "2\n"
     ]
    }
   ],
   "source": [
    "t = 'ADDAFAFDSAFSAD'\n",
    "\n",
    "tl = list(t)\n",
    "\n",
    "res = find_longest_seq(tl)\n",
    "print(res)"
   ]
  },
  {
   "cell_type": "code",
   "execution_count": 52,
   "metadata": {},
   "outputs": [
    {
     "name": "stdout",
     "output_type": "stream",
     "text": [
      "[  0.   1.   3.   6.  10.  15.  21.  28.  36.  45.  55.  66.  78.  91.\n",
      " 105. 120. 136. 153. 171. 190.]\n",
      "[ 0.  1.  3.  6.  9. 12. 15. 18. 21. 24. 27. 30. 33. 36. 39. 42. 45. 48.\n",
      " 51. 54.]\n",
      "[ 1.  2.  3.  4.  5.  6.  7.  8.  9. 10. 11. 12. 13. 14. 15. 16. 17. 18.]\n"
     ]
    }
   ],
   "source": [
    "import numpy as np\n",
    "\n",
    "def moving_average(a, n=3) :\n",
    "    ret = np.cumsum(a, dtype=float)\n",
    "    print(ret)\n",
    "    #print(ret[n:])\n",
    "    #print(ret[:-n])\n",
    "    ret[n:] = ret[n:] - ret[:-n]\n",
    "    print(ret)\n",
    "    return ret[n - 1:] / n\n",
    "\n",
    "a = np.arange(20)\n",
    "res = moving_average(a)\n",
    "print(res)"
   ]
  },
  {
   "cell_type": "code",
   "execution_count": 54,
   "metadata": {},
   "outputs": [
    {
     "data": {
      "text/plain": [
       "False"
      ]
     },
     "execution_count": 54,
     "metadata": {},
     "output_type": "execute_result"
    }
   ],
   "source": [
    "from collections import Counter\n",
    "\n",
    "s = 'ABC'\n",
    "t = 'BACt'\n",
    "\n",
    "cs = Counter(s)\n",
    "ct = Counter(t)\n",
    "\n",
    "cs == ct"
   ]
  },
  {
   "cell_type": "code",
   "execution_count": 3,
   "metadata": {},
   "outputs": [
    {
     "name": "stdout",
     "output_type": "stream",
     "text": [
      "M\n",
      "30,45\n"
     ]
    }
   ],
   "source": [
    "s = 'M:30,45'\n",
    "\n",
    "t,c = s.split(':')\n",
    "print(t)\n",
    "print(c)\n"
   ]
  },
  {
   "cell_type": "code",
   "execution_count": 6,
   "metadata": {},
   "outputs": [
    {
     "data": {
      "text/plain": [
       "'hel'"
      ]
     },
     "execution_count": 6,
     "metadata": {},
     "output_type": "execute_result"
    }
   ],
   "source": [
    "s= 'hel'\n",
    "s[0:3]"
   ]
  },
  {
   "cell_type": "code",
   "execution_count": 5,
   "metadata": {},
   "outputs": [
    {
     "name": "stdout",
     "output_type": "stream",
     "text": [
      "True\n"
     ]
    }
   ],
   "source": [
    "s = [(1,2),(2,3),(3,4)]\n",
    "print((1,2) in s)"
   ]
  },
  {
   "cell_type": "code",
   "execution_count": 8,
   "metadata": {},
   "outputs": [
    {
     "name": "stdout",
     "output_type": "stream",
     "text": [
      "a\n"
     ]
    }
   ],
   "source": [
    "t = chr(97)\n",
    "print(t)"
   ]
  },
  {
   "cell_type": "code",
   "execution_count": 10,
   "metadata": {},
   "outputs": [
    {
     "data": {
      "text/plain": [
       "10"
      ]
     },
     "execution_count": 10,
     "metadata": {},
     "output_type": "execute_result"
    }
   ],
   "source": [
    "from decimal import Decimal"
   ]
  },
  {
   "cell_type": "code",
   "execution_count": 15,
   "metadata": {},
   "outputs": [
    {
     "name": "stdout",
     "output_type": "stream",
     "text": [
      "32,23,45:32,23,45\n"
     ]
    }
   ],
   "source": [
    "l = ['32','23','45']\n",
    "l2 = ['32','23','45']\n",
    "s = ','.join(l)\n",
    "s2 = ','.join(l2)\n",
    "r = [s,s2]\n",
    "\n",
    "res = ':'.join(r)\n",
    "print(res)"
   ]
  },
  {
   "cell_type": "code",
   "execution_count": 16,
   "metadata": {},
   "outputs": [
    {
     "data": {
      "text/plain": [
       "['32,23,45', '32,23,45']"
      ]
     },
     "execution_count": 16,
     "metadata": {},
     "output_type": "execute_result"
    }
   ],
   "source": [
    "res.split(':')"
   ]
  },
  {
   "cell_type": "code",
   "execution_count": 18,
   "metadata": {},
   "outputs": [
    {
     "name": "stdout",
     "output_type": "stream",
     "text": [
      "a\n"
     ]
    }
   ],
   "source": [
    "c = '97'\n",
    "t = chr(int(c))\n",
    "print(t)"
   ]
  },
  {
   "cell_type": "code",
   "execution_count": 20,
   "metadata": {},
   "outputs": [
    {
     "name": "stdout",
     "output_type": "stream",
     "text": [
      "a\n",
      "c\n"
     ]
    }
   ],
   "source": [
    "l = ['a','\\n','c']\n",
    "s = ''.join(l)\n",
    "print(s)"
   ]
  },
  {
   "cell_type": "code",
   "execution_count": 108,
   "metadata": {},
   "outputs": [
    {
     "data": {
      "text/plain": [
       "2"
      ]
     },
     "execution_count": 108,
     "metadata": {},
     "output_type": "execute_result"
    }
   ],
   "source": [
    "24//12"
   ]
  },
  {
   "cell_type": "code",
   "execution_count": 111,
   "metadata": {},
   "outputs": [
    {
     "name": "stdout",
     "output_type": "stream",
     "text": [
      "h\n"
     ]
    }
   ],
   "source": [
    "t = 1\n",
    "s = 1\n",
    "\n",
    "if t | s:\n",
    "    print('h')"
   ]
  },
  {
   "cell_type": "code",
   "execution_count": 57,
   "metadata": {},
   "outputs": [
    {
     "data": {
      "text/plain": [
       "'\\x03'"
      ]
     },
     "execution_count": 57,
     "metadata": {},
     "output_type": "execute_result"
    }
   ],
   "source": [
    "chr(1000 >> (1 * 8) & 0xff)"
   ]
  },
  {
   "cell_type": "code",
   "execution_count": 34,
   "metadata": {},
   "outputs": [
    {
     "name": "stdout",
     "output_type": "stream",
     "text": [
      "b'Hello World' \n",
      "\n",
      "72 101 108 108 111 32 87 111 114 108 100 \n",
      "\n",
      "72 101 108 108 111 32 87 111 114 108 100 "
     ]
    }
   ],
   "source": [
    "string = \"Hello World\"\n",
    "\n",
    "# string with encoding 'utf-8'\n",
    "arr = bytes(string, 'utf-8')\n",
    "arr2 = bytes(string, 'ascii')\n",
    "\n",
    "print(arr,'\\n')\n",
    "\n",
    "# actual bytes in the the string\n",
    "for byte in arr:\n",
    "    print(byte, end=' ')\n",
    "print(\"\\n\")\n",
    "for byte in arr2:\n",
    "    print(byte, end=' ')"
   ]
  },
  {
   "cell_type": "code",
   "execution_count": 105,
   "metadata": {},
   "outputs": [],
   "source": [
    "def len_to_str():\n",
    "    \"\"\"\n",
    "    Encodes length of string to bytes string\n",
    "    \"\"\"\n",
    "    x = 123\n",
    "    bytes = [chr(x >> (i * 8) & 0xff) for i in range(4)]\n",
    "    bytes.reverse()\n",
    "    bytes_str = ''.join(bytes)\n",
    "    return bytes_str"
   ]
  },
  {
   "cell_type": "code",
   "execution_count": 106,
   "metadata": {},
   "outputs": [
    {
     "name": "stdout",
     "output_type": "stream",
     "text": [
      "\u0000\u0000\u0000{\n",
      "string\n"
     ]
    }
   ],
   "source": [
    "\n",
    "res = len_to_str()\n",
    "res2 = res + 'string'\n",
    "s = res2[0:4]\n",
    "e = res2[4:]\n",
    "print(s)\n",
    "print(e)\n"
   ]
  },
  {
   "cell_type": "code",
   "execution_count": 24,
   "metadata": {},
   "outputs": [
    {
     "ename": "TypeError",
     "evalue": "ord() expected a character, but string of length 0 found",
     "output_type": "error",
     "traceback": [
      "\u001b[0;31m---------------------------------------------------------------------------\u001b[0m",
      "\u001b[0;31mTypeError\u001b[0m                                 Traceback (most recent call last)",
      "\u001b[0;32m<ipython-input-24-6ed41a7b07da>\u001b[0m in \u001b[0;36m<module>\u001b[0;34m\u001b[0m\n\u001b[0;32m----> 1\u001b[0;31m \u001b[0mord\u001b[0m\u001b[0;34m(\u001b[0m\u001b[0;34m''\u001b[0m\u001b[0;34m)\u001b[0m\u001b[0;34m\u001b[0m\u001b[0;34m\u001b[0m\u001b[0m\n\u001b[0m",
      "\u001b[0;31mTypeError\u001b[0m: ord() expected a character, but string of length 0 found"
     ]
    }
   ],
   "source": [
    "ord(''r"
   ]
  },
  {
   "cell_type": "code",
   "execution_count": 26,
   "metadata": {},
   "outputs": [
    {
     "ename": "TypeError",
     "evalue": "ord() expected a character, but string of length 0 found",
     "output_type": "error",
     "traceback": [
      "\u001b[0;31m---------------------------------------------------------------------------\u001b[0m",
      "\u001b[0;31mTypeError\u001b[0m                                 Traceback (most recent call last)",
      "\u001b[0;32m<ipython-input-26-823cb90433d3>\u001b[0m in \u001b[0;36m<module>\u001b[0;34m\u001b[0m\n\u001b[1;32m      1\u001b[0m \u001b[0ms\u001b[0m \u001b[0;34m=\u001b[0m \u001b[0;34m[\u001b[0m\u001b[0;34m''\u001b[0m\u001b[0;34m,\u001b[0m\u001b[0;34m''\u001b[0m\u001b[0;34m]\u001b[0m\u001b[0;34m\u001b[0m\u001b[0;34m\u001b[0m\u001b[0m\n\u001b[1;32m      2\u001b[0m \u001b[0;32mfor\u001b[0m \u001b[0mstring\u001b[0m \u001b[0;32min\u001b[0m \u001b[0ms\u001b[0m\u001b[0;34m:\u001b[0m\u001b[0;34m\u001b[0m\u001b[0;34m\u001b[0m\u001b[0m\n\u001b[0;32m----> 3\u001b[0;31m     \u001b[0mprint\u001b[0m\u001b[0;34m(\u001b[0m\u001b[0mord\u001b[0m\u001b[0;34m(\u001b[0m\u001b[0mstring\u001b[0m\u001b[0;34m)\u001b[0m\u001b[0;34m)\u001b[0m\u001b[0;34m\u001b[0m\u001b[0;34m\u001b[0m\u001b[0m\n\u001b[0m",
      "\u001b[0;31mTypeError\u001b[0m: ord() expected a character, but string of length 0 found"
     ]
    }
   ],
   "source": [
    "s = ['','']\n",
    "for string in s:\n",
    "    print(ord(string))"
   ]
  },
  {
   "cell_type": "code",
   "execution_count": 112,
   "metadata": {},
   "outputs": [],
   "source": [
    "t = range(4)\n",
    "\n",
    "res = [el-2 for el in t]"
   ]
  },
  {
   "cell_type": "code",
   "execution_count": 113,
   "metadata": {},
   "outputs": [
    {
     "name": "stdout",
     "output_type": "stream",
     "text": [
      "[-2, -1, 0, 1]\n"
     ]
    }
   ],
   "source": [
    "print(res)"
   ]
  },
  {
   "cell_type": "code",
   "execution_count": 115,
   "metadata": {},
   "outputs": [
    {
     "name": "stdout",
     "output_type": "stream",
     "text": [
      "-4\n",
      "-3\n",
      "-2\n",
      "-1\n"
     ]
    }
   ],
   "source": [
    "for i in range(-4,0):\n",
    "    print(i)"
   ]
  },
  {
   "cell_type": "code",
   "execution_count": 118,
   "metadata": {},
   "outputs": [
    {
     "name": "stdout",
     "output_type": "stream",
     "text": [
      "[1, 0, -1]\n",
      "[-1, 0, 1]\n"
     ]
    }
   ],
   "source": [
    "n = 3\n",
    "mid = n // 2\n",
    "if n % 2 == 0:\n",
    "    yl = list(range(-mid, 0))\n",
    "    yr = list(range(1, mid+1))\n",
    "    y = yl + yr\n",
    "    x = y[::-1]\n",
    "else:\n",
    "    y = [i-mid for i in range(n)]\n",
    "    x = y[::-1]\n",
    "    \n",
    "print(x)\n",
    "print(y)"
   ]
  },
  {
   "cell_type": "code",
   "execution_count": 119,
   "metadata": {},
   "outputs": [
    {
     "data": {
      "text/plain": [
       "0"
      ]
     },
     "execution_count": 119,
     "metadata": {},
     "output_type": "execute_result"
    }
   ],
   "source": [
    "x.index(1)"
   ]
  },
  {
   "cell_type": "code",
   "execution_count": 120,
   "metadata": {},
   "outputs": [
    {
     "data": {
      "text/plain": [
       "1"
      ]
     },
     "execution_count": 120,
     "metadata": {},
     "output_type": "execute_result"
    }
   ],
   "source": [
    "3//2"
   ]
  },
  {
   "cell_type": "code",
   "execution_count": null,
   "metadata": {},
   "outputs": [],
   "source": [
    "from collections import deque\n",
    "\n",
    "class SMA:\n",
    "\n",
    "\n",
    "\n",
    "    def __init__(self, data_rate, data_rate_type, sma_rate, sma_rate_type):\n",
    "\n",
    "        if data_rate_type == 'm':\n",
    "            if sma_rate_type == 'm':\n",
    "                factor = 1\n",
    "            elif sma_rate_type == 'h':\n",
    "                factor = 60\n",
    "            elif sma_rate_type == 'd':\n",
    "                factor = 1440\n",
    "\n",
    "        sma_rate_scaled = factor * sma_rate\n",
    "\n",
    "        self.q_size = int(sma_rate_scaled / data_rate)\n",
    "\n",
    "        self.data_q = deque(maxlen = self.q_size)\n",
    "\n",
    "        self.avg = float('NaN')\n",
    "\n",
    "\n",
    "    def update(self, val):\n",
    "        if len(self.data_q) < self.q_size - 1:\n",
    "            self.data_q.append(val)\n",
    "            return sum(self.data_q) / len(self.data_q)\n",
    "\n",
    "        if len(self.data_q) == self.q_size - 1:\n",
    "            self.data_q.append(val)\n",
    "            self.avg = sum(self.data_q) / self.q_size\n",
    "            return self.avg\n",
    "\n",
    "\n",
    "        old_head = self.data_q[0]\n",
    "        self.data_q.append(val)\n",
    "        self.avg -= old_head / self.q_size\n",
    "        self.avg += val / self.q_size\n",
    "        return self.avg\n",
    "\n",
    "\n",
    "    def get_sma(self):\n",
    "\n",
    "        if len(self.data_q)< self.q_size:\n",
    "            return float('NaN')\n",
    "\n",
    "        self.avg = sum(self.data_q) / self.q_size\n",
    "\n",
    "        return self.avg"
   ]
  }
 ],
 "metadata": {
  "kernelspec": {
   "display_name": "Python 3",
   "language": "python",
   "name": "python3"
  },
  "language_info": {
   "codemirror_mode": {
    "name": "ipython",
    "version": 3
   },
   "file_extension": ".py",
   "mimetype": "text/x-python",
   "name": "python",
   "nbconvert_exporter": "python",
   "pygments_lexer": "ipython3",
   "version": "3.6.9"
  }
 },
 "nbformat": 4,
 "nbformat_minor": 4
}
