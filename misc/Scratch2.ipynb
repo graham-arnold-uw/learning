{
 "cells": [
  {
   "cell_type": "code",
   "execution_count": 30,
   "metadata": {},
   "outputs": [],
   "source": [
    "from collections import deque\n",
    "\n",
    "class SMA:\n",
    "\n",
    "\n",
    "\n",
    "    def __init__(self, data_rate, data_rate_type, sma_rate, sma_rate_type):\n",
    "\n",
    "        if data_rate_type == 'm':\n",
    "            if sma_rate_type == 'm':\n",
    "                factor = 1\n",
    "            elif sma_rate_type == 'h':\n",
    "                factor = 60\n",
    "            elif sma_rate_type == 'd':\n",
    "                factor = 1440\n",
    "\n",
    "        sma_rate_scaled = factor * sma_rate\n",
    "\n",
    "        self.q_size = int(sma_rate_scaled / data_rate)\n",
    "\n",
    "        self.data_q = deque(maxlen = self.q_size)\n",
    "\n",
    "        self.avg = float('NaN')\n",
    "\n",
    "\n",
    "    def update(self, val):\n",
    "        if len(self.data_q) < self.q_size - 1:\n",
    "            self.data_q.append(val)\n",
    "            return sum(self.data_q) / len(self.data_q)\n",
    "\n",
    "        if len(self.data_q) == self.q_size - 1:\n",
    "            self.data_q.append(val)\n",
    "            self.avg = sum(self.data_q) / self.q_size\n",
    "            return self.avg\n",
    "\n",
    "\n",
    "        old_head = self.data_q[0]\n",
    "        self.data_q.append(val)\n",
    "        self.avg -= old_head / self.q_size\n",
    "        self.avg += val / self.q_size\n",
    "        return self.avg\n",
    "\n",
    "\n",
    "    def get_sma(self):\n",
    "\n",
    "        if len(self.data_q)< self.q_size:\n",
    "            return float('NaN')\n",
    "\n",
    "        self.avg = sum(self.data_q) / self.q_size\n",
    "\n",
    "        return self.avg"
   ]
  },
  {
   "cell_type": "code",
   "execution_count": 31,
   "metadata": {},
   "outputs": [],
   "source": [
    "interval = 5\n",
    "interType = 'm'\n",
    "\n",
    "\n",
    "sma_int = 30\n",
    "smaType = 'm'\n",
    "\n",
    "sma = SMA(interval, interType, sma_int, smaType)\n"
   ]
  },
  {
   "cell_type": "code",
   "execution_count": 32,
   "metadata": {},
   "outputs": [
    {
     "name": "stdout",
     "output_type": "stream",
     "text": [
      "nan\n"
     ]
    }
   ],
   "source": [
    "print(sma.avg)"
   ]
  },
  {
   "cell_type": "code",
   "execution_count": 33,
   "metadata": {},
   "outputs": [
    {
     "name": "stdout",
     "output_type": "stream",
     "text": [
      "1.2\n",
      "1.25\n",
      "1.2666666666666666\n",
      "1.325\n",
      "1.3800000000000001\n",
      "1.4666666666666668\n",
      "1.455\n",
      "1.43\n",
      "\n",
      "1.4666666666666668\n",
      "1.455\n",
      "1.43\n"
     ]
    }
   ],
   "source": [
    "data_stream = [1.2, 1.3, 1.3, 1.5, 1.6, 1.9, 1.13, 1.15]\n",
    "sol1 = sum([1.2, 1.3, 1.3, 1.5, 1.6, 1.9])/6\n",
    "sol2 = sum([1.3, 1.3, 1.5, 1.6, 1.9, 1.13])/6\n",
    "sol3 = sum([1.3, 1.5, 1.6, 1.9, 1.13, 1.15])/6\n",
    "\n",
    "\n",
    "for price in data_stream:\n",
    "    curr_avg = sma.update(price)\n",
    "    print(curr_avg)\n",
    "    \n",
    "    \n",
    "print()\n",
    "print(sol1)\n",
    "print(sol2)\n",
    "print(sol3)\n",
    "    "
   ]
  },
  {
   "cell_type": "code",
   "execution_count": 34,
   "metadata": {},
   "outputs": [
    {
     "name": "stdout",
     "output_type": "stream",
     "text": [
      "1.4666666666666668\n"
     ]
    }
   ],
   "source": [
    "print(sum([1.2, 1.3, 1.3, 1.5, 1.6, 1.9])/ 6)"
   ]
  },
  {
   "cell_type": "code",
   "execution_count": 2,
   "metadata": {},
   "outputs": [
    {
     "data": {
      "text/plain": [
       "'graham'"
      ]
     },
     "execution_count": 2,
     "metadata": {},
     "output_type": "execute_result"
    }
   ],
   "source": [
    "import getpass \n",
    "getpass.getuser()"
   ]
  },
  {
   "cell_type": "code",
   "execution_count": 4,
   "metadata": {},
   "outputs": [
    {
     "name": "stdout",
     "output_type": "stream",
     "text": [
      "home/graham/Desktop/keys/binance\n"
     ]
    }
   ],
   "source": [
    "import os.path\n",
    "username = getpass.getuser()\n",
    "keypath = ['home', username, 'Desktop', 'keys','binance']\n",
    "p = os.path.join(*keypath)\n",
    "print(p)"
   ]
  },
  {
   "cell_type": "code",
   "execution_count": 8,
   "metadata": {},
   "outputs": [
    {
     "name": "stdout",
     "output_type": "stream",
     "text": [
      "[[], [], []]\n"
     ]
    }
   ],
   "source": [
    "t = [[]] * 3\n",
    "\n",
    "print(t)"
   ]
  },
  {
   "cell_type": "code",
   "execution_count": 9,
   "metadata": {},
   "outputs": [
    {
     "name": "stdout",
     "output_type": "stream",
     "text": [
      "[[1], [1], [1]]\n"
     ]
    }
   ],
   "source": [
    "t[0].append(1)\n",
    "print(t)"
   ]
  },
  {
   "cell_type": "code",
   "execution_count": 14,
   "metadata": {},
   "outputs": [
    {
     "name": "stdout",
     "output_type": "stream",
     "text": [
      "140114355896072\n",
      "140114355896072\n",
      "140114355896072\n"
     ]
    }
   ],
   "source": [
    "for el in t:\n",
    "    print(id(el))"
   ]
  },
  {
   "cell_type": "code",
   "execution_count": null,
   "metadata": {},
   "outputs": [],
   "source": []
  }
 ],
 "metadata": {
  "kernelspec": {
   "display_name": "Python 3",
   "language": "python",
   "name": "python3"
  },
  "language_info": {
   "codemirror_mode": {
    "name": "ipython",
    "version": 3
   },
   "file_extension": ".py",
   "mimetype": "text/x-python",
   "name": "python",
   "nbconvert_exporter": "python",
   "pygments_lexer": "ipython3",
   "version": "3.6.9"
  }
 },
 "nbformat": 4,
 "nbformat_minor": 4
}
