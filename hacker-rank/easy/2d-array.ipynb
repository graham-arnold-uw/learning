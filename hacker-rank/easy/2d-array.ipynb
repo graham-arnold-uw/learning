{
 "cells": [
  {
   "cell_type": "markdown",
   "metadata": {},
   "source": [
    "https://www.hackerrank.com/challenges/2d-array/"
   ]
  },
  {
   "cell_type": "code",
   "execution_count": null,
   "metadata": {},
   "outputs": [],
   "source": [
    "#!/bin/python3\n",
    "\n",
    "import math\n",
    "import os\n",
    "import random\n",
    "import re\n",
    "import sys\n",
    "\n",
    "#\n",
    "# Complete the 'hourglassSum' function below.\n",
    "#\n",
    "# The function is expected to return an INTEGER.\n",
    "# The function accepts 2D_INTEGER_ARRAY arr as parameter.\n",
    "#\n",
    "\n",
    "def hourglassSum(arr):\n",
    "    # Write your code here\n",
    "    m = len(arr)\n",
    "    n = len(arr[0])\n",
    "    max_seen = float('-inf')\n",
    "    for center_r in range(0, 4):\n",
    "        for center_c in range(1, 5):\n",
    "            top_sum = arr[center_r][center_c - 1] + arr[center_r][center_c] + arr[center_r][center_c + 1]\n",
    "            mid = arr[center_r + 1][center_c]\n",
    "            bot_sum = arr[center_r + 2][center_c - 1] + arr[center_r + 2][center_c]+ arr[center_r + 2][center_c + 1]\n",
    "            curr_sum = top_sum + mid + bot_sum\n",
    "            print(f\"{center_r} {center_c}\")\n",
    "            max_seen = max(max_seen, curr_sum)\n",
    "    \n",
    "    return max_seen\n",
    "\n",
    "if __name__ == '__main__':\n",
    "    fptr = open(os.environ['OUTPUT_PATH'], 'w')\n",
    "\n",
    "    arr = []\n",
    "\n",
    "    for _ in range(6):\n",
    "        arr.append(list(map(int, input().rstrip().split())))\n",
    "\n",
    "    result = hourglassSum(arr)\n",
    "\n",
    "    fptr.write(str(result) + '\\n')\n",
    "\n",
    "    fptr.close()\n"
   ]
  }
 ],
 "metadata": {
  "kernelspec": {
   "display_name": "Python 3",
   "language": "python",
   "name": "python3"
  },
  "language_info": {
   "codemirror_mode": {
    "name": "ipython",
    "version": 3
   },
   "file_extension": ".py",
   "mimetype": "text/x-python",
   "name": "python",
   "nbconvert_exporter": "python",
   "pygments_lexer": "ipython3",
   "version": "3.6.9"
  }
 },
 "nbformat": 4,
 "nbformat_minor": 4
}
