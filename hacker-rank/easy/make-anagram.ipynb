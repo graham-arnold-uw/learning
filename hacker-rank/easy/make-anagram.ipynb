{
 "cells": [
  {
   "cell_type": "markdown",
   "metadata": {},
   "source": [
    "https://www.hackerrank.com/challenges/ctci-making-anagrams/"
   ]
  },
  {
   "cell_type": "code",
   "execution_count": null,
   "metadata": {},
   "outputs": [],
   "source": [
    "#!/bin/python3\n",
    "\n",
    "import math\n",
    "import os\n",
    "import random\n",
    "import re\n",
    "import sys\n",
    "from collections import defaultdict\n",
    "#\n",
    "# Complete the 'makeAnagram' function below.\n",
    "#\n",
    "# The function is expected to return an INTEGER.\n",
    "# The function accepts following parameters:\n",
    "#  1. STRING a\n",
    "#  2. STRING b\n",
    "#\n",
    "\\\n",
    "def makeAnagram(a, b):\n",
    "    # Write your code here\n",
    "    c_counts = [0 for i in range(26)]\n",
    "    \n",
    "    for char in a:\n",
    "        c_counts[(ord(char) - ord('a'))] += 1\n",
    "        \n",
    "    for char in b:\n",
    "        c_counts[(ord(char) - ord('a'))] -= 1\n",
    "    \n",
    "    num_del = 0\n",
    "    \n",
    "    for c in c_counts:\n",
    "        num_del += abs(c)\n",
    "    \n",
    "    return num_del\n",
    "            \n",
    "\n",
    "if __name__ == '__main__':\n",
    "    fptr = open(os.environ['OUTPUT_PATH'], 'w')\n",
    "\n",
    "    a = input()\n",
    "\n",
    "    b = input()\n",
    "\n",
    "    res = makeAnagram(a, b)\n",
    "\n",
    "    fptr.write(str(res) + '\\n')\n",
    "\n",
    "    fptr.close()\n"
   ]
  }
 ],
 "metadata": {
  "kernelspec": {
   "display_name": "Python 3",
   "language": "python",
   "name": "python3"
  },
  "language_info": {
   "codemirror_mode": {
    "name": "ipython",
    "version": 3
   },
   "file_extension": ".py",
   "mimetype": "text/x-python",
   "name": "python",
   "nbconvert_exporter": "python",
   "pygments_lexer": "ipython3",
   "version": "3.6.9"
  }
 },
 "nbformat": 4,
 "nbformat_minor": 4
}
