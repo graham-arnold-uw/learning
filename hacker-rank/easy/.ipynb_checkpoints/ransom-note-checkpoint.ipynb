{
 "cells": [
  {
   "cell_type": "markdown",
   "metadata": {},
   "source": [
    "https://www.hackerrank.com/challenges/ctci-ransom-note/"
   ]
  },
  {
   "cell_type": "code",
   "execution_count": null,
   "metadata": {},
   "outputs": [],
   "source": [
    "#!/bin/python3\n",
    "\n",
    "import math\n",
    "import os\n",
    "import random\n",
    "import re\n",
    "import sys\n",
    "\n",
    "#\n",
    "# Complete the 'checkMagazine' function below.\n",
    "#\n",
    "# The function accepts following parameters:\n",
    "#  1. STRING_ARRAY magazine\n",
    "#  2. STRING_ARRAY note\n",
    "#\n",
    "\n",
    "def checkMagazine(magazine, note):\n",
    "    # Write your code here\n",
    "\n",
    "if __name__ == '__main__':\n",
    "    first_multiple_input = input().rstrip().split()\n",
    "\n",
    "    m = int(first_multiple_input[0])\n",
    "\n",
    "    n = int(first_multiple_input[1])\n",
    "\n",
    "    magazine = input().rstrip().split()\n",
    "\n",
    "    note = input().rstrip().split()\n",
    "\n",
    "    checkMagazine(magazine, note)\n"
   ]
  }
 ],
 "metadata": {
  "kernelspec": {
   "display_name": "Python 3",
   "language": "python",
   "name": "python3"
  },
  "language_info": {
   "codemirror_mode": {
    "name": "ipython",
    "version": 3
   },
   "file_extension": ".py",
   "mimetype": "text/x-python",
   "name": "python",
   "nbconvert_exporter": "python",
   "pygments_lexer": "ipython3",
   "version": "3.6.9"
  }
 },
 "nbformat": 4,
 "nbformat_minor": 4
}
