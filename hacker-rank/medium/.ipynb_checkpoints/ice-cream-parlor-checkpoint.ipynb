{
 "cells": [
  {
   "cell_type": "markdown",
   "metadata": {},
   "source": [
    "https://www.hackerrank.com/challenges/ctci-ice-cream-parlor/"
   ]
  },
  {
   "cell_type": "code",
   "execution_count": null,
   "metadata": {},
   "outputs": [],
   "source": [
    "#!/bin/python3\n",
    "\n",
    "import math\n",
    "import os\n",
    "import random\n",
    "import re\n",
    "import sys\n",
    "\n",
    "#\n",
    "# Complete the 'whatFlavors' function below.\n",
    "#\n",
    "# The function accepts following parameters:\n",
    "#  1. INTEGER_ARRAY cost\n",
    "#  2. INTEGER money\n",
    "#\n",
    "\n",
    "def whatFlavors(cost, money):\n",
    "    n = len(cost)\n",
    "    to_be_seen = {} #needed cost : partner index\n",
    "    for i in range(n):\n",
    "        if cost[i] in to_be_seen:\n",
    "            other_idx = to_be_seen[cost[i]]\n",
    "            print(f\"{other_idx + 1} {i + 1}\")\n",
    "            return\n",
    "        if money - cost[i] > 0:\n",
    "            to_be_seen[money - cost[i]] = i\n",
    "    return\n",
    "if __name__ == '__main__':\n",
    "    t = int(input().strip())\n",
    "\n",
    "    for t_itr in range(t):\n",
    "        money = int(input().strip())\n",
    "\n",
    "        n = int(input().strip())\n",
    "\n",
    "        cost = list(map(int, input().rstrip().split()))\n",
    "\n",
    "        whatFlavors(cost, money)\n"
   ]
  }
 ],
 "metadata": {
  "kernelspec": {
   "display_name": "Python 3",
   "language": "python",
   "name": "python3"
  },
  "language_info": {
   "codemirror_mode": {
    "name": "ipython",
    "version": 3
   },
   "file_extension": ".py",
   "mimetype": "text/x-python",
   "name": "python",
   "nbconvert_exporter": "python",
   "pygments_lexer": "ipython3",
   "version": "3.6.9"
  }
 },
 "nbformat": 4,
 "nbformat_minor": 4
}
