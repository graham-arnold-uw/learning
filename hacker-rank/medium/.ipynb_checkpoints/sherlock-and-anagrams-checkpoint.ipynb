{
 "cells": [
  {
   "cell_type": "markdown",
   "metadata": {},
   "source": [
    "https://www.hackerrank.com/challenges/sherlock-and-anagrams/problem"
   ]
  },
  {
   "cell_type": "code",
   "execution_count": null,
   "metadata": {},
   "outputs": [],
   "source": [
    "#!/bin/python3\n",
    "\n",
    "import math\n",
    "import os\n",
    "import random\n",
    "import re\n",
    "import sys\n",
    "from collections import defaultdict\n",
    "#\n",
    "# Complete the 'sherlockAndAnagrams' function below.\n",
    "#\n",
    "# The function is expected to return an INTEGER.\n",
    "# The function accepts STRING s as parameter.\n",
    "#\n",
    "\n",
    "def sherlockAndAnagrams(s):\n",
    "    # Write your code here\n",
    "    n = len(s)\n",
    "    \n",
    "    ss_freqs = defaultdict(int)\n",
    "    \n",
    "    for i in range(n):\n",
    "        for j in range(i,n):\n",
    "            curr_ss = s[i:j + 1]\n",
    "            ss_hash = get_ss_hash(curr_ss)\n",
    "            ss_freqs[ss_hash] += 1\n",
    "    \n",
    "    total = 0\n",
    "    \n",
    "    for k in ss_freqs:\n",
    "        count = ss_freqs[k]\n",
    "        if count > 1:\n",
    "            c_count = calc_combination(count)\n",
    "            total += c_count\n",
    "    \n",
    "    return int(total)\n",
    "        \n",
    "def calc_combination(count):\n",
    "    return math.factorial(count) / (math.factorial(2) * math.factorial(count - 2))\n",
    "    \n",
    "        \n",
    "            \n",
    "def get_ss_hash(ss):\n",
    "    freqs = [0 for i in range(26)]\n",
    "    \n",
    "    for c in ss:\n",
    "        ci = ord(c) - ord('a')\n",
    "        freqs[ci] += 1\n",
    "    \n",
    "    return tuple(freqs)\n",
    "            \n",
    "if __name__ == '__main__':\n",
    "    fptr = open(os.environ['OUTPUT_PATH'], 'w')\n",
    "\n",
    "    q = int(input().strip())\n",
    "\n",
    "    for q_itr in range(q):\n",
    "        s = input()\n",
    "\n",
    "        result = sherlockAndAnagrams(s)\n",
    "\n",
    "        fptr.write(str(result) + '\\n')\n",
    "\n",
    "    fptr.close()\n"
   ]
  }
 ],
 "metadata": {
  "kernelspec": {
   "display_name": "Python 3",
   "language": "python",
   "name": "python3"
  },
  "language_info": {
   "codemirror_mode": {
    "name": "ipython",
    "version": 3
   },
   "file_extension": ".py",
   "mimetype": "text/x-python",
   "name": "python",
   "nbconvert_exporter": "python",
   "pygments_lexer": "ipython3",
   "version": "3.6.9"
  }
 },
 "nbformat": 4,
 "nbformat_minor": 4
}
