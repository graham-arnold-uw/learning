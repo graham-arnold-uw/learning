{
 "cells": [
  {
   "cell_type": "markdown",
   "metadata": {},
   "source": [
    "https://www.hackerrank.com/challenges/special-palindrome-again/"
   ]
  },
  {
   "cell_type": "markdown",
   "metadata": {},
   "source": [
    "# Seems to be working but Time Limit Exceeded :("
   ]
  },
  {
   "cell_type": "code",
   "execution_count": null,
   "metadata": {},
   "outputs": [],
   "source": [
    "#!/bin/python3\n",
    "\n",
    "import math\n",
    "import os\n",
    "import random\n",
    "import re\n",
    "import sys\n",
    "from collections import defaultdict\n",
    "\n",
    "# Complete the substrCount function below.\n",
    "def substrCount(n, s):\n",
    "    \n",
    "    count = 0\n",
    "    for i in range(n):\n",
    "        \n",
    "        freqs = defaultdict(int) #dictionary to hold char frequencies of current substring window\n",
    "        freqs[s[i]] += 1\n",
    "        count += 1                #every single character substring is valid\n",
    "        unique_ct = 1             #dict now has one unique char for current substring\n",
    "        for j in range(i + 1, n):\n",
    "            freqs[s[j]] += 1\n",
    "            if freqs[s[j]] == 1: \n",
    "                unique_ct += 1\n",
    "                \n",
    "            if unique_ct == 1:\n",
    "                count += 1\n",
    "                #print('single freq found')\n",
    "                #print(s[i:j+1])\n",
    "                #print()\n",
    "            elif unique_ct == 2:\n",
    "                \n",
    "                ss_len = j - i + 1\n",
    "                if ss_len % 2 == 1:\n",
    "                    #print(s[i:j+1])\n",
    "                    m = ss_len // 2\n",
    "                    tar_idx = i + m\n",
    "                    #print(f\"m = {m}\")\n",
    "                    #print(s[m])\n",
    "                    #print(freqs[s[m]])\n",
    "                    if freqs[s[tar_idx]] == 1:\n",
    "                        #print('middle freq found')\n",
    "                        #print(s[i:j+1])\n",
    "                        #print()\n",
    "                        count += 1\n",
    "    return count\n",
    "                        \n",
    "                \n",
    "if __name__ == '__main__':\n",
    "    fptr = open(os.environ['OUTPUT_PATH'], 'w')\n",
    "\n",
    "    n = int(input())\n",
    "\n",
    "    s = input()\n",
    "\n",
    "    result = substrCount(n, s)\n",
    "\n",
    "    fptr.write(str(result) + '\\n')\n",
    "\n",
    "    fptr.close()\n"
   ]
  }
 ],
 "metadata": {
  "kernelspec": {
   "display_name": "Python 3",
   "language": "python",
   "name": "python3"
  },
  "language_info": {
   "codemirror_mode": {
    "name": "ipython",
    "version": 3
   },
   "file_extension": ".py",
   "mimetype": "text/x-python",
   "name": "python",
   "nbconvert_exporter": "python",
   "pygments_lexer": "ipython3",
   "version": "3.6.9"
  }
 },
 "nbformat": 4,
 "nbformat_minor": 4
}
