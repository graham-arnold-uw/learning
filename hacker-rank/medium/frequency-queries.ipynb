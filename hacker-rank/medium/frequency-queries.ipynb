{
 "cells": [
  {
   "cell_type": "markdown",
   "metadata": {},
   "source": [
    "https://www.hackerrank.com/challenges/frequency-queries/"
   ]
  },
  {
   "cell_type": "code",
   "execution_count": null,
   "metadata": {},
   "outputs": [],
   "source": [
    "#!/bin/python3\n",
    "\n",
    "import math\n",
    "import os\n",
    "import random\n",
    "import re\n",
    "import sys\n",
    "from collections import defaultdict\n",
    "# Complete the freqQuery function below.\n",
    "def freqQuery(queries):\n",
    "    res = []\n",
    "    q_map = defaultdict(int)\n",
    "    len_ct = defaultdict(int)\n",
    "    \n",
    "    \n",
    "    for qtype, qval in queries:\n",
    "        if qtype == 1:\n",
    "            len_ct[q_map[qval]] -= 1\n",
    "            q_map[qval] += 1\n",
    "            len_ct[q_map[qval]] += 1\n",
    "        elif qtype == 2:\n",
    "            if q_map[qval] > 0:\n",
    "                len_ct[q_map[qval]] -= 1\n",
    "                q_map[qval] -= 1\n",
    "                len_ct[q_map[qval]] += 1\n",
    "            #check if freq > 0\n",
    "            #reduce len_ct[freq]\n",
    "            #add to len_ct[freq - 1]\n",
    "        else:\n",
    "            #if len_ct[tar_ct] > 0 print 1 or else 0\n",
    "            if len_ct[qval] > 0:\n",
    "                res.append(1)\n",
    "            else:\n",
    "                res.append(0)\n",
    "    return res\n",
    "\n",
    "    \n",
    "    \n",
    "if __name__ == '__main__':\n",
    "    fptr = open(os.environ['OUTPUT_PATH'], 'w')\n",
    "\n",
    "    q = int(input().strip())\n",
    "\n",
    "    queries = []\n",
    "\n",
    "    for _ in range(q):\n",
    "        queries.append(list(map(int, input().rstrip().split())))\n",
    "\n",
    "    ans = freqQuery(queries)\n",
    "\n",
    "    fptr.write('\\n'.join(map(str, ans)))\n",
    "    fptr.write('\\n')\n",
    "\n",
    "    fptr.close()\n"
   ]
  }
 ],
 "metadata": {
  "kernelspec": {
   "display_name": "Python 3",
   "language": "python",
   "name": "python3"
  },
  "language_info": {
   "codemirror_mode": {
    "name": "ipython",
    "version": 3
   },
   "file_extension": ".py",
   "mimetype": "text/x-python",
   "name": "python",
   "nbconvert_exporter": "python",
   "pygments_lexer": "ipython3",
   "version": "3.6.9"
  }
 },
 "nbformat": 4,
 "nbformat_minor": 4
}
