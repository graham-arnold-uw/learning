{
 "cells": [
  {
   "cell_type": "markdown",
   "metadata": {},
   "source": [
    "https://www.hackerrank.com/challenges/pairs/"
   ]
  },
  {
   "cell_type": "code",
   "execution_count": null,
   "metadata": {},
   "outputs": [],
   "source": []
  },
  {
   "cell_type": "code",
   "execution_count": null,
   "metadata": {},
   "outputs": [],
   "source": [
    "#!/bin/python3\n",
    "\n",
    "import math\n",
    "import os\n",
    "import random\n",
    "import re\n",
    "import sys\n",
    "from collections import defaultdict\n",
    "#\n",
    "# Complete the 'pairs' function below.\n",
    "#\n",
    "# The function is expected to return an INTEGER.\n",
    "# The function accepts following parameters:\n",
    "#  1. INTEGER k\n",
    "#  2. INTEGER_ARRAY arr\n",
    "#\n",
    "\n",
    "def pairs(k, arr):\n",
    "    # Write your code here\n",
    "    match_freqs = defaultdict(int)\n",
    "    n = len(arr)\n",
    "    pair_ct = 0\n",
    "    if n == 1:\n",
    "        return pair_ct\n",
    "    match_freqs[arr[0]] += 1\n",
    "    for i in range(1, n):\n",
    "        curr_el = arr[i]\n",
    "        el_match_lower = curr_el - k\n",
    "        el_match_higher = k + curr_el\n",
    "        match_freq_lower = match_freqs[el_match_lower]\n",
    "        match_freq_higher = match_freqs[el_match_higher]\n",
    "        pair_ct += match_freq_lower\n",
    "        pair_ct += match_freq_higher\n",
    "        match_freqs[curr_el] += 1\n",
    "            \n",
    "    return pair_ct\n",
    "\n",
    "if __name__ == '__main__':\n",
    "    fptr = open(os.environ['OUTPUT_PATH'], 'w')\n",
    "\n",
    "    first_multiple_input = input().rstrip().split()\n",
    "\n",
    "    n = int(first_multiple_input[0])\n",
    "\n",
    "    k = int(first_multiple_input[1])\n",
    "\n",
    "    arr = list(map(int, input().rstrip().split()))\n",
    "\n",
    "    result = pairs(k, arr)\n",
    "\n",
    "    fptr.write(str(result) + '\\n')\n",
    "\n",
    "    fptr.close()\n"
   ]
  }
 ],
 "metadata": {
  "kernelspec": {
   "display_name": "Python 3",
   "language": "python",
   "name": "python3"
  },
  "language_info": {
   "codemirror_mode": {
    "name": "ipython",
    "version": 3
   },
   "file_extension": ".py",
   "mimetype": "text/x-python",
   "name": "python",
   "nbconvert_exporter": "python",
   "pygments_lexer": "ipython3",
   "version": "3.6.9"
  }
 },
 "nbformat": 4,
 "nbformat_minor": 4
}
