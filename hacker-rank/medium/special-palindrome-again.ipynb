{
 "cells": [
  {
   "cell_type": "markdown",
   "metadata": {},
   "source": [
    "https://www.hackerrank.com/challenges/special-palindrome-again/"
   ]
  },
  {
   "cell_type": "markdown",
   "metadata": {},
   "source": [
    "# Seems to be working but Time Limit Exceeded :("
   ]
  },
  {
   "cell_type": "code",
   "execution_count": null,
   "metadata": {},
   "outputs": [],
   "source": [
    "#!/bin/python3\n",
    "\n",
    "import math\n",
    "import os\n",
    "import random\n",
    "import re\n",
    "import sys\n",
    "from collections import defaultdict\n",
    "\n",
    "# Complete the substrCount function below.\n",
    "def substrCount(n, s):\n",
    "    \n",
    "    count = 0\n",
    "    for i in range(n):\n",
    "        \n",
    "        freqs = defaultdict(int) #dictionary to hold char frequencies of current substring window\n",
    "        freqs[s[i]] += 1\n",
    "        count += 1                #every single character substring is valid\n",
    "        unique_ct = 1             #dict now has one unique char for current substring\n",
    "        for j in range(i + 1, n):\n",
    "            freqs[s[j]] += 1\n",
    "            if freqs[s[j]] == 1: \n",
    "                unique_ct += 1\n",
    "                \n",
    "            if unique_ct == 1:\n",
    "                count += 1\n",
    "                #print('single freq found')\n",
    "                #print(s[i:j+1])\n",
    "                #print()\n",
    "            elif unique_ct == 2:\n",
    "                \n",
    "                ss_len = j - i + 1\n",
    "                if ss_len % 2 == 1:\n",
    "                    #print(s[i:j+1])\n",
    "                    m = ss_len // 2\n",
    "                    tar_idx = i + m\n",
    "                    #print(f\"m = {m}\")\n",
    "                    #print(s[m])\n",
    "                    #print(freqs[s[m]])\n",
    "                    if freqs[s[tar_idx]] == 1:\n",
    "                        #print('middle freq found')\n",
    "                        #print(s[i:j+1])\n",
    "                        #print()\n",
    "                        count += 1\n",
    "    return count\n",
    "                        \n",
    "                \n",
    "if __name__ == '__main__':\n",
    "    fptr = open(os.environ['OUTPUT_PATH'], 'w')\n",
    "\n",
    "    n = int(input())\n",
    "\n",
    "    s = input()\n",
    "\n",
    "    result = substrCount(n, s)\n",
    "\n",
    "    fptr.write(str(result) + '\\n')\n",
    "\n",
    "    fptr.close()\n"
   ]
  },
  {
   "cell_type": "markdown",
   "metadata": {},
   "source": [
    "# Accepted sliding window approach"
   ]
  },
  {
   "cell_type": "code",
   "execution_count": null,
   "metadata": {},
   "outputs": [],
   "source": [
    "#!/bin/python3\n",
    "\n",
    "import math\n",
    "import os\n",
    "import random\n",
    "import re\n",
    "import sys\n",
    "from collections import defaultdict\n",
    "\n",
    "# Complete the substrCount function below.\n",
    "def substrCount(n, s):\n",
    "    \n",
    "    if n == 1:\n",
    "        return 1\n",
    "    \n",
    "    ws = 0\n",
    "    we = 0\n",
    "    count = 0\n",
    "    #get individual counts\n",
    "    while we < n:\n",
    "        while we < n and s[ws] == s[we]:\n",
    "            we += 1\n",
    "        run_len = we - ws\n",
    "        comb = (run_len * (run_len + 1)) // 2\n",
    "        count += comb\n",
    "        ws = we\n",
    "    #print(count)     \n",
    "    #get  middle counts\n",
    "    #lw = 0\n",
    "    mw = 1\n",
    "    #rw = 2\n",
    "    if n > 2:\n",
    "        while mw < n - 1:\n",
    "            lw = mw - 1\n",
    "            rw = mw + 1\n",
    "            if s[lw] == s[rw] and s[lw] != s[mw]:\n",
    "                og = s[lw]\n",
    "                while lw >= 0 and rw < n and s[lw] == s[rw] == og:\n",
    "                    print(\"current middle candidate\")\n",
    "                    print(s[lw:rw + 1])\n",
    "                    count += 1\n",
    "                    lw -= 1\n",
    "                    rw += 1\n",
    "            mw += 1\n",
    "    \n",
    "    return count\n",
    "                        \n",
    "                \n",
    "if __name__ == '__main__':\n",
    "    fptr = open(os.environ['OUTPUT_PATH'], 'w')\n",
    "\n",
    "    n = int(input())\n",
    "\n",
    "    s = input()\n",
    "\n",
    "    result = substrCount(n, s)\n",
    "\n",
    "    fptr.write(str(result) + '\\n')\n",
    "\n",
    "    fptr.close()\n"
   ]
  },
  {
   "cell_type": "code",
   "execution_count": 2,
   "metadata": {},
   "outputs": [
    {
     "data": {
      "text/plain": [
       "2"
      ]
     },
     "execution_count": 2,
     "metadata": {},
     "output_type": "execute_result"
    }
   ],
   "source": [
    "14 % 4"
   ]
  },
  {
   "cell_type": "code",
   "execution_count": null,
   "metadata": {},
   "outputs": [],
   "source": []
  }
 ],
 "metadata": {
  "kernelspec": {
   "display_name": "Python 3",
   "language": "python",
   "name": "python3"
  },
  "language_info": {
   "codemirror_mode": {
    "name": "ipython",
    "version": 3
   },
   "file_extension": ".py",
   "mimetype": "text/x-python",
   "name": "python",
   "nbconvert_exporter": "python",
   "pygments_lexer": "ipython3",
   "version": "3.6.9"
  }
 },
 "nbformat": 4,
 "nbformat_minor": 4
}
