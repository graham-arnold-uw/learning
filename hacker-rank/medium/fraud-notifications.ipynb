{
 "cells": [
  {
   "cell_type": "markdown",
   "metadata": {},
   "source": [
    "https://www.hackerrank.com/challenges/fraudulent-activity-notifications/"
   ]
  },
  {
   "cell_type": "markdown",
   "metadata": {},
   "source": [
    "# Solution is too slow"
   ]
  },
  {
   "cell_type": "code",
   "execution_count": null,
   "metadata": {},
   "outputs": [],
   "source": [
    "#!/bin/python3\n",
    "\n",
    "import math\n",
    "import os\n",
    "import random\n",
    "import re\n",
    "import sys\n",
    "\n",
    "#\n",
    "# Complete the 'activityNotifications' function below.\n",
    "#\n",
    "# The function is expected to return an INTEGER.\n",
    "# The function accepts following parameters:\n",
    "#  1. INTEGER_ARRAY expenditure\n",
    "#  2. INTEGER d\n",
    "#\n",
    "\n",
    "def activityNotifications(expenditure, d):\n",
    "    n = len(expenditure)\n",
    "    \n",
    "    if n <= d:\n",
    "        return 0\n",
    "    \n",
    "    ws = 0\n",
    "    we = d\n",
    "    flagged = 0\n",
    "    \n",
    "    while we < n:\n",
    "        curr_t = expenditure[we]\n",
    "        wind = expenditure[ws:we]\n",
    "        wind_s = sorted(wind)\n",
    "        #print(f\"sorted window {wind_s}\")\n",
    "        if len(wind_s) % 2 == 0:\n",
    "            m1 = (len(wind_s) - 1) // 2\n",
    "            m2 = len(wind_s) // 2\n",
    "            m = (wind_s[m1] + wind_s[m2]) / 2\n",
    "        else:\n",
    "            m = wind_s[len(wind_s) // 2]\n",
    "           \n",
    "        #print(f\"current median {m}\")\n",
    "        if curr_t >= 2 * m:\n",
    "            flagged += 1\n",
    "        \n",
    "        ws += 1\n",
    "        we += 1\n",
    "        \n",
    "    return flagged\n",
    "if __name__ == '__main__':\n",
    "    fptr = open(os.environ['OUTPUT_PATH'], 'w')\n",
    "\n",
    "    first_multiple_input = input().rstrip().split()\n",
    "\n",
    "    n = int(first_multiple_input[0])\n",
    "\n",
    "    d = int(first_multiple_input[1])\n",
    "\n",
    "    expenditure = list(map(int, input().rstrip().split()))\n",
    "\n",
    "    result = activityNotifications(expenditure, d)\n",
    "\n",
    "    fptr.write(str(result) + '\\n')\n",
    "\n",
    "    fptr.close()\n"
   ]
  },
  {
   "cell_type": "code",
   "execution_count": 1,
   "metadata": {},
   "outputs": [
    {
     "name": "stdout",
     "output_type": "stream",
     "text": [
      "{'zero': 1, 'one': 1, 'two': 1, 'three': 1, 'four': 1, 'five': 1, 'six': 1, 'seven': 1, 'eight': 1, 'nine': 1}\n"
     ]
    }
   ],
   "source": [
    "dig_words = ['zero','one', 'two', 'three','four','five','six','seven','eight','nine']\n",
    "dig_act = [1 for i in range(10)]\n",
    "dig_zip = zip(dig_words,dig_act)\n",
    "dig_dict = dict(dig_zip)\n",
    "print(dig_dict)"
   ]
  },
  {
   "cell_type": "code",
   "execution_count": null,
   "metadata": {},
   "outputs": [],
   "source": []
  }
 ],
 "metadata": {
  "kernelspec": {
   "display_name": "Python 3",
   "language": "python",
   "name": "python3"
  },
  "language_info": {
   "codemirror_mode": {
    "name": "ipython",
    "version": 3
   },
   "file_extension": ".py",
   "mimetype": "text/x-python",
   "name": "python",
   "nbconvert_exporter": "python",
   "pygments_lexer": "ipython3",
   "version": "3.6.9"
  }
 },
 "nbformat": 4,
 "nbformat_minor": 4
}
